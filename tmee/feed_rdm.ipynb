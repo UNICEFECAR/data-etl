{
 "metadata": {
  "language_info": {
   "codemirror_mode": {
    "name": "ipython",
    "version": 3
   },
   "file_extension": ".py",
   "mimetype": "text/x-python",
   "name": "python",
   "nbconvert_exporter": "python",
   "pygments_lexer": "ipython3",
   "version": "3.8.5-final"
  },
  "orig_nbformat": 2,
  "kernelspec": {
   "name": "python3",
   "display_name": "Python 3",
   "language": "python"
  }
 },
 "nbformat": 4,
 "nbformat_minor": 2,
 "cells": [
  {
   "source": [
    "#### Objective: feed TMEE indicators into UNICEF rdm"
   ],
   "cell_type": "markdown",
   "metadata": {}
  },
  {
   "cell_type": "code",
   "execution_count": null,
   "metadata": {},
   "outputs": [],
   "source": [
    "import pandas as pd\n",
    "from utils import get_API_code_address_etc\n",
    "import numpy as np\n",
    "import re\n",
    "# get_codelist_API_legacy"
   ]
  },
  {
   "source": [
    "##### RDM bulk upload (indicators and attributes): https://rdm.unicef.org/Documentation (as of 03/Feb/21)"
   ],
   "cell_type": "markdown",
   "metadata": {}
  },
  {
   "cell_type": "code",
   "execution_count": null,
   "metadata": {},
   "outputs": [],
   "source": [
    "# data from UNICEF rdm indicators: hierachy (agencies, sector, domains, subdomains) and attributes\n",
    "rdm_attributes_file = \"./rdm/RDM_agency_sector_domain_attribute.xlsx\"\n",
    "agency_df = pd.read_excel(rdm_attributes_file, sheet_name=0, header=1, usecols=\"B:E\")\n",
    "sector_df = pd.read_excel(rdm_attributes_file, sheet_name=1, header=1, usecols=\"B:G\")\n",
    "domain_df = pd.read_excel(rdm_attributes_file, sheet_name=2, header=1, usecols=\"B:G\")\n",
    "attrib_df = pd.read_excel(rdm_attributes_file, sheet_name=3, header=1, usecols=\"B:E\")"
   ]
  },
  {
   "source": [
    "##### Data from TMEE ETL (Data Dictionary + Legacy metadata)"
   ],
   "cell_type": "markdown",
   "metadata": {}
  },
  {
   "cell_type": "code",
   "execution_count": null,
   "metadata": {},
   "outputs": [],
   "source": [
    "# excel data-dictionary\n",
    "data_dict_file = \"./data_in/data_dictionary/indicator_dictionary_TM_v5.xlsx\"\n",
    "# get indicators that are extracted by API\n",
    "api_code_addr_df = get_API_code_address_etc(data_dict_file)"
   ]
  },
  {
   "cell_type": "code",
   "execution_count": null,
   "metadata": {},
   "outputs": [],
   "source": [
    "# path to file with legacy indicators meta data (age, sex, code, units)\n",
    "path_legacy = \"./data_in/legacy_data/content_legacy_codes_v3.csv\"\n",
    "legacy_metadata = pd.read_csv(path_legacy, dtype=str)"
   ]
  },
  {
   "cell_type": "code",
   "execution_count": null,
   "metadata": {},
   "outputs": [],
   "source": [
    "# legacy metadata processes up to codes (for SDMX load)\n",
    "# indicators codelist still contains some manual inputs (file below)\n",
    "ind_codes_file = \"./data_out/codelists/CL_TMEE_INDICATORS.csv\"\n",
    "ind_codelist = pd.read_csv(ind_codes_file, dtype=str)"
   ]
  },
  {
   "source": [
    "#### Conform the First bulk upload file: indicators"
   ],
   "cell_type": "markdown",
   "metadata": {}
  },
  {
   "cell_type": "code",
   "execution_count": null,
   "metadata": {},
   "outputs": [],
   "source": [
    "indicator_columns = [\n",
    "    \"HelixCode\",\n",
    "    \"English Name\",\n",
    "    \"Agency Code\",\n",
    "    \"Sector Name\",\n",
    "    \"Domain Name\",\n",
    "    \"is Published\",\n",
    "]\n",
    "indicator_upload = pd.DataFrame(columns=indicator_columns)"
   ]
  },
  {
   "cell_type": "code",
   "execution_count": null,
   "metadata": {},
   "outputs": [],
   "source": [
    "# add indicators retrieved by API\n",
    "api_code_addr_df.rename(columns={\"Code\":\"HelixCode\",\"Indicator_name\":\"English Name\"}, inplace=True)\n",
    "indicator_upload = indicator_upload.append(api_code_addr_df[[\"HelixCode\", \"English Name\"]],ignore_index=True)"
   ]
  },
  {
   "cell_type": "code",
   "execution_count": null,
   "metadata": {},
   "outputs": [],
   "source": [
    "# make sure we don't bring nan's into indicator_upload.HelixCode\n",
    "logic_not_nan = indicator_upload.HelixCode.notna()\n",
    "# indicators from codelist that are not from API (legacy)\n",
    "legacy_ind = np.setdiff1d(ind_codelist.Code, indicator_upload.HelixCode[logic_not_nan])\n",
    "# array with logics\n",
    "all_leg_logics = [ind_codelist.Code == code for code in legacy_ind]\n",
    "red_leg_logics = np.logical_or.reduce(all_leg_logics)\n",
    "# rename for append later\n",
    "ind_codelist.rename(columns={\"Code\":\"HelixCode\",\"Indicator_name\":\"English Name\"}, inplace=True)"
   ]
  },
  {
   "cell_type": "code",
   "execution_count": null,
   "metadata": {},
   "outputs": [],
   "source": [
    "# add indicators processed from Excel TMEE dissemination (or \"legacy\")\n",
    "indicator_upload = indicator_upload.append(ind_codelist[red_leg_logics],ignore_index=True)\n",
    "# easy set: all are published\n",
    "indicator_upload[\"is Published\"] = True"
   ]
  },
  {
   "source": [
    "##### Agency ECARO for those not Helix (else UNICEF)"
   ],
   "cell_type": "markdown",
   "metadata": {}
  },
  {
   "cell_type": "code",
   "execution_count": null,
   "metadata": {},
   "outputs": [],
   "source": [
    "# get Helix from Data_Source\n",
    "source_helix = api_code_addr_df.Data_Source.str.contains(\"Helix\")\n",
    "# get codes from indicators originally in helix\n",
    "org_code_helix = api_code_addr_df.HelixCode[source_helix].values\n",
    "# array with logics helix\n",
    "all_helix_logics = [indicator_upload.HelixCode == code for code in org_code_helix]\n",
    "red_helix_logics = np.logical_or.reduce(all_helix_logics)"
   ]
  },
  {
   "cell_type": "code",
   "execution_count": null,
   "metadata": {},
   "outputs": [],
   "source": [
    "# set indicators from Helix as UNICEF Agency\n",
    "indicator_upload[\"Agency Code\"][red_helix_logics] = \"UNICEF\"\n",
    "# set remaining indicators as ECARO Agency\n",
    "indicator_upload[\"Agency Code\"][~red_helix_logics] = \"ECARO\""
   ]
  },
  {
   "source": [
    "##### Assign Sector and Domain for ECARO indicators: Education"
   ],
   "cell_type": "markdown",
   "metadata": {}
  },
  {
   "cell_type": "code",
   "execution_count": null,
   "metadata": {},
   "outputs": [],
   "source": [
    "# start with the easy ones, Sector Education (Domain Education)\n",
    "# get Education from Theme\n",
    "edu_theme = api_code_addr_df.Theme == \"Education\"\n",
    "# get codes from indicators with Education Theme\n",
    "edu_codes = api_code_addr_df.HelixCode[edu_theme].values\n",
    "# array with logics Education\n",
    "edu_logics = [indicator_upload.HelixCode == code for code in edu_codes]\n",
    "red_edu_logics = np.logical_or.reduce(edu_logics)\n",
    "# get only edu that are ecaro\n",
    "edu_and_ecaro = red_edu_logics & (~red_helix_logics)"
   ]
  },
  {
   "cell_type": "code",
   "execution_count": null,
   "metadata": {},
   "outputs": [],
   "source": [
    "# set indicators Sector and Domain Education\n",
    "indicator_upload[\"Sector Name\"][edu_and_ecaro] = \"Education\"\n",
    "indicator_upload[\"Domain Name\"][edu_and_ecaro] = \"Education\""
   ]
  },
  {
   "cell_type": "code",
   "execution_count": null,
   "metadata": {},
   "outputs": [],
   "source": [
    "# add disabilities in Education from TM legacy (not in dictionary)\n",
    "# get EDU_ from legacy metadata\n",
    "edu_in_legacy = legacy_metadata.code.str.contains(\"EDU_\")\n",
    "# get codes from indicators EDU in legacy\n",
    "edu_leg_codes = legacy_metadata.code[edu_in_legacy].unique()\n",
    "# array with logics Education in legacy\n",
    "edu_leg_logics = [indicator_upload.HelixCode == code for code in edu_leg_codes]\n",
    "red_edu_leg_logics = np.logical_or.reduce(edu_leg_logics)"
   ]
  },
  {
   "cell_type": "code",
   "execution_count": null,
   "metadata": {},
   "outputs": [],
   "source": [
    "# set indicators Sector and Domain Education for Legacy Education\n",
    "indicator_upload[\"Sector Name\"][red_edu_leg_logics] = \"Education\"\n",
    "indicator_upload[\"Domain Name\"][red_edu_leg_logics] = \"Education\""
   ]
  },
  {
   "source": [
    "##### Assign Sector and Domain for ECARO indicators: Demography"
   ],
   "cell_type": "markdown",
   "metadata": {}
  },
  {
   "cell_type": "code",
   "execution_count": null,
   "metadata": {},
   "outputs": [],
   "source": [
    "# Population Theme should go to Sector Demography (Domain Demography)\n",
    "# get Population from Theme\n",
    "pop_theme = api_code_addr_df.Theme == \"Population\"\n",
    "# get codes from indicators with Population Theme\n",
    "pop_codes = api_code_addr_df.HelixCode[pop_theme].values\n",
    "# array with logics Population\n",
    "pop_logics = [indicator_upload.HelixCode == code for code in pop_codes]\n",
    "red_pop_logics = np.logical_or.reduce(pop_logics)\n",
    "# get only pop that are ecaro - none as of 05 Feb 2021 (may come in future updates)\n",
    "pop_and_ecaro = red_pop_logics & (~red_helix_logics)"
   ]
  },
  {
   "cell_type": "code",
   "execution_count": null,
   "metadata": {},
   "outputs": [],
   "source": [
    "# set indicators Sector and Domain Demography\n",
    "indicator_upload[\"Sector Name\"][pop_and_ecaro] = \"Demography\"\n",
    "# set remaining indicators as ECARO Agency\n",
    "indicator_upload[\"Domain Name\"][pop_and_ecaro] = \"Demography\""
   ]
  },
  {
   "cell_type": "code",
   "execution_count": null,
   "metadata": {},
   "outputs": [],
   "source": [
    "# add Demography from TM legacy (not in dictionary)\n",
    "# get DM_ from legacy metadata\n",
    "dm_in_legacy = legacy_metadata.code.str.contains(\"DM_\")\n",
    "# get codes from indicators DM in legacy\n",
    "dm_leg_codes = legacy_metadata.code[dm_in_legacy].unique()\n",
    "# array with logics Demography in legacy\n",
    "dm_leg_logics = [indicator_upload.HelixCode == code for code in dm_leg_codes]\n",
    "red_dm_leg_logics = np.logical_or.reduce(dm_leg_logics)"
   ]
  },
  {
   "cell_type": "code",
   "execution_count": null,
   "metadata": {},
   "outputs": [],
   "source": [
    "# set indicators Sector and Domain Demography for Legacy Demography\n",
    "indicator_upload[\"Sector Name\"][red_dm_leg_logics] = \"Demography\"\n",
    "indicator_upload[\"Domain Name\"][red_dm_leg_logics] = \"Demography\""
   ]
  },
  {
   "source": [
    "##### Assign Sector and Domain for ECARO indicators - Remaining Fertility, Mortality and Health"
   ],
   "cell_type": "markdown",
   "metadata": {}
  },
  {
   "cell_type": "code",
   "execution_count": null,
   "metadata": {},
   "outputs": [],
   "source": [
    "# TBDev\n",
    "# api_code_addr_df.Theme.unique()\n",
    "api_code_addr_df.columns"
   ]
  },
  {
   "source": [
    "#### Work to deliver status to Deepak - Indicators source in SDMX"
   ],
   "cell_type": "markdown",
   "metadata": {}
  },
  {
   "cell_type": "code",
   "execution_count": null,
   "metadata": {},
   "outputs": [],
   "source": [
    "# I'll start with CL_indicators and add data dict. on top\n",
    "etl_status_api = ind_codelist.merge(\n",
    "        api_code_addr_df[[\"HelixCode\", \"Theme\", \"Data_Source\"]],\n",
    "        on=\"HelixCode\", how=\"left\", sort=False\n",
    "    )"
   ]
  },
  {
   "cell_type": "code",
   "execution_count": null,
   "metadata": {},
   "outputs": [],
   "source": [
    "# function to assign theme to legacy\n",
    "def theme_2_legacy(legacy_codes):\n",
    "    \"\"\"\n",
    "    param: legacy_codes (pandas series)\n",
    "    \"\"\"\n",
    "    # build df from series new column to series\n",
    "    legacy_theme = pd.DataFrame(columns=['HelixCode', 'Theme'])\n",
    "    legacy_theme[\"HelixCode\"] = legacy_codes\n",
    "    # Themes to Assign: Population\n",
    "    logic_pop = legacy_codes.str.contains('DM_')\n",
    "    # assign Population\n",
    "    legacy_theme['Theme'][logic_pop] = 'Population'\n",
    "    # Themes to Assign: Fertility\n",
    "    logic_ft = legacy_codes.str.contains('FT_')\n",
    "    # assign Fertility\n",
    "    legacy_theme['Theme'][logic_ft] = 'Fertility'\n",
    "    # Themes to Assign: EDUCATION\n",
    "    logic_edu = legacy_codes.str.contains('EDU_')\n",
    "    # assign Education\n",
    "    legacy_theme['Theme'][logic_edu] = 'Education'\n",
    "    # Themes to Assign: Child Protection\n",
    "    logic_pt = legacy_codes.str.contains('PT_')\n",
    "    # assign PT\n",
    "    legacy_theme['Theme'][logic_pt] = 'Child Protection'\n",
    "    # Themes to Assign: Social Protection\n",
    "    logic_sp = legacy_codes.str.contains('SP_')\n",
    "    # assign SP\n",
    "    legacy_theme['Theme'][logic_sp] = 'Social Protection'\n",
    "    # Themes to Assign: Justice for Children\n",
    "    logic_jj = legacy_codes.str.contains('JJ_')\n",
    "    # assign JJ\n",
    "    legacy_theme['Theme'][logic_jj] = 'Justice for Children'\n",
    "    # Manual assignemt for now (1)\n",
    "    logic_man1 = legacy_codes.str.contains('EDUNF_GECER')\n",
    "    # assign man1\n",
    "    legacy_theme['Theme'][logic_man1] = 'Education'\n",
    "    # Manual assignemt for now (2)\n",
    "    logic_man2 = legacy_codes.str.contains('GN_MTNTY|GN_PTNTY')\n",
    "    # assign man2\n",
    "    legacy_theme['Theme'][logic_man2] = 'Social Protection'\n",
    "    # Manual assignemt for now (3)\n",
    "    logic_man3 = legacy_codes.str.contains('U5_LFT-ALN')\n",
    "    # assign man3\n",
    "    legacy_theme['Theme'][logic_man3] = 'Child Protection'\n",
    "    return legacy_theme"
   ]
  },
  {
   "cell_type": "code",
   "execution_count": null,
   "metadata": {},
   "outputs": [],
   "source": [
    "# logic non Theme assigned --> legacy codes\n",
    "logic_legacy = etl_status_api.Theme.isna()\n",
    "legacy_themes = theme_2_legacy(etl_status_api.HelixCode[logic_legacy])\n",
    "# fill nan's with legacy_themes\n",
    "etl_status_api.Theme.fillna(legacy_themes.Theme, inplace=True)"
   ]
  },
  {
   "cell_type": "code",
   "execution_count": null,
   "metadata": {},
   "outputs": [],
   "source": [
    "# fill nan's in source as NSI (legacy source)\n",
    "etl_status_api.Data_Source.fillna(\"NSI:\", inplace=True)\n",
    "# particular example for GECER (missmatch data dictionary v5 in dev)\n",
    "logic_man1 = etl_status_api.HelixCode.str.contains('EDUNF_GECER')\n",
    "etl_status_api.Data_Source[logic_man1] = 'UIS:'\n",
    "# replace data source with regex extraction!\n",
    "pattern = r\"(.*?):\"\n",
    "etl_status_api.Data_Source = etl_status_api.Data_Source.apply(lambda x: re.findall(pattern, x)[0])"
   ]
  },
  {
   "cell_type": "code",
   "execution_count": null,
   "metadata": {},
   "outputs": [],
   "source": [
    "# sort by Theme (then index?): own function (might not be the simplest way)\n",
    "def sort_etl_by_theme(etl_status_api):\n",
    "    # first all Population\n",
    "    logic_dm = etl_status_api.Theme == \"Population\"\n",
    "    # dataframe output create\n",
    "    etl_status_by_theme = etl_status_api[logic_dm]\n",
    "    # Fertility\n",
    "    logic_ft = etl_status_api.Theme == \"Fertility\"\n",
    "    etl_status_by_theme = pd.concat([etl_status_by_theme, etl_status_api[logic_ft]])\n",
    "    # Mortality\n",
    "    logic_mt = etl_status_api.Theme == \"Mortality\"\n",
    "    etl_status_by_theme = pd.concat([etl_status_by_theme, etl_status_api[logic_mt]])\n",
    "    # Health\n",
    "    logic_ht = etl_status_api.Theme == \"Health\"\n",
    "    etl_status_by_theme = pd.concat([etl_status_by_theme, etl_status_api[logic_ht]])\n",
    "    # Education\n",
    "    logic_edu = etl_status_api.Theme == \"Education\"\n",
    "    etl_status_by_theme = pd.concat([etl_status_by_theme, etl_status_api[logic_edu]])\n",
    "    # Child Protection\n",
    "    logic_pt = etl_status_api.Theme == \"Child Protection\"\n",
    "    etl_status_by_theme = pd.concat([etl_status_by_theme, etl_status_api[logic_pt]])\n",
    "    # Justice for Children\n",
    "    logic_jj = etl_status_api.Theme == \"Justice for Children\"\n",
    "    etl_status_by_theme = pd.concat([etl_status_by_theme, etl_status_api[logic_jj]])\n",
    "    # Social Protection\n",
    "    logic_sp = etl_status_api.Theme == \"Social Protection\"\n",
    "    etl_status_by_theme = pd.concat([etl_status_by_theme, etl_status_api[logic_sp]])\n",
    "    etl_status_by_theme.reset_index(inplace=True, drop=True)\n",
    "    return etl_status_by_theme"
   ]
  },
  {
   "cell_type": "code",
   "execution_count": null,
   "metadata": {},
   "outputs": [],
   "source": [
    "col_sort_list = ['Theme', 'HelixCode', 'English Name', 'Data_Source']\n",
    "etl_status_api = sort_etl_by_theme(etl_status_api).reindex(columns=col_sort_list)\n",
    "\n",
    "cl_path = \"./data_out/codelists/\"\n",
    "etl_theme_source_file = \"ETL_TM_theme_source\"\n",
    "etl_status_api.to_csv(f\"{cl_path}{etl_theme_source_file}.csv\", index=False)\n"
   ]
  }
 ]
}