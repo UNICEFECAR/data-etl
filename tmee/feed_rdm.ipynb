{
 "metadata": {
  "language_info": {
   "codemirror_mode": {
    "name": "ipython",
    "version": 3
   },
   "file_extension": ".py",
   "mimetype": "text/x-python",
   "name": "python",
   "nbconvert_exporter": "python",
   "pygments_lexer": "ipython3",
   "version": "3.8.5-final"
  },
  "orig_nbformat": 2,
  "kernelspec": {
   "name": "python3",
   "display_name": "Python 3",
   "language": "python"
  }
 },
 "nbformat": 4,
 "nbformat_minor": 2,
 "cells": [
  {
   "source": [
    "#### Objective: feed TMEE indicators into UNICEF rdm"
   ],
   "cell_type": "markdown",
   "metadata": {}
  },
  {
   "cell_type": "code",
   "execution_count": 1,
   "metadata": {},
   "outputs": [],
   "source": [
    "import pandas as pd\n",
    "from utils import get_API_code_address_etc\n",
    "import numpy as np\n",
    "# get_codelist_API_legacy"
   ]
  },
  {
   "source": [
    "##### RDM bulk upload (indicators and attributes): https://rdm.unicef.org/Documentation (as of 03/Feb/21)"
   ],
   "cell_type": "markdown",
   "metadata": {}
  },
  {
   "cell_type": "code",
   "execution_count": 2,
   "metadata": {},
   "outputs": [],
   "source": [
    "# data from UNICEF rdm indicators: hierachy (agencies, sector, domains, subdomains) and attributes\n",
    "rdm_attributes_file = \"./rdm/RDM_agency_sector_domain_attribute.xlsx\"\n",
    "agency_df = pd.read_excel(rdm_attributes_file, sheet_name=0, header=1, usecols=\"B:E\")\n",
    "sector_df = pd.read_excel(rdm_attributes_file, sheet_name=1, header=1, usecols=\"B:G\")\n",
    "domain_df = pd.read_excel(rdm_attributes_file, sheet_name=2, header=1, usecols=\"B:G\")\n",
    "attrib_df = pd.read_excel(rdm_attributes_file, sheet_name=3, header=1, usecols=\"B:E\")"
   ]
  },
  {
   "source": [
    "##### Data from TMEE ETL (Data Dictionary + Legacy metadata)"
   ],
   "cell_type": "markdown",
   "metadata": {}
  },
  {
   "cell_type": "code",
   "execution_count": 3,
   "metadata": {},
   "outputs": [],
   "source": [
    "# excel data-dictionary\n",
    "data_dict_file = \"./data_in/data_dictionary/indicator_dictionary_TM_v5.xlsx\"\n",
    "# get indicators that are extracted by API\n",
    "api_code_addr_df = get_API_code_address_etc(data_dict_file)"
   ]
  },
  {
   "cell_type": "code",
   "execution_count": 4,
   "metadata": {},
   "outputs": [],
   "source": [
    "# path to file with legacy indicators meta data (age, sex, code, units)\n",
    "path_legacy = \"./data_in/legacy_data/content_legacy_codes_v3.csv\"\n",
    "legacy_metadata = pd.read_csv(path_legacy, dtype=str)"
   ]
  },
  {
   "cell_type": "code",
   "execution_count": 5,
   "metadata": {},
   "outputs": [],
   "source": [
    "# legacy metadata processes up to codes (for SDMX load)\n",
    "# indicators codelist still contains some manual inputs (file below)\n",
    "ind_codes_file = \"./data_out/codelists/CL_TMEE_INDICATORS.csv\"\n",
    "ind_codelist = pd.read_csv(ind_codes_file, dtype=str)"
   ]
  },
  {
   "source": [
    "##### Conform the First bulk upload file: indicators"
   ],
   "cell_type": "markdown",
   "metadata": {}
  },
  {
   "cell_type": "code",
   "execution_count": 6,
   "metadata": {},
   "outputs": [],
   "source": [
    "indicator_columns = [\n",
    "    \"HelixCode\",\n",
    "    \"English Name\",\n",
    "    \"Agency Code\",\n",
    "    \"Sector Name\",\n",
    "    \"Domain Name\",\n",
    "    \"is Published\",\n",
    "]\n",
    "indicator_upload = pd.DataFrame(columns=indicator_columns)"
   ]
  },
  {
   "cell_type": "code",
   "execution_count": 7,
   "metadata": {},
   "outputs": [],
   "source": [
    "api_code_addr_df.rename(columns={\"Code\":\"HelixCode\",\"Indicator_name\":\"English Name\"}, inplace=True)\n",
    "indicator_upload = indicator_upload.append(api_code_addr_df[[\"HelixCode\", \"English Name\"]],ignore_index=True)"
   ]
  },
  {
   "cell_type": "code",
   "execution_count": null,
   "metadata": {},
   "outputs": [],
   "source": [
    "# ind_code = \"EDU_CHLD_DISAB_L3\"\n",
    "# print(ind_codelist[ind_codelist.Code == ind_code].Indicator_name.values)\n",
    "# print(legacy_metadata[legacy_metadata.code == ind_code].indicator.values)\n",
    "# legacy_metadata[legacy_metadata.code == ind_code]"
   ]
  },
  {
   "cell_type": "code",
   "execution_count": null,
   "metadata": {},
   "outputs": [],
   "source": [
    "# legacy_metadata[legacy_metadata.indicator.str.contains('disab')].indicator.values"
   ]
  },
  {
   "cell_type": "code",
   "execution_count": null,
   "metadata": {},
   "outputs": [],
   "source": [
    "# indicator_upload\n",
    "# .assign()[\"HelixCode\", \"English Name\"] = api_code_addr_df[[\"Code\", \"Indicator_name\"]].values"
   ]
  },
  {
   "cell_type": "code",
   "execution_count": null,
   "metadata": {},
   "outputs": [],
   "source": [
    "# indicator_upload\n",
    "# api_code_addr_df[[\"Code\", \"Indicator_name\"]].values\n",
    "# api_code_addr_df.Code.values"
   ]
  }
 ]
}