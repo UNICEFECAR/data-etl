{
 "cells": [
  {
   "cell_type": "code",
   "execution_count": 1,
   "metadata": {},
   "outputs": [
    {
     "name": "stderr",
     "output_type": "stream",
     "text": [
      "C:\\Users\\beto\\anaconda3\\lib\\site-packages\\pandas_datareader\\compat\\__init__.py:7: FutureWarning: pandas.util.testing is deprecated. Use the functions in the public API at pandas.testing instead.\n",
      "  from pandas.util.testing import assert_frame_equal\n"
     ]
    }
   ],
   "source": [
    "# this is intended to process ROFST for flagship only!\n",
    "import pandas as pd\n",
    "import numpy as np\n",
    "# import from TMEE ETL\n",
    "from transformation.destination import Destination\n",
    "from transformation.dataflow import Dataflow, define_maps\n",
    "from utils import api_request\n",
    "import os"
   ]
  },
  {
   "cell_type": "code",
   "execution_count": 2,
   "metadata": {},
   "outputs": [],
   "source": [
    "# path to NATMON data package\n",
    "path = \"./tests/uis_bdss/\"\n",
    "# read csv files\n",
    "edu_data = pd.read_csv(path+\"SDG_DATA_NATIONAL.csv\", dtype=str)\n",
    "meta_data = pd.read_csv(path+\"SDG_METADATA.csv\", dtype=str)\n",
    "country_labels = pd.read_csv(path+\"SDG_COUNTRY.csv\", dtype=str)\n",
    "edu_labels = pd.read_csv(path+\"SDG_LABEL.csv\", dtype=str)\n"
   ]
  },
  {
   "cell_type": "code",
   "execution_count": null,
   "metadata": {},
   "outputs": [],
   "source": [
    "# identify indicators: ROFST (out-of-school children rate)\n",
    "logic_rofst = edu_labels.INDICATOR_ID.str.lower().str.contains('rofst')\n",
    "# identify indicators: ROFST without household survery data\n",
    "logic_hhs = edu_labels.INDICATOR_ID.str.lower().str.contains('rofst.h.')\n",
    "# identify indicators: GER (SDG)\n",
    "logic_ger = edu_labels.INDICATOR_ID.str.lower().str.contains('ger.')"
   ]
  },
  {
   "cell_type": "code",
   "execution_count": 26,
   "metadata": {},
   "outputs": [],
   "source": [
    "# indentify indicators for sarah 14 april (learning outcome indicators)\n",
    "logic_web = edu_labels.INDICATOR_LABEL_EN.str.lower().str.contains('internet')\n",
    "logic_dig = edu_labels.INDICATOR_LABEL_EN.str.lower().str.contains('digit')"
   ]
  },
  {
   "cell_type": "code",
   "execution_count": null,
   "metadata": {},
   "outputs": [],
   "source": [
    "# print edu_labels oosc subset\n",
    "edu_labels[logic_rofst & ~logic_hhs]\n",
    "edu_labels[logic_ger]"
   ]
  },
  {
   "cell_type": "code",
   "execution_count": 27,
   "metadata": {},
   "outputs": [
    {
     "data": {
      "text/html": [
       "<div>\n",
       "<style scoped>\n",
       "    .dataframe tbody tr th:only-of-type {\n",
       "        vertical-align: middle;\n",
       "    }\n",
       "\n",
       "    .dataframe tbody tr th {\n",
       "        vertical-align: top;\n",
       "    }\n",
       "\n",
       "    .dataframe thead th {\n",
       "        text-align: right;\n",
       "    }\n",
       "</style>\n",
       "<table border=\"1\" class=\"dataframe\">\n",
       "  <thead>\n",
       "    <tr style=\"text-align: right;\">\n",
       "      <th></th>\n",
       "      <th>INDICATOR_ID</th>\n",
       "      <th>INDICATOR_LABEL_EN</th>\n",
       "    </tr>\n",
       "  </thead>\n",
       "  <tbody>\n",
       "  </tbody>\n",
       "</table>\n",
       "</div>"
      ],
      "text/plain": [
       "Empty DataFrame\n",
       "Columns: [INDICATOR_ID, INDICATOR_LABEL_EN]\n",
       "Index: []"
      ]
     },
     "execution_count": 27,
     "metadata": {},
     "output_type": "execute_result"
    }
   ],
   "source": [
    "edu_labels[logic_web]\n",
    "edu_labels[logic_dig]"
   ]
  },
  {
   "cell_type": "code",
   "execution_count": 14,
   "metadata": {
    "collapsed": true
   },
   "outputs": [
    {
     "data": {
      "text/plain": [
       "array(['Out-of-school rate for children of primary school age, both sexes (%)',\n",
       "       'Out-of-school rate for children of primary school age, female (%)',\n",
       "       'Out-of-school rate for children of primary school age, adjusted gender parity index (GPIA)',\n",
       "       'Out-of-school rate for children of primary school age, male (%)',\n",
       "       'Out-of-school rate for children and adolescents of primary and lower secondary school age, both sexes (%)',\n",
       "       'Out-of-school rate for children and adolescents of primary and lower secondary school age, female (%)',\n",
       "       'Out-of-school rate for children and adolescents of primary and lower secondary school age, adjusted gender parity index (GPIA)',\n",
       "       'Out-of-school rate for children and adolescents of primary and lower secondary school age, male (%)',\n",
       "       'Out-of-school rate for adolescents of lower secondary school age, both sexes (%)',\n",
       "       'Out-of-school rate for adolescents of lower secondary school age, female (%)',\n",
       "       'Out-of-school rate for adolescents of lower secondary school age, adjusted gender parity index (GPIA)',\n",
       "       'Out-of-school rate for adolescents of lower secondary school age, male (%)',\n",
       "       'Out-of-school rate for youth of upper secondary school age, both sexes (%)',\n",
       "       'Out-of-school rate for youth of upper secondary school age, female (%)',\n",
       "       'Out-of-school rate for youth of upper secondary school age, adjusted gender parity index (GPIA)',\n",
       "       'Out-of-school rate for youth of upper secondary school age, male (%)',\n",
       "       'Out-of-school rate for children one year younger than official age, both sexes (%)',\n",
       "       'Out-of-school rate for children one year younger than official age, female (%)',\n",
       "       'Out-of-school rate for children one year younger than official age, adjusted gender parity index (GPIA)',\n",
       "       'Out-of-school rate for children one year younger than official age, male (%)'],\n",
       "      dtype=object)"
      ]
     },
     "execution_count": 14,
     "metadata": {},
     "output_type": "execute_result"
    }
   ],
   "source": [
    "# select index from indicator labels\n",
    "rofst_index = np.concatenate((np.arange(922,930), np.arange(934,938), np.arange(942,950)))\n",
    "# reduce list to include only sex total\n",
    "# rofst_index = [922, 924, 926, 928, 934, 936, 946, 948]\n",
    "# double check: print full indicator labels\n",
    "edu_labels.INDICATOR_LABEL_EN.loc[rofst_index].values"
   ]
  },
  {
   "cell_type": "code",
   "execution_count": 10,
   "metadata": {},
   "outputs": [],
   "source": [
    "# select index for internet indicators (L1, 2 and 3)\n",
    "web_index = [1251, 1259, 1269]"
   ]
  },
  {
   "cell_type": "code",
   "execution_count": 15,
   "metadata": {},
   "outputs": [],
   "source": [
    "# indicator array (based on INDICATOR_ID)\n",
    "ind_array = edu_labels.INDICATOR_ID.loc[rofst_index].values\n",
    "# country list (based on TM + FLAGSHIP)\n",
    "country_list = [\"ALB\", \"ARM\", \"AZE\", \"BLR\", \"BIH\", \"BGR\", \"HRV\", \"CZE\", \"EST\", \"GEO\", \"HUN\", \"KAZ\", \"KGZ\", \"LVA\", \"LTU\", \"MNE\", \"MKD\", \"POL\", \"MDA\", \"ROU\", \"RUS\", \"SRB\", \"SVK\", \"SVN\", \"TJK\", \"TUR\", \"TKM\", \"UKR\", \"UZB\", \"AND\", \"AUT\", \"BEL\", \"CYP\", \"DNK\", \"FIN\", \"FRA\", \"DEU\", \"GRC\", \"VAT\", \"ISL\", \"IRL\", \"ITA\", \"LIE\", \"LUX\", \"MLT\", \"MCO\", \"NLD\", \"NOR\", \"PRT\", \"SMR\", \"ESP\", \"SWE\", \"CHE\", \"GBR\", \"XKX\"]\n",
    "# spot check Flagship 5 missing: \"VAT\", \"LIE\", \"AND\", \"SMR\", \"MCO\""
   ]
  },
  {
   "cell_type": "code",
   "execution_count": 16,
   "metadata": {},
   "outputs": [],
   "source": [
    "# indicator array (based on INDICATOR_ID)\n",
    "ind_array_web = edu_labels.INDICATOR_ID.loc[web_index].values"
   ]
  },
  {
   "cell_type": "code",
   "execution_count": 17,
   "metadata": {},
   "outputs": [
    {
     "data": {
      "text/plain": [
       "array(['XKX'], dtype='<U3')"
      ]
     },
     "execution_count": 17,
     "metadata": {},
     "output_type": "execute_result"
    }
   ],
   "source": [
    "# which countries are not at all in UIS: only kosovo\n",
    "np.setdiff1d(country_list, country_labels.COUNTRY_ID.values)"
   ]
  },
  {
   "cell_type": "code",
   "execution_count": null,
   "metadata": {},
   "outputs": [],
   "source": [
    "# subsetting data for flagship by indicator codes and country list (all years)\n",
    "logic_rofst = edu_data.INDICATOR_ID.isin(ind_array)\n",
    "logic_ecaro = edu_data.COUNTRY_ID.isin(country_list)\n",
    "edu_rofst_ecaro = edu_data[logic_rofst & logic_ecaro].copy()"
   ]
  },
  {
   "cell_type": "code",
   "execution_count": 18,
   "metadata": {},
   "outputs": [],
   "source": [
    "# subsetting data for internet access (all years)\n",
    "logic_web = edu_data.INDICATOR_ID.isin(ind_array_web)\n",
    "logic_ecaro = edu_data.COUNTRY_ID.isin(country_list)\n",
    "edu_web_ecaro = edu_data[logic_web & logic_ecaro].copy()"
   ]
  },
  {
   "cell_type": "code",
   "execution_count": null,
   "metadata": {},
   "outputs": [],
   "source": [
    "# which countries are not reporting on OOSC\n",
    "np.setdiff1d(country_list, edu_rofst_ecaro.COUNTRY_ID.unique())"
   ]
  },
  {
   "cell_type": "code",
   "execution_count": 19,
   "metadata": {},
   "outputs": [
    {
     "data": {
      "text/plain": [
       "array(['AUT', 'BGR', 'BIH', 'CYP', 'CZE', 'DEU', 'GBR', 'GRC', 'HRV',\n",
       "       'IRL', 'ISL', 'KAZ', 'LIE', 'LTU', 'LUX', 'MKD', 'MLT', 'MNE',\n",
       "       'ROU', 'RUS', 'SRB', 'SWE', 'TJK', 'TUR', 'VAT', 'XKX'],\n",
       "      dtype='<U3')"
      ]
     },
     "execution_count": 19,
     "metadata": {},
     "output_type": "execute_result"
    }
   ],
   "source": [
    "# which countries are not reporting on internet access\n",
    "np.setdiff1d(country_list, edu_web_ecaro.COUNTRY_ID.unique())"
   ]
  },
  {
   "cell_type": "code",
   "execution_count": 20,
   "metadata": {},
   "outputs": [],
   "source": [
    "# metadata subset by type: source\n",
    "meta_data_type = \"Source:Data sources\"\n",
    "logic_type = meta_data.TYPE == meta_data_type\n",
    "meta_data_source = meta_data.loc[logic_type].copy()\n",
    "# drop metadata column type\n",
    "meta_data_source.drop(columns=\"TYPE\", inplace=True)"
   ]
  },
  {
   "cell_type": "code",
   "execution_count": null,
   "metadata": {},
   "outputs": [],
   "source": [
    "# meta_data_source for ecaro oosc\n",
    "logic_rofst = meta_data_source.INDICATOR_ID.isin(ind_array)\n",
    "logic_ecaro = meta_data_source.COUNTRY_ID.isin(country_list)\n",
    "meta_data_rofst_ecaro = meta_data_source[logic_rofst & logic_ecaro]\n",
    "# meta_data_source for ecaro oosc is empty\n",
    "meta_data_rofst_ecaro"
   ]
  },
  {
   "cell_type": "code",
   "execution_count": 21,
   "metadata": {},
   "outputs": [
    {
     "data": {
      "text/html": [
       "<div>\n",
       "<style scoped>\n",
       "    .dataframe tbody tr th:only-of-type {\n",
       "        vertical-align: middle;\n",
       "    }\n",
       "\n",
       "    .dataframe tbody tr th {\n",
       "        vertical-align: top;\n",
       "    }\n",
       "\n",
       "    .dataframe thead th {\n",
       "        text-align: right;\n",
       "    }\n",
       "</style>\n",
       "<table border=\"1\" class=\"dataframe\">\n",
       "  <thead>\n",
       "    <tr style=\"text-align: right;\">\n",
       "      <th></th>\n",
       "      <th>INDICATOR_ID</th>\n",
       "      <th>COUNTRY_ID</th>\n",
       "      <th>YEAR</th>\n",
       "      <th>METADATA</th>\n",
       "    </tr>\n",
       "  </thead>\n",
       "  <tbody>\n",
       "  </tbody>\n",
       "</table>\n",
       "</div>"
      ],
      "text/plain": [
       "Empty DataFrame\n",
       "Columns: [INDICATOR_ID, COUNTRY_ID, YEAR, METADATA]\n",
       "Index: []"
      ]
     },
     "execution_count": 21,
     "metadata": {},
     "output_type": "execute_result"
    }
   ],
   "source": [
    "# meta_data_source for ecaro web\n",
    "logic_web_meta = meta_data_source.INDICATOR_ID.isin(ind_array_web)\n",
    "logic_ecaro_meta = meta_data_source.COUNTRY_ID.isin(country_list)\n",
    "meta_data_web_ecaro = meta_data_source[logic_web_meta & logic_ecaro_meta]\n",
    "# meta_data_source check: empty\n",
    "meta_data_web_ecaro"
   ]
  },
  {
   "cell_type": "code",
   "execution_count": null,
   "metadata": {},
   "outputs": [],
   "source": [
    "# add dummie columns to data set for transform\n",
    "edu_rofst_ecaro[\"SEX\"] = \"_T\"\n",
    "edu_rofst_ecaro[\"AGE\"] = \"_T\"\n",
    "edu_rofst_ecaro[\"UNIT\"] = \"PCNT\"\n",
    "edu_rofst_ecaro[\"SOURCE\"] = \"\"\n",
    "edu_rofst_ecaro[\"NATURE\"] = \"\""
   ]
  },
  {
   "cell_type": "code",
   "execution_count": null,
   "metadata": {},
   "outputs": [],
   "source": [
    "# raw data destination\n",
    "raw_path = \"./tests/uis_bdss/\"\n",
    "# raw data filename to write\n",
    "raw_file_write = \"bdss_rofst_raw\"\n",
    "# write bdss raw data (all indicators) to csv file\n",
    "edu_rofst_ecaro.to_csv(f\"{raw_path}{raw_file_write}.csv\", index=False)"
   ]
  },
  {
   "cell_type": "code",
   "execution_count": 22,
   "metadata": {},
   "outputs": [],
   "source": [
    "# raw data destination\n",
    "raw_path = \"./tests/uis_bdss/\"\n",
    "# raw data filename to write\n",
    "raw_file_write = \"bdss_internet_raw\"\n",
    "# write bdss raw data (all indicators) to csv file\n",
    "edu_web_ecaro.to_csv(f\"{raw_path}{raw_file_write}.csv\", index=False)"
   ]
  },
  {
   "cell_type": "code",
   "execution_count": null,
   "metadata": {},
   "outputs": [],
   "source": [
    "# transformed data destination\n",
    "trans_path = \"./tests/uis_bdss/\"\n",
    "# transformed data filename to write\n",
    "trans_file_write = \"bdss_rofst_transf\"\n",
    "# TMEE DSD (data structure definition)\n",
    "dest_dsd = Destination(\"TMEE\")"
   ]
  },
  {
   "cell_type": "code",
   "execution_count": null,
   "metadata": {},
   "outputs": [],
   "source": [
    "# transform into TMEE data structure\n",
    "dflow_col_map = {\n",
    "    \"BDSS\": {\n",
    "        \"REF_AREA\": {\"type\": \"col\", \"role\": \"dim\", \"value\": \"COUNTRY_ID\"},\n",
    "        \"INDICATOR\": {\"type\": \"col\", \"role\": \"dim\", \"value\": \"INDICATOR_ID\"},\n",
    "        \"SEX\": {\"type\": \"col\", \"role\": \"dim\", \"value\": \"SEX\"},\n",
    "        \"AGE\": {\"type\": \"col\", \"role\": \"dim\", \"value\": \"AGE\"},\n",
    "        \"WEALTH_QUINTILE\": {\"type\": \"const\", \"role\": \"dim\", \"value\": \"\"},\n",
    "        \"RESIDENCE\": {\"type\": \"const\", \"role\": \"dim\", \"value\": \"\"},\n",
    "        \"TIME_PERIOD\": {\"type\": \"col\", \"role\": \"time\", \"value\": \"YEAR\"},\n",
    "        \"OBS_VALUE\": {\"type\": \"col\", \"role\": \"obs\", \"value\": \"VALUE\"},\n",
    "        \"COVERAGE_TIME\": {\"type\": \"const\", \"role\": \"attrib\", \"value\": \"\"},\n",
    "        \"UNIT_MEASURE\": {\"type\": \"col\", \"role\": \"attrib\", \"value\": \"UNIT\"},\n",
    "        \"OBS_FOOTNOTE\": {\"type\": \"col\", \"role\": \"attrib\", \"value\": \"QUALIFIER\"},\n",
    "        \"FREQ\": {\"type\": \"const\", \"role\": \"attrib\", \"value\": \"\"},\n",
    "        \"DATA_SOURCE\": {\"type\": \"col\", \"role\": \"attrib\", \"value\": \"SOURCE\"},\n",
    "        \"UNIT_MULTIPLIER\": {\"type\": \"const\", \"role\": \"attrib\", \"value\": \"\"},\n",
    "        \"OBS_STATUS\": {\"type\": \"col\", \"role\": \"attrib\", \"value\": \"NATURE\"},\n",
    "    }\n",
    "}"
   ]
  },
  {
   "cell_type": "code",
   "execution_count": null,
   "metadata": {},
   "outputs": [],
   "source": [
    "# metadata for bdss to sdmx mapping\n",
    "# OFST.1.CP, OFST.1.F.CP, OFST.1.M.CP\n",
    "# OFST.2.CP, OFST.2.F.CP, OFST.2.M.CP\n",
    "# OFST.AGM1.CP, OFST.AGM1.F.CP, OFST.AGM1.M.CP\n",
    "# augmented for ROFST in SDG (only totals)\n",
    "bdss_sdmx_map = {\n",
    "    'ind_id': [\n",
    "        \"OFST.1.CP\", \"OFST.1.F.CP\", \"OFST.1.M.CP\",\n",
    "        \"OFST.2.CP\", \"OFST.2.F.CP\", \"OFST.2.M.CP\",\n",
    "        \"OFST.AGM1.CP\", \"OFST.AGM1.F.CP\", \"OFST.AGM1.M.CP\",\n",
    "        \"ROFST.1.CP\", \"ROFST.1.GPIA.CP\",\n",
    "        \"ROFST.2.CP\", \"ROFST.2.GPIA.CP\",\n",
    "        \"ROFST.1T2.CP\", \"ROFST.1T2.GPIA.CP\",\n",
    "        \"ROFST.AGM1.CP\", \"ROFST.AGM1.GPIA.CP\"\n",
    "    ],\n",
    "    'code': [\n",
    "        \"EDUNF_OFST_L1\", \"EDUNF_OFST_L1\", \"EDUNF_OFST_L1\",\n",
    "        \"EDUNF_OFST_L2\", \"EDUNF_OFST_L2\", \"EDUNF_OFST_L2\",\n",
    "        \"EDUNF_OFST_L1_UNDER1\", \"EDUNF_OFST_L1_UNDER1\", \"EDUNF_OFST_L1_UNDER1\",\n",
    "        \"EDUNF_ROFST_L1\", \"EDUNF_ROFST_L1_GPIA\",\n",
    "        \"EDUNF_ROFST_L2\", \"EDUNF_ROFST_L2_GPIA\",\n",
    "        \"EDUNF_ROFST_L1T2\", \"EDUNF_ROFST_L1T2_GPIA\",\n",
    "        \"EDUNF_ROFST_L1_UNDER1\", \"EDUNF_ROFST_L1_UNDER1_GPIA\"\n",
    "    ],\n",
    "    'sex': [\n",
    "        \"_T\", \"F\", \"M\",\n",
    "        \"_T\", \"F\", \"M\",\n",
    "        \"_T\", \"F\", \"M\",\n",
    "        \"_T\", \"_T\",\n",
    "        \"_T\", \"_T\",\n",
    "        \"_T\", \"_T\",\n",
    "        \"_T\", \"_T\"\n",
    "    ],\n",
    "    'age': [\n",
    "        \"SCHOOL_AGE\", \"SCHOOL_AGE\", \"SCHOOL_AGE\",\n",
    "        \"SCHOOL_AGE\", \"SCHOOL_AGE\", \"SCHOOL_AGE\",\n",
    "        \"UNDER1_SCHOOL_ENTRY\", \"UNDER1_SCHOOL_ENTRY\", \"UNDER1_SCHOOL_ENTRY\",\n",
    "        \"SCHOOL_AGE\", \"SCHOOL_AGE\",\n",
    "        \"SCHOOL_AGE\", \"SCHOOL_AGE\",\n",
    "        \"SCHOOL_AGE\", \"SCHOOL_AGE\",\n",
    "        \"UNDER1_SCHOOL_ENTRY\", \"UNDER1_SCHOOL_ENTRY\"\n",
    "    ],\n",
    "    'unit': [\n",
    "        \"PS\", \"PS\", \"PS\",\n",
    "        \"PS\", \"PS\", \"PS\",\n",
    "        \"PS\", \"PS\", \"PS\",\n",
    "        \"PCNT\", \"GPIA\",\n",
    "        \"PCNT\", \"GPIA\",\n",
    "        \"PCNT\", \"GPIA\",\n",
    "        \"PCNT\", \"GPIA\",\n",
    "    ],\n",
    "    'source': [\n",
    "        \"UIS: EDUNF_OFST_L1\", \"UIS: EDUNF_OFST_L1\", \"UIS: EDUNF_OFST_L1\",\n",
    "        \"UIS: EDUNF_OFST_L2\", \"UIS: EDUNF_OFST_L2\", \"UIS: EDUNF_OFST_L2\",\n",
    "        \"UIS: EDUNF_OFST_L1_UNDER1\", \"UIS: EDUNF_OFST_L1_UNDER1\", \"UIS: EDUNF_OFST_L1_UNDER1\",\n",
    "        \"UIS: EDUNF_ROFST_L1\", \"UIS: EDUNF_ROFST_L1_GPIA\",\n",
    "        \"UIS: EDUNF_ROFST_L2\", \"UIS: EDUNF_ROFST_L2_GPIA\",\n",
    "        \"UIS: EDUNF_ROFST_L1T2\", \"UIS: EDUNF_ROFST_L1T2_GPIA\",\n",
    "        \"UIS: EDUNF_ROFST_L1_UNDER1\", \"UIS: EDUNF_ROFST_L1_UNDER1_GPIA\"\n",
    "    ],\n",
    "}\n",
    "# bdss to sdmx mapping dataframe\n",
    "bdss_sdmx_df = pd.DataFrame.from_dict(bdss_sdmx_map)"
   ]
  },
  {
   "cell_type": "code",
   "execution_count": null,
   "metadata": {},
   "outputs": [],
   "source": [
    "code_mapping = {\n",
    "    \"BDSS\": {\n",
    "        \"SEX\": {\n",
    "            \"depends\": \"INDICATOR_ID\",\n",
    "            \"map\": dict(zip(bdss_sdmx_df.ind_id, bdss_sdmx_df.sex)),\n",
    "        },\n",
    "        \"AGE\": {\n",
    "            \"depends\": \"INDICATOR_ID\",\n",
    "            \"map\": dict(zip(bdss_sdmx_df.ind_id, bdss_sdmx_df.age)),\n",
    "        },\n",
    "        \"SOURCE\": {\n",
    "            \"depends\": \"INDICATOR_ID\",\n",
    "            \"map\": dict(zip(bdss_sdmx_df.ind_id, bdss_sdmx_df.source)),\n",
    "        },\n",
    "        \"UNIT\": {\n",
    "            \"depends\": \"INDICATOR_ID\",\n",
    "            \"map\": dict(zip(bdss_sdmx_df.ind_id, bdss_sdmx_df.unit)),\n",
    "        },\n",
    "        # \"INDICATOR_ID\" mapping here (note previous dependece) !!!\n",
    "        \"INDICATOR_ID\": dict(zip(bdss_sdmx_df.ind_id, bdss_sdmx_df.code)),\n",
    "        # trick to fill NATURE mapping QUALIFIER column\n",
    "        \"NATURE\": {\n",
    "            \"depends\": \"QUALIFIER\",\n",
    "            \"map\": {\"UIS_EST\": \"E\", \"NAT_EST\": \"E\"}},\n",
    "    },\n",
    "}"
   ]
  },
  {
   "cell_type": "code",
   "execution_count": null,
   "metadata": {},
   "outputs": [],
   "source": [
    "# update imported define_maps with local variables (BDSS mappings)\n",
    "define_maps.dflow_col_map.update(dflow_col_map)\n",
    "define_maps.code_mapping.update(code_mapping)"
   ]
  },
  {
   "cell_type": "code",
   "execution_count": null,
   "metadata": {},
   "outputs": [],
   "source": [
    "# dataflow to process is BDSS\n",
    "dataflow_key = \"BDSS\"\n",
    "# instantiate dataflow class with the actual key (LEGACY)\n",
    "dflow_actual = Dataflow(dataflow_key)\n",
    "# pre-view duplicates in BDSS data\n",
    "if dflow_actual.check_duplicates(edu_rofst_ecaro):\n",
    "    print(f\"BDSS data contains duplicates\")"
   ]
  },
  {
   "cell_type": "code",
   "execution_count": null,
   "metadata": {},
   "outputs": [],
   "source": [
    "# map the codes - normalization\n",
    "dflow_actual.map_codes(edu_rofst_ecaro)"
   ]
  },
  {
   "cell_type": "code",
   "execution_count": null,
   "metadata": {},
   "outputs": [],
   "source": [
    "# initialize constants empty (no data from dictionary for BDSS)\n",
    "constants = {}\n",
    "# map the columns\n",
    "data_map = dflow_actual.map_dataframe(edu_rofst_ecaro, constants)"
   ]
  },
  {
   "cell_type": "code",
   "execution_count": null,
   "metadata": {},
   "outputs": [],
   "source": [
    "# use data_map in pandas for transformed indicators data\n",
    "data_trans = pd.DataFrame(columns=dest_dsd.get_csv_columns(), dtype=str)\n",
    "data_trans = data_trans.append(data_map)"
   ]
  },
  {
   "cell_type": "code",
   "execution_count": null,
   "metadata": {},
   "outputs": [],
   "source": [
    "# drop nan values if present\n",
    "data_trans.dropna(subset=[\"OBS_VALUE\"], inplace=True)\n",
    "# check non-numerics in data observations\n",
    "filter_non_num = pd.to_numeric(data_trans.OBS_VALUE, errors=\"coerce\").isnull()\n",
    "# eliminate non-numerics\n",
    "if filter_non_num.sum() > 0:\n",
    "    not_num_array = data_trans.OBS_VALUE[filter_non_num].unique()\n",
    "    print(f\"Non-numeric observations discarded in BDSS data:\\n{not_num_array}\")\n",
    "    data_trans.drop(data_trans[filter_non_num].index, inplace=True)\n",
    "# save file\n",
    "data_trans.to_csv(f\"{trans_path}{trans_file_write}.csv\", index=False)"
   ]
  },
  {
   "cell_type": "code",
   "execution_count": null,
   "metadata": {},
   "outputs": [],
   "source": [
    "# provide sdmx codelists\n",
    "ind_cl = {\n",
    "    \"INDICATOR\": [\n",
    "        \"EDUNF_OFST_L1\",\n",
    "        \"EDUNF_OFST_L2\",\n",
    "        \"EDUNF_OFST_L1_UNDER1\",\n",
    "        \"EDUNF_ROFST_L1\",\n",
    "        \"EDUNF_ROFST_L2\",\n",
    "        \"EDUNF_ROFST_L1T2\",\n",
    "        \"EDUNF_ROFST_L1_UNDER1\",\n",
    "        \"EDUNF_ROFST_L1_GPIA\",\n",
    "        \"EDUNF_ROFST_L2_GPIA\",\n",
    "        \"EDUNF_ROFST_L1T2_GPIA\",\n",
    "        \"EDUNF_ROFST_L1_UNDER1_GPIA\"\n",
    "    ],\n",
    "    \"Indicator\": [\n",
    "        \"Number of out-of-school children of primary school age by sex\",\n",
    "        \"Number of out-of-school adolescents of lower secondary school age by sex\",\n",
    "        \"Number of out-of-school children one year younger than the official entry age to primary education by sex\",\n",
    "        \"Out-of-school rate for children of primary school age by sex (%)\",\n",
    "        \"Out-of-school rate for adolescents of lower secondary school age by sex (%)\",\n",
    "        \"Out-of-school rate for children and adolescents of primary and lower secondary school age (%, by sex)\",\n",
    "        \"Out-of-school rate for children one year younger than the official entry age to primary education by sex (%)\",\n",
    "        \"Out-of-school rate for children of primary school age, adjusted gender parity index (GPIA)\",\n",
    "        \"Out-of-school rate for adolescents of lower secondary school age, adjusted gender parity index (GPIA)\",\n",
    "        \"Out-of-school rate for children and adolescents of primary and lower secondary school age, adjusted gender parity index (GPIA)\",\n",
    "        \"Out-of-school rate for children one year younger than the official entry age to primary education, adjusted gender parity index (GPIA)\"\n",
    "    ]\n",
    "}\n",
    "sex_cl = {\n",
    "    \"SEX\": [\"_T\", \"F\", \"M\"],\n",
    "    \"Sex\": [\"Total\", \"Female\", \"Male\"]\n",
    "}\n",
    "age_cl = {\n",
    "    \"AGE\": [\"SCHOOL_AGE\", \"UNDER1_SCHOOL_ENTRY\"],\n",
    "    \"Age\": [\"School age\", \"One year younger than official school entrance age\"]\n",
    "}\n",
    "unit_cl = {\n",
    "    \"UNIT_MEASURE\": [\"PS\", \"PCNT\", \"GPIA\"],\n",
    "    \"Unit of measure\": [\"Persons\", \"%\", \"Adjusted gender parity index\"]\n",
    "}\n",
    "# UNICEF’s REST API endpoint for codelists\n",
    "url_endpoint = \"https://sdmx.data.unicef.org/ws/public/sdmxapi/rest/codelist/\"\n",
    "codelist = \"UNICEF/CL_COUNTRY\"\n",
    "# address and parameters for codelist request\n",
    "api_address = url_endpoint + codelist\n",
    "api_params = {\"format\": \"sdmx-json\"}\n",
    "# API codelist request\n",
    "country_cl_json = api_request(api_address, api_params).json()\n",
    "# Country Codelist from SDMX-JSON\n",
    "country_map = {\n",
    "    elem[\"id\"]: elem[\"name\"] for elem in country_cl_json[\"data\"][\"codelists\"][0][\"codes\"]\n",
    "}\n",
    "country_cl = {\n",
    "    \"REF_AREA\": country_map.keys(),\n",
    "    \"Geographic area\": country_map.values(),\n",
    "}\n",
    "os_cl = {\n",
    "    \"OBS_STATUS\": [\"E\"],\n",
    "    \"Observation Status\": [\"Estimated\"]\n",
    "}"
   ]
  },
  {
   "cell_type": "code",
   "execution_count": null,
   "metadata": {},
   "outputs": [],
   "source": [
    "# checkout data (feed sdmx label description into data_trans)\n",
    "sdmx_data = data_trans.merge(\n",
    "        pd.DataFrame.from_dict(ind_cl), on=\"INDICATOR\", how=\"left\", sort=False\n",
    "    ).merge(\n",
    "        pd.DataFrame.from_dict(sex_cl), on=\"SEX\", how=\"left\", sort=False\n",
    "    ).merge(\n",
    "        pd.DataFrame.from_dict(age_cl), on=\"AGE\", how=\"left\", sort=False\n",
    "    ).merge(\n",
    "        pd.DataFrame.from_dict(unit_cl), on=\"UNIT_MEASURE\", how=\"left\", sort=False\n",
    "    ).merge(\n",
    "        pd.DataFrame.from_dict(country_cl), on=\"REF_AREA\", how=\"left\", sort=False\n",
    "    ).merge(\n",
    "        pd.DataFrame.from_dict(os_cl), on=\"OBS_STATUS\", how=\"left\", sort=False\n",
    "    )"
   ]
  },
  {
   "cell_type": "code",
   "execution_count": null,
   "metadata": {},
   "outputs": [],
   "source": [
    "# checkout trivials for BDSS (residence, wealth, etc)\n",
    "sdmx_data[\"Residence\"] = \"Total\"\n",
    "sdmx_data[\"Wealth Quintile\"] = \"Total\"\n",
    "sdmx_data[\"Frequency\"] = \"\"\n",
    "sdmx_data[\"Unit multiplier\"] = \"\""
   ]
  },
  {
   "cell_type": "code",
   "execution_count": null,
   "metadata": {},
   "outputs": [],
   "source": [
    "# reorder as of SDMX format csv and checkout!\n",
    "col_ind = [\"REF_AREA\", \"Geographic area\", \"INDICATOR\", \"Indicator\", \"SEX\", \"Sex\", \"AGE\", \"Age\", \"RESIDENCE\", \"Residence\", \"WEALTH_QUINTILE\", \"Wealth Quintile\", \"TIME_PERIOD\", \"OBS_VALUE\", \"COVERAGE_TIME\", \"UNIT_MEASURE\", \"Unit of measure\", \"OBS_FOOTNOTE\", \"FREQ\", \"Frequency\", \"DATA_SOURCE\", \"UNIT_MULTIPLIER\", \"Unit multiplier\", \"OBS_STATUS\", \"Observation Status\"]\n",
    "sdmx_write_file = \"ROFST_L1_L2_L1T2_TMEE\"\n",
    "sdmx_data.reindex(columns=col_ind).to_csv(f\"{trans_path}{sdmx_write_file}.csv\", index=False)"
   ]
  },
  {
   "cell_type": "code",
   "execution_count": null,
   "metadata": {},
   "outputs": [],
   "source": [
    "# csv files with data transformed\n",
    "files_trans = [\"OFST_L1_L2_L1T2_TMEE.csv\", \"ROFST_L1_L2_L1T2_TMEE.csv\"]\n",
    "\n",
    "# pandas concat\n",
    "dest_dsd_df = pd.concat(\n",
    "    [pd.read_csv(f\"{trans_path}{f}\", dtype=str) for f in files_trans]\n",
    ")"
   ]
  },
  {
   "cell_type": "code",
   "execution_count": null,
   "metadata": {},
   "outputs": [],
   "source": [
    "# save file if not present to avoid re-writing\n",
    "etl_out_file = \"OFST_ROFST_L1_L2_L1T2_TMEE\"\n",
    "\n",
    "if f\"{etl_out_file}.csv\" not in [file for file in os.listdir(trans_path)]:\n",
    "    dest_dsd_df.to_csv(f\"{trans_path}{etl_out_file}.csv\", index=False)\n",
    "else:\n",
    "    print(f\"{etl_out_file} file not re-written, please first delete it to update.\")"
   ]
  }
 ],
 "metadata": {
  "kernelspec": {
   "display_name": "Python 3",
   "language": "python",
   "name": "python3"
  },
  "language_info": {
   "codemirror_mode": {
    "name": "ipython",
    "version": 3
   },
   "file_extension": ".py",
   "mimetype": "text/x-python",
   "name": "python",
   "nbconvert_exporter": "python",
   "pygments_lexer": "ipython3",
   "version": "3.7.6"
  },
  "toc": {
   "base_numbering": 1,
   "nav_menu": {},
   "number_sections": true,
   "sideBar": true,
   "skip_h1_title": false,
   "title_cell": "Table of Contents",
   "title_sidebar": "Contents",
   "toc_cell": false,
   "toc_position": {},
   "toc_section_display": true,
   "toc_window_display": false
  }
 },
 "nbformat": 4,
 "nbformat_minor": 2
}
