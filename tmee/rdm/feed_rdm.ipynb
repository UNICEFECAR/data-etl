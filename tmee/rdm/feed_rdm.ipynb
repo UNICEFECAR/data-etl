{
 "metadata": {
  "language_info": {
   "codemirror_mode": {
    "name": "ipython",
    "version": 3
   },
   "file_extension": ".py",
   "mimetype": "text/x-python",
   "name": "python",
   "nbconvert_exporter": "python",
   "pygments_lexer": "ipython3",
   "version": "3.8.5-final"
  },
  "orig_nbformat": 2,
  "kernelspec": {
   "name": "python3",
   "display_name": "Python 3",
   "language": "python"
  }
 },
 "nbformat": 4,
 "nbformat_minor": 2,
 "cells": [
  {
   "source": [
    "#### Objective: feed TMEE indicators into UNICEF rdm"
   ],
   "cell_type": "markdown",
   "metadata": {}
  },
  {
   "cell_type": "code",
   "execution_count": null,
   "metadata": {},
   "outputs": [],
   "source": [
    "import pandas as pd"
   ]
  },
  {
   "source": [
    "##### RDM bulk upload (indicators and attributes): https://rdm.unicef.org/Documentation (as of 03/Feb/21)"
   ],
   "cell_type": "markdown",
   "metadata": {}
  },
  {
   "cell_type": "code",
   "execution_count": null,
   "metadata": {},
   "outputs": [],
   "source": [
    "# data from UNICEF rdm indicators: hierachy (agencies, sector, domains, subdomains) and attributes\n",
    "rdm_attributes_file = \"RDM_agency_sector_domain_attribute.xlsx\"\n",
    "agency_df = pd.read_excel(rdm_attributes_file, sheet_name=0, header=1, usecols=\"B:E\")\n",
    "sector_df = pd.read_excel(rdm_attributes_file, sheet_name=1, header=1, usecols=\"B:G\")\n",
    "domain_df = pd.read_excel(rdm_attributes_file, sheet_name=2, header=1, usecols=\"B:G\")\n",
    "attrib_df = pd.read_excel(rdm_attributes_file, sheet_name=3, header=1, usecols=\"B:E\")"
   ]
  },
  {
   "source": [
    "##### Data from TMEE ETL (Data Dictionary + Legacy metadata)"
   ],
   "cell_type": "markdown",
   "metadata": {}
  },
  {
   "cell_type": "code",
   "execution_count": null,
   "metadata": {},
   "outputs": [],
   "source": []
  }
 ]
}