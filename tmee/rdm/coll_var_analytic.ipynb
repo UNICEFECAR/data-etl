{
 "metadata": {
  "language_info": {
   "codemirror_mode": {
    "name": "ipython",
    "version": 3
   },
   "file_extension": ".py",
   "mimetype": "text/x-python",
   "name": "python",
   "nbconvert_exporter": "python",
   "pygments_lexer": "ipython3",
   "version": "3.8.5-final"
  },
  "orig_nbformat": 2,
  "kernelspec": {
   "name": "python3",
   "display_name": "Python 3",
   "language": "python"
  }
 },
 "nbformat": 4,
 "nbformat_minor": 2,
 "cells": [
  {
   "source": [
    "#### Analytics: new data collection using CRAVE"
   ],
   "cell_type": "markdown",
   "metadata": {}
  },
  {
   "cell_type": "code",
   "execution_count": 1,
   "metadata": {},
   "outputs": [],
   "source": [
    "import pandas as pd\n",
    "import numpy as np"
   ]
  },
  {
   "cell_type": "code",
   "execution_count": 2,
   "metadata": {},
   "outputs": [],
   "source": [
    "# template from Flavio: only CP variables already defined for collection\n",
    "cp_to_collect_file = \"TM_template_CP_only.xlsx\"\n",
    "cp_to_collect = pd.read_excel(cp_to_collect_file, sheet_name=0, header=4, usecols=\"A:D\")\n",
    "name_col = \"Title and name of the variable\""
   ]
  },
  {
   "cell_type": "code",
   "execution_count": 3,
   "metadata": {},
   "outputs": [],
   "source": [
    "# gross variables logic\n",
    "logic_total = np.where(cp_to_collect[name_col][:-1].str.lower().str.contains(\"total\").values)[0]\n",
    "# breakdown by sex logic (+2)\n",
    "logic_by_sex = np.where(cp_to_collect[name_col][:-1].str.contains(\"BY SEX\").values)[0]\n",
    "# breakdown by age logic (check +18 or +4)\n",
    "logic_by_age = np.where(cp_to_collect[name_col][:-1].str.contains(\"BY AGE\").values)[0]\n",
    "# breakdown with disabilities (+1 if not in total)\n",
    "logic_with_disab = np.where(cp_to_collect[name_col][:-1].str.lower().str.contains(\"with disab\").values)[0]\n",
    "logic_with_disab = np.setdiff1d(logic_with_disab, logic_total)\n",
    "# breakdown by category (+3)\n",
    "logic_by_categ = np.where(cp_to_collect[name_col][:-1].str.contains(\"BY CATEG\").values)[0]\n",
    "# breakdown by reason (check +7 three or +6 two)\n",
    "logic_by_reason = np.where(cp_to_collect[name_col][:-1].str.contains(\"REASON\").values)[0]\n",
    "# list all logics\n",
    "list_by_breaks = [logic_total, logic_by_sex, logic_by_age,\n",
    "                logic_with_disab, logic_by_categ, logic_by_reason]"
   ]
  },
  {
   "cell_type": "code",
   "execution_count": 4,
   "metadata": {},
   "outputs": [],
   "source": [
    "# work on breakdowns! Function\n",
    "def get_break_in_sub_top(sub_top, rows_sub_top, row_end, logic_by_break):\n",
    "    # init dict\n",
    "    break_in_st = dict.fromkeys(sub_top)\n",
    "    # breakdowns list (pre-defined as logic_by_break)\n",
    "    break_list = [\"sex\", \"age\", \"disab\", \"category\", \"reason\"]\n",
    "    for i, row in enumerate(rows_sub_top[1:]):\n",
    "        break_in_st[sub_top[i]] = dict.fromkeys(break_list)\n",
    "        for j, logic_array in enumerate(logic_by_break[1:]):\n",
    "            break_in_sub = (logic_array < row) & (logic_array > rows_sub_top[i])\n",
    "            break_in_st[sub_top[i]][break_list[j]] = break_in_sub.sum()\n",
    "    # do the last! (in case one sub_top --> initialize i)\n",
    "    if len(rows_sub_top) == 1:\n",
    "        i = -1\n",
    "    break_in_st[sub_top[i+1]] = dict.fromkeys(break_list)\n",
    "    for j, logic_array in enumerate(logic_by_break[1:]):\n",
    "            break_in_sub = (logic_array < row_end) & (logic_array > rows_sub_top[i+1])\n",
    "            break_in_st[sub_top[i+1]][break_list[j]] = break_in_sub.sum()\n",
    "\n",
    "    return break_in_st"
   ]
  },
  {
   "source": [
    "##### Alternative care"
   ],
   "cell_type": "markdown",
   "metadata": {}
  },
  {
   "cell_type": "code",
   "execution_count": 5,
   "metadata": {},
   "outputs": [
    {
     "output_type": "stream",
     "name": "stdout",
     "text": [
      "Alt. Care: [1, 624]\n"
     ]
    }
   ],
   "source": [
    "# search for the topic\n",
    "topic_ini = \"children in alternative care\"\n",
    "topic_end = \"access to justice for children\"\n",
    "row_ini = np.where(cp_to_collect[name_col][:-1].str.lower().str.contains(topic_ini).values)[0][0]\n",
    "row_end = np.where(cp_to_collect[name_col][:-1].str.lower().str.contains(topic_end).values)[0][0]\n",
    "print(f\"Alt. Care: {[row_ini, row_end]}\")"
   ]
  },
  {
   "cell_type": "code",
   "execution_count": 6,
   "metadata": {},
   "outputs": [
    {
     "output_type": "stream",
     "name": "stdout",
     "text": [
      "Alt. Care Sub: [2, 158, 531]\n"
     ]
    }
   ],
   "source": [
    "# subtopics\n",
    "sub_top = [\n",
    "    \"children in formal resdiential care\",\n",
    "    \"children in formal family-based care\",\n",
    "    \"adoptions of children\"\n",
    "]\n",
    "rows_sub_top = []\n",
    "for st in sub_top:\n",
    "    rows_sub_top.append(np.where(cp_to_collect[name_col][:-1].str.lower().str.contains(st).values)[0][0])\n",
    "print(f\"Alt. Care Sub: {rows_sub_top}\")"
   ]
  },
  {
   "cell_type": "code",
   "execution_count": 7,
   "metadata": {},
   "outputs": [
    {
     "output_type": "stream",
     "name": "stdout",
     "text": [
      "{'children in formal resdiential care': 8, 'children in formal family-based care': 16, 'adoptions of children': 4}\n"
     ]
    }
   ],
   "source": [
    "# assign logic total to sub_top\n",
    "gross_in_sub_top = []\n",
    "for i, row in enumerate(rows_sub_top[1:]):\n",
    "    in_sub = (logic_total < row) & (logic_total > rows_sub_top[i])\n",
    "    gross_in_sub_top.append(in_sub.sum())\n",
    "# last sub_top always limits with row_end\n",
    "in_sub = (logic_total < row_end) & (logic_total > rows_sub_top[i+1])\n",
    "gross_in_sub_top.append(in_sub.sum())\n",
    "print(dict(zip(sub_top,gross_in_sub_top)))"
   ]
  },
  {
   "cell_type": "code",
   "execution_count": 8,
   "metadata": {},
   "outputs": [
    {
     "output_type": "stream",
     "name": "stdout",
     "text": [
      "{'children in formal resdiential care': {'sex': 8, 'age': 6, 'disab': 2, 'category': 0, 'reason': 1}, 'children in formal family-based care': {'sex': 16, 'age': 14, 'disab': 11, 'category': 0, 'reason': 4}, 'adoptions of children': {'sex': 4, 'age': 4, 'disab': 0, 'category': 0, 'reason': 0}}\n"
     ]
    }
   ],
   "source": [
    "# work on breakdowns!\n",
    "print(get_break_in_sub_top(sub_top, rows_sub_top, row_end, list_by_breaks))"
   ]
  },
  {
   "source": [
    "##### Access to Justice"
   ],
   "cell_type": "markdown",
   "metadata": {}
  },
  {
   "cell_type": "code",
   "execution_count": 9,
   "metadata": {},
   "outputs": [
    {
     "output_type": "stream",
     "name": "stdout",
     "text": [
      "Access Justice: [624, 798]\n"
     ]
    }
   ],
   "source": [
    "# search for the topic\n",
    "topic_ini = \"access to justice for children\"\n",
    "topic_end = \"violence against children and harmful practices\"\n",
    "row_ini = np.where(cp_to_collect[name_col][:-1].str.lower().str.contains(topic_ini).values)[0][0]\n",
    "row_end = np.where(cp_to_collect[name_col][:-1].str.lower().str.contains(topic_end).values)[0][0]\n",
    "print(f\"Access Justice: {[row_ini, row_end]}\")"
   ]
  },
  {
   "cell_type": "code",
   "execution_count": 10,
   "metadata": {},
   "outputs": [
    {
     "output_type": "stream",
     "name": "stdout",
     "text": [
      "Alt. Care Sub: [625, 718, 773]\n"
     ]
    }
   ],
   "source": [
    "# subtopics\n",
    "sub_top = [\n",
    "    \"child victims and witnesses of crime\",\n",
    "    \"diversion, sentencing and detention of children\",\n",
    "    \"access to independent human rights mechanisms\"\n",
    "]\n",
    "rows_sub_top = []\n",
    "for st in sub_top:\n",
    "    rows_sub_top.append(np.where(cp_to_collect[name_col][:-1].str.lower().str.contains(st).values)[0][0])\n",
    "print(f\"Alt. Care Sub: {rows_sub_top}\")"
   ]
  },
  {
   "cell_type": "code",
   "execution_count": 11,
   "metadata": {},
   "outputs": [
    {
     "output_type": "stream",
     "name": "stdout",
     "text": [
      "{'child victims and witnesses of crime': 4, 'diversion, sentencing and detention of children': 6, 'access to independent human rights mechanisms': 1}\n"
     ]
    }
   ],
   "source": [
    "# assign logic total to sub_top\n",
    "gross_in_sub_top = []\n",
    "for i, row in enumerate(rows_sub_top[1:]):\n",
    "    in_sub = (logic_total < row) & (logic_total > rows_sub_top[i])\n",
    "    gross_in_sub_top.append(in_sub.sum())\n",
    "# last sub_top always limits with row_end\n",
    "in_sub = (logic_total < row_end) & (logic_total > rows_sub_top[i+1])\n",
    "gross_in_sub_top.append(in_sub.sum())\n",
    "print(dict(zip(sub_top,gross_in_sub_top)))"
   ]
  },
  {
   "cell_type": "code",
   "execution_count": 12,
   "metadata": {},
   "outputs": [
    {
     "output_type": "stream",
     "name": "stdout",
     "text": [
      "{'child victims and witnesses of crime': {'sex': 4, 'age': 4, 'disab': 0, 'category': 0, 'reason': 0}, 'diversion, sentencing and detention of children': {'sex': 6, 'age': 6, 'disab': 0, 'category': 0, 'reason': 0}, 'access to independent human rights mechanisms': {'sex': 1, 'age': 1, 'disab': 1, 'category': 0, 'reason': 0}}\n"
     ]
    }
   ],
   "source": [
    "# work on breakdowns!\n",
    "print(get_break_in_sub_top(sub_top, rows_sub_top, row_end, list_by_breaks))"
   ]
  },
  {
   "source": [
    "##### Violence"
   ],
   "cell_type": "markdown",
   "metadata": {}
  },
  {
   "cell_type": "code",
   "execution_count": 13,
   "metadata": {},
   "outputs": [
    {
     "output_type": "stream",
     "name": "stdout",
     "text": [
      "Violence: [798, 883]\n"
     ]
    }
   ],
   "source": [
    "# search for the last topic\n",
    "row_ini = row_end\n",
    "row_end = len(cp_to_collect[:-1])\n",
    "print(f\"Violence: {[row_ini, row_end]}\")"
   ]
  },
  {
   "cell_type": "code",
   "execution_count": 14,
   "metadata": {},
   "outputs": [],
   "source": [
    "# no subtopics, just violence\n",
    "sub_top = [\"violence\"]"
   ]
  },
  {
   "cell_type": "code",
   "execution_count": 15,
   "metadata": {},
   "outputs": [
    {
     "output_type": "stream",
     "name": "stdout",
     "text": [
      "{'violence': 3}\n"
     ]
    }
   ],
   "source": [
    "# assign logic total to topic violence\n",
    "in_top = (logic_total < row_end) & (logic_total > row_ini)\n",
    "gross_in_sub_top = [in_top.sum()]\n",
    "print(dict(zip(sub_top,gross_in_sub_top)))"
   ]
  },
  {
   "cell_type": "code",
   "execution_count": 16,
   "metadata": {},
   "outputs": [
    {
     "output_type": "stream",
     "name": "stdout",
     "text": [
      "{'violence': {'sex': 3, 'age': 3, 'disab': 3, 'category': 3, 'reason': 0}}\n"
     ]
    }
   ],
   "source": [
    "# work on breakdowns!\n",
    "rows_sub_top = [row_ini]\n",
    "print(get_break_in_sub_top(sub_top, rows_sub_top, row_end, list_by_breaks))"
   ]
  }
 ]
}