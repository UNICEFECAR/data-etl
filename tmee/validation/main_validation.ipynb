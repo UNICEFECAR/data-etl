{
 "metadata": {
  "language_info": {
   "codemirror_mode": {
    "name": "ipython",
    "version": 3
   },
   "file_extension": ".py",
   "mimetype": "text/x-python",
   "name": "python",
   "nbconvert_exporter": "python",
   "pygments_lexer": "ipython3",
   "version": "3.8.5-final"
  },
  "orig_nbformat": 2,
  "kernelspec": {
   "name": "python3",
   "display_name": "Python 3.8.5 64-bit",
   "metadata": {
    "interpreter": {
     "hash": "4cd7ab41f5fca4b9b44701077e38c5ffd31fe66a6cab21e0214b68d958d0e462"
    }
   }
  }
 },
 "nbformat": 4,
 "nbformat_minor": 2,
 "cells": [
  {
   "source": [
    "#### Validation Engine Prototyping"
   ],
   "cell_type": "markdown",
   "metadata": {}
  },
  {
   "cell_type": "code",
   "execution_count": null,
   "metadata": {},
   "outputs": [],
   "source": [
    "import pandas as pd\n",
    "import pandera as pa\n",
    "import warnings\n",
    "import importlib\n",
    "import test_functions.def_val_func\n",
    "\n",
    "# importlib reload to be used only in debugging face!\n",
    "importlib.reload(test_functions.def_val_func)\n",
    "from test_functions.def_val_func import (\n",
    "    valid_empty_data,\n",
    "    valid_data_compilation,\n",
    "    valid_flag_compilation,\n",
    "    valid_flag_correspondence,\n",
    "    valid_partial_disaggregation,\n",
    "    valid_partial_total,\n",
    "    valid_p_or_e_flag,\n",
    "    valid_disaggregation,\n",
    "    valid_disabilities,\n",
    "    valid_stock_and_flows,\n",
    "    valid_category_other,\n",
    "    valid_formula,\n",
    "    get_totals_by_sex,\n",
    "    get_totals_and_disag,\n",
    "    get_stock_and_flows,\n",
    "    get_totals_and_others,\n",
    "    match_population_and_disable,\n",
    "    is_entry_row,\n",
    ")"
   ]
  },
  {
   "source": [
    "#### Reference to Data Validation rules"
   ],
   "cell_type": "markdown",
   "metadata": {}
  },
  {
   "cell_type": "code",
   "execution_count": null,
   "metadata": {},
   "outputs": [],
   "source": [
    "path_read_file = \"validation_rules.xlsx\"\n",
    "df_rules = pd.read_excel(path_read_file, sheet_name=\"validation_rules\", dtype=str)"
   ]
  },
  {
   "source": [
    "#### Reference to Excel Data Collection Template"
   ],
   "cell_type": "markdown",
   "metadata": {}
  },
  {
   "cell_type": "code",
   "execution_count": null,
   "metadata": {},
   "outputs": [],
   "source": [
    "path_read_file = \"Transmonee - Data Collection Template - 24 June.xlsx\"\n",
    "read_rows_offset = 12\n",
    "df_collection = pd.read_excel(\n",
    "    path_read_file, sheet_name=\"Template\", dtype=str, skiprows=read_rows_offset\n",
    ")"
   ]
  },
  {
   "source": [
    "#### Dev Note: functions below `get_totals_and_disag`, `match_population_and_disable`, `get_stock_and_flows`\n",
    "Could probably be gather in one using the split separator as input"
   ],
   "cell_type": "markdown",
   "metadata": {}
  },
  {
   "cell_type": "code",
   "execution_count": null,
   "metadata": {},
   "outputs": [],
   "source": [
    "# get sex disaggregation rows from validation rules\n",
    "totals_by_sex = get_totals_and_disag(\n",
    "    df_rules.loc[8, \"Formulas test failed\"], read_rows_offset\n",
    ")\n",
    "# get age disaggregation rows from validation rules\n",
    "totals_by_age = get_totals_and_disag(\n",
    "    df_rules.loc[9, \"Formulas test failed\"], read_rows_offset\n",
    ")\n",
    "# get reasons for placement disaggregation rows from validation rules - Child Formal Alternative Care\n",
    "totals_by_placement = get_totals_and_disag(\n",
    "    df_rules.loc[10, \"Formulas test failed\"], read_rows_offset\n",
    ")\n",
    "# get reasons for leaving disaggregation rows from validation rules - Child Formal Alternative Care\n",
    "totals_by_leaving = get_totals_and_disag(\n",
    "    df_rules.loc[11, \"Formulas test failed\"], read_rows_offset\n",
    ")\n",
    "# get category of offence disaggregation rows from validation rules - Child Access to Justice\n",
    "totals_by_offence = get_totals_and_disag(\n",
    "    df_rules.loc[12, \"Formulas test failed\"], read_rows_offset\n",
    ")\n",
    "# get type of school disaggregation rows from validation rules - Children with disabilities in Education\n",
    "totals_by_school = get_totals_and_disag(\n",
    "    df_rules.loc[13, \"Formulas test failed\"], read_rows_offset\n",
    ")\n",
    "# get level of ISCED disaggregation rows from validation rules - Children with disabilities in Education\n",
    "totals_by_ISCED = get_totals_and_disag(\n",
    "    df_rules.loc[14, \"Formulas test failed\"], read_rows_offset\n",
    ")\n",
    "# Children in Formal Residential Care - get sample population and with disabilities\n",
    "disable_child_in_care = match_population_and_disable(\n",
    "    df_rules.loc[15, \"Formulas test failed\"], read_rows_offset\n",
    ")\n",
    "# Young people in Formal Residential Care - get sample population and with disabilities\n",
    "disable_young_in_care = match_population_and_disable(\n",
    "    df_rules.loc[16, \"Formulas test failed\"], read_rows_offset\n",
    ")\n",
    "# Children who entered Formal Residential Care - get sample population and with disabilities\n",
    "disable_child_care_enter = match_population_and_disable(\n",
    "    df_rules.loc[17, \"Formulas test failed\"], read_rows_offset\n",
    ")\n",
    "# Children who left Formal Residential Care - get sample population and with disabilities\n",
    "disable_child_care_left = match_population_and_disable(\n",
    "    df_rules.loc[18, \"Formulas test failed\"], read_rows_offset\n",
    ")\n",
    "# Young people who left Formal Residential Care - get sample population and with disabilities\n",
    "disable_young_care_left = match_population_and_disable(\n",
    "    df_rules.loc[19, \"Formulas test failed\"], read_rows_offset\n",
    ")\n",
    "# Child Protection aternative care stock and flows (entrants/exits)\n",
    "cp_stock_and_flows = get_stock_and_flows(\n",
    "    df_rules.loc[20, \"Formulas test failed\"], read_rows_offset\n",
    ")\n",
    "# Child Protection - category \"other\" in disaggregation\n",
    "cp_others_in_disag = get_totals_and_others(\n",
    "    df_rules.loc[23, \"Formulas test failed\"], read_rows_offset\n",
    ")\n",
    "# Children in Formal Family Care - get sample population and with disabilities\n",
    "disable_child_in_family_care = match_population_and_disable(\n",
    "    df_rules.loc[24, \"Formulas test failed\"], read_rows_offset\n",
    ")\n",
    "# Young people in Formal Family Care - get sample population and with disabilities\n",
    "disable_young_in_family_care = match_population_and_disable(\n",
    "    df_rules.loc[25, \"Formulas test failed\"], read_rows_offset\n",
    ")\n",
    "# Child Protection - children in formal family care by type (uses totals and others parse)\n",
    "cp_family_care_by_type = get_totals_and_others(\n",
    "    df_rules.loc[26, \"Formulas test failed\"], read_rows_offset\n",
    ")"
   ]
  },
  {
   "cell_type": "code",
   "execution_count": null,
   "metadata": {},
   "outputs": [],
   "source": []
  },
  {
   "source": [
    "#### Validate data collection using template"
   ],
   "cell_type": "markdown",
   "metadata": {}
  },
  {
   "cell_type": "code",
   "execution_count": null,
   "metadata": {},
   "outputs": [],
   "source": [
    "# Input year T for data reference\n",
    "input_year = 2017\n",
    "# Get column index from input_year\n",
    "col_index = df_collection.columns.get_loc(input_year)\n",
    "# Get column name for input_year flags column\n",
    "col_flag = df_collection.columns[col_index + 1]\n",
    "# Mask: rows expected to have data entered\n",
    "data_entry_rows = is_entry_row(df_collection[\"CODE\"])\n"
   ]
  },
  {
   "source": [
    "#### Pandera check list of callables: Validation functions at a DataFrame Level\n",
    "##### Operate on the whole year data collection column (where entries are expected: `data_entry_rows`)"
   ],
   "cell_type": "markdown",
   "metadata": {}
  },
  {
   "cell_type": "code",
   "execution_count": null,
   "metadata": {},
   "outputs": [],
   "source": [
    "# Any ideas to define this nicer? Use a dictionary for key args?\n",
    "check_list_df = [\n",
    "    pa.Check(\n",
    "        valid_data_compilation,\n",
    "        name=\"Availability between years\",\n",
    "        col_ind=col_index,\n",
    "        data_rows=data_entry_rows,\n",
    "        raise_warning=True,\n",
    "        ignore_na=False,\n",
    "    )\n",
    "]\n",
    "check_list_df.append(\n",
    "    pa.Check(\n",
    "        valid_flag_compilation,\n",
    "        name=\"Flag availability between years\",\n",
    "        col_ind=col_index,\n",
    "        data_rows=data_entry_rows,\n",
    "        raise_warning=True,\n",
    "        ignore_na=False,\n",
    "    )\n",
    ")\n",
    "check_list_df.append(\n",
    "    pa.Check(\n",
    "        valid_flag_correspondence,\n",
    "        name=\"Flag correspondence between years\",\n",
    "        col_ind=col_index,\n",
    "        data_rows=data_entry_rows,\n",
    "        raise_warning=True,\n",
    "        ignore_na=False,\n",
    "    )\n",
    ")"
   ]
  },
  {
   "source": [
    "##### Operate on column fractions only (Sex Disaggregation)"
   ],
   "cell_type": "markdown",
   "metadata": {}
  },
  {
   "cell_type": "code",
   "execution_count": null,
   "metadata": {},
   "outputs": [],
   "source": [
    "check_list_df.extend(\n",
    "    pa.Check(\n",
    "        valid_disaggregation,\n",
    "        name=f\"Consistent Sex Disaggregation {i}\",\n",
    "        col_ind=col_index,\n",
    "        df_rows=rows,\n",
    "        raise_warning=True,\n",
    "        ignore_na=False,\n",
    "    )\n",
    "    for i, rows in enumerate(totals_by_sex, 1)\n",
    ")\n",
    "# To implement below: evaluate ONLY if total[i] equal sum(disag)[i] for i in totals_by_sex\n",
    "check_list_df.extend(\n",
    "    pa.Check(\n",
    "        valid_partial_disaggregation,\n",
    "        name=f\"Consistent Flags Partial: Sex Disaggregation {i}\",\n",
    "        col_ind=col_index,\n",
    "        df_rows=rows,\n",
    "        raise_warning=True,\n",
    "        ignore_na=False,\n",
    "    )\n",
    "    for i, rows in enumerate(totals_by_sex, 1)\n",
    ")\n",
    "# To implement below: evaluate ONLY if total[i] equal sum(disag)[i] for i in totals_by_sex\n",
    "check_list_df.extend(\n",
    "    pa.Check(\n",
    "        valid_partial_total,\n",
    "        name=f\"Consistent Totals flagged Partial: Sex Disaggregation {i}\",\n",
    "        col_ind=col_index,\n",
    "        df_rows=rows,\n",
    "        raise_warning=True,\n",
    "        ignore_na=False,\n",
    "    )\n",
    "    for i, rows in enumerate(totals_by_sex, 1)\n",
    ")"
   ]
  },
  {
   "source": [
    "##### Operate on column fractions only (Age Disaggregation)"
   ],
   "cell_type": "markdown",
   "metadata": {}
  },
  {
   "cell_type": "code",
   "execution_count": null,
   "metadata": {},
   "outputs": [],
   "source": [
    "check_list_df.extend(\n",
    "    pa.Check(\n",
    "        valid_disaggregation,\n",
    "        name=f\"Consistent Age Disaggregation {i}\",\n",
    "        col_ind=col_index,\n",
    "        df_rows=rows,\n",
    "        raise_warning=True,\n",
    "        ignore_na=False,\n",
    "    )\n",
    "    for i, rows in enumerate(totals_by_age, 1)\n",
    ")\n",
    "# To implement below: evaluate ONLY if total[i] equal sum(disag)[i] for i in totals_by_age\n",
    "# valid_partial_disaggregation and valid_partial_total in totals_by_age!"
   ]
  },
  {
   "source": [
    "##### Operate on column fractions only (Child Formal Alternative Care: Reasons for Placement Disaggregation)"
   ],
   "cell_type": "markdown",
   "metadata": {}
  },
  {
   "cell_type": "code",
   "execution_count": null,
   "metadata": {},
   "outputs": [],
   "source": [
    "check_list_df.extend(\n",
    "    pa.Check(\n",
    "        valid_disaggregation,\n",
    "        name=f\"Consistent Reasons for Placement Disaggregation {i} - Child Formal Alternative Care\",\n",
    "        col_ind=col_index,\n",
    "        df_rows=rows,\n",
    "        raise_warning=True,\n",
    "        ignore_na=False,\n",
    "    )\n",
    "    for i, rows in enumerate(totals_by_placement, 1)\n",
    ")\n",
    "# To implement below: evaluate ONLY if total[i] equal sum(disag)[i] for i in totals_by_placement\n",
    "# valid_partial_disaggregation and valid_partial_total in totals_by_placement!"
   ]
  },
  {
   "source": [
    "##### Operate on column fractions only (Child Formal Alternative Care: Reasons for Leaving Disaggregation)"
   ],
   "cell_type": "markdown",
   "metadata": {}
  },
  {
   "cell_type": "code",
   "execution_count": null,
   "metadata": {},
   "outputs": [],
   "source": [
    "check_list_df.extend(\n",
    "    pa.Check(\n",
    "        valid_disaggregation,\n",
    "        name=f\"Consistent Reasons for Leaving Disaggregation {i} - Child Formal Alternative Care\",\n",
    "        col_ind=col_index,\n",
    "        df_rows=rows,\n",
    "        raise_warning=True,\n",
    "        ignore_na=False,\n",
    "    )\n",
    "    for i, rows in enumerate(totals_by_leaving, 1)\n",
    ")\n",
    "# To implement below: evaluate ONLY if total[i] equal sum(disag)[i] for i in totals_by_leaving\n",
    "# valid_partial_disaggregation and valid_partial_total in totals_by_leaving!"
   ]
  },
  {
   "source": [
    "##### Operate on column fractions only (Child Access to Justice: Category of Offence Disaggregation)"
   ],
   "cell_type": "markdown",
   "metadata": {}
  },
  {
   "cell_type": "code",
   "execution_count": null,
   "metadata": {},
   "outputs": [],
   "source": [
    "check_list_df.extend(\n",
    "    pa.Check(\n",
    "        valid_disaggregation,\n",
    "        name=f\"Consistent Category of Offence Disaggregation {i} - Child Access to Justice\",\n",
    "        col_ind=col_index,\n",
    "        df_rows=rows,\n",
    "        raise_warning=True,\n",
    "        ignore_na=False,\n",
    "    )\n",
    "    for i, rows in enumerate(totals_by_offence, 1)\n",
    ")\n",
    "# To implement below: evaluate ONLY if total[i] equal sum(disag)[i] for i in totals_by_offence\n",
    "# valid_partial_disaggregation and valid_partial_total in totals_by_offence!"
   ]
  },
  {
   "source": [
    "##### Operate on column fractions only (Child with disabilities in Education: Type of School Disaggregation)"
   ],
   "cell_type": "markdown",
   "metadata": {}
  },
  {
   "cell_type": "code",
   "execution_count": null,
   "metadata": {},
   "outputs": [],
   "source": [
    "check_list_df.extend(\n",
    "    pa.Check(\n",
    "        valid_disaggregation,\n",
    "        name=f\"Consistent Type of School Disaggregation {i} - Children with disabilities in Education\",\n",
    "        col_ind=col_index,\n",
    "        df_rows=rows,\n",
    "        raise_warning=True,\n",
    "        ignore_na=False,\n",
    "    )\n",
    "    for i, rows in enumerate(totals_by_school, 1)\n",
    ")\n",
    "# To implement below: evaluate ONLY if total[i] equal sum(disag)[i] for i in totals_by_school\n",
    "# valid_partial_disaggregation and valid_partial_total in totals_by_school!"
   ]
  },
  {
   "source": [
    "##### Operate on column fractions only (Child with disabilities in Education: Type of ISCED level)"
   ],
   "cell_type": "markdown",
   "metadata": {}
  },
  {
   "cell_type": "code",
   "execution_count": null,
   "metadata": {},
   "outputs": [],
   "source": [
    "check_list_df.extend(\n",
    "    pa.Check(\n",
    "        valid_disaggregation,\n",
    "        name=f\"Consistent Level of ISCED Disaggregation {i} - Children with disabilities in Education\",\n",
    "        col_ind=col_index,\n",
    "        df_rows=rows,\n",
    "        raise_warning=True,\n",
    "        ignore_na=False,\n",
    "    )\n",
    "    for i, rows in enumerate(totals_by_ISCED, 1)\n",
    ")\n",
    "# To implement below: evaluate ONLY if total[i] equal sum(disag)[i] for i in totals_by_ISCED\n",
    "# valid_partial_disaggregation and valid_partial_total in totals_by_ISCED!"
   ]
  },
  {
   "source": [
    "#### Pandera check list of callables: Validation functions at a Series (column) Level\n",
    "##### Operate on the whole year data collection column (where entries are expected: `data_entry_rows`)"
   ],
   "cell_type": "markdown",
   "metadata": {}
  },
  {
   "cell_type": "code",
   "execution_count": null,
   "metadata": {},
   "outputs": [],
   "source": [
    "check_list_col = [\n",
    "    pa.Check(\n",
    "        valid_empty_data,\n",
    "        name=\"Incomplete Data\",\n",
    "        data_rows=data_entry_rows,\n",
    "        raise_warning=True,\n",
    "        ignore_na=False,\n",
    "    )\n",
    "]"
   ]
  },
  {
   "source": [
    "##### Operate on column fractions only (disabilities)"
   ],
   "cell_type": "markdown",
   "metadata": {}
  },
  {
   "cell_type": "code",
   "execution_count": null,
   "metadata": {},
   "outputs": [],
   "source": [
    "check_list_col.append(\n",
    "    pa.Check(\n",
    "        valid_disabilities,\n",
    "        name=\"Consistent Disabilities - Children in Formal Residential Care\",\n",
    "        df_rows=disable_child_in_care,\n",
    "        raise_warning=True,\n",
    "        ignore_na=False,\n",
    "    )\n",
    ")\n",
    "check_list_col.append(\n",
    "    pa.Check(\n",
    "        valid_disabilities,\n",
    "        name=\"Consistent Disabilities - Young people in Formal Residential Care\",\n",
    "        df_rows=disable_young_in_care,\n",
    "        raise_warning=True,\n",
    "        ignore_na=False,\n",
    "    )\n",
    ")\n",
    "check_list_col.append(\n",
    "    pa.Check(\n",
    "        valid_disabilities,\n",
    "        name=\"Consistent Disabilities - Children who entered Formal Residential Care\",\n",
    "        df_rows=disable_child_care_enter,\n",
    "        raise_warning=True,\n",
    "        ignore_na=False,\n",
    "    )\n",
    ")\n",
    "check_list_col.append(\n",
    "    pa.Check(\n",
    "        valid_disabilities,\n",
    "        name=\"Consistent Disabilities - Children who left Formal Residential Care\",\n",
    "        df_rows=disable_child_care_left,\n",
    "        raise_warning=True,\n",
    "        ignore_na=False,\n",
    "    )\n",
    ")\n",
    "check_list_col.append(\n",
    "    pa.Check(\n",
    "        valid_disabilities,\n",
    "        name=\"Consistent Disabilities - Young who left Formal Residential Care\",\n",
    "        df_rows=disable_young_care_left,\n",
    "        raise_warning=True,\n",
    "        ignore_na=False,\n",
    "    )\n",
    ")\n",
    "# I group here more disabilities that come later in the TMEE validation flow from Flavio\n",
    "check_list_col.append(\n",
    "    pa.Check(\n",
    "        valid_disabilities,\n",
    "        name=\"Consistent Disabilities - Children in Formal Family-based Care\",\n",
    "        df_rows=disable_child_in_family_care,\n",
    "        raise_warning=True,\n",
    "        ignore_na=False,\n",
    "    )\n",
    ")\n",
    "check_list_col.append(\n",
    "    pa.Check(\n",
    "        valid_disabilities,\n",
    "        name=\"Consistent Disabilities - Young people in Formal Family-based Care\",\n",
    "        df_rows=disable_young_in_family_care,\n",
    "        raise_warning=True,\n",
    "        ignore_na=False,\n",
    "    )\n",
    ")"
   ]
  },
  {
   "source": [
    "##### Operate on column fractions only (Child Protection Stock and Flows)"
   ],
   "cell_type": "markdown",
   "metadata": {}
  },
  {
   "cell_type": "code",
   "execution_count": null,
   "metadata": {},
   "outputs": [],
   "source": [
    "check_list_col.extend(\n",
    "    pa.Check(\n",
    "        valid_stock_and_flows,\n",
    "        name=f\"Consistency Alert Stock and Flows {i} - Child Protection Alternative Care\",\n",
    "        df_rows=rows,\n",
    "        raise_warning=True,\n",
    "        ignore_na=False,\n",
    "    )\n",
    "    for i, rows in enumerate(cp_stock_and_flows, 1)\n",
    ")"
   ]
  },
  {
   "source": [
    "##### Operate on column fractions only (disaggregation with category \"other\")"
   ],
   "cell_type": "markdown",
   "metadata": {}
  },
  {
   "cell_type": "code",
   "execution_count": null,
   "metadata": {},
   "outputs": [],
   "source": [
    "check_list_col.append(\n",
    "    pa.Check(\n",
    "        valid_category_other,\n",
    "        name=\"Consistent 'Other' disaggregation - Child Protection reason for placement/of leaving and offence\",\n",
    "        df_rows=cp_others_in_disag,\n",
    "        raise_warning=True,\n",
    "        ignore_na=False,\n",
    "    )\n",
    ")"
   ]
  },
  {
   "source": [
    "##### Operate on the year data collection flag column (fraction Sex Disaggregations)"
   ],
   "cell_type": "markdown",
   "metadata": {}
  },
  {
   "cell_type": "code",
   "execution_count": null,
   "metadata": {},
   "outputs": [],
   "source": [
    "check_list_col_flag = [\n",
    "    pa.Check(\n",
    "        valid_p_or_e_flag,\n",
    "        name=\"Consistent Provisional Flags - Sex Disaggregation {i}\",\n",
    "        df_rows=rows,\n",
    "        raise_warning=True,\n",
    "        ignore_na=False,\n",
    "    )\n",
    "    for i, rows in enumerate(totals_by_sex, 1)\n",
    "]"
   ]
  },
  {
   "source": [
    "##### Operate on the year data collection flag column (fraction Age Disaggregations)"
   ],
   "cell_type": "markdown",
   "metadata": {}
  },
  {
   "cell_type": "code",
   "execution_count": null,
   "metadata": {},
   "outputs": [],
   "source": [
    "# Here valid_p_or_e_flag must be extended for totals_by_age"
   ]
  },
  {
   "source": [
    "##### Operate on the year data collection flag column (all other disaggregations)"
   ],
   "cell_type": "markdown",
   "metadata": {}
  },
  {
   "cell_type": "code",
   "execution_count": null,
   "metadata": {},
   "outputs": [],
   "source": [
    "# Here valid_p_or_e_flag must be extended for totals_by_placement\n",
    "# Here valid_p_or_e_flag must be extended for totals_by_leaving\n",
    "# Here valid_p_or_e_flag must be extended for totals_by_offence\n",
    "# Here valid_p_or_e_flag must be extended for totals_by_school\n",
    "# Here valid_p_or_e_flag must be extended for totals_by_ISCED"
   ]
  },
  {
   "source": [
    "#### Define Pandera Schema and Check Functions to be applied!"
   ],
   "cell_type": "markdown",
   "metadata": {}
  },
  {
   "cell_type": "code",
   "execution_count": null,
   "metadata": {},
   "outputs": [],
   "source": [
    "schema = pa.DataFrameSchema(\n",
    "    {\n",
    "        2017: pa.Column(None, checks=check_list_col, nullable=True),\n",
    "        col_flag: pa.Column(None, checks=check_list_col_flag, nullable=True),\n",
    "    },\n",
    "    checks=check_list_df,\n",
    ")"
   ]
  },
  {
   "source": [
    "#### Leverage warning package for error handling"
   ],
   "cell_type": "markdown",
   "metadata": {}
  },
  {
   "cell_type": "code",
   "execution_count": null,
   "metadata": {
    "tags": [
     "outputPrepend"
    ]
   },
   "outputs": [],
   "source": [
    "# catch and print warnings\n",
    "with warnings.catch_warnings(record=True) as caught_warnings:\n",
    "    warnings.simplefilter(\"always\")\n",
    "    validated_df = schema(df_collection)\n",
    "    for warning in caught_warnings:\n",
    "        print(warning.message)"
   ]
  },
  {
   "source": [
    "#### Commented code"
   ],
   "cell_type": "markdown",
   "metadata": {}
  },
  {
   "cell_type": "code",
   "execution_count": null,
   "metadata": {},
   "outputs": [],
   "source": [
    "# check_list = [pa.Check(valid_data_compilation, name=\"Availability between years\",\n",
    "#         col_ind=col_index, data_rows=data_entry_rows, raise_warning=True, ignore_na=False)]\n",
    "# check_list.append(\n",
    "#     pa.Check(valid_flag_compilation, name=\"Flag availability between years\",\n",
    "#         col_ind=col_index, data_rows=data_entry_rows, raise_warning=True, ignore_na=False)\n",
    "# )\n",
    "# check_list.append(\n",
    "#     pa.Check(valid_flag_correspondence, name=\"Flag correspondence between years\",\n",
    "#         col_ind=col_index, data_rows=data_entry_rows, raise_warning=True, ignore_na=False)\n",
    "# )\n",
    "# check_list.extend(\n",
    "#     pa.Check(\n",
    "#         valid_disaggregation, name=f\"Consistent Sex Disaggregation {i}\", col_ind=col_index,\n",
    "#         df_rows=rows, raise_warning=True, ignore_na=False) for i, rows in enumerate(totals_by_sex, 1)\n",
    "# )\n",
    "\n",
    "# schema = pa.DataFrameSchema({\n",
    "#     2017:pa.Column(None, pa.Check(valid_empty_data, name=\"Incomplete Data\",\n",
    "#     data_rows=data_entry_rows, raise_warning=True, ignore_na=False), nullable=True),\n",
    "#     col_flag:pa.Column(None, nullable=True)\n",
    "# },\n",
    "#     checks=check_list\n",
    "# )"
   ]
  }
 ]
}