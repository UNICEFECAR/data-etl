{
 "metadata": {
  "language_info": {
   "codemirror_mode": {
    "name": "ipython",
    "version": 3
   },
   "file_extension": ".py",
   "mimetype": "text/x-python",
   "name": "python",
   "nbconvert_exporter": "python",
   "pygments_lexer": "ipython3",
   "version": "3.8.5-final"
  },
  "orig_nbformat": 2,
  "kernelspec": {
   "name": "Python 3.8.5 64-bit",
   "display_name": "Python 3.8.5 64-bit",
   "metadata": {
    "interpreter": {
     "hash": "4cd7ab41f5fca4b9b44701077e38c5ffd31fe66a6cab21e0214b68d958d0e462"
    }
   }
  }
 },
 "nbformat": 4,
 "nbformat_minor": 2,
 "cells": [
  {
   "source": [
    "#### Validation Engine Prototyping"
   ],
   "cell_type": "markdown",
   "metadata": {}
  },
  {
   "cell_type": "code",
   "execution_count": 12,
   "metadata": {},
   "outputs": [],
   "source": [
    "import pandas as pd\n",
    "import pandera as pa\n",
    "import warnings\n",
    "import importlib\n",
    "import test_functions.def_val_func\n",
    "\n",
    "# importlib reload to be used only in debugging face!\n",
    "importlib.reload(test_functions.def_val_func)\n",
    "from test_functions.def_val_func import (\n",
    "    valid_empty_data,\n",
    "    valid_data_compilation,\n",
    "    valid_flag_compilation,\n",
    "    valid_flag_correspondence,\n",
    "    valid_partial_disaggregation,\n",
    "    valid_partial_total,\n",
    "    valid_p_or_e_flag,\n",
    "    valid_disaggregation,\n",
    "    get_totals_by_sex,\n",
    "    is_entry_row,\n",
    ")"
   ]
  },
  {
   "source": [
    "#### Reference to Data Validation rules"
   ],
   "cell_type": "markdown",
   "metadata": {}
  },
  {
   "cell_type": "code",
   "execution_count": 13,
   "metadata": {},
   "outputs": [],
   "source": [
    "path_read_file = \"validation_rules.xlsx\"\n",
    "df_rules = pd.read_excel(path_read_file, sheet_name=\"validation_rules\", dtype=str)"
   ]
  },
  {
   "source": [
    "#### Reference to Excel Data Collection Template"
   ],
   "cell_type": "markdown",
   "metadata": {}
  },
  {
   "cell_type": "code",
   "execution_count": 14,
   "metadata": {},
   "outputs": [],
   "source": [
    "path_read_file = \"Transmonee - Data Collection Template - 24 June.xlsx\"\n",
    "read_rows_offset = 12\n",
    "df_collection = pd.read_excel(\n",
    "    path_read_file, sheet_name=\"Template\", dtype=str, skiprows=read_rows_offset\n",
    ")"
   ]
  },
  {
   "cell_type": "code",
   "execution_count": 15,
   "metadata": {},
   "outputs": [
    {
     "output_type": "execute_result",
     "data": {
      "text/plain": [
       "[{'total': 3, 'sex1': 5, 'sex2': 6},\n",
       " {'total': 26, 'sex1': 28, 'sex2': 29},\n",
       " {'total': 49, 'sex1': 52, 'sex2': 53},\n",
       " {'total': 54, 'sex1': 56, 'sex2': 57},\n",
       " {'total': 84, 'sex1': 86, 'sex2': 87},\n",
       " {'total': 107, 'sex1': 109, 'sex2': 110},\n",
       " {'total': 137, 'sex1': 139, 'sex2': 140},\n",
       " {'total': 160, 'sex1': 163, 'sex2': 164},\n",
       " {'total': 166, 'sex1': 169, 'sex2': 170},\n",
       " {'total': 190, 'sex1': 193, 'sex2': 194},\n",
       " {'total': 214, 'sex1': 217, 'sex2': 218},\n",
       " {'total': 238, 'sex1': 240, 'sex2': 241},\n",
       " {'total': 261, 'sex1': 264, 'sex2': 265},\n",
       " {'total': 266, 'sex1': 268, 'sex2': 269},\n",
       " {'total': 296, 'sex1': 298, 'sex2': 299},\n",
       " {'total': 319, 'sex1': 322, 'sex2': 323},\n",
       " {'total': 343, 'sex1': 346, 'sex2': 347},\n",
       " {'total': 367, 'sex1': 370, 'sex2': 371},\n",
       " {'total': 391, 'sex1': 393, 'sex2': 394},\n",
       " {'total': 421, 'sex1': 423, 'sex2': 424},\n",
       " {'total': 444, 'sex1': 447, 'sex2': 448},\n",
       " {'total': 449, 'sex1': 452, 'sex2': 453},\n",
       " {'total': 481, 'sex1': 484, 'sex2': 485},\n",
       " {'total': 513, 'sex1': 516, 'sex2': 517},\n",
       " {'total': 546, 'sex1': 548, 'sex2': 549},\n",
       " {'total': 569, 'sex1': 571, 'sex2': 572},\n",
       " {'total': 592, 'sex1': 594, 'sex2': 595},\n",
       " {'total': 615, 'sex1': 617, 'sex2': 618},\n",
       " {'total': 640, 'sex1': 642, 'sex2': 643},\n",
       " {'total': 670, 'sex1': 672, 'sex2': 673},\n",
       " {'total': 700, 'sex1': 702, 'sex2': 703},\n",
       " {'total': 730, 'sex1': 732, 'sex2': 733},\n",
       " {'total': 761, 'sex1': 763, 'sex2': 764},\n",
       " {'total': 773, 'sex1': 775, 'sex2': 776},\n",
       " {'total': 785, 'sex1': 787, 'sex2': 788},\n",
       " {'total': 797, 'sex1': 799, 'sex2': 800},\n",
       " {'total': 809, 'sex1': 811, 'sex2': 812},\n",
       " {'total': 821, 'sex1': 823, 'sex2': 824},\n",
       " {'total': 840, 'sex1': 842, 'sex2': 843},\n",
       " {'total': 860, 'sex1': 863, 'sex2': 864},\n",
       " {'total': 889, 'sex1': 892, 'sex2': 893},\n",
       " {'total': 922, 'sex1': 925, 'sex2': 926},\n",
       " {'total': 955, 'sex1': 958, 'sex2': 959},\n",
       " {'total': 1089, 'sex1': 1091, 'sex2': 1092}]"
      ]
     },
     "metadata": {},
     "execution_count": 15
    }
   ],
   "source": [
    "# get sex disaggregation rows from validation rules\n",
    "totals_by_sex = get_totals_by_sex(\n",
    "    df_rules.loc[8, \"Formulas test failed\"], read_rows_offset\n",
    ")\n",
    "totals_by_sex"
   ]
  },
  {
   "source": [
    "#### Validate data collection using template"
   ],
   "cell_type": "markdown",
   "metadata": {}
  },
  {
   "cell_type": "code",
   "execution_count": null,
   "metadata": {},
   "outputs": [],
   "source": [
    "# Input year T for data reference\n",
    "input_year = 2017\n",
    "# Get column index from input_year\n",
    "col_ind = df_collection.columns.get_loc(input_year)\n",
    "# Get column name for input_year flags column\n",
    "col_flag = df_collection.columns[col_ind + 1]\n",
    "# Mask: rows expected to have data entered\n",
    "data_entry_rows = is_entry_row(df_collection[\"CODE\"])\n"
   ]
  },
  {
   "source": [
    "#### Pandera check list of callables: Validation functions at a DataFrame Level\n",
    "##### Operate on the whole year data collection column (where entries are expected: `data_entry_rows`)"
   ],
   "cell_type": "markdown",
   "metadata": {}
  },
  {
   "cell_type": "code",
   "execution_count": null,
   "metadata": {},
   "outputs": [],
   "source": [
    "# Any ideas to define this nicer? Use a dictionary for key args?\n",
    "check_list_df = [\n",
    "    pa.Check(\n",
    "        valid_data_compilation,\n",
    "        name=\"Availability between years\",\n",
    "        col_val=col_ind,\n",
    "        data_rows=data_entry_rows,\n",
    "        raise_warning=True,\n",
    "        ignore_na=False,\n",
    "    )\n",
    "]\n",
    "check_list_df.append(\n",
    "    pa.Check(\n",
    "        valid_flag_compilation,\n",
    "        name=\"Flag availability between years\",\n",
    "        col_val=col_ind,\n",
    "        data_rows=data_entry_rows,\n",
    "        raise_warning=True,\n",
    "        ignore_na=False,\n",
    "    )\n",
    ")\n",
    "check_list_df.append(\n",
    "    pa.Check(\n",
    "        valid_flag_correspondence,\n",
    "        name=\"Flag correspondence between years\",\n",
    "        col_val=col_ind,\n",
    "        data_rows=data_entry_rows,\n",
    "        raise_warning=True,\n",
    "        ignore_na=False,\n",
    "    )\n",
    ")"
   ]
  },
  {
   "source": [
    "##### Operate on column fractions only (disaggregations)"
   ],
   "cell_type": "markdown",
   "metadata": {}
  },
  {
   "cell_type": "code",
   "execution_count": null,
   "metadata": {},
   "outputs": [],
   "source": [
    "check_list_df.extend(\n",
    "    pa.Check(\n",
    "        valid_disaggregation,\n",
    "        name=f\"Consistent Sex Disaggregation {i}\",\n",
    "        col_val=col_ind,\n",
    "        df_rows=rows,\n",
    "        raise_warning=True,\n",
    "        ignore_na=False,\n",
    "    )\n",
    "    for i, rows in enumerate(totals_by_sex, 1)\n",
    ")\n",
    "check_list_df.extend(\n",
    "    pa.Check(\n",
    "        valid_partial_disaggregation,\n",
    "        name=f\"Consistent Flags Partial: Sex Disaggregation {i}\",\n",
    "        col_val=col_ind,\n",
    "        df_rows=rows,\n",
    "        raise_warning=True,\n",
    "        ignore_na=False,\n",
    "    )\n",
    "    for i, rows in enumerate(totals_by_sex, 1)\n",
    ")\n",
    "check_list_df.extend(\n",
    "    pa.Check(\n",
    "        valid_partial_total,\n",
    "        name=f\"Consistent Totals flagged Partial: Sex Disaggregation {i}\",\n",
    "        col_val=col_ind,\n",
    "        df_rows=rows,\n",
    "        raise_warning=True,\n",
    "        ignore_na=False,\n",
    "    )\n",
    "    for i, rows in enumerate(totals_by_sex, 1)\n",
    ")"
   ]
  },
  {
   "source": [
    "#### Pandera check list of callables: Validation functions at a Series (column) Level\n",
    "##### Operate on the whole year data collection column (where entries are expected: `data_entry_rows`)"
   ],
   "cell_type": "markdown",
   "metadata": {}
  },
  {
   "cell_type": "code",
   "execution_count": null,
   "metadata": {},
   "outputs": [],
   "source": [
    "check_list_col = [\n",
    "    pa.Check(\n",
    "        valid_empty_data,\n",
    "        name=\"Incomplete Data\",\n",
    "        data_rows=data_entry_rows,\n",
    "        raise_warning=True,\n",
    "        ignore_na=False,\n",
    "    )\n",
    "]"
   ]
  },
  {
   "source": [
    "##### Operate on column fractions only (disaggregations)"
   ],
   "cell_type": "markdown",
   "metadata": {}
  },
  {
   "cell_type": "code",
   "execution_count": null,
   "metadata": {},
   "outputs": [],
   "source": [
    "check_list_col_flag = [\n",
    "    pa.Check(\n",
    "        valid_p_or_e_flag,\n",
    "        name=\"Consistent Provisional Flags - Sex Disaggregation {i}\",\n",
    "        df_rows=rows,\n",
    "        raise_warning=True,\n",
    "        ignore_na=False,\n",
    "    )\n",
    "    for i, rows in enumerate(totals_by_sex, 1)\n",
    "]"
   ]
  },
  {
   "source": [
    "#### Define Pandera Schema and Check Functions to be applied!"
   ],
   "cell_type": "markdown",
   "metadata": {}
  },
  {
   "cell_type": "code",
   "execution_count": null,
   "metadata": {},
   "outputs": [],
   "source": [
    "schema = pa.DataFrameSchema(\n",
    "    {\n",
    "        2017: pa.Column(None, checks=check_list_col, nullable=True,),\n",
    "        col_flag: pa.Column(None, checks=check_list_col_flag, nullable=True),\n",
    "    },\n",
    "    checks=check_list_df,\n",
    ")"
   ]
  },
  {
   "source": [
    "#### Leverage warning package for error handling"
   ],
   "cell_type": "markdown",
   "metadata": {}
  },
  {
   "cell_type": "code",
   "execution_count": null,
   "metadata": {
    "tags": [
     "outputPrepend"
    ]
   },
   "outputs": [],
   "source": [
    "# catch and print warnings\n",
    "with warnings.catch_warnings(record=True) as caught_warnings:\n",
    "    warnings.simplefilter(\"always\")\n",
    "    validated_df = schema(df_collection)\n",
    "    for warning in caught_warnings:\n",
    "        print(warning.message)"
   ]
  },
  {
   "source": [
    "#### Commented code"
   ],
   "cell_type": "markdown",
   "metadata": {}
  },
  {
   "cell_type": "code",
   "execution_count": null,
   "metadata": {},
   "outputs": [],
   "source": [
    "# check_list = [pa.Check(valid_data_compilation, name=\"Availability between years\",\n",
    "#         col_val=col_ind, data_rows=data_entry_rows, raise_warning=True, ignore_na=False)]\n",
    "# check_list.append(\n",
    "#     pa.Check(valid_flag_compilation, name=\"Flag availability between years\",\n",
    "#         col_val=col_ind, data_rows=data_entry_rows, raise_warning=True, ignore_na=False)\n",
    "# )\n",
    "# check_list.append(\n",
    "#     pa.Check(valid_flag_correspondence, name=\"Flag correspondence between years\",\n",
    "#         col_val=col_ind, data_rows=data_entry_rows, raise_warning=True, ignore_na=False)\n",
    "# )\n",
    "# check_list.extend(\n",
    "#     pa.Check(\n",
    "#         valid_disaggregation, name=f\"Consistent Sex Disaggregation {i}\", col_val=col_ind,\n",
    "#         df_rows=rows, raise_warning=True, ignore_na=False) for i, rows in enumerate(totals_by_sex, 1)\n",
    "# )\n",
    "\n",
    "# schema = pa.DataFrameSchema({\n",
    "#     2017:pa.Column(None, pa.Check(valid_empty_data, name=\"Incomplete Data\",\n",
    "#     data_rows=data_entry_rows, raise_warning=True, ignore_na=False), nullable=True),\n",
    "#     col_flag:pa.Column(None, nullable=True)\n",
    "# },\n",
    "#     checks=check_list\n",
    "# )"
   ]
  }
 ]
}