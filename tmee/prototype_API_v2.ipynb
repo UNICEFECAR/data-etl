{
 "cells": [
  {
   "cell_type": "code",
   "execution_count": 1,
   "metadata": {},
   "outputs": [],
   "source": [
    "from data_dictionary import query_dataDict\n",
    "from fileUtils import fileDownload\n",
    "from sdmx import sdmx_struc"
   ]
  },
  {
   "cell_type": "markdown",
   "metadata": {},
   "source": [
    "#### Read from data_dictionary all API sources (so far only two among all indicators populated)"
   ]
  },
  {
   "cell_type": "code",
   "execution_count": 2,
   "metadata": {},
   "outputs": [],
   "source": [
    "# path to excel data dictionary in repo\n",
    "data_dict_file = './data_dictionary/indicator_dictionary_TM_v1.xlsx'"
   ]
  },
  {
   "cell_type": "code",
   "execution_count": 3,
   "metadata": {},
   "outputs": [
    {
     "data": {
      "text/html": [
       "<div>\n",
       "<style scoped>\n",
       "    .dataframe tbody tr th:only-of-type {\n",
       "        vertical-align: middle;\n",
       "    }\n",
       "\n",
       "    .dataframe tbody tr th {\n",
       "        vertical-align: top;\n",
       "    }\n",
       "\n",
       "    .dataframe thead th {\n",
       "        text-align: right;\n",
       "    }\n",
       "</style>\n",
       "<table border=\"1\" class=\"dataframe\">\n",
       "  <thead>\n",
       "    <tr style=\"text-align: right;\">\n",
       "      <th></th>\n",
       "      <th>Code</th>\n",
       "      <th>Address</th>\n",
       "    </tr>\n",
       "  </thead>\n",
       "  <tbody>\n",
       "    <tr>\n",
       "      <th>5</th>\n",
       "      <td>DM_BRTS</td>\n",
       "      <td>https://sdmx.data.unicef.org/ws/public/sdmxapi...</td>\n",
       "    </tr>\n",
       "    <tr>\n",
       "      <th>16</th>\n",
       "      <td>DM_POP_URBN</td>\n",
       "      <td>https://sdmx.data.unicef.org/ws/public/sdmxapi...</td>\n",
       "    </tr>\n",
       "  </tbody>\n",
       "</table>\n",
       "</div>"
      ],
      "text/plain": [
       "           Code                                            Address\n",
       "5       DM_BRTS  https://sdmx.data.unicef.org/ws/public/sdmxapi...\n",
       "16  DM_POP_URBN  https://sdmx.data.unicef.org/ws/public/sdmxapi..."
      ]
     },
     "execution_count": 3,
     "metadata": {},
     "output_type": "execute_result"
    }
   ],
   "source": [
    "# get indicators that are extracted by API (code and address in dataframe)\n",
    "api_code_addr_df = query_dataDict.get_API_code_address(data_dict_file)\n",
    "api_code_addr_df"
   ]
  },
  {
   "cell_type": "markdown",
   "metadata": {},
   "source": [
    "#### Get Unicef DataFlow TransMonEE country list"
   ]
  },
  {
   "cell_type": "code",
   "execution_count": 4,
   "metadata": {},
   "outputs": [],
   "source": [
    "# UNICEF’s REST API data endpoint for TransMonEE Dataflow\n",
    "url_endpoint = 'https://unicef.sdmxcloud.org/ws/public/sdmxapi/rest/data/ECARO,TRANSMONEE,1.0/'"
   ]
  },
  {
   "cell_type": "code",
   "execution_count": 5,
   "metadata": {},
   "outputs": [],
   "source": [
    "# address for dataflow structure request\n",
    "api_address = url_endpoint + 'all'\n",
    "# parameters for dataflow structure request\n",
    "api_params = {'format':'sdmx-json', 'detail':'structureOnly'}\n",
    "\n",
    "# API request (dataflow structure)\n",
    "d_flow_struc = fileDownload.api_request(api_address,api_params)"
   ]
  },
  {
   "cell_type": "code",
   "execution_count": 6,
   "metadata": {},
   "outputs": [],
   "source": [
    "# all TransMonEE country codes are taken from its dataflow (requested by Eduard)\n",
    "country_codes = sdmx_struc.get_all_country_codes(d_flow_struc.json())\n",
    "# Join string of all countries for SDMX requests\n",
    "country_call = '+'.join(country_codes.values())"
   ]
  },
  {
   "cell_type": "markdown",
   "metadata": {},
   "source": [
    "#### Loop pandas dataframe `api_code_addr_df` and download raw data for all API sources therein"
   ]
  },
  {
   "cell_type": "code",
   "execution_count": 7,
   "metadata": {},
   "outputs": [],
   "source": [
    "# raw data destination path\n",
    "dest_path = './data_raw/'"
   ]
  },
  {
   "cell_type": "code",
   "execution_count": 8,
   "metadata": {},
   "outputs": [],
   "source": [
    "# this is a loop along the `api_code_addr_df` pandas dataframe\n",
    "for index, row in api_code_addr_df.iterrows():\n",
    "    \n",
    "    url_endpoint = row['Address']\n",
    "    indicator_code = row['Code']\n",
    "    \n",
    "    # first get dataflow number of dimensions\n",
    "    api_address = url_endpoint + 'all'\n",
    "    api_params = {'format':'sdmx-json', 'detail':'structureOnly'}\n",
    "    d_flow_struc = fileDownload.api_request(api_address,api_params)\n",
    "    n_dim = sdmx_struc.get_sdmx_dim(d_flow_struc.json())\n",
    "    \n",
    "    # prepare to dowload data (assumes all dataflows have the same country codes)\n",
    "    api_address = url_endpoint + country_call + '.' + indicator_code + '.'*(n_dim-2)\n",
    "    api_params = {'format':'csv'}\n",
    "    \n",
    "    # now request indicator raw data\n",
    "    indicator_raw = fileDownload.api_request(api_address,api_params)\n",
    "    \n",
    "    # write raw data to destination file if requests satisfactory\n",
    "    if indicator_raw.status_code == 200:\n",
    "        dest_file = f\"{dest_path}{indicator_code}.csv\"\n",
    "        with open(dest_file, 'w+') as f:\n",
    "            f.write(indicator_raw.content.decode('utf-8'))"
   ]
  }
 ],
 "metadata": {
  "kernelspec": {
   "display_name": "Python 3",
   "language": "python",
   "name": "python3"
  },
  "language_info": {
   "codemirror_mode": {
    "name": "ipython",
    "version": 3
   },
   "file_extension": ".py",
   "mimetype": "text/x-python",
   "name": "python",
   "nbconvert_exporter": "python",
   "pygments_lexer": "ipython3",
   "version": "3.7.6"
  }
 },
 "nbformat": 4,
 "nbformat_minor": 4
}
