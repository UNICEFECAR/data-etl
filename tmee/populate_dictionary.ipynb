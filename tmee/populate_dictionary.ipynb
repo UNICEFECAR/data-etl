{
 "cells": [
  {
   "cell_type": "markdown",
   "metadata": {},
   "source": [
    "#### This notebook contains code used to populate data dictionary\n",
    "**Caution Note:** whenever an excel write function is executed the file is overwritten!\n",
    "\n",
    "It is done step by step with different chunks of calls.\n",
    "\n",
    "It is in development state and not cleaned at all!"
   ]
  },
  {
   "cell_type": "code",
   "execution_count": 1,
   "metadata": {},
   "outputs": [
    {
     "name": "stderr",
     "output_type": "stream",
     "text": [
      "C:\\Users\\beto\\anaconda3\\lib\\site-packages\\pandas_datareader\\compat\\__init__.py:7: FutureWarning: pandas.util.testing is deprecated. Use the functions in the public API at pandas.testing instead.\n",
      "  from pandas.util.testing import assert_frame_equal\n"
     ]
    }
   ],
   "source": [
    "import pandas as pd\n",
    "from pandas_datareader import wb\n",
    "from data_dictionary.append_df_to_excel import append_df_to_excel"
   ]
  },
  {
   "cell_type": "code",
   "execution_count": 2,
   "metadata": {},
   "outputs": [],
   "source": [
    "# read one sheet from excel tmee database provided by Eduard (and modified by Beto)\n",
    "path_read_file = './populate_data_dictionary/TM Indicators Flow Revised Database - 2020306 SP ED ECD -working file v-6 Aug 2020_beto.xlsx'\n",
    "indicators = pd.read_excel(path_read_file, sheet_name='TM Revised database', header = 2)"
   ]
  },
  {
   "cell_type": "markdown",
   "metadata": {},
   "source": [
    "#### Indicators New or Retained"
   ]
  },
  {
   "cell_type": "code",
   "execution_count": 3,
   "metadata": {},
   "outputs": [],
   "source": [
    "# filter indicators that are new or retained from excel tmee data base\n",
    "logic_not_removed = indicators['Status in the new `db'].str.lower().str.contains('new|retained')\n",
    "# filter logic_not_removed that are not boolean\n",
    "logic_not_null = logic_not_removed.notnull()\n",
    "# operator AND for two logics above\n",
    "logic_not_removed_null = logic_not_removed & logic_not_null\n",
    "not_removed_indicators = indicators[logic_not_removed_null]"
   ]
  },
  {
   "cell_type": "markdown",
   "metadata": {},
   "source": [
    "#### Indicators specified with Unesco Institute for Statistics (UIS) API source address"
   ]
  },
  {
   "cell_type": "code",
   "execution_count": 4,
   "metadata": {},
   "outputs": [
    {
     "name": "stdout",
     "output_type": "stream",
     "text": [
      "There are 129 indicators extracted from UIS.\n"
     ]
    }
   ],
   "source": [
    "# point to indicators that are extracted from UIS\n",
    "logic_UIS = not_removed_indicators['Data Source'].str.lower().str.contains(\"api.uis.unesco.org\")\n",
    "# filter not boolean from logic_UIS\n",
    "logic_UIS_not_null = logic_UIS.notnull()\n",
    "# operator AND for two logics above\n",
    "logic_UIS_not_null = logic_UIS & logic_UIS_not_null\n",
    "print(f\"There are {logic_UIS_not_null.sum()} indicators extracted from UIS.\")"
   ]
  },
  {
   "cell_type": "code",
   "execution_count": 5,
   "metadata": {},
   "outputs": [
    {
     "name": "stderr",
     "output_type": "stream",
     "text": [
      "C:\\Users\\beto\\anaconda3\\lib\\site-packages\\ipykernel_launcher.py:2: SettingWithCopyWarning: \n",
      "A value is trying to be set on a copy of a slice from a DataFrame.\n",
      "Try using .loc[row_indexer,col_indexer] = value instead\n",
      "\n",
      "See the caveats in the documentation: https://pandas.pydata.org/pandas-docs/stable/user_guide/indexing.html#returning-a-view-versus-a-copy\n",
      "  \n"
     ]
    }
   ],
   "source": [
    "# create new column in dataframe with their corresponding codes\n",
    "not_removed_indicators['Code'] = not_removed_indicators['Indicator Code'][logic_UIS_not_null].str.replace(' ','_')"
   ]
  },
  {
   "cell_type": "markdown",
   "metadata": {},
   "source": [
    "#### Indicators specified with API source in Helix"
   ]
  },
  {
   "cell_type": "code",
   "execution_count": 6,
   "metadata": {},
   "outputs": [
    {
     "name": "stdout",
     "output_type": "stream",
     "text": [
      "There are 33 indicators extracted from Helix.\n"
     ]
    }
   ],
   "source": [
    "# point to indicators with helix: or helix code: in excel tmee data base\n",
    "logic_helix = not_removed_indicators['Data Source'].str.lower().str.contains(\"helix\")\n",
    "# filter logic_helix that are not boolean\n",
    "logic_helix_not_null = logic_helix.notnull()\n",
    "# operator AND for two logics above\n",
    "logic_helix_not_null = logic_helix & logic_helix_not_null\n",
    "print(f\"There are {logic_helix_not_null.sum()} indicators extracted from Helix.\")"
   ]
  },
  {
   "cell_type": "code",
   "execution_count": 7,
   "metadata": {},
   "outputs": [
    {
     "name": "stderr",
     "output_type": "stream",
     "text": [
      "C:\\Users\\beto\\anaconda3\\lib\\site-packages\\ipykernel_launcher.py:5: SettingWithCopyWarning: \n",
      "A value is trying to be set on a copy of a slice from a DataFrame\n",
      "\n",
      "See the caveats in the documentation: https://pandas.pydata.org/pandas-docs/stable/user_guide/indexing.html#returning-a-view-versus-a-copy\n",
      "  \"\"\"\n",
      "C:\\Users\\beto\\anaconda3\\lib\\site-packages\\pandas\\core\\generic.py:8767: SettingWithCopyWarning: \n",
      "A value is trying to be set on a copy of a slice from a DataFrame\n",
      "\n",
      "See the caveats in the documentation: https://pandas.pydata.org/pandas-docs/stable/user_guide/indexing.html#returning-a-view-versus-a-copy\n",
      "  self._update_inplace(new_data)\n"
     ]
    }
   ],
   "source": [
    "# populate dataframe with the corresponding codes from Helix Source\n",
    "# before: eliminate all Helix ... prefix\n",
    "not_removed_indicators['Code'][logic_helix_not_null] = not_removed_indicators[logic_helix_not_null]['Data Source']\\\n",
    ".str.replace(r'^.*?: ', '', regex=True)\\\n",
    ".str.replace('/', '').str.replace('\\\\', '')\n",
    "# consider something more elegant with regex for the line above?\n",
    "# consider something stronger with respect to blank spaces in the regex line!"
   ]
  },
  {
   "cell_type": "markdown",
   "metadata": {},
   "source": [
    "#### Write Source names for Helix & UIS"
   ]
  },
  {
   "cell_type": "code",
   "execution_count": 8,
   "metadata": {},
   "outputs": [
    {
     "name": "stderr",
     "output_type": "stream",
     "text": [
      "C:\\Users\\beto\\anaconda3\\lib\\site-packages\\ipykernel_launcher.py:3: SettingWithCopyWarning: \n",
      "A value is trying to be set on a copy of a slice from a DataFrame.\n",
      "Try using .loc[row_indexer,col_indexer] = value instead\n",
      "\n",
      "See the caveats in the documentation: https://pandas.pydata.org/pandas-docs/stable/user_guide/indexing.html#returning-a-view-versus-a-copy\n",
      "  This is separate from the ipykernel package so we can avoid doing imports until\n"
     ]
    }
   ],
   "source": [
    "# create new column in dataframe for the corresponding Source Names\n",
    "# standardize helix Api source names adding 'Helix:' prefix to code names\n",
    "not_removed_indicators['Source Name'] = 'Helix: ' + not_removed_indicators[logic_helix_not_null]['Code']"
   ]
  },
  {
   "cell_type": "code",
   "execution_count": 9,
   "metadata": {},
   "outputs": [
    {
     "name": "stderr",
     "output_type": "stream",
     "text": [
      "C:\\Users\\beto\\anaconda3\\lib\\site-packages\\ipykernel_launcher.py:2: SettingWithCopyWarning: \n",
      "A value is trying to be set on a copy of a slice from a DataFrame\n",
      "\n",
      "See the caveats in the documentation: https://pandas.pydata.org/pandas-docs/stable/user_guide/indexing.html#returning-a-view-versus-a-copy\n",
      "  \n"
     ]
    }
   ],
   "source": [
    "# standardize UIS Api source names adding 'UIS:' prefix to code names\n",
    "not_removed_indicators['Source Name'][logic_UIS_not_null] = 'UIS: ' + not_removed_indicators[logic_UIS_not_null]['Code']"
   ]
  },
  {
   "cell_type": "markdown",
   "metadata": {},
   "source": [
    "#### Get Indicators Addresses, retrieved by UIS API"
   ]
  },
  {
   "cell_type": "code",
   "execution_count": 10,
   "metadata": {},
   "outputs": [],
   "source": [
    "sources_uis = not_removed_indicators['Data Source'][logic_UIS_not_null]\n",
    "# Keep from sources only the address 'root' before country specification\n",
    "sources_uis = sources_uis.str.replace(r'^.*?https', 'https', regex=True).apply(lambda x: x.split('AL+')[0])\n",
    "# note: the logic above doesn't work when indicator data source cell contains a new line before the address"
   ]
  },
  {
   "cell_type": "markdown",
   "metadata": {},
   "source": [
    "#### Get Indicators retrieved by NSI"
   ]
  },
  {
   "cell_type": "code",
   "execution_count": 11,
   "metadata": {},
   "outputs": [
    {
     "name": "stdout",
     "output_type": "stream",
     "text": [
      "There are 233 indicators extracted from NSI.\n"
     ]
    }
   ],
   "source": [
    "# point to indicators that contains NSI in Data Source column (excel tmee data base)\n",
    "logic_nsi = not_removed_indicators['Data Source'].str.lower().str.contains(\"nsi\")\n",
    "# filter logic_nsi that are not boolean\n",
    "logic_nsi_not_null = logic_nsi.notnull()\n",
    "# operator AND for two logics above\n",
    "logic_nsi_not_null = logic_nsi & logic_nsi_not_null\n",
    "print(f\"There are {logic_nsi_not_null.sum()} indicators extracted from NSI.\")"
   ]
  },
  {
   "cell_type": "code",
   "execution_count": null,
   "metadata": {},
   "outputs": [],
   "source": []
  },
  {
   "cell_type": "markdown",
   "metadata": {},
   "source": [
    "#### Research\n",
    "##### Adding more possible Helix!\n",
    "There are three marked as 'Helix' only, plus: `ECD_CHLD_U5_BKS-HM`, `ECD_CHLD_U5_PLYTH-HM` and 'SOWC 2019'\n",
    "* Marked as 'Helix' only worked fine, end up being Unicef WS indicators (`WS_SCH_H-B`, `WS_SCH_S-B` and `WS_SCH_W-B`).\n",
    "* Indicators `ECD_CHLD_U5_BKS-HM` and `ECD_CHLD_U5_PLYTH-HM` also work fine!\n",
    "* SOWC 2019 haven't found (net migration rate 2015-2020, supposed to be calculated by UNICEF)"
   ]
  },
  {
   "cell_type": "code",
   "execution_count": null,
   "metadata": {},
   "outputs": [],
   "source": [
    "logic_more_helix = not_removed_indicators['Data Source'].str.lower().str.contains(\"sowc 2019\")\n",
    "logic_more_helix = logic_more_helix & logic_more_helix.notnull()\n",
    "not_removed_indicators[logic_more_helix]"
   ]
  },
  {
   "cell_type": "markdown",
   "metadata": {},
   "source": [
    "##### World Bank\n",
    "Those that are already there, I will add them with pd data reader and the code."
   ]
  },
  {
   "cell_type": "code",
   "execution_count": null,
   "metadata": {},
   "outputs": [],
   "source": [
    "indicator_name = 'LO.PISA.MAT'\n",
    "pisa_mat = wb.download(indicator=indicator_name, country=['AL'], start=1950, end=2020)\n",
    "indicator_name = 'LO.PISA.MAT.FE'\n",
    "pisa_mat_fe = wb.download(indicator=indicator_name, country=['AL'], start=1970, end=2020)\n",
    "indicator_name = 'LO.PISA.MAT.MA'\n",
    "pisa_mat_ma = wb.download(indicator=indicator_name, country=['AL'], start=1970, end=2020)"
   ]
  },
  {
   "cell_type": "code",
   "execution_count": null,
   "metadata": {},
   "outputs": [],
   "source": [
    "indicator_name = 'LO.PISA.MAT'\n",
    "pisa_mat = wb.download(indicator=indicator_name, start=1970, end=2070)\n",
    "indicator_name = 'LO.PISA.MAT.FE'\n",
    "pisa_mat_fe = wb.download(indicator=indicator_name, start=1970, end=2070)\n",
    "indicator_name = 'LO.PISA.MAT.MA'\n",
    "pisa_mat_ma = wb.download(indicator=indicator_name, start=1970, end=2070)"
   ]
  },
  {
   "cell_type": "code",
   "execution_count": null,
   "metadata": {},
   "outputs": [],
   "source": [
    "pd_all = pd.concat([pisa_mat,pisa_mat_fe,pisa_mat_ma])\n",
    "pd_all"
   ]
  },
  {
   "cell_type": "markdown",
   "metadata": {},
   "source": [
    "#### Working out what remains to be Extracted!\n",
    "So far we have API's UIS and Helix"
   ]
  },
  {
   "cell_type": "code",
   "execution_count": null,
   "metadata": {},
   "outputs": [],
   "source": [
    "logic_not_helix_uis = ~(logic_helix_not_null | logic_UIS_not_null)"
   ]
  },
  {
   "cell_type": "code",
   "execution_count": null,
   "metadata": {},
   "outputs": [],
   "source": [
    "# this is basically the info to process\n",
    "not_removed_indicators['Data Source'][logic_not_helix_uis].unique()"
   ]
  },
  {
   "cell_type": "code",
   "execution_count": null,
   "metadata": {},
   "outputs": [],
   "source": [
    "# indicators with no info\n",
    "not_removed_indicators['Data Source'][logic_not_helix_uis].isna().sum()"
   ]
  },
  {
   "cell_type": "code",
   "execution_count": null,
   "metadata": {},
   "outputs": [],
   "source": [
    "# indicators extracted from NSI\n",
    "not_removed_indicators['Data Source'][logic_not_helix_uis].str.lower().str.contains(\"nsi\").sum()"
   ]
  },
  {
   "cell_type": "code",
   "execution_count": null,
   "metadata": {},
   "outputs": [],
   "source": [
    "# indicators extracted from calculations\n",
    "not_removed_indicators['Data Source'][logic_not_helix_uis].str.lower().str.contains(\"calculated\").sum()"
   ]
  },
  {
   "cell_type": "code",
   "execution_count": null,
   "metadata": {},
   "outputs": [],
   "source": [
    "# indicators from 'NSI or/and EuroStat'\n",
    "print(not_removed_indicators['Data Source'][logic_not_helix_uis].str.lower().str.contains(\" eurostat\").sum())\n",
    "# indicators from 'Eurostat & WB'\n",
    "print(not_removed_indicators['Data Source'][logic_not_helix_uis].str.lower().str.contains(\"eurostat \").sum())\n",
    "# indicators from 'Eurostat'\n",
    "print(not_removed_indicators['Data Source'][logic_not_helix_uis].str.lower().str.contains(\"eurostat\").sum())"
   ]
  },
  {
   "cell_type": "code",
   "execution_count": null,
   "metadata": {},
   "outputs": [],
   "source": [
    "# indicators extracted from WB or 'Eurostat & WB'\n",
    "print(not_removed_indicators['Data Source'][logic_not_helix_uis].str.lower().str.contains(\"wb\").sum())\n",
    "# indicators with address containing 'worldbank'\n",
    "print(not_removed_indicators['Data Source'][logic_not_helix_uis].str.lower().str.contains(\"worldbank\").sum())\n",
    "# indicators marked as data reader comes from world bank\n",
    "print(not_removed_indicators['Data Source'][logic_not_helix_uis].str.lower().str.contains(\"data reader\").sum())"
   ]
  },
  {
   "cell_type": "code",
   "execution_count": null,
   "metadata": {},
   "outputs": [],
   "source": [
    "# contains just 'WB' or 'Eurostat & WB' and nothing else (no source specified)\n",
    "print((not_removed_indicators['Data Source'][logic_not_helix_uis] == 'WB').sum())\n",
    "print((not_removed_indicators['Data Source'][logic_not_helix_uis] == 'Eurostat & WB').sum())"
   ]
  },
  {
   "cell_type": "code",
   "execution_count": null,
   "metadata": {},
   "outputs": [],
   "source": [
    "# contains api in the address (these are all world bank API)\n",
    "print(not_removed_indicators['Data Source'][logic_not_helix_uis].str.lower().str.contains(\"api\").sum())\n",
    "print(f\"From WB only {round(11/57*100,2)}% specifies API\")"
   ]
  },
  {
   "cell_type": "code",
   "execution_count": null,
   "metadata": {},
   "outputs": [],
   "source": [
    "# indicators extracted from WHO\n",
    "not_removed_indicators['Data Source'][logic_not_helix_uis].str.lower().str.contains(\"who\").sum()"
   ]
  },
  {
   "cell_type": "code",
   "execution_count": null,
   "metadata": {},
   "outputs": [],
   "source": [
    "# indicators extracted from ILO\n",
    "not_removed_indicators['Data Source'][logic_not_helix_uis].str.lower().str.contains(\"ilo\").sum()"
   ]
  },
  {
   "cell_type": "code",
   "execution_count": null,
   "metadata": {},
   "outputs": [],
   "source": [
    "# contains just 'ILO' and nothing else (no source specified)\n",
    "print((not_removed_indicators['Data Source'][logic_not_helix_uis] == 'ILO').sum())\n",
    "print(f\"From ILO only {round(1/41*100,2)}% specifies API\")"
   ]
  },
  {
   "cell_type": "code",
   "execution_count": null,
   "metadata": {},
   "outputs": [],
   "source": [
    "# indicators to search in Helix\n",
    "not_removed_indicators['Data Source'][logic_not_helix_uis].str.lower().str.contains(\"helix\").sum()"
   ]
  },
  {
   "cell_type": "code",
   "execution_count": null,
   "metadata": {},
   "outputs": [],
   "source": [
    "# indicators to search in UIS\n",
    "not_removed_indicators['Data Source'][logic_not_helix_uis].str.lower().str.contains(\"uis\").sum()"
   ]
  },
  {
   "cell_type": "code",
   "execution_count": null,
   "metadata": {},
   "outputs": [],
   "source": [
    "# indicators marked with MICS\n",
    "not_removed_indicators['Data Source'][logic_not_helix_uis].str.lower().str.contains(\"mics\").sum()"
   ]
  },
  {
   "cell_type": "code",
   "execution_count": null,
   "metadata": {},
   "outputs": [],
   "source": [
    "# indicators marked with SMQs\n",
    "not_removed_indicators['Data Source'][logic_not_helix_uis].str.lower().str.contains(\"smq\").sum()"
   ]
  },
  {
   "cell_type": "code",
   "execution_count": null,
   "metadata": {},
   "outputs": [],
   "source": [
    "# indicators to search in TM\n",
    "print(not_removed_indicators['Data Source'][logic_not_helix_uis].str.lower().str.contains(\"tm\").sum())\n",
    "# indicators from web not scrapable\n",
    "print(not_removed_indicators['Data Source'][logic_not_helix_uis].str.lower().str.contains(\"not scrap\").sum())\n",
    "# indicators from web not scrapable\n",
    "print(not_removed_indicators['Data Source'][logic_not_helix_uis].str.lower().str.contains(\"ptb\").sum())"
   ]
  },
  {
   "cell_type": "markdown",
   "metadata": {},
   "source": [
    "#### Appends to Data Dictionary\n",
    "**Caution Note:** whenever an excel write function is executed the file is overwritten!\n",
    "##### Append info Indicators Code - API's from UIS & Helix"
   ]
  },
  {
   "cell_type": "code",
   "execution_count": null,
   "metadata": {},
   "outputs": [],
   "source": [
    "# path to file for appending\n",
    "path_write_file = './populate_data_dictionary/indicator_dictionary_TM_v2.xlsx'"
   ]
  },
  {
   "cell_type": "code",
   "execution_count": null,
   "metadata": {},
   "outputs": [],
   "source": [
    "# use a function from stackoverflow to append data dictionary\n",
    "append_df_to_excel(path_write_file, not_removed_indicators.iloc[21:,[105]], sheet_name='Indicator', startrow=22,\n",
    "                   startcol = 5, header = False, index = False)"
   ]
  },
  {
   "cell_type": "markdown",
   "metadata": {},
   "source": [
    "##### Append info Indicators Source Name - API's from UIS & Helix"
   ]
  },
  {
   "cell_type": "code",
   "execution_count": null,
   "metadata": {},
   "outputs": [],
   "source": [
    "# place list of helix and UIS api's in source\n",
    "logic_helix_uis = not_removed_indicators['Source Name'].notna()\n",
    "append_df_to_excel(path_write_file, not_removed_indicators.loc[logic_helix_uis,'Source Name'].iloc[2:],\n",
    "                   sheet_name='Source', startrow=6,\n",
    "                   startcol = 2, header = False, index = False)"
   ]
  },
  {
   "cell_type": "markdown",
   "metadata": {},
   "source": [
    "##### Append info Indicators Addresses - UIS API"
   ]
  },
  {
   "cell_type": "code",
   "execution_count": null,
   "metadata": {},
   "outputs": [],
   "source": [
    "# place list UIS api's addresses in source spreadsheet\n",
    "append_df_to_excel(path_write_file, sources_uis,\n",
    "                   sheet_name='Source', startrow=26,\n",
    "                   startcol = 3, header = False, index = False)"
   ]
  },
  {
   "cell_type": "markdown",
   "metadata": {},
   "source": [
    "#### Dev testing zone"
   ]
  },
  {
   "cell_type": "code",
   "execution_count": null,
   "metadata": {},
   "outputs": [],
   "source": [
    "sources_uis"
   ]
  },
  {
   "cell_type": "code",
   "execution_count": null,
   "metadata": {},
   "outputs": [],
   "source": [
    "not_removed_indicators.loc[logic_helix_uis,'Source Name'].iloc[2:]"
   ]
  },
  {
   "cell_type": "code",
   "execution_count": null,
   "metadata": {},
   "outputs": [],
   "source": [
    "not_removed_indicators.iloc[105]"
   ]
  },
  {
   "cell_type": "code",
   "execution_count": null,
   "metadata": {},
   "outputs": [],
   "source": [
    "# create new column in dataframe with codes with add\n",
    "# get indicator names"
   ]
  },
  {
   "cell_type": "code",
   "execution_count": null,
   "metadata": {},
   "outputs": [],
   "source": [
    "# Keep from sources only the address 'root' before country specification\n",
    "sources_uis[logic_api].str.replace(r'^.*?https', 'https', regex=True).apply(lambda x: x.split('AL+')[0])\n",
    "# 'https://api.uis.unesco.org/sdmx/data/UNESCO,SDG4,2.0/PQTR..L3................'\n",
    "# 'https://api.uis.unesco.org/sdmx/data/UNESCO,SDG4,2.0/PQTR..L3................'"
   ]
  },
  {
   "cell_type": "code",
   "execution_count": null,
   "metadata": {},
   "outputs": [],
   "source": [
    "sources_uis = not_removed_indicators['Data Source'][logic_UIS_not_null]\n",
    "logic_api = sources_uis.str.lower().str.contains(\"api.uis.unesco.org\")"
   ]
  },
  {
   "cell_type": "code",
   "execution_count": null,
   "metadata": {},
   "outputs": [],
   "source": [
    "# not_removed_indicators['Code'] = not_removed_indicators[logic_UIS_not_null]['Data Source']"
   ]
  }
 ],
 "metadata": {
  "kernelspec": {
   "display_name": "Python 3",
   "language": "python",
   "name": "python3"
  },
  "language_info": {
   "codemirror_mode": {
    "name": "ipython",
    "version": 3
   },
   "file_extension": ".py",
   "mimetype": "text/x-python",
   "name": "python",
   "nbconvert_exporter": "python",
   "pygments_lexer": "ipython3",
   "version": "3.7.6"
  },
  "toc": {
   "base_numbering": 1,
   "nav_menu": {},
   "number_sections": true,
   "sideBar": true,
   "skip_h1_title": false,
   "title_cell": "Table of Contents",
   "title_sidebar": "Contents",
   "toc_cell": false,
   "toc_position": {},
   "toc_section_display": true,
   "toc_window_display": false
  }
 },
 "nbformat": 4,
 "nbformat_minor": 4
}
