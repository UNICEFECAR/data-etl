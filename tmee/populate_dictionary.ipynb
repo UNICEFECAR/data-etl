{
 "cells": [
  {
   "cell_type": "markdown",
   "metadata": {},
   "source": [
    "#### This notebook contains code used to populate data dictionary\n",
    "**Caution Note:** whenever an excel write function is executed the file is overwritten!\n",
    "\n",
    "It is done step by step with different chunks of calls.\n",
    "\n",
    "It is in development state and not cleaned at all!"
   ]
  },
  {
   "cell_type": "code",
   "execution_count": 1,
   "metadata": {},
   "outputs": [
    {
     "name": "stderr",
     "output_type": "stream",
     "text": [
      "C:\\Users\\beto\\anaconda3\\lib\\site-packages\\pandas_datareader\\compat\\__init__.py:7: FutureWarning: pandas.util.testing is deprecated. Use the functions in the public API at pandas.testing instead.\n",
      "  from pandas.util.testing import assert_frame_equal\n"
     ]
    }
   ],
   "source": [
    "import pandas as pd\n",
    "from pandas_datareader import wb\n",
    "from data_in.data_dictionary.append_df_to_excel import append_df_to_excel\n",
    "from data_in.legacy_data import prepare_mapping\n",
    "import pandasdmx as sdmx"
   ]
  },
  {
   "cell_type": "code",
   "execution_count": 2,
   "metadata": {},
   "outputs": [],
   "source": [
    "# read one sheet from excel tmee database provided by Eduard (and modified by Beto)\n",
    "path_read_file = './populate_data_dictionary/TM Indicators Flow Revised Database - 2020306 SP ED ECD -working file v-6 Aug 2020_beto.xlsx'\n",
    "indicators = pd.read_excel(path_read_file, sheet_name='TM Revised database', header = 2)"
   ]
  },
  {
   "cell_type": "markdown",
   "metadata": {},
   "source": [
    "#### Indicators New or Retained"
   ]
  },
  {
   "cell_type": "code",
   "execution_count": 3,
   "metadata": {},
   "outputs": [],
   "source": [
    "# filter indicators that are new or retained from excel tmee data base\n",
    "logic_not_removed = indicators['Status in the new `db'].str.lower().str.contains('new|retained')\n",
    "# filter logic_not_removed that are not boolean\n",
    "logic_not_null = logic_not_removed.notnull()\n",
    "# operator AND for two logics above\n",
    "logic_not_removed_null = logic_not_removed & logic_not_null\n",
    "not_removed_indicators = indicators[logic_not_removed_null]"
   ]
  },
  {
   "cell_type": "markdown",
   "metadata": {},
   "source": [
    "#### Indicators specified with Unesco Institute for Statistics (UIS) API source address"
   ]
  },
  {
   "cell_type": "code",
   "execution_count": null,
   "metadata": {},
   "outputs": [],
   "source": [
    "# point to indicators that are extracted from UIS\n",
    "logic_UIS = not_removed_indicators['Data Source'].str.lower().str.contains(\"api.uis.unesco.org\")\n",
    "# filter not boolean from logic_UIS\n",
    "logic_UIS_not_null = logic_UIS.notnull()\n",
    "# operator AND for two logics above\n",
    "logic_UIS_not_null = logic_UIS & logic_UIS_not_null\n",
    "print(f\"There are {logic_UIS_not_null.sum()} indicators extracted from UIS.\")"
   ]
  },
  {
   "cell_type": "code",
   "execution_count": null,
   "metadata": {},
   "outputs": [],
   "source": [
    "# create new column in dataframe with their corresponding codes\n",
    "not_removed_indicators['Code'] = not_removed_indicators['Indicator Code'][logic_UIS_not_null].str.replace(' ','_')"
   ]
  },
  {
   "cell_type": "markdown",
   "metadata": {},
   "source": [
    "#### Indicators specified with API source in Helix"
   ]
  },
  {
   "cell_type": "code",
   "execution_count": null,
   "metadata": {},
   "outputs": [],
   "source": [
    "# point to indicators with helix: or helix code: in excel tmee data base\n",
    "logic_helix = not_removed_indicators['Data Source'].str.lower().str.contains(\"helix\")\n",
    "# filter logic_helix that are not boolean\n",
    "logic_helix_not_null = logic_helix.notnull()\n",
    "# operator AND for two logics above\n",
    "logic_helix_not_null = logic_helix & logic_helix_not_null\n",
    "print(f\"There are {logic_helix_not_null.sum()} indicators extracted from Helix.\")"
   ]
  },
  {
   "cell_type": "code",
   "execution_count": null,
   "metadata": {},
   "outputs": [],
   "source": [
    "# populate dataframe with the corresponding codes from Helix Source\n",
    "# before: eliminate all Helix ... prefix\n",
    "not_removed_indicators['Code'][logic_helix_not_null] = not_removed_indicators[logic_helix_not_null]['Data Source']\\\n",
    ".str.replace(r'^.*?: ', '', regex=True)\\\n",
    ".str.replace('/', '').str.replace('\\\\', '')\n",
    "# consider something more elegant with regex for the line above?\n",
    "# consider something stronger with respect to blank spaces in the regex line!"
   ]
  },
  {
   "cell_type": "markdown",
   "metadata": {},
   "source": [
    "#### Write Source names for Helix & UIS"
   ]
  },
  {
   "cell_type": "code",
   "execution_count": null,
   "metadata": {},
   "outputs": [],
   "source": [
    "# create new column in dataframe for the corresponding Source Names\n",
    "# standardize helix Api source names adding 'Helix:' prefix to code names\n",
    "not_removed_indicators['Source Name'] = 'Helix: ' + not_removed_indicators[logic_helix_not_null]['Code']"
   ]
  },
  {
   "cell_type": "code",
   "execution_count": null,
   "metadata": {},
   "outputs": [],
   "source": [
    "# standardize UIS Api source names adding 'UIS:' prefix to code names\n",
    "not_removed_indicators['Source Name'][logic_UIS_not_null] = 'UIS: ' + not_removed_indicators[logic_UIS_not_null]['Code']"
   ]
  },
  {
   "cell_type": "markdown",
   "metadata": {},
   "source": [
    "#### Get Indicators Addresses, retrieved by UIS API"
   ]
  },
  {
   "cell_type": "code",
   "execution_count": null,
   "metadata": {},
   "outputs": [],
   "source": [
    "sources_uis = not_removed_indicators['Data Source'][logic_UIS_not_null]\n",
    "# Keep from sources only the address 'root' before country specification\n",
    "sources_uis = sources_uis.str.replace(r'^.*?https', 'https', regex=True).apply(lambda x: x.split('AL+')[0])\n",
    "# note: the logic above doesn't work when indicator data source cell contains a new line before the address"
   ]
  },
  {
   "cell_type": "markdown",
   "metadata": {},
   "source": [
    "#### Get Indicators retrieved by NSI"
   ]
  },
  {
   "cell_type": "code",
   "execution_count": null,
   "metadata": {},
   "outputs": [],
   "source": [
    "# point to indicators that contains NSI in Data Source column (excel tmee data base)\n",
    "logic_nsi = not_removed_indicators['Data Source'].str.lower().str.contains(\"nsi\")\n",
    "# filter logic_nsi that are not boolean\n",
    "logic_nsi_not_null = logic_nsi.notnull()\n",
    "# operator AND for two logics above\n",
    "logic_nsi_not_null = logic_nsi & logic_nsi_not_null\n",
    "print(f\"There are {logic_nsi_not_null.sum()} indicators extracted from NSI.\")"
   ]
  },
  {
   "cell_type": "markdown",
   "metadata": {},
   "source": [
    "#### Match *new* or *retained* indicators processed as legacy"
   ]
  },
  {
   "cell_type": "code",
   "execution_count": null,
   "metadata": {},
   "outputs": [],
   "source": [
    "path_content = './data_in/legacy_data/content_legacy_codes.csv'\n",
    "nsi_new_or_retained = not_removed_indicators.Indicator[logic_nsi_not_null].values\n",
    "tol_fuzzy = 0.85\n",
    "nsi_match_legacy = prepare_mapping.match_legacy_and_new(path_content,nsi_new_or_retained,tol_fuzzy)"
   ]
  },
  {
   "cell_type": "code",
   "execution_count": null,
   "metadata": {},
   "outputs": [],
   "source": [
    "tol_fuzzy = 0.85\n",
    "n_match = (nsi_match_legacy['legacy match'] == \"\").sum()\n",
    "print(f\"There are {n_match} indicators matched for legacy and NSI retained/new at {tol_fuzzy*100}% fuzzy tolerance.\")\n",
    "print(f\"This represents {round(n_match/logic_nsi_not_null.sum()*100,2)}% of the total NSI retained/new.\")"
   ]
  },
  {
   "cell_type": "code",
   "execution_count": null,
   "metadata": {},
   "outputs": [],
   "source": [
    "path_write = './populate_data_dictionary/'\n",
    "file_write = 'legacy_nsi_match_direct'\n",
    "nsi_match_legacy.to_csv(f\"{path_write}{file_write}.csv\",index=False)"
   ]
  },
  {
   "cell_type": "markdown",
   "metadata": {},
   "source": [
    "##### Add column with status\n",
    "To identify if indicators are labelled as `retained` or `new`.\n",
    "\n",
    "Append these labels to existing Excel - NOTE: append function eliminate Excel comments =( -"
   ]
  },
  {
   "cell_type": "code",
   "execution_count": null,
   "metadata": {},
   "outputs": [],
   "source": [
    "label_new_or_retained_nsi = not_removed_indicators['Status in the new `db'][logic_nsi_not_null]\n",
    "# path to excel file for appending\n",
    "path_append_file = './populate_data_dictionary/legacy_nsi_match.xlsx'\n",
    "# use the function to append data dictionary\n",
    "append_df_to_excel(path_append_file, label_new_or_retained_nsi, sheet_name='legacy_nsi_match', startrow=1,\n",
    "                   startcol = 2, header = False, index = False)"
   ]
  },
  {
   "cell_type": "code",
   "execution_count": null,
   "metadata": {},
   "outputs": [],
   "source": [
    "# Now read the processed file in Excel to comprobate changes in matched indicators\n",
    "path_read = './populate_data_dictionary/'\n",
    "file_read = 'legacy_nsi_match'\n",
    "nsi_match_legacy_df = pd.read_csv(f\"{path_read}{file_read}.csv\", dtype=str)"
   ]
  },
  {
   "cell_type": "code",
   "execution_count": null,
   "metadata": {},
   "outputs": [],
   "source": [
    "n_match_revised = nsi_match_legacy_df['legacy match'].notna().sum()\n",
    "print(f\"There are {n_match_revised} indicators matched for legacy and NSI retained.\")\n",
    "print(f\"This represents {round(n_match_revised/(logic_nsi_not_null.sum()-2)*100,2)}% of the total NSI retained.\")\n"
   ]
  },
  {
   "cell_type": "markdown",
   "metadata": {},
   "source": [
    "##### NSI source with `new` in status\n",
    "These are only two and comes from strings 'dimeNSIon' and 'coNSIst', not really 'NSI'"
   ]
  },
  {
   "cell_type": "code",
   "execution_count": null,
   "metadata": {},
   "outputs": [],
   "source": [
    "label_new_or_retained_nsi.str.lower().str.contains('new').sum()\n",
    "# 'nsi' in not_removed_indicators.loc[174,'Data Source'].lower()\n",
    "# logic_nsi_not_null[174]\n",
    "# label_new_or_retained_nsi.head(20)"
   ]
  },
  {
   "cell_type": "code",
   "execution_count": null,
   "metadata": {},
   "outputs": [],
   "source": [
    "content_df = pd.read_csv(path_content, dtype=str)\n",
    "content_df.indicator.replace(to_replace=r\"\\d+\\.\\d+.\\d+.\", value='', regex=True)"
   ]
  },
  {
   "cell_type": "markdown",
   "metadata": {},
   "source": [
    "#### Search `WB` indicators in pandas *data reader*"
   ]
  },
  {
   "cell_type": "code",
   "execution_count": 4,
   "metadata": {},
   "outputs": [
    {
     "name": "stdout",
     "output_type": "stream",
     "text": [
      "There are 55 indicators extracted from world bank.\n"
     ]
    }
   ],
   "source": [
    "# point to indicators that contains world bank in Data Source column (excel tmee data base)\n",
    "logic_wb = not_removed_indicators['Data Source'].str.lower().str.contains(\"wb|data reader|worldbank\")\n",
    "# filter logic_wb that are not boolean\n",
    "logic_wb_not_null = logic_wb.notnull()\n",
    "# operator AND for two logics above\n",
    "logic_wb_not_null = logic_wb & logic_wb_not_null\n",
    "print(f\"There are {logic_wb_not_null.sum()} indicators extracted from world bank.\")"
   ]
  },
  {
   "cell_type": "markdown",
   "metadata": {},
   "source": [
    "##### Indicators from world bank included in data dictionary\n",
    "Extraction: pandas data reader"
   ]
  },
  {
   "cell_type": "code",
   "execution_count": 5,
   "metadata": {},
   "outputs": [],
   "source": [
    "logic_dr = not_removed_indicators['Data Source'].str.lower().str.contains(\"data reader\")\n",
    "# filter logic_dr that are not boolean\n",
    "logic_dr_not_null = logic_dr.notnull()\n",
    "# operator AND for two logics above\n",
    "logic_dr_not_null = logic_dr & logic_dr_not_null"
   ]
  },
  {
   "cell_type": "markdown",
   "metadata": {},
   "source": [
    "These are 17 indicators, 5 of them are sex dissagregated, which becomes 27 in total:"
   ]
  },
  {
   "cell_type": "code",
   "execution_count": 6,
   "metadata": {},
   "outputs": [
    {
     "name": "stdout",
     "output_type": "stream",
     "text": [
      "['General government expenditure on health (per cent of GDP)'\n",
      " 'Out-of-pocket (OOPS) as % of Current Health Expenditure '\n",
      " 'TIMSS Grade 4 - Mean score - Mathematics'\n",
      " 'TIMSS Grade 4 - Mean score - Science'\n",
      " 'TIMSS Grade 8 - Mean score - Mathematics'\n",
      " 'TIMSS Grade 8 - Mean score - Science' 'PIRLS - Mean score'\n",
      " 'PISA (2018) mean score - Mathematics' 'PISA (2018) mean score - Reading'\n",
      " 'PISA (2018) mean score - Science'\n",
      " 'Percentage of students reaching level 2 (minimum proficiency) or higher - Math'\n",
      " 'Percentage of students reaching level 2 (minimum proficiency) or higher - Reading'\n",
      " 'Percentage of students reaching level 2 (minimum proficiency) or higher - Science'\n",
      " 'GINI Coeficient ' 'GDP per capita, PPP (current international $)'\n",
      " 'Child poverty - Group 2 (WB: Albania, Armenia, Azerbaijan, Belarus, BiH, Georgia, Kazakhstan, Kosovo, Kygistan, Moldova, Montenegro, Tajikistan, Turkmenistan, Ukraine, Uzbekistan)\\nThis indicator measures number of poor at $5.50 a day (2011 PPP) (millions) it has to be internally calculated the % of poor whithin the total population  '\n",
      " 'Human Capital Index']\n"
     ]
    }
   ],
   "source": [
    "print(not_removed_indicators['Indicator'][logic_dr_not_null].values)"
   ]
  },
  {
   "cell_type": "code",
   "execution_count": null,
   "metadata": {},
   "outputs": [],
   "source": [
    "wb.search(string='poverty rate', field='name', case=False)"
   ]
  },
  {
   "cell_type": "code",
   "execution_count": null,
   "metadata": {},
   "outputs": [],
   "source": [
    "wb.download(indicator='SI.POV.NAPR.ZS')"
   ]
  },
  {
   "cell_type": "code",
   "execution_count": null,
   "metadata": {},
   "outputs": [],
   "source": [
    "wb_sdmx = sdmx.Request('WB')"
   ]
  },
  {
   "cell_type": "code",
   "execution_count": null,
   "metadata": {},
   "outputs": [],
   "source": [
    "flow_msg = wb_sdmx.dataflow()\n",
    "flow_msg.dataflow.DF_WITS_Tariff_TRAINS"
   ]
  },
  {
   "cell_type": "code",
   "execution_count": null,
   "metadata": {},
   "outputs": [],
   "source": [
    "dataflows = sdmx.to_pandas(flow_msg.dataflow)\n",
    "dataflows"
   ]
  },
  {
   "cell_type": "code",
   "execution_count": null,
   "metadata": {},
   "outputs": [],
   "source": [
    "(wb.get_indicators().id == '3.0.Gini').sum()"
   ]
  },
  {
   "cell_type": "markdown",
   "metadata": {},
   "source": [
    "#### Research\n",
    "##### Adding more possible Helix!\n",
    "There are three marked as 'Helix' only, plus: `ECD_CHLD_U5_BKS-HM`, `ECD_CHLD_U5_PLYTH-HM` and 'SOWC 2019'\n",
    "* Marked as 'Helix' only worked fine, end up being Unicef WS indicators (`WS_SCH_H-B`, `WS_SCH_S-B` and `WS_SCH_W-B`).\n",
    "* Indicators `ECD_CHLD_U5_BKS-HM` and `ECD_CHLD_U5_PLYTH-HM` also work fine!\n",
    "* SOWC 2019 haven't found (net migration rate 2015-2020, supposed to be calculated by UNICEF)"
   ]
  },
  {
   "cell_type": "code",
   "execution_count": null,
   "metadata": {},
   "outputs": [],
   "source": [
    "logic_more_helix = not_removed_indicators['Data Source'].str.lower().str.contains(\"sowc 2019\")\n",
    "logic_more_helix = logic_more_helix & logic_more_helix.notnull()\n",
    "not_removed_indicators[logic_more_helix]"
   ]
  },
  {
   "cell_type": "markdown",
   "metadata": {},
   "source": [
    "##### World Bank\n",
    "Those that are already there, I will add them with pd data reader and the code."
   ]
  },
  {
   "cell_type": "code",
   "execution_count": null,
   "metadata": {},
   "outputs": [],
   "source": [
    "indicator_name = 'LO.PISA.MAT'\n",
    "pisa_mat = wb.download(indicator=indicator_name, country=['AL'], start=1950, end=2020)\n",
    "indicator_name = 'LO.PISA.MAT.FE'\n",
    "pisa_mat_fe = wb.download(indicator=indicator_name, country=['AL'], start=1970, end=2020)\n",
    "indicator_name = 'LO.PISA.MAT.MA'\n",
    "pisa_mat_ma = wb.download(indicator=indicator_name, country=['AL'], start=1970, end=2020)"
   ]
  },
  {
   "cell_type": "code",
   "execution_count": null,
   "metadata": {},
   "outputs": [],
   "source": [
    "indicator_name = 'LO.PISA.MAT'\n",
    "pisa_mat = wb.download(indicator=indicator_name, start=1970, end=2070)\n",
    "indicator_name = 'LO.PISA.MAT.FE'\n",
    "pisa_mat_fe = wb.download(indicator=indicator_name, start=1970, end=2070)\n",
    "indicator_name = 'LO.PISA.MAT.MA'\n",
    "pisa_mat_ma = wb.download(indicator=indicator_name, start=1970, end=2070)"
   ]
  },
  {
   "cell_type": "code",
   "execution_count": null,
   "metadata": {},
   "outputs": [],
   "source": [
    "pd_all = pd.concat([pisa_mat,pisa_mat_fe,pisa_mat_ma])\n",
    "pd_all"
   ]
  },
  {
   "cell_type": "markdown",
   "metadata": {},
   "source": [
    "#### Working out what remains to be Extracted!\n",
    "So far we have API's UIS and Helix"
   ]
  },
  {
   "cell_type": "code",
   "execution_count": null,
   "metadata": {},
   "outputs": [],
   "source": [
    "logic_not_helix_uis = ~(logic_helix_not_null | logic_UIS_not_null)"
   ]
  },
  {
   "cell_type": "code",
   "execution_count": null,
   "metadata": {},
   "outputs": [],
   "source": [
    "# this is basically the info to process\n",
    "not_removed_indicators['Data Source'][logic_not_helix_uis].unique()"
   ]
  },
  {
   "cell_type": "code",
   "execution_count": null,
   "metadata": {},
   "outputs": [],
   "source": [
    "# indicators with no info\n",
    "not_removed_indicators['Data Source'][logic_not_helix_uis].isna().sum()"
   ]
  },
  {
   "cell_type": "code",
   "execution_count": null,
   "metadata": {},
   "outputs": [],
   "source": [
    "# indicators extracted from NSI\n",
    "not_removed_indicators['Data Source'][logic_not_helix_uis].str.lower().str.contains(\"nsi\").sum()"
   ]
  },
  {
   "cell_type": "code",
   "execution_count": null,
   "metadata": {},
   "outputs": [],
   "source": [
    "# indicators extracted from calculations\n",
    "not_removed_indicators['Data Source'][logic_not_helix_uis].str.lower().str.contains(\"calculated\").sum()"
   ]
  },
  {
   "cell_type": "code",
   "execution_count": null,
   "metadata": {},
   "outputs": [],
   "source": [
    "# indicators from 'NSI or/and EuroStat'\n",
    "print(not_removed_indicators['Data Source'][logic_not_helix_uis].str.lower().str.contains(\" eurostat\").sum())\n",
    "# indicators from 'Eurostat & WB'\n",
    "print(not_removed_indicators['Data Source'][logic_not_helix_uis].str.lower().str.contains(\"eurostat \").sum())\n",
    "# indicators from 'Eurostat'\n",
    "print(not_removed_indicators['Data Source'][logic_not_helix_uis].str.lower().str.contains(\"eurostat\").sum())"
   ]
  },
  {
   "cell_type": "code",
   "execution_count": null,
   "metadata": {},
   "outputs": [],
   "source": [
    "# indicators extracted from WB or 'Eurostat & WB'\n",
    "print(not_removed_indicators['Data Source'][logic_not_helix_uis].str.lower().str.contains(\"wb\").sum())\n",
    "# indicators with address containing 'worldbank'\n",
    "print(not_removed_indicators['Data Source'][logic_not_helix_uis].str.lower().str.contains(\"worldbank\").sum())\n",
    "# indicators marked as data reader comes from world bank\n",
    "print(not_removed_indicators['Data Source'][logic_not_helix_uis].str.lower().str.contains(\"data reader\").sum())"
   ]
  },
  {
   "cell_type": "code",
   "execution_count": null,
   "metadata": {},
   "outputs": [],
   "source": [
    "# contains just 'WB' or 'Eurostat & WB' and nothing else (no source specified)\n",
    "print((not_removed_indicators['Data Source'][logic_not_helix_uis] == 'WB').sum())\n",
    "print((not_removed_indicators['Data Source'][logic_not_helix_uis] == 'Eurostat & WB').sum())"
   ]
  },
  {
   "cell_type": "code",
   "execution_count": null,
   "metadata": {},
   "outputs": [],
   "source": [
    "# contains api in the address (these are all world bank API)\n",
    "print(not_removed_indicators['Data Source'][logic_not_helix_uis].str.lower().str.contains(\"api\").sum())\n",
    "print(f\"From WB only {round(11/57*100,2)}% specifies API\")"
   ]
  },
  {
   "cell_type": "code",
   "execution_count": null,
   "metadata": {},
   "outputs": [],
   "source": [
    "# indicators extracted from WHO\n",
    "not_removed_indicators['Data Source'][logic_not_helix_uis].str.lower().str.contains(\"who\").sum()"
   ]
  },
  {
   "cell_type": "code",
   "execution_count": null,
   "metadata": {},
   "outputs": [],
   "source": [
    "# indicators extracted from ILO\n",
    "not_removed_indicators['Data Source'][logic_not_helix_uis].str.lower().str.contains(\"ilo\").sum()"
   ]
  },
  {
   "cell_type": "code",
   "execution_count": null,
   "metadata": {},
   "outputs": [],
   "source": [
    "# contains just 'ILO' and nothing else (no source specified)\n",
    "print((not_removed_indicators['Data Source'][logic_not_helix_uis] == 'ILO').sum())\n",
    "print(f\"From ILO only {round(1/41*100,2)}% specifies API\")"
   ]
  },
  {
   "cell_type": "code",
   "execution_count": null,
   "metadata": {},
   "outputs": [],
   "source": [
    "# indicators to search in Helix\n",
    "not_removed_indicators['Data Source'][logic_not_helix_uis].str.lower().str.contains(\"helix\").sum()"
   ]
  },
  {
   "cell_type": "code",
   "execution_count": null,
   "metadata": {},
   "outputs": [],
   "source": [
    "# indicators to search in UIS\n",
    "not_removed_indicators['Data Source'][logic_not_helix_uis].str.lower().str.contains(\"uis\").sum()"
   ]
  },
  {
   "cell_type": "code",
   "execution_count": null,
   "metadata": {},
   "outputs": [],
   "source": [
    "# indicators marked with MICS\n",
    "not_removed_indicators['Data Source'][logic_not_helix_uis].str.lower().str.contains(\"mics\").sum()"
   ]
  },
  {
   "cell_type": "code",
   "execution_count": null,
   "metadata": {},
   "outputs": [],
   "source": [
    "# indicators marked with SMQs\n",
    "not_removed_indicators['Data Source'][logic_not_helix_uis].str.lower().str.contains(\"smq\").sum()"
   ]
  },
  {
   "cell_type": "code",
   "execution_count": null,
   "metadata": {},
   "outputs": [],
   "source": [
    "# indicators to search in TM\n",
    "print(not_removed_indicators['Data Source'][logic_not_helix_uis].str.lower().str.contains(\"tm\").sum())\n",
    "# indicators from web not scrapable\n",
    "print(not_removed_indicators['Data Source'][logic_not_helix_uis].str.lower().str.contains(\"not scrap\").sum())\n",
    "# indicators from web not scrapable\n",
    "print(not_removed_indicators['Data Source'][logic_not_helix_uis].str.lower().str.contains(\"ptb\").sum())"
   ]
  },
  {
   "cell_type": "markdown",
   "metadata": {},
   "source": [
    "#### Appends to Data Dictionary\n",
    "**Caution Note:** whenever an excel write function is executed the file is overwritten!\n",
    "##### Append info Indicators Code - API's from UIS & Helix"
   ]
  },
  {
   "cell_type": "code",
   "execution_count": null,
   "metadata": {},
   "outputs": [],
   "source": [
    "# path to file for appending\n",
    "path_write_file = './populate_data_dictionary/indicator_dictionary_TM_v2.xlsx'"
   ]
  },
  {
   "cell_type": "code",
   "execution_count": null,
   "metadata": {},
   "outputs": [],
   "source": [
    "# use a function from stackoverflow to append data dictionary\n",
    "append_df_to_excel(path_write_file, not_removed_indicators.iloc[21:,[105]], sheet_name='Indicator', startrow=22,\n",
    "                   startcol = 5, header = False, index = False)"
   ]
  },
  {
   "cell_type": "markdown",
   "metadata": {},
   "source": [
    "##### Append info Indicators Source Name - API's from UIS & Helix"
   ]
  },
  {
   "cell_type": "code",
   "execution_count": null,
   "metadata": {},
   "outputs": [],
   "source": [
    "# place list of helix and UIS api's in source\n",
    "logic_helix_uis = not_removed_indicators['Source Name'].notna()\n",
    "append_df_to_excel(path_write_file, not_removed_indicators.loc[logic_helix_uis,'Source Name'].iloc[2:],\n",
    "                   sheet_name='Source', startrow=6,\n",
    "                   startcol = 2, header = False, index = False)"
   ]
  },
  {
   "cell_type": "markdown",
   "metadata": {},
   "source": [
    "##### Append info Indicators Addresses - UIS API"
   ]
  },
  {
   "cell_type": "code",
   "execution_count": null,
   "metadata": {},
   "outputs": [],
   "source": [
    "# place list UIS api's addresses in source spreadsheet\n",
    "append_df_to_excel(path_write_file, sources_uis,\n",
    "                   sheet_name='Source', startrow=26,\n",
    "                   startcol = 3, header = False, index = False)"
   ]
  },
  {
   "cell_type": "markdown",
   "metadata": {},
   "source": [
    "#### Dev testing zone"
   ]
  },
  {
   "cell_type": "code",
   "execution_count": null,
   "metadata": {},
   "outputs": [],
   "source": [
    "from sdmx import sdmx_struc\n",
    "from fileUtils import fileDownload\n",
    "import numpy as np"
   ]
  },
  {
   "cell_type": "code",
   "execution_count": null,
   "metadata": {},
   "outputs": [],
   "source": [
    "logic_wb = not_removed_indicators['Data Source'].str.lower().str.contains(\"worldbank\")\n",
    "# filter logic_dr that are not boolean\n",
    "logic_wb_not_null = logic_wb.notnull()\n",
    "# operator AND for two logics above\n",
    "logic_wb_not_null = logic_wb & logic_wb_not_null\n",
    "print(np.r_[not_removed_indicators['Indicator'][logic_wb_not_null].values[0:1],\n",
    "      not_removed_indicators['Indicator'][logic_wb_not_null].values[2:]])"
   ]
  },
  {
   "cell_type": "code",
   "execution_count": null,
   "metadata": {},
   "outputs": [],
   "source": [
    "url_endpoint = 'https://sdmx.data.unicef.org/ws/public/sdmxapi/rest/data/ECARO,TRANSMONEE,1.0/'\n",
    "api_address = url_endpoint + 'all'\n",
    "api_params = {'format':'sdmx-json', 'detail':'structureOnly'}\n",
    "# API dataflow structure request\n",
    "d_flow_struc = fileDownload.api_request(api_address,api_params)"
   ]
  },
  {
   "cell_type": "code",
   "execution_count": null,
   "metadata": {},
   "outputs": [],
   "source": [
    "country_codes_3 = sdmx_struc.get_all_country_codes(d_flow_struc.json())\n",
    "country_codes_3.values()"
   ]
  },
  {
   "cell_type": "code",
   "execution_count": null,
   "metadata": {},
   "outputs": [],
   "source": [
    "sources_uis"
   ]
  },
  {
   "cell_type": "code",
   "execution_count": null,
   "metadata": {},
   "outputs": [],
   "source": [
    "not_removed_indicators.loc[logic_helix_uis,'Source Name'].iloc[2:]"
   ]
  },
  {
   "cell_type": "code",
   "execution_count": null,
   "metadata": {},
   "outputs": [],
   "source": [
    "not_removed_indicators.iloc[105]"
   ]
  },
  {
   "cell_type": "code",
   "execution_count": null,
   "metadata": {},
   "outputs": [],
   "source": [
    "# create new column in dataframe with codes with add\n",
    "# get indicator names"
   ]
  },
  {
   "cell_type": "code",
   "execution_count": null,
   "metadata": {},
   "outputs": [],
   "source": [
    "# Keep from sources only the address 'root' before country specification\n",
    "sources_uis[logic_api].str.replace(r'^.*?https', 'https', regex=True).apply(lambda x: x.split('AL+')[0])\n",
    "# 'https://api.uis.unesco.org/sdmx/data/UNESCO,SDG4,2.0/PQTR..L3................'\n",
    "# 'https://api.uis.unesco.org/sdmx/data/UNESCO,SDG4,2.0/PQTR..L3................'"
   ]
  },
  {
   "cell_type": "code",
   "execution_count": null,
   "metadata": {},
   "outputs": [],
   "source": [
    "sources_uis = not_removed_indicators['Data Source'][logic_UIS_not_null]\n",
    "logic_api = sources_uis.str.lower().str.contains(\"api.uis.unesco.org\")"
   ]
  },
  {
   "cell_type": "code",
   "execution_count": null,
   "metadata": {},
   "outputs": [],
   "source": [
    "# not_removed_indicators['Code'] = not_removed_indicators[logic_UIS_not_null]['Data Source']"
   ]
  }
 ],
 "metadata": {
  "kernelspec": {
   "display_name": "Python 3",
   "language": "python",
   "name": "python3"
  },
  "language_info": {
   "codemirror_mode": {
    "name": "ipython",
    "version": 3
   },
   "file_extension": ".py",
   "mimetype": "text/x-python",
   "name": "python",
   "nbconvert_exporter": "python",
   "pygments_lexer": "ipython3",
   "version": "3.7.6"
  },
  "toc": {
   "base_numbering": 1,
   "nav_menu": {},
   "number_sections": true,
   "sideBar": true,
   "skip_h1_title": false,
   "title_cell": "Table of Contents",
   "title_sidebar": "Contents",
   "toc_cell": false,
   "toc_position": {},
   "toc_section_display": true,
   "toc_window_display": false
  }
 },
 "nbformat": 4,
 "nbformat_minor": 4
}
