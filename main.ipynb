{
 "cells": [
  {
   "cell_type": "markdown",
   "metadata": {
    "toc": true
   },
   "source": [
    "<h1>Table of Contents<span class=\"tocSkip\"></span></h1>\n",
    "<div class=\"toc\"><ul class=\"toc-item\"><li><span><a href=\"#Data-extraction-CRBA\" data-toc-modified-id=\"Data-extraction-CRBA-1\"><span class=\"toc-item-num\">1&nbsp;&nbsp;</span>Data extraction CRBA</a></span><ul class=\"toc-item\"><li><span><a href=\"#Backlog-of-tasks\" data-toc-modified-id=\"Backlog-of-tasks-1.1\"><span class=\"toc-item-num\">1.1&nbsp;&nbsp;</span>Backlog of tasks</a></span></li><li><span><a href=\"#Import-packages\" data-toc-modified-id=\"Import-packages-1.2\"><span class=\"toc-item-num\">1.2&nbsp;&nbsp;</span>Import packages</a></span></li><li><span><a href=\"#Import-country-list\" data-toc-modified-id=\"Import-country-list-1.3\"><span class=\"toc-item-num\">1.3&nbsp;&nbsp;</span>Import country list</a></span></li></ul></li><li><span><a href=\"#Data-extraction---cleansing---normalization-for-each-indicator\" data-toc-modified-id=\"Data-extraction---cleansing---normalization-for-each-indicator-2\"><span class=\"toc-item-num\">2&nbsp;&nbsp;</span>Data extraction - cleansing - normalization for each indicator</a></span><ul class=\"toc-item\"><li><span><a href=\"#S-11-Economist-Intelligence-Unit,-Out-of-the-Shadows-Index.-Legal-Framework-score-only\" data-toc-modified-id=\"S-11-Economist-Intelligence-Unit,-Out-of-the-Shadows-Index.-Legal-Framework-score-only-2.1\"><span class=\"toc-item-num\">2.1&nbsp;&nbsp;</span>S-11 Economist Intelligence Unit, Out of the Shadows Index. Legal Framework score only</a></span></li><li><span><a href=\"#S-55-(prev-S-15)-Percentage-of-out-of-school-adolescents-of-lower-secondary-school-age.\" data-toc-modified-id=\"S-55-(prev-S-15)-Percentage-of-out-of-school-adolescents-of-lower-secondary-school-age.-2.2\"><span class=\"toc-item-num\">2.2&nbsp;&nbsp;</span>S-55 (prev S-15) Percentage of out-of-school adolescents of lower secondary school age.</a></span><ul class=\"toc-item\"><li><span><a href=\"#Extraction\" data-toc-modified-id=\"Extraction-2.2.1\"><span class=\"toc-item-num\">2.2.1&nbsp;&nbsp;</span>Extraction</a></span></li><li><span><a href=\"#Cleansing\" data-toc-modified-id=\"Cleansing-2.2.2\"><span class=\"toc-item-num\">2.2.2&nbsp;&nbsp;</span>Cleansing</a></span></li><li><span><a href=\"#Normalization-(scaling)\" data-toc-modified-id=\"Normalization-(scaling)-2.2.3\"><span class=\"toc-item-num\">2.2.3&nbsp;&nbsp;</span>Normalization (scaling)</a></span></li><li><span><a href=\"#Select-only-those-rows/-columns-which-are-relevant\" data-toc-modified-id=\"Select-only-those-rows/-columns-which-are-relevant-2.2.4\"><span class=\"toc-item-num\">2.2.4&nbsp;&nbsp;</span>Select only those rows/ columns which are relevant</a></span></li></ul></li><li><span><a href=\"#S-56-(prev-S-16)-Percentage-of-out-of-school-youth-of-upper-secondary-school-age\" data-toc-modified-id=\"S-56-(prev-S-16)-Percentage-of-out-of-school-youth-of-upper-secondary-school-age-2.3\"><span class=\"toc-item-num\">2.3&nbsp;&nbsp;</span>S-56 (prev S-16) Percentage of out-of-school youth of upper secondary school age</a></span><ul class=\"toc-item\"><li><span><a href=\"#Extraction\" data-toc-modified-id=\"Extraction-2.3.1\"><span class=\"toc-item-num\">2.3.1&nbsp;&nbsp;</span>Extraction</a></span></li><li><span><a href=\"#Cleansing\" data-toc-modified-id=\"Cleansing-2.3.2\"><span class=\"toc-item-num\">2.3.2&nbsp;&nbsp;</span>Cleansing</a></span></li><li><span><a href=\"#Normalization-(scaling)\" data-toc-modified-id=\"Normalization-(scaling)-2.3.3\"><span class=\"toc-item-num\">2.3.3&nbsp;&nbsp;</span>Normalization (scaling)</a></span></li><li><span><a href=\"#Select-only-those-rows/-columns-which-are-relevant\" data-toc-modified-id=\"Select-only-those-rows/-columns-which-are-relevant-2.3.4\"><span class=\"toc-item-num\">2.3.4&nbsp;&nbsp;</span>Select only those rows/ columns which are relevant</a></span></li></ul></li><li><span><a href=\"#S-24-(prev.-S-14)-SDG-Indicator-8.7.1-Proportion-of-children-aged-5-17-years-engaged-in-child-labour-SL_TLF_CHLDEA\" data-toc-modified-id=\"S-24-(prev.-S-14)-SDG-Indicator-8.7.1-Proportion-of-children-aged-5-17-years-engaged-in-child-labour-SL_TLF_CHLDEA-2.4\"><span class=\"toc-item-num\">2.4&nbsp;&nbsp;</span>S-24 (prev. S-14) SDG Indicator 8.7.1 Proportion of children aged 5-17 years engaged in child labour SL_TLF_CHLDEA</a></span><ul class=\"toc-item\"><li><span><a href=\"#Extraction\" data-toc-modified-id=\"Extraction-2.4.1\"><span class=\"toc-item-num\">2.4.1&nbsp;&nbsp;</span>Extraction</a></span></li><li><span><a href=\"#Cleansing\" data-toc-modified-id=\"Cleansing-2.4.2\"><span class=\"toc-item-num\">2.4.2&nbsp;&nbsp;</span>Cleansing</a></span></li><li><span><a href=\"#Normalization-(scaling)\" data-toc-modified-id=\"Normalization-(scaling)-2.4.3\"><span class=\"toc-item-num\">2.4.3&nbsp;&nbsp;</span>Normalization (scaling)</a></span></li><li><span><a href=\"#Select-only-those-rows/-columns-which-are-relevant\" data-toc-modified-id=\"Select-only-those-rows/-columns-which-are-relevant-2.4.4\"><span class=\"toc-item-num\">2.4.4&nbsp;&nbsp;</span>Select only those rows/ columns which are relevant</a></span></li></ul></li><li><span><a href=\"#S-23-(prev.-S-17)-ILO-STAT-Informal-Employment-(%-of-total-non-agricultural-employment)-SL_ISV_IFEM\" data-toc-modified-id=\"S-23-(prev.-S-17)-ILO-STAT-Informal-Employment-(%-of-total-non-agricultural-employment)-SL_ISV_IFEM-2.5\"><span class=\"toc-item-num\">2.5&nbsp;&nbsp;</span>S-23 (prev. S-17) ILO STAT Informal Employment (% of total non-agricultural employment) SL_ISV_IFEM</a></span><ul class=\"toc-item\"><li><span><a href=\"#Extraction\" data-toc-modified-id=\"Extraction-2.5.1\"><span class=\"toc-item-num\">2.5.1&nbsp;&nbsp;</span>Extraction</a></span></li><li><span><a href=\"#Cleansing\" data-toc-modified-id=\"Cleansing-2.5.2\"><span class=\"toc-item-num\">2.5.2&nbsp;&nbsp;</span>Cleansing</a></span></li><li><span><a href=\"#Normalization-(scaling)\" data-toc-modified-id=\"Normalization-(scaling)-2.5.3\"><span class=\"toc-item-num\">2.5.3&nbsp;&nbsp;</span>Normalization (scaling)</a></span></li><li><span><a href=\"#Select-only-those-rows/-columns-which-are-relevant\" data-toc-modified-id=\"Select-only-those-rows/-columns-which-are-relevant-2.5.4\"><span class=\"toc-item-num\">2.5.4&nbsp;&nbsp;</span>Select only those rows/ columns which are relevant</a></span></li></ul></li><li><span><a href=\"#S-60-(prev-S-18)-Walk-Free-Foundation.Global-Slavery-Index.-Prevalence-of-Modern-Slavery.-Prevalence-score-only.\" data-toc-modified-id=\"S-60-(prev-S-18)-Walk-Free-Foundation.Global-Slavery-Index.-Prevalence-of-Modern-Slavery.-Prevalence-score-only.-2.6\"><span class=\"toc-item-num\">2.6&nbsp;&nbsp;</span>S-60 (prev S-18) Walk Free Foundation.Global Slavery Index. Prevalence of Modern Slavery. Prevalence score only.</a></span><ul class=\"toc-item\"><li><span><a href=\"#Extraction\" data-toc-modified-id=\"Extraction-2.6.1\"><span class=\"toc-item-num\">2.6.1&nbsp;&nbsp;</span>Extraction</a></span></li><li><span><a href=\"#Transform\" data-toc-modified-id=\"Transform-2.6.2\"><span class=\"toc-item-num\">2.6.2&nbsp;&nbsp;</span>Transform</a></span></li><li><span><a href=\"#Normalization-(scaling)\" data-toc-modified-id=\"Normalization-(scaling)-2.6.3\"><span class=\"toc-item-num\">2.6.3&nbsp;&nbsp;</span>Normalization (scaling)</a></span></li><li><span><a href=\"#Left-join-to-counry-list-to-bring-it-into-target-format\" data-toc-modified-id=\"Left-join-to-counry-list-to-bring-it-into-target-format-2.6.4\"><span class=\"toc-item-num\">2.6.4&nbsp;&nbsp;</span>Left join to counry list to bring it into target format</a></span></li></ul></li><li><span><a href=\"#S-61-(prev-S-19)-SDG-Indicator-16.2.2-Detected-victims-of-human-trafficking,-by-age-and-sex-(number)--VC_HTF_DETV\" data-toc-modified-id=\"S-61-(prev-S-19)-SDG-Indicator-16.2.2-Detected-victims-of-human-trafficking,-by-age-and-sex-(number)--VC_HTF_DETV-2.7\"><span class=\"toc-item-num\">2.7&nbsp;&nbsp;</span>S-61 (prev S-19) SDG Indicator 16.2.2 Detected victims of human trafficking, by age and sex (number)  VC_HTF_DETV</a></span><ul class=\"toc-item\"><li><span><a href=\"#Extraction\" data-toc-modified-id=\"Extraction-2.7.1\"><span class=\"toc-item-num\">2.7.1&nbsp;&nbsp;</span>Extraction</a></span></li><li><span><a href=\"#Cleanse\" data-toc-modified-id=\"Cleanse-2.7.2\"><span class=\"toc-item-num\">2.7.2&nbsp;&nbsp;</span>Cleanse</a></span></li><li><span><a href=\"#Normalization-(scaling)\" data-toc-modified-id=\"Normalization-(scaling)-2.7.3\"><span class=\"toc-item-num\">2.7.3&nbsp;&nbsp;</span>Normalization (scaling)</a></span></li><li><span><a href=\"#Select-only-those-rows/-columns-which-are-relevant\" data-toc-modified-id=\"Select-only-those-rows/-columns-which-are-relevant-2.7.4\"><span class=\"toc-item-num\">2.7.4&nbsp;&nbsp;</span>Select only those rows/ columns which are relevant</a></span></li></ul></li><li><span><a href=\"#S-62-(prev-S-20)-SDG-Indicator-1.1.1.-Proportion-of-population-below-international-poverty-line-(%)-SI_POV_DAY1\" data-toc-modified-id=\"S-62-(prev-S-20)-SDG-Indicator-1.1.1.-Proportion-of-population-below-international-poverty-line-(%)-SI_POV_DAY1-2.8\"><span class=\"toc-item-num\">2.8&nbsp;&nbsp;</span>S-62 (prev S-20) SDG Indicator 1.1.1. Proportion of population below international poverty line (%) SI_POV_DAY1</a></span><ul class=\"toc-item\"><li><span><a href=\"#Extraction\" data-toc-modified-id=\"Extraction-2.8.1\"><span class=\"toc-item-num\">2.8.1&nbsp;&nbsp;</span>Extraction</a></span></li><li><span><a href=\"#Cleanse\" data-toc-modified-id=\"Cleanse-2.8.2\"><span class=\"toc-item-num\">2.8.2&nbsp;&nbsp;</span>Cleanse</a></span></li><li><span><a href=\"#Normalization-(scaling)\" data-toc-modified-id=\"Normalization-(scaling)-2.8.3\"><span class=\"toc-item-num\">2.8.3&nbsp;&nbsp;</span>Normalization (scaling)</a></span></li><li><span><a href=\"#Select-only-those-rows/-columns-which-are-relevant\" data-toc-modified-id=\"Select-only-those-rows/-columns-which-are-relevant-2.8.4\"><span class=\"toc-item-num\">2.8.4&nbsp;&nbsp;</span>Select only those rows/ columns which are relevant</a></span></li></ul></li><li><span><a href=\"#S-203-(prev-S-47)-SDG-Indicator-8.5.1.-Average-hourly-earnings-of-employees-by-sex-and-occupation-(local-currency)-SL_EMP_AEARN\" data-toc-modified-id=\"S-203-(prev-S-47)-SDG-Indicator-8.5.1.-Average-hourly-earnings-of-employees-by-sex-and-occupation-(local-currency)-SL_EMP_AEARN-2.9\"><span class=\"toc-item-num\">2.9&nbsp;&nbsp;</span>S-203 (prev S-47) SDG Indicator 8.5.1. Average hourly earnings of employees by sex and occupation (local currency) SL_EMP_AEARN</a></span><ul class=\"toc-item\"><li><span><a href=\"#Extraction\" data-toc-modified-id=\"Extraction-2.9.1\"><span class=\"toc-item-num\">2.9.1&nbsp;&nbsp;</span>Extraction</a></span></li><li><span><a href=\"#Cleanse\" data-toc-modified-id=\"Cleanse-2.9.2\"><span class=\"toc-item-num\">2.9.2&nbsp;&nbsp;</span>Cleanse</a></span></li><li><span><a href=\"#Normalization-(scaling)\" data-toc-modified-id=\"Normalization-(scaling)-2.9.3\"><span class=\"toc-item-num\">2.9.3&nbsp;&nbsp;</span>Normalization (scaling)</a></span></li><li><span><a href=\"#Select-only-those-rows/-columns-which-are-relevant\" data-toc-modified-id=\"Select-only-those-rows/-columns-which-are-relevant-2.9.4\"><span class=\"toc-item-num\">2.9.4&nbsp;&nbsp;</span>Select only those rows/ columns which are relevant</a></span></li></ul></li><li><span><a href=\"#S-204-(prev-S-48)-SDG-Indicator-1.1.1,-ILO-Stat:-Employed-population-below-international-poverty-line,-by-sex-and-age-(%)-SI_POV_EMP1\" data-toc-modified-id=\"S-204-(prev-S-48)-SDG-Indicator-1.1.1,-ILO-Stat:-Employed-population-below-international-poverty-line,-by-sex-and-age-(%)-SI_POV_EMP1-2.10\"><span class=\"toc-item-num\">2.10&nbsp;&nbsp;</span>S-204 (prev S-48) SDG Indicator 1.1.1, ILO Stat: Employed population below international poverty line, by sex and age (%) SI_POV_EMP1</a></span><ul class=\"toc-item\"><li><span><a href=\"#Extraction\" data-toc-modified-id=\"Extraction-2.10.1\"><span class=\"toc-item-num\">2.10.1&nbsp;&nbsp;</span>Extraction</a></span></li><li><span><a href=\"#Cleanse\" data-toc-modified-id=\"Cleanse-2.10.2\"><span class=\"toc-item-num\">2.10.2&nbsp;&nbsp;</span>Cleanse</a></span></li><li><span><a href=\"#Normalization-(scaling)\" data-toc-modified-id=\"Normalization-(scaling)-2.10.3\"><span class=\"toc-item-num\">2.10.3&nbsp;&nbsp;</span>Normalization (scaling)</a></span></li><li><span><a href=\"#Select-only-those-rows/-columns-which-are-relevant\" data-toc-modified-id=\"Select-only-those-rows/-columns-which-are-relevant-2.10.4\"><span class=\"toc-item-num\">2.10.4&nbsp;&nbsp;</span>Select only those rows/ columns which are relevant</a></span></li></ul></li></ul></li><li><span><a href=\"#---------Archive/-Trash/-dev-section-(Disregard-this-section)-----------\" data-toc-modified-id=\"---------Archive/-Trash/-dev-section-(Disregard-this-section)------------3\"><span class=\"toc-item-num\">3&nbsp;&nbsp;</span><div align=\"center\"> - - - - Archive/ Trash/ dev section (Disregard this section) - - - - - </div></a></span><ul class=\"toc-item\"><li><ul class=\"toc-item\"><li><span><a href=\"#Left-join-to-counry-list-to-bring-it-into-target-format\" data-toc-modified-id=\"Left-join-to-counry-list-to-bring-it-into-target-format-3.0.1\"><span class=\"toc-item-num\">3.0.1&nbsp;&nbsp;</span>Left join to counry list to bring it into target format</a></span></li><li><span><a href=\"#Left-join-to-counry-list-to-bring-it-into-target-format\" data-toc-modified-id=\"Left-join-to-counry-list-to-bring-it-into-target-format-3.0.2\"><span class=\"toc-item-num\">3.0.2&nbsp;&nbsp;</span>Left join to counry list to bring it into target format</a></span></li></ul></li><li><span><a href=\"#Define-function\" data-toc-modified-id=\"Define-function-3.1\"><span class=\"toc-item-num\">3.1&nbsp;&nbsp;</span>Define function</a></span><ul class=\"toc-item\"><li><span><a href=\"#Generic-functions\" data-toc-modified-id=\"Generic-functions-3.1.1\"><span class=\"toc-item-num\">3.1.1&nbsp;&nbsp;</span>Generic functions</a></span></li><li><span><a href=\"#UNESCO-API-specific-functions\" data-toc-modified-id=\"UNESCO-API-specific-functions-3.1.2\"><span class=\"toc-item-num\">3.1.2&nbsp;&nbsp;</span>UNESCO API specific functions</a></span></li><li><span><a href=\"#SDG-API-specific-functions\" data-toc-modified-id=\"SDG-API-specific-functions-3.1.3\"><span class=\"toc-item-num\">3.1.3&nbsp;&nbsp;</span>SDG API specific functions</a></span><ul class=\"toc-item\"><li><span><a href=\"#Transforming-ILO-data\" data-toc-modified-id=\"Transforming-ILO-data-3.1.3.1\"><span class=\"toc-item-num\">3.1.3.1&nbsp;&nbsp;</span>Transforming ILO data</a></span></li><li><span><a href=\"#Extracting-data-through-ILO-API\" data-toc-modified-id=\"Extracting-data-through-ILO-API-3.1.3.2\"><span class=\"toc-item-num\">3.1.3.2&nbsp;&nbsp;</span>Extracting data through ILO API</a></span></li></ul></li></ul></li></ul></li></ul></div>"
   ]
  },
  {
   "cell_type": "markdown",
   "metadata": {},
   "source": [
    "# Data extraction CRBA\n",
    "\n",
    "* This is the main file, which must be executed to extract data from all soures for which the process has been automated\n",
    "* For a list of all soures along with the information whether its a manual or atutomated extraction please consult the follownig file: \n"
   ]
  },
  {
   "cell_type": "markdown",
   "metadata": {},
   "source": [
    "## Backlog of tasks\n",
    "\n",
    " - [X] Write the functions to extract data from UNESCO API into one function which takes the indicator code as argument (rather than having two functions with the same functionatlity for two indicators | and check if that ingo is not also in the SDG API anyways\n",
    " - [ ] Finalize understanding the maplecroft logic for a quantaitive indicator and then for: qualitative indicator and also understand all the exceptions (.e.g inverted indicator etc.) --> Draw a decision tree of all if-then statements and check if this logic is desired by Alex and Tomas\n",
    " - [ ] Implement this logic in the python function started below\n",
    " - [ ] Check with Alex/ Tomas what the final result should look like (raw data + scaled data + aggregated data = final index score for each indicator + aggregrated index scores\n",
    " - [ ] Check with Daniele in what format these things should be in SDMX (should they include dimensions like sex, age, ... SHould they include units etc.?\n",
    " - [ ] Start implementing INdicator by indicator (rather than extracting data from all sources first before transforming anything)\n",
    " - [ ] For log file: \n",
    "    * Summary statistics of indicator\n",
    "    * Coverage (how many NA values) for indicator\n",
    "    * Data on average from which year \n"
   ]
  },
  {
   "cell_type": "markdown",
   "metadata": {},
   "source": [
    "## Import packages"
   ]
  },
  {
   "cell_type": "code",
   "execution_count": 1,
   "metadata": {},
   "outputs": [],
   "source": [
    "import pandas as pd\n",
    "import json\n",
    "import urllib\n",
    "import requests\n",
    "import os\n",
    "import numpy as np\n",
    "from extract.unesco_extractor import extract_unesco_api_data\n",
    "from extract.sdg_extractor import extract_sdg_api_data\n",
    "from extract import save_raw_data\n",
    "from cleanse.unesco_cleanser import cleanse_unesco_api_data\n",
    "from cleanse.sdg_cleanser import cleanse_sdg_api_data\n",
    "from cleanse.save_cleansed_data import save_cleansed_data\n",
    "from normalize import scaler\n",
    "from normalize import save_normalized_data"
   ]
  },
  {
   "cell_type": "markdown",
   "metadata": {},
   "source": [
    "## Import country list"
   ]
  },
  {
   "cell_type": "code",
   "execution_count": 2,
   "metadata": {},
   "outputs": [],
   "source": [
    "# Define the export path for all RAW data sources\n",
    "cwd = os.getcwd()\n",
    "\n",
    "data_sources_raw = cwd + \"\\data\\data_raw\""
   ]
  },
  {
   "cell_type": "code",
   "execution_count": 3,
   "metadata": {},
   "outputs": [],
   "source": [
    "# Load the list of countries which contains all different variations of country names \n",
    "country_full_list = pd.read_excel(cwd + '\\\\all_countrynames_list.xlsx',\n",
    "                                 keep_default_na = False).drop_duplicates()\n",
    "\n",
    "# Create a version of the list with unique ISO2 and ISO3 codes\n",
    "country_iso_list = country_full_list.drop_duplicates(subset = 'CountryIso2')\n",
    "\n",
    "# Country CRBA list, this is the list of the countries that should be contained \n",
    "country_crba_list = pd.read_excel(cwd + '\\\\crba_country_list.xlsx',\n",
    "                                 header = None,\n",
    "                                 usecols = [0, 1], \n",
    "                                 names = ['COUNTRY_ISO_3', 'COUNTRY_NAME']).merge(\n",
    "                                        right = country_iso_list,\n",
    "                                        how = 'left',\n",
    "                                        left_on = 'COUNTRY_ISO_3',\n",
    "                                        right_on = 'CountryIso3',\n",
    "                                        validate = 'one_to_one')[\n",
    "            ['COUNTRY_ISO_3', 'COUNTRY_NAME', 'CountryIso2']].rename(columns = {'CountryIso2': \"COUNTRY_ISO_2\"})"
   ]
  },
  {
   "cell_type": "markdown",
   "metadata": {},
   "source": [
    "# Data extraction - cleansing - normalization for each indicator"
   ]
  },
  {
   "cell_type": "markdown",
   "metadata": {},
   "source": [
    "## S-11 Economist Intelligence Unit, Out of the Shadows Index. Legal Framework score only\n",
    "\n",
    "I have decided to not automate this process, because the Excel is so nested that it is very difficult to do that. And it's faster and less erorr prone to retrieve the data manually. "
   ]
  },
  {
   "cell_type": "markdown",
   "metadata": {},
   "source": [
    "## S-55 (prev S-15) Percentage of out-of-school adolescents of lower secondary school age. \n",
    "\n",
    "The data of this source is retrieved from the UNSECO API, for which you must have an API key to acces it. For that, you must sign up. "
   ]
  },
  {
   "cell_type": "markdown",
   "metadata": {},
   "source": [
    "### Extraction"
   ]
  },
  {
   "cell_type": "code",
   "execution_count": 9,
   "metadata": {},
   "outputs": [
    {
     "name": "stdout",
     "output_type": "stream",
     "text": [
      "The raw data has been saved as .xlsx file in: D:\\Documents\\2020\\28_UNICEF\\10_working_repo\\data-etl\\data\\data_raw\\\n"
     ]
    }
   ],
   "source": [
    "# Extract data\n",
    "s55_raw = extract_unesco_api_data(\n",
    "    api_call_url = 'https://api.uis.unesco.org/sdmx/data/UNESCO,SDG4,2.0/ROFST.PT.L2+L2_3+L3._T._T+F+M.SCH_AGE_GROUP._T.INST_T._Z._T._Z._Z._Z._T._T._Z._Z._Z.?startPeriod=2005&endPeriod=2018&format=csv-sdmx&locale=en&subscription-key=460ab272abdd43c892bb59c218c22c09'\n",
    ")\n",
    "\n",
    "# Save raw data\n",
    "save_raw_data.save_raw_data(dataframe = s55_raw,\n",
    "             filename = 'S_55_raw.xlsx')"
   ]
  },
  {
   "cell_type": "markdown",
   "metadata": {},
   "source": [
    "### Cleansing"
   ]
  },
  {
   "cell_type": "code",
   "execution_count": 10,
   "metadata": {},
   "outputs": [
    {
     "name": "stdout",
     "output_type": "stream",
     "text": [
      "The raw data has been saved as .xlsx file in: D:\\Documents\\2020\\28_UNICEF\\10_working_repo\\data-etl\\data\\data_cleansed\\\n"
     ]
    }
   ],
   "source": [
    "# Obtain latest available observation and discard countries that are not in the final CRBA country list \n",
    "s55_cleansed = cleanse_unesco_api_data(raw_data = s55_raw,\n",
    "                                   raw_data_iso_2_col = 'REF_AREA',\n",
    "                                   country_df = country_crba_list,\n",
    "                                   country_df_iso2_col = 'COUNTRY_ISO_2',\n",
    "                                   non_dim_cols = ['OBS_VALUE', 'TIME_PERIOD', 'OBS_STATUS']\n",
    "                                   ) # the variable OBS_STATUS varies, but is an attribute, not a dimension. It specifies how an OBS_VALUE was created (A = standard way, E = estimate)\n",
    "\n",
    "# save cleansed data\n",
    "save_cleansed_data(dataframe = s55_cleansed,\n",
    "             filename = 'S_55_cleansed.xlsx')"
   ]
  },
  {
   "cell_type": "markdown",
   "metadata": {},
   "source": [
    "### Normalization (scaling)"
   ]
  },
  {
   "cell_type": "code",
   "execution_count": 11,
   "metadata": {
    "scrolled": true
   },
   "outputs": [
    {
     "name": "stdout",
     "output_type": "stream",
     "text": [
      "You hve a selected a few columns, which will not be regarded as dimensions. These are the remaining columns in the dataset, along with the number of values they take in the dataset.\n",
      "The column Dataflow has 1 unique values.\n",
      "The column STAT_UNIT has 1 unique values.\n",
      "The column UNIT_MEASURE has 1 unique values.\n",
      "The column EDU_LEVEL has 3 unique values.\n",
      "The column EDU_CAT has 1 unique values.\n",
      "The column SEX has 3 unique values.\n",
      "The column AGE has 1 unique values.\n",
      "The column GRADE has 1 unique values.\n",
      "The column SECTOR_EDU has 1 unique values.\n",
      "The column EDU_ATTAIN has 1 unique values.\n",
      "The column SUBJECT has 1 unique values.\n",
      "The column WEALTH_QUINTILE has 1 unique values.\n",
      "The column INFRASTR has 1 unique values.\n",
      "The column LOCATION has 1 unique values.\n",
      "The column EDU_TYPE has 1 unique values.\n",
      "The column SE_BKGRD has 1 unique values.\n",
      "The column SOURCE_FUND has 1 unique values.\n",
      "The column FUND_FLOW has 1 unique values.\n",
      "The column IMM_STATUS has 1 unique values.\n",
      "The column UNIT_MULT has 1 unique values.\n",
      "The column FREQ has 1 unique values.\n",
      "The column DECIMALS has 1 unique values.\n",
      "The total number of subgroups in the dataset is therefore: 9\n",
      "In the loop we are currently dealing with the subset #0, which has these defining values: Empty DataFrame\n",
      "Columns: [Dataflow, STAT_UNIT, UNIT_MEASURE, EDU_LEVEL, EDU_CAT, SEX, AGE, GRADE, SECTOR_EDU, EDU_ATTAIN, SUBJECT, WEALTH_QUINTILE, INFRASTR, LOCATION, EDU_TYPE, SE_BKGRD, SOURCE_FUND, FUND_FLOW, IMM_STATUS, UNIT_MULT, FREQ, DECIMALS]\n",
      "Index: []\n",
      "\n",
      "[0 rows x 22 columns]\n",
      "\n",
      " The shape of the subset is: (0, 30)\n",
      "Dataframe is empty. There are no values to append.\n",
      "In the loop we are currently dealing with the subset #1, which has these defining values:            Dataflow STAT_UNIT UNIT_MEASURE EDU_LEVEL EDU_CAT SEX  \\\n",
      "0  UNESCO:SDG4(2.0)     ROFST           PT        L2      _T  _T   \n",
      "\n",
      "             AGE GRADE SECTOR_EDU EDU_ATTAIN  ... INFRASTR LOCATION EDU_TYPE  \\\n",
      "0  SCH_AGE_GROUP    _T     INST_T         _Z  ...       _Z       _Z       _T   \n",
      "\n",
      "  SE_BKGRD SOURCE_FUND FUND_FLOW IMM_STATUS UNIT_MULT FREQ DECIMALS  \n",
      "0       _T          _Z        _Z         _Z         0    A        5  \n",
      "\n",
      "[1 rows x 22 columns]\n",
      "\n",
      " The shape of the subset is: (163, 30)\n",
      "The distribution of the raw data values this subgroup contains outliers or is too skewed on the upper end. The maximum value to be used for the normalisation is: 3rd quartile or distribution + 1.5 * IQR. It is: 43.630325000000006 \n",
      " See histogram printed below for info. \n",
      "\n",
      "The distribution of the raw data for this subgroup does not contain outliers or is too skewed on the lower end. The minimum value used for the normalisation is the minimum value in the dataset, which is 0.00589. This value corresponds to country: 748    Lithuania\n",
      "Name: COUNTRY_NAME, dtype: object \n",
      "\n",
      "\n",
      " This is the distribution of the raw data of the indicator.\n",
      "AxesSubplot(0.125,0.125;0.775x0.755)\n"
     ]
    },
    {
     "name": "stderr",
     "output_type": "stream",
     "text": [
      "D:\\Documents\\2020\\28_UNICEF\\10_working_repo\\data-etl\\normalize\\scaler.py:231: SettingWithCopyWarning: \n",
      "A value is trying to be set on a copy of a slice from a DataFrame.\n",
      "Try using .loc[row_indexer,col_indexer] = value instead\n",
      "\n",
      "See the caveats in the documentation: https://pandas.pydata.org/pandas-docs/stable/user_guide/indexing.html#returning-a-view-versus-a-copy\n",
      "  cleansed_data_subset['SCALED'] = round(10 - 10 * (cleansed_data_subset[indicator_raw_value].astype('float') - min_val)/ tot_range, 2)\n"
     ]
    },
    {
     "name": "stdout",
     "output_type": "stream",
     "text": [
      "In the loop we are currently dealing with the subset #2, which has these defining values:            Dataflow STAT_UNIT UNIT_MEASURE EDU_LEVEL EDU_CAT SEX  \\\n",
      "1  UNESCO:SDG4(2.0)     ROFST           PT        L2      _T   F   \n",
      "\n",
      "             AGE GRADE SECTOR_EDU EDU_ATTAIN  ... INFRASTR LOCATION EDU_TYPE  \\\n",
      "1  SCH_AGE_GROUP    _T     INST_T         _Z  ...       _Z       _Z       _T   \n",
      "\n",
      "  SE_BKGRD SOURCE_FUND FUND_FLOW IMM_STATUS UNIT_MULT FREQ DECIMALS  \n",
      "1       _T          _Z        _Z         _Z         0    A        5  \n",
      "\n",
      "[1 rows x 22 columns]\n",
      "\n",
      " The shape of the subset is: (155, 30)\n",
      "The distribution of the raw data values this subgroup contains outliers or is too skewed on the upper end. The maximum value to be used for the normalisation is: 3rd quartile or distribution + 1.5 * IQR. It is: 45.940870000000004 \n",
      " See histogram printed below for info. \n",
      "\n",
      "The distribution of the raw data for this subgroup does not contain outliers or is too skewed on the lower end. The minimum value used for the normalisation is the minimum value in the dataset, which is 0.09435. This value corresponds to country: 749    Lithuania\n",
      "Name: COUNTRY_NAME, dtype: object \n",
      "\n",
      "\n",
      " This is the distribution of the raw data of the indicator.\n",
      "AxesSubplot(0.125,0.125;0.775x0.755)\n"
     ]
    },
    {
     "name": "stderr",
     "output_type": "stream",
     "text": [
      "D:\\Documents\\2020\\28_UNICEF\\10_working_repo\\data-etl\\normalize\\scaler.py:231: SettingWithCopyWarning: \n",
      "A value is trying to be set on a copy of a slice from a DataFrame.\n",
      "Try using .loc[row_indexer,col_indexer] = value instead\n",
      "\n",
      "See the caveats in the documentation: https://pandas.pydata.org/pandas-docs/stable/user_guide/indexing.html#returning-a-view-versus-a-copy\n",
      "  cleansed_data_subset['SCALED'] = round(10 - 10 * (cleansed_data_subset[indicator_raw_value].astype('float') - min_val)/ tot_range, 2)\n"
     ]
    },
    {
     "name": "stdout",
     "output_type": "stream",
     "text": [
      "In the loop we are currently dealing with the subset #3, which has these defining values:            Dataflow STAT_UNIT UNIT_MEASURE EDU_LEVEL EDU_CAT SEX  \\\n",
      "2  UNESCO:SDG4(2.0)     ROFST           PT        L2      _T   M   \n",
      "\n",
      "             AGE GRADE SECTOR_EDU EDU_ATTAIN  ... INFRASTR LOCATION EDU_TYPE  \\\n",
      "2  SCH_AGE_GROUP    _T     INST_T         _Z  ...       _Z       _Z       _T   \n",
      "\n",
      "  SE_BKGRD SOURCE_FUND FUND_FLOW IMM_STATUS UNIT_MULT FREQ DECIMALS  \n",
      "2       _T          _Z        _Z         _Z         0    A        5  \n",
      "\n",
      "[1 rows x 22 columns]\n",
      "\n",
      " The shape of the subset is: (155, 30)\n",
      "The distribution of the raw data values this subgroup contains outliers or is too skewed on the upper end. The maximum value to be used for the normalisation is: 3rd quartile or distribution + 1.5 * IQR. It is: 43.3836 \n",
      " See histogram printed below for info. \n",
      "\n",
      "The distribution of the raw data for this subgroup does not contain outliers or is too skewed on the lower end. The minimum value used for the normalisation is the minimum value in the dataset, which is 0.06477999999999999. This value corresponds to country: 689    Kazakhstan\n",
      "Name: COUNTRY_NAME, dtype: object \n",
      "\n",
      "\n",
      " This is the distribution of the raw data of the indicator.\n",
      "AxesSubplot(0.125,0.125;0.775x0.755)\n"
     ]
    },
    {
     "name": "stderr",
     "output_type": "stream",
     "text": [
      "D:\\Documents\\2020\\28_UNICEF\\10_working_repo\\data-etl\\normalize\\scaler.py:231: SettingWithCopyWarning: \n",
      "A value is trying to be set on a copy of a slice from a DataFrame.\n",
      "Try using .loc[row_indexer,col_indexer] = value instead\n",
      "\n",
      "See the caveats in the documentation: https://pandas.pydata.org/pandas-docs/stable/user_guide/indexing.html#returning-a-view-versus-a-copy\n",
      "  cleansed_data_subset['SCALED'] = round(10 - 10 * (cleansed_data_subset[indicator_raw_value].astype('float') - min_val)/ tot_range, 2)\n"
     ]
    },
    {
     "name": "stdout",
     "output_type": "stream",
     "text": [
      "In the loop we are currently dealing with the subset #4, which has these defining values:            Dataflow STAT_UNIT UNIT_MEASURE EDU_LEVEL EDU_CAT SEX  \\\n",
      "3  UNESCO:SDG4(2.0)     ROFST           PT      L2_3      _T  _T   \n",
      "\n",
      "             AGE GRADE SECTOR_EDU EDU_ATTAIN  ... INFRASTR LOCATION EDU_TYPE  \\\n",
      "3  SCH_AGE_GROUP    _T     INST_T         _Z  ...       _Z       _Z       _T   \n",
      "\n",
      "  SE_BKGRD SOURCE_FUND FUND_FLOW IMM_STATUS UNIT_MULT FREQ DECIMALS  \n",
      "3       _T          _Z        _Z         _Z         0    A        5  \n",
      "\n",
      "[1 rows x 22 columns]\n",
      "\n",
      " The shape of the subset is: (162, 30)\n",
      "The distribution of the raw data values this subgroup contains outliers or is too skewed on the upper end. The maximum value to be used for the normalisation is: 3rd quartile or distribution + 1.5 * IQR. It is: 69.8756925 \n",
      " See histogram printed below for info. \n",
      "\n",
      "The distribution of the raw data for this subgroup does not contain outliers or is too skewed on the lower end. The minimum value used for the normalisation is the minimum value in the dataset, which is 0.07741. This value corresponds to country: 1154    Singapore\n",
      "Name: COUNTRY_NAME, dtype: object \n",
      "\n",
      "\n",
      " This is the distribution of the raw data of the indicator.\n",
      "AxesSubplot(0.125,0.125;0.775x0.755)\n"
     ]
    },
    {
     "name": "stderr",
     "output_type": "stream",
     "text": [
      "D:\\Documents\\2020\\28_UNICEF\\10_working_repo\\data-etl\\normalize\\scaler.py:231: SettingWithCopyWarning: \n",
      "A value is trying to be set on a copy of a slice from a DataFrame.\n",
      "Try using .loc[row_indexer,col_indexer] = value instead\n",
      "\n",
      "See the caveats in the documentation: https://pandas.pydata.org/pandas-docs/stable/user_guide/indexing.html#returning-a-view-versus-a-copy\n",
      "  cleansed_data_subset['SCALED'] = round(10 - 10 * (cleansed_data_subset[indicator_raw_value].astype('float') - min_val)/ tot_range, 2)\n"
     ]
    },
    {
     "name": "stdout",
     "output_type": "stream",
     "text": [
      "In the loop we are currently dealing with the subset #5, which has these defining values:            Dataflow STAT_UNIT UNIT_MEASURE EDU_LEVEL EDU_CAT SEX  \\\n",
      "4  UNESCO:SDG4(2.0)     ROFST           PT      L2_3      _T   F   \n",
      "\n",
      "             AGE GRADE SECTOR_EDU EDU_ATTAIN  ... INFRASTR LOCATION EDU_TYPE  \\\n",
      "4  SCH_AGE_GROUP    _T     INST_T         _Z  ...       _Z       _Z       _T   \n",
      "\n",
      "  SE_BKGRD SOURCE_FUND FUND_FLOW IMM_STATUS UNIT_MULT FREQ DECIMALS  \n",
      "4       _T          _Z        _Z         _Z         0    A        5  \n",
      "\n",
      "[1 rows x 22 columns]\n",
      "\n",
      " The shape of the subset is: (161, 30)\n",
      "The distribution of the raw data values this subgroup contains outliers or is too skewed on the upper end. The maximum value to be used for the normalisation is: 3rd quartile or distribution + 1.5 * IQR. It is: 66.091475 \n",
      " See histogram printed below for info. \n",
      "\n",
      "The distribution of the raw data for this subgroup does not contain outliers or is too skewed on the lower end. The minimum value used for the normalisation is the minimum value in the dataset, which is 0.06039. This value corresponds to country: 560    Ireland\n",
      "Name: COUNTRY_NAME, dtype: object \n",
      "\n",
      "\n",
      " This is the distribution of the raw data of the indicator.\n",
      "AxesSubplot(0.125,0.125;0.775x0.755)\n"
     ]
    },
    {
     "name": "stderr",
     "output_type": "stream",
     "text": [
      "D:\\Documents\\2020\\28_UNICEF\\10_working_repo\\data-etl\\normalize\\scaler.py:231: SettingWithCopyWarning: \n",
      "A value is trying to be set on a copy of a slice from a DataFrame.\n",
      "Try using .loc[row_indexer,col_indexer] = value instead\n",
      "\n",
      "See the caveats in the documentation: https://pandas.pydata.org/pandas-docs/stable/user_guide/indexing.html#returning-a-view-versus-a-copy\n",
      "  cleansed_data_subset['SCALED'] = round(10 - 10 * (cleansed_data_subset[indicator_raw_value].astype('float') - min_val)/ tot_range, 2)\n"
     ]
    },
    {
     "name": "stdout",
     "output_type": "stream",
     "text": [
      "In the loop we are currently dealing with the subset #6, which has these defining values:            Dataflow STAT_UNIT UNIT_MEASURE EDU_LEVEL EDU_CAT SEX  \\\n",
      "5  UNESCO:SDG4(2.0)     ROFST           PT      L2_3      _T   M   \n",
      "\n",
      "             AGE GRADE SECTOR_EDU EDU_ATTAIN  ... INFRASTR LOCATION EDU_TYPE  \\\n",
      "5  SCH_AGE_GROUP    _T     INST_T         _Z  ...       _Z       _Z       _T   \n",
      "\n",
      "  SE_BKGRD SOURCE_FUND FUND_FLOW IMM_STATUS UNIT_MULT FREQ DECIMALS  \n",
      "5       _T          _Z        _Z         _Z         0    A        5  \n",
      "\n",
      "[1 rows x 22 columns]\n",
      "\n",
      " The shape of the subset is: (161, 30)\n",
      "The distribution of the raw data values this subgroup contains outliers or is too skewed on the upper end. The maximum value to be used for the normalisation is: 3rd quartile or distribution + 1.5 * IQR. It is: 65.25736 \n",
      " See histogram printed below for info. \n",
      "\n",
      "The distribution of the raw data for this subgroup does not contain outliers or is too skewed on the lower end. The minimum value used for the normalisation is the minimum value in the dataset, which is 0.08982000000000001. This value corresponds to country: 1156    Singapore\n",
      "Name: COUNTRY_NAME, dtype: object \n",
      "\n",
      "\n",
      " This is the distribution of the raw data of the indicator.\n",
      "AxesSubplot(0.125,0.125;0.775x0.755)\n"
     ]
    },
    {
     "name": "stderr",
     "output_type": "stream",
     "text": [
      "D:\\Documents\\2020\\28_UNICEF\\10_working_repo\\data-etl\\normalize\\scaler.py:231: SettingWithCopyWarning: \n",
      "A value is trying to be set on a copy of a slice from a DataFrame.\n",
      "Try using .loc[row_indexer,col_indexer] = value instead\n",
      "\n",
      "See the caveats in the documentation: https://pandas.pydata.org/pandas-docs/stable/user_guide/indexing.html#returning-a-view-versus-a-copy\n",
      "  cleansed_data_subset['SCALED'] = round(10 - 10 * (cleansed_data_subset[indicator_raw_value].astype('float') - min_val)/ tot_range, 2)\n"
     ]
    },
    {
     "name": "stdout",
     "output_type": "stream",
     "text": [
      "In the loop we are currently dealing with the subset #7, which has these defining values:            Dataflow STAT_UNIT UNIT_MEASURE EDU_LEVEL EDU_CAT SEX  \\\n",
      "6  UNESCO:SDG4(2.0)     ROFST           PT        L3      _T  _T   \n",
      "\n",
      "             AGE GRADE SECTOR_EDU EDU_ATTAIN  ... INFRASTR LOCATION EDU_TYPE  \\\n",
      "6  SCH_AGE_GROUP    _T     INST_T         _Z  ...       _Z       _Z       _T   \n",
      "\n",
      "  SE_BKGRD SOURCE_FUND FUND_FLOW IMM_STATUS UNIT_MULT FREQ DECIMALS  \n",
      "6       _T          _Z        _Z         _Z         0    A        5  \n",
      "\n",
      "[1 rows x 22 columns]\n",
      "\n",
      " The shape of the subset is: (165, 30)\n",
      "The distribution of the raw data for this subgroup does not contain outliers or is too skewed on the upper end. The maximum value used for the normalisation is the maximum value in the dataset, which is 86.14805. This value corresponds to country: 925    Niger\n",
      "Name: COUNTRY_NAME, dtype: object \n",
      "\n",
      "The distribution of the raw data for this subgroup does not contain outliers or is too skewed on the lower end. The minimum value used for the normalisation is the minimum value in the dataset, which is 0.06444. This value corresponds to country: 943    Netherlands\n",
      "Name: COUNTRY_NAME, dtype: object \n",
      "\n"
     ]
    },
    {
     "name": "stderr",
     "output_type": "stream",
     "text": [
      "D:\\Documents\\2020\\28_UNICEF\\10_working_repo\\data-etl\\normalize\\scaler.py:231: SettingWithCopyWarning: \n",
      "A value is trying to be set on a copy of a slice from a DataFrame.\n",
      "Try using .loc[row_indexer,col_indexer] = value instead\n",
      "\n",
      "See the caveats in the documentation: https://pandas.pydata.org/pandas-docs/stable/user_guide/indexing.html#returning-a-view-versus-a-copy\n",
      "  cleansed_data_subset['SCALED'] = round(10 - 10 * (cleansed_data_subset[indicator_raw_value].astype('float') - min_val)/ tot_range, 2)\n"
     ]
    },
    {
     "name": "stdout",
     "output_type": "stream",
     "text": [
      "In the loop we are currently dealing with the subset #8, which has these defining values:            Dataflow STAT_UNIT UNIT_MEASURE EDU_LEVEL EDU_CAT SEX  \\\n",
      "7  UNESCO:SDG4(2.0)     ROFST           PT        L3      _T   F   \n",
      "\n",
      "             AGE GRADE SECTOR_EDU EDU_ATTAIN  ... INFRASTR LOCATION EDU_TYPE  \\\n",
      "7  SCH_AGE_GROUP    _T     INST_T         _Z  ...       _Z       _Z       _T   \n",
      "\n",
      "  SE_BKGRD SOURCE_FUND FUND_FLOW IMM_STATUS UNIT_MULT FREQ DECIMALS  \n",
      "7       _T          _Z        _Z         _Z         0    A        5  \n",
      "\n",
      "[1 rows x 22 columns]\n",
      "\n",
      " The shape of the subset is: (160, 30)\n",
      "The distribution of the raw data for this subgroup does not contain outliers or is too skewed on the upper end. The maximum value used for the normalisation is the maximum value in the dataset, which is 89.7091. This value corresponds to country: 230    Central African Republic\n",
      "Name: COUNTRY_NAME, dtype: object \n",
      "\n",
      "The distribution of the raw data for this subgroup does not contain outliers or is too skewed on the lower end. The minimum value used for the normalisation is the minimum value in the dataset, which is 0.07972. This value corresponds to country: 980    New Zealand\n",
      "Name: COUNTRY_NAME, dtype: object \n",
      "\n"
     ]
    },
    {
     "name": "stderr",
     "output_type": "stream",
     "text": [
      "D:\\Documents\\2020\\28_UNICEF\\10_working_repo\\data-etl\\normalize\\scaler.py:231: SettingWithCopyWarning: \n",
      "A value is trying to be set on a copy of a slice from a DataFrame.\n",
      "Try using .loc[row_indexer,col_indexer] = value instead\n",
      "\n",
      "See the caveats in the documentation: https://pandas.pydata.org/pandas-docs/stable/user_guide/indexing.html#returning-a-view-versus-a-copy\n",
      "  cleansed_data_subset['SCALED'] = round(10 - 10 * (cleansed_data_subset[indicator_raw_value].astype('float') - min_val)/ tot_range, 2)\n"
     ]
    },
    {
     "name": "stdout",
     "output_type": "stream",
     "text": [
      "In the loop we are currently dealing with the subset #9, which has these defining values:            Dataflow STAT_UNIT UNIT_MEASURE EDU_LEVEL EDU_CAT SEX  \\\n",
      "8  UNESCO:SDG4(2.0)     ROFST           PT        L3      _T   M   \n",
      "\n",
      "             AGE GRADE SECTOR_EDU EDU_ATTAIN  ... INFRASTR LOCATION EDU_TYPE  \\\n",
      "8  SCH_AGE_GROUP    _T     INST_T         _Z  ...       _Z       _Z       _T   \n",
      "\n",
      "  SE_BKGRD SOURCE_FUND FUND_FLOW IMM_STATUS UNIT_MULT FREQ DECIMALS  \n",
      "8       _T          _Z        _Z         _Z         0    A        5  \n",
      "\n",
      "[1 rows x 22 columns]\n",
      "\n",
      " The shape of the subset is: (160, 30)\n",
      "The distribution of the raw data for this subgroup does not contain outliers or is too skewed on the upper end. The maximum value used for the normalisation is the maximum value in the dataset, which is 83.84053. This value corresponds to country: 1331    Tanzania\n",
      "Name: COUNTRY_NAME, dtype: object \n",
      "\n",
      "The distribution of the raw data for this subgroup does not contain outliers or is too skewed on the lower end. The minimum value used for the normalisation is the minimum value in the dataset, which is 0.67013. This value corresponds to country: 105    Belgium\n",
      "Name: COUNTRY_NAME, dtype: object \n",
      "\n",
      "The number of rows in the dataframe after the right join are: (1755, 38)\n"
     ]
    },
    {
     "name": "stderr",
     "output_type": "stream",
     "text": [
      "D:\\Documents\\2020\\28_UNICEF\\10_working_repo\\data-etl\\normalize\\scaler.py:231: SettingWithCopyWarning: \n",
      "A value is trying to be set on a copy of a slice from a DataFrame.\n",
      "Try using .loc[row_indexer,col_indexer] = value instead\n",
      "\n",
      "See the caveats in the documentation: https://pandas.pydata.org/pandas-docs/stable/user_guide/indexing.html#returning-a-view-versus-a-copy\n",
      "  cleansed_data_subset['SCALED'] = round(10 - 10 * (cleansed_data_subset[indicator_raw_value].astype('float') - min_val)/ tot_range, 2)\n"
     ]
    },
    {
     "name": "stdout",
     "output_type": "stream",
     "text": [
      "The raw data has been saved as .xlsx file in: D:\\Documents\\2020\\28_UNICEF\\10_working_repo\\data-etl\\data\\data_normalized\\\n"
     ]
    },
    {
     "data": {
      "image/png": "[encoded data removed]",
      "text/plain": [
       "<Figure size 432x288 with 1 Axes>"
      ]
     },
     "metadata": {
      "needs_background": "light"
     },
     "output_type": "display_data"
    }
   ],
   "source": [
    "# Scale the raw data and bring the dataframe into long formmat\n",
    "s55_normalized = scaler.normalizer(cleansed_data = s55_cleansed,\n",
    "                        indicator_raw_value = 'OBS_VALUE',\n",
    "                        indicator_code = '3.1.3',\n",
    "                        indicator_name = 'Out-of-school adolescents (lower secondary)',\n",
    "                        cleansed_df_iso2_col = 'REF_AREA',\n",
    "                        crba_final_country_list = country_crba_list,\n",
    "                        crba_final_country_list_iso_col = 'COUNTRY_ISO_2',\n",
    "                        inverted = True,\n",
    "                        non_dim_cols = ['TIME_PERIOD', \n",
    "                                        'REF_AREA', \n",
    "                                        'OBS_VALUE', \n",
    "                                        'OBS_STATUS', \n",
    "                                        'COUNTRY_ISO_3', \n",
    "                                        'COUNTRY_NAME', \n",
    "                                        'COUNTRY_ISO_2', \n",
    "                                        '_merge']\n",
    "                       )\n",
    "\n",
    "# save normalized data\n",
    "save_normalized_data.save_normalized_data(dataframe = s55_normalized,\n",
    "             filename = 'S_55_normalized.xlsx')"
   ]
  },
  {
   "cell_type": "markdown",
   "metadata": {},
   "source": [
    "### Select only those rows/ columns which are relevant \n",
    "\n",
    "* < to do >\n",
    "* Right now, the normalized dataset contains data on ALL subsets (which are defined by the dimension values). Ultimately, there has to be a commitment to one Subset of an indicator \n",
    "* But this filtering to exactly one dimension (i.e. one row per country) will be done later"
   ]
  },
  {
   "cell_type": "markdown",
   "metadata": {},
   "source": [
    "## S-56 (prev S-16) Percentage of out-of-school youth of upper secondary school age\n",
    "\n",
    "The data of this source is retrieved from the UNSECO API, for which you must have an API key to acces it. For that, you must sign up. \n"
   ]
  },
  {
   "cell_type": "markdown",
   "metadata": {},
   "source": [
    "### Extraction"
   ]
  },
  {
   "cell_type": "code",
   "execution_count": 6,
   "metadata": {},
   "outputs": [
    {
     "name": "stdout",
     "output_type": "stream",
     "text": [
      "The raw data has been saved as .xlsx file in: D:\\Documents\\2020\\28_UNICEF\\10_working_repo\\data-etl\\data\\data_raw\\\n"
     ]
    }
   ],
   "source": [
    "# Extract data\n",
    "s56_raw = extract_unesco_api_data(\n",
    "    api_call_url = 'https://api.uis.unesco.org/sdmx/data/UNESCO,SDG4,2.0/ROFST.PT.L2+L2_3+L3._T._T+F+M.SCH_AGE_GROUP._T.INST_T._Z._T._Z._Z._Z._T._T._Z._Z._Z.?startPeriod=2005&endPeriod=2018&format=csv-sdmx&locale=en&subscription-key=460ab272abdd43c892bb59c218c22c09'\n",
    ")\n",
    "\n",
    "# Save raw data\n",
    "save_raw_data.save_raw_data(dataframe = s56_raw,\n",
    "             filename = 'S_56_raw.xlsx')"
   ]
  },
  {
   "cell_type": "markdown",
   "metadata": {},
   "source": [
    "### Cleansing"
   ]
  },
  {
   "cell_type": "code",
   "execution_count": 7,
   "metadata": {},
   "outputs": [
    {
     "name": "stdout",
     "output_type": "stream",
     "text": [
      "The raw data has been saved as .xlsx file in: D:\\Documents\\2020\\28_UNICEF\\10_working_repo\\data-etl\\data\\data_cleansed\\\n"
     ]
    }
   ],
   "source": [
    "# Obtain latest available observation and discard countries that are not in the final CRBA country list \n",
    "s56_cleansed = cleanse_unesco_api_data(raw_data = s56_raw,\n",
    "                                   raw_data_iso_2_col = 'REF_AREA',\n",
    "                                   country_df = country_crba_list,\n",
    "                                   country_df_iso2_col = 'COUNTRY_ISO_2',\n",
    "                                   non_dim_cols = ['OBS_VALUE', \n",
    "                                                   'TIME_PERIOD', \n",
    "                                                   'OBS_STATUS']\n",
    "                                   ) # the variable OBS_STATUS varies, but is an attribute, not a dimension. It specifies how an OBS_VALUE was created (A = standard way, E = estimate)\n",
    "\n",
    "# save cleansed data\n",
    "save_cleansed_data(dataframe = s56_cleansed,\n",
    "             filename = 'S_56_cleansed.xlsx')"
   ]
  },
  {
   "cell_type": "markdown",
   "metadata": {},
   "source": [
    "### Normalization (scaling)"
   ]
  },
  {
   "cell_type": "code",
   "execution_count": 8,
   "metadata": {
    "scrolled": true
   },
   "outputs": [
    {
     "name": "stdout",
     "output_type": "stream",
     "text": [
      "You hve a selected a few columns, which will not be regarded as dimensions. These are the remaining columns in the dataset, along with the number of values they take in the dataset.\n",
      "The column Dataflow has 1 unique values.\n",
      "The column STAT_UNIT has 1 unique values.\n",
      "The column UNIT_MEASURE has 1 unique values.\n",
      "The column EDU_LEVEL has 3 unique values.\n",
      "The column EDU_CAT has 1 unique values.\n",
      "The column SEX has 3 unique values.\n",
      "The column AGE has 1 unique values.\n",
      "The column GRADE has 1 unique values.\n",
      "The column SECTOR_EDU has 1 unique values.\n",
      "The column EDU_ATTAIN has 1 unique values.\n",
      "The column SUBJECT has 1 unique values.\n",
      "The column WEALTH_QUINTILE has 1 unique values.\n",
      "The column INFRASTR has 1 unique values.\n",
      "The column LOCATION has 1 unique values.\n",
      "The column EDU_TYPE has 1 unique values.\n",
      "The column SE_BKGRD has 1 unique values.\n",
      "The column SOURCE_FUND has 1 unique values.\n",
      "The column FUND_FLOW has 1 unique values.\n",
      "The column IMM_STATUS has 1 unique values.\n",
      "The column UNIT_MULT has 1 unique values.\n",
      "The column FREQ has 1 unique values.\n",
      "The column DECIMALS has 1 unique values.\n",
      "The total number of subgroups in the dataset is therefore: 9\n",
      "In the loop we are currently dealing with the subset #0, which has these defining values: Empty DataFrame\n",
      "Columns: [Dataflow, STAT_UNIT, UNIT_MEASURE, EDU_LEVEL, EDU_CAT, SEX, AGE, GRADE, SECTOR_EDU, EDU_ATTAIN, SUBJECT, WEALTH_QUINTILE, INFRASTR, LOCATION, EDU_TYPE, SE_BKGRD, SOURCE_FUND, FUND_FLOW, IMM_STATUS, UNIT_MULT, FREQ, DECIMALS]\n",
      "Index: []\n",
      "\n",
      "[0 rows x 22 columns]\n",
      "\n",
      " The shape of the subset is: (0, 30)\n",
      "Dataframe is empty. There are no values to append.\n",
      "In the loop we are currently dealing with the subset #1, which has these defining values:            Dataflow STAT_UNIT UNIT_MEASURE EDU_LEVEL EDU_CAT SEX  \\\n",
      "0  UNESCO:SDG4(2.0)     ROFST           PT        L2      _T  _T   \n",
      "\n",
      "             AGE GRADE SECTOR_EDU EDU_ATTAIN  ... INFRASTR LOCATION EDU_TYPE  \\\n",
      "0  SCH_AGE_GROUP    _T     INST_T         _Z  ...       _Z       _Z       _T   \n",
      "\n",
      "  SE_BKGRD SOURCE_FUND FUND_FLOW IMM_STATUS UNIT_MULT FREQ DECIMALS  \n",
      "0       _T          _Z        _Z         _Z         0    A        5  \n",
      "\n",
      "[1 rows x 22 columns]\n",
      "\n",
      " The shape of the subset is: (163, 30)\n",
      "The distribution of the raw data values this subgroup contains outliers or is too skewed on the upper end. The maximum value to be used for the normalisation is: 3rd quartile or distribution + 1.5 * IQR. It is: 43.630325000000006 \n",
      " See histogram printed below for info. \n",
      "\n",
      "The distribution of the raw data for this subgroup does not contain outliers or is too skewed on the lower end. The minimum value used for the normalisation is the minimum value in the dataset, which is 0.00589. This value corresponds to country: 748    Lithuania\n",
      "Name: COUNTRY_NAME, dtype: object \n",
      "\n",
      "\n",
      " This is the distribution of the raw data of the indicator.\n",
      "AxesSubplot(0.125,0.125;0.775x0.755)\n"
     ]
    },
    {
     "name": "stderr",
     "output_type": "stream",
     "text": [
      "D:\\Documents\\2020\\28_UNICEF\\10_working_repo\\data-etl\\normalize\\scaler.py:231: SettingWithCopyWarning: \n",
      "A value is trying to be set on a copy of a slice from a DataFrame.\n",
      "Try using .loc[row_indexer,col_indexer] = value instead\n",
      "\n",
      "See the caveats in the documentation: https://pandas.pydata.org/pandas-docs/stable/user_guide/indexing.html#returning-a-view-versus-a-copy\n",
      "  cleansed_data_subset['SCALED'] = round(10 - 10 * (cleansed_data_subset[indicator_raw_value].astype('float') - min_val)/ tot_range, 2)\n"
     ]
    },
    {
     "name": "stdout",
     "output_type": "stream",
     "text": [
      "In the loop we are currently dealing with the subset #2, which has these defining values:            Dataflow STAT_UNIT UNIT_MEASURE EDU_LEVEL EDU_CAT SEX  \\\n",
      "1  UNESCO:SDG4(2.0)     ROFST           PT        L2      _T   F   \n",
      "\n",
      "             AGE GRADE SECTOR_EDU EDU_ATTAIN  ... INFRASTR LOCATION EDU_TYPE  \\\n",
      "1  SCH_AGE_GROUP    _T     INST_T         _Z  ...       _Z       _Z       _T   \n",
      "\n",
      "  SE_BKGRD SOURCE_FUND FUND_FLOW IMM_STATUS UNIT_MULT FREQ DECIMALS  \n",
      "1       _T          _Z        _Z         _Z         0    A        5  \n",
      "\n",
      "[1 rows x 22 columns]\n",
      "\n",
      " The shape of the subset is: (155, 30)\n",
      "The distribution of the raw data values this subgroup contains outliers or is too skewed on the upper end. The maximum value to be used for the normalisation is: 3rd quartile or distribution + 1.5 * IQR. It is: 45.940870000000004 \n",
      " See histogram printed below for info. \n",
      "\n",
      "The distribution of the raw data for this subgroup does not contain outliers or is too skewed on the lower end. The minimum value used for the normalisation is the minimum value in the dataset, which is 0.09435. This value corresponds to country: 749    Lithuania\n",
      "Name: COUNTRY_NAME, dtype: object \n",
      "\n",
      "\n",
      " This is the distribution of the raw data of the indicator.\n",
      "AxesSubplot(0.125,0.125;0.775x0.755)\n"
     ]
    },
    {
     "name": "stderr",
     "output_type": "stream",
     "text": [
      "D:\\Documents\\2020\\28_UNICEF\\10_working_repo\\data-etl\\normalize\\scaler.py:231: SettingWithCopyWarning: \n",
      "A value is trying to be set on a copy of a slice from a DataFrame.\n",
      "Try using .loc[row_indexer,col_indexer] = value instead\n",
      "\n",
      "See the caveats in the documentation: https://pandas.pydata.org/pandas-docs/stable/user_guide/indexing.html#returning-a-view-versus-a-copy\n",
      "  cleansed_data_subset['SCALED'] = round(10 - 10 * (cleansed_data_subset[indicator_raw_value].astype('float') - min_val)/ tot_range, 2)\n"
     ]
    },
    {
     "name": "stdout",
     "output_type": "stream",
     "text": [
      "In the loop we are currently dealing with the subset #3, which has these defining values:            Dataflow STAT_UNIT UNIT_MEASURE EDU_LEVEL EDU_CAT SEX  \\\n",
      "2  UNESCO:SDG4(2.0)     ROFST           PT        L2      _T   M   \n",
      "\n",
      "             AGE GRADE SECTOR_EDU EDU_ATTAIN  ... INFRASTR LOCATION EDU_TYPE  \\\n",
      "2  SCH_AGE_GROUP    _T     INST_T         _Z  ...       _Z       _Z       _T   \n",
      "\n",
      "  SE_BKGRD SOURCE_FUND FUND_FLOW IMM_STATUS UNIT_MULT FREQ DECIMALS  \n",
      "2       _T          _Z        _Z         _Z         0    A        5  \n",
      "\n",
      "[1 rows x 22 columns]\n",
      "\n",
      " The shape of the subset is: (155, 30)\n",
      "The distribution of the raw data values this subgroup contains outliers or is too skewed on the upper end. The maximum value to be used for the normalisation is: 3rd quartile or distribution + 1.5 * IQR. It is: 43.3836 \n",
      " See histogram printed below for info. \n",
      "\n",
      "The distribution of the raw data for this subgroup does not contain outliers or is too skewed on the lower end. The minimum value used for the normalisation is the minimum value in the dataset, which is 0.06477999999999999. This value corresponds to country: 689    Kazakhstan\n",
      "Name: COUNTRY_NAME, dtype: object \n",
      "\n",
      "\n",
      " This is the distribution of the raw data of the indicator.\n",
      "AxesSubplot(0.125,0.125;0.775x0.755)\n"
     ]
    },
    {
     "name": "stderr",
     "output_type": "stream",
     "text": [
      "D:\\Documents\\2020\\28_UNICEF\\10_working_repo\\data-etl\\normalize\\scaler.py:231: SettingWithCopyWarning: \n",
      "A value is trying to be set on a copy of a slice from a DataFrame.\n",
      "Try using .loc[row_indexer,col_indexer] = value instead\n",
      "\n",
      "See the caveats in the documentation: https://pandas.pydata.org/pandas-docs/stable/user_guide/indexing.html#returning-a-view-versus-a-copy\n",
      "  cleansed_data_subset['SCALED'] = round(10 - 10 * (cleansed_data_subset[indicator_raw_value].astype('float') - min_val)/ tot_range, 2)\n"
     ]
    },
    {
     "name": "stdout",
     "output_type": "stream",
     "text": [
      "In the loop we are currently dealing with the subset #4, which has these defining values:            Dataflow STAT_UNIT UNIT_MEASURE EDU_LEVEL EDU_CAT SEX  \\\n",
      "3  UNESCO:SDG4(2.0)     ROFST           PT      L2_3      _T  _T   \n",
      "\n",
      "             AGE GRADE SECTOR_EDU EDU_ATTAIN  ... INFRASTR LOCATION EDU_TYPE  \\\n",
      "3  SCH_AGE_GROUP    _T     INST_T         _Z  ...       _Z       _Z       _T   \n",
      "\n",
      "  SE_BKGRD SOURCE_FUND FUND_FLOW IMM_STATUS UNIT_MULT FREQ DECIMALS  \n",
      "3       _T          _Z        _Z         _Z         0    A        5  \n",
      "\n",
      "[1 rows x 22 columns]\n",
      "\n",
      " The shape of the subset is: (162, 30)\n",
      "The distribution of the raw data values this subgroup contains outliers or is too skewed on the upper end. The maximum value to be used for the normalisation is: 3rd quartile or distribution + 1.5 * IQR. It is: 69.8756925 \n",
      " See histogram printed below for info. \n",
      "\n",
      "The distribution of the raw data for this subgroup does not contain outliers or is too skewed on the lower end. The minimum value used for the normalisation is the minimum value in the dataset, which is 0.07741. This value corresponds to country: 1154    Singapore\n",
      "Name: COUNTRY_NAME, dtype: object \n",
      "\n",
      "\n",
      " This is the distribution of the raw data of the indicator.\n",
      "AxesSubplot(0.125,0.125;0.775x0.755)\n"
     ]
    },
    {
     "name": "stderr",
     "output_type": "stream",
     "text": [
      "D:\\Documents\\2020\\28_UNICEF\\10_working_repo\\data-etl\\normalize\\scaler.py:231: SettingWithCopyWarning: \n",
      "A value is trying to be set on a copy of a slice from a DataFrame.\n",
      "Try using .loc[row_indexer,col_indexer] = value instead\n",
      "\n",
      "See the caveats in the documentation: https://pandas.pydata.org/pandas-docs/stable/user_guide/indexing.html#returning-a-view-versus-a-copy\n",
      "  cleansed_data_subset['SCALED'] = round(10 - 10 * (cleansed_data_subset[indicator_raw_value].astype('float') - min_val)/ tot_range, 2)\n"
     ]
    },
    {
     "name": "stdout",
     "output_type": "stream",
     "text": [
      "In the loop we are currently dealing with the subset #5, which has these defining values:            Dataflow STAT_UNIT UNIT_MEASURE EDU_LEVEL EDU_CAT SEX  \\\n",
      "4  UNESCO:SDG4(2.0)     ROFST           PT      L2_3      _T   F   \n",
      "\n",
      "             AGE GRADE SECTOR_EDU EDU_ATTAIN  ... INFRASTR LOCATION EDU_TYPE  \\\n",
      "4  SCH_AGE_GROUP    _T     INST_T         _Z  ...       _Z       _Z       _T   \n",
      "\n",
      "  SE_BKGRD SOURCE_FUND FUND_FLOW IMM_STATUS UNIT_MULT FREQ DECIMALS  \n",
      "4       _T          _Z        _Z         _Z         0    A        5  \n",
      "\n",
      "[1 rows x 22 columns]\n",
      "\n",
      " The shape of the subset is: (161, 30)\n",
      "The distribution of the raw data values this subgroup contains outliers or is too skewed on the upper end. The maximum value to be used for the normalisation is: 3rd quartile or distribution + 1.5 * IQR. It is: 66.091475 \n",
      " See histogram printed below for info. \n",
      "\n",
      "The distribution of the raw data for this subgroup does not contain outliers or is too skewed on the lower end. The minimum value used for the normalisation is the minimum value in the dataset, which is 0.06039. This value corresponds to country: 560    Ireland\n",
      "Name: COUNTRY_NAME, dtype: object \n",
      "\n",
      "\n",
      " This is the distribution of the raw data of the indicator.\n",
      "AxesSubplot(0.125,0.125;0.775x0.755)\n"
     ]
    },
    {
     "name": "stderr",
     "output_type": "stream",
     "text": [
      "D:\\Documents\\2020\\28_UNICEF\\10_working_repo\\data-etl\\normalize\\scaler.py:231: SettingWithCopyWarning: \n",
      "A value is trying to be set on a copy of a slice from a DataFrame.\n",
      "Try using .loc[row_indexer,col_indexer] = value instead\n",
      "\n",
      "See the caveats in the documentation: https://pandas.pydata.org/pandas-docs/stable/user_guide/indexing.html#returning-a-view-versus-a-copy\n",
      "  cleansed_data_subset['SCALED'] = round(10 - 10 * (cleansed_data_subset[indicator_raw_value].astype('float') - min_val)/ tot_range, 2)\n"
     ]
    },
    {
     "name": "stdout",
     "output_type": "stream",
     "text": [
      "In the loop we are currently dealing with the subset #6, which has these defining values:            Dataflow STAT_UNIT UNIT_MEASURE EDU_LEVEL EDU_CAT SEX  \\\n",
      "5  UNESCO:SDG4(2.0)     ROFST           PT      L2_3      _T   M   \n",
      "\n",
      "             AGE GRADE SECTOR_EDU EDU_ATTAIN  ... INFRASTR LOCATION EDU_TYPE  \\\n",
      "5  SCH_AGE_GROUP    _T     INST_T         _Z  ...       _Z       _Z       _T   \n",
      "\n",
      "  SE_BKGRD SOURCE_FUND FUND_FLOW IMM_STATUS UNIT_MULT FREQ DECIMALS  \n",
      "5       _T          _Z        _Z         _Z         0    A        5  \n",
      "\n",
      "[1 rows x 22 columns]\n",
      "\n",
      " The shape of the subset is: (161, 30)\n",
      "The distribution of the raw data values this subgroup contains outliers or is too skewed on the upper end. The maximum value to be used for the normalisation is: 3rd quartile or distribution + 1.5 * IQR. It is: 65.25736 \n",
      " See histogram printed below for info. \n",
      "\n",
      "The distribution of the raw data for this subgroup does not contain outliers or is too skewed on the lower end. The minimum value used for the normalisation is the minimum value in the dataset, which is 0.08982000000000001. This value corresponds to country: 1156    Singapore\n",
      "Name: COUNTRY_NAME, dtype: object \n",
      "\n",
      "\n",
      " This is the distribution of the raw data of the indicator.\n",
      "AxesSubplot(0.125,0.125;0.775x0.755)\n"
     ]
    },
    {
     "name": "stderr",
     "output_type": "stream",
     "text": [
      "D:\\Documents\\2020\\28_UNICEF\\10_working_repo\\data-etl\\normalize\\scaler.py:231: SettingWithCopyWarning: \n",
      "A value is trying to be set on a copy of a slice from a DataFrame.\n",
      "Try using .loc[row_indexer,col_indexer] = value instead\n",
      "\n",
      "See the caveats in the documentation: https://pandas.pydata.org/pandas-docs/stable/user_guide/indexing.html#returning-a-view-versus-a-copy\n",
      "  cleansed_data_subset['SCALED'] = round(10 - 10 * (cleansed_data_subset[indicator_raw_value].astype('float') - min_val)/ tot_range, 2)\n"
     ]
    },
    {
     "name": "stdout",
     "output_type": "stream",
     "text": [
      "In the loop we are currently dealing with the subset #7, which has these defining values:            Dataflow STAT_UNIT UNIT_MEASURE EDU_LEVEL EDU_CAT SEX  \\\n",
      "6  UNESCO:SDG4(2.0)     ROFST           PT        L3      _T  _T   \n",
      "\n",
      "             AGE GRADE SECTOR_EDU EDU_ATTAIN  ... INFRASTR LOCATION EDU_TYPE  \\\n",
      "6  SCH_AGE_GROUP    _T     INST_T         _Z  ...       _Z       _Z       _T   \n",
      "\n",
      "  SE_BKGRD SOURCE_FUND FUND_FLOW IMM_STATUS UNIT_MULT FREQ DECIMALS  \n",
      "6       _T          _Z        _Z         _Z         0    A        5  \n",
      "\n",
      "[1 rows x 22 columns]\n",
      "\n",
      " The shape of the subset is: (165, 30)\n",
      "The distribution of the raw data for this subgroup does not contain outliers or is too skewed on the upper end. The maximum value used for the normalisation is the maximum value in the dataset, which is 86.14805. This value corresponds to country: 925    Niger\n",
      "Name: COUNTRY_NAME, dtype: object \n",
      "\n",
      "The distribution of the raw data for this subgroup does not contain outliers or is too skewed on the lower end. The minimum value used for the normalisation is the minimum value in the dataset, which is 0.06444. This value corresponds to country: 943    Netherlands\n",
      "Name: COUNTRY_NAME, dtype: object \n",
      "\n"
     ]
    },
    {
     "name": "stderr",
     "output_type": "stream",
     "text": [
      "D:\\Documents\\2020\\28_UNICEF\\10_working_repo\\data-etl\\normalize\\scaler.py:231: SettingWithCopyWarning: \n",
      "A value is trying to be set on a copy of a slice from a DataFrame.\n",
      "Try using .loc[row_indexer,col_indexer] = value instead\n",
      "\n",
      "See the caveats in the documentation: https://pandas.pydata.org/pandas-docs/stable/user_guide/indexing.html#returning-a-view-versus-a-copy\n",
      "  cleansed_data_subset['SCALED'] = round(10 - 10 * (cleansed_data_subset[indicator_raw_value].astype('float') - min_val)/ tot_range, 2)\n"
     ]
    },
    {
     "name": "stdout",
     "output_type": "stream",
     "text": [
      "In the loop we are currently dealing with the subset #8, which has these defining values:            Dataflow STAT_UNIT UNIT_MEASURE EDU_LEVEL EDU_CAT SEX  \\\n",
      "7  UNESCO:SDG4(2.0)     ROFST           PT        L3      _T   F   \n",
      "\n",
      "             AGE GRADE SECTOR_EDU EDU_ATTAIN  ... INFRASTR LOCATION EDU_TYPE  \\\n",
      "7  SCH_AGE_GROUP    _T     INST_T         _Z  ...       _Z       _Z       _T   \n",
      "\n",
      "  SE_BKGRD SOURCE_FUND FUND_FLOW IMM_STATUS UNIT_MULT FREQ DECIMALS  \n",
      "7       _T          _Z        _Z         _Z         0    A        5  \n",
      "\n",
      "[1 rows x 22 columns]\n",
      "\n",
      " The shape of the subset is: (160, 30)\n",
      "The distribution of the raw data for this subgroup does not contain outliers or is too skewed on the upper end. The maximum value used for the normalisation is the maximum value in the dataset, which is 89.7091. This value corresponds to country: 230    Central African Republic\n",
      "Name: COUNTRY_NAME, dtype: object \n",
      "\n",
      "The distribution of the raw data for this subgroup does not contain outliers or is too skewed on the lower end. The minimum value used for the normalisation is the minimum value in the dataset, which is 0.07972. This value corresponds to country: 980    New Zealand\n",
      "Name: COUNTRY_NAME, dtype: object \n",
      "\n"
     ]
    },
    {
     "name": "stderr",
     "output_type": "stream",
     "text": [
      "D:\\Documents\\2020\\28_UNICEF\\10_working_repo\\data-etl\\normalize\\scaler.py:231: SettingWithCopyWarning: \n",
      "A value is trying to be set on a copy of a slice from a DataFrame.\n",
      "Try using .loc[row_indexer,col_indexer] = value instead\n",
      "\n",
      "See the caveats in the documentation: https://pandas.pydata.org/pandas-docs/stable/user_guide/indexing.html#returning-a-view-versus-a-copy\n",
      "  cleansed_data_subset['SCALED'] = round(10 - 10 * (cleansed_data_subset[indicator_raw_value].astype('float') - min_val)/ tot_range, 2)\n"
     ]
    },
    {
     "name": "stdout",
     "output_type": "stream",
     "text": [
      "In the loop we are currently dealing with the subset #9, which has these defining values:            Dataflow STAT_UNIT UNIT_MEASURE EDU_LEVEL EDU_CAT SEX  \\\n",
      "8  UNESCO:SDG4(2.0)     ROFST           PT        L3      _T   M   \n",
      "\n",
      "             AGE GRADE SECTOR_EDU EDU_ATTAIN  ... INFRASTR LOCATION EDU_TYPE  \\\n",
      "8  SCH_AGE_GROUP    _T     INST_T         _Z  ...       _Z       _Z       _T   \n",
      "\n",
      "  SE_BKGRD SOURCE_FUND FUND_FLOW IMM_STATUS UNIT_MULT FREQ DECIMALS  \n",
      "8       _T          _Z        _Z         _Z         0    A        5  \n",
      "\n",
      "[1 rows x 22 columns]\n",
      "\n",
      " The shape of the subset is: (160, 30)\n",
      "The distribution of the raw data for this subgroup does not contain outliers or is too skewed on the upper end. The maximum value used for the normalisation is the maximum value in the dataset, which is 83.84053. This value corresponds to country: 1331    Tanzania\n",
      "Name: COUNTRY_NAME, dtype: object \n",
      "\n",
      "The distribution of the raw data for this subgroup does not contain outliers or is too skewed on the lower end. The minimum value used for the normalisation is the minimum value in the dataset, which is 0.67013. This value corresponds to country: 105    Belgium\n",
      "Name: COUNTRY_NAME, dtype: object \n",
      "\n",
      "The number of rows in the dataframe after the right join are: (1755, 38)\n"
     ]
    },
    {
     "name": "stderr",
     "output_type": "stream",
     "text": [
      "D:\\Documents\\2020\\28_UNICEF\\10_working_repo\\data-etl\\normalize\\scaler.py:231: SettingWithCopyWarning: \n",
      "A value is trying to be set on a copy of a slice from a DataFrame.\n",
      "Try using .loc[row_indexer,col_indexer] = value instead\n",
      "\n",
      "See the caveats in the documentation: https://pandas.pydata.org/pandas-docs/stable/user_guide/indexing.html#returning-a-view-versus-a-copy\n",
      "  cleansed_data_subset['SCALED'] = round(10 - 10 * (cleansed_data_subset[indicator_raw_value].astype('float') - min_val)/ tot_range, 2)\n"
     ]
    },
    {
     "name": "stdout",
     "output_type": "stream",
     "text": [
      "The raw data has been saved as .xlsx file in: D:\\Documents\\2020\\28_UNICEF\\10_working_repo\\data-etl\\data\\data_normalized\\\n"
     ]
    },
    {
     "data": {
      "image/png": "[encoded data removed]",
      "text/plain": [
       "<Figure size 432x288 with 1 Axes>"
      ]
     },
     "metadata": {
      "needs_background": "light"
     },
     "output_type": "display_data"
    }
   ],
   "source": [
    "# Scale the raw data and bring the dataframe into long formmat\n",
    "s56_normalized = scaler.normalizer(cleansed_data = s56_cleansed,\n",
    "                        indicator_raw_value = 'OBS_VALUE',\n",
    "                        indicator_code = '3.1.4',\n",
    "                        indicator_name = 'Out-of-school adolescents (upper secondary)',\n",
    "                        cleansed_df_iso2_col = 'REF_AREA',\n",
    "                        crba_final_country_list = country_crba_list,\n",
    "                        crba_final_country_list_iso_col = 'COUNTRY_ISO_2',\n",
    "                        inverted = True,\n",
    "                        non_dim_cols = ['TIME_PERIOD',\n",
    "                                        'REF_AREA',\n",
    "                                        'OBS_VALUE',\n",
    "                                        'OBS_STATUS',\n",
    "                                        'COUNTRY_ISO_3',\n",
    "                                        'COUNTRY_NAME',\n",
    "                                        'COUNTRY_ISO_2',\n",
    "                                        '_merge']\n",
    "                       )\n",
    "\n",
    "# save normalized data\n",
    "save_normalized_data.save_normalized_data(dataframe = s56_normalized,\n",
    "             filename = 'S_56_normalized.xlsx')"
   ]
  },
  {
   "cell_type": "markdown",
   "metadata": {},
   "source": [
    "### Select only those rows/ columns which are relevant \n",
    "\n",
    "* < to do >\n",
    "* Right now, the normalized dataset contains data on ALL subsets (which are defined by the dimension values). Ultimately, there has to be a commitment to one Subset of an indicator \n",
    "* But this filtering to exactly one dimension (i.e. one row per country) will be done later"
   ]
  },
  {
   "cell_type": "markdown",
   "metadata": {},
   "source": [
    "## S-24 (prev. S-14) SDG Indicator 8.7.1 Proportion of children aged 5-17 years engaged in child labour SL_TLF_CHLDEA"
   ]
  },
  {
   "cell_type": "markdown",
   "metadata": {},
   "source": [
    "### Extraction"
   ]
  },
  {
   "cell_type": "code",
   "execution_count": 12,
   "metadata": {
    "scrolled": true
   },
   "outputs": [
    {
     "name": "stdout",
     "output_type": "stream",
     "text": [
      "The extracted raw data contains the following columns: Index(['goal', 'target', 'indicator', 'series', 'seriesDescription',\n",
      "       'seriesCount', 'geoAreaCode', 'geoAreaName', 'timePeriodStart', 'value',\n",
      "       'valueType', 'time_detail', 'timeCoverage', 'upperBound', 'lowerBound',\n",
      "       'basePeriod', 'source', 'geoInfoUrl', 'footnotes', 'attributes.Nature',\n",
      "       'attributes.Units', 'dimensions.Age', 'dimensions.Sex',\n",
      "       'dimensions.Reporting Type'],\n",
      "      dtype='object')\n",
      "The raw data has been saved as .xlsx file in: D:\\Documents\\2020\\28_UNICEF\\10_working_repo\\data-etl\\data\\data_raw\\\n"
     ]
    }
   ],
   "source": [
    "# Extract data and directly flatten it out into a pandas dataframe\n",
    "s24_raw = extract_sdg_api_data(series_code = 'SL_TLF_CHLDEA')\n",
    "\n",
    "# Save data to raw data folder\n",
    "save_raw_data.save_raw_data(dataframe = s24_raw,\n",
    "             filename = 'S_24.xlsx')"
   ]
  },
  {
   "cell_type": "markdown",
   "metadata": {},
   "source": [
    "### Cleansing"
   ]
  },
  {
   "cell_type": "code",
   "execution_count": 13,
   "metadata": {},
   "outputs": [
    {
     "name": "stdout",
     "output_type": "stream",
     "text": [
      "The raw data has been saved as .xlsx file in: D:\\Documents\\2020\\28_UNICEF\\10_working_repo\\data-etl\\data\\data_cleansed\\\n"
     ]
    }
   ],
   "source": [
    "s24_cleansed = cleanse_sdg_api_data(raw_data = s24_raw,\n",
    "                                   country_list_full = country_full_list,\n",
    "                                   country_list_full_name_col = 'CountryDesc',\n",
    "                                   country_list_full_iso2_col = 'CountryIso2',\n",
    "                                   country_df = country_crba_list,\n",
    "                                   country_df_iso2_col = 'COUNTRY_ISO_2',\n",
    "                                   non_dim_cols = ['value',\n",
    "                                                  'source',\n",
    "                                                   'timePeriodStart'\n",
    "                                                  'footnotes',\n",
    "                                                  'Unnamed: 0'] \n",
    "                                   )\n",
    "\n",
    "# save cleansed data\n",
    "save_cleansed_data(dataframe = s24_cleansed,\n",
    "             filename = 'S_24_cleansed.xlsx')"
   ]
  },
  {
   "cell_type": "markdown",
   "metadata": {},
   "source": [
    "### Normalization (scaling)"
   ]
  },
  {
   "cell_type": "code",
   "execution_count": 14,
   "metadata": {
    "scrolled": true
   },
   "outputs": [
    {
     "name": "stdout",
     "output_type": "stream",
     "text": [
      "You hve a selected a few columns, which will not be regarded as dimensions. These are the remaining columns in the dataset, along with the number of values they take in the dataset.\n",
      "The column goal has 1 unique values.\n",
      "The column target has 1 unique values.\n",
      "The column indicator has 1 unique values.\n",
      "The column series has 1 unique values.\n",
      "The column seriesDescription has 1 unique values.\n",
      "The column seriesCount has 1 unique values.\n",
      "The column valueType has 1 unique values.\n",
      "The column time_detail has 1 unique values.\n",
      "The column timeCoverage has 1 unique values.\n",
      "The column upperBound has 1 unique values.\n",
      "The column lowerBound has 1 unique values.\n",
      "The column basePeriod has 1 unique values.\n",
      "The column source has 1 unique values.\n",
      "The column geoInfoUrl has 1 unique values.\n",
      "The column attributes.Nature has 1 unique values.\n",
      "The column attributes.Units has 1 unique values.\n",
      "The column dimensions.Age has 5 unique values.\n",
      "The column dimensions.Sex has 3 unique values.\n",
      "The column dimensions.Reporting Type has 1 unique values.\n",
      "The total number of subgroups in the dataset is therefore: 15\n",
      "In the loop we are currently dealing with the subset #0, which has these defining values: Empty DataFrame\n",
      "Columns: [goal, target, indicator, series, seriesDescription, seriesCount, valueType, time_detail, timeCoverage, upperBound, lowerBound, basePeriod, source, geoInfoUrl, attributes.Nature, attributes.Units, dimensions.Age, dimensions.Sex, dimensions.Reporting Type]\n",
      "Index: []\n",
      "\n",
      " The shape of the subset is: (0, 32)\n",
      "Dataframe is empty. There are no values to append.\n",
      "In the loop we are currently dealing with the subset #1, which has these defining values:     goal   target  indicator         series  \\\n",
      "0  ['8']  ['8.7']  ['8.7.1']  SL_TLF_CHLDEA   \n",
      "\n",
      "                                   seriesDescription seriesCount valueType  \\\n",
      "0  Proportion of children engaged in economic act...         273     Float   \n",
      "\n",
      "  time_detail timeCoverage upperBound lowerBound basePeriod  \\\n",
      "0        None         None       None       None       None   \n",
      "\n",
      "                        source geoInfoUrl attributes.Nature attributes.Units  \\\n",
      "0  UNICEF and ILO calculations       None                CA          PERCENT   \n",
      "\n",
      "  dimensions.Age dimensions.Sex dimensions.Reporting Type  \n",
      "0           5-17           MALE                         G  \n",
      "\n",
      " The shape of the subset is: (62, 32)\n",
      "The distribution of the raw data for this subgroup does not contain outliers or is too skewed on the upper end. The maximum value used for the normalisation is the maximum value in the dataset, which is 38.46138. This value corresponds to country: 48    Cameroon\n",
      "Name: COUNTRY_NAME, dtype: object \n",
      "\n",
      "The distribution of the raw data for this subgroup does not contain outliers or is too skewed on the lower end. The minimum value used for the normalisation is the minimum value in the dataset, which is 0.39296. This value corresponds to country: 247    Turkmenistan\n",
      "Name: COUNTRY_NAME, dtype: object \n",
      "\n"
     ]
    },
    {
     "name": "stderr",
     "output_type": "stream",
     "text": [
      "D:\\Documents\\2020\\28_UNICEF\\10_working_repo\\data-etl\\normalize\\scaler.py:231: SettingWithCopyWarning: \n",
      "A value is trying to be set on a copy of a slice from a DataFrame.\n",
      "Try using .loc[row_indexer,col_indexer] = value instead\n",
      "\n",
      "See the caveats in the documentation: https://pandas.pydata.org/pandas-docs/stable/user_guide/indexing.html#returning-a-view-versus-a-copy\n",
      "  cleansed_data_subset['SCALED'] = round(10 - 10 * (cleansed_data_subset[indicator_raw_value].astype('float') - min_val)/ tot_range, 2)\n"
     ]
    },
    {
     "name": "stdout",
     "output_type": "stream",
     "text": [
      "In the loop we are currently dealing with the subset #2, which has these defining values:     goal   target  indicator         series  \\\n",
      "2  ['8']  ['8.7']  ['8.7.1']  SL_TLF_CHLDEA   \n",
      "\n",
      "                                   seriesDescription seriesCount valueType  \\\n",
      "2  Proportion of children engaged in economic act...         273     Float   \n",
      "\n",
      "  time_detail timeCoverage upperBound lowerBound basePeriod  \\\n",
      "2        None         None       None       None       None   \n",
      "\n",
      "                        source geoInfoUrl attributes.Nature attributes.Units  \\\n",
      "2  UNICEF and ILO calculations       None                CA          PERCENT   \n",
      "\n",
      "  dimensions.Age dimensions.Sex dimensions.Reporting Type  \n",
      "2           5-17         FEMALE                         G  \n",
      "\n",
      " The shape of the subset is: (62, 32)\n",
      "The distribution of the raw data for this subgroup does not contain outliers or is too skewed on the upper end. The maximum value used for the normalisation is the maximum value in the dataset, which is 33.36696. This value corresponds to country: 54    Chad\n",
      "Name: COUNTRY_NAME, dtype: object \n",
      "\n",
      "The distribution of the raw data for this subgroup does not contain outliers or is too skewed on the lower end. The minimum value used for the normalisation is the minimum value in the dataset, which is 0.11869. This value corresponds to country: 246    Turkmenistan\n",
      "Name: COUNTRY_NAME, dtype: object \n",
      "\n"
     ]
    },
    {
     "name": "stderr",
     "output_type": "stream",
     "text": [
      "D:\\Documents\\2020\\28_UNICEF\\10_working_repo\\data-etl\\normalize\\scaler.py:231: SettingWithCopyWarning: \n",
      "A value is trying to be set on a copy of a slice from a DataFrame.\n",
      "Try using .loc[row_indexer,col_indexer] = value instead\n",
      "\n",
      "See the caveats in the documentation: https://pandas.pydata.org/pandas-docs/stable/user_guide/indexing.html#returning-a-view-versus-a-copy\n",
      "  cleansed_data_subset['SCALED'] = round(10 - 10 * (cleansed_data_subset[indicator_raw_value].astype('float') - min_val)/ tot_range, 2)\n"
     ]
    },
    {
     "name": "stdout",
     "output_type": "stream",
     "text": [
      "In the loop we are currently dealing with the subset #3, which has these defining values:     goal   target  indicator         series  \\\n",
      "1  ['8']  ['8.7']  ['8.7.1']  SL_TLF_CHLDEA   \n",
      "\n",
      "                                   seriesDescription seriesCount valueType  \\\n",
      "1  Proportion of children engaged in economic act...         273     Float   \n",
      "\n",
      "  time_detail timeCoverage upperBound lowerBound basePeriod  \\\n",
      "1        None         None       None       None       None   \n",
      "\n",
      "                        source geoInfoUrl attributes.Nature attributes.Units  \\\n",
      "1  UNICEF and ILO calculations       None                CA          PERCENT   \n",
      "\n",
      "  dimensions.Age dimensions.Sex dimensions.Reporting Type  \n",
      "1           5-17        BOTHSEX                         G  \n",
      "\n",
      " The shape of the subset is: (62, 32)\n",
      "The distribution of the raw data for this subgroup does not contain outliers or is too skewed on the upper end. The maximum value used for the normalisation is the maximum value in the dataset, which is 33.96166. This value corresponds to country: 118    Guinea-Bissau\n",
      "Name: COUNTRY_NAME, dtype: object \n",
      "\n",
      "The distribution of the raw data for this subgroup does not contain outliers or is too skewed on the lower end. The minimum value used for the normalisation is the minimum value in the dataset, which is 0.26104. This value corresponds to country: 248    Turkmenistan\n",
      "Name: COUNTRY_NAME, dtype: object \n",
      "\n"
     ]
    },
    {
     "name": "stderr",
     "output_type": "stream",
     "text": [
      "D:\\Documents\\2020\\28_UNICEF\\10_working_repo\\data-etl\\normalize\\scaler.py:231: SettingWithCopyWarning: \n",
      "A value is trying to be set on a copy of a slice from a DataFrame.\n",
      "Try using .loc[row_indexer,col_indexer] = value instead\n",
      "\n",
      "See the caveats in the documentation: https://pandas.pydata.org/pandas-docs/stable/user_guide/indexing.html#returning-a-view-versus-a-copy\n",
      "  cleansed_data_subset['SCALED'] = round(10 - 10 * (cleansed_data_subset[indicator_raw_value].astype('float') - min_val)/ tot_range, 2)\n"
     ]
    },
    {
     "name": "stdout",
     "output_type": "stream",
     "text": [
      "In the loop we are currently dealing with the subset #4, which has these defining values:      goal   target  indicator         series  \\\n",
      "20  ['8']  ['8.7']  ['8.7.1']  SL_TLF_CHLDEA   \n",
      "\n",
      "                                    seriesDescription seriesCount valueType  \\\n",
      "20  Proportion of children engaged in economic act...         273     Float   \n",
      "\n",
      "   time_detail timeCoverage upperBound lowerBound basePeriod  \\\n",
      "20        None         None       None       None       None   \n",
      "\n",
      "                         source geoInfoUrl attributes.Nature attributes.Units  \\\n",
      "20  UNICEF and ILO calculations       None                CA          PERCENT   \n",
      "\n",
      "   dimensions.Age dimensions.Sex dimensions.Reporting Type  \n",
      "20           5-14         FEMALE                         G  \n",
      "\n",
      " The shape of the subset is: (21, 32)\n",
      "The distribution of the raw data for this subgroup does not contain outliers or is too skewed on the upper end. The maximum value used for the normalisation is the maximum value in the dataset, which is 30.0706. This value corresponds to country: 40    Burkina Faso\n",
      "Name: COUNTRY_NAME, dtype: object \n",
      "\n",
      "The distribution of the raw data for this subgroup does not contain outliers or is too skewed on the lower end. The minimum value used for the normalisation is the minimum value in the dataset, which is 0.79932. This value corresponds to country: 240    Trinidad and Tobago\n",
      "Name: COUNTRY_NAME, dtype: object \n",
      "\n"
     ]
    },
    {
     "name": "stderr",
     "output_type": "stream",
     "text": [
      "D:\\Documents\\2020\\28_UNICEF\\10_working_repo\\data-etl\\normalize\\scaler.py:231: SettingWithCopyWarning: \n",
      "A value is trying to be set on a copy of a slice from a DataFrame.\n",
      "Try using .loc[row_indexer,col_indexer] = value instead\n",
      "\n",
      "See the caveats in the documentation: https://pandas.pydata.org/pandas-docs/stable/user_guide/indexing.html#returning-a-view-versus-a-copy\n",
      "  cleansed_data_subset['SCALED'] = round(10 - 10 * (cleansed_data_subset[indicator_raw_value].astype('float') - min_val)/ tot_range, 2)\n"
     ]
    },
    {
     "name": "stdout",
     "output_type": "stream",
     "text": [
      "In the loop we are currently dealing with the subset #5, which has these defining values:      goal   target  indicator         series  \\\n",
      "19  ['8']  ['8.7']  ['8.7.1']  SL_TLF_CHLDEA   \n",
      "\n",
      "                                    seriesDescription seriesCount valueType  \\\n",
      "19  Proportion of children engaged in economic act...         273     Float   \n",
      "\n",
      "   time_detail timeCoverage upperBound lowerBound basePeriod  \\\n",
      "19        None         None       None       None       None   \n",
      "\n",
      "                         source geoInfoUrl attributes.Nature attributes.Units  \\\n",
      "19  UNICEF and ILO calculations       None                CA          PERCENT   \n",
      "\n",
      "   dimensions.Age dimensions.Sex dimensions.Reporting Type  \n",
      "19           5-14        BOTHSEX                         G  \n",
      "\n",
      " The shape of the subset is: (21, 32)\n",
      "The distribution of the raw data for this subgroup does not contain outliers or is too skewed on the upper end. The maximum value used for the normalisation is the maximum value in the dataset, which is 35.11702. This value corresponds to country: 39    Burkina Faso\n",
      "Name: COUNTRY_NAME, dtype: object \n",
      "\n",
      "The distribution of the raw data for this subgroup does not contain outliers or is too skewed on the lower end. The minimum value used for the normalisation is the minimum value in the dataset, which is 0.74341. This value corresponds to country: 242    Trinidad and Tobago\n",
      "Name: COUNTRY_NAME, dtype: object \n",
      "\n"
     ]
    },
    {
     "name": "stderr",
     "output_type": "stream",
     "text": [
      "D:\\Documents\\2020\\28_UNICEF\\10_working_repo\\data-etl\\normalize\\scaler.py:231: SettingWithCopyWarning: \n",
      "A value is trying to be set on a copy of a slice from a DataFrame.\n",
      "Try using .loc[row_indexer,col_indexer] = value instead\n",
      "\n",
      "See the caveats in the documentation: https://pandas.pydata.org/pandas-docs/stable/user_guide/indexing.html#returning-a-view-versus-a-copy\n",
      "  cleansed_data_subset['SCALED'] = round(10 - 10 * (cleansed_data_subset[indicator_raw_value].astype('float') - min_val)/ tot_range, 2)\n"
     ]
    },
    {
     "name": "stdout",
     "output_type": "stream",
     "text": [
      "In the loop we are currently dealing with the subset #6, which has these defining values:      goal   target  indicator         series  \\\n",
      "18  ['8']  ['8.7']  ['8.7.1']  SL_TLF_CHLDEA   \n",
      "\n",
      "                                    seriesDescription seriesCount valueType  \\\n",
      "18  Proportion of children engaged in economic act...         273     Float   \n",
      "\n",
      "   time_detail timeCoverage upperBound lowerBound basePeriod  \\\n",
      "18        None         None       None       None       None   \n",
      "\n",
      "                         source geoInfoUrl attributes.Nature attributes.Units  \\\n",
      "18  UNICEF and ILO calculations       None                CA          PERCENT   \n",
      "\n",
      "   dimensions.Age dimensions.Sex dimensions.Reporting Type  \n",
      "18           5-14           MALE                         G  \n",
      "\n",
      " The shape of the subset is: (21, 32)\n",
      "The distribution of the raw data for this subgroup does not contain outliers or is too skewed on the upper end. The maximum value used for the normalisation is the maximum value in the dataset, which is 40.13007. This value corresponds to country: 41    Burkina Faso\n",
      "Name: COUNTRY_NAME, dtype: object \n",
      "\n",
      "The distribution of the raw data for this subgroup does not contain outliers or is too skewed on the lower end. The minimum value used for the normalisation is the minimum value in the dataset, which is 0.69124. This value corresponds to country: 241    Trinidad and Tobago\n",
      "Name: COUNTRY_NAME, dtype: object \n",
      "\n"
     ]
    },
    {
     "name": "stderr",
     "output_type": "stream",
     "text": [
      "D:\\Documents\\2020\\28_UNICEF\\10_working_repo\\data-etl\\normalize\\scaler.py:231: SettingWithCopyWarning: \n",
      "A value is trying to be set on a copy of a slice from a DataFrame.\n",
      "Try using .loc[row_indexer,col_indexer] = value instead\n",
      "\n",
      "See the caveats in the documentation: https://pandas.pydata.org/pandas-docs/stable/user_guide/indexing.html#returning-a-view-versus-a-copy\n",
      "  cleansed_data_subset['SCALED'] = round(10 - 10 * (cleansed_data_subset[indicator_raw_value].astype('float') - min_val)/ tot_range, 2)\n"
     ]
    },
    {
     "name": "stdout",
     "output_type": "stream",
     "text": [
      "In the loop we are currently dealing with the subset #7, which has these defining values:      goal   target  indicator         series  \\\n",
      "35  ['8']  ['8.7']  ['8.7.1']  SL_TLF_CHLDEA   \n",
      "\n",
      "                                    seriesDescription seriesCount valueType  \\\n",
      "35  Proportion of children engaged in economic act...         273     Float   \n",
      "\n",
      "   time_detail timeCoverage upperBound lowerBound basePeriod  \\\n",
      "35        None         None       None       None       None   \n",
      "\n",
      "                         source geoInfoUrl attributes.Nature attributes.Units  \\\n",
      "35  UNICEF and ILO calculations       None                CA          PERCENT   \n",
      "\n",
      "   dimensions.Age dimensions.Sex dimensions.Reporting Type  \n",
      "35           7-17           MALE                         G  \n",
      "\n",
      " The shape of the subset is: (4, 32)\n",
      "The distribution of the raw data for this subgroup does not contain outliers or is too skewed on the upper end. The maximum value used for the normalisation is the maximum value in the dataset, which is 17.4. This value corresponds to country: 109    Ghana\n",
      "Name: COUNTRY_NAME, dtype: object \n",
      "\n",
      "The distribution of the raw data for this subgroup does not contain outliers or is too skewed on the lower end. The minimum value used for the normalisation is the minimum value in the dataset, which is 2.4. This value corresponds to country: 194          Panama\n",
      "236        Suriname\n",
      "226    South Africa\n",
      "Name: COUNTRY_NAME, dtype: object \n",
      "\n"
     ]
    },
    {
     "name": "stderr",
     "output_type": "stream",
     "text": [
      "D:\\Documents\\2020\\28_UNICEF\\10_working_repo\\data-etl\\normalize\\scaler.py:231: SettingWithCopyWarning: \n",
      "A value is trying to be set on a copy of a slice from a DataFrame.\n",
      "Try using .loc[row_indexer,col_indexer] = value instead\n",
      "\n",
      "See the caveats in the documentation: https://pandas.pydata.org/pandas-docs/stable/user_guide/indexing.html#returning-a-view-versus-a-copy\n",
      "  cleansed_data_subset['SCALED'] = round(10 - 10 * (cleansed_data_subset[indicator_raw_value].astype('float') - min_val)/ tot_range, 2)\n"
     ]
    },
    {
     "name": "stdout",
     "output_type": "stream",
     "text": [
      "In the loop we are currently dealing with the subset #8, which has these defining values:      goal   target  indicator         series  \\\n",
      "33  ['8']  ['8.7']  ['8.7.1']  SL_TLF_CHLDEA   \n",
      "\n",
      "                                    seriesDescription seriesCount valueType  \\\n",
      "33  Proportion of children engaged in economic act...         273     Float   \n",
      "\n",
      "   time_detail timeCoverage upperBound lowerBound basePeriod  \\\n",
      "33        None         None       None       None       None   \n",
      "\n",
      "                         source geoInfoUrl attributes.Nature attributes.Units  \\\n",
      "33  UNICEF and ILO calculations       None                CA          PERCENT   \n",
      "\n",
      "   dimensions.Age dimensions.Sex dimensions.Reporting Type  \n",
      "33           7-17         FEMALE                         G  \n",
      "\n",
      " The shape of the subset is: (4, 32)\n",
      "The distribution of the raw data for this subgroup does not contain outliers or is too skewed on the upper end. The maximum value used for the normalisation is the maximum value in the dataset, which is 17.6. This value corresponds to country: 110    Ghana\n",
      "Name: COUNTRY_NAME, dtype: object \n",
      "\n",
      "The distribution of the raw data for this subgroup does not contain outliers or is too skewed on the lower end. The minimum value used for the normalisation is the minimum value in the dataset, which is 1.3. This value corresponds to country: 225    South Africa\n",
      "Name: COUNTRY_NAME, dtype: object \n",
      "\n"
     ]
    },
    {
     "name": "stderr",
     "output_type": "stream",
     "text": [
      "D:\\Documents\\2020\\28_UNICEF\\10_working_repo\\data-etl\\normalize\\scaler.py:231: SettingWithCopyWarning: \n",
      "A value is trying to be set on a copy of a slice from a DataFrame.\n",
      "Try using .loc[row_indexer,col_indexer] = value instead\n",
      "\n",
      "See the caveats in the documentation: https://pandas.pydata.org/pandas-docs/stable/user_guide/indexing.html#returning-a-view-versus-a-copy\n",
      "  cleansed_data_subset['SCALED'] = round(10 - 10 * (cleansed_data_subset[indicator_raw_value].astype('float') - min_val)/ tot_range, 2)\n"
     ]
    },
    {
     "name": "stdout",
     "output_type": "stream",
     "text": [
      "In the loop we are currently dealing with the subset #9, which has these defining values:      goal   target  indicator         series  \\\n",
      "34  ['8']  ['8.7']  ['8.7.1']  SL_TLF_CHLDEA   \n",
      "\n",
      "                                    seriesDescription seriesCount valueType  \\\n",
      "34  Proportion of children engaged in economic act...         273     Float   \n",
      "\n",
      "   time_detail timeCoverage upperBound lowerBound basePeriod  \\\n",
      "34        None         None       None       None       None   \n",
      "\n",
      "                         source geoInfoUrl attributes.Nature attributes.Units  \\\n",
      "34  UNICEF and ILO calculations       None                CA          PERCENT   \n",
      "\n",
      "   dimensions.Age dimensions.Sex dimensions.Reporting Type  \n",
      "34           7-17        BOTHSEX                         G  \n",
      "\n",
      " The shape of the subset is: (4, 32)\n",
      "The distribution of the raw data for this subgroup does not contain outliers or is too skewed on the upper end. The maximum value used for the normalisation is the maximum value in the dataset, which is 17.5. This value corresponds to country: 72     Côte d'Ivoire\n",
      "108            Ghana\n",
      "Name: COUNTRY_NAME, dtype: object \n",
      "\n",
      "The distribution of the raw data for this subgroup does not contain outliers or is too skewed on the lower end. The minimum value used for the normalisation is the minimum value in the dataset, which is 1.9. This value corresponds to country: 132            Iraq\n",
      "227    South Africa\n",
      "Name: COUNTRY_NAME, dtype: object \n",
      "\n"
     ]
    },
    {
     "name": "stderr",
     "output_type": "stream",
     "text": [
      "D:\\Documents\\2020\\28_UNICEF\\10_working_repo\\data-etl\\normalize\\scaler.py:231: SettingWithCopyWarning: \n",
      "A value is trying to be set on a copy of a slice from a DataFrame.\n",
      "Try using .loc[row_indexer,col_indexer] = value instead\n",
      "\n",
      "See the caveats in the documentation: https://pandas.pydata.org/pandas-docs/stable/user_guide/indexing.html#returning-a-view-versus-a-copy\n",
      "  cleansed_data_subset['SCALED'] = round(10 - 10 * (cleansed_data_subset[indicator_raw_value].astype('float') - min_val)/ tot_range, 2)\n"
     ]
    },
    {
     "name": "stdout",
     "output_type": "stream",
     "text": [
      "In the loop we are currently dealing with the subset #10, which has these defining values:       goal   target  indicator         series  \\\n",
      "158  ['8']  ['8.7']  ['8.7.1']  SL_TLF_CHLDEA   \n",
      "\n",
      "                                     seriesDescription seriesCount valueType  \\\n",
      "158  Proportion of children engaged in economic act...         273     Float   \n",
      "\n",
      "    time_detail timeCoverage upperBound lowerBound basePeriod  \\\n",
      "158        None         None       None       None       None   \n",
      "\n",
      "                          source geoInfoUrl attributes.Nature  \\\n",
      "158  UNICEF and ILO calculations       None                CA   \n",
      "\n",
      "    attributes.Units dimensions.Age dimensions.Sex dimensions.Reporting Type  \n",
      "158          PERCENT           6-17        BOTHSEX                         G  \n",
      "\n",
      " The shape of the subset is: (2, 32)\n",
      "The distribution of the raw data for this subgroup does not contain outliers or is too skewed on the upper end. The maximum value used for the normalisation is the maximum value in the dataset, which is 10.4. This value corresponds to country: 158          Mali\n",
      "159    Mauritania\n",
      "Name: COUNTRY_NAME, dtype: object \n",
      "\n",
      "The distribution of the raw data for this subgroup does not contain outliers or is too skewed on the lower end. The minimum value used for the normalisation is the minimum value in the dataset, which is 3.5. This value corresponds to country: 201    Philippines\n",
      "204         Rwanda\n",
      "Name: COUNTRY_NAME, dtype: object \n",
      "\n"
     ]
    },
    {
     "name": "stderr",
     "output_type": "stream",
     "text": [
      "D:\\Documents\\2020\\28_UNICEF\\10_working_repo\\data-etl\\normalize\\scaler.py:231: SettingWithCopyWarning: \n",
      "A value is trying to be set on a copy of a slice from a DataFrame.\n",
      "Try using .loc[row_indexer,col_indexer] = value instead\n",
      "\n",
      "See the caveats in the documentation: https://pandas.pydata.org/pandas-docs/stable/user_guide/indexing.html#returning-a-view-versus-a-copy\n",
      "  cleansed_data_subset['SCALED'] = round(10 - 10 * (cleansed_data_subset[indicator_raw_value].astype('float') - min_val)/ tot_range, 2)\n"
     ]
    },
    {
     "name": "stdout",
     "output_type": "stream",
     "text": [
      "In the loop we are currently dealing with the subset #11, which has these defining values:       goal   target  indicator         series  \\\n",
      "157  ['8']  ['8.7']  ['8.7.1']  SL_TLF_CHLDEA   \n",
      "\n",
      "                                     seriesDescription seriesCount valueType  \\\n",
      "157  Proportion of children engaged in economic act...         273     Float   \n",
      "\n",
      "    time_detail timeCoverage upperBound lowerBound basePeriod  \\\n",
      "157        None         None       None       None       None   \n",
      "\n",
      "                          source geoInfoUrl attributes.Nature  \\\n",
      "157  UNICEF and ILO calculations       None                CA   \n",
      "\n",
      "    attributes.Units dimensions.Age dimensions.Sex dimensions.Reporting Type  \n",
      "157          PERCENT           6-17           MALE                         G  \n",
      "\n",
      " The shape of the subset is: (2, 32)\n",
      "The distribution of the raw data for this subgroup does not contain outliers or is too skewed on the upper end. The maximum value used for the normalisation is the maximum value in the dataset, which is 12.9. This value corresponds to country: 157    Mali\n",
      "Name: COUNTRY_NAME, dtype: object \n",
      "\n",
      "The distribution of the raw data for this subgroup does not contain outliers or is too skewed on the lower end. The minimum value used for the normalisation is the minimum value in the dataset, which is 3.9. This value corresponds to country: 14     Armenia\n",
      "205     Rwanda\n",
      "Name: COUNTRY_NAME, dtype: object \n",
      "\n"
     ]
    },
    {
     "name": "stderr",
     "output_type": "stream",
     "text": [
      "D:\\Documents\\2020\\28_UNICEF\\10_working_repo\\data-etl\\normalize\\scaler.py:231: SettingWithCopyWarning: \n",
      "A value is trying to be set on a copy of a slice from a DataFrame.\n",
      "Try using .loc[row_indexer,col_indexer] = value instead\n",
      "\n",
      "See the caveats in the documentation: https://pandas.pydata.org/pandas-docs/stable/user_guide/indexing.html#returning-a-view-versus-a-copy\n",
      "  cleansed_data_subset['SCALED'] = round(10 - 10 * (cleansed_data_subset[indicator_raw_value].astype('float') - min_val)/ tot_range, 2)\n"
     ]
    },
    {
     "name": "stdout",
     "output_type": "stream",
     "text": [
      "In the loop we are currently dealing with the subset #12, which has these defining values:       goal   target  indicator         series  \\\n",
      "156  ['8']  ['8.7']  ['8.7.1']  SL_TLF_CHLDEA   \n",
      "\n",
      "                                     seriesDescription seriesCount valueType  \\\n",
      "156  Proportion of children engaged in economic act...         273     Float   \n",
      "\n",
      "    time_detail timeCoverage upperBound lowerBound basePeriod  \\\n",
      "156        None         None       None       None       None   \n",
      "\n",
      "                          source geoInfoUrl attributes.Nature  \\\n",
      "156  UNICEF and ILO calculations       None                CA   \n",
      "\n",
      "    attributes.Units dimensions.Age dimensions.Sex dimensions.Reporting Type  \n",
      "156          PERCENT           6-17         FEMALE                         G  \n",
      "\n",
      " The shape of the subset is: (2, 32)\n",
      "The distribution of the raw data for this subgroup does not contain outliers or is too skewed on the upper end. The maximum value used for the normalisation is the maximum value in the dataset, which is 7.7. This value corresponds to country: 156    Mali\n",
      "Name: COUNTRY_NAME, dtype: object \n",
      "\n",
      "The distribution of the raw data for this subgroup does not contain outliers or is too skewed on the lower end. The minimum value used for the normalisation is the minimum value in the dataset, which is 3.2. This value corresponds to country: 26     Belize\n",
      "192    Panama\n",
      "206    Rwanda\n",
      "Name: COUNTRY_NAME, dtype: object \n",
      "\n"
     ]
    },
    {
     "name": "stderr",
     "output_type": "stream",
     "text": [
      "D:\\Documents\\2020\\28_UNICEF\\10_working_repo\\data-etl\\normalize\\scaler.py:231: SettingWithCopyWarning: \n",
      "A value is trying to be set on a copy of a slice from a DataFrame.\n",
      "Try using .loc[row_indexer,col_indexer] = value instead\n",
      "\n",
      "See the caveats in the documentation: https://pandas.pydata.org/pandas-docs/stable/user_guide/indexing.html#returning-a-view-versus-a-copy\n",
      "  cleansed_data_subset['SCALED'] = round(10 - 10 * (cleansed_data_subset[indicator_raw_value].astype('float') - min_val)/ tot_range, 2)\n"
     ]
    },
    {
     "name": "stdout",
     "output_type": "stream",
     "text": [
      "In the loop we are currently dealing with the subset #13, which has these defining values:       goal   target  indicator         series  \\\n",
      "177  ['8']  ['8.7']  ['8.7.1']  SL_TLF_CHLDEA   \n",
      "\n",
      "                                     seriesDescription seriesCount valueType  \\\n",
      "177  Proportion of children engaged in economic act...         273     Float   \n",
      "\n",
      "    time_detail timeCoverage upperBound lowerBound basePeriod  \\\n",
      "177        None         None       None       None       None   \n",
      "\n",
      "                          source geoInfoUrl attributes.Nature  \\\n",
      "177  UNICEF and ILO calculations       None                CA   \n",
      "\n",
      "    attributes.Units dimensions.Age dimensions.Sex dimensions.Reporting Type  \n",
      "177          PERCENT          10-17           MALE                         G  \n",
      "\n",
      " The shape of the subset is: (2, 32)\n",
      "The distribution of the raw data for this subgroup does not contain outliers or is too skewed on the upper end. The maximum value used for the normalisation is the maximum value in the dataset, which is 33.3. This value corresponds to country: 177    Nicaragua\n",
      "Name: COUNTRY_NAME, dtype: object \n",
      "\n",
      "The distribution of the raw data for this subgroup does not contain outliers or is too skewed on the lower end. The minimum value used for the normalisation is the minimum value in the dataset, which is 5.1. This value corresponds to country: 163         Mexico\n",
      "203    Philippines\n",
      "189       Pakistan\n",
      "260        Uruguay\n",
      "Name: COUNTRY_NAME, dtype: object \n",
      "\n"
     ]
    },
    {
     "name": "stderr",
     "output_type": "stream",
     "text": [
      "D:\\Documents\\2020\\28_UNICEF\\10_working_repo\\data-etl\\normalize\\scaler.py:231: SettingWithCopyWarning: \n",
      "A value is trying to be set on a copy of a slice from a DataFrame.\n",
      "Try using .loc[row_indexer,col_indexer] = value instead\n",
      "\n",
      "See the caveats in the documentation: https://pandas.pydata.org/pandas-docs/stable/user_guide/indexing.html#returning-a-view-versus-a-copy\n",
      "  cleansed_data_subset['SCALED'] = round(10 - 10 * (cleansed_data_subset[indicator_raw_value].astype('float') - min_val)/ tot_range, 2)\n"
     ]
    },
    {
     "name": "stdout",
     "output_type": "stream",
     "text": [
      "In the loop we are currently dealing with the subset #14, which has these defining values:       goal   target  indicator         series  \\\n",
      "178  ['8']  ['8.7']  ['8.7.1']  SL_TLF_CHLDEA   \n",
      "\n",
      "                                     seriesDescription seriesCount valueType  \\\n",
      "178  Proportion of children engaged in economic act...         273     Float   \n",
      "\n",
      "    time_detail timeCoverage upperBound lowerBound basePeriod  \\\n",
      "178        None         None       None       None       None   \n",
      "\n",
      "                          source geoInfoUrl attributes.Nature  \\\n",
      "178  UNICEF and ILO calculations       None                CA   \n",
      "\n",
      "    attributes.Units dimensions.Age dimensions.Sex dimensions.Reporting Type  \n",
      "178          PERCENT          10-17         FEMALE                         G  \n",
      "\n",
      " The shape of the subset is: (2, 32)\n",
      "The distribution of the raw data for this subgroup does not contain outliers or is too skewed on the upper end. The maximum value used for the normalisation is the maximum value in the dataset, which is 17.9. This value corresponds to country: 28         Benin\n",
      "178    Nicaragua\n",
      "Name: COUNTRY_NAME, dtype: object \n",
      "\n",
      "The distribution of the raw data for this subgroup does not contain outliers or is too skewed on the lower end. The minimum value used for the normalisation is the minimum value in the dataset, which is 12.4. This value corresponds to country: 190    Pakistan\n",
      "Name: COUNTRY_NAME, dtype: object \n",
      "\n"
     ]
    },
    {
     "name": "stderr",
     "output_type": "stream",
     "text": [
      "D:\\Documents\\2020\\28_UNICEF\\10_working_repo\\data-etl\\normalize\\scaler.py:231: SettingWithCopyWarning: \n",
      "A value is trying to be set on a copy of a slice from a DataFrame.\n",
      "Try using .loc[row_indexer,col_indexer] = value instead\n",
      "\n",
      "See the caveats in the documentation: https://pandas.pydata.org/pandas-docs/stable/user_guide/indexing.html#returning-a-view-versus-a-copy\n",
      "  cleansed_data_subset['SCALED'] = round(10 - 10 * (cleansed_data_subset[indicator_raw_value].astype('float') - min_val)/ tot_range, 2)\n"
     ]
    },
    {
     "name": "stdout",
     "output_type": "stream",
     "text": [
      "In the loop we are currently dealing with the subset #15, which has these defining values:       goal   target  indicator         series  \\\n",
      "179  ['8']  ['8.7']  ['8.7.1']  SL_TLF_CHLDEA   \n",
      "\n",
      "                                     seriesDescription seriesCount valueType  \\\n",
      "179  Proportion of children engaged in economic act...         273     Float   \n",
      "\n",
      "    time_detail timeCoverage upperBound lowerBound basePeriod  \\\n",
      "179        None         None       None       None       None   \n",
      "\n",
      "                          source geoInfoUrl attributes.Nature  \\\n",
      "179  UNICEF and ILO calculations       None                CA   \n",
      "\n",
      "    attributes.Units dimensions.Age dimensions.Sex dimensions.Reporting Type  \n",
      "179          PERCENT          10-17        BOTHSEX                         G  \n",
      "\n",
      " The shape of the subset is: (2, 32)\n",
      "The distribution of the raw data for this subgroup does not contain outliers or is too skewed on the upper end. The maximum value used for the normalisation is the maximum value in the dataset, which is 25.9. This value corresponds to country: 179    Nicaragua\n",
      "Name: COUNTRY_NAME, dtype: object \n",
      "\n",
      "The distribution of the raw data for this subgroup does not contain outliers or is too skewed on the lower end. The minimum value used for the normalisation is the minimum value in the dataset, which is 9.0. This value corresponds to country: 33      Bolivia\n",
      "191    Pakistan\n",
      "Name: COUNTRY_NAME, dtype: object \n",
      "\n",
      "The number of rows in the dataframe after the right join are: (2925, 40)\n"
     ]
    },
    {
     "name": "stderr",
     "output_type": "stream",
     "text": [
      "D:\\Documents\\2020\\28_UNICEF\\10_working_repo\\data-etl\\normalize\\scaler.py:231: SettingWithCopyWarning: \n",
      "A value is trying to be set on a copy of a slice from a DataFrame.\n",
      "Try using .loc[row_indexer,col_indexer] = value instead\n",
      "\n",
      "See the caveats in the documentation: https://pandas.pydata.org/pandas-docs/stable/user_guide/indexing.html#returning-a-view-versus-a-copy\n",
      "  cleansed_data_subset['SCALED'] = round(10 - 10 * (cleansed_data_subset[indicator_raw_value].astype('float') - min_val)/ tot_range, 2)\n"
     ]
    },
    {
     "name": "stdout",
     "output_type": "stream",
     "text": [
      "The raw data has been saved as .xlsx file in: D:\\Documents\\2020\\28_UNICEF\\10_working_repo\\data-etl\\data\\data_normalized\\\n"
     ]
    }
   ],
   "source": [
    "# Scale the raw data and bring the dataframe into long formmat\n",
    "s24_normalized = scaler.normalizer(cleansed_data = s24_cleansed,\n",
    "                        indicator_raw_value = 'value',\n",
    "                        indicator_code = '3.1.1.',\n",
    "                        indicator_name = 'Child labour rate (5-17)',\n",
    "                        cleansed_df_iso2_col = 'CountryIso2',\n",
    "                        crba_final_country_list = country_crba_list,\n",
    "                        crba_final_country_list_iso_col = 'COUNTRY_ISO_2',\n",
    "                        inverted = True,\n",
    "                        non_dim_cols = ['geoAreaCode',\n",
    "                                        'geoAreaName',\n",
    "                                        'timePeriodStart',\n",
    "                                        'value',\n",
    "                                        'footnotes', \n",
    "                                        'Unnamed: 0', \n",
    "                                        'CountryDesc',\n",
    "                                        'CountryIso2',\n",
    "                                        'CountryIso3',\n",
    "                                        'COUNTRY_ISO_2',\n",
    "                                        'COUNTRY_ISO_3',\n",
    "                                        'COUNTRY_NAME',\n",
    "                                        '_merge']\n",
    "                       )\n",
    "\n",
    "# save normalized data\n",
    "save_normalized_data.save_normalized_data(dataframe = s24_normalized,\n",
    "             filename = 'S_24_normalized.xlsx')"
   ]
  },
  {
   "cell_type": "markdown",
   "metadata": {},
   "source": [
    "### Select only those rows/ columns which are relevant \n",
    "\n",
    "* < to do >\n",
    "* Right now, the normalized dataset contains data on ALL subsets (which are defined by the dimension values). Ultimately, there has to be a commitment to one Subset of an indicator \n",
    "* But this filtering to exactly one dimension (i.e. one row per country) will be done later"
   ]
  },
  {
   "cell_type": "markdown",
   "metadata": {},
   "source": [
    "## S-23 (prev. S-17) ILO STAT Informal Employment (% of total non-agricultural employment) SL_ISV_IFEM "
   ]
  },
  {
   "cell_type": "markdown",
   "metadata": {},
   "source": [
    "### Extraction\n",
    "\n",
    "This data can be extracted from two different sources: \n",
    "    \n",
    "* ILO\n",
    "* SDG database\n",
    "\n",
    "After consultation with Alex and Tomás we have decided to extract the data from the SDG API"
   ]
  },
  {
   "cell_type": "code",
   "execution_count": 15,
   "metadata": {
    "scrolled": true
   },
   "outputs": [
    {
     "name": "stdout",
     "output_type": "stream",
     "text": [
      "The extracted raw data contains the following columns: Index(['goal', 'target', 'indicator', 'series', 'seriesDescription',\n",
      "       'seriesCount', 'geoAreaCode', 'geoAreaName', 'timePeriodStart', 'value',\n",
      "       'valueType', 'time_detail', 'timeCoverage', 'upperBound', 'lowerBound',\n",
      "       'basePeriod', 'source', 'geoInfoUrl', 'footnotes', 'attributes.Nature',\n",
      "       'attributes.Units', 'dimensions.Sex', 'dimensions.Reporting Type',\n",
      "       'dimensions.Activity'],\n",
      "      dtype='object')\n",
      "The raw data has been saved as .xlsx file in: D:\\Documents\\2020\\28_UNICEF\\10_working_repo\\data-etl\\data\\data_raw\\\n"
     ]
    }
   ],
   "source": [
    "# Extract data and directly flatten it out into a pandas dataframe\n",
    "s23_raw = extract_sdg_api_data(series_code = 'SL_ISV_IFEM')\n",
    "\n",
    "# Save data to raw data folder\n",
    "save_raw_data.save_raw_data(dataframe = s23_raw,\n",
    "             filename = 'S_23.xlsx')"
   ]
  },
  {
   "cell_type": "markdown",
   "metadata": {},
   "source": [
    "### Cleansing"
   ]
  },
  {
   "cell_type": "code",
   "execution_count": 16,
   "metadata": {
    "scrolled": true
   },
   "outputs": [
    {
     "name": "stdout",
     "output_type": "stream",
     "text": [
      "The raw data has been saved as .xlsx file in: D:\\Documents\\2020\\28_UNICEF\\10_working_repo\\data-etl\\data\\data_cleansed\\\n"
     ]
    }
   ],
   "source": [
    "s23_cleansed = cleanse_sdg_api_data(raw_data = s23_raw,\n",
    "                                   country_list_full = country_full_list,\n",
    "                                   country_list_full_name_col = 'CountryDesc',\n",
    "                                   country_list_full_iso2_col = 'CountryIso2',\n",
    "                                   country_df = country_crba_list,\n",
    "                                   country_df_iso2_col = 'COUNTRY_ISO_2',\n",
    "                                   non_dim_cols = ['value',\n",
    "                                                  'source',\n",
    "                                                  'footnotes',\n",
    "                                                   'timePeriodStart',\n",
    "                                                  'Unnamed: 0'] \n",
    "                                   )\n",
    "\n",
    "# save cleansed data\n",
    "save_cleansed_data(dataframe = s23_cleansed,\n",
    "             filename = 'S_23_cleansed.xlsx')"
   ]
  },
  {
   "cell_type": "markdown",
   "metadata": {},
   "source": [
    "### Normalization (scaling)"
   ]
  },
  {
   "cell_type": "code",
   "execution_count": 17,
   "metadata": {},
   "outputs": [
    {
     "name": "stdout",
     "output_type": "stream",
     "text": [
      "You hve a selected a few columns, which will not be regarded as dimensions. These are the remaining columns in the dataset, along with the number of values they take in the dataset.\n",
      "The column goal has 1 unique values.\n",
      "The column target has 1 unique values.\n",
      "The column indicator has 1 unique values.\n",
      "The column series has 1 unique values.\n",
      "The column seriesDescription has 1 unique values.\n",
      "The column seriesCount has 1 unique values.\n",
      "The column valueType has 1 unique values.\n",
      "The column time_detail has 1 unique values.\n",
      "The column timeCoverage has 1 unique values.\n",
      "The column upperBound has 1 unique values.\n",
      "The column lowerBound has 1 unique values.\n",
      "The column basePeriod has 1 unique values.\n",
      "The column geoInfoUrl has 1 unique values.\n",
      "The column attributes.Nature has 1 unique values.\n",
      "The column attributes.Units has 1 unique values.\n",
      "The column dimensions.Sex has 3 unique values.\n",
      "The column dimensions.Reporting Type has 1 unique values.\n",
      "The column dimensions.Activity has 3 unique values.\n",
      "The total number of subgroups in the dataset is therefore: 9\n",
      "In the loop we are currently dealing with the subset #0, which has these defining values: Empty DataFrame\n",
      "Columns: [goal, target, indicator, series, seriesDescription, seriesCount, valueType, time_detail, timeCoverage, upperBound, lowerBound, basePeriod, geoInfoUrl, attributes.Nature, attributes.Units, dimensions.Sex, dimensions.Reporting Type, dimensions.Activity]\n",
      "Index: []\n",
      "\n",
      " The shape of the subset is: (0, 32)\n",
      "Dataframe is empty. There are no values to append.\n",
      "In the loop we are currently dealing with the subset #1, which has these defining values:     goal   target  indicator       series  \\\n",
      "8  ['8']  ['8.3']  ['8.3.1']  SL_ISV_IFEM   \n",
      "\n",
      "                                   seriesDescription seriesCount valueType  \\\n",
      "8  Proportion of informal employment, by sector a...        3213     Float   \n",
      "\n",
      "  time_detail timeCoverage upperBound lowerBound basePeriod geoInfoUrl  \\\n",
      "8        None         None       None       None       None       None   \n",
      "\n",
      "  attributes.Nature attributes.Units dimensions.Sex dimensions.Reporting Type  \\\n",
      "8                 C          PERCENT        BOTHSEX                         G   \n",
      "\n",
      "  dimensions.Activity  \n",
      "8             ISIC4_A  \n",
      "\n",
      " The shape of the subset is: (69, 32)\n",
      "The distribution of the raw data for this subgroup does not contain outliers or is too skewed on the upper end. The maximum value used for the normalisation is the maximum value in the dataset, which is 99.78322. This value corresponds to country: 575    Tanzania\n",
      "Name: COUNTRY_NAME, dtype: object \n",
      "\n",
      "The distribution of the raw data values for this subgroup contains outliers or is too skewed on the lower end. The minimum value to be used for the normalisation is 1st quartile or distribution - 1.5 * IQR. It is: 74.44202999999999 \n",
      " See histogram printed below for info. \n",
      "\n",
      "\n",
      " This is the distribution of the raw data of the indicator.\n",
      "AxesSubplot(0.125,0.125;0.775x0.755)\n"
     ]
    },
    {
     "name": "stderr",
     "output_type": "stream",
     "text": [
      "D:\\Documents\\2020\\28_UNICEF\\10_working_repo\\data-etl\\normalize\\scaler.py:231: SettingWithCopyWarning: \n",
      "A value is trying to be set on a copy of a slice from a DataFrame.\n",
      "Try using .loc[row_indexer,col_indexer] = value instead\n",
      "\n",
      "See the caveats in the documentation: https://pandas.pydata.org/pandas-docs/stable/user_guide/indexing.html#returning-a-view-versus-a-copy\n",
      "  cleansed_data_subset['SCALED'] = round(10 - 10 * (cleansed_data_subset[indicator_raw_value].astype('float') - min_val)/ tot_range, 2)\n"
     ]
    },
    {
     "name": "stdout",
     "output_type": "stream",
     "text": [
      "In the loop we are currently dealing with the subset #2, which has these defining values:     goal   target  indicator       series  \\\n",
      "7  ['8']  ['8.3']  ['8.3.1']  SL_ISV_IFEM   \n",
      "\n",
      "                                   seriesDescription seriesCount valueType  \\\n",
      "7  Proportion of informal employment, by sector a...        3213     Float   \n",
      "\n",
      "  time_detail timeCoverage upperBound lowerBound basePeriod geoInfoUrl  \\\n",
      "7        None         None       None       None       None       None   \n",
      "\n",
      "  attributes.Nature attributes.Units dimensions.Sex dimensions.Reporting Type  \\\n",
      "7                 C          PERCENT        BOTHSEX                         G   \n",
      "\n",
      "  dimensions.Activity  \n",
      "7              NONAGR  \n",
      "\n",
      " The shape of the subset is: (69, 32)\n",
      "The distribution of the raw data for this subgroup does not contain outliers or is too skewed on the upper end. The maximum value used for the normalisation is the maximum value in the dataset, which is 96.25492. This value corresponds to country: 171    DR Congo\n",
      "Name: COUNTRY_NAME, dtype: object \n",
      "\n",
      "The distribution of the raw data for this subgroup does not contain outliers or is too skewed on the lower end. The minimum value used for the normalisation is the minimum value in the dataset, which is 13.97051. This value corresponds to country: 487    Serbia\n",
      "Name: COUNTRY_NAME, dtype: object \n",
      "\n"
     ]
    },
    {
     "name": "stderr",
     "output_type": "stream",
     "text": [
      "D:\\Documents\\2020\\28_UNICEF\\10_working_repo\\data-etl\\normalize\\scaler.py:231: SettingWithCopyWarning: \n",
      "A value is trying to be set on a copy of a slice from a DataFrame.\n",
      "Try using .loc[row_indexer,col_indexer] = value instead\n",
      "\n",
      "See the caveats in the documentation: https://pandas.pydata.org/pandas-docs/stable/user_guide/indexing.html#returning-a-view-versus-a-copy\n",
      "  cleansed_data_subset['SCALED'] = round(10 - 10 * (cleansed_data_subset[indicator_raw_value].astype('float') - min_val)/ tot_range, 2)\n"
     ]
    },
    {
     "name": "stdout",
     "output_type": "stream",
     "text": [
      "In the loop we are currently dealing with the subset #3, which has these defining values:     goal   target  indicator       series  \\\n",
      "0  ['8']  ['8.3']  ['8.3.1']  SL_ISV_IFEM   \n",
      "\n",
      "                                   seriesDescription seriesCount valueType  \\\n",
      "0  Proportion of informal employment, by sector a...        3213     Float   \n",
      "\n",
      "  time_detail timeCoverage upperBound lowerBound basePeriod geoInfoUrl  \\\n",
      "0        None         None       None       None       None       None   \n",
      "\n",
      "  attributes.Nature attributes.Units dimensions.Sex dimensions.Reporting Type  \\\n",
      "0                 C          PERCENT           MALE                         G   \n",
      "\n",
      "  dimensions.Activity  \n",
      "0               TOTAL  \n",
      "\n",
      " The shape of the subset is: (69, 32)\n",
      "The distribution of the raw data for this subgroup does not contain outliers or is too skewed on the upper end. The maximum value used for the normalisation is the maximum value in the dataset, which is 97.91753. This value corresponds to country: 173    DR Congo\n",
      "Name: COUNTRY_NAME, dtype: object \n",
      "\n",
      "The distribution of the raw data for this subgroup does not contain outliers or is too skewed on the lower end. The minimum value used for the normalisation is the minimum value in the dataset, which is 19.12724. This value corresponds to country: 492    Serbia\n",
      "Name: COUNTRY_NAME, dtype: object \n",
      "\n"
     ]
    },
    {
     "name": "stderr",
     "output_type": "stream",
     "text": [
      "D:\\Documents\\2020\\28_UNICEF\\10_working_repo\\data-etl\\normalize\\scaler.py:231: SettingWithCopyWarning: \n",
      "A value is trying to be set on a copy of a slice from a DataFrame.\n",
      "Try using .loc[row_indexer,col_indexer] = value instead\n",
      "\n",
      "See the caveats in the documentation: https://pandas.pydata.org/pandas-docs/stable/user_guide/indexing.html#returning-a-view-versus-a-copy\n",
      "  cleansed_data_subset['SCALED'] = round(10 - 10 * (cleansed_data_subset[indicator_raw_value].astype('float') - min_val)/ tot_range, 2)\n"
     ]
    },
    {
     "name": "stdout",
     "output_type": "stream",
     "text": [
      "In the loop we are currently dealing with the subset #4, which has these defining values:     goal   target  indicator       series  \\\n",
      "5  ['8']  ['8.3']  ['8.3.1']  SL_ISV_IFEM   \n",
      "\n",
      "                                   seriesDescription seriesCount valueType  \\\n",
      "5  Proportion of informal employment, by sector a...        3213     Float   \n",
      "\n",
      "  time_detail timeCoverage upperBound lowerBound basePeriod geoInfoUrl  \\\n",
      "5        None         None       None       None       None       None   \n",
      "\n",
      "  attributes.Nature attributes.Units dimensions.Sex dimensions.Reporting Type  \\\n",
      "5                 C          PERCENT         FEMALE                         G   \n",
      "\n",
      "  dimensions.Activity  \n",
      "5              NONAGR  \n",
      "\n",
      " The shape of the subset is: (69, 32)\n",
      "The distribution of the raw data for this subgroup does not contain outliers or is too skewed on the upper end. The maximum value used for the normalisation is the maximum value in the dataset, which is 97.87779. This value corresponds to country: 177    DR Congo\n",
      "Name: COUNTRY_NAME, dtype: object \n",
      "\n",
      "The distribution of the raw data for this subgroup does not contain outliers or is too skewed on the lower end. The minimum value used for the normalisation is the minimum value in the dataset, which is 12.20581. This value corresponds to country: 490    Serbia\n",
      "Name: COUNTRY_NAME, dtype: object \n",
      "\n"
     ]
    },
    {
     "name": "stderr",
     "output_type": "stream",
     "text": [
      "D:\\Documents\\2020\\28_UNICEF\\10_working_repo\\data-etl\\normalize\\scaler.py:231: SettingWithCopyWarning: \n",
      "A value is trying to be set on a copy of a slice from a DataFrame.\n",
      "Try using .loc[row_indexer,col_indexer] = value instead\n",
      "\n",
      "See the caveats in the documentation: https://pandas.pydata.org/pandas-docs/stable/user_guide/indexing.html#returning-a-view-versus-a-copy\n",
      "  cleansed_data_subset['SCALED'] = round(10 - 10 * (cleansed_data_subset[indicator_raw_value].astype('float') - min_val)/ tot_range, 2)\n"
     ]
    },
    {
     "name": "stdout",
     "output_type": "stream",
     "text": [
      "In the loop we are currently dealing with the subset #5, which has these defining values:     goal   target  indicator       series  \\\n",
      "4  ['8']  ['8.3']  ['8.3.1']  SL_ISV_IFEM   \n",
      "\n",
      "                                   seriesDescription seriesCount valueType  \\\n",
      "4  Proportion of informal employment, by sector a...        3213     Float   \n",
      "\n",
      "  time_detail timeCoverage upperBound lowerBound basePeriod geoInfoUrl  \\\n",
      "4        None         None       None       None       None       None   \n",
      "\n",
      "  attributes.Nature attributes.Units dimensions.Sex dimensions.Reporting Type  \\\n",
      "4                 C          PERCENT         FEMALE                         G   \n",
      "\n",
      "  dimensions.Activity  \n",
      "4             ISIC4_A  \n",
      "\n",
      " The shape of the subset is: (69, 32)\n",
      "The distribution of the raw data for this subgroup does not contain outliers or is too skewed on the upper end. The maximum value used for the normalisation is the maximum value in the dataset, which is 100.0. This value corresponds to country: 326    Maldives\n",
      "595       Yemen\n",
      "Name: COUNTRY_NAME, dtype: object \n",
      "\n",
      "The distribution of the raw data values for this subgroup contains outliers or is too skewed on the lower end. The minimum value to be used for the normalisation is 1st quartile or distribution - 1.5 * IQR. It is: 84.22612000000001 \n",
      " See histogram printed below for info. \n",
      "\n",
      "\n",
      " This is the distribution of the raw data of the indicator.\n",
      "AxesSubplot(0.125,0.125;0.775x0.755)\n"
     ]
    },
    {
     "name": "stderr",
     "output_type": "stream",
     "text": [
      "D:\\Documents\\2020\\28_UNICEF\\10_working_repo\\data-etl\\normalize\\scaler.py:231: SettingWithCopyWarning: \n",
      "A value is trying to be set on a copy of a slice from a DataFrame.\n",
      "Try using .loc[row_indexer,col_indexer] = value instead\n",
      "\n",
      "See the caveats in the documentation: https://pandas.pydata.org/pandas-docs/stable/user_guide/indexing.html#returning-a-view-versus-a-copy\n",
      "  cleansed_data_subset['SCALED'] = round(10 - 10 * (cleansed_data_subset[indicator_raw_value].astype('float') - min_val)/ tot_range, 2)\n"
     ]
    },
    {
     "name": "stdout",
     "output_type": "stream",
     "text": [
      "In the loop we are currently dealing with the subset #6, which has these defining values:     goal   target  indicator       series  \\\n",
      "3  ['8']  ['8.3']  ['8.3.1']  SL_ISV_IFEM   \n",
      "\n",
      "                                   seriesDescription seriesCount valueType  \\\n",
      "3  Proportion of informal employment, by sector a...        3213     Float   \n",
      "\n",
      "  time_detail timeCoverage upperBound lowerBound basePeriod geoInfoUrl  \\\n",
      "3        None         None       None       None       None       None   \n",
      "\n",
      "  attributes.Nature attributes.Units dimensions.Sex dimensions.Reporting Type  \\\n",
      "3                 C          PERCENT         FEMALE                         G   \n",
      "\n",
      "  dimensions.Activity  \n",
      "3               TOTAL  \n",
      "\n",
      " The shape of the subset is: (69, 32)\n",
      "The distribution of the raw data for this subgroup does not contain outliers or is too skewed on the upper end. The maximum value used for the normalisation is the maximum value in the dataset, which is 99.30467. This value corresponds to country: 176    DR Congo\n",
      "Name: COUNTRY_NAME, dtype: object \n",
      "\n",
      "The distribution of the raw data for this subgroup does not contain outliers or is too skewed on the lower end. The minimum value used for the normalisation is the minimum value in the dataset, which is 20.67644. This value corresponds to country: 489    Serbia\n",
      "Name: COUNTRY_NAME, dtype: object \n",
      "\n"
     ]
    },
    {
     "name": "stderr",
     "output_type": "stream",
     "text": [
      "D:\\Documents\\2020\\28_UNICEF\\10_working_repo\\data-etl\\normalize\\scaler.py:231: SettingWithCopyWarning: \n",
      "A value is trying to be set on a copy of a slice from a DataFrame.\n",
      "Try using .loc[row_indexer,col_indexer] = value instead\n",
      "\n",
      "See the caveats in the documentation: https://pandas.pydata.org/pandas-docs/stable/user_guide/indexing.html#returning-a-view-versus-a-copy\n",
      "  cleansed_data_subset['SCALED'] = round(10 - 10 * (cleansed_data_subset[indicator_raw_value].astype('float') - min_val)/ tot_range, 2)\n"
     ]
    },
    {
     "name": "stdout",
     "output_type": "stream",
     "text": [
      "In the loop we are currently dealing with the subset #7, which has these defining values:     goal   target  indicator       series  \\\n",
      "2  ['8']  ['8.3']  ['8.3.1']  SL_ISV_IFEM   \n",
      "\n",
      "                                   seriesDescription seriesCount valueType  \\\n",
      "2  Proportion of informal employment, by sector a...        3213     Float   \n",
      "\n",
      "  time_detail timeCoverage upperBound lowerBound basePeriod geoInfoUrl  \\\n",
      "2        None         None       None       None       None       None   \n",
      "\n",
      "  attributes.Nature attributes.Units dimensions.Sex dimensions.Reporting Type  \\\n",
      "2                 C          PERCENT           MALE                         G   \n",
      "\n",
      "  dimensions.Activity  \n",
      "2             ISIC4_A  \n",
      "\n",
      " The shape of the subset is: (69, 32)\n",
      "The distribution of the raw data for this subgroup does not contain outliers or is too skewed on the upper end. The maximum value used for the normalisation is the maximum value in the dataset, which is 99.82906. This value corresponds to country: 311    Liberia\n",
      "Name: COUNTRY_NAME, dtype: object \n",
      "\n",
      "The distribution of the raw data values for this subgroup contains outliers or is too skewed on the lower end. The minimum value to be used for the normalisation is 1st quartile or distribution - 1.5 * IQR. It is: 70.734985 \n",
      " See histogram printed below for info. \n",
      "\n",
      "\n",
      " This is the distribution of the raw data of the indicator.\n",
      "AxesSubplot(0.125,0.125;0.775x0.755)\n"
     ]
    },
    {
     "name": "stderr",
     "output_type": "stream",
     "text": [
      "D:\\Documents\\2020\\28_UNICEF\\10_working_repo\\data-etl\\normalize\\scaler.py:231: SettingWithCopyWarning: \n",
      "A value is trying to be set on a copy of a slice from a DataFrame.\n",
      "Try using .loc[row_indexer,col_indexer] = value instead\n",
      "\n",
      "See the caveats in the documentation: https://pandas.pydata.org/pandas-docs/stable/user_guide/indexing.html#returning-a-view-versus-a-copy\n",
      "  cleansed_data_subset['SCALED'] = round(10 - 10 * (cleansed_data_subset[indicator_raw_value].astype('float') - min_val)/ tot_range, 2)\n"
     ]
    },
    {
     "name": "stdout",
     "output_type": "stream",
     "text": [
      "In the loop we are currently dealing with the subset #8, which has these defining values:     goal   target  indicator       series  \\\n",
      "1  ['8']  ['8.3']  ['8.3.1']  SL_ISV_IFEM   \n",
      "\n",
      "                                   seriesDescription seriesCount valueType  \\\n",
      "1  Proportion of informal employment, by sector a...        3213     Float   \n",
      "\n",
      "  time_detail timeCoverage upperBound lowerBound basePeriod geoInfoUrl  \\\n",
      "1        None         None       None       None       None       None   \n",
      "\n",
      "  attributes.Nature attributes.Units dimensions.Sex dimensions.Reporting Type  \\\n",
      "1                 C          PERCENT           MALE                         G   \n",
      "\n",
      "  dimensions.Activity  \n",
      "1              NONAGR  \n",
      "\n",
      " The shape of the subset is: (69, 32)\n",
      "The distribution of the raw data for this subgroup does not contain outliers or is too skewed on the upper end. The maximum value used for the normalisation is the maximum value in the dataset, which is 95.32092. This value corresponds to country: 174    DR Congo\n",
      "Name: COUNTRY_NAME, dtype: object \n",
      "\n",
      "The distribution of the raw data for this subgroup does not contain outliers or is too skewed on the lower end. The minimum value used for the normalisation is the minimum value in the dataset, which is 15.4177. This value corresponds to country: 493    Serbia\n",
      "Name: COUNTRY_NAME, dtype: object \n",
      "\n"
     ]
    },
    {
     "name": "stderr",
     "output_type": "stream",
     "text": [
      "D:\\Documents\\2020\\28_UNICEF\\10_working_repo\\data-etl\\normalize\\scaler.py:231: SettingWithCopyWarning: \n",
      "A value is trying to be set on a copy of a slice from a DataFrame.\n",
      "Try using .loc[row_indexer,col_indexer] = value instead\n",
      "\n",
      "See the caveats in the documentation: https://pandas.pydata.org/pandas-docs/stable/user_guide/indexing.html#returning-a-view-versus-a-copy\n",
      "  cleansed_data_subset['SCALED'] = round(10 - 10 * (cleansed_data_subset[indicator_raw_value].astype('float') - min_val)/ tot_range, 2)\n"
     ]
    },
    {
     "name": "stdout",
     "output_type": "stream",
     "text": [
      "In the loop we are currently dealing with the subset #9, which has these defining values:     goal   target  indicator       series  \\\n",
      "6  ['8']  ['8.3']  ['8.3.1']  SL_ISV_IFEM   \n",
      "\n",
      "                                   seriesDescription seriesCount valueType  \\\n",
      "6  Proportion of informal employment, by sector a...        3213     Float   \n",
      "\n",
      "  time_detail timeCoverage upperBound lowerBound basePeriod geoInfoUrl  \\\n",
      "6        None         None       None       None       None       None   \n",
      "\n",
      "  attributes.Nature attributes.Units dimensions.Sex dimensions.Reporting Type  \\\n",
      "6                 C          PERCENT        BOTHSEX                         G   \n",
      "\n",
      "  dimensions.Activity  \n",
      "6               TOTAL  \n",
      "\n",
      " The shape of the subset is: (69, 32)\n",
      "The distribution of the raw data for this subgroup does not contain outliers or is too skewed on the upper end. The maximum value used for the normalisation is the maximum value in the dataset, which is 98.61896. This value corresponds to country: 179    DR Congo\n",
      "Name: COUNTRY_NAME, dtype: object \n",
      "\n",
      "The distribution of the raw data for this subgroup does not contain outliers or is too skewed on the lower end. The minimum value used for the normalisation is the minimum value in the dataset, which is 19.80673. This value corresponds to country: 486    Serbia\n",
      "Name: COUNTRY_NAME, dtype: object \n",
      "\n",
      "The number of rows in the dataframe after the right join are: (1755, 40)\n"
     ]
    },
    {
     "name": "stderr",
     "output_type": "stream",
     "text": [
      "D:\\Documents\\2020\\28_UNICEF\\10_working_repo\\data-etl\\normalize\\scaler.py:231: SettingWithCopyWarning: \n",
      "A value is trying to be set on a copy of a slice from a DataFrame.\n",
      "Try using .loc[row_indexer,col_indexer] = value instead\n",
      "\n",
      "See the caveats in the documentation: https://pandas.pydata.org/pandas-docs/stable/user_guide/indexing.html#returning-a-view-versus-a-copy\n",
      "  cleansed_data_subset['SCALED'] = round(10 - 10 * (cleansed_data_subset[indicator_raw_value].astype('float') - min_val)/ tot_range, 2)\n"
     ]
    },
    {
     "name": "stdout",
     "output_type": "stream",
     "text": [
      "The raw data has been saved as .xlsx file in: D:\\Documents\\2020\\28_UNICEF\\10_working_repo\\data-etl\\data\\data_normalized\\\n"
     ]
    },
    {
     "data": {
      "image/png": "[encoded data removed]",
      "text/plain": [
       "<Figure size 432x288 with 1 Axes>"
      ]
     },
     "metadata": {
      "needs_background": "light"
     },
     "output_type": "display_data"
    }
   ],
   "source": [
    "# Scale the raw data and bring the dataframe into long formmat\n",
    "s23_normalized = scaler.normalizer(cleansed_data = s23_cleansed,\n",
    "                        indicator_raw_value = 'value',\n",
    "                        indicator_code = '3.1.5',\n",
    "                        indicator_name = 'Informal employment.',\n",
    "                        cleansed_df_iso2_col = 'CountryIso2',\n",
    "                        crba_final_country_list = country_crba_list,\n",
    "                        crba_final_country_list_iso_col = 'COUNTRY_ISO_2',\n",
    "                        inverted = True,\n",
    "                        non_dim_cols = ['geoAreaCode',\n",
    "                                        'geoAreaName',\n",
    "                                        'timePeriodStart',\n",
    "                                        'source',\n",
    "                                        'value',\n",
    "                                        'footnotes', \n",
    "                                        'Unnamed: 0', \n",
    "                                        'CountryDesc',\n",
    "                                        'CountryIso2',\n",
    "                                        'CountryIso3',\n",
    "                                        'COUNTRY_ISO_2',\n",
    "                                        'COUNTRY_ISO_3',\n",
    "                                        'COUNTRY_NAME',\n",
    "                                        '_merge']\n",
    "                       )\n",
    "\n",
    "# save normalized data\n",
    "save_normalized_data.save_normalized_data(dataframe = s23_normalized,\n",
    "             filename = 'S_23_normalized.xlsx')"
   ]
  },
  {
   "cell_type": "markdown",
   "metadata": {},
   "source": [
    "### Select only those rows/ columns which are relevant \n",
    "\n",
    "* < to do >\n",
    "* Right now, the normalized dataset contains data on ALL subsets (which are defined by the dimension values). Ultimately, there has to be a commitment to one Subset of an indicator \n",
    "* But this filtering to exactly one dimension (i.e. one row per country) will be done later"
   ]
  },
  {
   "cell_type": "markdown",
   "metadata": {},
   "source": [
    "## S-60 (prev S-18) Walk Free Foundation.Global Slavery Index. Prevalence of Modern Slavery. Prevalence score only.\n",
    "### Extraction"
   ]
  },
  {
   "cell_type": "code",
   "execution_count": null,
   "metadata": {},
   "outputs": [],
   "source": [
    "# Extract data\n",
    "url = 'http://downloads.globalslaveryindex.org/ephemeral/FINAL-GSI-2018-DATA-G20-AND-FISHING-1597151668.xlsx'\n",
    "\n",
    "s60_raw = pd.read_excel(io = url, \n",
    "                      sheet_name = 'Global prev, vuln, govt table',\n",
    "                       skiprows = 2)\n",
    "\n",
    "# Save data to raw data folder\n",
    "save_raw_data.save_raw_data(dataframe = s60_raw,\n",
    "             filename = 'S_60.xlsx')"
   ]
  },
  {
   "cell_type": "markdown",
   "metadata": {},
   "source": [
    "### Transform"
   ]
  },
  {
   "cell_type": "code",
   "execution_count": null,
   "metadata": {
    "scrolled": true
   },
   "outputs": [],
   "source": [
    "# Filter relevant columns\n",
    "s60_raw = s60_raw[['Country ', # FYI: note the trailing space after Country\n",
    "        'Est. prevalence of population in modern slavery (victims per 1,000 population)']]\n",
    "\n",
    "# The data is from 2018, and is therefore assumed to be reflecting the prevalen in the year 2018\n",
    "s60_cleansed = s60_raw.assign(Year = 2018)"
   ]
  },
  {
   "cell_type": "markdown",
   "metadata": {},
   "source": [
    "### Normalization (scaling)"
   ]
  },
  {
   "cell_type": "code",
   "execution_count": null,
   "metadata": {},
   "outputs": [],
   "source": [
    "# Scale the raw data and \n",
    "s60_scaled = s60_cleansed.assign(\n",
    "    scaled = scaler(s60_cleansed['Est. prevalence of population in modern slavery (victims per 1,000 population)']))"
   ]
  },
  {
   "cell_type": "markdown",
   "metadata": {},
   "source": [
    "### Left join to counry list to bring it into target format"
   ]
  },
  {
   "cell_type": "code",
   "execution_count": null,
   "metadata": {},
   "outputs": [],
   "source": [
    "# Concatenate data to the\n",
    "s60_final = country_full_list.merge(right = s60_scaled,\n",
    "                 indicator = True,\n",
    "                 how = 'inner',\n",
    "                 left_on = 'CountryDesc',\n",
    "                 right_on = 'Country ',\n",
    "                 validate = 'many_to_one').assign(indicator ='I-18')\n",
    "\n",
    "# Check if some countries got lost during the join\n",
    "print('The number of rows in the raw data set was {}. The number of available datapoints in the final dataframe is {}. This difference is explicable because there were already missing values for the value in sxx_ scaled dataset'.format(\n",
    "    len(s60_scaled), \n",
    "    s60_final['Est. prevalence of population in modern slavery (victims per 1,000 population)'].notna().sum(), \n",
    "    len(s60_scaled) - s60_final['Est. prevalence of population in modern slavery (victims per 1,000 population)'].notna().sum()))"
   ]
  },
  {
   "cell_type": "markdown",
   "metadata": {},
   "source": [
    "## S-61 (prev S-19) SDG Indicator 16.2.2 Detected victims of human trafficking, by age and sex (number)  VC_HTF_DETV \n",
    "### Extraction"
   ]
  },
  {
   "cell_type": "code",
   "execution_count": 18,
   "metadata": {},
   "outputs": [
    {
     "name": "stdout",
     "output_type": "stream",
     "text": [
      "The extracted raw data contains the following columns: Index(['goal', 'target', 'indicator', 'series', 'seriesDescription',\n",
      "       'seriesCount', 'geoAreaCode', 'geoAreaName', 'timePeriodStart', 'value',\n",
      "       'valueType', 'time_detail', 'timeCoverage', 'upperBound', 'lowerBound',\n",
      "       'basePeriod', 'source', 'geoInfoUrl', 'footnotes', 'attributes.Nature',\n",
      "       'attributes.Units', 'dimensions.Age', 'dimensions.Sex',\n",
      "       'dimensions.Reporting Type'],\n",
      "      dtype='object')\n",
      "The raw data has been saved as .xlsx file in: D:\\Documents\\2020\\28_UNICEF\\10_working_repo\\data-etl\\data\\data_raw\\\n"
     ]
    }
   ],
   "source": [
    "# Extract data\n",
    "s61_raw = extract_sdg_api_data(series_code = 'VC_HTF_DETV')\n",
    "\n",
    "# Save raw data\n",
    "save_raw_data.save_raw_data(dataframe = s61_raw,\n",
    "              filename = 'S_61.xlsx')"
   ]
  },
  {
   "cell_type": "markdown",
   "metadata": {},
   "source": [
    "### Cleanse"
   ]
  },
  {
   "cell_type": "code",
   "execution_count": 19,
   "metadata": {},
   "outputs": [
    {
     "name": "stdout",
     "output_type": "stream",
     "text": [
      "The raw data has been saved as .xlsx file in: D:\\Documents\\2020\\28_UNICEF\\10_working_repo\\data-etl\\data\\data_cleansed\\\n"
     ]
    }
   ],
   "source": [
    "s61_cleansed = cleanse_sdg_api_data(raw_data = s61_raw,\n",
    "                                   country_list_full = country_full_list,\n",
    "                                   country_list_full_name_col = 'CountryDesc',\n",
    "                                   country_list_full_iso2_col = 'CountryIso2',\n",
    "                                   country_df = country_crba_list,\n",
    "                                   country_df_iso2_col = 'COUNTRY_ISO_2',\n",
    "                                   non_dim_cols = ['value',\n",
    "                                                  'source',\n",
    "                                                  'footnotes',\n",
    "                                                   'timePeriodStart',\n",
    "                                                  'Unnamed: 0'] \n",
    "                                   )\n",
    "\n",
    "# save cleansed data\n",
    "save_cleansed_data(dataframe = s61_cleansed,\n",
    "             filename = 'S_61_cleansed.xlsx')"
   ]
  },
  {
   "cell_type": "markdown",
   "metadata": {},
   "source": [
    "### Normalization (scaling)"
   ]
  },
  {
   "cell_type": "code",
   "execution_count": 21,
   "metadata": {},
   "outputs": [
    {
     "name": "stdout",
     "output_type": "stream",
     "text": [
      "You hve a selected a few columns, which will not be regarded as dimensions. These are the remaining columns in the dataset, along with the number of values they take in the dataset.\n",
      "The column goal has 1 unique values.\n",
      "The column target has 1 unique values.\n",
      "The column indicator has 1 unique values.\n",
      "The column series has 1 unique values.\n",
      "The column seriesDescription has 1 unique values.\n",
      "The column seriesCount has 1 unique values.\n",
      "The column valueType has 1 unique values.\n",
      "The column time_detail has 1 unique values.\n",
      "The column timeCoverage has 1 unique values.\n",
      "The column upperBound has 1 unique values.\n",
      "The column lowerBound has 1 unique values.\n",
      "The column basePeriod has 1 unique values.\n",
      "The column geoInfoUrl has 1 unique values.\n",
      "The column attributes.Nature has 1 unique values.\n",
      "The column attributes.Units has 1 unique values.\n",
      "The column dimensions.Age has 1 unique values.\n",
      "The column dimensions.Sex has 1 unique values.\n",
      "The column dimensions.Reporting Type has 1 unique values.\n",
      "The total number of subgroups in the dataset is therefore: 1\n",
      "In the loop we are currently dealing with the subset #0, which has these defining values:      goal    target   indicator       series  \\\n",
      "3  ['16']  ['16.2']  ['16.2.2']  VC_HTF_DETV   \n",
      "\n",
      "                                   seriesDescription seriesCount valueType  \\\n",
      "3  Detected victims of human trafficking, by age ...         998     Float   \n",
      "\n",
      "  time_detail timeCoverage upperBound lowerBound basePeriod geoInfoUrl  \\\n",
      "3        None         None       None       None       None       None   \n",
      "\n",
      "  attributes.Nature attributes.Units dimensions.Age dimensions.Sex  \\\n",
      "3                 C           NUMBER         ALLAGE        BOTHSEX   \n",
      "\n",
      "  dimensions.Reporting Type  \n",
      "3                         G  \n",
      "\n",
      " The shape of the subset is: (141, 32)\n",
      "The distribution of the raw data values this subgroup contains outliers or is too skewed on the upper end. The maximum value to be used for the normalisation is: 3rd quartile or distribution + 1.5 * IQR. It is: 349.0 \n",
      " See histogram printed below for info. \n",
      "\n",
      "The distribution of the raw data for this subgroup does not contain outliers or is too skewed on the lower end. The minimum value used for the normalisation is the minimum value in the dataset, which is 0.0. This value corresponds to country: 3          Andorra\n",
      "0      Afghanistan\n",
      "21          Brunei\n",
      "37        Djibouti\n",
      "139          Yemen\n",
      "Name: COUNTRY_NAME, dtype: object \n",
      "\n",
      "\n",
      " This is the distribution of the raw data of the indicator.\n",
      "AxesSubplot(0.125,0.125;0.775x0.755)\n"
     ]
    },
    {
     "name": "stderr",
     "output_type": "stream",
     "text": [
      "D:\\Documents\\2020\\28_UNICEF\\10_working_repo\\data-etl\\normalize\\scaler.py:231: SettingWithCopyWarning: \n",
      "A value is trying to be set on a copy of a slice from a DataFrame.\n",
      "Try using .loc[row_indexer,col_indexer] = value instead\n",
      "\n",
      "See the caveats in the documentation: https://pandas.pydata.org/pandas-docs/stable/user_guide/indexing.html#returning-a-view-versus-a-copy\n",
      "  cleansed_data_subset['SCALED'] = round(10 - 10 * (cleansed_data_subset[indicator_raw_value].astype('float') - min_val)/ tot_range, 2)\n"
     ]
    },
    {
     "name": "stdout",
     "output_type": "stream",
     "text": [
      "In the loop we are currently dealing with the subset #1, which has these defining values: Empty DataFrame\n",
      "Columns: [goal, target, indicator, series, seriesDescription, seriesCount, valueType, time_detail, timeCoverage, upperBound, lowerBound, basePeriod, geoInfoUrl, attributes.Nature, attributes.Units, dimensions.Age, dimensions.Sex, dimensions.Reporting Type]\n",
      "Index: []\n",
      "\n",
      " The shape of the subset is: (0, 32)\n",
      "Dataframe is empty. There are no values to append.\n",
      "The number of rows in the dataframe after the right join are: (195, 40)\n",
      "The raw data has been saved as .xlsx file in: D:\\Documents\\2020\\28_UNICEF\\10_working_repo\\data-etl\\data\\data_normalized\\\n"
     ]
    },
    {
     "data": {
      "image/png": "[encoded data removed]",
      "text/plain": [
       "<Figure size 432x288 with 1 Axes>"
      ]
     },
     "metadata": {
      "needs_background": "light"
     },
     "output_type": "display_data"
    }
   ],
   "source": [
    "# Scale the raw data and bring the dataframe into long formmat\n",
    "s61_normalized = scaler.normalizer(cleansed_data = s61_cleansed,\n",
    "                        indicator_raw_value = 'value',\n",
    "                        indicator_code = '3.2.2',\n",
    "                        indicator_name = 'Prevalence of human trafficking',\n",
    "                        cleansed_df_iso2_col = 'CountryIso2',\n",
    "                        crba_final_country_list = country_crba_list,\n",
    "                        crba_final_country_list_iso_col = 'COUNTRY_ISO_2',\n",
    "                        inverted = True,\n",
    "                        non_dim_cols = ['geoAreaCode',\n",
    "                                        'geoAreaName',\n",
    "                                        'timePeriodStart',\n",
    "                                        'source',\n",
    "                                        'value',\n",
    "                                        'footnotes', \n",
    "                                        'Unnamed: 0', \n",
    "                                        'CountryDesc',\n",
    "                                        'CountryIso2',\n",
    "                                        'CountryIso3',\n",
    "                                        'COUNTRY_ISO_2',\n",
    "                                        'COUNTRY_ISO_3',\n",
    "                                        'COUNTRY_NAME',\n",
    "                                        '_merge']\n",
    "                       )\n",
    "\n",
    "# save normalized data\n",
    "save_normalized_data.save_normalized_data(dataframe = s61_normalized,\n",
    "             filename = 'S_61_normalized.xlsx')"
   ]
  },
  {
   "cell_type": "markdown",
   "metadata": {},
   "source": [
    "### Select only those rows/ columns which are relevant \n",
    "\n",
    "* < to do >\n",
    "* Right now, the normalized dataset contains data on ALL subsets (which are defined by the dimension values). Ultimately, there has to be a commitment to one Subset of an indicator \n",
    "* But this filtering to exactly one dimension (i.e. one row per country) will be done later"
   ]
  },
  {
   "cell_type": "markdown",
   "metadata": {},
   "source": [
    "## S-62 (prev S-20) SDG Indicator 1.1.1. Proportion of population below international poverty line (%) SI_POV_DAY1 \n",
    "### Extraction"
   ]
  },
  {
   "cell_type": "code",
   "execution_count": 23,
   "metadata": {},
   "outputs": [
    {
     "name": "stdout",
     "output_type": "stream",
     "text": [
      "The extracted raw data contains the following columns: Index(['goal', 'target', 'indicator', 'series', 'seriesDescription',\n",
      "       'seriesCount', 'geoAreaCode', 'geoAreaName', 'timePeriodStart', 'value',\n",
      "       'valueType', 'time_detail', 'timeCoverage', 'upperBound', 'lowerBound',\n",
      "       'basePeriod', 'source', 'geoInfoUrl', 'footnotes', 'attributes.Nature',\n",
      "       'attributes.Units', 'dimensions.Reporting Type'],\n",
      "      dtype='object')\n",
      "The raw data has been saved as .xlsx file in: D:\\Documents\\2020\\28_UNICEF\\10_working_repo\\data-etl\\data\\data_raw\\\n"
     ]
    }
   ],
   "source": [
    "# Extract data\n",
    "s62_raw = extract_sdg_api_data(series_code = 'SI_POV_DAY1')\n",
    "\n",
    "# Save raw data\n",
    "save_raw_data.save_raw_data(dataframe = s62_raw,\n",
    "              filename = 'S_62.xlsx')"
   ]
  },
  {
   "cell_type": "markdown",
   "metadata": {},
   "source": [
    "### Cleanse"
   ]
  },
  {
   "cell_type": "code",
   "execution_count": 25,
   "metadata": {},
   "outputs": [
    {
     "name": "stdout",
     "output_type": "stream",
     "text": [
      "The raw data has been saved as .xlsx file in: D:\\Documents\\2020\\28_UNICEF\\10_working_repo\\data-etl\\data\\data_cleansed\\\n"
     ]
    }
   ],
   "source": [
    "# Transform the raw data\n",
    "s62_cleansed = cleanse_sdg_api_data(raw_data = s62_raw,\n",
    "                                   country_list_full = country_full_list,\n",
    "                                   country_list_full_name_col = 'CountryDesc',\n",
    "                                   country_list_full_iso2_col = 'CountryIso2',\n",
    "                                   country_df = country_crba_list,\n",
    "                                   country_df_iso2_col = 'COUNTRY_ISO_2',\n",
    "                                   non_dim_cols = ['value',\n",
    "                                                  'source',\n",
    "                                                  'footnotes',\n",
    "                                                   'timePeriodStart',\n",
    "                                                  'Unnamed: 0'] \n",
    "                                   )\n",
    "\n",
    "# save cleansed data\n",
    "save_cleansed_data(dataframe = s62_cleansed,\n",
    "             filename = 'S_62_cleansed.xlsx')"
   ]
  },
  {
   "cell_type": "markdown",
   "metadata": {},
   "source": [
    "### Normalization (scaling)"
   ]
  },
  {
   "cell_type": "code",
   "execution_count": 26,
   "metadata": {},
   "outputs": [
    {
     "name": "stdout",
     "output_type": "stream",
     "text": [
      "You hve a selected a few columns, which will not be regarded as dimensions. These are the remaining columns in the dataset, along with the number of values they take in the dataset.\n",
      "The column goal has 1 unique values.\n",
      "The column target has 1 unique values.\n",
      "The column indicator has 1 unique values.\n",
      "The column series has 1 unique values.\n",
      "The column seriesDescription has 1 unique values.\n",
      "The column seriesCount has 1 unique values.\n",
      "The column valueType has 1 unique values.\n",
      "The column time_detail has 1 unique values.\n",
      "The column timeCoverage has 1 unique values.\n",
      "The column upperBound has 1 unique values.\n",
      "The column lowerBound has 1 unique values.\n",
      "The column basePeriod has 1 unique values.\n",
      "The column geoInfoUrl has 1 unique values.\n",
      "The column attributes.Nature has 1 unique values.\n",
      "The column attributes.Units has 1 unique values.\n",
      "The column dimensions.Reporting Type has 1 unique values.\n",
      "The total number of subgroups in the dataset is therefore: 1\n",
      "In the loop we are currently dealing with the subset #0, which has these defining values: Empty DataFrame\n",
      "Columns: [goal, target, indicator, series, seriesDescription, seriesCount, valueType, time_detail, timeCoverage, upperBound, lowerBound, basePeriod, geoInfoUrl, attributes.Nature, attributes.Units, dimensions.Reporting Type]\n",
      "Index: []\n",
      "\n",
      " The shape of the subset is: (0, 30)\n",
      "Dataframe is empty. There are no values to append.\n",
      "In the loop we are currently dealing with the subset #1, which has these defining values:       goal   target  indicator       series  \\\n",
      "152  ['1']  ['1.1']  ['1.1.1']  SI_POV_DAY1   \n",
      "\n",
      "                                     seriesDescription seriesCount valueType  \\\n",
      "152  Proportion of population below international p...        2053     Float   \n",
      "\n",
      "    time_detail timeCoverage upperBound lowerBound basePeriod geoInfoUrl  \\\n",
      "152        None         None       None       None       None       None   \n",
      "\n",
      "    attributes.Nature attributes.Units dimensions.Reporting Type  \n",
      "152                 G          PERCENT                         G  \n",
      "\n",
      " The shape of the subset is: (164, 30)\n",
      "The distribution of the raw data values this subgroup contains outliers or is too skewed on the upper end. The maximum value to be used for the normalisation is: 3rd quartile or distribution + 1.5 * IQR. It is: 53.75 \n",
      " See histogram printed below for info. \n",
      "\n",
      "The distribution of the raw data for this subgroup does not contain outliers or is too skewed on the lower end. The minimum value used for the normalisation is the minimum value in the dataset, which is 0.0. This value corresponds to country: 152      United Arab Emirates\n",
      "6                     Austria\n",
      "7                  Azerbaijan\n",
      "15     Bosnia and Herzegovina\n",
      "10                    Belgium\n",
      "9                     Belarus\n",
      "138               Switzerland\n",
      "26                      Chile\n",
      "34                     Cyprus\n",
      "35             Czech Republic\n",
      "52                    Germany\n",
      "37                    Denmark\n",
      "39         Dominican Republic\n",
      "43                    Estonia\n",
      "47                    Finland\n",
      "48                     France\n",
      "153            United Kingdom\n",
      "67                    Ireland\n",
      "68                     Israel\n",
      "65                       Iran\n",
      "62                    Iceland\n",
      "72                     Jordan\n",
      "115               South Korea\n",
      "73                 Kazakhstan\n",
      "79                    Lebanon\n",
      "83                 Luxembourg\n",
      "116                   Moldova\n",
      "89                      Malta\n",
      "91                  Mauritius\n",
      "87                   Maldives\n",
      "86                   Malaysia\n",
      "101               Netherlands\n",
      "106                    Norway\n",
      "113                    Poland\n",
      "114                  Portugal\n",
      "118                    Russia\n",
      "137                    Sweden\n",
      "128                  Slovenia\n",
      "141                  Thailand\n",
      "146                   Tunisia\n",
      "147                    Turkey\n",
      "151                   Ukraine\n",
      "156                   Uruguay\n",
      "Name: COUNTRY_NAME, dtype: object \n",
      "\n",
      "\n",
      " This is the distribution of the raw data of the indicator.\n",
      "AxesSubplot(0.125,0.125;0.775x0.755)\n",
      "The number of rows in the dataframe after the right join are: (195, 38)\n"
     ]
    },
    {
     "name": "stderr",
     "output_type": "stream",
     "text": [
      "D:\\Documents\\2020\\28_UNICEF\\10_working_repo\\data-etl\\normalize\\scaler.py:231: SettingWithCopyWarning: \n",
      "A value is trying to be set on a copy of a slice from a DataFrame.\n",
      "Try using .loc[row_indexer,col_indexer] = value instead\n",
      "\n",
      "See the caveats in the documentation: https://pandas.pydata.org/pandas-docs/stable/user_guide/indexing.html#returning-a-view-versus-a-copy\n",
      "  cleansed_data_subset['SCALED'] = round(10 - 10 * (cleansed_data_subset[indicator_raw_value].astype('float') - min_val)/ tot_range, 2)\n"
     ]
    },
    {
     "name": "stdout",
     "output_type": "stream",
     "text": [
      "The raw data has been saved as .xlsx file in: D:\\Documents\\2020\\28_UNICEF\\10_working_repo\\data-etl\\data\\data_normalized\\\n"
     ]
    },
    {
     "data": {
      "image/png": "[encoded data removed]",
      "text/plain": [
       "<Figure size 432x288 with 1 Axes>"
      ]
     },
     "metadata": {
      "needs_background": "light"
     },
     "output_type": "display_data"
    }
   ],
   "source": [
    "# Scale the raw data and bring the dataframe into long formmat\n",
    "s62_normalized = scaler.normalizer(cleansed_data = s62_cleansed,\n",
    "                        indicator_raw_value = 'value',\n",
    "                        indicator_code = '3.2.3.',\n",
    "                        indicator_name = 'Poverty rates',\n",
    "                        cleansed_df_iso2_col = 'CountryIso2',\n",
    "                        crba_final_country_list = country_crba_list,\n",
    "                        crba_final_country_list_iso_col = 'COUNTRY_ISO_2',\n",
    "                        inverted = True,\n",
    "                        non_dim_cols = ['geoAreaCode',\n",
    "                                        'geoAreaName',\n",
    "                                        'timePeriodStart',\n",
    "                                        'source',\n",
    "                                        'value',\n",
    "                                        'footnotes', \n",
    "                                        'Unnamed: 0', \n",
    "                                        'CountryDesc',\n",
    "                                        'CountryIso2',\n",
    "                                        'CountryIso3',\n",
    "                                        'COUNTRY_ISO_2',\n",
    "                                        'COUNTRY_ISO_3',\n",
    "                                        'COUNTRY_NAME',\n",
    "                                        '_merge']\n",
    "                       )\n",
    "\n",
    "# save normalized data\n",
    "save_normalized_data.save_normalized_data(dataframe = s62_normalized,\n",
    "             filename = 'S_62_normalized.xlsx')"
   ]
  },
  {
   "cell_type": "markdown",
   "metadata": {},
   "source": [
    "### Select only those rows/ columns which are relevant \n",
    "\n",
    "* < to do >\n",
    "* Right now, the normalized dataset contains data on ALL subsets (which are defined by the dimension values). Ultimately, there has to be a commitment to one Subset of an indicator \n",
    "* But this filtering to exactly one dimension (i.e. one row per country) will be done later"
   ]
  },
  {
   "cell_type": "markdown",
   "metadata": {},
   "source": [
    "## S-203 (prev S-47) SDG Indicator 8.5.1. Average hourly earnings of employees by sex and occupation (local currency) SL_EMP_AEARN\n",
    "### Extraction"
   ]
  },
  {
   "cell_type": "code",
   "execution_count": 30,
   "metadata": {},
   "outputs": [
    {
     "name": "stdout",
     "output_type": "stream",
     "text": [
      "The extracted raw data contains the following columns: Index(['goal', 'target', 'indicator', 'series', 'seriesDescription',\n",
      "       'seriesCount', 'geoAreaCode', 'geoAreaName', 'timePeriodStart', 'value',\n",
      "       'valueType', 'time_detail', 'timeCoverage', 'upperBound', 'lowerBound',\n",
      "       'basePeriod', 'source', 'geoInfoUrl', 'footnotes', 'attributes.Nature',\n",
      "       'attributes.Units', 'dimensions.Sex', 'dimensions.Type of occupation',\n",
      "       'dimensions.Reporting Type'],\n",
      "      dtype='object')\n",
      "The raw data has been saved as .xlsx file in: D:\\Documents\\2020\\28_UNICEF\\10_working_repo\\data-etl\\data\\data_raw\\\n"
     ]
    }
   ],
   "source": [
    "# Extract data\n",
    "s203_raw = extract_sdg_api_data(series_code = 'SL_EMP_AEARN')\n",
    "\n",
    "# Save raw data\n",
    "save_raw_data.save_raw_data(dataframe = s203_raw,\n",
    "              filename = 'S_203.xlsx')"
   ]
  },
  {
   "cell_type": "markdown",
   "metadata": {},
   "source": [
    "### Cleanse"
   ]
  },
  {
   "cell_type": "code",
   "execution_count": 31,
   "metadata": {},
   "outputs": [
    {
     "name": "stdout",
     "output_type": "stream",
     "text": [
      "The raw data has been saved as .xlsx file in: D:\\Documents\\2020\\28_UNICEF\\10_working_repo\\data-etl\\data\\data_cleansed\\\n"
     ]
    }
   ],
   "source": [
    "# Transform the raw data\n",
    "s203_cleansed = cleanse_sdg_api_data(raw_data = s203_raw,\n",
    "                                   country_list_full = country_full_list,\n",
    "                                   country_list_full_name_col = 'CountryDesc',\n",
    "                                   country_list_full_iso2_col = 'CountryIso2',\n",
    "                                   country_df = country_crba_list,\n",
    "                                   country_df_iso2_col = 'COUNTRY_ISO_2',\n",
    "                                   non_dim_cols = ['value',\n",
    "                                                  'source',\n",
    "                                                  'footnotes',\n",
    "                                                   'timePeriodStart',\n",
    "                                                  'Unnamed: 0'] \n",
    "                                   )\n",
    "\n",
    "# save cleansed data\n",
    "save_cleansed_data(dataframe = s203_cleansed,\n",
    "             filename = 'S_203_cleansed.xlsx')"
   ]
  },
  {
   "cell_type": "markdown",
   "metadata": {},
   "source": [
    "### Normalization (scaling)"
   ]
  },
  {
   "cell_type": "code",
   "execution_count": 32,
   "metadata": {},
   "outputs": [
    {
     "name": "stdout",
     "output_type": "stream",
     "text": [
      "You hve a selected a few columns, which will not be regarded as dimensions. These are the remaining columns in the dataset, along with the number of values they take in the dataset.\n",
      "The column goal has 1 unique values.\n",
      "The column target has 1 unique values.\n",
      "The column indicator has 1 unique values.\n",
      "The column series has 1 unique values.\n",
      "The column seriesDescription has 1 unique values.\n",
      "The column seriesCount has 1 unique values.\n",
      "The column valueType has 1 unique values.\n",
      "The column time_detail has 1 unique values.\n",
      "The column timeCoverage has 1 unique values.\n",
      "The column upperBound has 1 unique values.\n",
      "The column lowerBound has 1 unique values.\n",
      "The column basePeriod has 1 unique values.\n",
      "The column geoInfoUrl has 1 unique values.\n",
      "The column attributes.Nature has 1 unique values.\n",
      "The column attributes.Units has 1 unique values.\n",
      "The column dimensions.Sex has 3 unique values.\n",
      "The column dimensions.Type of occupation has 24 unique values.\n",
      "The column dimensions.Reporting Type has 1 unique values.\n",
      "The total number of subgroups in the dataset is therefore: 72\n",
      "In the loop we are currently dealing with the subset #0, which has these defining values: Empty DataFrame\n",
      "Columns: [goal, target, indicator, series, seriesDescription, seriesCount, valueType, time_detail, timeCoverage, upperBound, lowerBound, basePeriod, geoInfoUrl, attributes.Nature, attributes.Units, dimensions.Sex, dimensions.Type of occupation, dimensions.Reporting Type]\n",
      "Index: []\n",
      "\n",
      " The shape of the subset is: (0, 32)\n",
      "Dataframe is empty. There are no values to append.\n",
      "In the loop we are currently dealing with the subset #1, which has these defining values:     goal   target  indicator        series  \\\n",
      "0  ['8']  ['8.5']  ['8.5.1']  SL_EMP_AEARN   \n",
      "\n",
      "                                   seriesDescription seriesCount valueType  \\\n",
      "0  Average hourly earnings of employees by sex an...        5776     Float   \n",
      "\n",
      "  time_detail timeCoverage upperBound lowerBound basePeriod geoInfoUrl  \\\n",
      "0        None         None       None       None       None       None   \n",
      "\n",
      "  attributes.Nature attributes.Units dimensions.Sex  \\\n",
      "0                 C          CUR_LCU        BOTHSEX   \n",
      "\n",
      "  dimensions.Type of occupation dimensions.Reporting Type  \n",
      "0                      isco08-2                         G  \n",
      "\n",
      " The shape of the subset is: (50, 32)\n",
      "The distribution of the raw data values this subgroup contains outliers or is too skewed on the upper end. The maximum value to be used for the normalisation is: 3rd quartile or distribution + 1.5 * IQR. It is: 537.5325 \n",
      " See histogram printed below for info. \n",
      "\n",
      "The distribution of the raw data for this subgroup does not contain outliers or is too skewed on the lower end. The minimum value used for the normalisation is the minimum value in the dataset, which is 4.36. This value corresponds to country: 449    Ecuador\n",
      "Name: COUNTRY_NAME, dtype: object \n",
      "\n",
      "\n",
      " This is the distribution of the raw data of the indicator.\n",
      "AxesSubplot(0.125,0.125;0.775x0.755)\n"
     ]
    },
    {
     "name": "stderr",
     "output_type": "stream",
     "text": [
      "D:\\Documents\\2020\\28_UNICEF\\10_working_repo\\data-etl\\normalize\\scaler.py:233: SettingWithCopyWarning: \n",
      "A value is trying to be set on a copy of a slice from a DataFrame.\n",
      "Try using .loc[row_indexer,col_indexer] = value instead\n",
      "\n",
      "See the caveats in the documentation: https://pandas.pydata.org/pandas-docs/stable/user_guide/indexing.html#returning-a-view-versus-a-copy\n",
      "  cleansed_data_subset['SCALED'] = round(10 * (cleansed_data_subset[indicator_raw_value].astype('float') - min_val)/ tot_range, 2)\n"
     ]
    },
    {
     "name": "stdout",
     "output_type": "stream",
     "text": [
      "In the loop we are currently dealing with the subset #2, which has these defining values:      goal   target  indicator        series  \\\n",
      "24  ['8']  ['8.5']  ['8.5.1']  SL_EMP_AEARN   \n",
      "\n",
      "                                    seriesDescription seriesCount valueType  \\\n",
      "24  Average hourly earnings of employees by sex an...        5776     Float   \n",
      "\n",
      "   time_detail timeCoverage upperBound lowerBound basePeriod geoInfoUrl  \\\n",
      "24        None         None       None       None       None       None   \n",
      "\n",
      "   attributes.Nature attributes.Units dimensions.Sex  \\\n",
      "24                 C          CUR_LCU         FEMALE   \n",
      "\n",
      "   dimensions.Type of occupation dimensions.Reporting Type  \n",
      "24                        isco08                         G  \n",
      "\n",
      " The shape of the subset is: (63, 32)\n",
      "The distribution of the raw data values this subgroup contains outliers or is too skewed on the upper end. The maximum value to be used for the normalisation is: 3rd quartile or distribution + 1.5 * IQR. It is: 346.9275 \n",
      " See histogram printed below for info. \n",
      "\n",
      "The distribution of the raw data for this subgroup does not contain outliers or is too skewed on the lower end. The minimum value used for the normalisation is the minimum value in the dataset, which is 2.0. This value corresponds to country: 1010         Latvia\n",
      "465     El Salvador\n",
      "Name: COUNTRY_NAME, dtype: object \n",
      "\n",
      "\n",
      " This is the distribution of the raw data of the indicator.\n",
      "AxesSubplot(0.125,0.125;0.775x0.755)\n"
     ]
    },
    {
     "name": "stderr",
     "output_type": "stream",
     "text": [
      "D:\\Documents\\2020\\28_UNICEF\\10_working_repo\\data-etl\\normalize\\scaler.py:233: SettingWithCopyWarning: \n",
      "A value is trying to be set on a copy of a slice from a DataFrame.\n",
      "Try using .loc[row_indexer,col_indexer] = value instead\n",
      "\n",
      "See the caveats in the documentation: https://pandas.pydata.org/pandas-docs/stable/user_guide/indexing.html#returning-a-view-versus-a-copy\n",
      "  cleansed_data_subset['SCALED'] = round(10 * (cleansed_data_subset[indicator_raw_value].astype('float') - min_val)/ tot_range, 2)\n"
     ]
    },
    {
     "name": "stdout",
     "output_type": "stream",
     "text": [
      "In the loop we are currently dealing with the subset #3, which has these defining values:      goal   target  indicator        series  \\\n",
      "25  ['8']  ['8.5']  ['8.5.1']  SL_EMP_AEARN   \n",
      "\n",
      "                                    seriesDescription seriesCount valueType  \\\n",
      "25  Average hourly earnings of employees by sex an...        5776     Float   \n",
      "\n",
      "   time_detail timeCoverage upperBound lowerBound basePeriod geoInfoUrl  \\\n",
      "25        None         None       None       None       None       None   \n",
      "\n",
      "   attributes.Nature attributes.Units dimensions.Sex  \\\n",
      "25                 C          CUR_LCU           MALE   \n",
      "\n",
      "   dimensions.Type of occupation dimensions.Reporting Type  \n",
      "25                      isco08-4                         G  \n",
      "\n",
      " The shape of the subset is: (49, 32)\n",
      "The distribution of the raw data values this subgroup contains outliers or is too skewed on the upper end. The maximum value to be used for the normalisation is: 3rd quartile or distribution + 1.5 * IQR. It is: 351.305 \n",
      " See histogram printed below for info. \n",
      "\n",
      "The distribution of the raw data for this subgroup does not contain outliers or is too skewed on the lower end. The minimum value used for the normalisation is the minimum value in the dataset, which is 2.31. This value corresponds to country: 461        Ecuador\n",
      "1328    Montenegro\n",
      "Name: COUNTRY_NAME, dtype: object \n",
      "\n",
      "\n",
      " This is the distribution of the raw data of the indicator.\n",
      "AxesSubplot(0.125,0.125;0.775x0.755)\n"
     ]
    },
    {
     "name": "stderr",
     "output_type": "stream",
     "text": [
      "D:\\Documents\\2020\\28_UNICEF\\10_working_repo\\data-etl\\normalize\\scaler.py:233: SettingWithCopyWarning: \n",
      "A value is trying to be set on a copy of a slice from a DataFrame.\n",
      "Try using .loc[row_indexer,col_indexer] = value instead\n",
      "\n",
      "See the caveats in the documentation: https://pandas.pydata.org/pandas-docs/stable/user_guide/indexing.html#returning-a-view-versus-a-copy\n",
      "  cleansed_data_subset['SCALED'] = round(10 * (cleansed_data_subset[indicator_raw_value].astype('float') - min_val)/ tot_range, 2)\n"
     ]
    },
    {
     "name": "stdout",
     "output_type": "stream",
     "text": [
      "In the loop we are currently dealing with the subset #4, which has these defining values:      goal   target  indicator        series  \\\n",
      "26  ['8']  ['8.5']  ['8.5.1']  SL_EMP_AEARN   \n",
      "\n",
      "                                    seriesDescription seriesCount valueType  \\\n",
      "26  Average hourly earnings of employees by sex an...        5776     Float   \n",
      "\n",
      "   time_detail timeCoverage upperBound lowerBound basePeriod geoInfoUrl  \\\n",
      "26        None         None       None       None       None       None   \n",
      "\n",
      "   attributes.Nature attributes.Units dimensions.Sex  \\\n",
      "26                 C          CUR_LCU        BOTHSEX   \n",
      "\n",
      "   dimensions.Type of occupation dimensions.Reporting Type  \n",
      "26                      isco08-6                         G  \n",
      "\n",
      " The shape of the subset is: (47, 32)\n",
      "The distribution of the raw data values this subgroup contains outliers or is too skewed on the upper end. The maximum value to be used for the normalisation is: 3rd quartile or distribution + 1.5 * IQR. It is: 243.01 \n",
      " See histogram printed below for info. \n",
      "\n",
      "The distribution of the raw data for this subgroup does not contain outliers or is too skewed on the lower end. The minimum value used for the normalisation is the minimum value in the dataset, which is 1.38. This value corresponds to country: 445    Ecuador\n",
      "Name: COUNTRY_NAME, dtype: object \n",
      "\n",
      "\n",
      " This is the distribution of the raw data of the indicator.\n",
      "AxesSubplot(0.125,0.125;0.775x0.755)\n"
     ]
    },
    {
     "name": "stderr",
     "output_type": "stream",
     "text": [
      "D:\\Documents\\2020\\28_UNICEF\\10_working_repo\\data-etl\\normalize\\scaler.py:233: SettingWithCopyWarning: \n",
      "A value is trying to be set on a copy of a slice from a DataFrame.\n",
      "Try using .loc[row_indexer,col_indexer] = value instead\n",
      "\n",
      "See the caveats in the documentation: https://pandas.pydata.org/pandas-docs/stable/user_guide/indexing.html#returning-a-view-versus-a-copy\n",
      "  cleansed_data_subset['SCALED'] = round(10 * (cleansed_data_subset[indicator_raw_value].astype('float') - min_val)/ tot_range, 2)\n"
     ]
    },
    {
     "name": "stdout",
     "output_type": "stream",
     "text": [
      "In the loop we are currently dealing with the subset #5, which has these defining values:      goal   target  indicator        series  \\\n",
      "27  ['8']  ['8.5']  ['8.5.1']  SL_EMP_AEARN   \n",
      "\n",
      "                                    seriesDescription seriesCount valueType  \\\n",
      "27  Average hourly earnings of employees by sex an...        5776     Float   \n",
      "\n",
      "   time_detail timeCoverage upperBound lowerBound basePeriod geoInfoUrl  \\\n",
      "27        None         None       None       None       None       None   \n",
      "\n",
      "   attributes.Nature attributes.Units dimensions.Sex  \\\n",
      "27                 C          CUR_LCU        BOTHSEX   \n",
      "\n",
      "   dimensions.Type of occupation dimensions.Reporting Type  \n",
      "27                      isco08-7                         G  \n",
      "\n",
      " The shape of the subset is: (51, 32)\n",
      "The distribution of the raw data values this subgroup contains outliers or is too skewed on the upper end. The maximum value to be used for the normalisation is: 3rd quartile or distribution + 1.5 * IQR. It is: 268.16499999999996 \n",
      " See histogram printed below for info. \n",
      "\n",
      "The distribution of the raw data for this subgroup does not contain outliers or is too skewed on the lower end. The minimum value used for the normalisation is the minimum value in the dataset, which is 1.77. This value corresponds to country: 446    Ecuador\n",
      "Name: COUNTRY_NAME, dtype: object \n",
      "\n",
      "\n",
      " This is the distribution of the raw data of the indicator.\n",
      "AxesSubplot(0.125,0.125;0.775x0.755)\n"
     ]
    },
    {
     "name": "stderr",
     "output_type": "stream",
     "text": [
      "D:\\Documents\\2020\\28_UNICEF\\10_working_repo\\data-etl\\normalize\\scaler.py:233: SettingWithCopyWarning: \n",
      "A value is trying to be set on a copy of a slice from a DataFrame.\n",
      "Try using .loc[row_indexer,col_indexer] = value instead\n",
      "\n",
      "See the caveats in the documentation: https://pandas.pydata.org/pandas-docs/stable/user_guide/indexing.html#returning-a-view-versus-a-copy\n",
      "  cleansed_data_subset['SCALED'] = round(10 * (cleansed_data_subset[indicator_raw_value].astype('float') - min_val)/ tot_range, 2)\n"
     ]
    },
    {
     "name": "stdout",
     "output_type": "stream",
     "text": [
      "In the loop we are currently dealing with the subset #6, which has these defining values:      goal   target  indicator        series  \\\n",
      "28  ['8']  ['8.5']  ['8.5.1']  SL_EMP_AEARN   \n",
      "\n",
      "                                    seriesDescription seriesCount valueType  \\\n",
      "28  Average hourly earnings of employees by sex an...        5776     Float   \n",
      "\n",
      "   time_detail timeCoverage upperBound lowerBound basePeriod geoInfoUrl  \\\n",
      "28        None         None       None       None       None       None   \n",
      "\n",
      "   attributes.Nature attributes.Units dimensions.Sex  \\\n",
      "28                 C          CUR_LCU        BOTHSEX   \n",
      "\n",
      "   dimensions.Type of occupation dimensions.Reporting Type  \n",
      "28                      isco08-8                         G  \n",
      "\n",
      " The shape of the subset is: (51, 32)\n",
      "The distribution of the raw data values this subgroup contains outliers or is too skewed on the upper end. The maximum value to be used for the normalisation is: 3rd quartile or distribution + 1.5 * IQR. It is: 275.2825 \n",
      " See histogram printed below for info. \n",
      "\n",
      "The distribution of the raw data for this subgroup does not contain outliers or is too skewed on the lower end. The minimum value used for the normalisation is the minimum value in the dataset, which is 2.08. This value corresponds to country: 447    Ecuador\n",
      "Name: COUNTRY_NAME, dtype: object \n",
      "\n",
      "\n",
      " This is the distribution of the raw data of the indicator.\n",
      "AxesSubplot(0.125,0.125;0.775x0.755)\n"
     ]
    },
    {
     "name": "stderr",
     "output_type": "stream",
     "text": [
      "D:\\Documents\\2020\\28_UNICEF\\10_working_repo\\data-etl\\normalize\\scaler.py:233: SettingWithCopyWarning: \n",
      "A value is trying to be set on a copy of a slice from a DataFrame.\n",
      "Try using .loc[row_indexer,col_indexer] = value instead\n",
      "\n",
      "See the caveats in the documentation: https://pandas.pydata.org/pandas-docs/stable/user_guide/indexing.html#returning-a-view-versus-a-copy\n",
      "  cleansed_data_subset['SCALED'] = round(10 * (cleansed_data_subset[indicator_raw_value].astype('float') - min_val)/ tot_range, 2)\n"
     ]
    },
    {
     "name": "stdout",
     "output_type": "stream",
     "text": [
      "In the loop we are currently dealing with the subset #7, which has these defining values:      goal   target  indicator        series  \\\n",
      "33  ['8']  ['8.5']  ['8.5.1']  SL_EMP_AEARN   \n",
      "\n",
      "                                    seriesDescription seriesCount valueType  \\\n",
      "33  Average hourly earnings of employees by sex an...        5776     Float   \n",
      "\n",
      "   time_detail timeCoverage upperBound lowerBound basePeriod geoInfoUrl  \\\n",
      "33        None         None       None       None       None       None   \n",
      "\n",
      "   attributes.Nature attributes.Units dimensions.Sex  \\\n",
      "33                 C          CUR_LCU        BOTHSEX   \n",
      "\n",
      "   dimensions.Type of occupation dimensions.Reporting Type  \n",
      "33                      isco08-5                         G  \n",
      "\n",
      " The shape of the subset is: (51, 32)\n",
      "The distribution of the raw data values this subgroup contains outliers or is too skewed on the upper end. The maximum value to be used for the normalisation is: 3rd quartile or distribution + 1.5 * IQR. It is: 245.49750000000003 \n",
      " See histogram printed below for info. \n",
      "\n",
      "The distribution of the raw data for this subgroup does not contain outliers or is too skewed on the lower end. The minimum value used for the normalisation is the minimum value in the dataset, which is 1.86. This value corresponds to country: 452    Ecuador\n",
      "Name: COUNTRY_NAME, dtype: object \n",
      "\n",
      "\n",
      " This is the distribution of the raw data of the indicator.\n",
      "AxesSubplot(0.125,0.125;0.775x0.755)\n"
     ]
    },
    {
     "name": "stderr",
     "output_type": "stream",
     "text": [
      "D:\\Documents\\2020\\28_UNICEF\\10_working_repo\\data-etl\\normalize\\scaler.py:233: SettingWithCopyWarning: \n",
      "A value is trying to be set on a copy of a slice from a DataFrame.\n",
      "Try using .loc[row_indexer,col_indexer] = value instead\n",
      "\n",
      "See the caveats in the documentation: https://pandas.pydata.org/pandas-docs/stable/user_guide/indexing.html#returning-a-view-versus-a-copy\n",
      "  cleansed_data_subset['SCALED'] = round(10 * (cleansed_data_subset[indicator_raw_value].astype('float') - min_val)/ tot_range, 2)\n"
     ]
    },
    {
     "name": "stdout",
     "output_type": "stream",
     "text": [
      "In the loop we are currently dealing with the subset #8, which has these defining values:      goal   target  indicator        series  \\\n",
      "30  ['8']  ['8.5']  ['8.5.1']  SL_EMP_AEARN   \n",
      "\n",
      "                                    seriesDescription seriesCount valueType  \\\n",
      "30  Average hourly earnings of employees by sex an...        5776     Float   \n",
      "\n",
      "   time_detail timeCoverage upperBound lowerBound basePeriod geoInfoUrl  \\\n",
      "30        None         None       None       None       None       None   \n",
      "\n",
      "   attributes.Nature attributes.Units dimensions.Sex  \\\n",
      "30                 C          CUR_LCU           MALE   \n",
      "\n",
      "   dimensions.Type of occupation dimensions.Reporting Type  \n",
      "30                      isco08-1                         G  \n",
      "\n",
      " The shape of the subset is: (49, 32)\n",
      "The distribution of the raw data values this subgroup contains outliers or is too skewed on the upper end. The maximum value to be used for the normalisation is: 3rd quartile or distribution + 1.5 * IQR. It is: 812.66 \n",
      " See histogram printed below for info. \n",
      "\n",
      "The distribution of the raw data for this subgroup does not contain outliers or is too skewed on the lower end. The minimum value used for the normalisation is the minimum value in the dataset, which is 6.62. This value corresponds to country: 458    Ecuador\n",
      "743     Greece\n",
      "Name: COUNTRY_NAME, dtype: object \n",
      "\n",
      "\n",
      " This is the distribution of the raw data of the indicator.\n",
      "AxesSubplot(0.125,0.125;0.775x0.755)\n"
     ]
    },
    {
     "name": "stderr",
     "output_type": "stream",
     "text": [
      "D:\\Documents\\2020\\28_UNICEF\\10_working_repo\\data-etl\\normalize\\scaler.py:233: SettingWithCopyWarning: \n",
      "A value is trying to be set on a copy of a slice from a DataFrame.\n",
      "Try using .loc[row_indexer,col_indexer] = value instead\n",
      "\n",
      "See the caveats in the documentation: https://pandas.pydata.org/pandas-docs/stable/user_guide/indexing.html#returning-a-view-versus-a-copy\n",
      "  cleansed_data_subset['SCALED'] = round(10 * (cleansed_data_subset[indicator_raw_value].astype('float') - min_val)/ tot_range, 2)\n"
     ]
    },
    {
     "name": "stdout",
     "output_type": "stream",
     "text": [
      "In the loop we are currently dealing with the subset #9, which has these defining values:      goal   target  indicator        series  \\\n",
      "31  ['8']  ['8.5']  ['8.5.1']  SL_EMP_AEARN   \n",
      "\n",
      "                                    seriesDescription seriesCount valueType  \\\n",
      "31  Average hourly earnings of employees by sex an...        5776     Float   \n",
      "\n",
      "   time_detail timeCoverage upperBound lowerBound basePeriod geoInfoUrl  \\\n",
      "31        None         None       None       None       None       None   \n",
      "\n",
      "   attributes.Nature attributes.Units dimensions.Sex  \\\n",
      "31                 C          CUR_LCU        BOTHSEX   \n",
      "\n",
      "   dimensions.Type of occupation dimensions.Reporting Type  \n",
      "31                      isco08-X                         G  \n",
      "\n",
      " The shape of the subset is: (13, 32)\n",
      "The distribution of the raw data values this subgroup contains outliers or is too skewed on the upper end. The maximum value to be used for the normalisation is: 3rd quartile or distribution + 1.5 * IQR. It is: 6293.26375 \n",
      " See histogram printed below for info. \n",
      "\n",
      "The distribution of the raw data for this subgroup does not contain outliers or is too skewed on the lower end. The minimum value used for the normalisation is the minimum value in the dataset, which is 0.0. This value corresponds to country: 416     Dominican Republic\n",
      "422     Dominican Republic\n",
      "402     Dominican Republic\n",
      "1502              Pakistan\n",
      "1492              Pakistan\n",
      "1493              Pakistan\n",
      "1490              Pakistan\n",
      "1491              Pakistan\n",
      "1489              Pakistan\n",
      "1987              Thailand\n",
      "Name: COUNTRY_NAME, dtype: object \n",
      "\n",
      "\n",
      " This is the distribution of the raw data of the indicator.\n",
      "Dataframe is empty. There are no values to append.\n",
      "In the loop we are currently dealing with the subset #10, which has these defining values:      goal   target  indicator        series  \\\n",
      "23  ['8']  ['8.5']  ['8.5.1']  SL_EMP_AEARN   \n",
      "\n",
      "                                    seriesDescription seriesCount valueType  \\\n",
      "23  Average hourly earnings of employees by sex an...        5776     Float   \n",
      "\n",
      "   time_detail timeCoverage upperBound lowerBound basePeriod geoInfoUrl  \\\n",
      "23        None         None       None       None       None       None   \n",
      "\n",
      "   attributes.Nature attributes.Units dimensions.Sex  \\\n",
      "23                 C          CUR_LCU           MALE   \n",
      "\n",
      "   dimensions.Type of occupation dimensions.Reporting Type  \n",
      "23                      isco08-5                         G  \n",
      "\n",
      " The shape of the subset is: (50, 32)\n",
      "The distribution of the raw data values this subgroup contains outliers or is too skewed on the upper end. The maximum value to be used for the normalisation is: 3rd quartile or distribution + 1.5 * IQR. It is: 226.1975 \n",
      " See histogram printed below for info. \n",
      "\n",
      "The distribution of the raw data for this subgroup does not contain outliers or is too skewed on the lower end. The minimum value used for the normalisation is the minimum value in the dataset, which is 2.05. This value corresponds to country: 432       Ecuador\n",
      "1090    Lithuania\n",
      "Name: COUNTRY_NAME, dtype: object \n",
      "\n",
      "\n",
      " This is the distribution of the raw data of the indicator.\n",
      "AxesSubplot(0.125,0.125;0.775x0.755)\n"
     ]
    },
    {
     "name": "stderr",
     "output_type": "stream",
     "text": [
      "D:\\Documents\\2020\\28_UNICEF\\10_working_repo\\data-etl\\normalize\\scaler.py:233: SettingWithCopyWarning: \n",
      "A value is trying to be set on a copy of a slice from a DataFrame.\n",
      "Try using .loc[row_indexer,col_indexer] = value instead\n",
      "\n",
      "See the caveats in the documentation: https://pandas.pydata.org/pandas-docs/stable/user_guide/indexing.html#returning-a-view-versus-a-copy\n",
      "  cleansed_data_subset['SCALED'] = round(10 * (cleansed_data_subset[indicator_raw_value].astype('float') - min_val)/ tot_range, 2)\n"
     ]
    },
    {
     "name": "stdout",
     "output_type": "stream",
     "text": [
      "In the loop we are currently dealing with the subset #11, which has these defining values:      goal   target  indicator        series  \\\n",
      "34  ['8']  ['8.5']  ['8.5.1']  SL_EMP_AEARN   \n",
      "\n",
      "                                    seriesDescription seriesCount valueType  \\\n",
      "34  Average hourly earnings of employees by sex an...        5776     Float   \n",
      "\n",
      "   time_detail timeCoverage upperBound lowerBound basePeriod geoInfoUrl  \\\n",
      "34        None         None       None       None       None       None   \n",
      "\n",
      "   attributes.Nature attributes.Units dimensions.Sex  \\\n",
      "34                 C          CUR_LCU           MALE   \n",
      "\n",
      "   dimensions.Type of occupation dimensions.Reporting Type  \n",
      "34                      isco08-2                         G  \n",
      "\n",
      " The shape of the subset is: (50, 32)\n",
      "The distribution of the raw data values this subgroup contains outliers or is too skewed on the upper end. The maximum value to be used for the normalisation is: 3rd quartile or distribution + 1.5 * IQR. It is: 591.435 \n",
      " See histogram printed below for info. \n",
      "\n",
      "The distribution of the raw data for this subgroup does not contain outliers or is too skewed on the lower end. The minimum value used for the normalisation is the minimum value in the dataset, which is 4.98. This value corresponds to country: 459     Ecuador\n",
      "1225      Malta\n",
      "Name: COUNTRY_NAME, dtype: object \n",
      "\n",
      "\n",
      " This is the distribution of the raw data of the indicator.\n",
      "AxesSubplot(0.125,0.125;0.775x0.755)\n"
     ]
    },
    {
     "name": "stderr",
     "output_type": "stream",
     "text": [
      "D:\\Documents\\2020\\28_UNICEF\\10_working_repo\\data-etl\\normalize\\scaler.py:233: SettingWithCopyWarning: \n",
      "A value is trying to be set on a copy of a slice from a DataFrame.\n",
      "Try using .loc[row_indexer,col_indexer] = value instead\n",
      "\n",
      "See the caveats in the documentation: https://pandas.pydata.org/pandas-docs/stable/user_guide/indexing.html#returning-a-view-versus-a-copy\n",
      "  cleansed_data_subset['SCALED'] = round(10 * (cleansed_data_subset[indicator_raw_value].astype('float') - min_val)/ tot_range, 2)\n"
     ]
    },
    {
     "name": "stdout",
     "output_type": "stream",
     "text": [
      "In the loop we are currently dealing with the subset #12, which has these defining values:      goal   target  indicator        series  \\\n",
      "35  ['8']  ['8.5']  ['8.5.1']  SL_EMP_AEARN   \n",
      "\n",
      "                                    seriesDescription seriesCount valueType  \\\n",
      "35  Average hourly earnings of employees by sex an...        5776     Float   \n",
      "\n",
      "   time_detail timeCoverage upperBound lowerBound basePeriod geoInfoUrl  \\\n",
      "35        None         None       None       None       None       None   \n",
      "\n",
      "   attributes.Nature attributes.Units dimensions.Sex  \\\n",
      "35                 C          CUR_LCU           MALE   \n",
      "\n",
      "   dimensions.Type of occupation dimensions.Reporting Type  \n",
      "35                      isco08-3                         G  \n",
      "\n",
      " The shape of the subset is: (49, 32)\n",
      "The distribution of the raw data values this subgroup contains outliers or is too skewed on the upper end. The maximum value to be used for the normalisation is: 3rd quartile or distribution + 1.5 * IQR. It is: 374.135 \n",
      " See histogram printed below for info. \n",
      "\n",
      "The distribution of the raw data for this subgroup does not contain outliers or is too skewed on the lower end. The minimum value used for the normalisation is the minimum value in the dataset, which is 3.53. This value corresponds to country: 460      Ecuador\n",
      "1810    Slovenia\n",
      "Name: COUNTRY_NAME, dtype: object \n",
      "\n",
      "\n",
      " This is the distribution of the raw data of the indicator.\n",
      "AxesSubplot(0.125,0.125;0.775x0.755)\n"
     ]
    },
    {
     "name": "stderr",
     "output_type": "stream",
     "text": [
      "D:\\Documents\\2020\\28_UNICEF\\10_working_repo\\data-etl\\normalize\\scaler.py:233: SettingWithCopyWarning: \n",
      "A value is trying to be set on a copy of a slice from a DataFrame.\n",
      "Try using .loc[row_indexer,col_indexer] = value instead\n",
      "\n",
      "See the caveats in the documentation: https://pandas.pydata.org/pandas-docs/stable/user_guide/indexing.html#returning-a-view-versus-a-copy\n",
      "  cleansed_data_subset['SCALED'] = round(10 * (cleansed_data_subset[indicator_raw_value].astype('float') - min_val)/ tot_range, 2)\n"
     ]
    },
    {
     "name": "stdout",
     "output_type": "stream",
     "text": [
      "In the loop we are currently dealing with the subset #13, which has these defining values:      goal   target  indicator        series  \\\n",
      "29  ['8']  ['8.5']  ['8.5.1']  SL_EMP_AEARN   \n",
      "\n",
      "                                    seriesDescription seriesCount valueType  \\\n",
      "29  Average hourly earnings of employees by sex an...        5776     Float   \n",
      "\n",
      "   time_detail timeCoverage upperBound lowerBound basePeriod geoInfoUrl  \\\n",
      "29        None         None       None       None       None       None   \n",
      "\n",
      "   attributes.Nature attributes.Units dimensions.Sex  \\\n",
      "29                 C          CUR_LCU           MALE   \n",
      "\n",
      "   dimensions.Type of occupation dimensions.Reporting Type  \n",
      "29                        isco08                         G  \n",
      "\n",
      " The shape of the subset is: (63, 32)\n",
      "The distribution of the raw data values this subgroup contains outliers or is too skewed on the upper end. The maximum value to be used for the normalisation is: 3rd quartile or distribution + 1.5 * IQR. It is: 388.425 \n",
      " See histogram printed below for info. \n",
      "\n",
      "The distribution of the raw data for this subgroup does not contain outliers or is too skewed on the lower end. The minimum value used for the normalisation is the minimum value in the dataset, which is 1.9. This value corresponds to country: 464    El Salvador\n",
      "463    El Salvador\n",
      "Name: COUNTRY_NAME, dtype: object \n",
      "\n",
      "\n",
      " This is the distribution of the raw data of the indicator.\n",
      "AxesSubplot(0.125,0.125;0.775x0.755)\n"
     ]
    },
    {
     "name": "stderr",
     "output_type": "stream",
     "text": [
      "D:\\Documents\\2020\\28_UNICEF\\10_working_repo\\data-etl\\normalize\\scaler.py:233: SettingWithCopyWarning: \n",
      "A value is trying to be set on a copy of a slice from a DataFrame.\n",
      "Try using .loc[row_indexer,col_indexer] = value instead\n",
      "\n",
      "See the caveats in the documentation: https://pandas.pydata.org/pandas-docs/stable/user_guide/indexing.html#returning-a-view-versus-a-copy\n",
      "  cleansed_data_subset['SCALED'] = round(10 * (cleansed_data_subset[indicator_raw_value].astype('float') - min_val)/ tot_range, 2)\n"
     ]
    },
    {
     "name": "stdout",
     "output_type": "stream",
     "text": [
      "In the loop we are currently dealing with the subset #14, which has these defining values:      goal   target  indicator        series  \\\n",
      "22  ['8']  ['8.5']  ['8.5.1']  SL_EMP_AEARN   \n",
      "\n",
      "                                    seriesDescription seriesCount valueType  \\\n",
      "22  Average hourly earnings of employees by sex an...        5776     Float   \n",
      "\n",
      "   time_detail timeCoverage upperBound lowerBound basePeriod geoInfoUrl  \\\n",
      "22        None         None       None       None       None       None   \n",
      "\n",
      "   attributes.Nature attributes.Units dimensions.Sex  \\\n",
      "22                 C          CUR_LCU        BOTHSEX   \n",
      "\n",
      "   dimensions.Type of occupation dimensions.Reporting Type  \n",
      "22                      isco08-9                         G  \n",
      "\n",
      " The shape of the subset is: (51, 32)\n",
      "The distribution of the raw data values this subgroup contains outliers or is too skewed on the upper end. The maximum value to be used for the normalisation is: 3rd quartile or distribution + 1.5 * IQR. It is: 190.83750000000003 \n",
      " See histogram printed below for info. \n",
      "\n",
      "The distribution of the raw data for this subgroup does not contain outliers or is too skewed on the lower end. The minimum value used for the normalisation is the minimum value in the dataset, which is 1.52. This value corresponds to country: 448    Ecuador\n",
      "Name: COUNTRY_NAME, dtype: object \n",
      "\n",
      "\n",
      " This is the distribution of the raw data of the indicator.\n",
      "AxesSubplot(0.125,0.125;0.775x0.755)\n"
     ]
    },
    {
     "name": "stderr",
     "output_type": "stream",
     "text": [
      "D:\\Documents\\2020\\28_UNICEF\\10_working_repo\\data-etl\\normalize\\scaler.py:233: SettingWithCopyWarning: \n",
      "A value is trying to be set on a copy of a slice from a DataFrame.\n",
      "Try using .loc[row_indexer,col_indexer] = value instead\n",
      "\n",
      "See the caveats in the documentation: https://pandas.pydata.org/pandas-docs/stable/user_guide/indexing.html#returning-a-view-versus-a-copy\n",
      "  cleansed_data_subset['SCALED'] = round(10 * (cleansed_data_subset[indicator_raw_value].astype('float') - min_val)/ tot_range, 2)\n"
     ]
    },
    {
     "name": "stdout",
     "output_type": "stream",
     "text": [
      "In the loop we are currently dealing with the subset #15, which has these defining values:      goal   target  indicator        series  \\\n",
      "32  ['8']  ['8.5']  ['8.5.1']  SL_EMP_AEARN   \n",
      "\n",
      "                                    seriesDescription seriesCount valueType  \\\n",
      "32  Average hourly earnings of employees by sex an...        5776     Float   \n",
      "\n",
      "   time_detail timeCoverage upperBound lowerBound basePeriod geoInfoUrl  \\\n",
      "32        None         None       None       None       None       None   \n",
      "\n",
      "   attributes.Nature attributes.Units dimensions.Sex  \\\n",
      "32                 C          CUR_LCU        BOTHSEX   \n",
      "\n",
      "   dimensions.Type of occupation dimensions.Reporting Type  \n",
      "32                      isco08-0                         G  \n",
      "\n",
      " The shape of the subset is: (14, 32)\n",
      "The distribution of the raw data values this subgroup contains outliers or is too skewed on the upper end. The maximum value to be used for the normalisation is: 3rd quartile or distribution + 1.5 * IQR. It is: 318.10124999999994 \n",
      " See histogram printed below for info. \n",
      "\n",
      "The distribution of the raw data for this subgroup does not contain outliers or is too skewed on the lower end. The minimum value used for the normalisation is the minimum value in the dataset, which is 0.0. This value corresponds to country: 416     Dominican Republic\n",
      "422     Dominican Republic\n",
      "402     Dominican Republic\n",
      "1502              Pakistan\n",
      "1492              Pakistan\n",
      "1493              Pakistan\n",
      "1490              Pakistan\n",
      "1491              Pakistan\n",
      "1489              Pakistan\n",
      "1987              Thailand\n",
      "Name: COUNTRY_NAME, dtype: object \n",
      "\n",
      "\n",
      " This is the distribution of the raw data of the indicator.\n",
      "AxesSubplot(0.125,0.125;0.775x0.755)\n"
     ]
    },
    {
     "name": "stderr",
     "output_type": "stream",
     "text": [
      "D:\\Documents\\2020\\28_UNICEF\\10_working_repo\\data-etl\\normalize\\scaler.py:233: SettingWithCopyWarning: \n",
      "A value is trying to be set on a copy of a slice from a DataFrame.\n",
      "Try using .loc[row_indexer,col_indexer] = value instead\n",
      "\n",
      "See the caveats in the documentation: https://pandas.pydata.org/pandas-docs/stable/user_guide/indexing.html#returning-a-view-versus-a-copy\n",
      "  cleansed_data_subset['SCALED'] = round(10 * (cleansed_data_subset[indicator_raw_value].astype('float') - min_val)/ tot_range, 2)\n"
     ]
    },
    {
     "name": "stdout",
     "output_type": "stream",
     "text": [
      "In the loop we are currently dealing with the subset #16, which has these defining values:      goal   target  indicator        series  \\\n",
      "20  ['8']  ['8.5']  ['8.5.1']  SL_EMP_AEARN   \n",
      "\n",
      "                                    seriesDescription seriesCount valueType  \\\n",
      "20  Average hourly earnings of employees by sex an...        5776     Float   \n",
      "\n",
      "   time_detail timeCoverage upperBound lowerBound basePeriod geoInfoUrl  \\\n",
      "20        None         None       None       None       None       None   \n",
      "\n",
      "   attributes.Nature attributes.Units dimensions.Sex  \\\n",
      "20                 C          CUR_LCU         FEMALE   \n",
      "\n",
      "   dimensions.Type of occupation dimensions.Reporting Type  \n",
      "20                      isco08-3                         G  \n",
      "\n",
      " The shape of the subset is: (49, 32)\n",
      "The distribution of the raw data values this subgroup contains outliers or is too skewed on the upper end. The maximum value to be used for the normalisation is: 3rd quartile or distribution + 1.5 * IQR. It is: 306.96500000000003 \n",
      " See histogram printed below for info. \n",
      "\n",
      "The distribution of the raw data for this subgroup does not contain outliers or is too skewed on the lower end. The minimum value used for the normalisation is the minimum value in the dataset, which is 2.99. This value corresponds to country: 235      Bulgaria\n",
      "189        Brunei\n",
      "440       Ecuador\n",
      "1132    Lithuania\n",
      "1039       Latvia\n",
      "Name: COUNTRY_NAME, dtype: object \n",
      "\n",
      "\n",
      " This is the distribution of the raw data of the indicator.\n",
      "AxesSubplot(0.125,0.125;0.775x0.755)\n"
     ]
    },
    {
     "name": "stderr",
     "output_type": "stream",
     "text": [
      "D:\\Documents\\2020\\28_UNICEF\\10_working_repo\\data-etl\\normalize\\scaler.py:233: SettingWithCopyWarning: \n",
      "A value is trying to be set on a copy of a slice from a DataFrame.\n",
      "Try using .loc[row_indexer,col_indexer] = value instead\n",
      "\n",
      "See the caveats in the documentation: https://pandas.pydata.org/pandas-docs/stable/user_guide/indexing.html#returning-a-view-versus-a-copy\n",
      "  cleansed_data_subset['SCALED'] = round(10 * (cleansed_data_subset[indicator_raw_value].astype('float') - min_val)/ tot_range, 2)\n"
     ]
    },
    {
     "name": "stdout",
     "output_type": "stream",
     "text": [
      "In the loop we are currently dealing with the subset #17, which has these defining values:      goal   target  indicator        series  \\\n",
      "21  ['8']  ['8.5']  ['8.5.1']  SL_EMP_AEARN   \n",
      "\n",
      "                                    seriesDescription seriesCount valueType  \\\n",
      "21  Average hourly earnings of employees by sex an...        5776     Float   \n",
      "\n",
      "   time_detail timeCoverage upperBound lowerBound basePeriod geoInfoUrl  \\\n",
      "21        None         None       None       None       None       None   \n",
      "\n",
      "   attributes.Nature attributes.Units dimensions.Sex  \\\n",
      "21                 C          CUR_LCU         FEMALE   \n",
      "\n",
      "   dimensions.Type of occupation dimensions.Reporting Type  \n",
      "21                      isco08-4                         G  \n",
      "\n",
      " The shape of the subset is: (49, 32)\n",
      "The distribution of the raw data values this subgroup contains outliers or is too skewed on the upper end. The maximum value to be used for the normalisation is: 3rd quartile or distribution + 1.5 * IQR. It is: 336.935 \n",
      " See histogram printed below for info. \n",
      "\n",
      "The distribution of the raw data for this subgroup does not contain outliers or is too skewed on the lower end. The minimum value used for the normalisation is the minimum value in the dataset, which is 2.41. This value corresponds to country: 441    Ecuador\n",
      "Name: COUNTRY_NAME, dtype: object \n",
      "\n",
      "\n",
      " This is the distribution of the raw data of the indicator.\n",
      "AxesSubplot(0.125,0.125;0.775x0.755)\n"
     ]
    },
    {
     "name": "stderr",
     "output_type": "stream",
     "text": [
      "D:\\Documents\\2020\\28_UNICEF\\10_working_repo\\data-etl\\normalize\\scaler.py:233: SettingWithCopyWarning: \n",
      "A value is trying to be set on a copy of a slice from a DataFrame.\n",
      "Try using .loc[row_indexer,col_indexer] = value instead\n",
      "\n",
      "See the caveats in the documentation: https://pandas.pydata.org/pandas-docs/stable/user_guide/indexing.html#returning-a-view-versus-a-copy\n",
      "  cleansed_data_subset['SCALED'] = round(10 * (cleansed_data_subset[indicator_raw_value].astype('float') - min_val)/ tot_range, 2)\n"
     ]
    },
    {
     "name": "stdout",
     "output_type": "stream",
     "text": [
      "In the loop we are currently dealing with the subset #18, which has these defining values:     goal   target  indicator        series  \\\n",
      "1  ['8']  ['8.5']  ['8.5.1']  SL_EMP_AEARN   \n",
      "\n",
      "                                   seriesDescription seriesCount valueType  \\\n",
      "1  Average hourly earnings of employees by sex an...        5776     Float   \n",
      "\n",
      "  time_detail timeCoverage upperBound lowerBound basePeriod geoInfoUrl  \\\n",
      "1        None         None       None       None       None       None   \n",
      "\n",
      "  attributes.Nature attributes.Units dimensions.Sex  \\\n",
      "1                 C          CUR_LCU        BOTHSEX   \n",
      "\n",
      "  dimensions.Type of occupation dimensions.Reporting Type  \n",
      "1                      isco08-3                         G  \n",
      "\n",
      " The shape of the subset is: (48, 32)\n",
      "The distribution of the raw data values this subgroup contains outliers or is too skewed on the upper end. The maximum value to be used for the normalisation is: 3rd quartile or distribution + 1.5 * IQR. It is: 347.18125000000003 \n",
      " See histogram printed below for info. \n",
      "\n",
      "The distribution of the raw data for this subgroup does not contain outliers or is too skewed on the lower end. The minimum value used for the normalisation is the minimum value in the dataset, which is 3.28. This value corresponds to country: 450       Ecuador\n",
      "1119    Lithuania\n",
      "Name: COUNTRY_NAME, dtype: object \n",
      "\n",
      "\n",
      " This is the distribution of the raw data of the indicator.\n",
      "AxesSubplot(0.125,0.125;0.775x0.755)\n"
     ]
    },
    {
     "name": "stderr",
     "output_type": "stream",
     "text": [
      "D:\\Documents\\2020\\28_UNICEF\\10_working_repo\\data-etl\\normalize\\scaler.py:233: SettingWithCopyWarning: \n",
      "A value is trying to be set on a copy of a slice from a DataFrame.\n",
      "Try using .loc[row_indexer,col_indexer] = value instead\n",
      "\n",
      "See the caveats in the documentation: https://pandas.pydata.org/pandas-docs/stable/user_guide/indexing.html#returning-a-view-versus-a-copy\n",
      "  cleansed_data_subset['SCALED'] = round(10 * (cleansed_data_subset[indicator_raw_value].astype('float') - min_val)/ tot_range, 2)\n"
     ]
    },
    {
     "name": "stdout",
     "output_type": "stream",
     "text": [
      "In the loop we are currently dealing with the subset #19, which has these defining values:     goal   target  indicator        series  \\\n",
      "2  ['8']  ['8.5']  ['8.5.1']  SL_EMP_AEARN   \n",
      "\n",
      "                                   seriesDescription seriesCount valueType  \\\n",
      "2  Average hourly earnings of employees by sex an...        5776     Float   \n",
      "\n",
      "  time_detail timeCoverage upperBound lowerBound basePeriod geoInfoUrl  \\\n",
      "2        None         None       None       None       None       None   \n",
      "\n",
      "  attributes.Nature attributes.Units dimensions.Sex  \\\n",
      "2                 C          CUR_LCU        BOTHSEX   \n",
      "\n",
      "  dimensions.Type of occupation dimensions.Reporting Type  \n",
      "2                        isco08                         G  \n",
      "\n",
      " The shape of the subset is: (62, 32)\n",
      "The distribution of the raw data values this subgroup contains outliers or is too skewed on the upper end. The maximum value to be used for the normalisation is: 3rd quartile or distribution + 1.5 * IQR. It is: 440.67125 \n",
      " See histogram printed below for info. \n",
      "\n",
      "The distribution of the raw data for this subgroup does not contain outliers or is too skewed on the lower end. The minimum value used for the normalisation is the minimum value in the dataset, which is 1.9. This value corresponds to country: 464    El Salvador\n",
      "463    El Salvador\n",
      "Name: COUNTRY_NAME, dtype: object \n",
      "\n",
      "\n",
      " This is the distribution of the raw data of the indicator.\n",
      "AxesSubplot(0.125,0.125;0.775x0.755)\n"
     ]
    },
    {
     "name": "stderr",
     "output_type": "stream",
     "text": [
      "D:\\Documents\\2020\\28_UNICEF\\10_working_repo\\data-etl\\normalize\\scaler.py:233: SettingWithCopyWarning: \n",
      "A value is trying to be set on a copy of a slice from a DataFrame.\n",
      "Try using .loc[row_indexer,col_indexer] = value instead\n",
      "\n",
      "See the caveats in the documentation: https://pandas.pydata.org/pandas-docs/stable/user_guide/indexing.html#returning-a-view-versus-a-copy\n",
      "  cleansed_data_subset['SCALED'] = round(10 * (cleansed_data_subset[indicator_raw_value].astype('float') - min_val)/ tot_range, 2)\n"
     ]
    },
    {
     "name": "stdout",
     "output_type": "stream",
     "text": [
      "In the loop we are currently dealing with the subset #20, which has these defining values:     goal   target  indicator        series  \\\n",
      "3  ['8']  ['8.5']  ['8.5.1']  SL_EMP_AEARN   \n",
      "\n",
      "                                   seriesDescription seriesCount valueType  \\\n",
      "3  Average hourly earnings of employees by sex an...        5776     Float   \n",
      "\n",
      "  time_detail timeCoverage upperBound lowerBound basePeriod geoInfoUrl  \\\n",
      "3        None         None       None       None       None       None   \n",
      "\n",
      "  attributes.Nature attributes.Units dimensions.Sex  \\\n",
      "3                 C          CUR_LCU        BOTHSEX   \n",
      "\n",
      "  dimensions.Type of occupation dimensions.Reporting Type  \n",
      "3                      isco08-1                         G  \n",
      "\n",
      " The shape of the subset is: (50, 32)\n",
      "The distribution of the raw data values this subgroup contains outliers or is too skewed on the upper end. The maximum value to be used for the normalisation is: 3rd quartile or distribution + 1.5 * IQR. It is: 738.6524999999999 \n",
      " See histogram printed below for info. \n",
      "\n",
      "The distribution of the raw data for this subgroup does not contain outliers or is too skewed on the lower end. The minimum value used for the normalisation is the minimum value in the dataset, which is 6.42. This value corresponds to country: 444    Ecuador\n",
      "726     Greece\n",
      "Name: COUNTRY_NAME, dtype: object \n",
      "\n",
      "\n",
      " This is the distribution of the raw data of the indicator.\n",
      "AxesSubplot(0.125,0.125;0.775x0.755)\n"
     ]
    },
    {
     "name": "stderr",
     "output_type": "stream",
     "text": [
      "D:\\Documents\\2020\\28_UNICEF\\10_working_repo\\data-etl\\normalize\\scaler.py:233: SettingWithCopyWarning: \n",
      "A value is trying to be set on a copy of a slice from a DataFrame.\n",
      "Try using .loc[row_indexer,col_indexer] = value instead\n",
      "\n",
      "See the caveats in the documentation: https://pandas.pydata.org/pandas-docs/stable/user_guide/indexing.html#returning-a-view-versus-a-copy\n",
      "  cleansed_data_subset['SCALED'] = round(10 * (cleansed_data_subset[indicator_raw_value].astype('float') - min_val)/ tot_range, 2)\n"
     ]
    },
    {
     "name": "stdout",
     "output_type": "stream",
     "text": [
      "In the loop we are currently dealing with the subset #21, which has these defining values:     goal   target  indicator        series  \\\n",
      "4  ['8']  ['8.5']  ['8.5.1']  SL_EMP_AEARN   \n",
      "\n",
      "                                   seriesDescription seriesCount valueType  \\\n",
      "4  Average hourly earnings of employees by sex an...        5776     Float   \n",
      "\n",
      "  time_detail timeCoverage upperBound lowerBound basePeriod geoInfoUrl  \\\n",
      "4        None         None       None       None       None       None   \n",
      "\n",
      "  attributes.Nature attributes.Units dimensions.Sex  \\\n",
      "4                 C          CUR_LCU        BOTHSEX   \n",
      "\n",
      "  dimensions.Type of occupation dimensions.Reporting Type  \n",
      "4                      isco08-4                         G  \n",
      "\n",
      " The shape of the subset is: (50, 32)\n",
      "The distribution of the raw data values this subgroup contains outliers or is too skewed on the upper end. The maximum value to be used for the normalisation is: 3rd quartile or distribution + 1.5 * IQR. It is: 344.29125 \n",
      " See histogram printed below for info. \n",
      "\n",
      "The distribution of the raw data for this subgroup does not contain outliers or is too skewed on the lower end. The minimum value used for the normalisation is the minimum value in the dataset, which is 2.36. This value corresponds to country: 457    Ecuador\n",
      "Name: COUNTRY_NAME, dtype: object \n",
      "\n",
      "\n",
      " This is the distribution of the raw data of the indicator.\n",
      "AxesSubplot(0.125,0.125;0.775x0.755)\n"
     ]
    },
    {
     "name": "stderr",
     "output_type": "stream",
     "text": [
      "D:\\Documents\\2020\\28_UNICEF\\10_working_repo\\data-etl\\normalize\\scaler.py:233: SettingWithCopyWarning: \n",
      "A value is trying to be set on a copy of a slice from a DataFrame.\n",
      "Try using .loc[row_indexer,col_indexer] = value instead\n",
      "\n",
      "See the caveats in the documentation: https://pandas.pydata.org/pandas-docs/stable/user_guide/indexing.html#returning-a-view-versus-a-copy\n",
      "  cleansed_data_subset['SCALED'] = round(10 * (cleansed_data_subset[indicator_raw_value].astype('float') - min_val)/ tot_range, 2)\n"
     ]
    },
    {
     "name": "stdout",
     "output_type": "stream",
     "text": [
      "In the loop we are currently dealing with the subset #22, which has these defining values:     goal   target  indicator        series  \\\n",
      "5  ['8']  ['8.5']  ['8.5.1']  SL_EMP_AEARN   \n",
      "\n",
      "                                   seriesDescription seriesCount valueType  \\\n",
      "5  Average hourly earnings of employees by sex an...        5776     Float   \n",
      "\n",
      "  time_detail timeCoverage upperBound lowerBound basePeriod geoInfoUrl  \\\n",
      "5        None         None       None       None       None       None   \n",
      "\n",
      "  attributes.Nature attributes.Units dimensions.Sex  \\\n",
      "5                 C          CUR_LCU         FEMALE   \n",
      "\n",
      "  dimensions.Type of occupation dimensions.Reporting Type  \n",
      "5                      isco08-X                         G  \n",
      "\n",
      " The shape of the subset is: (11, 32)\n",
      "The distribution of the raw data values this subgroup contains outliers or is too skewed on the upper end. The maximum value to be used for the normalisation is: 3rd quartile or distribution + 1.5 * IQR. It is: 328.3475000000001 \n",
      " See histogram printed below for info. \n",
      "\n",
      "The distribution of the raw data for this subgroup does not contain outliers or is too skewed on the lower end. The minimum value used for the normalisation is the minimum value in the dataset, which is 0.0. This value corresponds to country: 416     Dominican Republic\n",
      "422     Dominican Republic\n",
      "402     Dominican Republic\n",
      "1502              Pakistan\n",
      "1492              Pakistan\n",
      "1493              Pakistan\n",
      "1490              Pakistan\n",
      "1491              Pakistan\n",
      "1489              Pakistan\n",
      "1987              Thailand\n",
      "Name: COUNTRY_NAME, dtype: object \n",
      "\n",
      "\n",
      " This is the distribution of the raw data of the indicator.\n",
      "Dataframe is empty. There are no values to append.\n",
      "In the loop we are currently dealing with the subset #23, which has these defining values:     goal   target  indicator        series  \\\n",
      "7  ['8']  ['8.5']  ['8.5.1']  SL_EMP_AEARN   \n",
      "\n",
      "                                   seriesDescription seriesCount valueType  \\\n",
      "7  Average hourly earnings of employees by sex an...        5776     Float   \n",
      "\n",
      "  time_detail timeCoverage upperBound lowerBound basePeriod geoInfoUrl  \\\n",
      "7        None         None       None       None       None       None   \n",
      "\n",
      "  attributes.Nature attributes.Units dimensions.Sex  \\\n",
      "7                 C          CUR_LCU         FEMALE   \n",
      "\n",
      "  dimensions.Type of occupation dimensions.Reporting Type  \n",
      "7                      isco08-7                         G  \n",
      "\n",
      " The shape of the subset is: (50, 32)\n",
      "The distribution of the raw data values this subgroup contains outliers or is too skewed on the upper end. The maximum value to be used for the normalisation is: 3rd quartile or distribution + 1.5 * IQR. It is: 238.40125 \n",
      " See histogram printed below for info. \n",
      "\n",
      "The distribution of the raw data for this subgroup does not contain outliers or is too skewed on the lower end. The minimum value used for the normalisation is the minimum value in the dataset, which is 1.44. This value corresponds to country: 462       Ecuador\n",
      "1083    Lithuania\n",
      "Name: COUNTRY_NAME, dtype: object \n",
      "\n",
      "\n",
      " This is the distribution of the raw data of the indicator.\n",
      "AxesSubplot(0.125,0.125;0.775x0.755)\n"
     ]
    },
    {
     "name": "stderr",
     "output_type": "stream",
     "text": [
      "D:\\Documents\\2020\\28_UNICEF\\10_working_repo\\data-etl\\normalize\\scaler.py:233: SettingWithCopyWarning: \n",
      "A value is trying to be set on a copy of a slice from a DataFrame.\n",
      "Try using .loc[row_indexer,col_indexer] = value instead\n",
      "\n",
      "See the caveats in the documentation: https://pandas.pydata.org/pandas-docs/stable/user_guide/indexing.html#returning-a-view-versus-a-copy\n",
      "  cleansed_data_subset['SCALED'] = round(10 * (cleansed_data_subset[indicator_raw_value].astype('float') - min_val)/ tot_range, 2)\n"
     ]
    },
    {
     "name": "stdout",
     "output_type": "stream",
     "text": [
      "In the loop we are currently dealing with the subset #24, which has these defining values:     goal   target  indicator        series  \\\n",
      "8  ['8']  ['8.5']  ['8.5.1']  SL_EMP_AEARN   \n",
      "\n",
      "                                   seriesDescription seriesCount valueType  \\\n",
      "8  Average hourly earnings of employees by sex an...        5776     Float   \n",
      "\n",
      "  time_detail timeCoverage upperBound lowerBound basePeriod geoInfoUrl  \\\n",
      "8        None         None       None       None       None       None   \n",
      "\n",
      "  attributes.Nature attributes.Units dimensions.Sex  \\\n",
      "8                 C          CUR_LCU         FEMALE   \n",
      "\n",
      "  dimensions.Type of occupation dimensions.Reporting Type  \n",
      "8                      isco08-8                         G  \n",
      "\n",
      " The shape of the subset is: (50, 32)\n",
      "The distribution of the raw data values this subgroup contains outliers or is too skewed on the upper end. The maximum value to be used for the normalisation is: 3rd quartile or distribution + 1.5 * IQR. It is: 228.98125 \n",
      " See histogram printed below for info. \n",
      "\n",
      "The distribution of the raw data for this subgroup does not contain outliers or is too skewed on the lower end. The minimum value used for the normalisation is the minimum value in the dataset, which is 1.69. This value corresponds to country: 439    Ecuador\n",
      "Name: COUNTRY_NAME, dtype: object \n",
      "\n",
      "\n",
      " This is the distribution of the raw data of the indicator.\n",
      "AxesSubplot(0.125,0.125;0.775x0.755)\n"
     ]
    },
    {
     "name": "stderr",
     "output_type": "stream",
     "text": [
      "D:\\Documents\\2020\\28_UNICEF\\10_working_repo\\data-etl\\normalize\\scaler.py:233: SettingWithCopyWarning: \n",
      "A value is trying to be set on a copy of a slice from a DataFrame.\n",
      "Try using .loc[row_indexer,col_indexer] = value instead\n",
      "\n",
      "See the caveats in the documentation: https://pandas.pydata.org/pandas-docs/stable/user_guide/indexing.html#returning-a-view-versus-a-copy\n",
      "  cleansed_data_subset['SCALED'] = round(10 * (cleansed_data_subset[indicator_raw_value].astype('float') - min_val)/ tot_range, 2)\n"
     ]
    },
    {
     "name": "stdout",
     "output_type": "stream",
     "text": [
      "In the loop we are currently dealing with the subset #25, which has these defining values:     goal   target  indicator        series  \\\n",
      "9  ['8']  ['8.5']  ['8.5.1']  SL_EMP_AEARN   \n",
      "\n",
      "                                   seriesDescription seriesCount valueType  \\\n",
      "9  Average hourly earnings of employees by sex an...        5776     Float   \n",
      "\n",
      "  time_detail timeCoverage upperBound lowerBound basePeriod geoInfoUrl  \\\n",
      "9        None         None       None       None       None       None   \n",
      "\n",
      "  attributes.Nature attributes.Units dimensions.Sex  \\\n",
      "9                 C          CUR_LCU         FEMALE   \n",
      "\n",
      "  dimensions.Type of occupation dimensions.Reporting Type  \n",
      "9                      isco08-9                         G  \n",
      "\n",
      " The shape of the subset is: (50, 32)\n",
      "The distribution of the raw data values this subgroup contains outliers or is too skewed on the upper end. The maximum value to be used for the normalisation is: 3rd quartile or distribution + 1.5 * IQR. It is: 242.14 \n",
      " See histogram printed below for info. \n",
      "\n",
      "The distribution of the raw data for this subgroup does not contain outliers or is too skewed on the lower end. The minimum value used for the normalisation is the minimum value in the dataset, which is 1.58. This value corresponds to country: 437    Ecuador\n",
      "Name: COUNTRY_NAME, dtype: object \n",
      "\n",
      "\n",
      " This is the distribution of the raw data of the indicator.\n",
      "AxesSubplot(0.125,0.125;0.775x0.755)\n"
     ]
    },
    {
     "name": "stderr",
     "output_type": "stream",
     "text": [
      "D:\\Documents\\2020\\28_UNICEF\\10_working_repo\\data-etl\\normalize\\scaler.py:233: SettingWithCopyWarning: \n",
      "A value is trying to be set on a copy of a slice from a DataFrame.\n",
      "Try using .loc[row_indexer,col_indexer] = value instead\n",
      "\n",
      "See the caveats in the documentation: https://pandas.pydata.org/pandas-docs/stable/user_guide/indexing.html#returning-a-view-versus-a-copy\n",
      "  cleansed_data_subset['SCALED'] = round(10 * (cleansed_data_subset[indicator_raw_value].astype('float') - min_val)/ tot_range, 2)\n"
     ]
    },
    {
     "name": "stdout",
     "output_type": "stream",
     "text": [
      "In the loop we are currently dealing with the subset #26, which has these defining values:      goal   target  indicator        series  \\\n",
      "10  ['8']  ['8.5']  ['8.5.1']  SL_EMP_AEARN   \n",
      "\n",
      "                                    seriesDescription seriesCount valueType  \\\n",
      "10  Average hourly earnings of employees by sex an...        5776     Float   \n",
      "\n",
      "   time_detail timeCoverage upperBound lowerBound basePeriod geoInfoUrl  \\\n",
      "10        None         None       None       None       None       None   \n",
      "\n",
      "   attributes.Nature attributes.Units dimensions.Sex  \\\n",
      "10                 C          CUR_LCU         FEMALE   \n",
      "\n",
      "   dimensions.Type of occupation dimensions.Reporting Type  \n",
      "10                      isco08-0                         G  \n",
      "\n",
      " The shape of the subset is: (12, 32)\n",
      "The distribution of the raw data values this subgroup contains outliers or is too skewed on the upper end. The maximum value to be used for the normalisation is: 3rd quartile or distribution + 1.5 * IQR. It is: 323.0575 \n",
      " See histogram printed below for info. \n",
      "\n",
      "The distribution of the raw data for this subgroup does not contain outliers or is too skewed on the lower end. The minimum value used for the normalisation is the minimum value in the dataset, which is 0.0. This value corresponds to country: 416     Dominican Republic\n",
      "422     Dominican Republic\n",
      "402     Dominican Republic\n",
      "1502              Pakistan\n",
      "1492              Pakistan\n",
      "1493              Pakistan\n",
      "1490              Pakistan\n",
      "1491              Pakistan\n",
      "1489              Pakistan\n",
      "1987              Thailand\n",
      "Name: COUNTRY_NAME, dtype: object \n",
      "\n",
      "\n",
      " This is the distribution of the raw data of the indicator.\n",
      "AxesSubplot(0.125,0.125;0.775x0.755)\n"
     ]
    },
    {
     "name": "stderr",
     "output_type": "stream",
     "text": [
      "D:\\Documents\\2020\\28_UNICEF\\10_working_repo\\data-etl\\normalize\\scaler.py:233: SettingWithCopyWarning: \n",
      "A value is trying to be set on a copy of a slice from a DataFrame.\n",
      "Try using .loc[row_indexer,col_indexer] = value instead\n",
      "\n",
      "See the caveats in the documentation: https://pandas.pydata.org/pandas-docs/stable/user_guide/indexing.html#returning-a-view-versus-a-copy\n",
      "  cleansed_data_subset['SCALED'] = round(10 * (cleansed_data_subset[indicator_raw_value].astype('float') - min_val)/ tot_range, 2)\n"
     ]
    },
    {
     "name": "stdout",
     "output_type": "stream",
     "text": [
      "In the loop we are currently dealing with the subset #27, which has these defining values:     goal   target  indicator        series  \\\n",
      "6  ['8']  ['8.5']  ['8.5.1']  SL_EMP_AEARN   \n",
      "\n",
      "                                   seriesDescription seriesCount valueType  \\\n",
      "6  Average hourly earnings of employees by sex an...        5776     Float   \n",
      "\n",
      "  time_detail timeCoverage upperBound lowerBound basePeriod geoInfoUrl  \\\n",
      "6        None         None       None       None       None       None   \n",
      "\n",
      "  attributes.Nature attributes.Units dimensions.Sex  \\\n",
      "6                 C          CUR_LCU         FEMALE   \n",
      "\n",
      "  dimensions.Type of occupation dimensions.Reporting Type  \n",
      "6                      isco08-6                         G  \n",
      "\n",
      " The shape of the subset is: (41, 32)\n",
      "The distribution of the raw data values this subgroup contains outliers or is too skewed on the upper end. The maximum value to be used for the normalisation is: 3rd quartile or distribution + 1.5 * IQR. It is: 235.17000000000002 \n",
      " See histogram printed below for info. \n",
      "\n",
      "The distribution of the raw data for this subgroup does not contain outliers or is too skewed on the lower end. The minimum value used for the normalisation is the minimum value in the dataset, which is 1.32. This value corresponds to country: 435    Ecuador\n",
      "Name: COUNTRY_NAME, dtype: object \n",
      "\n",
      "\n",
      " This is the distribution of the raw data of the indicator.\n",
      "AxesSubplot(0.125,0.125;0.775x0.755)\n"
     ]
    },
    {
     "name": "stderr",
     "output_type": "stream",
     "text": [
      "D:\\Documents\\2020\\28_UNICEF\\10_working_repo\\data-etl\\normalize\\scaler.py:233: SettingWithCopyWarning: \n",
      "A value is trying to be set on a copy of a slice from a DataFrame.\n",
      "Try using .loc[row_indexer,col_indexer] = value instead\n",
      "\n",
      "See the caveats in the documentation: https://pandas.pydata.org/pandas-docs/stable/user_guide/indexing.html#returning-a-view-versus-a-copy\n",
      "  cleansed_data_subset['SCALED'] = round(10 * (cleansed_data_subset[indicator_raw_value].astype('float') - min_val)/ tot_range, 2)\n"
     ]
    },
    {
     "name": "stdout",
     "output_type": "stream",
     "text": [
      "In the loop we are currently dealing with the subset #28, which has these defining values:      goal   target  indicator        series  \\\n",
      "11  ['8']  ['8.5']  ['8.5.1']  SL_EMP_AEARN   \n",
      "\n",
      "                                    seriesDescription seriesCount valueType  \\\n",
      "11  Average hourly earnings of employees by sex an...        5776     Float   \n",
      "\n",
      "   time_detail timeCoverage upperBound lowerBound basePeriod geoInfoUrl  \\\n",
      "11        None         None       None       None       None       None   \n",
      "\n",
      "   attributes.Nature attributes.Units dimensions.Sex  \\\n",
      "11                 C          CUR_LCU           MALE   \n",
      "\n",
      "   dimensions.Type of occupation dimensions.Reporting Type  \n",
      "11                      isco08-8                         G  \n",
      "\n",
      " The shape of the subset is: (49, 32)\n",
      "The distribution of the raw data values this subgroup contains outliers or is too skewed on the upper end. The maximum value to be used for the normalisation is: 3rd quartile or distribution + 1.5 * IQR. It is: 270.03499999999997 \n",
      " See histogram printed below for info. \n",
      "\n",
      "The distribution of the raw data for this subgroup does not contain outliers or is too skewed on the lower end. The minimum value used for the normalisation is the minimum value in the dataset, which is 2.12. This value corresponds to country: 453    Ecuador\n",
      "Name: COUNTRY_NAME, dtype: object \n",
      "\n",
      "\n",
      " This is the distribution of the raw data of the indicator.\n",
      "AxesSubplot(0.125,0.125;0.775x0.755)\n"
     ]
    },
    {
     "name": "stderr",
     "output_type": "stream",
     "text": [
      "D:\\Documents\\2020\\28_UNICEF\\10_working_repo\\data-etl\\normalize\\scaler.py:233: SettingWithCopyWarning: \n",
      "A value is trying to be set on a copy of a slice from a DataFrame.\n",
      "Try using .loc[row_indexer,col_indexer] = value instead\n",
      "\n",
      "See the caveats in the documentation: https://pandas.pydata.org/pandas-docs/stable/user_guide/indexing.html#returning-a-view-versus-a-copy\n",
      "  cleansed_data_subset['SCALED'] = round(10 * (cleansed_data_subset[indicator_raw_value].astype('float') - min_val)/ tot_range, 2)\n"
     ]
    },
    {
     "name": "stdout",
     "output_type": "stream",
     "text": [
      "In the loop we are currently dealing with the subset #29, which has these defining values:      goal   target  indicator        series  \\\n",
      "18  ['8']  ['8.5']  ['8.5.1']  SL_EMP_AEARN   \n",
      "\n",
      "                                    seriesDescription seriesCount valueType  \\\n",
      "18  Average hourly earnings of employees by sex an...        5776     Float   \n",
      "\n",
      "   time_detail timeCoverage upperBound lowerBound basePeriod geoInfoUrl  \\\n",
      "18        None         None       None       None       None       None   \n",
      "\n",
      "   attributes.Nature attributes.Units dimensions.Sex  \\\n",
      "18                 C          CUR_LCU         FEMALE   \n",
      "\n",
      "   dimensions.Type of occupation dimensions.Reporting Type  \n",
      "18                      isco08-1                         G  \n",
      "\n",
      " The shape of the subset is: (49, 32)\n",
      "The distribution of the raw data values this subgroup contains outliers or is too skewed on the upper end. The maximum value to be used for the normalisation is: 3rd quartile or distribution + 1.5 * IQR. It is: 676.2 \n",
      " See histogram printed below for info. \n",
      "\n",
      "The distribution of the raw data for this subgroup does not contain outliers or is too skewed on the lower end. The minimum value used for the normalisation is the minimum value in the dataset, which is 4.35. This value corresponds to country: 177        Belize\n",
      "497       Estonia\n",
      "1113    Lithuania\n",
      "1805     Slovenia\n",
      "Name: COUNTRY_NAME, dtype: object \n",
      "\n",
      "\n",
      " This is the distribution of the raw data of the indicator.\n",
      "AxesSubplot(0.125,0.125;0.775x0.755)\n"
     ]
    },
    {
     "name": "stderr",
     "output_type": "stream",
     "text": [
      "D:\\Documents\\2020\\28_UNICEF\\10_working_repo\\data-etl\\normalize\\scaler.py:233: SettingWithCopyWarning: \n",
      "A value is trying to be set on a copy of a slice from a DataFrame.\n",
      "Try using .loc[row_indexer,col_indexer] = value instead\n",
      "\n",
      "See the caveats in the documentation: https://pandas.pydata.org/pandas-docs/stable/user_guide/indexing.html#returning-a-view-versus-a-copy\n",
      "  cleansed_data_subset['SCALED'] = round(10 * (cleansed_data_subset[indicator_raw_value].astype('float') - min_val)/ tot_range, 2)\n"
     ]
    },
    {
     "name": "stdout",
     "output_type": "stream",
     "text": [
      "In the loop we are currently dealing with the subset #30, which has these defining values:      goal   target  indicator        series  \\\n",
      "17  ['8']  ['8.5']  ['8.5.1']  SL_EMP_AEARN   \n",
      "\n",
      "                                    seriesDescription seriesCount valueType  \\\n",
      "17  Average hourly earnings of employees by sex an...        5776     Float   \n",
      "\n",
      "   time_detail timeCoverage upperBound lowerBound basePeriod geoInfoUrl  \\\n",
      "17        None         None       None       None       None       None   \n",
      "\n",
      "   attributes.Nature attributes.Units dimensions.Sex  \\\n",
      "17                 C          CUR_LCU           MALE   \n",
      "\n",
      "   dimensions.Type of occupation dimensions.Reporting Type  \n",
      "17                      isco08-X                         G  \n",
      "\n",
      " The shape of the subset is: (12, 32)\n",
      "The distribution of the raw data values this subgroup contains outliers or is too skewed on the upper end. The maximum value to be used for the normalisation is: 3rd quartile or distribution + 1.5 * IQR. It is: 12174.965 \n",
      " See histogram printed below for info. \n",
      "\n",
      "The distribution of the raw data for this subgroup does not contain outliers or is too skewed on the lower end. The minimum value used for the normalisation is the minimum value in the dataset, which is 0.0. This value corresponds to country: 416     Dominican Republic\n",
      "422     Dominican Republic\n",
      "402     Dominican Republic\n",
      "1502              Pakistan\n",
      "1492              Pakistan\n",
      "1493              Pakistan\n",
      "1490              Pakistan\n",
      "1491              Pakistan\n",
      "1489              Pakistan\n",
      "1987              Thailand\n",
      "Name: COUNTRY_NAME, dtype: object \n",
      "\n",
      "\n",
      " This is the distribution of the raw data of the indicator.\n",
      "Dataframe is empty. There are no values to append.\n",
      "In the loop we are currently dealing with the subset #31, which has these defining values:      goal   target  indicator        series  \\\n",
      "16  ['8']  ['8.5']  ['8.5.1']  SL_EMP_AEARN   \n",
      "\n",
      "                                    seriesDescription seriesCount valueType  \\\n",
      "16  Average hourly earnings of employees by sex an...        5776     Float   \n",
      "\n",
      "   time_detail timeCoverage upperBound lowerBound basePeriod geoInfoUrl  \\\n",
      "16        None         None       None       None       None       None   \n",
      "\n",
      "   attributes.Nature attributes.Units dimensions.Sex  \\\n",
      "16                 C          CUR_LCU           MALE   \n",
      "\n",
      "   dimensions.Type of occupation dimensions.Reporting Type  \n",
      "16                      isco08-7                         G  \n",
      "\n",
      " The shape of the subset is: (49, 32)\n",
      "The distribution of the raw data values this subgroup contains outliers or is too skewed on the upper end. The maximum value to be used for the normalisation is: 3rd quartile or distribution + 1.5 * IQR. It is: 244.585 \n",
      " See histogram printed below for info. \n",
      "\n",
      "The distribution of the raw data for this subgroup does not contain outliers or is too skewed on the lower end. The minimum value used for the normalisation is the minimum value in the dataset, which is 1.81. This value corresponds to country: 456    Ecuador\n",
      "Name: COUNTRY_NAME, dtype: object \n",
      "\n",
      "\n",
      " This is the distribution of the raw data of the indicator.\n",
      "AxesSubplot(0.125,0.125;0.775x0.755)\n"
     ]
    },
    {
     "name": "stderr",
     "output_type": "stream",
     "text": [
      "D:\\Documents\\2020\\28_UNICEF\\10_working_repo\\data-etl\\normalize\\scaler.py:233: SettingWithCopyWarning: \n",
      "A value is trying to be set on a copy of a slice from a DataFrame.\n",
      "Try using .loc[row_indexer,col_indexer] = value instead\n",
      "\n",
      "See the caveats in the documentation: https://pandas.pydata.org/pandas-docs/stable/user_guide/indexing.html#returning-a-view-versus-a-copy\n",
      "  cleansed_data_subset['SCALED'] = round(10 * (cleansed_data_subset[indicator_raw_value].astype('float') - min_val)/ tot_range, 2)\n"
     ]
    },
    {
     "name": "stdout",
     "output_type": "stream",
     "text": [
      "In the loop we are currently dealing with the subset #32, which has these defining values:      goal   target  indicator        series  \\\n",
      "15  ['8']  ['8.5']  ['8.5.1']  SL_EMP_AEARN   \n",
      "\n",
      "                                    seriesDescription seriesCount valueType  \\\n",
      "15  Average hourly earnings of employees by sex an...        5776     Float   \n",
      "\n",
      "   time_detail timeCoverage upperBound lowerBound basePeriod geoInfoUrl  \\\n",
      "15        None         None       None       None       None       None   \n",
      "\n",
      "   attributes.Nature attributes.Units dimensions.Sex  \\\n",
      "15                 C          CUR_LCU         FEMALE   \n",
      "\n",
      "   dimensions.Type of occupation dimensions.Reporting Type  \n",
      "15                      isco08-5                         G  \n",
      "\n",
      " The shape of the subset is: (50, 32)\n",
      "The distribution of the raw data values this subgroup contains outliers or is too skewed on the upper end. The maximum value to be used for the normalisation is: 3rd quartile or distribution + 1.5 * IQR. It is: 197.31375 \n",
      " See histogram printed below for info. \n",
      "\n",
      "The distribution of the raw data for this subgroup does not contain outliers or is too skewed on the lower end. The minimum value used for the normalisation is the minimum value in the dataset, which is 1.64. This value corresponds to country: 434     Ecuador\n",
      "1033     Latvia\n",
      "Name: COUNTRY_NAME, dtype: object \n",
      "\n",
      "\n",
      " This is the distribution of the raw data of the indicator.\n",
      "AxesSubplot(0.125,0.125;0.775x0.755)\n"
     ]
    },
    {
     "name": "stderr",
     "output_type": "stream",
     "text": [
      "D:\\Documents\\2020\\28_UNICEF\\10_working_repo\\data-etl\\normalize\\scaler.py:233: SettingWithCopyWarning: \n",
      "A value is trying to be set on a copy of a slice from a DataFrame.\n",
      "Try using .loc[row_indexer,col_indexer] = value instead\n",
      "\n",
      "See the caveats in the documentation: https://pandas.pydata.org/pandas-docs/stable/user_guide/indexing.html#returning-a-view-versus-a-copy\n",
      "  cleansed_data_subset['SCALED'] = round(10 * (cleansed_data_subset[indicator_raw_value].astype('float') - min_val)/ tot_range, 2)\n"
     ]
    },
    {
     "name": "stdout",
     "output_type": "stream",
     "text": [
      "In the loop we are currently dealing with the subset #33, which has these defining values:      goal   target  indicator        series  \\\n",
      "19  ['8']  ['8.5']  ['8.5.1']  SL_EMP_AEARN   \n",
      "\n",
      "                                    seriesDescription seriesCount valueType  \\\n",
      "19  Average hourly earnings of employees by sex an...        5776     Float   \n",
      "\n",
      "   time_detail timeCoverage upperBound lowerBound basePeriod geoInfoUrl  \\\n",
      "19        None         None       None       None       None       None   \n",
      "\n",
      "   attributes.Nature attributes.Units dimensions.Sex  \\\n",
      "19                 C          CUR_LCU         FEMALE   \n",
      "\n",
      "   dimensions.Type of occupation dimensions.Reporting Type  \n",
      "19                      isco08-2                         G  \n",
      "\n",
      " The shape of the subset is: (50, 32)\n",
      "The distribution of the raw data values this subgroup contains outliers or is too skewed on the upper end. The maximum value to be used for the normalisation is: 3rd quartile or distribution + 1.5 * IQR. It is: 495.17499999999995 \n",
      " See histogram printed below for info. \n",
      "\n",
      "The distribution of the raw data for this subgroup does not contain outliers or is too skewed on the lower end. The minimum value used for the normalisation is the minimum value in the dataset, which is 3.95. This value corresponds to country: 436      Ecuador\n",
      "1781    Slovakia\n",
      "Name: COUNTRY_NAME, dtype: object \n",
      "\n",
      "\n",
      " This is the distribution of the raw data of the indicator.\n",
      "AxesSubplot(0.125,0.125;0.775x0.755)\n"
     ]
    },
    {
     "name": "stderr",
     "output_type": "stream",
     "text": [
      "D:\\Documents\\2020\\28_UNICEF\\10_working_repo\\data-etl\\normalize\\scaler.py:233: SettingWithCopyWarning: \n",
      "A value is trying to be set on a copy of a slice from a DataFrame.\n",
      "Try using .loc[row_indexer,col_indexer] = value instead\n",
      "\n",
      "See the caveats in the documentation: https://pandas.pydata.org/pandas-docs/stable/user_guide/indexing.html#returning-a-view-versus-a-copy\n",
      "  cleansed_data_subset['SCALED'] = round(10 * (cleansed_data_subset[indicator_raw_value].astype('float') - min_val)/ tot_range, 2)\n"
     ]
    },
    {
     "name": "stdout",
     "output_type": "stream",
     "text": [
      "In the loop we are currently dealing with the subset #34, which has these defining values:      goal   target  indicator        series  \\\n",
      "13  ['8']  ['8.5']  ['8.5.1']  SL_EMP_AEARN   \n",
      "\n",
      "                                    seriesDescription seriesCount valueType  \\\n",
      "13  Average hourly earnings of employees by sex an...        5776     Float   \n",
      "\n",
      "   time_detail timeCoverage upperBound lowerBound basePeriod geoInfoUrl  \\\n",
      "13        None         None       None       None       None       None   \n",
      "\n",
      "   attributes.Nature attributes.Units dimensions.Sex  \\\n",
      "13                 C          CUR_LCU           MALE   \n",
      "\n",
      "   dimensions.Type of occupation dimensions.Reporting Type  \n",
      "13                      isco08-0                         G  \n",
      "\n",
      " The shape of the subset is: (13, 32)\n",
      "The distribution of the raw data values this subgroup contains outliers or is too skewed on the upper end. The maximum value to be used for the normalisation is: 3rd quartile or distribution + 1.5 * IQR. It is: 340.265 \n",
      " See histogram printed below for info. \n",
      "\n",
      "The distribution of the raw data for this subgroup does not contain outliers or is too skewed on the lower end. The minimum value used for the normalisation is the minimum value in the dataset, which is 0.0. This value corresponds to country: 416     Dominican Republic\n",
      "422     Dominican Republic\n",
      "402     Dominican Republic\n",
      "1502              Pakistan\n",
      "1492              Pakistan\n",
      "1493              Pakistan\n",
      "1490              Pakistan\n",
      "1491              Pakistan\n",
      "1489              Pakistan\n",
      "1987              Thailand\n",
      "Name: COUNTRY_NAME, dtype: object \n",
      "\n",
      "\n",
      " This is the distribution of the raw data of the indicator.\n",
      "AxesSubplot(0.125,0.125;0.775x0.755)\n"
     ]
    },
    {
     "name": "stderr",
     "output_type": "stream",
     "text": [
      "D:\\Documents\\2020\\28_UNICEF\\10_working_repo\\data-etl\\normalize\\scaler.py:233: SettingWithCopyWarning: \n",
      "A value is trying to be set on a copy of a slice from a DataFrame.\n",
      "Try using .loc[row_indexer,col_indexer] = value instead\n",
      "\n",
      "See the caveats in the documentation: https://pandas.pydata.org/pandas-docs/stable/user_guide/indexing.html#returning-a-view-versus-a-copy\n",
      "  cleansed_data_subset['SCALED'] = round(10 * (cleansed_data_subset[indicator_raw_value].astype('float') - min_val)/ tot_range, 2)\n"
     ]
    },
    {
     "name": "stdout",
     "output_type": "stream",
     "text": [
      "In the loop we are currently dealing with the subset #35, which has these defining values:      goal   target  indicator        series  \\\n",
      "12  ['8']  ['8.5']  ['8.5.1']  SL_EMP_AEARN   \n",
      "\n",
      "                                    seriesDescription seriesCount valueType  \\\n",
      "12  Average hourly earnings of employees by sex an...        5776     Float   \n",
      "\n",
      "   time_detail timeCoverage upperBound lowerBound basePeriod geoInfoUrl  \\\n",
      "12        None         None       None       None       None       None   \n",
      "\n",
      "   attributes.Nature attributes.Units dimensions.Sex  \\\n",
      "12                 C          CUR_LCU           MALE   \n",
      "\n",
      "   dimensions.Type of occupation dimensions.Reporting Type  \n",
      "12                      isco08-9                         G  \n",
      "\n",
      " The shape of the subset is: (50, 32)\n",
      "The distribution of the raw data values this subgroup contains outliers or is too skewed on the upper end. The maximum value to be used for the normalisation is: 3rd quartile or distribution + 1.5 * IQR. It is: 258.10875000000004 \n",
      " See histogram printed below for info. \n",
      "\n",
      "The distribution of the raw data for this subgroup does not contain outliers or is too skewed on the lower end. The minimum value used for the normalisation is the minimum value in the dataset, which is 1.48. This value corresponds to country: 430    Ecuador\n",
      "Name: COUNTRY_NAME, dtype: object \n",
      "\n",
      "\n",
      " This is the distribution of the raw data of the indicator.\n",
      "AxesSubplot(0.125,0.125;0.775x0.755)\n"
     ]
    },
    {
     "name": "stderr",
     "output_type": "stream",
     "text": [
      "D:\\Documents\\2020\\28_UNICEF\\10_working_repo\\data-etl\\normalize\\scaler.py:233: SettingWithCopyWarning: \n",
      "A value is trying to be set on a copy of a slice from a DataFrame.\n",
      "Try using .loc[row_indexer,col_indexer] = value instead\n",
      "\n",
      "See the caveats in the documentation: https://pandas.pydata.org/pandas-docs/stable/user_guide/indexing.html#returning-a-view-versus-a-copy\n",
      "  cleansed_data_subset['SCALED'] = round(10 * (cleansed_data_subset[indicator_raw_value].astype('float') - min_val)/ tot_range, 2)\n"
     ]
    },
    {
     "name": "stdout",
     "output_type": "stream",
     "text": [
      "In the loop we are currently dealing with the subset #36, which has these defining values:      goal   target  indicator        series  \\\n",
      "14  ['8']  ['8.5']  ['8.5.1']  SL_EMP_AEARN   \n",
      "\n",
      "                                    seriesDescription seriesCount valueType  \\\n",
      "14  Average hourly earnings of employees by sex an...        5776     Float   \n",
      "\n",
      "   time_detail timeCoverage upperBound lowerBound basePeriod geoInfoUrl  \\\n",
      "14        None         None       None       None       None       None   \n",
      "\n",
      "   attributes.Nature attributes.Units dimensions.Sex  \\\n",
      "14                 C          CUR_LCU           MALE   \n",
      "\n",
      "   dimensions.Type of occupation dimensions.Reporting Type  \n",
      "14                      isco08-6                         G  \n",
      "\n",
      " The shape of the subset is: (42, 32)\n",
      "The distribution of the raw data values this subgroup contains outliers or is too skewed on the upper end. The maximum value to be used for the normalisation is: 3rd quartile or distribution + 1.5 * IQR. It is: 214.01125 \n",
      " See histogram printed below for info. \n",
      "\n",
      "The distribution of the raw data for this subgroup does not contain outliers or is too skewed on the lower end. The minimum value used for the normalisation is the minimum value in the dataset, which is 1.39. This value corresponds to country: 433    Ecuador\n",
      "Name: COUNTRY_NAME, dtype: object \n",
      "\n",
      "\n",
      " This is the distribution of the raw data of the indicator.\n",
      "AxesSubplot(0.125,0.125;0.775x0.755)\n"
     ]
    },
    {
     "name": "stderr",
     "output_type": "stream",
     "text": [
      "D:\\Documents\\2020\\28_UNICEF\\10_working_repo\\data-etl\\normalize\\scaler.py:233: SettingWithCopyWarning: \n",
      "A value is trying to be set on a copy of a slice from a DataFrame.\n",
      "Try using .loc[row_indexer,col_indexer] = value instead\n",
      "\n",
      "See the caveats in the documentation: https://pandas.pydata.org/pandas-docs/stable/user_guide/indexing.html#returning-a-view-versus-a-copy\n",
      "  cleansed_data_subset['SCALED'] = round(10 * (cleansed_data_subset[indicator_raw_value].astype('float') - min_val)/ tot_range, 2)\n"
     ]
    },
    {
     "name": "stdout",
     "output_type": "stream",
     "text": [
      "In the loop we are currently dealing with the subset #37, which has these defining values:      goal   target  indicator        series  \\\n",
      "61  ['8']  ['8.5']  ['8.5.1']  SL_EMP_AEARN   \n",
      "\n",
      "                                    seriesDescription seriesCount valueType  \\\n",
      "61  Average hourly earnings of employees by sex an...        5776     Float   \n",
      "\n",
      "   time_detail timeCoverage upperBound lowerBound basePeriod geoInfoUrl  \\\n",
      "61        None         None       None       None       None       None   \n",
      "\n",
      "   attributes.Nature attributes.Units dimensions.Sex  \\\n",
      "61                 C          CUR_LCU         FEMALE   \n",
      "\n",
      "   dimensions.Type of occupation dimensions.Reporting Type  \n",
      "61                      isco88-2                         G  \n",
      "\n",
      " The shape of the subset is: (18, 32)\n",
      "The distribution of the raw data for this subgroup does not contain outliers or is too skewed on the upper end. The maximum value used for the normalisation is the maximum value in the dataset, which is 28.02. This value corresponds to country: 1143    Luxembourg\n",
      "Name: COUNTRY_NAME, dtype: object \n",
      "\n",
      "The distribution of the raw data for this subgroup does not contain outliers or is too skewed on the lower end. The minimum value used for the normalisation is the minimum value in the dataset, which is 3.41. This value corresponds to country: 1098    Lithuania\n",
      "1012       Latvia\n",
      "Name: COUNTRY_NAME, dtype: object \n",
      "\n"
     ]
    },
    {
     "name": "stderr",
     "output_type": "stream",
     "text": [
      "D:\\Documents\\2020\\28_UNICEF\\10_working_repo\\data-etl\\normalize\\scaler.py:233: SettingWithCopyWarning: \n",
      "A value is trying to be set on a copy of a slice from a DataFrame.\n",
      "Try using .loc[row_indexer,col_indexer] = value instead\n",
      "\n",
      "See the caveats in the documentation: https://pandas.pydata.org/pandas-docs/stable/user_guide/indexing.html#returning-a-view-versus-a-copy\n",
      "  cleansed_data_subset['SCALED'] = round(10 * (cleansed_data_subset[indicator_raw_value].astype('float') - min_val)/ tot_range, 2)\n"
     ]
    },
    {
     "name": "stdout",
     "output_type": "stream",
     "text": [
      "In the loop we are currently dealing with the subset #38, which has these defining values:      goal   target  indicator        series  \\\n",
      "36  ['8']  ['8.5']  ['8.5.1']  SL_EMP_AEARN   \n",
      "\n",
      "                                    seriesDescription seriesCount valueType  \\\n",
      "36  Average hourly earnings of employees by sex an...        5776     Float   \n",
      "\n",
      "   time_detail timeCoverage upperBound lowerBound basePeriod geoInfoUrl  \\\n",
      "36        None         None       None       None       None       None   \n",
      "\n",
      "   attributes.Nature attributes.Units dimensions.Sex  \\\n",
      "36                 C          CUR_LCU        BOTHSEX   \n",
      "\n",
      "   dimensions.Type of occupation dimensions.Reporting Type  \n",
      "36                      isco88-8                         G  \n",
      "\n",
      " The shape of the subset is: (19, 32)\n",
      "The distribution of the raw data values this subgroup contains outliers or is too skewed on the upper end. The maximum value to be used for the normalisation is: 3rd quartile or distribution + 1.5 * IQR. It is: 27.5975 \n",
      " See histogram printed below for info. \n",
      "\n",
      "The distribution of the raw data for this subgroup does not contain outliers or is too skewed on the lower end. The minimum value used for the normalisation is the minimum value in the dataset, which is 2.16. This value corresponds to country: 1036    Latvia\n",
      "Name: COUNTRY_NAME, dtype: object \n",
      "\n",
      "\n",
      " This is the distribution of the raw data of the indicator.\n",
      "AxesSubplot(0.125,0.125;0.775x0.755)\n"
     ]
    },
    {
     "name": "stderr",
     "output_type": "stream",
     "text": [
      "D:\\Documents\\2020\\28_UNICEF\\10_working_repo\\data-etl\\normalize\\scaler.py:233: SettingWithCopyWarning: \n",
      "A value is trying to be set on a copy of a slice from a DataFrame.\n",
      "Try using .loc[row_indexer,col_indexer] = value instead\n",
      "\n",
      "See the caveats in the documentation: https://pandas.pydata.org/pandas-docs/stable/user_guide/indexing.html#returning-a-view-versus-a-copy\n",
      "  cleansed_data_subset['SCALED'] = round(10 * (cleansed_data_subset[indicator_raw_value].astype('float') - min_val)/ tot_range, 2)\n"
     ]
    },
    {
     "name": "stdout",
     "output_type": "stream",
     "text": [
      "In the loop we are currently dealing with the subset #39, which has these defining values:      goal   target  indicator        series  \\\n",
      "37  ['8']  ['8.5']  ['8.5.1']  SL_EMP_AEARN   \n",
      "\n",
      "                                    seriesDescription seriesCount valueType  \\\n",
      "37  Average hourly earnings of employees by sex an...        5776     Float   \n",
      "\n",
      "   time_detail timeCoverage upperBound lowerBound basePeriod geoInfoUrl  \\\n",
      "37        None         None       None       None       None       None   \n",
      "\n",
      "   attributes.Nature attributes.Units dimensions.Sex  \\\n",
      "37                 C          CUR_LCU        BOTHSEX   \n",
      "\n",
      "   dimensions.Type of occupation dimensions.Reporting Type  \n",
      "37                      isco88-9                         G  \n",
      "\n",
      " The shape of the subset is: (19, 32)\n",
      "The distribution of the raw data values this subgroup contains outliers or is too skewed on the upper end. The maximum value to be used for the normalisation is: 3rd quartile or distribution + 1.5 * IQR. It is: 19.890000000000004 \n",
      " See histogram printed below for info. \n",
      "\n",
      "The distribution of the raw data for this subgroup does not contain outliers or is too skewed on the lower end. The minimum value used for the normalisation is the minimum value in the dataset, which is 1.53. This value corresponds to country: 1095    Lithuania\n",
      "1035       Latvia\n",
      "Name: COUNTRY_NAME, dtype: object \n",
      "\n",
      "\n",
      " This is the distribution of the raw data of the indicator.\n",
      "AxesSubplot(0.125,0.125;0.775x0.755)\n"
     ]
    },
    {
     "name": "stderr",
     "output_type": "stream",
     "text": [
      "D:\\Documents\\2020\\28_UNICEF\\10_working_repo\\data-etl\\normalize\\scaler.py:233: SettingWithCopyWarning: \n",
      "A value is trying to be set on a copy of a slice from a DataFrame.\n",
      "Try using .loc[row_indexer,col_indexer] = value instead\n",
      "\n",
      "See the caveats in the documentation: https://pandas.pydata.org/pandas-docs/stable/user_guide/indexing.html#returning-a-view-versus-a-copy\n",
      "  cleansed_data_subset['SCALED'] = round(10 * (cleansed_data_subset[indicator_raw_value].astype('float') - min_val)/ tot_range, 2)\n"
     ]
    },
    {
     "name": "stdout",
     "output_type": "stream",
     "text": [
      "In the loop we are currently dealing with the subset #40, which has these defining values:      goal   target  indicator        series  \\\n",
      "38  ['8']  ['8.5']  ['8.5.1']  SL_EMP_AEARN   \n",
      "\n",
      "                                    seriesDescription seriesCount valueType  \\\n",
      "38  Average hourly earnings of employees by sex an...        5776     Float   \n",
      "\n",
      "   time_detail timeCoverage upperBound lowerBound basePeriod geoInfoUrl  \\\n",
      "38        None         None       None       None       None       None   \n",
      "\n",
      "   attributes.Nature attributes.Units dimensions.Sex  \\\n",
      "38                 C          CUR_LCU           MALE   \n",
      "\n",
      "   dimensions.Type of occupation dimensions.Reporting Type  \n",
      "38                        isco88                         G  \n",
      "\n",
      " The shape of the subset is: (18, 32)\n",
      "The distribution of the raw data for this subgroup does not contain outliers or is too skewed on the upper end. The maximum value used for the normalisation is the maximum value in the dataset, which is 22.82. This value corresponds to country: 866    Ireland\n",
      "Name: COUNTRY_NAME, dtype: object \n",
      "\n",
      "The distribution of the raw data for this subgroup does not contain outliers or is too skewed on the lower end. The minimum value used for the normalisation is the minimum value in the dataset, which is 2.89. This value corresponds to country: 1034    Latvia\n",
      "Name: COUNTRY_NAME, dtype: object \n",
      "\n"
     ]
    },
    {
     "name": "stderr",
     "output_type": "stream",
     "text": [
      "D:\\Documents\\2020\\28_UNICEF\\10_working_repo\\data-etl\\normalize\\scaler.py:233: SettingWithCopyWarning: \n",
      "A value is trying to be set on a copy of a slice from a DataFrame.\n",
      "Try using .loc[row_indexer,col_indexer] = value instead\n",
      "\n",
      "See the caveats in the documentation: https://pandas.pydata.org/pandas-docs/stable/user_guide/indexing.html#returning-a-view-versus-a-copy\n",
      "  cleansed_data_subset['SCALED'] = round(10 * (cleansed_data_subset[indicator_raw_value].astype('float') - min_val)/ tot_range, 2)\n"
     ]
    },
    {
     "name": "stdout",
     "output_type": "stream",
     "text": [
      "In the loop we are currently dealing with the subset #41, which has these defining values:      goal   target  indicator        series  \\\n",
      "39  ['8']  ['8.5']  ['8.5.1']  SL_EMP_AEARN   \n",
      "\n",
      "                                    seriesDescription seriesCount valueType  \\\n",
      "39  Average hourly earnings of employees by sex an...        5776     Float   \n",
      "\n",
      "   time_detail timeCoverage upperBound lowerBound basePeriod geoInfoUrl  \\\n",
      "39        None         None       None       None       None       None   \n",
      "\n",
      "   attributes.Nature attributes.Units dimensions.Sex  \\\n",
      "39                 C          CUR_LCU           MALE   \n",
      "\n",
      "   dimensions.Type of occupation dimensions.Reporting Type  \n",
      "39                      isco88-3                         G  \n",
      "\n",
      " The shape of the subset is: (18, 32)\n",
      "The distribution of the raw data for this subgroup does not contain outliers or is too skewed on the upper end. The maximum value used for the normalisation is the maximum value in the dataset, which is 24.78. This value corresponds to country: 1150    Luxembourg\n",
      "Name: COUNTRY_NAME, dtype: object \n",
      "\n",
      "The distribution of the raw data for this subgroup does not contain outliers or is too skewed on the lower end. The minimum value used for the normalisation is the minimum value in the dataset, which is 3.18. This value corresponds to country: 1085    Lithuania\n",
      "Name: COUNTRY_NAME, dtype: object \n",
      "\n"
     ]
    },
    {
     "name": "stderr",
     "output_type": "stream",
     "text": [
      "D:\\Documents\\2020\\28_UNICEF\\10_working_repo\\data-etl\\normalize\\scaler.py:233: SettingWithCopyWarning: \n",
      "A value is trying to be set on a copy of a slice from a DataFrame.\n",
      "Try using .loc[row_indexer,col_indexer] = value instead\n",
      "\n",
      "See the caveats in the documentation: https://pandas.pydata.org/pandas-docs/stable/user_guide/indexing.html#returning-a-view-versus-a-copy\n",
      "  cleansed_data_subset['SCALED'] = round(10 * (cleansed_data_subset[indicator_raw_value].astype('float') - min_val)/ tot_range, 2)\n"
     ]
    },
    {
     "name": "stdout",
     "output_type": "stream",
     "text": [
      "In the loop we are currently dealing with the subset #42, which has these defining values:      goal   target  indicator        series  \\\n",
      "40  ['8']  ['8.5']  ['8.5.1']  SL_EMP_AEARN   \n",
      "\n",
      "                                    seriesDescription seriesCount valueType  \\\n",
      "40  Average hourly earnings of employees by sex an...        5776     Float   \n",
      "\n",
      "   time_detail timeCoverage upperBound lowerBound basePeriod geoInfoUrl  \\\n",
      "40        None         None       None       None       None       None   \n",
      "\n",
      "   attributes.Nature attributes.Units dimensions.Sex  \\\n",
      "40                 C          CUR_LCU        BOTHSEX   \n",
      "\n",
      "   dimensions.Type of occupation dimensions.Reporting Type  \n",
      "40                      isco88-3                         G  \n",
      "\n",
      " The shape of the subset is: (19, 32)\n",
      "The distribution of the raw data values this subgroup contains outliers or is too skewed on the upper end. The maximum value to be used for the normalisation is: 3rd quartile or distribution + 1.5 * IQR. It is: 30.744999999999997 \n",
      " See histogram printed below for info. \n",
      "\n",
      "The distribution of the raw data for this subgroup does not contain outliers or is too skewed on the lower end. The minimum value used for the normalisation is the minimum value in the dataset, which is 2.66. This value corresponds to country: 1075    Lithuania\n",
      "Name: COUNTRY_NAME, dtype: object \n",
      "\n",
      "\n",
      " This is the distribution of the raw data of the indicator.\n",
      "AxesSubplot(0.125,0.125;0.775x0.755)\n"
     ]
    },
    {
     "name": "stderr",
     "output_type": "stream",
     "text": [
      "D:\\Documents\\2020\\28_UNICEF\\10_working_repo\\data-etl\\normalize\\scaler.py:233: SettingWithCopyWarning: \n",
      "A value is trying to be set on a copy of a slice from a DataFrame.\n",
      "Try using .loc[row_indexer,col_indexer] = value instead\n",
      "\n",
      "See the caveats in the documentation: https://pandas.pydata.org/pandas-docs/stable/user_guide/indexing.html#returning-a-view-versus-a-copy\n",
      "  cleansed_data_subset['SCALED'] = round(10 * (cleansed_data_subset[indicator_raw_value].astype('float') - min_val)/ tot_range, 2)\n"
     ]
    },
    {
     "name": "stdout",
     "output_type": "stream",
     "text": [
      "In the loop we are currently dealing with the subset #43, which has these defining values:      goal   target  indicator        series  \\\n",
      "41  ['8']  ['8.5']  ['8.5.1']  SL_EMP_AEARN   \n",
      "\n",
      "                                    seriesDescription seriesCount valueType  \\\n",
      "41  Average hourly earnings of employees by sex an...        5776     Float   \n",
      "\n",
      "   time_detail timeCoverage upperBound lowerBound basePeriod geoInfoUrl  \\\n",
      "41        None         None       None       None       None       None   \n",
      "\n",
      "   attributes.Nature attributes.Units dimensions.Sex  \\\n",
      "41                 C          CUR_LCU           MALE   \n",
      "\n",
      "   dimensions.Type of occupation dimensions.Reporting Type  \n",
      "41                      isco88-2                         G  \n",
      "\n",
      " The shape of the subset is: (18, 32)\n",
      "The distribution of the raw data for this subgroup does not contain outliers or is too skewed on the upper end. The maximum value used for the normalisation is the maximum value in the dataset, which is 33.84. This value corresponds to country: 698    Germany\n",
      "873    Ireland\n",
      "Name: COUNTRY_NAME, dtype: object \n",
      "\n",
      "The distribution of the raw data for this subgroup does not contain outliers or is too skewed on the lower end. The minimum value used for the normalisation is the minimum value in the dataset, which is 3.79. This value corresponds to country: 238      Bulgaria\n",
      "195        Brunei\n",
      "1076    Lithuania\n",
      "Name: COUNTRY_NAME, dtype: object \n",
      "\n"
     ]
    },
    {
     "name": "stderr",
     "output_type": "stream",
     "text": [
      "D:\\Documents\\2020\\28_UNICEF\\10_working_repo\\data-etl\\normalize\\scaler.py:233: SettingWithCopyWarning: \n",
      "A value is trying to be set on a copy of a slice from a DataFrame.\n",
      "Try using .loc[row_indexer,col_indexer] = value instead\n",
      "\n",
      "See the caveats in the documentation: https://pandas.pydata.org/pandas-docs/stable/user_guide/indexing.html#returning-a-view-versus-a-copy\n",
      "  cleansed_data_subset['SCALED'] = round(10 * (cleansed_data_subset[indicator_raw_value].astype('float') - min_val)/ tot_range, 2)\n"
     ]
    },
    {
     "name": "stdout",
     "output_type": "stream",
     "text": [
      "In the loop we are currently dealing with the subset #44, which has these defining values:      goal   target  indicator        series  \\\n",
      "43  ['8']  ['8.5']  ['8.5.1']  SL_EMP_AEARN   \n",
      "\n",
      "                                    seriesDescription seriesCount valueType  \\\n",
      "43  Average hourly earnings of employees by sex an...        5776     Float   \n",
      "\n",
      "   time_detail timeCoverage upperBound lowerBound basePeriod geoInfoUrl  \\\n",
      "43        None         None       None       None       None       None   \n",
      "\n",
      "   attributes.Nature attributes.Units dimensions.Sex  \\\n",
      "43                 C          CUR_LCU           MALE   \n",
      "\n",
      "   dimensions.Type of occupation dimensions.Reporting Type  \n",
      "43                      isco88-5                         G  \n",
      "\n",
      " The shape of the subset is: (18, 32)\n",
      "The distribution of the raw data for this subgroup does not contain outliers or is too skewed on the upper end. The maximum value used for the normalisation is the maximum value in the dataset, which is 15.52. This value corresponds to country: 551      Finland\n",
      "871      Ireland\n",
      "1794    Slovenia\n",
      "Name: COUNTRY_NAME, dtype: object \n",
      "\n",
      "The distribution of the raw data for this subgroup does not contain outliers or is too skewed on the lower end. The minimum value used for the normalisation is the minimum value in the dataset, which is 1.89. This value corresponds to country: 1093    Lithuania\n",
      "1027       Latvia\n",
      "Name: COUNTRY_NAME, dtype: object \n",
      "\n"
     ]
    },
    {
     "name": "stderr",
     "output_type": "stream",
     "text": [
      "D:\\Documents\\2020\\28_UNICEF\\10_working_repo\\data-etl\\normalize\\scaler.py:233: SettingWithCopyWarning: \n",
      "A value is trying to be set on a copy of a slice from a DataFrame.\n",
      "Try using .loc[row_indexer,col_indexer] = value instead\n",
      "\n",
      "See the caveats in the documentation: https://pandas.pydata.org/pandas-docs/stable/user_guide/indexing.html#returning-a-view-versus-a-copy\n",
      "  cleansed_data_subset['SCALED'] = round(10 * (cleansed_data_subset[indicator_raw_value].astype('float') - min_val)/ tot_range, 2)\n"
     ]
    },
    {
     "name": "stdout",
     "output_type": "stream",
     "text": [
      "In the loop we are currently dealing with the subset #45, which has these defining values:      goal   target  indicator        series  \\\n",
      "44  ['8']  ['8.5']  ['8.5.1']  SL_EMP_AEARN   \n",
      "\n",
      "                                    seriesDescription seriesCount valueType  \\\n",
      "44  Average hourly earnings of employees by sex an...        5776     Float   \n",
      "\n",
      "   time_detail timeCoverage upperBound lowerBound basePeriod geoInfoUrl  \\\n",
      "44        None         None       None       None       None       None   \n",
      "\n",
      "   attributes.Nature attributes.Units dimensions.Sex  \\\n",
      "44                 C          CUR_LCU           MALE   \n",
      "\n",
      "   dimensions.Type of occupation dimensions.Reporting Type  \n",
      "44                      isco88-7                         G  \n",
      "\n",
      " The shape of the subset is: (18, 32)\n",
      "The distribution of the raw data for this subgroup does not contain outliers or is too skewed on the upper end. The maximum value used for the normalisation is the maximum value in the dataset, which is 19.3. This value corresponds to country: 856    Ireland\n",
      "Name: COUNTRY_NAME, dtype: object \n",
      "\n",
      "The distribution of the raw data for this subgroup does not contain outliers or is too skewed on the lower end. The minimum value used for the normalisation is the minimum value in the dataset, which is 2.33. This value corresponds to country: 1029    Latvia\n",
      "Name: COUNTRY_NAME, dtype: object \n",
      "\n"
     ]
    },
    {
     "name": "stderr",
     "output_type": "stream",
     "text": [
      "D:\\Documents\\2020\\28_UNICEF\\10_working_repo\\data-etl\\normalize\\scaler.py:233: SettingWithCopyWarning: \n",
      "A value is trying to be set on a copy of a slice from a DataFrame.\n",
      "Try using .loc[row_indexer,col_indexer] = value instead\n",
      "\n",
      "See the caveats in the documentation: https://pandas.pydata.org/pandas-docs/stable/user_guide/indexing.html#returning-a-view-versus-a-copy\n",
      "  cleansed_data_subset['SCALED'] = round(10 * (cleansed_data_subset[indicator_raw_value].astype('float') - min_val)/ tot_range, 2)\n"
     ]
    },
    {
     "name": "stdout",
     "output_type": "stream",
     "text": [
      "In the loop we are currently dealing with the subset #46, which has these defining values:      goal   target  indicator        series  \\\n",
      "45  ['8']  ['8.5']  ['8.5.1']  SL_EMP_AEARN   \n",
      "\n",
      "                                    seriesDescription seriesCount valueType  \\\n",
      "45  Average hourly earnings of employees by sex an...        5776     Float   \n",
      "\n",
      "   time_detail timeCoverage upperBound lowerBound basePeriod geoInfoUrl  \\\n",
      "45        None         None       None       None       None       None   \n",
      "\n",
      "   attributes.Nature attributes.Units dimensions.Sex  \\\n",
      "45                 C          CUR_LCU           MALE   \n",
      "\n",
      "   dimensions.Type of occupation dimensions.Reporting Type  \n",
      "45                      isco88-1                         G  \n",
      "\n",
      " The shape of the subset is: (18, 32)\n",
      "The distribution of the raw data for this subgroup does not contain outliers or is too skewed on the upper end. The maximum value used for the normalisation is the maximum value in the dataset, which is 44.59. This value corresponds to country: 1158    Luxembourg\n",
      "Name: COUNTRY_NAME, dtype: object \n",
      "\n",
      "The distribution of the raw data for this subgroup does not contain outliers or is too skewed on the lower end. The minimum value used for the normalisation is the minimum value in the dataset, which is 5.16. This value corresponds to country: 1016    Latvia\n",
      "Name: COUNTRY_NAME, dtype: object \n",
      "\n"
     ]
    },
    {
     "name": "stderr",
     "output_type": "stream",
     "text": [
      "D:\\Documents\\2020\\28_UNICEF\\10_working_repo\\data-etl\\normalize\\scaler.py:233: SettingWithCopyWarning: \n",
      "A value is trying to be set on a copy of a slice from a DataFrame.\n",
      "Try using .loc[row_indexer,col_indexer] = value instead\n",
      "\n",
      "See the caveats in the documentation: https://pandas.pydata.org/pandas-docs/stable/user_guide/indexing.html#returning-a-view-versus-a-copy\n",
      "  cleansed_data_subset['SCALED'] = round(10 * (cleansed_data_subset[indicator_raw_value].astype('float') - min_val)/ tot_range, 2)\n"
     ]
    },
    {
     "name": "stdout",
     "output_type": "stream",
     "text": [
      "In the loop we are currently dealing with the subset #47, which has these defining values:      goal   target  indicator        series  \\\n",
      "46  ['8']  ['8.5']  ['8.5.1']  SL_EMP_AEARN   \n",
      "\n",
      "                                    seriesDescription seriesCount valueType  \\\n",
      "46  Average hourly earnings of employees by sex an...        5776     Float   \n",
      "\n",
      "   time_detail timeCoverage upperBound lowerBound basePeriod geoInfoUrl  \\\n",
      "46        None         None       None       None       None       None   \n",
      "\n",
      "   attributes.Nature attributes.Units dimensions.Sex  \\\n",
      "46                 C          CUR_LCU        BOTHSEX   \n",
      "\n",
      "   dimensions.Type of occupation dimensions.Reporting Type  \n",
      "46                      isco88-4                         G  \n",
      "\n",
      " The shape of the subset is: (19, 32)\n",
      "The distribution of the raw data values this subgroup contains outliers or is too skewed on the upper end. The maximum value to be used for the normalisation is: 3rd quartile or distribution + 1.5 * IQR. It is: 27.1425 \n",
      " See histogram printed below for info. \n",
      "\n",
      "The distribution of the raw data for this subgroup does not contain outliers or is too skewed on the lower end. The minimum value used for the normalisation is the minimum value in the dataset, which is 2.17. This value corresponds to country: 1088    Lithuania\n",
      "Name: COUNTRY_NAME, dtype: object \n",
      "\n",
      "\n",
      " This is the distribution of the raw data of the indicator.\n",
      "AxesSubplot(0.125,0.125;0.775x0.755)\n"
     ]
    },
    {
     "name": "stderr",
     "output_type": "stream",
     "text": [
      "D:\\Documents\\2020\\28_UNICEF\\10_working_repo\\data-etl\\normalize\\scaler.py:233: SettingWithCopyWarning: \n",
      "A value is trying to be set on a copy of a slice from a DataFrame.\n",
      "Try using .loc[row_indexer,col_indexer] = value instead\n",
      "\n",
      "See the caveats in the documentation: https://pandas.pydata.org/pandas-docs/stable/user_guide/indexing.html#returning-a-view-versus-a-copy\n",
      "  cleansed_data_subset['SCALED'] = round(10 * (cleansed_data_subset[indicator_raw_value].astype('float') - min_val)/ tot_range, 2)\n"
     ]
    },
    {
     "name": "stdout",
     "output_type": "stream",
     "text": [
      "In the loop we are currently dealing with the subset #48, which has these defining values:      goal   target  indicator        series  \\\n",
      "47  ['8']  ['8.5']  ['8.5.1']  SL_EMP_AEARN   \n",
      "\n",
      "                                    seriesDescription seriesCount valueType  \\\n",
      "47  Average hourly earnings of employees by sex an...        5776     Float   \n",
      "\n",
      "   time_detail timeCoverage upperBound lowerBound basePeriod geoInfoUrl  \\\n",
      "47        None         None       None       None       None       None   \n",
      "\n",
      "   attributes.Nature attributes.Units dimensions.Sex  \\\n",
      "47                 C          CUR_LCU        BOTHSEX   \n",
      "\n",
      "   dimensions.Type of occupation dimensions.Reporting Type  \n",
      "47                      isco88-5                         G  \n",
      "\n",
      " The shape of the subset is: (18, 32)\n",
      "The distribution of the raw data for this subgroup does not contain outliers or is too skewed on the upper end. The maximum value used for the normalisation is the maximum value in the dataset, which is 13.52. This value corresponds to country: 142    Belgium\n",
      "867    Ireland\n",
      "Name: COUNTRY_NAME, dtype: object \n",
      "\n",
      "The distribution of the raw data for this subgroup does not contain outliers or is too skewed on the lower end. The minimum value used for the normalisation is the minimum value in the dataset, which is 1.62. This value corresponds to country: 1087    Lithuania\n",
      "Name: COUNTRY_NAME, dtype: object \n",
      "\n"
     ]
    },
    {
     "name": "stderr",
     "output_type": "stream",
     "text": [
      "D:\\Documents\\2020\\28_UNICEF\\10_working_repo\\data-etl\\normalize\\scaler.py:233: SettingWithCopyWarning: \n",
      "A value is trying to be set on a copy of a slice from a DataFrame.\n",
      "Try using .loc[row_indexer,col_indexer] = value instead\n",
      "\n",
      "See the caveats in the documentation: https://pandas.pydata.org/pandas-docs/stable/user_guide/indexing.html#returning-a-view-versus-a-copy\n",
      "  cleansed_data_subset['SCALED'] = round(10 * (cleansed_data_subset[indicator_raw_value].astype('float') - min_val)/ tot_range, 2)\n"
     ]
    },
    {
     "name": "stdout",
     "output_type": "stream",
     "text": [
      "In the loop we are currently dealing with the subset #49, which has these defining values:      goal   target  indicator        series  \\\n",
      "48  ['8']  ['8.5']  ['8.5.1']  SL_EMP_AEARN   \n",
      "\n",
      "                                    seriesDescription seriesCount valueType  \\\n",
      "48  Average hourly earnings of employees by sex an...        5776     Float   \n",
      "\n",
      "   time_detail timeCoverage upperBound lowerBound basePeriod geoInfoUrl  \\\n",
      "48        None         None       None       None       None       None   \n",
      "\n",
      "   attributes.Nature attributes.Units dimensions.Sex  \\\n",
      "48                 C          CUR_LCU        BOTHSEX   \n",
      "\n",
      "   dimensions.Type of occupation dimensions.Reporting Type  \n",
      "48                      isco88-7                         G  \n",
      "\n",
      " The shape of the subset is: (19, 32)\n",
      "The distribution of the raw data values this subgroup contains outliers or is too skewed on the upper end. The maximum value to be used for the normalisation is: 3rd quartile or distribution + 1.5 * IQR. It is: 27.355 \n",
      " See histogram printed below for info. \n",
      "\n",
      "The distribution of the raw data for this subgroup does not contain outliers or is too skewed on the lower end. The minimum value used for the normalisation is the minimum value in the dataset, which is 2.2. This value corresponds to country: 1031    Latvia\n",
      "Name: COUNTRY_NAME, dtype: object \n",
      "\n",
      "\n",
      " This is the distribution of the raw data of the indicator.\n",
      "AxesSubplot(0.125,0.125;0.775x0.755)\n"
     ]
    },
    {
     "name": "stderr",
     "output_type": "stream",
     "text": [
      "D:\\Documents\\2020\\28_UNICEF\\10_working_repo\\data-etl\\normalize\\scaler.py:233: SettingWithCopyWarning: \n",
      "A value is trying to be set on a copy of a slice from a DataFrame.\n",
      "Try using .loc[row_indexer,col_indexer] = value instead\n",
      "\n",
      "See the caveats in the documentation: https://pandas.pydata.org/pandas-docs/stable/user_guide/indexing.html#returning-a-view-versus-a-copy\n",
      "  cleansed_data_subset['SCALED'] = round(10 * (cleansed_data_subset[indicator_raw_value].astype('float') - min_val)/ tot_range, 2)\n"
     ]
    },
    {
     "name": "stdout",
     "output_type": "stream",
     "text": [
      "In the loop we are currently dealing with the subset #50, which has these defining values:      goal   target  indicator        series  \\\n",
      "49  ['8']  ['8.5']  ['8.5.1']  SL_EMP_AEARN   \n",
      "\n",
      "                                    seriesDescription seriesCount valueType  \\\n",
      "49  Average hourly earnings of employees by sex an...        5776     Float   \n",
      "\n",
      "   time_detail timeCoverage upperBound lowerBound basePeriod geoInfoUrl  \\\n",
      "49        None         None       None       None       None       None   \n",
      "\n",
      "   attributes.Nature attributes.Units dimensions.Sex  \\\n",
      "49                 C          CUR_LCU           MALE   \n",
      "\n",
      "   dimensions.Type of occupation dimensions.Reporting Type  \n",
      "49                      isco88-8                         G  \n",
      "\n",
      " The shape of the subset is: (18, 32)\n",
      "The distribution of the raw data for this subgroup does not contain outliers or is too skewed on the upper end. The maximum value used for the normalisation is the maximum value in the dataset, which is 16.81. This value corresponds to country: 860    Ireland\n",
      "Name: COUNTRY_NAME, dtype: object \n",
      "\n",
      "The distribution of the raw data for this subgroup does not contain outliers or is too skewed on the lower end. The minimum value used for the normalisation is the minimum value in the dataset, which is 2.21. This value corresponds to country: 1028        Latvia\n",
      "1325    Montenegro\n",
      "Name: COUNTRY_NAME, dtype: object \n",
      "\n"
     ]
    },
    {
     "name": "stderr",
     "output_type": "stream",
     "text": [
      "D:\\Documents\\2020\\28_UNICEF\\10_working_repo\\data-etl\\normalize\\scaler.py:233: SettingWithCopyWarning: \n",
      "A value is trying to be set on a copy of a slice from a DataFrame.\n",
      "Try using .loc[row_indexer,col_indexer] = value instead\n",
      "\n",
      "See the caveats in the documentation: https://pandas.pydata.org/pandas-docs/stable/user_guide/indexing.html#returning-a-view-versus-a-copy\n",
      "  cleansed_data_subset['SCALED'] = round(10 * (cleansed_data_subset[indicator_raw_value].astype('float') - min_val)/ tot_range, 2)\n"
     ]
    },
    {
     "name": "stdout",
     "output_type": "stream",
     "text": [
      "In the loop we are currently dealing with the subset #51, which has these defining values:      goal   target  indicator        series  \\\n",
      "42  ['8']  ['8.5']  ['8.5.1']  SL_EMP_AEARN   \n",
      "\n",
      "                                    seriesDescription seriesCount valueType  \\\n",
      "42  Average hourly earnings of employees by sex an...        5776     Float   \n",
      "\n",
      "   time_detail timeCoverage upperBound lowerBound basePeriod geoInfoUrl  \\\n",
      "42        None         None       None       None       None       None   \n",
      "\n",
      "   attributes.Nature attributes.Units dimensions.Sex  \\\n",
      "42                 C          CUR_LCU           MALE   \n",
      "\n",
      "   dimensions.Type of occupation dimensions.Reporting Type  \n",
      "42                      isco88-4                         G  \n",
      "\n",
      " The shape of the subset is: (18, 32)\n",
      "The distribution of the raw data for this subgroup does not contain outliers or is too skewed on the upper end. The maximum value used for the normalisation is the maximum value in the dataset, which is 19.51. This value corresponds to country: 684    Germany\n",
      "Name: COUNTRY_NAME, dtype: object \n",
      "\n",
      "The distribution of the raw data for this subgroup does not contain outliers or is too skewed on the lower end. The minimum value used for the normalisation is the minimum value in the dataset, which is 2.55. This value corresponds to country: 1086    Lithuania\n",
      "1056       Latvia\n",
      "Name: COUNTRY_NAME, dtype: object \n",
      "\n"
     ]
    },
    {
     "name": "stderr",
     "output_type": "stream",
     "text": [
      "D:\\Documents\\2020\\28_UNICEF\\10_working_repo\\data-etl\\normalize\\scaler.py:233: SettingWithCopyWarning: \n",
      "A value is trying to be set on a copy of a slice from a DataFrame.\n",
      "Try using .loc[row_indexer,col_indexer] = value instead\n",
      "\n",
      "See the caveats in the documentation: https://pandas.pydata.org/pandas-docs/stable/user_guide/indexing.html#returning-a-view-versus-a-copy\n",
      "  cleansed_data_subset['SCALED'] = round(10 * (cleansed_data_subset[indicator_raw_value].astype('float') - min_val)/ tot_range, 2)\n"
     ]
    },
    {
     "name": "stdout",
     "output_type": "stream",
     "text": [
      "In the loop we are currently dealing with the subset #52, which has these defining values:      goal   target  indicator        series  \\\n",
      "51  ['8']  ['8.5']  ['8.5.1']  SL_EMP_AEARN   \n",
      "\n",
      "                                    seriesDescription seriesCount valueType  \\\n",
      "51  Average hourly earnings of employees by sex an...        5776     Float   \n",
      "\n",
      "   time_detail timeCoverage upperBound lowerBound basePeriod geoInfoUrl  \\\n",
      "51        None         None       None       None       None       None   \n",
      "\n",
      "   attributes.Nature attributes.Units dimensions.Sex  \\\n",
      "51                 C          CUR_LCU        BOTHSEX   \n",
      "\n",
      "   dimensions.Type of occupation dimensions.Reporting Type  \n",
      "51                        isco88                         G  \n",
      "\n",
      " The shape of the subset is: (19, 32)\n",
      "The distribution of the raw data values this subgroup contains outliers or is too skewed on the upper end. The maximum value to be used for the normalisation is: 3rd quartile or distribution + 1.5 * IQR. It is: 28.875000000000004 \n",
      " See histogram printed below for info. \n",
      "\n",
      "The distribution of the raw data for this subgroup does not contain outliers or is too skewed on the lower end. The minimum value used for the normalisation is the minimum value in the dataset, which is 2.64. This value corresponds to country: 222     Bulgaria\n",
      "1014      Latvia\n",
      "Name: COUNTRY_NAME, dtype: object \n",
      "\n",
      "\n",
      " This is the distribution of the raw data of the indicator.\n",
      "AxesSubplot(0.125,0.125;0.775x0.755)\n"
     ]
    },
    {
     "name": "stderr",
     "output_type": "stream",
     "text": [
      "D:\\Documents\\2020\\28_UNICEF\\10_working_repo\\data-etl\\normalize\\scaler.py:233: SettingWithCopyWarning: \n",
      "A value is trying to be set on a copy of a slice from a DataFrame.\n",
      "Try using .loc[row_indexer,col_indexer] = value instead\n",
      "\n",
      "See the caveats in the documentation: https://pandas.pydata.org/pandas-docs/stable/user_guide/indexing.html#returning-a-view-versus-a-copy\n",
      "  cleansed_data_subset['SCALED'] = round(10 * (cleansed_data_subset[indicator_raw_value].astype('float') - min_val)/ tot_range, 2)\n"
     ]
    },
    {
     "name": "stdout",
     "output_type": "stream",
     "text": [
      "In the loop we are currently dealing with the subset #53, which has these defining values:      goal   target  indicator        series  \\\n",
      "50  ['8']  ['8.5']  ['8.5.1']  SL_EMP_AEARN   \n",
      "\n",
      "                                    seriesDescription seriesCount valueType  \\\n",
      "50  Average hourly earnings of employees by sex an...        5776     Float   \n",
      "\n",
      "   time_detail timeCoverage upperBound lowerBound basePeriod geoInfoUrl  \\\n",
      "50        None         None       None       None       None       None   \n",
      "\n",
      "   attributes.Nature attributes.Units dimensions.Sex  \\\n",
      "50                 C          CUR_LCU        BOTHSEX   \n",
      "\n",
      "   dimensions.Type of occupation dimensions.Reporting Type  \n",
      "50                      isco88-2                         G  \n",
      "\n",
      " The shape of the subset is: (19, 32)\n",
      "The distribution of the raw data values this subgroup contains outliers or is too skewed on the upper end. The maximum value to be used for the normalisation is: 3rd quartile or distribution + 1.5 * IQR. It is: 40.9225 \n",
      " See histogram printed below for info. \n",
      "\n",
      "The distribution of the raw data for this subgroup does not contain outliers or is too skewed on the lower end. The minimum value used for the normalisation is the minimum value in the dataset, which is 3.52. This value corresponds to country: 1074    Lithuania\n",
      "1581     Portugal\n",
      "Name: COUNTRY_NAME, dtype: object \n",
      "\n",
      "\n",
      " This is the distribution of the raw data of the indicator.\n",
      "AxesSubplot(0.125,0.125;0.775x0.755)\n"
     ]
    },
    {
     "name": "stderr",
     "output_type": "stream",
     "text": [
      "D:\\Documents\\2020\\28_UNICEF\\10_working_repo\\data-etl\\normalize\\scaler.py:233: SettingWithCopyWarning: \n",
      "A value is trying to be set on a copy of a slice from a DataFrame.\n",
      "Try using .loc[row_indexer,col_indexer] = value instead\n",
      "\n",
      "See the caveats in the documentation: https://pandas.pydata.org/pandas-docs/stable/user_guide/indexing.html#returning-a-view-versus-a-copy\n",
      "  cleansed_data_subset['SCALED'] = round(10 * (cleansed_data_subset[indicator_raw_value].astype('float') - min_val)/ tot_range, 2)\n"
     ]
    },
    {
     "name": "stdout",
     "output_type": "stream",
     "text": [
      "In the loop we are currently dealing with the subset #54, which has these defining values:      goal   target  indicator        series  \\\n",
      "62  ['8']  ['8.5']  ['8.5.1']  SL_EMP_AEARN   \n",
      "\n",
      "                                    seriesDescription seriesCount valueType  \\\n",
      "62  Average hourly earnings of employees by sex an...        5776     Float   \n",
      "\n",
      "   time_detail timeCoverage upperBound lowerBound basePeriod geoInfoUrl  \\\n",
      "62        None         None       None       None       None       None   \n",
      "\n",
      "   attributes.Nature attributes.Units dimensions.Sex  \\\n",
      "62                 C          CUR_LCU         FEMALE   \n",
      "\n",
      "   dimensions.Type of occupation dimensions.Reporting Type  \n",
      "62                      isco88-3                         G  \n",
      "\n",
      " The shape of the subset is: (18, 32)\n",
      "The distribution of the raw data for this subgroup does not contain outliers or is too skewed on the upper end. The maximum value used for the normalisation is the maximum value in the dataset, which is 24.0. This value corresponds to country: 1894         Spain\n",
      "1142    Luxembourg\n",
      "Name: COUNTRY_NAME, dtype: object \n",
      "\n",
      "The distribution of the raw data for this subgroup does not contain outliers or is too skewed on the lower end. The minimum value used for the normalisation is the minimum value in the dataset, which is 2.47. This value corresponds to country: 1097    Lithuania\n",
      "Name: COUNTRY_NAME, dtype: object \n",
      "\n"
     ]
    },
    {
     "name": "stderr",
     "output_type": "stream",
     "text": [
      "D:\\Documents\\2020\\28_UNICEF\\10_working_repo\\data-etl\\normalize\\scaler.py:233: SettingWithCopyWarning: \n",
      "A value is trying to be set on a copy of a slice from a DataFrame.\n",
      "Try using .loc[row_indexer,col_indexer] = value instead\n",
      "\n",
      "See the caveats in the documentation: https://pandas.pydata.org/pandas-docs/stable/user_guide/indexing.html#returning-a-view-versus-a-copy\n",
      "  cleansed_data_subset['SCALED'] = round(10 * (cleansed_data_subset[indicator_raw_value].astype('float') - min_val)/ tot_range, 2)\n"
     ]
    },
    {
     "name": "stdout",
     "output_type": "stream",
     "text": [
      "In the loop we are currently dealing with the subset #55, which has these defining values:      goal   target  indicator        series  \\\n",
      "59  ['8']  ['8.5']  ['8.5.1']  SL_EMP_AEARN   \n",
      "\n",
      "                                    seriesDescription seriesCount valueType  \\\n",
      "59  Average hourly earnings of employees by sex an...        5776     Float   \n",
      "\n",
      "   time_detail timeCoverage upperBound lowerBound basePeriod geoInfoUrl  \\\n",
      "59        None         None       None       None       None       None   \n",
      "\n",
      "   attributes.Nature attributes.Units dimensions.Sex  \\\n",
      "59                 C          CUR_LCU         FEMALE   \n",
      "\n",
      "   dimensions.Type of occupation dimensions.Reporting Type  \n",
      "59                        isco88                         G  \n",
      "\n",
      " The shape of the subset is: (18, 32)\n",
      "The distribution of the raw data for this subgroup does not contain outliers or is too skewed on the upper end. The maximum value used for the normalisation is the maximum value in the dataset, which is 18.89. This value corresponds to country: 859    Ireland\n",
      "Name: COUNTRY_NAME, dtype: object \n",
      "\n",
      "The distribution of the raw data for this subgroup does not contain outliers or is too skewed on the lower end. The minimum value used for the normalisation is the minimum value in the dataset, which is 2.45. This value corresponds to country: 1026    Latvia\n",
      "Name: COUNTRY_NAME, dtype: object \n",
      "\n"
     ]
    },
    {
     "name": "stderr",
     "output_type": "stream",
     "text": [
      "D:\\Documents\\2020\\28_UNICEF\\10_working_repo\\data-etl\\normalize\\scaler.py:233: SettingWithCopyWarning: \n",
      "A value is trying to be set on a copy of a slice from a DataFrame.\n",
      "Try using .loc[row_indexer,col_indexer] = value instead\n",
      "\n",
      "See the caveats in the documentation: https://pandas.pydata.org/pandas-docs/stable/user_guide/indexing.html#returning-a-view-versus-a-copy\n",
      "  cleansed_data_subset['SCALED'] = round(10 * (cleansed_data_subset[indicator_raw_value].astype('float') - min_val)/ tot_range, 2)\n"
     ]
    },
    {
     "name": "stdout",
     "output_type": "stream",
     "text": [
      "In the loop we are currently dealing with the subset #56, which has these defining values:      goal   target  indicator        series  \\\n",
      "58  ['8']  ['8.5']  ['8.5.1']  SL_EMP_AEARN   \n",
      "\n",
      "                                    seriesDescription seriesCount valueType  \\\n",
      "58  Average hourly earnings of employees by sex an...        5776     Float   \n",
      "\n",
      "   time_detail timeCoverage upperBound lowerBound basePeriod geoInfoUrl  \\\n",
      "58        None         None       None       None       None       None   \n",
      "\n",
      "   attributes.Nature attributes.Units dimensions.Sex  \\\n",
      "58                 C          CUR_LCU           MALE   \n",
      "\n",
      "   dimensions.Type of occupation dimensions.Reporting Type  \n",
      "58                      isco88-9                         G  \n",
      "\n",
      " The shape of the subset is: (18, 32)\n",
      "The distribution of the raw data for this subgroup does not contain outliers or is too skewed on the upper end. The maximum value used for the normalisation is the maximum value in the dataset, which is 15.4. This value corresponds to country: 140    Belgium\n",
      "853    Ireland\n",
      "Name: COUNTRY_NAME, dtype: object \n",
      "\n",
      "The distribution of the raw data for this subgroup does not contain outliers or is too skewed on the lower end. The minimum value used for the normalisation is the minimum value in the dataset, which is 1.8. This value corresponds to country: 1102    Lithuania\n",
      "Name: COUNTRY_NAME, dtype: object \n",
      "\n"
     ]
    },
    {
     "name": "stderr",
     "output_type": "stream",
     "text": [
      "D:\\Documents\\2020\\28_UNICEF\\10_working_repo\\data-etl\\normalize\\scaler.py:233: SettingWithCopyWarning: \n",
      "A value is trying to be set on a copy of a slice from a DataFrame.\n",
      "Try using .loc[row_indexer,col_indexer] = value instead\n",
      "\n",
      "See the caveats in the documentation: https://pandas.pydata.org/pandas-docs/stable/user_guide/indexing.html#returning-a-view-versus-a-copy\n",
      "  cleansed_data_subset['SCALED'] = round(10 * (cleansed_data_subset[indicator_raw_value].astype('float') - min_val)/ tot_range, 2)\n"
     ]
    },
    {
     "name": "stdout",
     "output_type": "stream",
     "text": [
      "In the loop we are currently dealing with the subset #57, which has these defining values:      goal   target  indicator        series  \\\n",
      "60  ['8']  ['8.5']  ['8.5.1']  SL_EMP_AEARN   \n",
      "\n",
      "                                    seriesDescription seriesCount valueType  \\\n",
      "60  Average hourly earnings of employees by sex an...        5776     Float   \n",
      "\n",
      "   time_detail timeCoverage upperBound lowerBound basePeriod geoInfoUrl  \\\n",
      "60        None         None       None       None       None       None   \n",
      "\n",
      "   attributes.Nature attributes.Units dimensions.Sex  \\\n",
      "60                 C          CUR_LCU         FEMALE   \n",
      "\n",
      "   dimensions.Type of occupation dimensions.Reporting Type  \n",
      "60                      isco88-1                         G  \n",
      "\n",
      " The shape of the subset is: (18, 32)\n",
      "The distribution of the raw data values this subgroup contains outliers or is too skewed on the upper end. The maximum value to be used for the normalisation is: 3rd quartile or distribution + 1.5 * IQR. It is: 35.16125 \n",
      " See histogram printed below for info. \n",
      "\n",
      "The distribution of the raw data values for this subgroup contains outliers or is too skewed on the lower end. The minimum value to be used for the normalisation is 1st quartile or distribution - 1.5 * IQR. It is: 4.071249999999999 \n",
      " See histogram printed below for info. \n",
      "\n",
      "\n",
      " This is the distribution of the raw data of the indicator.\n",
      "AxesSubplot(0.125,0.125;0.775x0.755)\n"
     ]
    },
    {
     "name": "stderr",
     "output_type": "stream",
     "text": [
      "D:\\Documents\\2020\\28_UNICEF\\10_working_repo\\data-etl\\normalize\\scaler.py:233: SettingWithCopyWarning: \n",
      "A value is trying to be set on a copy of a slice from a DataFrame.\n",
      "Try using .loc[row_indexer,col_indexer] = value instead\n",
      "\n",
      "See the caveats in the documentation: https://pandas.pydata.org/pandas-docs/stable/user_guide/indexing.html#returning-a-view-versus-a-copy\n",
      "  cleansed_data_subset['SCALED'] = round(10 * (cleansed_data_subset[indicator_raw_value].astype('float') - min_val)/ tot_range, 2)\n"
     ]
    },
    {
     "name": "stdout",
     "output_type": "stream",
     "text": [
      "In the loop we are currently dealing with the subset #58, which has these defining values:      goal   target  indicator        series  \\\n",
      "53  ['8']  ['8.5']  ['8.5.1']  SL_EMP_AEARN   \n",
      "\n",
      "                                    seriesDescription seriesCount valueType  \\\n",
      "53  Average hourly earnings of employees by sex an...        5776     Float   \n",
      "\n",
      "   time_detail timeCoverage upperBound lowerBound basePeriod geoInfoUrl  \\\n",
      "53        None         None       None       None       None       None   \n",
      "\n",
      "   attributes.Nature attributes.Units dimensions.Sex  \\\n",
      "53                 C          CUR_LCU         FEMALE   \n",
      "\n",
      "   dimensions.Type of occupation dimensions.Reporting Type  \n",
      "53                      isco88-9                         G  \n",
      "\n",
      " The shape of the subset is: (18, 32)\n",
      "The distribution of the raw data for this subgroup does not contain outliers or is too skewed on the upper end. The maximum value used for the normalisation is the maximum value in the dataset, which is 12.43. This value corresponds to country: 544    Finland\n",
      "877    Ireland\n",
      "Name: COUNTRY_NAME, dtype: object \n",
      "\n",
      "The distribution of the raw data for this subgroup does not contain outliers or is too skewed on the lower end. The minimum value used for the normalisation is the minimum value in the dataset, which is 1.3. This value corresponds to country: 1021    Latvia\n",
      "Name: COUNTRY_NAME, dtype: object \n",
      "\n"
     ]
    },
    {
     "name": "stderr",
     "output_type": "stream",
     "text": [
      "D:\\Documents\\2020\\28_UNICEF\\10_working_repo\\data-etl\\normalize\\scaler.py:233: SettingWithCopyWarning: \n",
      "A value is trying to be set on a copy of a slice from a DataFrame.\n",
      "Try using .loc[row_indexer,col_indexer] = value instead\n",
      "\n",
      "See the caveats in the documentation: https://pandas.pydata.org/pandas-docs/stable/user_guide/indexing.html#returning-a-view-versus-a-copy\n",
      "  cleansed_data_subset['SCALED'] = round(10 * (cleansed_data_subset[indicator_raw_value].astype('float') - min_val)/ tot_range, 2)\n"
     ]
    },
    {
     "name": "stdout",
     "output_type": "stream",
     "text": [
      "In the loop we are currently dealing with the subset #59, which has these defining values:      goal   target  indicator        series  \\\n",
      "52  ['8']  ['8.5']  ['8.5.1']  SL_EMP_AEARN   \n",
      "\n",
      "                                    seriesDescription seriesCount valueType  \\\n",
      "52  Average hourly earnings of employees by sex an...        5776     Float   \n",
      "\n",
      "   time_detail timeCoverage upperBound lowerBound basePeriod geoInfoUrl  \\\n",
      "52        None         None       None       None       None       None   \n",
      "\n",
      "   attributes.Nature attributes.Units dimensions.Sex  \\\n",
      "52                 C          CUR_LCU        BOTHSEX   \n",
      "\n",
      "   dimensions.Type of occupation dimensions.Reporting Type  \n",
      "52                      isco88-1                         G  \n",
      "\n",
      " The shape of the subset is: (19, 32)\n",
      "The distribution of the raw data values this subgroup contains outliers or is too skewed on the upper end. The maximum value to be used for the normalisation is: 3rd quartile or distribution + 1.5 * IQR. It is: 53.91000000000001 \n",
      " See histogram printed below for info. \n",
      "\n",
      "The distribution of the raw data for this subgroup does not contain outliers or is too skewed on the lower end. The minimum value used for the normalisation is the minimum value in the dataset, which is 4.72. This value corresponds to country: 1015    Latvia\n",
      "Name: COUNTRY_NAME, dtype: object \n",
      "\n",
      "\n",
      " This is the distribution of the raw data of the indicator.\n",
      "AxesSubplot(0.125,0.125;0.775x0.755)\n"
     ]
    },
    {
     "name": "stderr",
     "output_type": "stream",
     "text": [
      "D:\\Documents\\2020\\28_UNICEF\\10_working_repo\\data-etl\\normalize\\scaler.py:233: SettingWithCopyWarning: \n",
      "A value is trying to be set on a copy of a slice from a DataFrame.\n",
      "Try using .loc[row_indexer,col_indexer] = value instead\n",
      "\n",
      "See the caveats in the documentation: https://pandas.pydata.org/pandas-docs/stable/user_guide/indexing.html#returning-a-view-versus-a-copy\n",
      "  cleansed_data_subset['SCALED'] = round(10 * (cleansed_data_subset[indicator_raw_value].astype('float') - min_val)/ tot_range, 2)\n"
     ]
    },
    {
     "name": "stdout",
     "output_type": "stream",
     "text": [
      "In the loop we are currently dealing with the subset #60, which has these defining values:      goal   target  indicator        series  \\\n",
      "57  ['8']  ['8.5']  ['8.5.1']  SL_EMP_AEARN   \n",
      "\n",
      "                                    seriesDescription seriesCount valueType  \\\n",
      "57  Average hourly earnings of employees by sex an...        5776     Float   \n",
      "\n",
      "   time_detail timeCoverage upperBound lowerBound basePeriod geoInfoUrl  \\\n",
      "57        None         None       None       None       None       None   \n",
      "\n",
      "   attributes.Nature attributes.Units dimensions.Sex  \\\n",
      "57                 C          CUR_LCU         FEMALE   \n",
      "\n",
      "   dimensions.Type of occupation dimensions.Reporting Type  \n",
      "57                      isco88-4                         G  \n",
      "\n",
      " The shape of the subset is: (18, 32)\n",
      "The distribution of the raw data for this subgroup does not contain outliers or is too skewed on the upper end. The maximum value used for the normalisation is the maximum value in the dataset, which is 16.46. This value corresponds to country: 1145    Luxembourg\n",
      "1207      Malaysia\n",
      "Name: COUNTRY_NAME, dtype: object \n",
      "\n",
      "The distribution of the raw data for this subgroup does not contain outliers or is too skewed on the lower end. The minimum value used for the normalisation is the minimum value in the dataset, which is 2.06. This value corresponds to country: 1094    Lithuania\n",
      "Name: COUNTRY_NAME, dtype: object \n",
      "\n"
     ]
    },
    {
     "name": "stderr",
     "output_type": "stream",
     "text": [
      "D:\\Documents\\2020\\28_UNICEF\\10_working_repo\\data-etl\\normalize\\scaler.py:233: SettingWithCopyWarning: \n",
      "A value is trying to be set on a copy of a slice from a DataFrame.\n",
      "Try using .loc[row_indexer,col_indexer] = value instead\n",
      "\n",
      "See the caveats in the documentation: https://pandas.pydata.org/pandas-docs/stable/user_guide/indexing.html#returning-a-view-versus-a-copy\n",
      "  cleansed_data_subset['SCALED'] = round(10 * (cleansed_data_subset[indicator_raw_value].astype('float') - min_val)/ tot_range, 2)\n"
     ]
    },
    {
     "name": "stdout",
     "output_type": "stream",
     "text": [
      "In the loop we are currently dealing with the subset #61, which has these defining values:      goal   target  indicator        series  \\\n",
      "56  ['8']  ['8.5']  ['8.5.1']  SL_EMP_AEARN   \n",
      "\n",
      "                                    seriesDescription seriesCount valueType  \\\n",
      "56  Average hourly earnings of employees by sex an...        5776     Float   \n",
      "\n",
      "   time_detail timeCoverage upperBound lowerBound basePeriod geoInfoUrl  \\\n",
      "56        None         None       None       None       None       None   \n",
      "\n",
      "   attributes.Nature attributes.Units dimensions.Sex  \\\n",
      "56                 C          CUR_LCU         FEMALE   \n",
      "\n",
      "   dimensions.Type of occupation dimensions.Reporting Type  \n",
      "56                      isco88-8                         G  \n",
      "\n",
      " The shape of the subset is: (18, 32)\n",
      "The distribution of the raw data for this subgroup does not contain outliers or is too skewed on the upper end. The maximum value used for the normalisation is the maximum value in the dataset, which is 13.24. This value corresponds to country: 876    Ireland\n",
      "Name: COUNTRY_NAME, dtype: object \n",
      "\n",
      "The distribution of the raw data for this subgroup does not contain outliers or is too skewed on the lower end. The minimum value used for the normalisation is the minimum value in the dataset, which is 2.0. This value corresponds to country: 1010         Latvia\n",
      "465     El Salvador\n",
      "Name: COUNTRY_NAME, dtype: object \n",
      "\n"
     ]
    },
    {
     "name": "stderr",
     "output_type": "stream",
     "text": [
      "D:\\Documents\\2020\\28_UNICEF\\10_working_repo\\data-etl\\normalize\\scaler.py:233: SettingWithCopyWarning: \n",
      "A value is trying to be set on a copy of a slice from a DataFrame.\n",
      "Try using .loc[row_indexer,col_indexer] = value instead\n",
      "\n",
      "See the caveats in the documentation: https://pandas.pydata.org/pandas-docs/stable/user_guide/indexing.html#returning-a-view-versus-a-copy\n",
      "  cleansed_data_subset['SCALED'] = round(10 * (cleansed_data_subset[indicator_raw_value].astype('float') - min_val)/ tot_range, 2)\n"
     ]
    },
    {
     "name": "stdout",
     "output_type": "stream",
     "text": [
      "In the loop we are currently dealing with the subset #62, which has these defining values:      goal   target  indicator        series  \\\n",
      "54  ['8']  ['8.5']  ['8.5.1']  SL_EMP_AEARN   \n",
      "\n",
      "                                    seriesDescription seriesCount valueType  \\\n",
      "54  Average hourly earnings of employees by sex an...        5776     Float   \n",
      "\n",
      "   time_detail timeCoverage upperBound lowerBound basePeriod geoInfoUrl  \\\n",
      "54        None         None       None       None       None       None   \n",
      "\n",
      "   attributes.Nature attributes.Units dimensions.Sex  \\\n",
      "54                 C          CUR_LCU         FEMALE   \n",
      "\n",
      "   dimensions.Type of occupation dimensions.Reporting Type  \n",
      "54                      isco88-5                         G  \n",
      "\n",
      " The shape of the subset is: (18, 32)\n",
      "The distribution of the raw data for this subgroup does not contain outliers or is too skewed on the upper end. The maximum value used for the normalisation is the maximum value in the dataset, which is 12.25. This value corresponds to country: 598          France\n",
      "879         Ireland\n",
      "1348    Netherlands\n",
      "Name: COUNTRY_NAME, dtype: object \n",
      "\n",
      "The distribution of the raw data for this subgroup does not contain outliers or is too skewed on the lower end. The minimum value used for the normalisation is the minimum value in the dataset, which is 1.51. This value corresponds to country: 1019    Latvia\n",
      "Name: COUNTRY_NAME, dtype: object \n",
      "\n"
     ]
    },
    {
     "name": "stderr",
     "output_type": "stream",
     "text": [
      "D:\\Documents\\2020\\28_UNICEF\\10_working_repo\\data-etl\\normalize\\scaler.py:233: SettingWithCopyWarning: \n",
      "A value is trying to be set on a copy of a slice from a DataFrame.\n",
      "Try using .loc[row_indexer,col_indexer] = value instead\n",
      "\n",
      "See the caveats in the documentation: https://pandas.pydata.org/pandas-docs/stable/user_guide/indexing.html#returning-a-view-versus-a-copy\n",
      "  cleansed_data_subset['SCALED'] = round(10 * (cleansed_data_subset[indicator_raw_value].astype('float') - min_val)/ tot_range, 2)\n"
     ]
    },
    {
     "name": "stdout",
     "output_type": "stream",
     "text": [
      "In the loop we are currently dealing with the subset #63, which has these defining values:      goal   target  indicator        series  \\\n",
      "55  ['8']  ['8.5']  ['8.5.1']  SL_EMP_AEARN   \n",
      "\n",
      "                                    seriesDescription seriesCount valueType  \\\n",
      "55  Average hourly earnings of employees by sex an...        5776     Float   \n",
      "\n",
      "   time_detail timeCoverage upperBound lowerBound basePeriod geoInfoUrl  \\\n",
      "55        None         None       None       None       None       None   \n",
      "\n",
      "   attributes.Nature attributes.Units dimensions.Sex  \\\n",
      "55                 C          CUR_LCU         FEMALE   \n",
      "\n",
      "   dimensions.Type of occupation dimensions.Reporting Type  \n",
      "55                      isco88-7                         G  \n",
      "\n",
      " The shape of the subset is: (18, 32)\n",
      "The distribution of the raw data for this subgroup does not contain outliers or is too skewed on the upper end. The maximum value used for the normalisation is the maximum value in the dataset, which is 14.86. This value corresponds to country: 875    Ireland\n",
      "Name: COUNTRY_NAME, dtype: object \n",
      "\n",
      "The distribution of the raw data for this subgroup does not contain outliers or is too skewed on the lower end. The minimum value used for the normalisation is the minimum value in the dataset, which is 1.74. This value corresponds to country: 1011    Latvia\n",
      "Name: COUNTRY_NAME, dtype: object \n",
      "\n"
     ]
    },
    {
     "name": "stderr",
     "output_type": "stream",
     "text": [
      "D:\\Documents\\2020\\28_UNICEF\\10_working_repo\\data-etl\\normalize\\scaler.py:233: SettingWithCopyWarning: \n",
      "A value is trying to be set on a copy of a slice from a DataFrame.\n",
      "Try using .loc[row_indexer,col_indexer] = value instead\n",
      "\n",
      "See the caveats in the documentation: https://pandas.pydata.org/pandas-docs/stable/user_guide/indexing.html#returning-a-view-versus-a-copy\n",
      "  cleansed_data_subset['SCALED'] = round(10 * (cleansed_data_subset[indicator_raw_value].astype('float') - min_val)/ tot_range, 2)\n"
     ]
    },
    {
     "name": "stdout",
     "output_type": "stream",
     "text": [
      "In the loop we are currently dealing with the subset #64, which has these defining values:      goal   target  indicator        series  \\\n",
      "91  ['8']  ['8.5']  ['8.5.1']  SL_EMP_AEARN   \n",
      "\n",
      "                                    seriesDescription seriesCount valueType  \\\n",
      "91  Average hourly earnings of employees by sex an...        5776     Float   \n",
      "\n",
      "   time_detail timeCoverage upperBound lowerBound basePeriod geoInfoUrl  \\\n",
      "91        None         None       None       None       None       None   \n",
      "\n",
      "   attributes.Nature attributes.Units dimensions.Sex  \\\n",
      "91                 C          CUR_LCU         FEMALE   \n",
      "\n",
      "   dimensions.Type of occupation dimensions.Reporting Type  \n",
      "91                      isco88-X                         G  \n",
      "\n",
      " The shape of the subset is: (15, 32)\n",
      "The distribution of the raw data for this subgroup does not contain outliers or is too skewed on the upper end. The maximum value used for the normalisation is the maximum value in the dataset, which is 9.83. This value corresponds to country: 91          Belgium\n",
      "1355    Netherlands\n",
      "Name: COUNTRY_NAME, dtype: object \n",
      "\n",
      "The distribution of the raw data for this subgroup does not contain outliers or is too skewed on the lower end. The minimum value used for the normalisation is the minimum value in the dataset, which is 0.9. This value corresponds to country: 468    Estonia\n",
      "Name: COUNTRY_NAME, dtype: object \n",
      "\n"
     ]
    },
    {
     "name": "stderr",
     "output_type": "stream",
     "text": [
      "D:\\Documents\\2020\\28_UNICEF\\10_working_repo\\data-etl\\normalize\\scaler.py:233: SettingWithCopyWarning: \n",
      "A value is trying to be set on a copy of a slice from a DataFrame.\n",
      "Try using .loc[row_indexer,col_indexer] = value instead\n",
      "\n",
      "See the caveats in the documentation: https://pandas.pydata.org/pandas-docs/stable/user_guide/indexing.html#returning-a-view-versus-a-copy\n",
      "  cleansed_data_subset['SCALED'] = round(10 * (cleansed_data_subset[indicator_raw_value].astype('float') - min_val)/ tot_range, 2)\n"
     ]
    },
    {
     "name": "stdout",
     "output_type": "stream",
     "text": [
      "In the loop we are currently dealing with the subset #65, which has these defining values:      goal   target  indicator        series  \\\n",
      "90  ['8']  ['8.5']  ['8.5.1']  SL_EMP_AEARN   \n",
      "\n",
      "                                    seriesDescription seriesCount valueType  \\\n",
      "90  Average hourly earnings of employees by sex an...        5776     Float   \n",
      "\n",
      "   time_detail timeCoverage upperBound lowerBound basePeriod geoInfoUrl  \\\n",
      "90        None         None       None       None       None       None   \n",
      "\n",
      "   attributes.Nature attributes.Units dimensions.Sex  \\\n",
      "90                 C          CUR_LCU        BOTHSEX   \n",
      "\n",
      "   dimensions.Type of occupation dimensions.Reporting Type  \n",
      "90                      isco88-X                         G  \n",
      "\n",
      " The shape of the subset is: (16, 32)\n",
      "The distribution of the raw data for this subgroup does not contain outliers or is too skewed on the upper end. The maximum value used for the normalisation is the maximum value in the dataset, which is 13.16. This value corresponds to country: 717    Germany\n",
      "848    Ireland\n",
      "971      Italy\n",
      "Name: COUNTRY_NAME, dtype: object \n",
      "\n",
      "The distribution of the raw data for this subgroup does not contain outliers or is too skewed on the lower end. The minimum value used for the normalisation is the minimum value in the dataset, which is 0.98. This value corresponds to country: 1007    Latvia\n",
      "Name: COUNTRY_NAME, dtype: object \n",
      "\n"
     ]
    },
    {
     "name": "stderr",
     "output_type": "stream",
     "text": [
      "D:\\Documents\\2020\\28_UNICEF\\10_working_repo\\data-etl\\normalize\\scaler.py:233: SettingWithCopyWarning: \n",
      "A value is trying to be set on a copy of a slice from a DataFrame.\n",
      "Try using .loc[row_indexer,col_indexer] = value instead\n",
      "\n",
      "See the caveats in the documentation: https://pandas.pydata.org/pandas-docs/stable/user_guide/indexing.html#returning-a-view-versus-a-copy\n",
      "  cleansed_data_subset['SCALED'] = round(10 * (cleansed_data_subset[indicator_raw_value].astype('float') - min_val)/ tot_range, 2)\n"
     ]
    },
    {
     "name": "stdout",
     "output_type": "stream",
     "text": [
      "In the loop we are currently dealing with the subset #66, which has these defining values:      goal   target  indicator        series  \\\n",
      "92  ['8']  ['8.5']  ['8.5.1']  SL_EMP_AEARN   \n",
      "\n",
      "                                    seriesDescription seriesCount valueType  \\\n",
      "92  Average hourly earnings of employees by sex an...        5776     Float   \n",
      "\n",
      "   time_detail timeCoverage upperBound lowerBound basePeriod geoInfoUrl  \\\n",
      "92        None         None       None       None       None       None   \n",
      "\n",
      "   attributes.Nature attributes.Units dimensions.Sex  \\\n",
      "92                 C          CUR_LCU           MALE   \n",
      "\n",
      "   dimensions.Type of occupation dimensions.Reporting Type  \n",
      "92                      isco88-X                         G  \n",
      "\n",
      " The shape of the subset is: (16, 32)\n",
      "The distribution of the raw data for this subgroup does not contain outliers or is too skewed on the upper end. The maximum value used for the normalisation is the maximum value in the dataset, which is 16.33. This value corresponds to country: 530    Finland\n",
      "887    Ireland\n",
      "Name: COUNTRY_NAME, dtype: object \n",
      "\n",
      "The distribution of the raw data for this subgroup does not contain outliers or is too skewed on the lower end. The minimum value used for the normalisation is the minimum value in the dataset, which is 1.01. This value corresponds to country: 1071    Lithuania\n",
      "1070    Lithuania\n",
      "Name: COUNTRY_NAME, dtype: object \n",
      "\n"
     ]
    },
    {
     "name": "stderr",
     "output_type": "stream",
     "text": [
      "D:\\Documents\\2020\\28_UNICEF\\10_working_repo\\data-etl\\normalize\\scaler.py:233: SettingWithCopyWarning: \n",
      "A value is trying to be set on a copy of a slice from a DataFrame.\n",
      "Try using .loc[row_indexer,col_indexer] = value instead\n",
      "\n",
      "See the caveats in the documentation: https://pandas.pydata.org/pandas-docs/stable/user_guide/indexing.html#returning-a-view-versus-a-copy\n",
      "  cleansed_data_subset['SCALED'] = round(10 * (cleansed_data_subset[indicator_raw_value].astype('float') - min_val)/ tot_range, 2)\n"
     ]
    },
    {
     "name": "stdout",
     "output_type": "stream",
     "text": [
      "In the loop we are currently dealing with the subset #67, which has these defining values:       goal   target  indicator        series  \\\n",
      "275  ['8']  ['8.5']  ['8.5.1']  SL_EMP_AEARN   \n",
      "\n",
      "                                     seriesDescription seriesCount valueType  \\\n",
      "275  Average hourly earnings of employees by sex an...        5776     Float   \n",
      "\n",
      "    time_detail timeCoverage upperBound lowerBound basePeriod geoInfoUrl  \\\n",
      "275        None         None       None       None       None       None   \n",
      "\n",
      "    attributes.Nature attributes.Units dimensions.Sex  \\\n",
      "275                 C          CUR_LCU        BOTHSEX   \n",
      "\n",
      "    dimensions.Type of occupation dimensions.Reporting Type  \n",
      "275                      isco88-6                         G  \n",
      "\n",
      " The shape of the subset is: (9, 32)\n",
      "The distribution of the raw data for this subgroup does not contain outliers or is too skewed on the upper end. The maximum value used for the normalisation is the maximum value in the dataset, which is 14.27. This value corresponds to country: 868    Ireland\n",
      "Name: COUNTRY_NAME, dtype: object \n",
      "\n",
      "The distribution of the raw data for this subgroup does not contain outliers or is too skewed on the lower end. The minimum value used for the normalisation is the minimum value in the dataset, which is 1.44. This value corresponds to country: 462       Ecuador\n",
      "1083    Lithuania\n",
      "Name: COUNTRY_NAME, dtype: object \n",
      "\n"
     ]
    },
    {
     "name": "stderr",
     "output_type": "stream",
     "text": [
      "D:\\Documents\\2020\\28_UNICEF\\10_working_repo\\data-etl\\normalize\\scaler.py:233: SettingWithCopyWarning: \n",
      "A value is trying to be set on a copy of a slice from a DataFrame.\n",
      "Try using .loc[row_indexer,col_indexer] = value instead\n",
      "\n",
      "See the caveats in the documentation: https://pandas.pydata.org/pandas-docs/stable/user_guide/indexing.html#returning-a-view-versus-a-copy\n",
      "  cleansed_data_subset['SCALED'] = round(10 * (cleansed_data_subset[indicator_raw_value].astype('float') - min_val)/ tot_range, 2)\n"
     ]
    },
    {
     "name": "stdout",
     "output_type": "stream",
     "text": [
      "In the loop we are currently dealing with the subset #68, which has these defining values:       goal   target  indicator        series  \\\n",
      "679  ['8']  ['8.5']  ['8.5.1']  SL_EMP_AEARN   \n",
      "\n",
      "                                     seriesDescription seriesCount valueType  \\\n",
      "679  Average hourly earnings of employees by sex an...        5776     Float   \n",
      "\n",
      "    time_detail timeCoverage upperBound lowerBound basePeriod geoInfoUrl  \\\n",
      "679        None         None       None       None       None       None   \n",
      "\n",
      "    attributes.Nature attributes.Units dimensions.Sex  \\\n",
      "679                 C          CUR_LCU         FEMALE   \n",
      "\n",
      "    dimensions.Type of occupation dimensions.Reporting Type  \n",
      "679                      isco88-6                         G  \n",
      "\n",
      " The shape of the subset is: (8, 32)\n",
      "The distribution of the raw data for this subgroup does not contain outliers or is too skewed on the upper end. The maximum value used for the normalisation is the maximum value in the dataset, which is 12.64. This value corresponds to country: 2081    United Kingdom\n",
      "880            Ireland\n",
      "1552            Poland\n",
      "Name: COUNTRY_NAME, dtype: object \n",
      "\n",
      "The distribution of the raw data for this subgroup does not contain outliers or is too skewed on the lower end. The minimum value used for the normalisation is the minimum value in the dataset, which is 1.42. This value corresponds to country: 1092    Lithuania\n",
      "Name: COUNTRY_NAME, dtype: object \n",
      "\n"
     ]
    },
    {
     "name": "stderr",
     "output_type": "stream",
     "text": [
      "D:\\Documents\\2020\\28_UNICEF\\10_working_repo\\data-etl\\normalize\\scaler.py:233: SettingWithCopyWarning: \n",
      "A value is trying to be set on a copy of a slice from a DataFrame.\n",
      "Try using .loc[row_indexer,col_indexer] = value instead\n",
      "\n",
      "See the caveats in the documentation: https://pandas.pydata.org/pandas-docs/stable/user_guide/indexing.html#returning-a-view-versus-a-copy\n",
      "  cleansed_data_subset['SCALED'] = round(10 * (cleansed_data_subset[indicator_raw_value].astype('float') - min_val)/ tot_range, 2)\n"
     ]
    },
    {
     "name": "stdout",
     "output_type": "stream",
     "text": [
      "In the loop we are currently dealing with the subset #69, which has these defining values:       goal   target  indicator        series  \\\n",
      "678  ['8']  ['8.5']  ['8.5.1']  SL_EMP_AEARN   \n",
      "\n",
      "                                     seriesDescription seriesCount valueType  \\\n",
      "678  Average hourly earnings of employees by sex an...        5776     Float   \n",
      "\n",
      "    time_detail timeCoverage upperBound lowerBound basePeriod geoInfoUrl  \\\n",
      "678        None         None       None       None       None       None   \n",
      "\n",
      "    attributes.Nature attributes.Units dimensions.Sex  \\\n",
      "678                 C          CUR_LCU           MALE   \n",
      "\n",
      "    dimensions.Type of occupation dimensions.Reporting Type  \n",
      "678                      isco88-6                         G  \n",
      "\n",
      " The shape of the subset is: (9, 32)\n",
      "The distribution of the raw data for this subgroup does not contain outliers or is too skewed on the upper end. The maximum value used for the normalisation is the maximum value in the dataset, which is 14.76. This value corresponds to country: 872    Ireland\n",
      "Name: COUNTRY_NAME, dtype: object \n",
      "\n",
      "The distribution of the raw data for this subgroup does not contain outliers or is too skewed on the lower end. The minimum value used for the normalisation is the minimum value in the dataset, which is 1.45. This value corresponds to country: 1105    Lithuania\n",
      "Name: COUNTRY_NAME, dtype: object \n",
      "\n"
     ]
    },
    {
     "name": "stderr",
     "output_type": "stream",
     "text": [
      "D:\\Documents\\2020\\28_UNICEF\\10_working_repo\\data-etl\\normalize\\scaler.py:233: SettingWithCopyWarning: \n",
      "A value is trying to be set on a copy of a slice from a DataFrame.\n",
      "Try using .loc[row_indexer,col_indexer] = value instead\n",
      "\n",
      "See the caveats in the documentation: https://pandas.pydata.org/pandas-docs/stable/user_guide/indexing.html#returning-a-view-versus-a-copy\n",
      "  cleansed_data_subset['SCALED'] = round(10 * (cleansed_data_subset[indicator_raw_value].astype('float') - min_val)/ tot_range, 2)\n"
     ]
    },
    {
     "name": "stdout",
     "output_type": "stream",
     "text": [
      "In the loop we are currently dealing with the subset #70, which has these defining values:        goal   target  indicator        series  \\\n",
      "1079  ['8']  ['8.5']  ['8.5.1']  SL_EMP_AEARN   \n",
      "\n",
      "                                      seriesDescription seriesCount valueType  \\\n",
      "1079  Average hourly earnings of employees by sex an...        5776     Float   \n",
      "\n",
      "     time_detail timeCoverage upperBound lowerBound basePeriod geoInfoUrl  \\\n",
      "1079        None         None       None       None       None       None   \n",
      "\n",
      "     attributes.Nature attributes.Units dimensions.Sex  \\\n",
      "1079                 C          CUR_LCU        BOTHSEX   \n",
      "\n",
      "     dimensions.Type of occupation dimensions.Reporting Type  \n",
      "1079                      isco88-0                         G  \n",
      "\n",
      " The shape of the subset is: (3, 32)\n",
      "The distribution of the raw data for this subgroup does not contain outliers or is too skewed on the upper end. The maximum value used for the normalisation is the maximum value in the dataset, which is 15.65. This value corresponds to country: 1365    Netherlands\n",
      "Name: COUNTRY_NAME, dtype: object \n",
      "\n",
      "The distribution of the raw data for this subgroup does not contain outliers or is too skewed on the lower end. The minimum value used for the normalisation is the minimum value in the dataset, which is 4.32. This value corresponds to country: 475       Estonia\n",
      "1079    Lithuania\n",
      "Name: COUNTRY_NAME, dtype: object \n",
      "\n"
     ]
    },
    {
     "name": "stderr",
     "output_type": "stream",
     "text": [
      "D:\\Documents\\2020\\28_UNICEF\\10_working_repo\\data-etl\\normalize\\scaler.py:233: SettingWithCopyWarning: \n",
      "A value is trying to be set on a copy of a slice from a DataFrame.\n",
      "Try using .loc[row_indexer,col_indexer] = value instead\n",
      "\n",
      "See the caveats in the documentation: https://pandas.pydata.org/pandas-docs/stable/user_guide/indexing.html#returning-a-view-versus-a-copy\n",
      "  cleansed_data_subset['SCALED'] = round(10 * (cleansed_data_subset[indicator_raw_value].astype('float') - min_val)/ tot_range, 2)\n"
     ]
    },
    {
     "name": "stdout",
     "output_type": "stream",
     "text": [
      "In the loop we are currently dealing with the subset #71, which has these defining values:        goal   target  indicator        series  \\\n",
      "1096  ['8']  ['8.5']  ['8.5.1']  SL_EMP_AEARN   \n",
      "\n",
      "                                      seriesDescription seriesCount valueType  \\\n",
      "1096  Average hourly earnings of employees by sex an...        5776     Float   \n",
      "\n",
      "     time_detail timeCoverage upperBound lowerBound basePeriod geoInfoUrl  \\\n",
      "1096        None         None       None       None       None       None   \n",
      "\n",
      "     attributes.Nature attributes.Units dimensions.Sex  \\\n",
      "1096                 C          CUR_LCU         FEMALE   \n",
      "\n",
      "     dimensions.Type of occupation dimensions.Reporting Type  \n",
      "1096                      isco88-0                         G  \n",
      "\n",
      " The shape of the subset is: (3, 32)\n",
      "The distribution of the raw data for this subgroup does not contain outliers or is too skewed on the upper end. The maximum value used for the normalisation is the maximum value in the dataset, which is 10.94. This value corresponds to country: 660         Germany\n",
      "606          France\n",
      "1342    Netherlands\n",
      "Name: COUNTRY_NAME, dtype: object \n",
      "\n",
      "The distribution of the raw data for this subgroup does not contain outliers or is too skewed on the lower end. The minimum value used for the normalisation is the minimum value in the dataset, which is 4.47. This value corresponds to country: 1096    Lithuania\n",
      "Name: COUNTRY_NAME, dtype: object \n",
      "\n"
     ]
    },
    {
     "name": "stderr",
     "output_type": "stream",
     "text": [
      "D:\\Documents\\2020\\28_UNICEF\\10_working_repo\\data-etl\\normalize\\scaler.py:233: SettingWithCopyWarning: \n",
      "A value is trying to be set on a copy of a slice from a DataFrame.\n",
      "Try using .loc[row_indexer,col_indexer] = value instead\n",
      "\n",
      "See the caveats in the documentation: https://pandas.pydata.org/pandas-docs/stable/user_guide/indexing.html#returning-a-view-versus-a-copy\n",
      "  cleansed_data_subset['SCALED'] = round(10 * (cleansed_data_subset[indicator_raw_value].astype('float') - min_val)/ tot_range, 2)\n"
     ]
    },
    {
     "name": "stdout",
     "output_type": "stream",
     "text": [
      "In the loop we are currently dealing with the subset #72, which has these defining values:        goal   target  indicator        series  \\\n",
      "1101  ['8']  ['8.5']  ['8.5.1']  SL_EMP_AEARN   \n",
      "\n",
      "                                      seriesDescription seriesCount valueType  \\\n",
      "1101  Average hourly earnings of employees by sex an...        5776     Float   \n",
      "\n",
      "     time_detail timeCoverage upperBound lowerBound basePeriod geoInfoUrl  \\\n",
      "1101        None         None       None       None       None       None   \n",
      "\n",
      "     attributes.Nature attributes.Units dimensions.Sex  \\\n",
      "1101                 C          CUR_LCU           MALE   \n",
      "\n",
      "     dimensions.Type of occupation dimensions.Reporting Type  \n",
      "1101                      isco88-0                         G  \n",
      "\n",
      " The shape of the subset is: (3, 32)\n",
      "The distribution of the raw data for this subgroup does not contain outliers or is too skewed on the upper end. The maximum value used for the normalisation is the maximum value in the dataset, which is 16.65. This value corresponds to country: 738          Greece\n",
      "1367    Netherlands\n",
      "Name: COUNTRY_NAME, dtype: object \n",
      "\n",
      "The distribution of the raw data for this subgroup does not contain outliers or is too skewed on the lower end. The minimum value used for the normalisation is the minimum value in the dataset, which is 4.15. This value corresponds to country: 1101    Lithuania\n",
      "Name: COUNTRY_NAME, dtype: object \n",
      "\n",
      "The number of rows in the dataframe after the right join are: (13455, 40)\n"
     ]
    },
    {
     "name": "stderr",
     "output_type": "stream",
     "text": [
      "D:\\Documents\\2020\\28_UNICEF\\10_working_repo\\data-etl\\normalize\\scaler.py:233: SettingWithCopyWarning: \n",
      "A value is trying to be set on a copy of a slice from a DataFrame.\n",
      "Try using .loc[row_indexer,col_indexer] = value instead\n",
      "\n",
      "See the caveats in the documentation: https://pandas.pydata.org/pandas-docs/stable/user_guide/indexing.html#returning-a-view-versus-a-copy\n",
      "  cleansed_data_subset['SCALED'] = round(10 * (cleansed_data_subset[indicator_raw_value].astype('float') - min_val)/ tot_range, 2)\n"
     ]
    },
    {
     "name": "stdout",
     "output_type": "stream",
     "text": [
      "The raw data has been saved as .xlsx file in: D:\\Documents\\2020\\28_UNICEF\\10_working_repo\\data-etl\\data\\data_normalized\\\n"
     ]
    },
    {
     "data": {
      "image/png": "[encoded data removed]",
      "text/plain": [
       "<Figure size 432x288 with 1 Axes>"
      ]
     },
     "metadata": {
      "needs_background": "light"
     },
     "output_type": "display_data"
    }
   ],
   "source": [
    "# Scale the raw data and bring the dataframe into long formmat\n",
    "s203_normalized = scaler.normalizer(cleansed_data = s203_cleansed,\n",
    "                        indicator_raw_value = 'value',\n",
    "                        indicator_code = '3.4.1',\n",
    "                        indicator_name = 'Average Earnings',\n",
    "                        cleansed_df_iso2_col = 'CountryIso2',\n",
    "                        crba_final_country_list = country_crba_list,\n",
    "                        crba_final_country_list_iso_col = 'COUNTRY_ISO_2',\n",
    "                        inverted = False,\n",
    "                        non_dim_cols = ['geoAreaCode',\n",
    "                                        'geoAreaName',\n",
    "                                        'timePeriodStart',\n",
    "                                        'source',\n",
    "                                        'value',\n",
    "                                        'footnotes', \n",
    "                                        'Unnamed: 0', \n",
    "                                        'CountryDesc',\n",
    "                                        'CountryIso2',\n",
    "                                        'CountryIso3',\n",
    "                                        'COUNTRY_ISO_2',\n",
    "                                        'COUNTRY_ISO_3',\n",
    "                                        'COUNTRY_NAME',\n",
    "                                        '_merge']\n",
    "                       )\n",
    "\n",
    "# save normalized data\n",
    "save_normalized_data.save_normalized_data(dataframe = s203_normalized,\n",
    "             filename = 'S_203_normalized.xlsx')"
   ]
  },
  {
   "cell_type": "markdown",
   "metadata": {},
   "source": [
    "### Select only those rows/ columns which are relevant \n",
    "\n",
    "* < to do >\n",
    "* Right now, the normalized dataset contains data on ALL subsets (which are defined by the dimension values). Ultimately, there has to be a commitment to one Subset of an indicator \n",
    "* But this filtering to exactly one dimension (i.e. one row per country) will be done later"
   ]
  },
  {
   "attachments": {},
   "cell_type": "markdown",
   "metadata": {},
   "source": [
    "## S-204 (prev S-48) SDG Indicator 1.1.1, ILO Stat: Employed population below international poverty line, by sex and age (%) SI_POV_EMP1\n",
    "### Extraction"
   ]
  },
  {
   "cell_type": "code",
   "execution_count": 33,
   "metadata": {},
   "outputs": [
    {
     "name": "stdout",
     "output_type": "stream",
     "text": [
      "The extracted raw data contains the following columns: Index(['goal', 'target', 'indicator', 'series', 'seriesDescription',\n",
      "       'seriesCount', 'geoAreaCode', 'geoAreaName', 'timePeriodStart', 'value',\n",
      "       'valueType', 'time_detail', 'timeCoverage', 'upperBound', 'lowerBound',\n",
      "       'basePeriod', 'source', 'geoInfoUrl', 'footnotes', 'attributes.Nature',\n",
      "       'attributes.Units', 'dimensions.Age', 'dimensions.Sex',\n",
      "       'dimensions.Reporting Type'],\n",
      "      dtype='object')\n",
      "The raw data has been saved as .xlsx file in: D:\\Documents\\2020\\28_UNICEF\\10_working_repo\\data-etl\\data\\data_raw\\\n"
     ]
    }
   ],
   "source": [
    "# Extract data\n",
    "s204_raw = extract_sdg_api_data(series_code = 'SI_POV_EMP1')\n",
    "\n",
    "# Save raw data\n",
    "save_raw_data.save_raw_data(dataframe = s204_raw,\n",
    "              filename = 'S_204.xlsx')"
   ]
  },
  {
   "cell_type": "markdown",
   "metadata": {},
   "source": [
    "### Cleanse"
   ]
  },
  {
   "cell_type": "code",
   "execution_count": 34,
   "metadata": {},
   "outputs": [
    {
     "name": "stdout",
     "output_type": "stream",
     "text": [
      "The raw data has been saved as .xlsx file in: D:\\Documents\\2020\\28_UNICEF\\10_working_repo\\data-etl\\data\\data_cleansed\\\n"
     ]
    }
   ],
   "source": [
    "# Transform the raw data\n",
    "s204_cleansed = cleanse_sdg_api_data(raw_data = s204_raw,\n",
    "                                   country_list_full = country_full_list,\n",
    "                                   country_list_full_name_col = 'CountryDesc',\n",
    "                                   country_list_full_iso2_col = 'CountryIso2',\n",
    "                                   country_df = country_crba_list,\n",
    "                                   country_df_iso2_col = 'COUNTRY_ISO_2',\n",
    "                                   non_dim_cols = ['value',\n",
    "                                                  'source',\n",
    "                                                  'footnotes',\n",
    "                                                   'timePeriodStart',\n",
    "                                                  'Unnamed: 0'] \n",
    "                                   )\n",
    "\n",
    "# save cleansed data\n",
    "save_cleansed_data(dataframe = s204_cleansed,\n",
    "             filename = 'S_204_cleansed.xlsx')"
   ]
  },
  {
   "cell_type": "markdown",
   "metadata": {},
   "source": [
    "### Normalization (scaling)"
   ]
  },
  {
   "cell_type": "code",
   "execution_count": 35,
   "metadata": {},
   "outputs": [
    {
     "name": "stdout",
     "output_type": "stream",
     "text": [
      "You hve a selected a few columns, which will not be regarded as dimensions. These are the remaining columns in the dataset, along with the number of values they take in the dataset.\n",
      "The column goal has 1 unique values.\n",
      "The column target has 1 unique values.\n",
      "The column indicator has 1 unique values.\n",
      "The column series has 1 unique values.\n",
      "The column seriesDescription has 1 unique values.\n",
      "The column seriesCount has 1 unique values.\n",
      "The column valueType has 1 unique values.\n",
      "The column time_detail has 1 unique values.\n",
      "The column timeCoverage has 1 unique values.\n",
      "The column upperBound has 1 unique values.\n",
      "The column lowerBound has 1 unique values.\n",
      "The column basePeriod has 1 unique values.\n",
      "The column geoInfoUrl has 1 unique values.\n",
      "The column attributes.Nature has 2 unique values.\n",
      "The column attributes.Units has 1 unique values.\n",
      "The column dimensions.Age has 3 unique values.\n",
      "The column dimensions.Sex has 3 unique values.\n",
      "The column dimensions.Reporting Type has 1 unique values.\n",
      "The total number of subgroups in the dataset is therefore: 18\n",
      "In the loop we are currently dealing with the subset #0, which has these defining values: Empty DataFrame\n",
      "Columns: [goal, target, indicator, series, seriesDescription, seriesCount, valueType, time_detail, timeCoverage, upperBound, lowerBound, basePeriod, geoInfoUrl, attributes.Nature, attributes.Units, dimensions.Age, dimensions.Sex, dimensions.Reporting Type]\n",
      "Index: []\n",
      "\n",
      " The shape of the subset is: (0, 32)\n",
      "Dataframe is empty. There are no values to append.\n",
      "In the loop we are currently dealing with the subset #1, which has these defining values:      goal   target  indicator       series  \\\n",
      "17  ['1']  ['1.1']  ['1.1.1']  SI_POV_EMP1   \n",
      "\n",
      "                                    seriesDescription seriesCount valueType  \\\n",
      "17  Employed population below international povert...        9531     Float   \n",
      "\n",
      "   time_detail timeCoverage upperBound lowerBound basePeriod geoInfoUrl  \\\n",
      "17        None         None       None       None       None       None   \n",
      "\n",
      "   attributes.Nature attributes.Units dimensions.Age dimensions.Sex  \\\n",
      "17                 E          PERCENT            25+           MALE   \n",
      "\n",
      "   dimensions.Reporting Type  \n",
      "17                         G  \n",
      "\n",
      " The shape of the subset is: (56, 32)\n",
      "The distribution of the raw data for this subgroup does not contain outliers or is too skewed on the upper end. The maximum value used for the normalisation is the maximum value in the dataset, which is 78.2. This value corresponds to country: 916    Mozambique\n",
      "Name: COUNTRY_NAME, dtype: object \n",
      "\n",
      "The distribution of the raw data for this subgroup does not contain outliers or is too skewed on the lower end. The minimum value used for the normalisation is the minimum value in the dataset, which is 0.1. This value corresponds to country: 17      Albania\n",
      "1       Albania\n",
      "4       Albania\n",
      "2       Albania\n",
      "7       Albania\n",
      "         ...   \n",
      "1345     Turkey\n",
      "1346     Turkey\n",
      "1347     Turkey\n",
      "1348     Turkey\n",
      "1349     Turkey\n",
      "Name: COUNTRY_NAME, Length: 109, dtype: object \n",
      "\n"
     ]
    },
    {
     "name": "stderr",
     "output_type": "stream",
     "text": [
      "D:\\Documents\\2020\\28_UNICEF\\10_working_repo\\data-etl\\normalize\\scaler.py:231: SettingWithCopyWarning: \n",
      "A value is trying to be set on a copy of a slice from a DataFrame.\n",
      "Try using .loc[row_indexer,col_indexer] = value instead\n",
      "\n",
      "See the caveats in the documentation: https://pandas.pydata.org/pandas-docs/stable/user_guide/indexing.html#returning-a-view-versus-a-copy\n",
      "  cleansed_data_subset['SCALED'] = round(10 - 10 * (cleansed_data_subset[indicator_raw_value].astype('float') - min_val)/ tot_range, 2)\n"
     ]
    },
    {
     "name": "stdout",
     "output_type": "stream",
     "text": [
      "In the loop we are currently dealing with the subset #2, which has these defining values:      goal   target  indicator       series  \\\n",
      "16  ['1']  ['1.1']  ['1.1.1']  SI_POV_EMP1   \n",
      "\n",
      "                                    seriesDescription seriesCount valueType  \\\n",
      "16  Employed population below international povert...        9531     Float   \n",
      "\n",
      "   time_detail timeCoverage upperBound lowerBound basePeriod geoInfoUrl  \\\n",
      "16        None         None       None       None       None       None   \n",
      "\n",
      "   attributes.Nature attributes.Units dimensions.Age dimensions.Sex  \\\n",
      "16                 E          PERCENT            15+           MALE   \n",
      "\n",
      "   dimensions.Reporting Type  \n",
      "16                         G  \n",
      "\n",
      " The shape of the subset is: (56, 32)\n",
      "The distribution of the raw data for this subgroup does not contain outliers or is too skewed on the upper end. The maximum value used for the normalisation is the maximum value in the dataset, which is 77.7. This value corresponds to country: 917    Mozambique\n",
      "Name: COUNTRY_NAME, dtype: object \n",
      "\n",
      "The distribution of the raw data for this subgroup does not contain outliers or is too skewed on the lower end. The minimum value used for the normalisation is the minimum value in the dataset, which is 0.1. This value corresponds to country: 17      Albania\n",
      "1       Albania\n",
      "4       Albania\n",
      "2       Albania\n",
      "7       Albania\n",
      "         ...   \n",
      "1345     Turkey\n",
      "1346     Turkey\n",
      "1347     Turkey\n",
      "1348     Turkey\n",
      "1349     Turkey\n",
      "Name: COUNTRY_NAME, Length: 109, dtype: object \n",
      "\n"
     ]
    },
    {
     "name": "stderr",
     "output_type": "stream",
     "text": [
      "D:\\Documents\\2020\\28_UNICEF\\10_working_repo\\data-etl\\normalize\\scaler.py:231: SettingWithCopyWarning: \n",
      "A value is trying to be set on a copy of a slice from a DataFrame.\n",
      "Try using .loc[row_indexer,col_indexer] = value instead\n",
      "\n",
      "See the caveats in the documentation: https://pandas.pydata.org/pandas-docs/stable/user_guide/indexing.html#returning-a-view-versus-a-copy\n",
      "  cleansed_data_subset['SCALED'] = round(10 - 10 * (cleansed_data_subset[indicator_raw_value].astype('float') - min_val)/ tot_range, 2)\n"
     ]
    },
    {
     "name": "stdout",
     "output_type": "stream",
     "text": [
      "In the loop we are currently dealing with the subset #3, which has these defining values:      goal   target  indicator       series  \\\n",
      "15  ['1']  ['1.1']  ['1.1.1']  SI_POV_EMP1   \n",
      "\n",
      "                                    seriesDescription seriesCount valueType  \\\n",
      "15  Employed population below international povert...        9531     Float   \n",
      "\n",
      "   time_detail timeCoverage upperBound lowerBound basePeriod geoInfoUrl  \\\n",
      "15        None         None       None       None       None       None   \n",
      "\n",
      "   attributes.Nature attributes.Units dimensions.Age dimensions.Sex  \\\n",
      "15                 E          PERCENT          15-24           MALE   \n",
      "\n",
      "   dimensions.Reporting Type  \n",
      "15                         G  \n",
      "\n",
      " The shape of the subset is: (56, 32)\n",
      "The distribution of the raw data for this subgroup does not contain outliers or is too skewed on the upper end. The maximum value used for the normalisation is the maximum value in the dataset, which is 76.2. This value corresponds to country: 914    Mozambique\n",
      "Name: COUNTRY_NAME, dtype: object \n",
      "\n",
      "The distribution of the raw data for this subgroup does not contain outliers or is too skewed on the lower end. The minimum value used for the normalisation is the minimum value in the dataset, which is 0.2. This value corresponds to country: 16                 Albania\n",
      "11                 Albania\n",
      "3                  Albania\n",
      "6                  Albania\n",
      "62                 Armenia\n",
      "83                 Belarus\n",
      "81                 Belarus\n",
      "86                 Belarus\n",
      "282                  Chile\n",
      "283                  Chile\n",
      "279                  Chile\n",
      "285                  Chile\n",
      "286                  Chile\n",
      "287                  Chile\n",
      "280                  Chile\n",
      "357             Costa Rica\n",
      "354             Costa Rica\n",
      "356             Costa Rica\n",
      "651                Jamaica\n",
      "654                Jamaica\n",
      "668                 Jordan\n",
      "671                 Jordan\n",
      "672                 Jordan\n",
      "673                 Jordan\n",
      "674                 Jordan\n",
      "703             Kyrgyzstan\n",
      "704             Kyrgyzstan\n",
      "899             Montenegro\n",
      "896             Montenegro\n",
      "888               Mongolia\n",
      "885               Mongolia\n",
      "884               Mongolia\n",
      "883               Mongolia\n",
      "882               Mongolia\n",
      "846              Mauritius\n",
      "848              Mauritius\n",
      "851              Mauritius\n",
      "852              Mauritius\n",
      "853              Mauritius\n",
      "1226    State of Palestine\n",
      "1225    State of Palestine\n",
      "1232    State of Palestine\n",
      "1228    State of Palestine\n",
      "1231    State of Palestine\n",
      "1224    State of Palestine\n",
      "1229    State of Palestine\n",
      "1148                Serbia\n",
      "1146                Serbia\n",
      "1151                Serbia\n",
      "1149                Serbia\n",
      "1246                 Syria\n",
      "1248                 Syria\n",
      "1242                 Syria\n",
      "1275              Thailand\n",
      "1271              Thailand\n",
      "Name: COUNTRY_NAME, dtype: object \n",
      "\n"
     ]
    },
    {
     "name": "stderr",
     "output_type": "stream",
     "text": [
      "D:\\Documents\\2020\\28_UNICEF\\10_working_repo\\data-etl\\normalize\\scaler.py:231: SettingWithCopyWarning: \n",
      "A value is trying to be set on a copy of a slice from a DataFrame.\n",
      "Try using .loc[row_indexer,col_indexer] = value instead\n",
      "\n",
      "See the caveats in the documentation: https://pandas.pydata.org/pandas-docs/stable/user_guide/indexing.html#returning-a-view-versus-a-copy\n",
      "  cleansed_data_subset['SCALED'] = round(10 - 10 * (cleansed_data_subset[indicator_raw_value].astype('float') - min_val)/ tot_range, 2)\n"
     ]
    },
    {
     "name": "stdout",
     "output_type": "stream",
     "text": [
      "In the loop we are currently dealing with the subset #4, which has these defining values:      goal   target  indicator       series  \\\n",
      "14  ['1']  ['1.1']  ['1.1.1']  SI_POV_EMP1   \n",
      "\n",
      "                                    seriesDescription seriesCount valueType  \\\n",
      "14  Employed population below international povert...        9531     Float   \n",
      "\n",
      "   time_detail timeCoverage upperBound lowerBound basePeriod geoInfoUrl  \\\n",
      "14        None         None       None       None       None       None   \n",
      "\n",
      "   attributes.Nature attributes.Units dimensions.Age dimensions.Sex  \\\n",
      "14                 E          PERCENT            25+         FEMALE   \n",
      "\n",
      "   dimensions.Reporting Type  \n",
      "14                         G  \n",
      "\n",
      " The shape of the subset is: (56, 32)\n",
      "The distribution of the raw data for this subgroup does not contain outliers or is too skewed on the upper end. The maximum value used for the normalisation is the maximum value in the dataset, which is 82.6. This value corresponds to country: 915    Mozambique\n",
      "Name: COUNTRY_NAME, dtype: object \n",
      "\n",
      "The distribution of the raw data for this subgroup does not contain outliers or is too skewed on the lower end. The minimum value used for the normalisation is the minimum value in the dataset, which is 0.1. This value corresponds to country: 17      Albania\n",
      "1       Albania\n",
      "4       Albania\n",
      "2       Albania\n",
      "7       Albania\n",
      "         ...   \n",
      "1345     Turkey\n",
      "1346     Turkey\n",
      "1347     Turkey\n",
      "1348     Turkey\n",
      "1349     Turkey\n",
      "Name: COUNTRY_NAME, Length: 109, dtype: object \n",
      "\n"
     ]
    },
    {
     "name": "stderr",
     "output_type": "stream",
     "text": [
      "D:\\Documents\\2020\\28_UNICEF\\10_working_repo\\data-etl\\normalize\\scaler.py:231: SettingWithCopyWarning: \n",
      "A value is trying to be set on a copy of a slice from a DataFrame.\n",
      "Try using .loc[row_indexer,col_indexer] = value instead\n",
      "\n",
      "See the caveats in the documentation: https://pandas.pydata.org/pandas-docs/stable/user_guide/indexing.html#returning-a-view-versus-a-copy\n",
      "  cleansed_data_subset['SCALED'] = round(10 - 10 * (cleansed_data_subset[indicator_raw_value].astype('float') - min_val)/ tot_range, 2)\n"
     ]
    },
    {
     "name": "stdout",
     "output_type": "stream",
     "text": [
      "In the loop we are currently dealing with the subset #5, which has these defining values:      goal   target  indicator       series  \\\n",
      "13  ['1']  ['1.1']  ['1.1.1']  SI_POV_EMP1   \n",
      "\n",
      "                                    seriesDescription seriesCount valueType  \\\n",
      "13  Employed population below international povert...        9531     Float   \n",
      "\n",
      "   time_detail timeCoverage upperBound lowerBound basePeriod geoInfoUrl  \\\n",
      "13        None         None       None       None       None       None   \n",
      "\n",
      "   attributes.Nature attributes.Units dimensions.Age dimensions.Sex  \\\n",
      "13                 E          PERCENT            15+         FEMALE   \n",
      "\n",
      "   dimensions.Reporting Type  \n",
      "13                         G  \n",
      "\n",
      " The shape of the subset is: (56, 32)\n",
      "The distribution of the raw data for this subgroup does not contain outliers or is too skewed on the upper end. The maximum value used for the normalisation is the maximum value in the dataset, which is 82.5. This value corresponds to country: 913    Mozambique\n",
      "Name: COUNTRY_NAME, dtype: object \n",
      "\n",
      "The distribution of the raw data for this subgroup does not contain outliers or is too skewed on the lower end. The minimum value used for the normalisation is the minimum value in the dataset, which is 0.1. This value corresponds to country: 17      Albania\n",
      "1       Albania\n",
      "4       Albania\n",
      "2       Albania\n",
      "7       Albania\n",
      "         ...   \n",
      "1345     Turkey\n",
      "1346     Turkey\n",
      "1347     Turkey\n",
      "1348     Turkey\n",
      "1349     Turkey\n",
      "Name: COUNTRY_NAME, Length: 109, dtype: object \n",
      "\n"
     ]
    },
    {
     "name": "stderr",
     "output_type": "stream",
     "text": [
      "D:\\Documents\\2020\\28_UNICEF\\10_working_repo\\data-etl\\normalize\\scaler.py:231: SettingWithCopyWarning: \n",
      "A value is trying to be set on a copy of a slice from a DataFrame.\n",
      "Try using .loc[row_indexer,col_indexer] = value instead\n",
      "\n",
      "See the caveats in the documentation: https://pandas.pydata.org/pandas-docs/stable/user_guide/indexing.html#returning-a-view-versus-a-copy\n",
      "  cleansed_data_subset['SCALED'] = round(10 - 10 * (cleansed_data_subset[indicator_raw_value].astype('float') - min_val)/ tot_range, 2)\n"
     ]
    },
    {
     "name": "stdout",
     "output_type": "stream",
     "text": [
      "In the loop we are currently dealing with the subset #6, which has these defining values:      goal   target  indicator       series  \\\n",
      "12  ['1']  ['1.1']  ['1.1.1']  SI_POV_EMP1   \n",
      "\n",
      "                                    seriesDescription seriesCount valueType  \\\n",
      "12  Employed population below international povert...        9531     Float   \n",
      "\n",
      "   time_detail timeCoverage upperBound lowerBound basePeriod geoInfoUrl  \\\n",
      "12        None         None       None       None       None       None   \n",
      "\n",
      "   attributes.Nature attributes.Units dimensions.Age dimensions.Sex  \\\n",
      "12                 E          PERCENT          15-24         FEMALE   \n",
      "\n",
      "   dimensions.Reporting Type  \n",
      "12                         G  \n",
      "\n",
      " The shape of the subset is: (56, 32)\n",
      "The distribution of the raw data for this subgroup does not contain outliers or is too skewed on the upper end. The maximum value used for the normalisation is the maximum value in the dataset, which is 82.4. This value corresponds to country: 912    Mozambique\n",
      "Name: COUNTRY_NAME, dtype: object \n",
      "\n",
      "The distribution of the raw data for this subgroup does not contain outliers or is too skewed on the lower end. The minimum value used for the normalisation is the minimum value in the dataset, which is 0.1. This value corresponds to country: 17      Albania\n",
      "1       Albania\n",
      "4       Albania\n",
      "2       Albania\n",
      "7       Albania\n",
      "         ...   \n",
      "1345     Turkey\n",
      "1346     Turkey\n",
      "1347     Turkey\n",
      "1348     Turkey\n",
      "1349     Turkey\n",
      "Name: COUNTRY_NAME, Length: 109, dtype: object \n",
      "\n"
     ]
    },
    {
     "name": "stderr",
     "output_type": "stream",
     "text": [
      "D:\\Documents\\2020\\28_UNICEF\\10_working_repo\\data-etl\\normalize\\scaler.py:231: SettingWithCopyWarning: \n",
      "A value is trying to be set on a copy of a slice from a DataFrame.\n",
      "Try using .loc[row_indexer,col_indexer] = value instead\n",
      "\n",
      "See the caveats in the documentation: https://pandas.pydata.org/pandas-docs/stable/user_guide/indexing.html#returning-a-view-versus-a-copy\n",
      "  cleansed_data_subset['SCALED'] = round(10 - 10 * (cleansed_data_subset[indicator_raw_value].astype('float') - min_val)/ tot_range, 2)\n"
     ]
    },
    {
     "name": "stdout",
     "output_type": "stream",
     "text": [
      "In the loop we are currently dealing with the subset #7, which has these defining values:      goal   target  indicator       series  \\\n",
      "11  ['1']  ['1.1']  ['1.1.1']  SI_POV_EMP1   \n",
      "\n",
      "                                    seriesDescription seriesCount valueType  \\\n",
      "11  Employed population below international povert...        9531     Float   \n",
      "\n",
      "   time_detail timeCoverage upperBound lowerBound basePeriod geoInfoUrl  \\\n",
      "11        None         None       None       None       None       None   \n",
      "\n",
      "   attributes.Nature attributes.Units dimensions.Age dimensions.Sex  \\\n",
      "11                 E          PERCENT            25+        BOTHSEX   \n",
      "\n",
      "   dimensions.Reporting Type  \n",
      "11                         G  \n",
      "\n",
      " The shape of the subset is: (56, 32)\n",
      "The distribution of the raw data for this subgroup does not contain outliers or is too skewed on the upper end. The maximum value used for the normalisation is the maximum value in the dataset, which is 80.6. This value corresponds to country: 911    Mozambique\n",
      "Name: COUNTRY_NAME, dtype: object \n",
      "\n",
      "The distribution of the raw data for this subgroup does not contain outliers or is too skewed on the lower end. The minimum value used for the normalisation is the minimum value in the dataset, which is 0.1. This value corresponds to country: 17      Albania\n",
      "1       Albania\n",
      "4       Albania\n",
      "2       Albania\n",
      "7       Albania\n",
      "         ...   \n",
      "1345     Turkey\n",
      "1346     Turkey\n",
      "1347     Turkey\n",
      "1348     Turkey\n",
      "1349     Turkey\n",
      "Name: COUNTRY_NAME, Length: 109, dtype: object \n",
      "\n"
     ]
    },
    {
     "name": "stderr",
     "output_type": "stream",
     "text": [
      "D:\\Documents\\2020\\28_UNICEF\\10_working_repo\\data-etl\\normalize\\scaler.py:231: SettingWithCopyWarning: \n",
      "A value is trying to be set on a copy of a slice from a DataFrame.\n",
      "Try using .loc[row_indexer,col_indexer] = value instead\n",
      "\n",
      "See the caveats in the documentation: https://pandas.pydata.org/pandas-docs/stable/user_guide/indexing.html#returning-a-view-versus-a-copy\n",
      "  cleansed_data_subset['SCALED'] = round(10 - 10 * (cleansed_data_subset[indicator_raw_value].astype('float') - min_val)/ tot_range, 2)\n"
     ]
    },
    {
     "name": "stdout",
     "output_type": "stream",
     "text": [
      "In the loop we are currently dealing with the subset #8, which has these defining values:     goal   target  indicator       series  \\\n",
      "0  ['1']  ['1.1']  ['1.1.1']  SI_POV_EMP1   \n",
      "\n",
      "                                   seriesDescription seriesCount valueType  \\\n",
      "0  Employed population below international povert...        9531     Float   \n",
      "\n",
      "  time_detail timeCoverage upperBound lowerBound basePeriod geoInfoUrl  \\\n",
      "0        None         None       None       None       None       None   \n",
      "\n",
      "  attributes.Nature attributes.Units dimensions.Age dimensions.Sex  \\\n",
      "0                 M          PERCENT          15-24         FEMALE   \n",
      "\n",
      "  dimensions.Reporting Type  \n",
      "0                         G  \n",
      "\n",
      " The shape of the subset is: (107, 32)\n",
      "The distribution of the raw data for this subgroup does not contain outliers or is too skewed on the upper end. The maximum value used for the normalisation is the maximum value in the dataset, which is 78.4. This value corresponds to country: 779    Madagascar\n",
      "782    Madagascar\n",
      "Name: COUNTRY_NAME, dtype: object \n",
      "\n",
      "The distribution of the raw data for this subgroup does not contain outliers or is too skewed on the lower end. The minimum value used for the normalisation is the minimum value in the dataset, which is 0.0. This value corresponds to country: 151     Bosnia and Herzegovina\n",
      "150     Bosnia and Herzegovina\n",
      "149     Bosnia and Herzegovina\n",
      "144     Bosnia and Herzegovina\n",
      "152     Bosnia and Herzegovina\n",
      "                 ...          \n",
      "1396                   Uruguay\n",
      "1398                   Uruguay\n",
      "1397                   Uruguay\n",
      "1395                   Uruguay\n",
      "1399                   Uruguay\n",
      "Name: COUNTRY_NAME, Length: 88, dtype: object \n",
      "\n"
     ]
    },
    {
     "name": "stderr",
     "output_type": "stream",
     "text": [
      "D:\\Documents\\2020\\28_UNICEF\\10_working_repo\\data-etl\\normalize\\scaler.py:231: SettingWithCopyWarning: \n",
      "A value is trying to be set on a copy of a slice from a DataFrame.\n",
      "Try using .loc[row_indexer,col_indexer] = value instead\n",
      "\n",
      "See the caveats in the documentation: https://pandas.pydata.org/pandas-docs/stable/user_guide/indexing.html#returning-a-view-versus-a-copy\n",
      "  cleansed_data_subset['SCALED'] = round(10 - 10 * (cleansed_data_subset[indicator_raw_value].astype('float') - min_val)/ tot_range, 2)\n"
     ]
    },
    {
     "name": "stdout",
     "output_type": "stream",
     "text": [
      "In the loop we are currently dealing with the subset #9, which has these defining values:     goal   target  indicator       series  \\\n",
      "9  ['1']  ['1.1']  ['1.1.1']  SI_POV_EMP1   \n",
      "\n",
      "                                   seriesDescription seriesCount valueType  \\\n",
      "9  Employed population below international povert...        9531     Float   \n",
      "\n",
      "  time_detail timeCoverage upperBound lowerBound basePeriod geoInfoUrl  \\\n",
      "9        None         None       None       None       None       None   \n",
      "\n",
      "  attributes.Nature attributes.Units dimensions.Age dimensions.Sex  \\\n",
      "9                 E          PERCENT          15-24        BOTHSEX   \n",
      "\n",
      "  dimensions.Reporting Type  \n",
      "9                         G  \n",
      "\n",
      " The shape of the subset is: (56, 32)\n",
      "The distribution of the raw data for this subgroup does not contain outliers or is too skewed on the upper end. The maximum value used for the normalisation is the maximum value in the dataset, which is 79.7. This value corresponds to country: 910    Mozambique\n",
      "Name: COUNTRY_NAME, dtype: object \n",
      "\n",
      "The distribution of the raw data for this subgroup does not contain outliers or is too skewed on the lower end. The minimum value used for the normalisation is the minimum value in the dataset, which is 0.2. This value corresponds to country: 16                 Albania\n",
      "11                 Albania\n",
      "3                  Albania\n",
      "6                  Albania\n",
      "62                 Armenia\n",
      "83                 Belarus\n",
      "81                 Belarus\n",
      "86                 Belarus\n",
      "282                  Chile\n",
      "283                  Chile\n",
      "279                  Chile\n",
      "285                  Chile\n",
      "286                  Chile\n",
      "287                  Chile\n",
      "280                  Chile\n",
      "357             Costa Rica\n",
      "354             Costa Rica\n",
      "356             Costa Rica\n",
      "651                Jamaica\n",
      "654                Jamaica\n",
      "668                 Jordan\n",
      "671                 Jordan\n",
      "672                 Jordan\n",
      "673                 Jordan\n",
      "674                 Jordan\n",
      "703             Kyrgyzstan\n",
      "704             Kyrgyzstan\n",
      "899             Montenegro\n",
      "896             Montenegro\n",
      "888               Mongolia\n",
      "885               Mongolia\n",
      "884               Mongolia\n",
      "883               Mongolia\n",
      "882               Mongolia\n",
      "846              Mauritius\n",
      "848              Mauritius\n",
      "851              Mauritius\n",
      "852              Mauritius\n",
      "853              Mauritius\n",
      "1226    State of Palestine\n",
      "1225    State of Palestine\n",
      "1232    State of Palestine\n",
      "1228    State of Palestine\n",
      "1231    State of Palestine\n",
      "1224    State of Palestine\n",
      "1229    State of Palestine\n",
      "1148                Serbia\n",
      "1146                Serbia\n",
      "1151                Serbia\n",
      "1149                Serbia\n",
      "1246                 Syria\n",
      "1248                 Syria\n",
      "1242                 Syria\n",
      "1275              Thailand\n",
      "1271              Thailand\n",
      "Name: COUNTRY_NAME, dtype: object \n",
      "\n"
     ]
    },
    {
     "name": "stderr",
     "output_type": "stream",
     "text": [
      "D:\\Documents\\2020\\28_UNICEF\\10_working_repo\\data-etl\\normalize\\scaler.py:231: SettingWithCopyWarning: \n",
      "A value is trying to be set on a copy of a slice from a DataFrame.\n",
      "Try using .loc[row_indexer,col_indexer] = value instead\n",
      "\n",
      "See the caveats in the documentation: https://pandas.pydata.org/pandas-docs/stable/user_guide/indexing.html#returning-a-view-versus-a-copy\n",
      "  cleansed_data_subset['SCALED'] = round(10 - 10 * (cleansed_data_subset[indicator_raw_value].astype('float') - min_val)/ tot_range, 2)\n"
     ]
    },
    {
     "name": "stdout",
     "output_type": "stream",
     "text": [
      "In the loop we are currently dealing with the subset #10, which has these defining values:     goal   target  indicator       series  \\\n",
      "1  ['1']  ['1.1']  ['1.1.1']  SI_POV_EMP1   \n",
      "\n",
      "                                   seriesDescription seriesCount valueType  \\\n",
      "1  Employed population below international povert...        9531     Float   \n",
      "\n",
      "  time_detail timeCoverage upperBound lowerBound basePeriod geoInfoUrl  \\\n",
      "1        None         None       None       None       None       None   \n",
      "\n",
      "  attributes.Nature attributes.Units dimensions.Age dimensions.Sex  \\\n",
      "1                 M          PERCENT            15+           MALE   \n",
      "\n",
      "  dimensions.Reporting Type  \n",
      "1                         G  \n",
      "\n",
      " The shape of the subset is: (107, 32)\n",
      "The distribution of the raw data values this subgroup contains outliers or is too skewed on the upper end. The maximum value to be used for the normalisation is: 3rd quartile or distribution + 1.5 * IQR. It is: 71.175 \n",
      " See histogram printed below for info. \n",
      "\n",
      "The distribution of the raw data for this subgroup does not contain outliers or is too skewed on the lower end. The minimum value used for the normalisation is the minimum value in the dataset, which is 0.0. This value corresponds to country: 151     Bosnia and Herzegovina\n",
      "150     Bosnia and Herzegovina\n",
      "149     Bosnia and Herzegovina\n",
      "144     Bosnia and Herzegovina\n",
      "152     Bosnia and Herzegovina\n",
      "                 ...          \n",
      "1396                   Uruguay\n",
      "1398                   Uruguay\n",
      "1397                   Uruguay\n",
      "1395                   Uruguay\n",
      "1399                   Uruguay\n",
      "Name: COUNTRY_NAME, Length: 88, dtype: object \n",
      "\n",
      "\n",
      " This is the distribution of the raw data of the indicator.\n",
      "AxesSubplot(0.125,0.125;0.775x0.755)\n"
     ]
    },
    {
     "name": "stderr",
     "output_type": "stream",
     "text": [
      "D:\\Documents\\2020\\28_UNICEF\\10_working_repo\\data-etl\\normalize\\scaler.py:231: SettingWithCopyWarning: \n",
      "A value is trying to be set on a copy of a slice from a DataFrame.\n",
      "Try using .loc[row_indexer,col_indexer] = value instead\n",
      "\n",
      "See the caveats in the documentation: https://pandas.pydata.org/pandas-docs/stable/user_guide/indexing.html#returning-a-view-versus-a-copy\n",
      "  cleansed_data_subset['SCALED'] = round(10 - 10 * (cleansed_data_subset[indicator_raw_value].astype('float') - min_val)/ tot_range, 2)\n"
     ]
    },
    {
     "name": "stdout",
     "output_type": "stream",
     "text": [
      "In the loop we are currently dealing with the subset #11, which has these defining values:      goal   target  indicator       series  \\\n",
      "10  ['1']  ['1.1']  ['1.1.1']  SI_POV_EMP1   \n",
      "\n",
      "                                    seriesDescription seriesCount valueType  \\\n",
      "10  Employed population below international povert...        9531     Float   \n",
      "\n",
      "   time_detail timeCoverage upperBound lowerBound basePeriod geoInfoUrl  \\\n",
      "10        None         None       None       None       None       None   \n",
      "\n",
      "   attributes.Nature attributes.Units dimensions.Age dimensions.Sex  \\\n",
      "10                 E          PERCENT            15+        BOTHSEX   \n",
      "\n",
      "   dimensions.Reporting Type  \n",
      "10                         G  \n",
      "\n",
      " The shape of the subset is: (56, 32)\n",
      "The distribution of the raw data for this subgroup does not contain outliers or is too skewed on the upper end. The maximum value used for the normalisation is the maximum value in the dataset, which is 80.4. This value corresponds to country: 909    Mozambique\n",
      "Name: COUNTRY_NAME, dtype: object \n",
      "\n",
      "The distribution of the raw data for this subgroup does not contain outliers or is too skewed on the lower end. The minimum value used for the normalisation is the minimum value in the dataset, which is 0.1. This value corresponds to country: 17      Albania\n",
      "1       Albania\n",
      "4       Albania\n",
      "2       Albania\n",
      "7       Albania\n",
      "         ...   \n",
      "1345     Turkey\n",
      "1346     Turkey\n",
      "1347     Turkey\n",
      "1348     Turkey\n",
      "1349     Turkey\n",
      "Name: COUNTRY_NAME, Length: 109, dtype: object \n",
      "\n"
     ]
    },
    {
     "name": "stderr",
     "output_type": "stream",
     "text": [
      "D:\\Documents\\2020\\28_UNICEF\\10_working_repo\\data-etl\\normalize\\scaler.py:231: SettingWithCopyWarning: \n",
      "A value is trying to be set on a copy of a slice from a DataFrame.\n",
      "Try using .loc[row_indexer,col_indexer] = value instead\n",
      "\n",
      "See the caveats in the documentation: https://pandas.pydata.org/pandas-docs/stable/user_guide/indexing.html#returning-a-view-versus-a-copy\n",
      "  cleansed_data_subset['SCALED'] = round(10 - 10 * (cleansed_data_subset[indicator_raw_value].astype('float') - min_val)/ tot_range, 2)\n"
     ]
    },
    {
     "name": "stdout",
     "output_type": "stream",
     "text": [
      "In the loop we are currently dealing with the subset #12, which has these defining values:     goal   target  indicator       series  \\\n",
      "3  ['1']  ['1.1']  ['1.1.1']  SI_POV_EMP1   \n",
      "\n",
      "                                   seriesDescription seriesCount valueType  \\\n",
      "3  Employed population below international povert...        9531     Float   \n",
      "\n",
      "  time_detail timeCoverage upperBound lowerBound basePeriod geoInfoUrl  \\\n",
      "3        None         None       None       None       None       None   \n",
      "\n",
      "  attributes.Nature attributes.Units dimensions.Age dimensions.Sex  \\\n",
      "3                 M          PERCENT          15-24        BOTHSEX   \n",
      "\n",
      "  dimensions.Reporting Type  \n",
      "3                         G  \n",
      "\n",
      " The shape of the subset is: (107, 32)\n",
      "The distribution of the raw data for this subgroup does not contain outliers or is too skewed on the upper end. The maximum value used for the normalisation is the maximum value in the dataset, which is 78.4. This value corresponds to country: 779    Madagascar\n",
      "782    Madagascar\n",
      "Name: COUNTRY_NAME, dtype: object \n",
      "\n",
      "The distribution of the raw data for this subgroup does not contain outliers or is too skewed on the lower end. The minimum value used for the normalisation is the minimum value in the dataset, which is 0.0. This value corresponds to country: 151     Bosnia and Herzegovina\n",
      "150     Bosnia and Herzegovina\n",
      "149     Bosnia and Herzegovina\n",
      "144     Bosnia and Herzegovina\n",
      "152     Bosnia and Herzegovina\n",
      "                 ...          \n",
      "1396                   Uruguay\n",
      "1398                   Uruguay\n",
      "1397                   Uruguay\n",
      "1395                   Uruguay\n",
      "1399                   Uruguay\n",
      "Name: COUNTRY_NAME, Length: 88, dtype: object \n",
      "\n"
     ]
    },
    {
     "name": "stderr",
     "output_type": "stream",
     "text": [
      "D:\\Documents\\2020\\28_UNICEF\\10_working_repo\\data-etl\\normalize\\scaler.py:231: SettingWithCopyWarning: \n",
      "A value is trying to be set on a copy of a slice from a DataFrame.\n",
      "Try using .loc[row_indexer,col_indexer] = value instead\n",
      "\n",
      "See the caveats in the documentation: https://pandas.pydata.org/pandas-docs/stable/user_guide/indexing.html#returning-a-view-versus-a-copy\n",
      "  cleansed_data_subset['SCALED'] = round(10 - 10 * (cleansed_data_subset[indicator_raw_value].astype('float') - min_val)/ tot_range, 2)\n"
     ]
    },
    {
     "name": "stdout",
     "output_type": "stream",
     "text": [
      "In the loop we are currently dealing with the subset #13, which has these defining values:     goal   target  indicator       series  \\\n",
      "4  ['1']  ['1.1']  ['1.1.1']  SI_POV_EMP1   \n",
      "\n",
      "                                   seriesDescription seriesCount valueType  \\\n",
      "4  Employed population below international povert...        9531     Float   \n",
      "\n",
      "  time_detail timeCoverage upperBound lowerBound basePeriod geoInfoUrl  \\\n",
      "4        None         None       None       None       None       None   \n",
      "\n",
      "  attributes.Nature attributes.Units dimensions.Age dimensions.Sex  \\\n",
      "4                 M          PERCENT            15+        BOTHSEX   \n",
      "\n",
      "  dimensions.Reporting Type  \n",
      "4                         G  \n",
      "\n",
      " The shape of the subset is: (107, 32)\n",
      "The distribution of the raw data for this subgroup does not contain outliers or is too skewed on the upper end. The maximum value used for the normalisation is the maximum value in the dataset, which is 74.8. This value corresponds to country: 780    Madagascar\n",
      "774    Madagascar\n",
      "Name: COUNTRY_NAME, dtype: object \n",
      "\n",
      "The distribution of the raw data for this subgroup does not contain outliers or is too skewed on the lower end. The minimum value used for the normalisation is the minimum value in the dataset, which is 0.0. This value corresponds to country: 151     Bosnia and Herzegovina\n",
      "150     Bosnia and Herzegovina\n",
      "149     Bosnia and Herzegovina\n",
      "144     Bosnia and Herzegovina\n",
      "152     Bosnia and Herzegovina\n",
      "                 ...          \n",
      "1396                   Uruguay\n",
      "1398                   Uruguay\n",
      "1397                   Uruguay\n",
      "1395                   Uruguay\n",
      "1399                   Uruguay\n",
      "Name: COUNTRY_NAME, Length: 88, dtype: object \n",
      "\n"
     ]
    },
    {
     "name": "stderr",
     "output_type": "stream",
     "text": [
      "D:\\Documents\\2020\\28_UNICEF\\10_working_repo\\data-etl\\normalize\\scaler.py:231: SettingWithCopyWarning: \n",
      "A value is trying to be set on a copy of a slice from a DataFrame.\n",
      "Try using .loc[row_indexer,col_indexer] = value instead\n",
      "\n",
      "See the caveats in the documentation: https://pandas.pydata.org/pandas-docs/stable/user_guide/indexing.html#returning-a-view-versus-a-copy\n",
      "  cleansed_data_subset['SCALED'] = round(10 - 10 * (cleansed_data_subset[indicator_raw_value].astype('float') - min_val)/ tot_range, 2)\n"
     ]
    },
    {
     "name": "stdout",
     "output_type": "stream",
     "text": [
      "In the loop we are currently dealing with the subset #14, which has these defining values:     goal   target  indicator       series  \\\n",
      "2  ['1']  ['1.1']  ['1.1.1']  SI_POV_EMP1   \n",
      "\n",
      "                                   seriesDescription seriesCount valueType  \\\n",
      "2  Employed population below international povert...        9531     Float   \n",
      "\n",
      "  time_detail timeCoverage upperBound lowerBound basePeriod geoInfoUrl  \\\n",
      "2        None         None       None       None       None       None   \n",
      "\n",
      "  attributes.Nature attributes.Units dimensions.Age dimensions.Sex  \\\n",
      "2                 M          PERCENT            25+           MALE   \n",
      "\n",
      "  dimensions.Reporting Type  \n",
      "2                         G  \n",
      "\n",
      " The shape of the subset is: (107, 32)\n",
      "The distribution of the raw data values this subgroup contains outliers or is too skewed on the upper end. The maximum value to be used for the normalisation is: 3rd quartile or distribution + 1.5 * IQR. It is: 66.55 \n",
      " See histogram printed below for info. \n",
      "\n",
      "The distribution of the raw data for this subgroup does not contain outliers or is too skewed on the lower end. The minimum value used for the normalisation is the minimum value in the dataset, which is 0.0. This value corresponds to country: 151     Bosnia and Herzegovina\n",
      "150     Bosnia and Herzegovina\n",
      "149     Bosnia and Herzegovina\n",
      "144     Bosnia and Herzegovina\n",
      "152     Bosnia and Herzegovina\n",
      "                 ...          \n",
      "1396                   Uruguay\n",
      "1398                   Uruguay\n",
      "1397                   Uruguay\n",
      "1395                   Uruguay\n",
      "1399                   Uruguay\n",
      "Name: COUNTRY_NAME, Length: 88, dtype: object \n",
      "\n",
      "\n",
      " This is the distribution of the raw data of the indicator.\n",
      "AxesSubplot(0.125,0.125;0.775x0.755)\n"
     ]
    },
    {
     "name": "stderr",
     "output_type": "stream",
     "text": [
      "D:\\Documents\\2020\\28_UNICEF\\10_working_repo\\data-etl\\normalize\\scaler.py:231: SettingWithCopyWarning: \n",
      "A value is trying to be set on a copy of a slice from a DataFrame.\n",
      "Try using .loc[row_indexer,col_indexer] = value instead\n",
      "\n",
      "See the caveats in the documentation: https://pandas.pydata.org/pandas-docs/stable/user_guide/indexing.html#returning-a-view-versus-a-copy\n",
      "  cleansed_data_subset['SCALED'] = round(10 - 10 * (cleansed_data_subset[indicator_raw_value].astype('float') - min_val)/ tot_range, 2)\n"
     ]
    },
    {
     "name": "stdout",
     "output_type": "stream",
     "text": [
      "In the loop we are currently dealing with the subset #15, which has these defining values:     goal   target  indicator       series  \\\n",
      "6  ['1']  ['1.1']  ['1.1.1']  SI_POV_EMP1   \n",
      "\n",
      "                                   seriesDescription seriesCount valueType  \\\n",
      "6  Employed population below international povert...        9531     Float   \n",
      "\n",
      "  time_detail timeCoverage upperBound lowerBound basePeriod geoInfoUrl  \\\n",
      "6        None         None       None       None       None       None   \n",
      "\n",
      "  attributes.Nature attributes.Units dimensions.Age dimensions.Sex  \\\n",
      "6                 M          PERCENT            15+         FEMALE   \n",
      "\n",
      "  dimensions.Reporting Type  \n",
      "6                         G  \n",
      "\n",
      " The shape of the subset is: (107, 32)\n",
      "The distribution of the raw data for this subgroup does not contain outliers or is too skewed on the upper end. The maximum value used for the normalisation is the maximum value in the dataset, which is 75.9. This value corresponds to country: 775    Madagascar\n",
      "Name: COUNTRY_NAME, dtype: object \n",
      "\n",
      "The distribution of the raw data for this subgroup does not contain outliers or is too skewed on the lower end. The minimum value used for the normalisation is the minimum value in the dataset, which is 0.0. This value corresponds to country: 151     Bosnia and Herzegovina\n",
      "150     Bosnia and Herzegovina\n",
      "149     Bosnia and Herzegovina\n",
      "144     Bosnia and Herzegovina\n",
      "152     Bosnia and Herzegovina\n",
      "                 ...          \n",
      "1396                   Uruguay\n",
      "1398                   Uruguay\n",
      "1397                   Uruguay\n",
      "1395                   Uruguay\n",
      "1399                   Uruguay\n",
      "Name: COUNTRY_NAME, Length: 88, dtype: object \n",
      "\n"
     ]
    },
    {
     "name": "stderr",
     "output_type": "stream",
     "text": [
      "D:\\Documents\\2020\\28_UNICEF\\10_working_repo\\data-etl\\normalize\\scaler.py:231: SettingWithCopyWarning: \n",
      "A value is trying to be set on a copy of a slice from a DataFrame.\n",
      "Try using .loc[row_indexer,col_indexer] = value instead\n",
      "\n",
      "See the caveats in the documentation: https://pandas.pydata.org/pandas-docs/stable/user_guide/indexing.html#returning-a-view-versus-a-copy\n",
      "  cleansed_data_subset['SCALED'] = round(10 - 10 * (cleansed_data_subset[indicator_raw_value].astype('float') - min_val)/ tot_range, 2)\n"
     ]
    },
    {
     "name": "stdout",
     "output_type": "stream",
     "text": [
      "In the loop we are currently dealing with the subset #16, which has these defining values:     goal   target  indicator       series  \\\n",
      "7  ['1']  ['1.1']  ['1.1.1']  SI_POV_EMP1   \n",
      "\n",
      "                                   seriesDescription seriesCount valueType  \\\n",
      "7  Employed population below international povert...        9531     Float   \n",
      "\n",
      "  time_detail timeCoverage upperBound lowerBound basePeriod geoInfoUrl  \\\n",
      "7        None         None       None       None       None       None   \n",
      "\n",
      "  attributes.Nature attributes.Units dimensions.Age dimensions.Sex  \\\n",
      "7                 M          PERCENT            25+         FEMALE   \n",
      "\n",
      "  dimensions.Reporting Type  \n",
      "7                         G  \n",
      "\n",
      " The shape of the subset is: (107, 32)\n",
      "The distribution of the raw data for this subgroup does not contain outliers or is too skewed on the upper end. The maximum value used for the normalisation is the maximum value in the dataset, which is 74.8. This value corresponds to country: 780    Madagascar\n",
      "774    Madagascar\n",
      "Name: COUNTRY_NAME, dtype: object \n",
      "\n",
      "The distribution of the raw data for this subgroup does not contain outliers or is too skewed on the lower end. The minimum value used for the normalisation is the minimum value in the dataset, which is 0.0. This value corresponds to country: 151     Bosnia and Herzegovina\n",
      "150     Bosnia and Herzegovina\n",
      "149     Bosnia and Herzegovina\n",
      "144     Bosnia and Herzegovina\n",
      "152     Bosnia and Herzegovina\n",
      "                 ...          \n",
      "1396                   Uruguay\n",
      "1398                   Uruguay\n",
      "1397                   Uruguay\n",
      "1395                   Uruguay\n",
      "1399                   Uruguay\n",
      "Name: COUNTRY_NAME, Length: 88, dtype: object \n",
      "\n"
     ]
    },
    {
     "name": "stderr",
     "output_type": "stream",
     "text": [
      "D:\\Documents\\2020\\28_UNICEF\\10_working_repo\\data-etl\\normalize\\scaler.py:231: SettingWithCopyWarning: \n",
      "A value is trying to be set on a copy of a slice from a DataFrame.\n",
      "Try using .loc[row_indexer,col_indexer] = value instead\n",
      "\n",
      "See the caveats in the documentation: https://pandas.pydata.org/pandas-docs/stable/user_guide/indexing.html#returning-a-view-versus-a-copy\n",
      "  cleansed_data_subset['SCALED'] = round(10 - 10 * (cleansed_data_subset[indicator_raw_value].astype('float') - min_val)/ tot_range, 2)\n"
     ]
    },
    {
     "name": "stdout",
     "output_type": "stream",
     "text": [
      "In the loop we are currently dealing with the subset #17, which has these defining values:     goal   target  indicator       series  \\\n",
      "8  ['1']  ['1.1']  ['1.1.1']  SI_POV_EMP1   \n",
      "\n",
      "                                   seriesDescription seriesCount valueType  \\\n",
      "8  Employed population below international povert...        9531     Float   \n",
      "\n",
      "  time_detail timeCoverage upperBound lowerBound basePeriod geoInfoUrl  \\\n",
      "8        None         None       None       None       None       None   \n",
      "\n",
      "  attributes.Nature attributes.Units dimensions.Age dimensions.Sex  \\\n",
      "8                 M          PERCENT          15-24           MALE   \n",
      "\n",
      "  dimensions.Reporting Type  \n",
      "8                         G  \n",
      "\n",
      " The shape of the subset is: (107, 32)\n",
      "The distribution of the raw data for this subgroup does not contain outliers or is too skewed on the upper end. The maximum value used for the normalisation is the maximum value in the dataset, which is 78.3. This value corresponds to country: 776    Madagascar\n",
      "Name: COUNTRY_NAME, dtype: object \n",
      "\n",
      "The distribution of the raw data for this subgroup does not contain outliers or is too skewed on the lower end. The minimum value used for the normalisation is the minimum value in the dataset, which is 0.0. This value corresponds to country: 151     Bosnia and Herzegovina\n",
      "150     Bosnia and Herzegovina\n",
      "149     Bosnia and Herzegovina\n",
      "144     Bosnia and Herzegovina\n",
      "152     Bosnia and Herzegovina\n",
      "                 ...          \n",
      "1396                   Uruguay\n",
      "1398                   Uruguay\n",
      "1397                   Uruguay\n",
      "1395                   Uruguay\n",
      "1399                   Uruguay\n",
      "Name: COUNTRY_NAME, Length: 88, dtype: object \n",
      "\n"
     ]
    },
    {
     "name": "stderr",
     "output_type": "stream",
     "text": [
      "D:\\Documents\\2020\\28_UNICEF\\10_working_repo\\data-etl\\normalize\\scaler.py:231: SettingWithCopyWarning: \n",
      "A value is trying to be set on a copy of a slice from a DataFrame.\n",
      "Try using .loc[row_indexer,col_indexer] = value instead\n",
      "\n",
      "See the caveats in the documentation: https://pandas.pydata.org/pandas-docs/stable/user_guide/indexing.html#returning-a-view-versus-a-copy\n",
      "  cleansed_data_subset['SCALED'] = round(10 - 10 * (cleansed_data_subset[indicator_raw_value].astype('float') - min_val)/ tot_range, 2)\n"
     ]
    },
    {
     "name": "stdout",
     "output_type": "stream",
     "text": [
      "In the loop we are currently dealing with the subset #18, which has these defining values:     goal   target  indicator       series  \\\n",
      "5  ['1']  ['1.1']  ['1.1.1']  SI_POV_EMP1   \n",
      "\n",
      "                                   seriesDescription seriesCount valueType  \\\n",
      "5  Employed population below international povert...        9531     Float   \n",
      "\n",
      "  time_detail timeCoverage upperBound lowerBound basePeriod geoInfoUrl  \\\n",
      "5        None         None       None       None       None       None   \n",
      "\n",
      "  attributes.Nature attributes.Units dimensions.Age dimensions.Sex  \\\n",
      "5                 M          PERCENT            25+        BOTHSEX   \n",
      "\n",
      "  dimensions.Reporting Type  \n",
      "5                         G  \n",
      "\n",
      " The shape of the subset is: (107, 32)\n",
      "The distribution of the raw data values this subgroup contains outliers or is too skewed on the upper end. The maximum value to be used for the normalisation is: 3rd quartile or distribution + 1.5 * IQR. It is: 72.92500000000001 \n",
      " See histogram printed below for info. \n",
      "\n",
      "The distribution of the raw data for this subgroup does not contain outliers or is too skewed on the lower end. The minimum value used for the normalisation is the minimum value in the dataset, which is 0.0. This value corresponds to country: 151     Bosnia and Herzegovina\n",
      "150     Bosnia and Herzegovina\n",
      "149     Bosnia and Herzegovina\n",
      "144     Bosnia and Herzegovina\n",
      "152     Bosnia and Herzegovina\n",
      "                 ...          \n",
      "1396                   Uruguay\n",
      "1398                   Uruguay\n",
      "1397                   Uruguay\n",
      "1395                   Uruguay\n",
      "1399                   Uruguay\n",
      "Name: COUNTRY_NAME, Length: 88, dtype: object \n",
      "\n",
      "\n",
      " This is the distribution of the raw data of the indicator.\n",
      "AxesSubplot(0.125,0.125;0.775x0.755)\n",
      "The number of rows in the dataframe after the right join are: (3510, 40)\n"
     ]
    },
    {
     "name": "stderr",
     "output_type": "stream",
     "text": [
      "D:\\Documents\\2020\\28_UNICEF\\10_working_repo\\data-etl\\normalize\\scaler.py:231: SettingWithCopyWarning: \n",
      "A value is trying to be set on a copy of a slice from a DataFrame.\n",
      "Try using .loc[row_indexer,col_indexer] = value instead\n",
      "\n",
      "See the caveats in the documentation: https://pandas.pydata.org/pandas-docs/stable/user_guide/indexing.html#returning-a-view-versus-a-copy\n",
      "  cleansed_data_subset['SCALED'] = round(10 - 10 * (cleansed_data_subset[indicator_raw_value].astype('float') - min_val)/ tot_range, 2)\n"
     ]
    },
    {
     "name": "stdout",
     "output_type": "stream",
     "text": [
      "The raw data has been saved as .xlsx file in: D:\\Documents\\2020\\28_UNICEF\\10_working_repo\\data-etl\\data\\data_normalized\\\n"
     ]
    },
    {
     "data": {
      "image/png": "[encoded data removed]",
      "text/plain": [
       "<Figure size 432x288 with 1 Axes>"
      ]
     },
     "metadata": {
      "needs_background": "light"
     },
     "output_type": "display_data"
    }
   ],
   "source": [
    "# Scale the raw data and bring the dataframe into long formmat\n",
    "s204_normalized = scaler.normalizer(cleansed_data = s204_cleansed,\n",
    "                        indicator_raw_value = 'value',\n",
    "                        indicator_code = 'NEW',\n",
    "                        indicator_name = 'Working poverty rate',\n",
    "                        cleansed_df_iso2_col = 'CountryIso2',\n",
    "                        crba_final_country_list = country_crba_list,\n",
    "                        crba_final_country_list_iso_col = 'COUNTRY_ISO_2',\n",
    "                        inverted = True,\n",
    "                        non_dim_cols = ['geoAreaCode',\n",
    "                                        'geoAreaName',\n",
    "                                        'timePeriodStart',\n",
    "                                        'source',\n",
    "                                        'value',\n",
    "                                        'footnotes', \n",
    "                                        'Unnamed: 0', \n",
    "                                        'CountryDesc',\n",
    "                                        'CountryIso2',\n",
    "                                        'CountryIso3',\n",
    "                                        'COUNTRY_ISO_2',\n",
    "                                        'COUNTRY_ISO_3',\n",
    "                                        'COUNTRY_NAME',\n",
    "                                        '_merge']\n",
    "                       )\n",
    "\n",
    "# save normalized data\n",
    "save_normalized_data.save_normalized_data(dataframe = s204_normalized,\n",
    "             filename = 'S_204_normalized.xlsx')"
   ]
  },
  {
   "cell_type": "markdown",
   "metadata": {},
   "source": [
    "### Select only those rows/ columns which are relevant \n",
    "\n",
    "* < to do >\n",
    "* Right now, the normalized dataset contains data on ALL subsets (which are defined by the dimension values). Ultimately, there has to be a commitment to one Subset of an indicator \n",
    "* But this filtering to exactly one dimension (i.e. one row per country) will be done later"
   ]
  },
  {
   "cell_type": "markdown",
   "metadata": {
    "heading_collapsed": true
   },
   "source": [
    "#  <div align=\"center\"> - - - - Archive/ Trash/ dev section (Disregard this section) - - - - - </div>"
   ]
  },
  {
   "cell_type": "code",
   "execution_count": null,
   "metadata": {
    "hidden": true
   },
   "outputs": [],
   "source": [
    "# Concatenate data to the\n",
    "s62_final = country_full_list.merge(right = s62_scaled,\n",
    "                 indicator = True,\n",
    "                 how = 'outer',\n",
    "                 left_on = 'CountryDesc',\n",
    "                 right_on = 'geoAreaName', # validate = 'many_to_one'\n",
    "                 ).assign(indicator ='I-20')\n",
    "\n",
    "# Check if some countries got lost during the join\n",
    "print('The number of rows in the raw data set was {}. The number of available datapoints in the final dataframe is {}. Therefore, {} rows got lost during the join.'.format(\n",
    "    len(s62_scaled), \n",
    "    s61_final.value.notna().sum(), \n",
    "    len(s62_scaled) - s62_final.value.notna().sum()))"
   ]
  },
  {
   "cell_type": "code",
   "execution_count": null,
   "metadata": {
    "hidden": true
   },
   "outputs": [],
   "source": [
    "# Concatenate data to the\n",
    "s61_final = country_full_list.merge(right = s61_scaled,\n",
    "                 indicator = True,\n",
    "                 how = 'outer',\n",
    "                 left_on = 'CountryDesc',\n",
    "                 right_on = 'geoAreaName',\n",
    "                 validate = 'many_to_one').assign(indicator ='I-19')\n",
    "\n",
    "# Check if some countries got lost during the join\n",
    "print('The number of rows in the raw data set was {}. The number of available datapoints in the final dataframe is {}. Therefore, {} rows got lost during the join.'.format(\n",
    "    len(s61_scaled), \n",
    "    s61_final.value.notna().sum(), \n",
    "    len(s61_scaled) - s61_final.value.notna().sum()))"
   ]
  },
  {
   "cell_type": "code",
   "execution_count": null,
   "metadata": {
    "hidden": true
   },
   "outputs": [],
   "source": [
    "non_dim_cols = ['value',\n",
    "              'source',\n",
    "              'timePeriodStart',\n",
    "              'footnotes',\n",
    "              'Unnamed: 0']\n",
    "\n",
    "debug_s23 = s23_raw[s23_raw['geoAreaName'] == 'Albania'][['geoAreaName',\n",
    "                                                         'timePeriodStart',\n",
    "                                                         'dimensions.Sex',\n",
    "                                                         'dimensions.Activity']]\n",
    "\n",
    "\n",
    "debug_col_list = debug_s23.columns.to_list() # list of all columns in the dataframe\n",
    "debug_non_dim_cols_tuple = tuple(non_dim_cols) # parameters must be passed as list, but the following command requires a tuple\n",
    "debug_col_list_gb = [e for e in debug_col_list if e not in debug_non_dim_cols_tuple] # exclude timePeriodStart and value, because these one'saren't used for the groupby statement\n",
    "\n",
    "    # Some of the columns contain values which Python interprets as lists (e.g. [8.1]). These make the groupby statement malfunction. Convert them to string\n",
    "debug_s23[debug_col_list_gb] =  debug_s23[debug_col_list_gb].astype(str)\n",
    "\n",
    "    # It may be that the time period column is not of type numerical\n",
    "debug_s23 = debug_s23.astype({'timePeriodStart': float})\n",
    "\n",
    "# convert column \"a\" to int64 dtype and \"b\" to complex type\n",
    "# df = df.astype({\"a\": int, \"b\": complex})\n",
    "\n",
    "    # Retreive the latest available data for each group, where group is 'col_list_gb'\n",
    "grouped_data = debug_s23[debug_s23['timePeriodStart'] == debug_s23.groupby(debug_col_list_gb)['timePeriodStart'].transform('max')]"
   ]
  },
  {
   "cell_type": "code",
   "execution_count": null,
   "metadata": {
    "hidden": true
   },
   "outputs": [],
   "source": [
    "import pandas as pd\n",
    "\n",
    "def SOME_CLEANSER(raw_data, country_list_full, country_list_full_name_col, country_list_full_iso2_col, country_df, country_df_iso2_col, non_dim_cols):\n",
    "    \"\"\"Cleanse raw data from SDG API\n",
    "\n",
    "    Retrieve only the latest observations for each country-dimension group. NB Dimensions make are part of the composite primary key of the dataset and therefore their values define groups, e.g. male vs femeale in a country.\n",
    "    Discard countries that aren't in the CRBA final list of countries\n",
    "\n",
    "    Parameters:\n",
    "    raw_data (obj): Return of function 'extract_sdg_api_data'. Should be a pandas dataframe.\n",
    "    country_list_full (obj): Dataframe containing the full list of countries with all their country name variations, should be in long format\n",
    "    country_list_full_name_col (str): Column in 'country_list_full', which contains the country names (this column should be the primary key of the dataframe as well)\n",
    "    country_list_full_iso2_col (str): Column in 'country_list_full', which contains the country iso2 codes.\n",
    "    country_df (obj): Dataframe containing the final CRBA list of countries\n",
    "    country_df_iso2_col (str): Column in 'country_df', which contains the country iso2 codes.\n",
    "    non_dim_cols (list): List of columns, which should be excluded from the group by statement (that is, if a column is not indicated here, then the maximum value for each of its values will be calculated)\n",
    "\n",
    "    Returns:\n",
    "    obj: Returns pandas dataframe, which only contains the countries meant to be in CRBA and the latest observed value for the indiator.\n",
    "\n",
    "   \"\"\"\n",
    "\n",
    "    # Group by to obtain the latest available value per group, where group is 'col_list_gb'\n",
    "        # Create list of all column to group by\n",
    "    col_list = raw_data.columns.to_list() # list of all columns in the dataframe\n",
    "    non_dim_cols_tuple = tuple(non_dim_cols) # parameters must be passed as list, but the following command requires a tuple\n",
    "    col_list_gb = [e for e in col_list if e not in non_dim_cols_tuple] # exclude timePeriodStart and value, because these one'saren't used for the groupby statement\n",
    "\n",
    "        # Some of the columns contain values which Python interprets as lists (e.g. [8.1]). These make the groupby statement malfunction. Convert them to string\n",
    "    raw_data[col_list_gb] =  raw_data[col_list_gb].astype(str)\n",
    "\n",
    "        # It may be that the time period column is not of type numerical\n",
    "    raw_data['timePeriodStart'] = pd.to_numeric(raw_data['timePeriodStart'])\n",
    "\n",
    "        # Retreive the latest available data for each group, where group is 'col_list_gb'\n",
    "    grouped_data = raw_data[raw_data[\n",
    "        'timePeriodStart'] == raw_data.groupby(col_list_gb)['timePeriodStart'].transform('max')]\n",
    "\n",
    "    \n",
    "    #print(raw_data.groupby(col_list_gb)['timePeriodStart'].transform('max').head(15))\n",
    "    #print(raw_data['timePeriodStart'] == raw_data.groupby(col_list_gb)['timePeriodStart'].transform('max'))\n",
    "    print(col_list_gb)\n",
    "    # print(grouped_data[grouped_data['geoAreaName'] == 'Angola'].head(50))\n",
    "    \n",
    "    # Discard rows of countries that are not in the master country list\n",
    "        # The raw data only contains country names. Assign ISO codes to these country names\n",
    "    grouped_data_iso = grouped_data.merge(\n",
    "        right = country_list_full,\n",
    "        how = 'left',\n",
    "        left_on = 'geoAreaName',\n",
    "        right_on = country_list_full_name_col,\n",
    "        validate = 'many_to_one')\n",
    "\n",
    "        # Discard countries that aren't part of the final CRBA master list\n",
    "    grouped_data_iso_filt = grouped_data_iso.merge(\n",
    "        right = country_df,\n",
    "        how = 'right',\n",
    "        left_on = country_list_full_iso2_col,\n",
    "        right_on = country_df_iso2_col,\n",
    "        indicator = True,\n",
    "        validate = 'many_to_one')\n",
    "\n",
    "    # Note of Michael: \"Validation: Number of rows should be 195\" --> This is incorrect, the number can also diverge (because the left table may contain one, several or no values for a country-key)\n",
    "\n",
    "    # return result\n",
    "    return(grouped_data_iso_filt.sort_values(by = country_df_iso2_col, axis = 0))\n"
   ]
  },
  {
   "cell_type": "code",
   "execution_count": null,
   "metadata": {
    "hidden": true
   },
   "outputs": [],
   "source": [
    "pd.to_numeric(s23_normalized[\n",
    "    (s23_normalized['dimensions.Sex'] == 'BOTHSEX') &\n",
    "    (s23_normalized['dimensions.Activity'] == 'NONAGR') &\n",
    "    (s23_normalized['VALUE_TYPE'] == 'value') \n",
    "    \n",
    "]['value']).hist(bins = 30)"
   ]
  },
  {
   "cell_type": "code",
   "execution_count": null,
   "metadata": {
    "hidden": true,
    "scrolled": true
   },
   "outputs": [],
   "source": [
    "tot_num_subsets = 1\n",
    "for col in s23_cleansed:\n",
    "    print('The column {} has {} unique values.'.format(col, s23_cleansed[col].nunique()))\n",
    "    tot_num_subsets *= s23_cleansed[col].nunique()\n",
    "print(tot_num_subsets)"
   ]
  },
  {
   "cell_type": "code",
   "execution_count": null,
   "metadata": {
    "hidden": true
   },
   "outputs": [],
   "source": [
    "# Scale the raw data and \n",
    "s23_scaled = s23_cleansed.assign(\n",
    "    scaled = scaler(s23_cleansed.value))\n",
    "\n"
   ]
  },
  {
   "cell_type": "code",
   "execution_count": null,
   "metadata": {
    "hidden": true
   },
   "outputs": [],
   "source": [
    "# We are intested in sector = non-agricultural and want the data for both sexes. Filter the other rows out:\n",
    "temp = s23_raw[(s23_raw['dimensions.Sex'] == 'BOTHSEX') & (s23_raw['dimensions.Activity'] == 'NONAGR')]\n",
    "\n",
    "# transform data\n",
    "s23_cleansed = transform_sdg_api_data(raw_data = temp)\n",
    "\n",
    "\n",
    "\n"
   ]
  },
  {
   "cell_type": "code",
   "execution_count": null,
   "metadata": {
    "hidden": true
   },
   "outputs": [],
   "source": [
    "# Concatenate data to the\n",
    "s24_final = country_full_list.merge(right = s24_scaled,\n",
    "                 indicator = True,\n",
    "                 how = 'left',\n",
    "                 left_on = 'CountryDesc',\n",
    "                 right_on = 'geoAreaName',\n",
    "                 validate = 'many_to_one').assign(indicator ='I-14')\n",
    "\n",
    "# Check if some countries got lost during the join\n",
    "print('The number of rows in the raw data set was {}. The number of available datapoints in the final dataframe is {}. Therefore, {} rows got lost during the join.'.format(\n",
    "    len(s24_scaled), \n",
    "    s24_final.value.notna().sum(), \n",
    "    len(s24_scaled) - s24_final.value.notna().sum()))"
   ]
  },
  {
   "cell_type": "code",
   "execution_count": null,
   "metadata": {
    "hidden": true
   },
   "outputs": [],
   "source": [
    "import pandas as pd\n",
    "import numpy as np\n",
    "    \n",
    "def normalizer(cleansed_data, indicator_raw_value, cleansed_df_iso2_col, crba_final_country_list, crba_final_country_list_iso_col, cat_var = False, cat_scoring_type = None, inverted = False, non_dim_cols = None, whisker_factor = 1.5):\n",
    "    \"\"\" Transform cleansed datasets into scaled (normalized) data in long format\n",
    "    \n",
    "    Parameters:\n",
    "    cleansed_data (obj): Raw dataset, pandas dataframe\n",
    "    indicator_raw_value (str): Column containing the actual raw data values \n",
    "    cleansed_df_iso2_col (str): Column which holds the ISO2 code in 'cleansed_data'\n",
    "    crba_final_country_list (obj): Final CRBA country list, should contain country ISO2 (primary key), ISO3 and country name columns.\n",
    "    crba_final_country_list_iso_col (str): Column in crba_final_country_list which holds the ISO2 codes of the countries. \n",
    "    cat_var (bool): is variable of type categorical or numerical?\n",
    "    cat_scoring_type (str): For categorical variables, specify the scoring type (i.e. what values the categorical variable can take)\n",
    "    inverted (bool): If we are dealing with a numerical variable, should the values be inverted?\n",
    "    whisker_factor (float): Whisker factor which is multiplied with the interquartile range (IQR) to define outliers. Default value is 1.5, as is standard in statistics.\n",
    "    non_dim_cols (list): List of columns who are required to uniquely identify a row in the dataset. The normalization will be done for each dimension-subset there is.  \n",
    "\n",
    "    Returns:\n",
    "    obj: Returns numpy array with transformed values\n",
    "    \"\"\"\n",
    "    \n",
    "    # Check if an indicator is numeric of categorical\n",
    "    if cat_var == True:\n",
    "        # This is the section dealing with categorical indicators\n",
    "        # There are various scoring_types a categorical variable can take. For each one, different labels apply to the values\n",
    "        # Type 2-1-0\n",
    "        if cat_scoring_type == 'Type 2-1-0':\n",
    "            # Specify the values the raw data can take\n",
    "            conditions = [\n",
    "                (cleansed_data[indicator_raw_value] == 0),\n",
    "                (cleansed_data[indicator_raw_value] == 1),\n",
    "                (cleansed_data[indicator_raw_value] == 2)\n",
    "                ]\n",
    "            \n",
    "            # Specify the normalized values\n",
    "            norm_values = ['No data', '0.00', '10.00']\n",
    "\n",
    "        # Type 2-1\n",
    "        elif cat_scoring_type == 'Type 2-1':\n",
    "            # Specify the values the raw data can take\n",
    "            conditions = [\n",
    "                (cleansed_data[indicator_raw_value] == 1),\n",
    "                (cleansed_data[indicator_raw_value] == 2)\n",
    "                ]\n",
    "            \n",
    "            # Specify the normalized values\n",
    "            norm_values = ['0.00', '10.00']\n",
    "\n",
    "        # Type 3-2-1\n",
    "        elif cat_scoring_type == 'Type 3-2-1':\n",
    "            # Specify the values the raw data can take\n",
    "            conditions = [\n",
    "                (cleansed_data[indicator_raw_value] == 1),\n",
    "                (cleansed_data[indicator_raw_value] == 2),\n",
    "                (cleansed_data[indicator_raw_value] == 3)\n",
    "                ]\n",
    "            \n",
    "            # Specify the normalized values\n",
    "            norm_values = ['0.00', '5.00', '10.00']\n",
    "\n",
    "        # Type 3-2-1-0\n",
    "        elif cat_scoring_type == 'Type 3-2-1-0':\n",
    "            # Specify the values the raw data can take\n",
    "            conditions = [\n",
    "                (cleansed_data[indicator_raw_value] == 0)\n",
    "                (cleansed_data[indicator_raw_value] == 1),\n",
    "                (cleansed_data[indicator_raw_value] == 2),\n",
    "                (cleansed_data[indicator_raw_value] == 3)\n",
    "                ]\n",
    "            \n",
    "            # Specify the normalized values\n",
    "            norm_values = ['No data', '0.00', '5.00', '10.00']            \n",
    "            \n",
    "        # Type 4-3-2-1\n",
    "        elif cat_scoring_type == 'Type 4-3-2-1':\n",
    "            # Specify the values the raw data can take\n",
    "            conditions = [\n",
    "                (cleansed_data[indicator_raw_value] == 1),\n",
    "                (cleansed_data[indicator_raw_value] == 2),\n",
    "                (cleansed_data[indicator_raw_value] == 3),\n",
    "                (cleansed_data[indicator_raw_value] == 4)\n",
    "                ]\n",
    "            \n",
    "            # Specify the normalized values\n",
    "            norm_values = ['0.00', '3.33', '6.67', '10.00']                \n",
    "            \n",
    "            \n",
    "            # create a new column and use np.select to assign values to it using our lists as arguments\n",
    "            cleansed_data['SCALED'] = np.select(conditions, values)\n",
    "\n",
    "        # Type 4-3-2-1-0\n",
    "        elif cat_scoring_type == 'Type 4-3-2-1-0':\n",
    "            # Specify the values the raw data can take\n",
    "            conditions = [\n",
    "                (cleansed_data[indicator_raw_value] == 0)\n",
    "                (cleansed_data[indicator_raw_value] == 1),\n",
    "                (cleansed_data[indicator_raw_value] == 2),\n",
    "                (cleansed_data[indicator_raw_value] == 3),\n",
    "                (cleansed_data[indicator_raw_value] == 4)\n",
    "                ]\n",
    "            \n",
    "            # Specify the normalized values\n",
    "            norm_values = ['No data', '0.00', '3.33', '6.67', '10.00'] \n",
    "\n",
    "\n",
    "        # Type 5-4-3-2-1-0\n",
    "        elif cat_scoring_type == 'Type 5-4-3-2-1-0':\n",
    "            # Specify the values the raw data can take\n",
    "            conditions = [\n",
    "                (cleansed_data[indicator_raw_value] == 0)\n",
    "                (cleansed_data[indicator_raw_value] == 1),\n",
    "                (cleansed_data[indicator_raw_value] == 2),\n",
    "                (cleansed_data[indicator_raw_value] == 3),\n",
    "                (cleansed_data[indicator_raw_value] == 4),\n",
    "                (cleansed_data[indicator_raw_value] == 5)\n",
    "                ]\n",
    "            \n",
    "            # Specify the normalized values\n",
    "            norm_values = ['No data', '0.00', '2.50', '5.00', '7.50', '10.00']\n",
    "            \n",
    "        # Type 7-6-5-4-3-2-1-0\n",
    "        elif cat_scoring_type == 'Type 7-6-5-4-3-2-1-0':\n",
    "            # Specify the values the raw data can take\n",
    "            conditions = [\n",
    "                (cleansed_data[indicator_raw_value] == 0)\n",
    "                (cleansed_data[indicator_raw_value] == 1),\n",
    "                (cleansed_data[indicator_raw_value] == 2),\n",
    "                (cleansed_data[indicator_raw_value] == 3),\n",
    "                (cleansed_data[indicator_raw_value] == 4),\n",
    "                (cleansed_data[indicator_raw_value] == 5),\n",
    "                (cleansed_data[indicator_raw_value] == 6),\n",
    "                (cleansed_data[indicator_raw_value] == 7)\n",
    "                ]\n",
    "            \n",
    "            # Specify the normalized values\n",
    "            norm_values = ['No data', '0.00', '1.67', '3.33', '5.00', '6.67', '8.33', '10.00'] \n",
    "        \n",
    "        else:\n",
    "            raise('The scoring type you have specified does not exist. Make sure your scoring type is listed in the documentation of this fuction.') \n",
    "        \n",
    "        # create a new column and use np.select to assign values to it using our lists as arguments\n",
    "        cleansed_data['SCALED'] = np.select(conditions, values)\n",
    "            \n",
    "    else:\n",
    "        # This is the section dealing with numerical indicators\n",
    "        # If there are dimensions in the dataset (e.g. GENDER), then the normalization of the indicator score \n",
    "        # must be done for all subgroups of all dimensions. For that, we must extract these subsets in the original dataset\n",
    "\n",
    "        # Extract the subsets (defined by the dimensions) of the data\n",
    "            # Exclude columns which are are not a dimension or should not be part in defining a subset (i.e. they aren't part of a unique identifier of a row)\n",
    "        col_list = cleansed_data.columns.to_list() # list of all columns in the dataframe\n",
    "        non_dim_cols_tuple = tuple(non_dim_cols) # parameters must be passed as list, but the following command requires a tuple\n",
    "        non_essential_col = [e for e in col_list if e not in non_dim_cols_tuple]\n",
    "        \n",
    "            # Define parameters to run a loop going through all subsets\n",
    "        length = cleansed_data[non_essential_col].drop_duplicates().shape[0]\n",
    "        width = cleansed_data[non_essential_col].drop_duplicates().shape[1]\n",
    "\n",
    "        # Create empty final dataframe before entering loop. The different subsets will be appended in this DF to obtain the full dataset incl. the scaled variable in the end\n",
    "        cleansed_data_full = pd.DataFrame(columns = cleansed_data.columns.tolist())\n",
    "        \n",
    "        # Loop: i) defining values of subsets to create ii) subsets , iii) calculate the scaled value for all of them and iv) append the subsets in one dataframe\n",
    "        for j in range(1, length):\n",
    "            # i) Create the defining values of the subset\n",
    "            subset = ''\n",
    "            for i in range(width):\n",
    "                subset += '(cleansed_data[cleansed_data[non_essential_col].columns[{}]] == cleansed_data[non_essential_col].drop_duplicates().iloc[{}, {}]) & '.format(i, j, i)\n",
    "            subset = subset.rstrip('& ')\n",
    "            \n",
    "            # ii) Define the subset of the entire dataframe \n",
    "            cleansed_data_subset = cleansed_data[eval(subset)]\n",
    "            \n",
    "            # Log: Inform user what subset the operations are being performed on\n",
    "            print('In the loop we are currently dealing with the subset #{}, which has these defining values: {}'.format(j, cleansed_data_subset[non_essential_col].drop_duplicates()))\n",
    "            print('\\n The shape of the subset is: {}'.format(cleansed_data_subset.shape)) # DELETE\n",
    "            \n",
    "            # Often, the subset will be empty dataframes, because they only consists of NaN values\n",
    "            try: \n",
    "                # iii) Determine basic descriptive statistics of the distribution that are required for the normalization\n",
    "                min_val = np.nanmin(cleansed_data_subset[indicator_raw_value].astype('float'))\n",
    "                max_val = np.nanmax(cleansed_data_subset[indicator_raw_value].astype('float'))\n",
    "                q1 =  cleansed_data_subset[indicator_raw_value].astype('float').quantile(q=0.25)\n",
    "                q2 =  cleansed_data_subset[indicator_raw_value].astype('float').quantile(q=0.50)\n",
    "                q3 =  cleansed_data_subset[indicator_raw_value].astype('float').quantile(q=0.75)                      \n",
    "                iqr = q3 - q1\n",
    "\n",
    "                # Define what max value to use for the normalization            \n",
    "                if max_val > q3 + whisker_factor * iqr:\n",
    "                    max_to_use = q3 + whisker_factor * iqr\n",
    "                    print('The distribution of the raw data values this subgroup contains outliers or is too skewed on the upper end. The maximum value to be used for the normalisation is: 3rd quartile or distribution + {} * IQR. It is: {} \\n See histogram printed below for info. \\n'.format(whisker_factor, max_to_use))\n",
    "                else:\n",
    "                    max_to_use = max_val\n",
    "                    print('The distribution of the raw data for this subgroup does not contain outliers or is too skewed on the upper end. The maximum value used for the normalisation is the maximum value in the dataset, which is {}. This value corresponds to country: {} \\n'.format(max_to_use, cleansed_data[cleansed_data[indicator_raw_value].astype('float') == max_val].COUNTRY_NAME))\n",
    "\n",
    "                # Define what min value to use for the normalization\n",
    "                if min_val < q1 - whisker_factor * iqr:\n",
    "                    min_to_use = q1 - whisker_factor * iqr\n",
    "                    print('The distribution of the raw data values for this subgroup contains outliers or is too skewed on the lower end. The minimum value to be used for the normalisation is 1st quartile or distribution - {} * IQR. It is: {} \\n See histogram printed below for info. \\n'.format(whisker_factor, min_to_use))\n",
    "                else:\n",
    "                    min_to_use = min_val\n",
    "                    print('The distribution of the raw data for this subgroup does not contain outliers or is too skewed on the lower end. The minimum value used for the normalisation is the minimum value in the dataset, which is {}. This value corresponds to country: {} \\n'.format(min_to_use, cleansed_data[cleansed_data[indicator_raw_value].astype('float') == min_val].COUNTRY_NAME))\n",
    "\n",
    "                # If there are outliers or a skewed distribution, print the distribution for the user.\n",
    "                if (min_val < q1 - whisker_factor * iqr) or (max_val > q3 + whisker_factor * iqr):\n",
    "                    print('\\n This is the distribution of the raw data of the indicator.')\n",
    "                    print(cleansed_data_subset[indicator_raw_value].hist(bins = 30))\n",
    "\n",
    "                # Define the value range that is used for the scaling (normalization)\n",
    "                tot_range = max_val - min_val \n",
    "\n",
    "                # Compute the normalized value of the raw data in the column \"SCALED\"\n",
    "                    # Distinguish between indicators, whose value must be inverted\n",
    "                if inverted == True:\n",
    "                    cleansed_data_subset['SCALED'] = round(10 - 10 * (cleansed_data_subset[indicator_raw_value].astype('float') - min_val)/ tot_range, 2)\n",
    "                else:\n",
    "                    cleansed_data_subset['SCALED'] = round(10 * (cleansed_data_subset[indicator_raw_value].astype('float') - min_val)/ tot_range, 2)  \n",
    "\n",
    "                # iv) Append the subset including its scaled value to the final returned dataframe\n",
    "                    # Right join to have all countries from the final crba master list\n",
    "                cleansed_data_subset_rj = cleansed_data_subset.merge(\n",
    "                       right = crba_final_country_list,\n",
    "                      how = 'right',\n",
    "                      left_on = cleansed_df_iso2_col,\n",
    "                      right_on = crba_final_country_list_iso_col,\n",
    "                      indicator = 'RJ_CRBA_FULL_LIST'\n",
    "                  )\n",
    "\n",
    "                    # Append the values\n",
    "                cleansed_data_full = cleansed_data_full.append(cleansed_data_subset_rj)\n",
    "\n",
    "            except:\n",
    "                print('Dataframe is empty. There are no values to append.')\n",
    "                    \n",
    "    # Bring the final dataframe with scaled (normalized) values from wide to long format\n",
    "        # Prepare the melting of the dataframe, by defining what columns remain untouched by the melt\n",
    "    kept_columns = [x for x in cleansed_data_full.columns.tolist() if x not in [indicator_raw_value, 'SCALED']]\n",
    "    \n",
    "        # Bring the dataframe from wide to long format and return it\n",
    "    return(\n",
    "        pd.melt(cleansed_data_full,\n",
    "           id_vars = kept_columns,\n",
    "           value_vars = [indicator_raw_value, 'SCALED'],\n",
    "           var_name = 'VALUE_TYPE')\n",
    "    )"
   ]
  },
  {
   "cell_type": "code",
   "execution_count": null,
   "metadata": {
    "hidden": true
   },
   "outputs": [],
   "source": [
    "    #DEVELOPMENT; DELETE AFTER\n",
    "    # save_cleansed_data(dataframe = cleansed_data, # DELETE\n",
    "    #         filename = 'dev-cleansed.xlsx.xlsx') # DELETE\n",
    "    "
   ]
  },
  {
   "cell_type": "code",
   "execution_count": null,
   "metadata": {
    "hidden": true
   },
   "outputs": [],
   "source": [
    "s55_cleansed[eval(subset)]['OBS_VALUE']"
   ]
  },
  {
   "cell_type": "code",
   "execution_count": null,
   "metadata": {
    "hidden": true
   },
   "outputs": [],
   "source": [
    "# Exclude columns which are value or should not be part of the composite key (i.e. the unique identifier of a row)\n",
    "col_list = s55_cleansed.columns.to_list() # list of all columns in the dataframe\n",
    "non_essential_col = [e for e in col_list if e not in ('TIME_PERIOD', 'REF_AREA', 'OBS_VALUE', 'COUNTRY_ISO_3', 'COUNTRY_NAME', 'COUNTRY_ISO_2')] \n",
    "\n",
    "# Perpare loop to identify the distint subsets in the datasets\n",
    "length = s55_cleansed[non_essential_col].drop_duplicates().shape[0]\n",
    "width = s55_cleansed[non_essential_col].drop_duplicates().shape[1]\n",
    "\n",
    "# Find the different subsets and their column values\n",
    "# Loop to identify the \"length\" number of subsets:\n",
    "for j in range(length):\n",
    "    # Loop to create the column values defining this subgroup\n",
    "    subset = ''\n",
    "    for i in range(width):\n",
    "        subset += '(s55_cleansed[s55_cleansed[non_essential_col].columns[{}]] == s55_cleansed[non_essential_col].drop_duplicates().iloc[{}, {}]) & '.format(i, j, i)\n",
    "    subset = subset.rstrip('& ')\n",
    "    \n",
    "    # This is where the remaining code should start\n",
    "    print(s55_cleansed[eval(subset)])"
   ]
  },
  {
   "cell_type": "code",
   "execution_count": null,
   "metadata": {
    "hidden": true
   },
   "outputs": [],
   "source": [
    "# s55_cleansed = s55_cleansed.assign()\n",
    "\n",
    "# s55_cleansed.loc[s55_cleansed[eval(subset)], 'SCALED'] = 10 \n",
    "\n",
    "# s55_cleansed_subset_1 = s55_cleansed[some_condition.values]\n",
    "\n",
    "#s55_cleansed[some_condition.values]['SCALED'] = 10\n",
    "\n",
    "#s55_cleansed.reindex(columns = ['SCALED'])   \n",
    "\n",
    "# s55_cleansed.assign('SCALED' == )\n",
    "\n",
    "# s55_cleansed[eval(subset)]['SCALED']\n",
    "# s55_cleansed[s55_cleansed[some_condition]['SCALED'] = 10]\n",
    "# s55_cleansed.assign['SCALED' = ]"
   ]
  },
  {
   "cell_type": "code",
   "execution_count": null,
   "metadata": {
    "hidden": true
   },
   "outputs": [],
   "source": [
    "            # Distinguish between indicators, whose value must be inverted\n",
    "            if inverted == True:\n",
    "                temp = cleansed_data.assign(SCALED = round(10 - 10 * (cleansed_data[indicator_raw_value].astype('float') - min_val)/ tot_range, 2))\n",
    "            else:\n",
    "                temp = cleansed_data.assign(SCALED = round(10 * (cleansed_data[indicator_raw_value].astype('float') - min_val)/ tot_range, 2))\n",
    "\n",
    "                \n",
    "              "
   ]
  },
  {
   "cell_type": "code",
   "execution_count": null,
   "metadata": {
    "hidden": true
   },
   "outputs": [],
   "source": [
    "        # Identify if there are subgroups along the dimensions\n",
    "            # Exclude columns year, country and value\n",
    "        col_list = cleansed_data.columns.to_list() # list of all columns in the dataframe\n",
    "        non_essential_col = [e for e in col_list if e not in (country_col, year_col, indicator_raw_value)] \n",
    "\n",
    "            # Take remaining columns to find out if there are subgroups\n",
    "        length = cleansed_data[non_essential_col].drop_duplicates().shape[0]\n",
    "        width = cleansed_data[non_essential_col].drop_duplicates().shape[1]\n",
    "\n",
    "        # Extract the different subsets in the dataset and do the normalization for each one of them\n",
    "        for j in range(length):\n",
    "            subset = ''\n",
    "            for i in range(width):\n",
    "                subset += '(s55_cleansed[s55_cleansed[non_essential_col].columns[{}]] == s55_cleansed[non_essential_col].drop_duplicates().iloc[{}, {}]) & '.format(i, j, i)\n",
    "                subset = subset.rstrip('& ')"
   ]
  },
  {
   "cell_type": "code",
   "execution_count": null,
   "metadata": {
    "hidden": true
   },
   "outputs": [],
   "source": [
    "s55_cleansed[non_essential_col].drop_duplicates().iloc[0, 22]"
   ]
  },
  {
   "cell_type": "code",
   "execution_count": null,
   "metadata": {
    "hidden": true
   },
   "outputs": [],
   "source": [
    "s55_cleansed[non_essential_col][\n",
    "(s55_cleansed[s55_cleansed[non_essential_col].columns[0]] == s55_cleansed[non_essential_col].drop_duplicates().iloc[1, 0]) & \n",
    "(s55_cleansed[s55_cleansed[non_essential_col].columns[1]] == s55_cleansed[non_essential_col].drop_duplicates().iloc[1, 1]) & \n",
    "(s55_cleansed[s55_cleansed[non_essential_col].columns[2]] == s55_cleansed[non_essential_col].drop_duplicates().iloc[1, 2]) & \n",
    "(s55_cleansed[s55_cleansed[non_essential_col].columns[3]] == s55_cleansed[non_essential_col].drop_duplicates().iloc[1, 3]) & \n",
    "(s55_cleansed[s55_cleansed[non_essential_col].columns[4]] == s55_cleansed[non_essential_col].drop_duplicates().iloc[1, 4]) & (s55_cleansed[s55_cleansed[non_essential_col].columns[5]] == s55_cleansed[non_essential_col].drop_duplicates().iloc[1, 5]) & (s55_cleansed[s55_cleansed[non_essential_col].columns[6]] == s55_cleansed[non_essential_col].drop_duplicates().iloc[1, 6]) & (s55_cleansed[s55_cleansed[non_essential_col].columns[7]] == s55_cleansed[non_essential_col].drop_duplicates().iloc[1, 7]) & (s55_cleansed[s55_cleansed[non_essential_col].columns[8]] == s55_cleansed[non_essential_col].drop_duplicates().iloc[1, 8]) & (s55_cleansed[s55_cleansed[non_essential_col].columns[9]] == s55_cleansed[non_essential_col].drop_duplicates().iloc[1, 9]) & (s55_cleansed[s55_cleansed[non_essential_col].columns[10]] == s55_cleansed[non_essential_col].drop_duplicates().iloc[1, 10]) & (s55_cleansed[s55_cleansed[non_essential_col].columns[11]] == s55_cleansed[non_essential_col].drop_duplicates().iloc[1, 11]) & (s55_cleansed[s55_cleansed[non_essential_col].columns[12]] == s55_cleansed[non_essential_col].drop_duplicates().iloc[1, 12]) & (s55_cleansed[s55_cleansed[non_essential_col].columns[13]] == s55_cleansed[non_essential_col].drop_duplicates().iloc[1, 13]) & (s55_cleansed[s55_cleansed[non_essential_col].columns[14]] == s55_cleansed[non_essential_col].drop_duplicates().iloc[1, 14]) & (s55_cleansed[s55_cleansed[non_essential_col].columns[15]] == s55_cleansed[non_essential_col].drop_duplicates().iloc[1, 15]) & (s55_cleansed[s55_cleansed[non_essential_col].columns[16]] == s55_cleansed[non_essential_col].drop_duplicates().iloc[1, 16]) & (s55_cleansed[s55_cleansed[non_essential_col].columns[17]] == s55_cleansed[non_essential_col].drop_duplicates().iloc[1, 17]) & (s55_cleansed[s55_cleansed[non_essential_col].columns[18]] == s55_cleansed[non_essential_col].drop_duplicates().iloc[1, 18]) & (s55_cleansed[s55_cleansed[non_essential_col].columns[19]] == s55_cleansed[non_essential_col].drop_duplicates().iloc[1, 19]) & (s55_cleansed[s55_cleansed[non_essential_col].columns[20]] == s55_cleansed[non_essential_col].drop_duplicates().iloc[1, 20]) & (s55_cleansed[s55_cleansed[non_essential_col].columns[21]] == s55_cleansed[non_essential_col].drop_duplicates().iloc[1, 21]) & (s55_cleansed[s55_cleansed[non_essential_col].columns[22]] == s55_cleansed[non_essential_col].drop_duplicates().iloc[1, 22]) & (s55_cleansed[s55_cleansed[non_essential_col].columns[23]] == s55_cleansed[non_essential_col].drop_duplicates().iloc[1, 23]) &\n",
    "(s55_cleansed[s55_cleansed[non_essential_col].columns[5]] == s55_cleansed[non_essential_col].drop_duplicates().iloc[1, 5])\n",
    "]"
   ]
  },
  {
   "cell_type": "code",
   "execution_count": null,
   "metadata": {
    "hidden": true
   },
   "outputs": [],
   "source": [
    "col_list = s55_cleansed.columns.to_list() # list of all columns in the dataframe\n",
    "non_essential_col = [e for e in col_list if e not in ('TIME_PERIOD', 'REF_AREA', 'OBS_VALUE', 'COUNTRY_ISO_3', 'COUNTRY_NAME', 'COUNTRY_ISO_2')] \n",
    "\n",
    "s55_cleansed[non_essential_col].drop_duplicates().shape[1]\n",
    "\n",
    "length = s55_cleansed[non_essential_col].drop_duplicates().shape[0]\n",
    "width = s55_cleansed[non_essential_col].drop_duplicates().shape[1]\n",
    "\n",
    "s55_cleansed['STA_UNIT'] = s55_cleansed['STAT_UNIT'].astype(str)\n",
    "\n",
    "condition = \"s55_cleansed['Dataflow'] == 'UNESCO:SDG4(2.0)'\"\n",
    "\n",
    "condiction_rebuilt = \"s55_cleansed[non_essential_col].columns[0] == s55_cleansed[non_essential_col].drop_duplicates().iloc[1, 0]\"\n",
    "\n",
    "print(s55_cleansed[non_essential_col].columns[0])\n",
    "\n",
    "# str(s55_cleansed[non_essential_col].columns[0])\n",
    "\n",
    " #s55_cleansed.str(s55_cleansed[non_essential_col].columns[0])\n",
    "\n",
    "# s55_cleansed[s55_cleansed.str(s55_cleansed[non_essential_col].columns[0]) == s55_cleansed[non_essential_col].drop_duplicates().iloc[1, 0]]\n",
    "\n",
    "\n",
    "#eval(condition)\n",
    "\n",
    "s55_cleansed[eval(condition)]\n",
    "\n",
    "# s55_cleansed[s55_cleansed[non_essential_col].columns[0] == s55_cleansed[non_essential_col].drop_duplicates().iloc[1]\n",
    "\n",
    "# s55_cleansed[non_essential_col].drop_duplicates().iloc[1, 0]\n",
    "\n",
    "s55_cleansed[non_essential_col].drop_duplicates().iloc[1, 1]\n",
    "\n",
    "\n",
    "'''\n",
    "(s55_cleansed[s55_cleansed[non_essential_col].columns[0]] == s55_cleansed[non_essential_col].drop_duplicates().iloc[1, 0]) & \n",
    "(s55_cleansed[s55_cleansed[non_essential_col].columns[1]] == s55_cleansed[non_essential_col].drop_duplicates().iloc[1, 1]) & \n",
    "(s55_cleansed[s55_cleansed[non_essential_col].columns[2]] == s55_cleansed[non_essential_col].drop_duplicates().iloc[1, 2]) & \n",
    "(s55_cleansed[s55_cleansed[non_essential_col].columns[3]] == s55_cleansed[non_essential_col].drop_duplicates().iloc[1, 3]) & \n",
    "(s55_cleansed[s55_cleansed[non_essential_col].columns[4]] == s55_cleansed[non_essential_col].drop_duplicates().iloc[1, 4]) & (s55_cleansed[s55_cleansed[non_essential_col].columns[5]] == s55_cleansed[non_essential_col].drop_duplicates().iloc[1, 5]) & (s55_cleansed[s55_cleansed[non_essential_col].columns[6]] == s55_cleansed[non_essential_col].drop_duplicates().iloc[1, 6]) & (s55_cleansed[s55_cleansed[non_essential_col].columns[7]] == s55_cleansed[non_essential_col].drop_duplicates().iloc[1, 7]) & (s55_cleansed[s55_cleansed[non_essential_col].columns[8]] == s55_cleansed[non_essential_col].drop_duplicates().iloc[1, 8]) & (s55_cleansed[s55_cleansed[non_essential_col].columns[9]] == s55_cleansed[non_essential_col].drop_duplicates().iloc[1, 9]) & (s55_cleansed[s55_cleansed[non_essential_col].columns[10]] == s55_cleansed[non_essential_col].drop_duplicates().iloc[1, 10]) & (s55_cleansed[s55_cleansed[non_essential_col].columns[11]] == s55_cleansed[non_essential_col].drop_duplicates().iloc[1, 11]) & (s55_cleansed[s55_cleansed[non_essential_col].columns[12]] == s55_cleansed[non_essential_col].drop_duplicates().iloc[1, 12]) & (s55_cleansed[s55_cleansed[non_essential_col].columns[13]] == s55_cleansed[non_essential_col].drop_duplicates().iloc[1, 13]) & (s55_cleansed[s55_cleansed[non_essential_col].columns[14]] == s55_cleansed[non_essential_col].drop_duplicates().iloc[1, 14]) & (s55_cleansed[s55_cleansed[non_essential_col].columns[15]] == s55_cleansed[non_essential_col].drop_duplicates().iloc[1, 15]) & (s55_cleansed[s55_cleansed[non_essential_col].columns[16]] == s55_cleansed[non_essential_col].drop_duplicates().iloc[1, 16]) & (s55_cleansed[s55_cleansed[non_essential_col].columns[17]] == s55_cleansed[non_essential_col].drop_duplicates().iloc[1, 17]) & (s55_cleansed[s55_cleansed[non_essential_col].columns[18]] == s55_cleansed[non_essential_col].drop_duplicates().iloc[1, 18]) & (s55_cleansed[s55_cleansed[non_essential_col].columns[19]] == s55_cleansed[non_essential_col].drop_duplicates().iloc[1, 19]) & (s55_cleansed[s55_cleansed[non_essential_col].columns[20]] == s55_cleansed[non_essential_col].drop_duplicates().iloc[1, 20]) & (s55_cleansed[s55_cleansed[non_essential_col].columns[21]] == s55_cleansed[non_essential_col].drop_duplicates().iloc[1, 21]) & (s55_cleansed[s55_cleansed[non_essential_col].columns[22]] == s55_cleansed[non_essential_col].drop_duplicates().iloc[1, 22]) & (s55_cleansed[s55_cleansed[non_essential_col].columns[23]] == s55_cleansed[non_essential_col].drop_duplicates().iloc[1, 23]) &\n",
    "(s55_cleansed[s55_cleansed[non_essential_col].columns[24]] == s55_cleansed[non_essential_col].drop_duplicates().iloc[1, 24])\n",
    "'''\n",
    "\n",
    "\n",
    "# Find the different subsets and their column values\n",
    "# Loop to identify the \"length\" number of subsets:\n",
    "# for j in range(length):\n",
    "\n",
    "# Loop to create the column values defining this subgroup\n",
    "subset = ''\n",
    "for i in range(width):\n",
    "    subset += '(s55_cleansed[s55_cleansed[non_essential_col].columns[{}]] == s55_cleansed[non_essential_col].drop_duplicates().iloc[1, {}]) & '.format(i, i)\n",
    "subset = subset.rstrip('& ')"
   ]
  },
  {
   "cell_type": "code",
   "execution_count": null,
   "metadata": {
    "hidden": true
   },
   "outputs": [],
   "source": [
    "# for i in [: width]:\n",
    " #   subset = ''\n",
    " #   subset += '(s55_cleansed[s55_cleansed[non_essential_col].columns[{}]] == s55_cleansed[non_essential_col].drop_duplicates().iloc[1, {}]'.format(i, i)\n",
    "  #  return(subset)\n",
    "    \n",
    "s55_cleansed[\n",
    "    (s55_cleansed[s55_cleansed[non_essential_col].columns[0]] == s55_cleansed[non_essential_col].drop_duplicates().iloc[2, 0]) & \n",
    "    (s55_cleansed[s55_cleansed[non_essential_col].columns[1]] == s55_cleansed[non_essential_col].drop_duplicates().iloc[2, 1]) & \n",
    "    (s55_cleansed[s55_cleansed[non_essential_col].columns[2]] == s55_cleansed[non_essential_col].drop_duplicates().iloc[2, 2]) & \n",
    "    (s55_cleansed[s55_cleansed[non_essential_col].columns[3]] == s55_cleansed[non_essential_col].drop_duplicates().iloc[2, 3])\n",
    "]"
   ]
  },
  {
   "cell_type": "code",
   "execution_count": null,
   "metadata": {
    "hidden": true
   },
   "outputs": [],
   "source": [
    "    # Discard rows of countries that are not in the master country list\n",
    "        # The raw data only contains country names. Assign ISO codes to these country names\n",
    "    # grouped_data_iso = grouped_data.merge(\n",
    "    #     right = country_list_full,\n",
    "    #    how = 'left',\n",
    "    #    left_on = 'REF_AREA',\n",
    "    #    right_on = country_list_full_name_col,\n",
    "    #    validate = 'many_to_one')"
   ]
  },
  {
   "cell_type": "code",
   "execution_count": null,
   "metadata": {
    "hidden": true
   },
   "outputs": [],
   "source": [
    "'''\n",
    "# cleanse raw data\n",
    "s55_cleansed = cleanse_unesco_api_data(\n",
    "    uis_data = s55_raw,\n",
    "    country_df = country_crba_list,\n",
    "    country_df_iso2_col = 'COUNTRY_ISO_2',\n",
    "    columns = ['EDU_CAT', 'SEX', 'AGE'],\n",
    "    most_recent_only = True)\n",
    "\n",
    "# save cleansed data\n",
    "save_cleansed_data(dataframe = s55_cleansed,\n",
    "             filename = 'S_55_cleansed.xlsx')\n",
    "\n",
    "'''\n"
   ]
  },
  {
   "cell_type": "code",
   "execution_count": null,
   "metadata": {
    "hidden": true
   },
   "outputs": [],
   "source": [
    "def cleanse_sdg_api_data(raw_data):\n",
    "    \"\"\"Transform raw data from sdg API source to distil relevant data \n",
    "\n",
    "    Discard columns and aggregate data to retrieve the latest value for all countries in a given dataframe for a given SDG API series.\n",
    "\n",
    "    Parameters:\n",
    "    raw_data (obj): Return of function 'extract_sdg_api_data'. Should be a pandas dataframe \n",
    "    \n",
    "    Returns:\n",
    "    obj: Returns pandas dataframe\n",
    "\n",
    "   \"\"\"\n",
    "    # Extract relevant columns\n",
    "    stage_data = raw_data[['geoAreaCode',\n",
    "            'geoAreaName',\n",
    "            'timePeriodStart',\n",
    "            'value']]\n",
    "    \n",
    "    # Get the latest value for each country of the series\n",
    "    return(stage_data[stage_data['timePeriodStart'] == stage_data.groupby('geoAreaName')['timePeriodStart'].transform('max')])"
   ]
  },
  {
   "cell_type": "code",
   "execution_count": null,
   "metadata": {
    "hidden": true
   },
   "outputs": [],
   "source": [
    "# Raw data contains data on BOTHSEX, MALE AND FEMALE, limit ourseleves to BOTHSEXES\n",
    "temp = s24_raw[s24_raw['dimensions.Sex'] == 'BOTHSEX']\n",
    "\n",
    "# Transform the raw data\n",
    "s24_cleansed = cleanse_sdg_api_data(raw_data = temp)"
   ]
  },
  {
   "cell_type": "code",
   "execution_count": null,
   "metadata": {
    "hidden": true,
    "scrolled": true
   },
   "outputs": [],
   "source": [
    "s24_raw[s24_raw['geoAreaName'] == 'Burkina Faso']"
   ]
  },
  {
   "cell_type": "code",
   "execution_count": null,
   "metadata": {
    "hidden": true
   },
   "outputs": [],
   "source": []
  },
  {
   "cell_type": "code",
   "execution_count": null,
   "metadata": {
    "hidden": true
   },
   "outputs": [],
   "source": [
    "    #\n",
    "    #\n",
    "    #\n",
    "    '''\n",
    "    # Discard rows of countries that are not in the master country list\n",
    "        # The raw data only contains country names. Assign ISO codes to these country names    \n",
    "    raw_data_iso = raw_data.merge(\n",
    "        right = country_list_full,\n",
    "        how = 'left',\n",
    "        left_on = 'geoAreaName',\n",
    "        right_on = country_list_full_name_col,\n",
    "        validate = 'many_to_one')\n",
    "    \n",
    "        # Discard countries that aren't part of the final CRBA master list\n",
    "    contry_filt_data = raw_data_iso.merge(\n",
    "        right = country_df,\n",
    "        how = 'right', \n",
    "        left_on = country_list_full_iso2_col,\n",
    "        right_on = country_df_iso2_col,\n",
    "        indicator = True,\n",
    "        validate = 'many_to_one')\n",
    "         \n",
    "    # Get the latest value for each country of the series\n",
    "    col_list = contry_filt_data.columns.to_list() # list of all columns in the dataframe\n",
    "    col_list_gb = [e for e in col_list if e not in ('value', 'timePeriodStart')] # exclude timePeriodStart and value, because these one'saren't used for the groupby statement\n",
    "    \n",
    "    # Some of the columns contain values which Python interprets as lists (e.g. [8.1]). These make the groupby statement malfunction. Convert them to string\n",
    "    contry_filt_data[col_list_gb] =  contry_filt_data[col_list_gb].astype(str)\n",
    "    \n",
    "    # Retreive the latest available data for each group, where group is 'col_list_gb'\n",
    "    latest_year_data = contry_filt_data[contry_filt_data['timePeriodStart'] == contry_filt_data.groupby(col_list_gb)['timePeriodStart'].transform('max')]\n",
    "    \n",
    "    # return result\n",
    "    return(latest_year_data.sort_values(by = country_df_iso2_col, axis = 0))\n",
    "    ''' "
   ]
  },
  {
   "cell_type": "code",
   "execution_count": null,
   "metadata": {
    "hidden": true
   },
   "outputs": [],
   "source": [
    "    print(latest_year_data.COUNTRY_ISO_2.describe())\n",
    "    print(contry_filt_data.COUNTRY_ISO_2.describe())\n",
    "    \n",
    "# Include a confirmation whether all of this went well\n",
    "    print(raw_data.shape)\n",
    "    print(country_df.shape)\n",
    "    print(raw_data_iso.shape)\n",
    "    print(contry_filt_data.shape)\n",
    "    print(contry_filt_data[contry_filt_data._merge == 'left_only'])\n"
   ]
  },
  {
   "cell_type": "code",
   "execution_count": null,
   "metadata": {
    "hidden": true,
    "scrolled": true
   },
   "outputs": [],
   "source": [
    "s24_raw.geoAreaName.describe()\n",
    "country_full_list.CountryDesc.describe()\n",
    "\n",
    "col_list = s24_raw.columns.to_list() # list of all columns in the dataframe\n",
    "print(col_list)\n",
    "col_list_gb = [e for e in col_list if e not in ('value', 'timePeriodStart')]\n",
    "print(col_list_gb)\n",
    "\n",
    "# s24_raw['timePeriodStart'] = \n",
    "\n",
    "# s24_raw.groupby(by = 'geoAreaName')['timePeriodStart'].max()\n",
    "\n",
    "s24_raw[col_list_gb] = s24_raw[col_list_gb].astype(str)\n",
    "\n",
    "s24_raw[s24_raw['timePeriodStart'] == s24_raw.groupby(col_list_gb)['timePeriodStart'].transform('max')]\n",
    "    "
   ]
  },
  {
   "cell_type": "code",
   "execution_count": null,
   "metadata": {
    "hidden": true
   },
   "outputs": [],
   "source": [
    "    \n",
    "    ''' No this codeblock will probably be discarded\n",
    "    # Extract relevant columns\n",
    "    stage_data = raw_data[['geoAreaCode',\n",
    "            'geoAreaName',\n",
    "            'timePeriodStart',\n",
    "            'value']]\n",
    "    '''\n",
    "    \n",
    "\n",
    "\n",
    "\n",
    "THIS IS ONLY ABOUT EXTRACTING THE LATEST VALUE AND ABOUT FILTERING OUT COUNTRIES WHO SHOULDN'T BE IN THERE\n",
    "\n",
    "\n",
    "-----\n",
    "\n",
    "\n",
    "    # Discard unnecessay columns\n",
    "    columns_kept = ['REF_AREA', 'TIME_PERIOD','OBS_VALUE'] + columns\n",
    "    uis_data = uis_data[columns_kept]\n",
    "    \n",
    "    if most_recent_only == True:\n",
    "        # Retrieve the most up-to-date number for each country\n",
    "        uis_data = uis_data[uis_data['TIME_PERIOD']==uis_data.groupby('REF_AREA')['TIME_PERIOD'].transform('max')]\n",
    "    else:\n",
    "        pass\n",
    "\n",
    "    # Discard rows of countries that are not in the master country list\n",
    "    cleansed_final = uis_data.merge(\n",
    "        right = country_df,\n",
    "        how = 'right', \n",
    "        left_on = 'REF_AREA',\n",
    "        right_on = country_df_iso2_col,\n",
    "        validate = 'one_to_one').assign(indicator = 'I-15')\n",
    "    \n",
    "    return(cleansed_final.sort_values(by = country_df_iso2_col, axis = 0))"
   ]
  },
  {
   "cell_type": "markdown",
   "metadata": {
    "hidden": true
   },
   "source": [
    "### Left join to counry list to bring it into target format"
   ]
  },
  {
   "cell_type": "code",
   "execution_count": null,
   "metadata": {
    "hidden": true
   },
   "outputs": [],
   "source": [
    "# Concatenate data to the\n",
    "s56_final = country_iso_list.merge(right = s56_scaled,\n",
    "                 how = 'left',\n",
    "                 left_on = 'CountryIso2',\n",
    "                 right_on = 'REF_AREA',\n",
    "                 validate = 'many_to_one').assign(indicator ='I-16')\n",
    "\n",
    "# Check if some countries got lost during the join\n",
    "print('The number of rows in the raw data set was {}. The number of available datapoints in the final dataframe is {}. Therefore, {} rows got lost during the join.'.format(\n",
    "    len(s56_scaled), \n",
    "    s56_final.OBS_VALUE.notna().sum(), \n",
    "    len(s56_scaled) - s56_final.OBS_VALUE.notna().sum()))"
   ]
  },
  {
   "cell_type": "markdown",
   "metadata": {
    "hidden": true
   },
   "source": [
    "### Left join to counry list to bring it into target format"
   ]
  },
  {
   "cell_type": "code",
   "execution_count": null,
   "metadata": {
    "hidden": true
   },
   "outputs": [],
   "source": [
    "# Left join data to the target format\n",
    "s55_final = country_iso_list.merge(right = s55_scaled,\n",
    "                 how = 'left',\n",
    "                 left_on = 'CountryIso2',\n",
    "                 right_on = 'REF_AREA',\n",
    "                 validate = 'one_to_many').assign(indicator = 'I-15')"
   ]
  },
  {
   "cell_type": "markdown",
   "metadata": {
    "hidden": true
   },
   "source": [
    "## Define function"
   ]
  },
  {
   "cell_type": "markdown",
   "metadata": {
    "hidden": true
   },
   "source": [
    "### Generic functions"
   ]
  },
  {
   "cell_type": "code",
   "execution_count": null,
   "metadata": {
    "hidden": true
   },
   "outputs": [],
   "source": [
    "def save_raw_data(dataframe, filename, output_path = data_sources_raw):\n",
    "    \"\"\"Save raw data \n",
    "\n",
    "    Parameters:\n",
    "    dataframe (obj): Pandas dataframe to be stored\n",
    "    filename (string): The way you would like o anem your file. Must include the extension (for example .xlsx)\n",
    "    output_path (string): Folder where data is stored\n",
    "\n",
    "    Returns:\n",
    "    obj: \n",
    "\n",
    "   \"\"\"\n",
    "    dataframe.to_excel(output_path + filename)\n",
    "    print('The raw data has been saved as .xlsx file in: ' + output_path)\n",
    "\n",
    "    \n",
    "def scaler(raw_dataframe, indicator_raw_value, cat_var = False, cat_scoring_type = None, inverted = False, whisker_factor = 1.5):\n",
    "    \"\"\" Transform raw data into scaled (normalized) data in long format\n",
    "    \n",
    "    Parameters:\n",
    "    raw_dataframe (obj): Raw dataset, pandas dataframe\n",
    "    indicator_raw_value (str): Column containing the actual raw data values \n",
    "    cat_var (bool): is variable of type categorical or numerical?\n",
    "    cat_scoring_type (str): For categorical variables, specify the scoring type (i.e. what values the categorical variable can take)\n",
    "    inverted (bool): If we are dealing with a numerical variable, should the values be inverted?\n",
    "    whisker_factor (float): \n",
    "\n",
    "    Returns:\n",
    "    obj: Returns numpy array with transformed values\n",
    "    \"\"\"\n",
    "    # Check if an indicator is numeric of categorical\n",
    "    if cat_var == True:\n",
    "        # This is the section dealing with categorical indicators\n",
    "        # There are various scoring_types a categorical variable can take. For each one, different labels apply to the values\n",
    "        # Type 2-1-0\n",
    "        if cat_scoring_type == 'Type 2-1-0':\n",
    "            # Specify the values the raw data can take\n",
    "            conditions = [\n",
    "                (raw_dataframe[indicator_raw_value] == 0),\n",
    "                (raw_dataframe[indicator_raw_value] == 1),\n",
    "                (raw_dataframe[indicator_raw_value] == 2)\n",
    "                ]\n",
    "            \n",
    "            # Specify the normalized values\n",
    "            norm_values = ['No data', '0.00', '10.00']\n",
    "\n",
    "        # Type 2-1\n",
    "        elif cat_scoring_type == 'Type 2-1':\n",
    "            # Specify the values the raw data can take\n",
    "            conditions = [\n",
    "                (raw_dataframe[indicator_raw_value] == 1),\n",
    "                (raw_dataframe[indicator_raw_value] == 2)\n",
    "                ]\n",
    "            \n",
    "            # Specify the normalized values\n",
    "            norm_values = ['0.00', '10.00']\n",
    "\n",
    "        # Type 3-2-1\n",
    "        elif cat_scoring_type == 'Type 3-2-1':\n",
    "            # Specify the values the raw data can take\n",
    "            conditions = [\n",
    "                (raw_dataframe[indicator_raw_value] == 1),\n",
    "                (raw_dataframe[indicator_raw_value] == 2),\n",
    "                (raw_dataframe[indicator_raw_value] == 3)\n",
    "                ]\n",
    "            \n",
    "            # Specify the normalized values\n",
    "            norm_values = ['0.00', '5.00', '10.00']\n",
    "\n",
    "        # Type 3-2-1-0\n",
    "        elif cat_scoring_type == 'Type 3-2-1-0':\n",
    "            # Specify the values the raw data can take\n",
    "            conditions = [\n",
    "                (raw_dataframe[indicator_raw_value] == 0)\n",
    "                (raw_dataframe[indicator_raw_value] == 1),\n",
    "                (raw_dataframe[indicator_raw_value] == 2),\n",
    "                (raw_dataframe[indicator_raw_value] == 3)\n",
    "                ]\n",
    "            \n",
    "            # Specify the normalized values\n",
    "            norm_values = ['No data', '0.00', '5.00', '10.00']            \n",
    "            \n",
    "        # Type 4-3-2-1\n",
    "        elif cat_scoring_type == 'Type 4-3-2-1':\n",
    "            # Specify the values the raw data can take\n",
    "            conditions = [\n",
    "                (raw_dataframe[indicator_raw_value] == 1),\n",
    "                (raw_dataframe[indicator_raw_value] == 2),\n",
    "                (raw_dataframe[indicator_raw_value] == 3),\n",
    "                (raw_dataframe[indicator_raw_value] == 4)\n",
    "                ]\n",
    "            \n",
    "            # Specify the normalized values\n",
    "            norm_values = ['0.00', '3.33', '6.67', '10.00']                \n",
    "            \n",
    "            \n",
    "            # create a new column and use np.select to assign values to it using our lists as arguments\n",
    "            raw_dataframe['SCALED'] = np.select(conditions, values)\n",
    "\n",
    "        # Type 4-3-2-1-0\n",
    "        elif cat_scoring_type == 'Type 4-3-2-1-0':\n",
    "            # Specify the values the raw data can take\n",
    "            conditions = [\n",
    "                (raw_dataframe[indicator_raw_value] == 0)\n",
    "                (raw_dataframe[indicator_raw_value] == 1),\n",
    "                (raw_dataframe[indicator_raw_value] == 2),\n",
    "                (raw_dataframe[indicator_raw_value] == 3),\n",
    "                (raw_dataframe[indicator_raw_value] == 4)\n",
    "                ]\n",
    "            \n",
    "            # Specify the normalized values\n",
    "            norm_values = ['No data', '0.00', '3.33', '6.67', '10.00'] \n",
    "\n",
    "\n",
    "        # Type 5-4-3-2-1-0\n",
    "        elif cat_scoring_type == 'Type 5-4-3-2-1-0':\n",
    "            # Specify the values the raw data can take\n",
    "            conditions = [\n",
    "                (raw_dataframe[indicator_raw_value] == 0)\n",
    "                (raw_dataframe[indicator_raw_value] == 1),\n",
    "                (raw_dataframe[indicator_raw_value] == 2),\n",
    "                (raw_dataframe[indicator_raw_value] == 3),\n",
    "                (raw_dataframe[indicator_raw_value] == 4),\n",
    "                (raw_dataframe[indicator_raw_value] == 5)\n",
    "                ]\n",
    "            \n",
    "            # Specify the normalized values\n",
    "            norm_values = ['No data', '0.00', '2.50', '5.00', '7.50', '10.00']\n",
    "            \n",
    "        # Type 7-6-5-4-3-2-1-0\n",
    "        elif cat_scoring_type == 'Type 7-6-5-4-3-2-1-0':\n",
    "            # Specify the values the raw data can take\n",
    "            conditions = [\n",
    "                (raw_dataframe[indicator_raw_value] == 0)\n",
    "                (raw_dataframe[indicator_raw_value] == 1),\n",
    "                (raw_dataframe[indicator_raw_value] == 2),\n",
    "                (raw_dataframe[indicator_raw_value] == 3),\n",
    "                (raw_dataframe[indicator_raw_value] == 4),\n",
    "                (raw_dataframe[indicator_raw_value] == 5),\n",
    "                (raw_dataframe[indicator_raw_value] == 6),\n",
    "                (raw_dataframe[indicator_raw_value] == 7)\n",
    "                ]\n",
    "            \n",
    "            # Specify the normalized values\n",
    "            norm_values = ['No data', '0.00', '1.67', '3.33', '5.00', '6.67', '8.33', '10.00'] \n",
    "        \n",
    "        else:\n",
    "            raise('The scoring type you have specified does not exist. Make sure your scoring type is listed in the documentation of this fuction.') \n",
    "        \n",
    "        # create a new column and use np.select to assign values to it using our lists as arguments\n",
    "        raw_dataframe['SCALED'] = np.select(conditions, values)\n",
    "            \n",
    "    else:\n",
    "        # This is the section dealing with numerical indicators\n",
    "\n",
    "        # Determine basic descriptive statistics of the distribution\n",
    "        min_val = min(raw_dataframe[indicator_raw_value].astype('float'))\n",
    "        max_val = max(raw_dataframe[indicator_raw_value].astype('float'))\n",
    "        q1 =  raw_dataframe[indicator_raw_value].astype('float').quantile(q=0.25)\n",
    "        q2 =  raw_dataframe[indicator_raw_value].astype('float').quantile(q=0.50)\n",
    "        q3 =  raw_dataframe[indicator_raw_value].astype('float').quantile(q=0.75)                      \n",
    "        iqr = q3 - q1\n",
    "        \n",
    "        # Define what max value to use for the normalization            \n",
    "        if max_val > q3 + whisker_factor * iqr:\n",
    "            max_to_use = q3 + whisker_factor * iqr\n",
    "            print('The distribution of the raw data values contains outliers or is too skewed on the upper end. The maximum value to be used for the normalisation is the the 3rd quartile added to IQR multiplied by the {}. It is: {} \\n See histogram printed below for info. \\n'.format(whisker_factor, max_to_use))\n",
    "        else:\n",
    "            max_to_use = max_val\n",
    "            print('The distribution of the raw data does not contain outliers on the upper end. The maximum value used for the normalisation is the maximum value in the dataset, which is {}. \\n'.format(max_to_use))\n",
    "                      \n",
    "        # Define what min value to use for the normalization\n",
    "        if min_val < q1 - whisker_factor * iqr:\n",
    "            min_to_use = q1 - whisker_factor * iqr\n",
    "            print('The distribution of the raw data values contains outliers or is too skewed on the lower end. The minimum value to be used for the normalisation is the the 3rd quartile added to IQR multiplied by the the {}. It is: {} \\n See histogram printed below for info. \\n'.format(whisker_factor, min_to_use))\n",
    "        else:\n",
    "            min_to_use = min_val\n",
    "            print('The distribution of the raw data does not contain outliers or is too skewed on the lower end. The minimum value used for the normalisation is the maximum value in the dataset, which is {}. \\n'.format(min_to_use))\n",
    "        \n",
    "        # If there are outliers or a skewed distribution, print the distribution for the user.\n",
    "        if (min_val < q1 - whisker_factor * iqr) or (max_val > q3 + whisker_factor * iqr):\n",
    "            print('\\n This is the distribution of the raw data of the indicator.')\n",
    "            print(raw_dataframe[indicator_raw_value].hist(bins = 30))\n",
    "                       \n",
    "        # Define the value range that is used for the scaling (normalization)\n",
    "        tot_range = max_val - min_val \n",
    "        \n",
    "        # Distinguish between indicators, whose value must be inverted\n",
    "        if inverted == True:\n",
    "            temp = raw_dataframe.assign(SCALED = round(10 - 10 * (raw_dataframe[indicator_raw_value].astype('float') - min_val)/ tot_range, 2))\n",
    "        else:\n",
    "            temp = raw_dataframe.assign(SCALED = round(10 * (raw_dataframe[indicator_raw_value].astype('float') - min_val)/ tot_range, 2))\n",
    "        \n",
    "        # bring dataframe from wide to long format\n",
    "        # Prepare the melting of the dataframe, by defining what columns remain untouched by the melt\n",
    "    kept_columns = [x for x in raw_dataframe.columns.tolist() if x not in [indicator_raw_value, 'SCALED']]\n",
    "\n",
    "    return(\n",
    "        pd.melt(temp,\n",
    "           id_vars = kept_columns,\n",
    "           value_vars = [indicator_raw_value, 'SCALED'],\n",
    "           var_name = 'VALUE_TYPE')\n",
    "    )"
   ]
  },
  {
   "cell_type": "markdown",
   "metadata": {
    "hidden": true
   },
   "source": [
    "### UNESCO API specific functions"
   ]
  },
  {
   "cell_type": "code",
   "execution_count": null,
   "metadata": {
    "hidden": true
   },
   "outputs": [],
   "source": [
    "def extract_unesco_api_data(stat_unit, unit, edu_level, subs_key, start_period = 2010, end_period = 2020):\n",
    "    \"\"\"Extract raw data from the UNESCO API\n",
    "\n",
    "    The API can be called with a API key, which you must generate by creating an account. \n",
    "    The calls can be done with simple https requests, in which many parameter must be specified (e.g. indicator code, sexes, age, ...). TO understand the structure, please check the query builder https://apiportal.uis.unesco.org/query-builder\n",
    "\n",
    "    Parameters:\n",
    "    stat_unit (string): Indicatiro code, I suggest you check the query builder https://apiportal.uis.unesco.org/query-builder to retrieve the right code\n",
    "    unit (string): Specify the unnit of measure, e.g. 'PT' for percentage total\n",
    "    edu_level (string): Choose educational level, L2 = lower secondary, L3 = upper secondary age\n",
    "    subs_key (string): Your API key. You must create one. Visit https://apiportal.uis.unesco.org/getting-started for more info\n",
    "    start_period (int): Year which is the beginning of series for which you want to collect data\n",
    "    end_period (ing): Year which is the end of series for which you want to collect data\n",
    "\n",
    "    Returns:\n",
    "    obj: Returns pandas dataframe\n",
    "\n",
    "   \"\"\"\n",
    "    url = 'https://api.uis.unesco.org/sdmx/data/SDG4/{sunit}.{umeasure}.{elevel}._T._T.SCH_AGE_GROUP._T.INST_T._Z._T._Z._Z._Z._T._T._Z._Z._Z.?startPeriod={syear}&endPeriod={eyear}&format=csv-sdmx&subscription-key={skey}'.format(\n",
    "        sunit = stat_unit,\n",
    "        umeasure = unit,\n",
    "        elevel = edu_level,\n",
    "        syear = start_period,\n",
    "        eyear = end_period,\n",
    "        skey = subs_key)\n",
    "    return(pd.read_csv(filepath_or_buffer = url, \n",
    "                      sep = ',',))\n",
    "\n",
    "def cleanse_unesco_api_data(uis_data, country_iso2_list, columns, most_recent_only = True):\n",
    "    \"\"\"< To do >\n",
    "\n",
    "    Parameters:\n",
    "    s15_raw (obj): Should be return of function s55_extract or s56_extract\n",
    "    country_iso2_list (array): A numpy array of 2-character country codes.\n",
    "    columns: List of the dimensions (i.e. columns) that are you want to keep for the indicator beyond the main necessary ones\n",
    "\n",
    "    Returns:\n",
    "    obj: Returns pandas dataframe with the relevant data of the indicator\n",
    "\n",
    "   \"\"\"\n",
    "    # Discard unnecessay columns\n",
    "    columns_kept = ['REF_AREA', 'TIME_PERIOD','OBS_VALUE'] + columns\n",
    "    uis_data = uis_data[columns_kept]\n",
    "    \n",
    "    # Discard rows of countries that are in the master country list\n",
    "    uis_data = uis_data[uis_data.REF_AREA.isin(country_iso2_list)]\n",
    "    \n",
    "    if most_recent_only == True:\n",
    "        # Retrieve the most up-to-date number for each country\n",
    "        uis_data = uis_data[uis_data['TIME_PERIOD']==uis_data.groupby('REF_AREA')['TIME_PERIOD'].transform('max')]\n",
    "    else:\n",
    "        pass\n",
    "    \n",
    "    return(uis_data)"
   ]
  },
  {
   "cell_type": "markdown",
   "metadata": {
    "hidden": true
   },
   "source": [
    "### SDG API specific functions"
   ]
  },
  {
   "cell_type": "code",
   "execution_count": null,
   "metadata": {
    "hidden": true
   },
   "outputs": [],
   "source": [
    "def extract_sdg_api_data(series_code):\n",
    "    \"\"\"Extract raw data for a series \n",
    "\n",
    "    Extract data on the specifies series as json and flatten it out into a pandas dataframe\n",
    "    To retrieve the data from the API of the SDG indicators, you must proceed as follows: \n",
    "    \n",
    "    * Find the seriesCode of the indicator for which you want to retrieve data: I recommend visiting https://unstats.un.org/sdgs/indicators/database/ and browse the indicator you want and the series code will be indicated there\n",
    "    * Visit https://unstats.un.org/SDGAPI/swagger/#!/Series/V1SdgSeriesDataGet\n",
    "    * Expand the tab GET /v1/sdg/Series/Data\n",
    "    * Type in the seriesCode, this will provide you with the link to the JSON\n",
    "    * Important: The results will be on shwon on various pages if the dataset is too large. That is why it is a good idea to set a pageSize value large enough to accomodate all data in just one page to not have to iterate over various pages\n",
    "\n",
    "        \n",
    "    Parameters:\n",
    "    series (string): Code of the series, which can be found by browsing for the relevant series here:https://unstats.un.org/sdgs/indicators/database?indicator=16.2.2\n",
    "\n",
    "    Returns:\n",
    "    obj: Returns pandas dataframe\n",
    "\n",
    "   \"\"\"\n",
    "    url = 'https://unstats.un.org/SDGAPI/v1/sdg/Series/Data?seriesCode={}&pageSize=999999999'.format(series_code)\n",
    "    return(pd.json_normalize(requests.get(url).json()['data']))    \n",
    "\n",
    "\n",
    "def cleanse_sdg_api_data(raw_data):\n",
    "    \"\"\"Transform raw data from sdg API source to distil relevant data \n",
    "\n",
    "    Discard columns and aggregate data to retrieve the latest value for all countries in a given dataframe for a given SDG API series.\n",
    "\n",
    "    Parameters:\n",
    "    raw_data (obj): Return of function 'extract_sdg_api_data'. Should be a pandas dataframe \n",
    "    \n",
    "    Returns:\n",
    "    obj: Returns pandas dataframe\n",
    "\n",
    "   \"\"\"\n",
    "    # Extract relevant columns\n",
    "    stage_data = raw_data[['geoAreaCode',\n",
    "            'geoAreaName',\n",
    "            'timePeriodStart',\n",
    "            'value']]\n",
    "    # Get the latest value for each country of the series\n",
    "    return(stage_data[stage_data['timePeriodStart'] == stage_data.groupby('geoAreaName')['timePeriodStart'].transform('max')])\n"
   ]
  },
  {
   "cell_type": "code",
   "execution_count": null,
   "metadata": {
    "hidden": true
   },
   "outputs": [],
   "source": [
    "    \n",
    "def scaler(raw_dataframe, indicator_value, cat_var = False, inverted = False, up_lim = None, low_lim = None):\n",
    "    \"\"\" Transform raw data into scaled (normalized) data in long format\n",
    "    \n",
    "    Parameters:\n",
    "    raw_dataframe (obj): Raw dataset, pandas dataframe\n",
    "    indicator_value (str): Column containing the actual raw data values \n",
    "    cat_var (bool): is variable of type categorical or numerical?\n",
    "    inverted (bool): If we are dealing with a numerical variable, should the values be inverted?\n",
    "    up_lim_req (float): For numerical variables, is there an artificial upper limit \n",
    "    low_lim_req (bool): For numerical variables, is there an artificial upper limit\n",
    "\n",
    "    Returns:\n",
    "    obj: Returns numpy array with transformed values\n",
    "    \"\"\"\n",
    "    # Check if an indicator is numeric of categorical\n",
    "    if cat_var == True:\n",
    "        pass\n",
    "    else:\n",
    "        # This is the section dealing with numerical indicators\n",
    "        # Define the range of the indicator values (some take their max/min value, sometimes an upper/lower limit)\n",
    "        if up_lim == None:\n",
    "            max_val = max(raw_dataframe[indicator_value].astype('float'))\n",
    "        else:\n",
    "            max_val = up_lim\n",
    "        if low_lim == None:\n",
    "            min_val = min(raw_dataframe[indicator_value].astype('float'))\n",
    "        else:\n",
    "            min_val = low_lim \n",
    "        \n",
    "        # Define the value range that is used for the scaling (normalization)\n",
    "        tot_range = max_val - min_val \n",
    "        \n",
    "        # Distinguish between indicators, whose value must be inverted\n",
    "        if inverted == True:\n",
    "            temp = raw_dataframe.assign(SCALED = round(10 - 10 * (raw_dataframe[indicator_value].astype('float') - min_val)/ tot_range, 2))\n",
    "        else:\n",
    "            temp = raw_dataframe.assign(SCALED = round(10 * (raw_dataframe[indicator_value].astype('float') - min_val)/ tot_range, 2))\n",
    "        \n",
    "        # bring dataframe from wide to long format\n",
    "        # Prepare the melting of the dataframe, by defining what columns remain\n",
    "        kept_columns = [x for x in s55_cleansed.columns.tolist() if x not in [indicator_value, 'SCALED']]\n",
    "        \n",
    "        return(\n",
    "            pd.melt(temp,\n",
    "               id_vars = ['REF_AREA', 'TIME_PERIOD', 'EDU_CAT', 'SEX'],\n",
    "               value_vars = [indicator_value, 'SCALED'],\n",
    "               var_name = 'VALUE_TYPE')\n",
    "        )"
   ]
  },
  {
   "cell_type": "code",
   "execution_count": null,
   "metadata": {
    "hidden": true
   },
   "outputs": [],
   "source": [
    "len(s55_final) == len(s55_scaled) + len(country_iso_list) - len(s55_scaled)/2"
   ]
  },
  {
   "cell_type": "code",
   "execution_count": null,
   "metadata": {
    "hidden": true
   },
   "outputs": [],
   "source": [
    "def scaler(indicator, cat_var = False, inverted = False, up_lim = None, low_lim = None):\n",
    "    \"\"\" Transform raw data into scaled (normalized) data in long format\n",
    "    \n",
    "    Parameters:\n",
    "    indicator (obj): numpy array containing the indicator data\n",
    "    cat_var (bool): is variable of type categorical or numerical?\n",
    "    inverted (bool): If we are dealing with a numerical variable, should the values be inverted?\n",
    "    up_lim_req (float): For numerical variables, is there an artificial upper limit \n",
    "    low_lim_req (bool): For numerical variables, is there an artificial upper limit\n",
    "\n",
    "    Returns:\n",
    "    obj: Returns numpy array with transformed values\n",
    "    \"\"\"\n",
    "    # Check if an indicator is numeric of categorical\n",
    "    if cat_var == True:\n",
    "        pass\n",
    "    else:\n",
    "        # This is the section dealing with numerical indicators\n",
    "        # Define the range of the indicator values (some take their max/min value, sometimes an upper/lower limit)\n",
    "        if up_lim == None:\n",
    "            max_val = max(indicator.astype('float'))\n",
    "        else:\n",
    "            max_val = up_lim\n",
    "        if low_lim == None:\n",
    "            min_val = min(indicator.astype('float'))\n",
    "        else:\n",
    "            min_val = low_lim \n",
    "        \n",
    "        # Define the value range that is used for the scaling (normalization)\n",
    "        tot_range = max_val - min_val \n",
    "        \n",
    "        # Distinguish between indicators, whose value must be inverted\n",
    "        if inverted == False:\n",
    "            return(round(10 * (indicator.astype('float') - min_val)/ tot_range, 2))\n",
    "        else:\n",
    "            return(round(10 - 10 * (indicator.astype('float') - min_val)/ tot_range, 2))\n",
    "        \n"
   ]
  },
  {
   "cell_type": "code",
   "execution_count": null,
   "metadata": {
    "hidden": true
   },
   "outputs": [],
   "source": [
    "def transform_unesco_api_data(uis_data, country_code_list):\n",
    "    \"\"\"< To do >\n",
    "\n",
    "    Parameters:\n",
    "    s15_raw (obj): Should be return of function s55_extract or s56_extract\n",
    "    country_code_list (array): A numpy array of 2-character country codes.  \n",
    "\n",
    "    Returns:\n",
    "    obj: Returns pandas dataframe with the relevant data of the indicator\n",
    "\n",
    "   \"\"\"\n",
    "    # Discard unnecessay columns\n",
    "    uis_data = uis_data[['REF_AREA',\n",
    "         'TIME_PERIOD',\n",
    "         'OBS_VALUE']]\n",
    "    \n",
    "    # Discard unnecessary rows\n",
    "    uis_data = uis_data[uis_data.REF_AREA.isin(country_code_list)]\n",
    "    \n",
    "    # Retrieve the most up-to-date number for each country\n",
    "    uis_data = uis_data[uis_data['TIME_PERIOD']==uis_data.groupby('REF_AREA')['TIME_PERIOD'].transform('max')]\n",
    "    \n",
    "    return(uis_data)"
   ]
  },
  {
   "cell_type": "markdown",
   "metadata": {
    "hidden": true
   },
   "source": [
    "Code to create the country list (which has then been manually modified)"
   ]
  },
  {
   "cell_type": "code",
   "execution_count": null,
   "metadata": {
    "hidden": true
   },
   "outputs": [],
   "source": [
    "# This is the list which contains all variations of names a country can have. \n",
    "# NB: CountryDesc is the key, so there are duplicate ISO codes in this list \n",
    "\n",
    "# This is the list of James, which already contains the \"normal\" and the \"long\" name of countries\n",
    "daniele_list_1 = pd.read_csv(filepath_or_buffer = \"D:/Documents/2020/28_UNICEF/9_misc/compare_UNICEF_Transmonee.csv\", \n",
    "                      sep = ',',\n",
    "                      usecols = ['Country', 'Alpha2', 'Alpha3'])\n",
    "daniele_list_1.columns = ['CountryDesc', 'CountryIso2', 'CountryIso3']\n",
    "\n",
    "# This is the list of Daniele \n",
    "daniele_list_2 = pd.read_csv(filepath_or_buffer = \"D:/Documents/2020/28_UNICEF/9_misc/compare_UNICEF_Transmonee.csv\", \n",
    "                      sep = ',',\n",
    "                      usecols = ['CountryDesc', 'CountryIso2', 'CountryIso3'])\n",
    "\n",
    "# This is the list of me\n",
    "my_list = pd.read_excel(\n",
    "    io = \"D:/Documents/2020/28_UNICEF/9_misc/CountryMaster_v3.xlsx\", \n",
    "    )[[#'CountryID',\n",
    "   'CountryDesc',\n",
    "   'CountryIso2',\n",
    "   'CountryIso3']]\n",
    "\n",
    "# Create list with all possible variations of country names\n",
    "country_full_list = daniele_list_1.append(daniele_list_2).append(my_list).drop_duplicates()\n",
    "    \n",
    "# Create list which has countryIso as unique key\n",
    "country_iso_list = country_full_list.drop_duplicates(subset = 'CountryIso2')\n",
    "\n",
    "# Save files \n",
    "country_full_list.to_excel(cwd + 'all_countrynames_list.xlsx')\n",
    "country_full_list.to_csv(cwd + 'all_countrynames_list.csv',\n",
    "                        sep = \";\") # there were a few empty fields for ISO2 and ISO3 which I filled manually. \n",
    "# Furthermore I have deleted the following from the dataset: Channel Islands, Serbia and Montenegro, United nations, Unknown"
   ]
  },
  {
   "cell_type": "code",
   "execution_count": null,
   "metadata": {
    "hidden": true
   },
   "outputs": [],
   "source": [
    "# This is the list which contains all variations of names a country can have. \n",
    "# NB: CountryDesc is the key, so there are duplicate ISO codes in this list \n",
    "\n",
    "# This is the list of James, which already contains the \"normal\" and the \"long\" name of countries\n",
    "daniele_list_1 = pd.read_csv(filepath_or_buffer = \"D:/Documents/2020/28_UNICEF/9_misc/compare_UNICEF_Transmonee.csv\", \n",
    "                      sep = ',',\n",
    "                      usecols = ['Country', 'Alpha2', 'Alpha3'])\n",
    "daniele_list_1.columns = ['CountryDesc', 'CountryIso2', 'CountryIso3']\n",
    "\n",
    "# This is the list of Daniele \n",
    "daniele_list_2 = pd.read_csv(filepath_or_buffer = \"D:/Documents/2020/28_UNICEF/9_misc/compare_UNICEF_Transmonee.csv\", \n",
    "                      sep = ',',\n",
    "                      usecols = ['CountryDesc', 'CountryIso2', 'CountryIso3'])\n",
    "\n",
    "# This is the list of me\n",
    "my_list = pd.read_excel(\n",
    "    io = \"D:/Documents/2020/28_UNICEF/9_misc/CountryMaster_v3.xlsx\", \n",
    "    )[[#'CountryID',\n",
    "   'CountryDesc',\n",
    "   'CountryIso2',\n",
    "   'CountryIso3']]\n",
    "\n",
    "# Create list with all possible variations of country names\n",
    "country_full_list = daniele_list_1.append(daniele_list_2).append(my_list).drop_duplicates()\n",
    "    \n",
    "# Create list which has countryIso as unique key\n",
    "country_iso_list = country_full_list.drop_duplicates(subset = 'CountryIso2')\n",
    "\n",
    "# Save files \n",
    "country_full_list.to_excel(cwd + 'all_countrynames_list.xlsx')\n",
    "country_full_list.to_csv(cwd + 'all_countrynames_list.csv',\n",
    "                        sep = \";\") # there were a few empty fields for ISO2 and ISO3 which I filled manually. \n",
    "# Furthermore I have deleted the following from the dataset: Channel Islands, Serbia and Montenegro, United nations, Unknown"
   ]
  },
  {
   "cell_type": "code",
   "execution_count": null,
   "metadata": {
    "hidden": true
   },
   "outputs": [],
   "source": [
    "'''\n",
    "country_full_list = pd.read_excel(\n",
    "    io = \"D:/Documents/2020/28_UNICEF/9_misc/CountryMaster_v3.xlsx\", \n",
    "    )[[#'CountryID',\n",
    "   'CountryDesc',\n",
    "   'CountryIso2',\n",
    "   'CountryIso3']].drop_duplicates()\n",
    "\n",
    "country_iso_list = country_full_list.drop_duplicates(subset = 'CountryIso2')\n",
    "\n",
    "list_Daniele = \n",
    "\n",
    "temp = pd.read_csv(filepath_or_buffer = \"D:/Documents/2020/28_UNICEF/9_misc/compare_UNICEF_Transmonee.csv\", \n",
    "                      sep = ',',\n",
    "                      usecols = ['CountryDesc', 'CountryIso2', 'CountryIso3'])\n",
    "list_Daniele.columns = ['CountryDesc', 'CountryIso2', 'CountryIso3']\n",
    "\n",
    "list_Daniele = list_Daniele.append(temp)\n",
    "'''"
   ]
  },
  {
   "cell_type": "code",
   "execution_count": null,
   "metadata": {
    "hidden": true
   },
   "outputs": [],
   "source": [
    "# Load the master country-reference lit\n",
    "'''\n",
    "url = 'https://pkgstore.datahub.io/core/country-list/data_csv/data/d7c9d7cfb42cb69f4422dec222dbbaa8/data_csv.csv'\n",
    "\n",
    "country_list = pd.read_csv(\n",
    "    filepath_or_buffer = url, \n",
    "    sep = ',',\n",
    "    )\n",
    "'''"
   ]
  },
  {
   "cell_type": "code",
   "execution_count": null,
   "metadata": {
    "hidden": true
   },
   "outputs": [],
   "source": [
    "# Reproducing Maplecroft transformation (dev section)\n",
    "\n",
    "Using indicator 3.1.1. as a first example (quantitative variable): Child labour rate (5-17) \n",
    "\n",
    "The maplecroft sheet has each indicator undergo a set of tranformations: \n",
    "\n",
    "1. Indicator raw data = basis\n",
    "2. Normalize indicator raw data with certain transformation (e.g. 0.3.1.1. becomes 0.3.1.1_s)\n",
    "3. Aggregate various normalized indicator data into a cluster value (e.g. 0.3.1.1 and 0.3.1.2. become 0.3_s)\n",
    "\n",
    "In the following I am reproducing these steps, each of which contains many different nested if-then statements\n",
    "\n",
    "## 1 Indicator raw data\n",
    "\n",
    "s. above\n",
    "\n",
    "## 2 Normalize "
   ]
  },
  {
   "cell_type": "code",
   "execution_count": null,
   "metadata": {
    "hidden": true
   },
   "outputs": [],
   "source": [
    "min_val = min(s24_transformed.value.astype('float'))\n",
    "max_val = max(s24_transformed.value.astype('float'))\n",
    "tot_range = max_val - min_val \n",
    "\n",
    "if indicator = \n",
    "\n",
    "# Do the actual normalization\n",
    "s24_transformed.assign(norm_val = (s24_transformed.value.astype('float') - min_val)/ tot_range)"
   ]
  },
  {
   "cell_type": "code",
   "execution_count": null,
   "metadata": {
    "hidden": true
   },
   "outputs": [],
   "source": [
    "These if-statements must be included: \n",
    "\n",
    "* If categorical --> Something I still have to figure out\n",
    "    * Else: If upper limit required --> take upper limit value.\n",
    "        * Else: Take max value of series. And then: \n",
    "            * If raw data value > max to use\n",
    "            \n",
    "* Categorical vs numerical\n",
    "    * Inverted\n",
    "        * Is raw data point (for a country) available? --> \n",
    "            * Max to use as upper limit or max value\n",
    "                * Min to use as lower limit of min value\n",
    "                    *  "
   ]
  },
  {
   "cell_type": "code",
   "execution_count": null,
   "metadata": {
    "hidden": true
   },
   "outputs": [],
   "source": [
    "from sklearn import preprocessing\n",
    "sklearn.preprocessing.MinMaxScaler().fit_transform(s24_transformed.value)\n",
    "\n",
    "\n",
    "\n",
    "# Create x, where x the 'scores' column's values as floats\n",
    "x = s24_transformed.value.astype(float)\n",
    "\n",
    "temp = x.reshape(1, -1)\n",
    "\n",
    "# Create a minimum and maximum processor object\n",
    "min_max_scaler = preprocessing.MinMaxScaler()\n",
    "\n",
    "# Create an object to transform the data to fit minmax processor\n",
    "x_scaled = min_max_scaler.fit_transform(temp)\n",
    "\n",
    "# Run the normalizer on the dataframe\n",
    "df_normalized = pd.DataFrame(x_scaled)\n",
    "\n",
    "\n",
    "# s56_transformed.head()\n",
    "\n",
    "# The maplecroft sheet has each indicator undergo the following tran"
   ]
  },
  {
   "cell_type": "code",
   "execution_count": null,
   "metadata": {
    "hidden": true
   },
   "outputs": [],
   "source": [
    "# Extract the relevant columns\n",
    "temp = s24_raw[['geoAreaCode',\n",
    "            'geoAreaName',\n",
    "            'timePeriodStart',\n",
    "            'value']]\n",
    "\n",
    "# Extract the latest value for each country\n",
    "temp[temp['timePeriodStart'] == temp.groupby('geoAreaName')['timePeriodStart'].transform('max')]"
   ]
  },
  {
   "cell_type": "code",
   "execution_count": null,
   "metadata": {
    "hidden": true
   },
   "outputs": [],
   "source": [
    "# Transform the raw data\n",
    "s61_transformed = transform_sdg_api_data(raw_data = s61_raw)"
   ]
  },
  {
   "cell_type": "code",
   "execution_count": null,
   "metadata": {
    "hidden": true
   },
   "outputs": [],
   "source": [
    "# Extract data and directly flatten it out into a pandas dataframe\n",
    "s24_raw = extract_sdg_api_data(series = 'VC_HTF_DETV')\n",
    "\n",
    "# Save data to raw data folder\n",
    "save_raw_data(dataframe = s24_raw,\n",
    "             filename = 'S_24.xlsx')"
   ]
  },
  {
   "cell_type": "code",
   "execution_count": null,
   "metadata": {
    "hidden": true
   },
   "outputs": [],
   "source": [
    "# Extract data and directly flatten it out into a pandas dataframe\n",
    "url = 'https://unstats.un.org/SDGAPI/v1/sdg/Series/Data?seriesCode=VC_HTF_DETV&pageSize=999999999' # choose page size large enough to make sure data all fits in one page\n",
    "s24_raw = pd.json_normalize(requests.get(url).json()['data'])\n",
    "\n",
    "# Save data to raw data folder\n",
    "save_raw_data(dataframe = s24_raw,\n",
    "             filename = 'S_24.xlsx')"
   ]
  },
  {
   "cell_type": "code",
   "execution_count": null,
   "metadata": {
    "hidden": true
   },
   "outputs": [],
   "source": [
    "# Extract raw data\n",
    "s56_raw = s56_extract(subs_key = '460ab272abdd43c892bb59c218c22c09',\n",
    "                      start_period = '2010',\n",
    "                      end_period = '2020')\n",
    "\n",
    "# Save raw data\n",
    "save_raw_data(dataframe = s56_raw,\n",
    "             filename = 'S_56.xlsx')"
   ]
  },
  {
   "cell_type": "code",
   "execution_count": null,
   "metadata": {
    "hidden": true
   },
   "outputs": [],
   "source": [
    "def s56_extract(subs_key, start_period = 2010, end_period = 2020):\n",
    "    \"\"\"Extract raw data of source S-15 from the UNESCO api UIS\n",
    "\n",
    "    Parameters:\n",
    "    subs_key (string): Your API key. You must create one. Visit https://apiportal.uis.unesco.org/getting-started for more info\n",
    "    start_period (int): Year which is the beginning of series for which you want to collect data\n",
    "    end_period (ing): Year which is the end of series for which you want to collect data\n",
    "\n",
    "    Returns:\n",
    "    obj: Returns pandas dataframe and saves raw data to specified output_path\n",
    "\n",
    "   \"\"\"\n",
    "    url = 'https://api.uis.unesco.org/sdmx/data/SDG4/ROFST.PT.L3._T._T.SCH_AGE_GROUP._T.INST_T._Z._T._Z._Z._Z._T._T._Z._Z._Z.?startPeriod={syear}&endPeriod={eyear}&format=csv-sdmx&subscription-key={skey}'.format(syear = start_period,\n",
    "        eyear = end_period,\n",
    "        skey = subs_key)\n",
    "    return(pd.read_csv(filepath_or_buffer = url, \n",
    "                      sep = ',',))"
   ]
  },
  {
   "cell_type": "code",
   "execution_count": null,
   "metadata": {
    "hidden": true
   },
   "outputs": [],
   "source": [
    "# Extract data\n",
    "s55_raw = s55_extract(subs_key = '460ab272abdd43c892bb59c218c22c09',\n",
    "                      start_period = '2010',\n",
    "                      end_period = '2020')\n",
    "\n",
    "# Save raw data\n",
    "save_raw_data(dataframe = s55_raw,\n",
    "             filename = 'S_55.xlsx')"
   ]
  },
  {
   "cell_type": "code",
   "execution_count": null,
   "metadata": {
    "hidden": true
   },
   "outputs": [],
   "source": [
    "def s55_extract(subs_key, start_period = 2010, end_period = 2020):\n",
    "    \"\"\"Extract raw data from the UNESCO API\n",
    "\n",
    "    The API can be called with a API key, which you must generate by creating an account. \n",
    "    The calls can be done with simple https requests, in which many parameter must be specified (e.g. indicator code, sexes, age, ...). TO understand the structure, please check the query builder https://apiportal.uis.unesco.org/query-builder\n",
    "\n",
    "    Parameters:\n",
    "    subs_key (string): Your API key. You must create one. Visit https://apiportal.uis.unesco.org/getting-started for more info\n",
    "    start_period (int): Year which is the beginning of series for which you want to collect data\n",
    "    end_period (ing): Year which is the end of series for which you want to collect data\n",
    "\n",
    "    Returns:\n",
    "    obj: Returns pandas dataframe and saves raw data to specified output_path\n",
    "\n",
    "   \"\"\"\n",
    "    url = 'https://api.uis.unesco.org/sdmx/data/SDG4/ROFST.PT.L2._T._T.SCH_AGE_GROUP._T.INST_T._Z._T._Z._Z._Z._T._T._Z._Z._Z.?startPeriod={syear}&endPeriod={eyear}&format=csv-sdmx&subscription-key={skey}'.format(syear = start_period,\n",
    "        eyear = end_period,\n",
    "        skey = subs_key)\n",
    "    return(pd.read_csv(filepath_or_buffer = url, \n",
    "                      sep = ',',))\n",
    "\n",
    "https://api.uis.unesco.org/sdmx/dataflow/all/all/latest?subscription-key=<your api key>"
   ]
  },
  {
   "cell_type": "code",
   "execution_count": null,
   "metadata": {
    "hidden": true
   },
   "outputs": [],
   "source": [
    "# Extract the relevant columns\n",
    "temp = s61_raw[['geoAreaCode',\n",
    "            'geoAreaName',\n",
    "            'timePeriodStart',\n",
    "            'value']]\n",
    "\n",
    "# Extract the latest value for each country\n",
    "temp = temp[temp['timePeriodStart'] == temp.groupby('geoAreaName')['timePeriodStart'].transform('max')]"
   ]
  },
  {
   "cell_type": "code",
   "execution_count": null,
   "metadata": {
    "hidden": true
   },
   "outputs": [],
   "source": [
    "\n",
    "# Extract the relevant columns\n",
    "temp = temp[['geoAreaCode',\n",
    "            'geoAreaName',\n",
    "            'timePeriodStart',\n",
    "            'value']]\n",
    "\n",
    "# Extract the latest value for each country\n",
    "temp = temp[temp['timePeriodStart'] == temp.groupby('geoAreaName')['timePeriodStart'].transform('max')]"
   ]
  },
  {
   "cell_type": "markdown",
   "metadata": {
    "hidden": true
   },
   "source": [
    "#### Transforming ILO data"
   ]
  },
  {
   "cell_type": "code",
   "execution_count": null,
   "metadata": {
    "hidden": true
   },
   "outputs": [],
   "source": [
    "# Filter out rows to get both sexes\n",
    "temp  = s23_raw_ilo[s23_raw_ilo['SEX'] == 'SEX_T']\n",
    "\n",
    "# Extract the relevant columns\n",
    "temp = temp[['REF_AREA',\n",
    "            'TIME_PERIOD',\n",
    "            'OBS_VALUE']]\n",
    "\n",
    "# Extract the latest value for each country\n",
    "temp = temp[temp['TIME_PERIOD'] == temp.groupby('REF_AREA')['TIME_PERIOD'].transform('max')]\n",
    "\n",
    "# Save file to examine it\n",
    "temp.to_excel(cwd + \"\\data_transformed\\S_23_SDG_ILO.xlsx\")"
   ]
  },
  {
   "cell_type": "markdown",
   "metadata": {
    "hidden": true
   },
   "source": [
    "#### Extracting data through ILO API"
   ]
  },
  {
   "cell_type": "code",
   "execution_count": null,
   "metadata": {
    "hidden": true
   },
   "outputs": [],
   "source": []
  },
  {
   "cell_type": "code",
   "execution_count": null,
   "metadata": {
    "hidden": true
   },
   "outputs": [],
   "source": [
    "# Extract data from ILO API. The link is generated from this website: https://ilostat.ilo.org/data/sdmx-query-builder/ . \n",
    "# The code of the indicator I have from here: \n",
    "url = 'https://www.ilo.org/sdmx/rest/data/ILO,DF_SDG_ALL_SDG_A831_SEX_RT/?format=csv&startPeriod=2010-01-01&endPeriod=2020-12-31'\n",
    "\n",
    "s23_raw_ilo = pd.read_csv(filepath_or_buffer = url, \n",
    "                      sep = ',',)\n",
    "\n",
    "# Save data to raw data folder\n",
    "s23_raw_ilo.to_excel(dataframe = s23_raw,\n",
    "             filename = 'S_23.xlsx')"
   ]
  },
  {
   "cell_type": "code",
   "execution_count": null,
   "metadata": {
    "hidden": true
   },
   "outputs": [],
   "source": []
  },
  {
   "cell_type": "code",
   "execution_count": null,
   "metadata": {
    "hidden": true
   },
   "outputs": [],
   "source": [
    "def s56_save_raw(s56_data, output_path = data_sources_raw + '\\S_56.xlsx'):\n",
    "    \"\"\"Save raw data of source s56 as .xlsx file\n",
    "\n",
    "    Parameters:\n",
    "    s15_data (obj): Raw data to be be saved. Must be ob class pandas.DataFrame\n",
    "    output_path (string): Output path of where to save the raw data if save_raw is set to true\n",
    "\n",
    "    Returns:\n",
    "    obj: Returns pandas dataframe and saves raw data to specified output_path\n",
    "\n",
    "   \"\"\"\n",
    "    s56_data.to_excel(output_path)\n",
    "    print('The raw data has been saved as .xlsx file in: ' + output_path)"
   ]
  },
  {
   "cell_type": "code",
   "execution_count": null,
   "metadata": {
    "hidden": true
   },
   "outputs": [],
   "source": [
    "\n",
    "def s55_save_raw(s55_data, output_path = data_sources_raw + '\\S_55.xlsx'):\n",
    "    \"\"\"Save raw data of source s55 as .xlsx file\n",
    "\n",
    "    Parameters:\n",
    "    s15_data (obj): Raw data to be be saved. Must be ob class pandas.DataFrame\n",
    "    output_path (string): Output path of where to save the raw data if save_raw is set to true\n",
    "\n",
    "    Returns:\n",
    "    obj: Returns pandas dataframe and saves raw data to specified output_path\n",
    "\n",
    "   \"\"\"\n",
    "    s55_data.to_excel(output_path)\n",
    "    print('The raw data has been saved as .xlsx file in: ' + output_path)"
   ]
  },
  {
   "cell_type": "code",
   "execution_count": null,
   "metadata": {
    "hidden": true
   },
   "outputs": [],
   "source": [
    "# Retrieve the most up-to-date number for each country\n",
    "s16_data[s16_data['TIME_PERIOD']==s16_data.groupby('REF_AREA')['TIME_PERIOD'].transform('max')]"
   ]
  },
  {
   "cell_type": "code",
   "execution_count": null,
   "metadata": {
    "hidden": true
   },
   "outputs": [],
   "source": [
    "# Discard unnecessay columns\n",
    "s16_data = s16_data[['REF_AREA',\n",
    "         'TIME_PERIOD',\n",
    "         'OBS_VALUE']]\n",
    "\n",
    "# Discard unnecessary rows\n",
    "s16_data = s16_data[s16_data.REF_AREA.isin(counry_list.Code)]"
   ]
  },
  {
   "cell_type": "code",
   "execution_count": null,
   "metadata": {
    "hidden": true
   },
   "outputs": [],
   "source": [
    "# Define parameters of the API query\n",
    "subs_key = '460ab272abdd43c892bb59c218c22c09' # must generate an KEY on the UIS page\n",
    "start_period = '2010' # define from which year you wan to retrieve data \n",
    "end_period = '2020' # define until what you want to retreive data\n",
    "\n",
    "# Build URL query based on parameters defined\n",
    "url = 'https://api.uis.unesco.org/sdmx/data/SDG4/ROFST.PT.L3._T._T.SCH_AGE_GROUP._T.INST_T._Z._T._Z._Z._Z._T._T._Z._Z._Z.?startPeriod={syear}&endPeriod={eyear}&format=csv-sdmx&subscription-key={skey}'.format(syear = start_period,\n",
    "eyear = end_period,\n",
    "skey = subs_key)\n",
    "\n",
    "# Extract the data\n",
    "s16_data = pd.read_csv(filepath_or_buffer = url, \n",
    "                      sep = ',',\n",
    "                      )\n",
    "\n",
    "# Save data in raw version as excel file # TO do: Create a versioning\n",
    "s16_data.to_excel(data_sources_raw + '\\S_16.xlsx')"
   ]
  },
  {
   "cell_type": "code",
   "execution_count": null,
   "metadata": {
    "hidden": true
   },
   "outputs": [],
   "source": [
    "# Retrieve the most up-to-date number for each country\n",
    "s15_data[s15_data['TIME_PERIOD']==s15_data.groupby('REF_AREA')['TIME_PERIOD'].transform('max')]"
   ]
  },
  {
   "cell_type": "code",
   "execution_count": null,
   "metadata": {
    "hidden": true
   },
   "outputs": [],
   "source": [
    "# Discard unnecessay columns\n",
    "s15_data = s15_data[['REF_AREA',\n",
    "         'TIME_PERIOD',\n",
    "         'OBS_VALUE']]\n",
    "\n",
    "# Discard unnecessary rows\n",
    "s15_data = s15_data[s15_data.REF_AREA.isin(counry_list.Code)]"
   ]
  },
  {
   "cell_type": "code",
   "execution_count": null,
   "metadata": {
    "hidden": true
   },
   "outputs": [],
   "source": [
    "# Define parameters of the API query\n",
    "subs_key = '460ab272abdd43c892bb59c218c22c09' # must generate an KEY on the UIS page\n",
    "start_period = '2010' # define from which year you wan to retrieve data \n",
    "end_period = '2020' # define until what you want to retreive data\n",
    "\n",
    "# Build URL query based on parameters defined\n",
    "url = 'https://api.uis.unesco.org/sdmx/data/SDG4/ROFST.PT.L2._T._T.SCH_AGE_GROUP._T.INST_T._Z._T._Z._Z._Z._T._T._Z._Z._Z.?startPeriod={syear}&endPeriod={eyear}&format=csv-sdmx&subscription-key={skey}'.format(syear = start_period,\n",
    "eyear = end_period,\n",
    "skey = subs_key)\n",
    "\n",
    "# Extract the data\n",
    "s15_data = pd.read_csv(filepath_or_buffer = url, \n",
    "                      sep = ',',\n",
    "                      )\n",
    "\n",
    "# Save data in raw version as excel file # TO do: Create a versioning\n",
    "s15_data.to_excel(data_sources_raw + '\\S_15.xlsx')"
   ]
  },
  {
   "cell_type": "code",
   "execution_count": null,
   "metadata": {
    "hidden": true,
    "scrolled": true
   },
   "outputs": [],
   "source": [
    "s15_data.REF_AREA.unique()"
   ]
  },
  {
   "cell_type": "code",
   "execution_count": null,
   "metadata": {
    "hidden": true
   },
   "outputs": [],
   "source": [
    "# Checking to see if ILO data can be retrieved from their SDMX data warehouse\n",
    "url = \"https://www.ilo.org/sdmx/rest/data/ILO,DF_YI_ALL_IFL_4IEM_SEX_ECO_IFL_RT/?format=jsondata&startPeriod=2010-01-01&endPeriod=2020-12-31\"\n",
    "\n",
    "response = requests.get(url)\n",
    "\n",
    "my_json = json.loads(response.text)\n",
    "\n",
    "type(my_json)\n",
    "\n",
    "# response = json.loads(response.text)\n",
    "\n",
    "print(my_json)\n",
    "\n",
    "\n",
    "\n"
   ]
  },
  {
   "cell_type": "code",
   "execution_count": null,
   "metadata": {
    "hidden": true
   },
   "outputs": [],
   "source": [
    "# Check out the UN SDG Goals API\n",
    "\n",
    "url = \"https://unstats.un.org/SDGAPI/v1/sdg/Indicator/VC_HTF_DETV%20/Series/List\"\n",
    "\n",
    "response = requests.get(url)\n",
    "\n",
    "my_json = json.loads(response.text)"
   ]
  },
  {
   "cell_type": "code",
   "execution_count": null,
   "metadata": {
    "hidden": true
   },
   "outputs": [],
   "source": [
    "# S-11\n",
    "url = 'https://outoftheshadows.eiu.com/wp-content/uploads/2019/05/OOSI_Out_of_the_shadows_index_60-countries_May2019.xlsm'\n",
    "\n",
    "data = pd.read_excel(url,\n",
    "                    sheet_name = 'Dataset',\n",
    "                    skiprows = 13)"
   ]
  },
  {
   "cell_type": "code",
   "execution_count": null,
   "metadata": {
    "hidden": true
   },
   "outputs": [],
   "source": [
    "# s15_data.groupby(['REF_AREA'], sort = False)[['TIME_PERIOD', 'OBS_VALUE']].max()\n",
    "# s15_data.groupby(['REF_AREA'], sort = False).max()\n"
   ]
  }
 ],
 "metadata": {
  "kernelspec": {
   "display_name": "Python 3",
   "language": "python",
   "name": "python3"
  },
  "language_info": {
   "codemirror_mode": {
    "name": "ipython",
    "version": 3
   },
   "file_extension": ".py",
   "mimetype": "text/x-python",
   "name": "python",
   "nbconvert_exporter": "python",
   "pygments_lexer": "ipython3",
   "version": "3.7.6"
  },
  "toc": {
   "base_numbering": 1,
   "nav_menu": {},
   "number_sections": true,
   "sideBar": true,
   "skip_h1_title": false,
   "title_cell": "Table of Contents",
   "title_sidebar": "Contents",
   "toc_cell": true,
   "toc_position": {
    "height": "calc(100% - 180px)",
    "left": "10px",
    "top": "150px",
    "width": "274.633px"
   },
   "toc_section_display": true,
   "toc_window_display": true
  }
 },
 "nbformat": 4,
 "nbformat_minor": 4
}
