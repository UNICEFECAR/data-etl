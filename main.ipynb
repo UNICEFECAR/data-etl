{
 "cells": [
  {
   "cell_type": "markdown",
   "metadata": {
    "toc": true
   },
   "source": [
    "<h1>Table of Contents<span class=\"tocSkip\"></span></h1>\n",
    "<div class=\"toc\"><ul class=\"toc-item\"><li><span><a href=\"#Preliminaries-&amp;-Inro\" data-toc-modified-id=\"Preliminaries-&amp;-Inro-1\"><span class=\"toc-item-num\">1&nbsp;&nbsp;</span>Preliminaries &amp; Inro</a></span><ul class=\"toc-item\"><li><span><a href=\"#Backlog-of-tasks\" data-toc-modified-id=\"Backlog-of-tasks-1.1\"><span class=\"toc-item-num\">1.1&nbsp;&nbsp;</span>Backlog of tasks</a></span></li><li><span><a href=\"#Import-packages\" data-toc-modified-id=\"Import-packages-1.2\"><span class=\"toc-item-num\">1.2&nbsp;&nbsp;</span>Import packages</a></span></li><li><span><a href=\"#Import-country-list\" data-toc-modified-id=\"Import-country-list-1.3\"><span class=\"toc-item-num\">1.3&nbsp;&nbsp;</span>Import country list</a></span></li></ul></li><li><span><a href=\"#UNESCO-Sources:-Data-extraction---cleansing---normalization\" data-toc-modified-id=\"UNESCO-Sources:-Data-extraction---cleansing---normalization-2\"><span class=\"toc-item-num\">2&nbsp;&nbsp;</span>UNESCO Sources: Data extraction - cleansing - normalization</a></span><ul class=\"toc-item\"><li><span><a href=\"#S-55-(prev-S-15)-Percentage-of-out-of-school-adolescents-of-lower-secondary-school-age.\" data-toc-modified-id=\"S-55-(prev-S-15)-Percentage-of-out-of-school-adolescents-of-lower-secondary-school-age.-2.1\"><span class=\"toc-item-num\">2.1&nbsp;&nbsp;</span>S-55 (prev S-15) Percentage of out-of-school adolescents of lower secondary school age.</a></span><ul class=\"toc-item\"><li><span><a href=\"#Extraction\" data-toc-modified-id=\"Extraction-2.1.1\"><span class=\"toc-item-num\">2.1.1&nbsp;&nbsp;</span>Extraction</a></span></li><li><span><a href=\"#Cleansing\" data-toc-modified-id=\"Cleansing-2.1.2\"><span class=\"toc-item-num\">2.1.2&nbsp;&nbsp;</span>Cleansing</a></span></li><li><span><a href=\"#Normalization-(scaling)\" data-toc-modified-id=\"Normalization-(scaling)-2.1.3\"><span class=\"toc-item-num\">2.1.3&nbsp;&nbsp;</span>Normalization (scaling)</a></span></li><li><span><a href=\"#Select-only-those-rows/-columns-which-are-relevant\" data-toc-modified-id=\"Select-only-those-rows/-columns-which-are-relevant-2.1.4\"><span class=\"toc-item-num\">2.1.4&nbsp;&nbsp;</span>Select only those rows/ columns which are relevant</a></span></li></ul></li><li><span><a href=\"#S-56-(prev-S-16)-Percentage-of-out-of-school-youth-of-upper-secondary-school-age\" data-toc-modified-id=\"S-56-(prev-S-16)-Percentage-of-out-of-school-youth-of-upper-secondary-school-age-2.2\"><span class=\"toc-item-num\">2.2&nbsp;&nbsp;</span>S-56 (prev S-16) Percentage of out-of-school youth of upper secondary school age</a></span><ul class=\"toc-item\"><li><span><a href=\"#Extraction\" data-toc-modified-id=\"Extraction-2.2.1\"><span class=\"toc-item-num\">2.2.1&nbsp;&nbsp;</span>Extraction</a></span></li><li><span><a href=\"#Cleansing\" data-toc-modified-id=\"Cleansing-2.2.2\"><span class=\"toc-item-num\">2.2.2&nbsp;&nbsp;</span>Cleansing</a></span></li><li><span><a href=\"#Normalization-(scaling)\" data-toc-modified-id=\"Normalization-(scaling)-2.2.3\"><span class=\"toc-item-num\">2.2.3&nbsp;&nbsp;</span>Normalization (scaling)</a></span></li><li><span><a href=\"#Select-only-those-rows/-columns-which-are-relevant\" data-toc-modified-id=\"Select-only-those-rows/-columns-which-are-relevant-2.2.4\"><span class=\"toc-item-num\">2.2.4&nbsp;&nbsp;</span>Select only those rows/ columns which are relevant</a></span></li></ul></li><li><span><a href=\"#S-52-Gross-early-childhood-education-enrolment-ratio-in-(a)-pre-primary-education-and-(b)-early-childhood-educational-development-(SDG-Indicator-4.2.4)\" data-toc-modified-id=\"S-52-Gross-early-childhood-education-enrolment-ratio-in-(a)-pre-primary-education-and-(b)-early-childhood-educational-development-(SDG-Indicator-4.2.4)-2.3\"><span class=\"toc-item-num\">2.3&nbsp;&nbsp;</span>S-52 Gross early childhood education enrolment ratio in (a) pre-primary education and (b) early childhood educational development (SDG Indicator 4.2.4)</a></span><ul class=\"toc-item\"><li><span><a href=\"#Extraction\" data-toc-modified-id=\"Extraction-2.3.1\"><span class=\"toc-item-num\">2.3.1&nbsp;&nbsp;</span>Extraction</a></span></li><li><span><a href=\"#Cleansing\" data-toc-modified-id=\"Cleansing-2.3.2\"><span class=\"toc-item-num\">2.3.2&nbsp;&nbsp;</span>Cleansing</a></span></li><li><span><a href=\"#Normalization-(scaling)\" data-toc-modified-id=\"Normalization-(scaling)-2.3.3\"><span class=\"toc-item-num\">2.3.3&nbsp;&nbsp;</span>Normalization (scaling)</a></span></li><li><span><a href=\"#Select-only-those-rows/-columns-which-are-relevant\" data-toc-modified-id=\"Select-only-those-rows/-columns-which-are-relevant-2.3.4\"><span class=\"toc-item-num\">2.3.4&nbsp;&nbsp;</span>Select only those rows/ columns which are relevant</a></span></li></ul></li></ul></li><li><span><a href=\"#SDG-API-Sources:-Data-extraction---cleansing---normalization\" data-toc-modified-id=\"SDG-API-Sources:-Data-extraction---cleansing---normalization-3\"><span class=\"toc-item-num\">3&nbsp;&nbsp;</span>SDG API Sources: Data extraction - cleansing - normalization</a></span><ul class=\"toc-item\"><li><span><a href=\"#S-24-(prev.-S-14)-SDG-Indicator-8.7.1-Proportion-of-children-aged-5-17-years-engaged-in-child-labour-SL_TLF_CHLDEA\" data-toc-modified-id=\"S-24-(prev.-S-14)-SDG-Indicator-8.7.1-Proportion-of-children-aged-5-17-years-engaged-in-child-labour-SL_TLF_CHLDEA-3.1\"><span class=\"toc-item-num\">3.1&nbsp;&nbsp;</span>S-24 (prev. S-14) SDG Indicator 8.7.1 Proportion of children aged 5-17 years engaged in child labour SL_TLF_CHLDEA</a></span><ul class=\"toc-item\"><li><span><a href=\"#Extraction\" data-toc-modified-id=\"Extraction-3.1.1\"><span class=\"toc-item-num\">3.1.1&nbsp;&nbsp;</span>Extraction</a></span></li><li><span><a href=\"#Cleansing\" data-toc-modified-id=\"Cleansing-3.1.2\"><span class=\"toc-item-num\">3.1.2&nbsp;&nbsp;</span>Cleansing</a></span></li><li><span><a href=\"#Normalization-(scaling)\" data-toc-modified-id=\"Normalization-(scaling)-3.1.3\"><span class=\"toc-item-num\">3.1.3&nbsp;&nbsp;</span>Normalization (scaling)</a></span></li><li><span><a href=\"#Select-only-those-rows/-columns-which-are-relevant\" data-toc-modified-id=\"Select-only-those-rows/-columns-which-are-relevant-3.1.4\"><span class=\"toc-item-num\">3.1.4&nbsp;&nbsp;</span>Select only those rows/ columns which are relevant</a></span></li></ul></li><li><span><a href=\"#S-23-(prev.-S-17)-ILO-STAT-Informal-Employment-(%-of-total-non-agricultural-employment)-SL_ISV_IFEM\" data-toc-modified-id=\"S-23-(prev.-S-17)-ILO-STAT-Informal-Employment-(%-of-total-non-agricultural-employment)-SL_ISV_IFEM-3.2\"><span class=\"toc-item-num\">3.2&nbsp;&nbsp;</span>S-23 (prev. S-17) ILO STAT Informal Employment (% of total non-agricultural employment) SL_ISV_IFEM</a></span><ul class=\"toc-item\"><li><span><a href=\"#Extraction\" data-toc-modified-id=\"Extraction-3.2.1\"><span class=\"toc-item-num\">3.2.1&nbsp;&nbsp;</span>Extraction</a></span></li><li><span><a href=\"#Cleansing\" data-toc-modified-id=\"Cleansing-3.2.2\"><span class=\"toc-item-num\">3.2.2&nbsp;&nbsp;</span>Cleansing</a></span></li><li><span><a href=\"#Normalization-(scaling)\" data-toc-modified-id=\"Normalization-(scaling)-3.2.3\"><span class=\"toc-item-num\">3.2.3&nbsp;&nbsp;</span>Normalization (scaling)</a></span></li><li><span><a href=\"#Select-only-those-rows/-columns-which-are-relevant\" data-toc-modified-id=\"Select-only-those-rows/-columns-which-are-relevant-3.2.4\"><span class=\"toc-item-num\">3.2.4&nbsp;&nbsp;</span>Select only those rows/ columns which are relevant</a></span></li></ul></li><li><span><a href=\"#S-61-(prev-S-19)-SDG-Indicator-16.2.2-Detected-victims-of-human-trafficking,-by-age-and-sex-(number)--VC_HTF_DETV\" data-toc-modified-id=\"S-61-(prev-S-19)-SDG-Indicator-16.2.2-Detected-victims-of-human-trafficking,-by-age-and-sex-(number)--VC_HTF_DETV-3.3\"><span class=\"toc-item-num\">3.3&nbsp;&nbsp;</span>S-61 (prev S-19) SDG Indicator 16.2.2 Detected victims of human trafficking, by age and sex (number)  VC_HTF_DETV</a></span><ul class=\"toc-item\"><li><span><a href=\"#Extraction\" data-toc-modified-id=\"Extraction-3.3.1\"><span class=\"toc-item-num\">3.3.1&nbsp;&nbsp;</span>Extraction</a></span></li><li><span><a href=\"#Cleanse\" data-toc-modified-id=\"Cleanse-3.3.2\"><span class=\"toc-item-num\">3.3.2&nbsp;&nbsp;</span>Cleanse</a></span></li><li><span><a href=\"#Normalization-(scaling)\" data-toc-modified-id=\"Normalization-(scaling)-3.3.3\"><span class=\"toc-item-num\">3.3.3&nbsp;&nbsp;</span>Normalization (scaling)</a></span></li><li><span><a href=\"#Select-only-those-rows/-columns-which-are-relevant\" data-toc-modified-id=\"Select-only-those-rows/-columns-which-are-relevant-3.3.4\"><span class=\"toc-item-num\">3.3.4&nbsp;&nbsp;</span>Select only those rows/ columns which are relevant</a></span></li></ul></li><li><span><a href=\"#S-62-(prev-S-20)-SDG-Indicator-1.1.1.-Proportion-of-population-below-international-poverty-line-(%)-SI_POV_DAY1\" data-toc-modified-id=\"S-62-(prev-S-20)-SDG-Indicator-1.1.1.-Proportion-of-population-below-international-poverty-line-(%)-SI_POV_DAY1-3.4\"><span class=\"toc-item-num\">3.4&nbsp;&nbsp;</span>S-62 (prev S-20) SDG Indicator 1.1.1. Proportion of population below international poverty line (%) SI_POV_DAY1</a></span><ul class=\"toc-item\"><li><span><a href=\"#Extraction\" data-toc-modified-id=\"Extraction-3.4.1\"><span class=\"toc-item-num\">3.4.1&nbsp;&nbsp;</span>Extraction</a></span></li><li><span><a href=\"#Cleanse\" data-toc-modified-id=\"Cleanse-3.4.2\"><span class=\"toc-item-num\">3.4.2&nbsp;&nbsp;</span>Cleanse</a></span></li><li><span><a href=\"#Normalization-(scaling)\" data-toc-modified-id=\"Normalization-(scaling)-3.4.3\"><span class=\"toc-item-num\">3.4.3&nbsp;&nbsp;</span>Normalization (scaling)</a></span></li><li><span><a href=\"#Select-only-those-rows/-columns-which-are-relevant\" data-toc-modified-id=\"Select-only-those-rows/-columns-which-are-relevant-3.4.4\"><span class=\"toc-item-num\">3.4.4&nbsp;&nbsp;</span>Select only those rows/ columns which are relevant</a></span></li></ul></li><li><span><a href=\"#S-203-(prev-S-47)-SDG-Indicator-8.5.1.-Average-hourly-earnings-of-employees-by-sex-and-occupation-(local-currency)-SL_EMP_AEARN\" data-toc-modified-id=\"S-203-(prev-S-47)-SDG-Indicator-8.5.1.-Average-hourly-earnings-of-employees-by-sex-and-occupation-(local-currency)-SL_EMP_AEARN-3.5\"><span class=\"toc-item-num\">3.5&nbsp;&nbsp;</span>S-203 (prev S-47) SDG Indicator 8.5.1. Average hourly earnings of employees by sex and occupation (local currency) SL_EMP_AEARN</a></span><ul class=\"toc-item\"><li><span><a href=\"#Extraction\" data-toc-modified-id=\"Extraction-3.5.1\"><span class=\"toc-item-num\">3.5.1&nbsp;&nbsp;</span>Extraction</a></span></li><li><span><a href=\"#Cleanse\" data-toc-modified-id=\"Cleanse-3.5.2\"><span class=\"toc-item-num\">3.5.2&nbsp;&nbsp;</span>Cleanse</a></span></li><li><span><a href=\"#Normalization-(scaling)\" data-toc-modified-id=\"Normalization-(scaling)-3.5.3\"><span class=\"toc-item-num\">3.5.3&nbsp;&nbsp;</span>Normalization (scaling)</a></span></li><li><span><a href=\"#Select-only-those-rows/-columns-which-are-relevant\" data-toc-modified-id=\"Select-only-those-rows/-columns-which-are-relevant-3.5.4\"><span class=\"toc-item-num\">3.5.4&nbsp;&nbsp;</span>Select only those rows/ columns which are relevant</a></span></li></ul></li><li><span><a href=\"#S-204-(prev-S-48)-SDG-Indicator-1.1.1,-ILO-Stat:-Employed-population-below-international-poverty-line,-by-sex-and-age-(%)-SI_POV_EMP1\" data-toc-modified-id=\"S-204-(prev-S-48)-SDG-Indicator-1.1.1,-ILO-Stat:-Employed-population-below-international-poverty-line,-by-sex-and-age-(%)-SI_POV_EMP1-3.6\"><span class=\"toc-item-num\">3.6&nbsp;&nbsp;</span>S-204 (prev S-48) SDG Indicator 1.1.1, ILO Stat: Employed population below international poverty line, by sex and age (%) SI_POV_EMP1</a></span><ul class=\"toc-item\"><li><span><a href=\"#Extraction\" data-toc-modified-id=\"Extraction-3.6.1\"><span class=\"toc-item-num\">3.6.1&nbsp;&nbsp;</span>Extraction</a></span></li><li><span><a href=\"#Cleanse\" data-toc-modified-id=\"Cleanse-3.6.2\"><span class=\"toc-item-num\">3.6.2&nbsp;&nbsp;</span>Cleanse</a></span></li><li><span><a href=\"#Normalization-(scaling)\" data-toc-modified-id=\"Normalization-(scaling)-3.6.3\"><span class=\"toc-item-num\">3.6.3&nbsp;&nbsp;</span>Normalization (scaling)</a></span></li></ul></li><li><span><a href=\"#S-71-SDG-Indicator-1.3.1-Proportion-of-mothers-with-newborns-receiving-maternity-cash-benefit.-SI_COV_MATNL\" data-toc-modified-id=\"S-71-SDG-Indicator-1.3.1-Proportion-of-mothers-with-newborns-receiving-maternity-cash-benefit.-SI_COV_MATNL-3.7\"><span class=\"toc-item-num\">3.7&nbsp;&nbsp;</span>S-71 SDG Indicator 1.3.1 Proportion of mothers with newborns receiving maternity cash benefit. SI_COV_MATNL</a></span><ul class=\"toc-item\"><li><span><a href=\"#Extraction\" data-toc-modified-id=\"Extraction-3.7.1\"><span class=\"toc-item-num\">3.7.1&nbsp;&nbsp;</span>Extraction</a></span></li><li><span><a href=\"#Cleanse\" data-toc-modified-id=\"Cleanse-3.7.2\"><span class=\"toc-item-num\">3.7.2&nbsp;&nbsp;</span>Cleanse</a></span></li><li><span><a href=\"#Normalization-(scaling)\" data-toc-modified-id=\"Normalization-(scaling)-3.7.3\"><span class=\"toc-item-num\">3.7.3&nbsp;&nbsp;</span>Normalization (scaling)</a></span></li><li><span><a href=\"#Select-only-those-rows/-columns-which-are-relevant\" data-toc-modified-id=\"Select-only-those-rows/-columns-which-are-relevant-3.7.4\"><span class=\"toc-item-num\">3.7.4&nbsp;&nbsp;</span>Select only those rows/ columns which are relevant</a></span></li></ul></li><li><span><a href=\"#S-78-SDG-Indicator-1.3.1-Proportion-of-population-covered-by-social-insurance-programs-SI_COV_SOCINS\" data-toc-modified-id=\"S-78-SDG-Indicator-1.3.1-Proportion-of-population-covered-by-social-insurance-programs-SI_COV_SOCINS-3.8\"><span class=\"toc-item-num\">3.8&nbsp;&nbsp;</span>S-78 SDG Indicator 1.3.1 Proportion of population covered by social insurance programs SI_COV_SOCINS</a></span><ul class=\"toc-item\"><li><span><a href=\"#Extraction\" data-toc-modified-id=\"Extraction-3.8.1\"><span class=\"toc-item-num\">3.8.1&nbsp;&nbsp;</span>Extraction</a></span></li><li><span><a href=\"#Cleanse\" data-toc-modified-id=\"Cleanse-3.8.2\"><span class=\"toc-item-num\">3.8.2&nbsp;&nbsp;</span>Cleanse</a></span></li><li><span><a href=\"#Normalization-(scaling)\" data-toc-modified-id=\"Normalization-(scaling)-3.8.3\"><span class=\"toc-item-num\">3.8.3&nbsp;&nbsp;</span>Normalization (scaling)</a></span></li><li><span><a href=\"#Select-only-those-rows/-columns-which-are-relevant\" data-toc-modified-id=\"Select-only-those-rows/-columns-which-are-relevant-3.8.4\"><span class=\"toc-item-num\">3.8.4&nbsp;&nbsp;</span>Select only those rows/ columns which are relevant</a></span></li></ul></li><li><span><a href=\"#S-80-SDG-Indicator-1.3.1-Proportion-of-population-covered-by-labour-market-programmes-SI_COV_LMKT\" data-toc-modified-id=\"S-80-SDG-Indicator-1.3.1-Proportion-of-population-covered-by-labour-market-programmes-SI_COV_LMKT-3.9\"><span class=\"toc-item-num\">3.9&nbsp;&nbsp;</span>S-80 SDG Indicator 1.3.1 Proportion of population covered by labour market programmes SI_COV_LMKT</a></span><ul class=\"toc-item\"><li><span><a href=\"#Extraction\" data-toc-modified-id=\"Extraction-3.9.1\"><span class=\"toc-item-num\">3.9.1&nbsp;&nbsp;</span>Extraction</a></span></li><li><span><a href=\"#Cleanse\" data-toc-modified-id=\"Cleanse-3.9.2\"><span class=\"toc-item-num\">3.9.2&nbsp;&nbsp;</span>Cleanse</a></span></li><li><span><a href=\"#Normalization-(scaling)\" data-toc-modified-id=\"Normalization-(scaling)-3.9.3\"><span class=\"toc-item-num\">3.9.3&nbsp;&nbsp;</span>Normalization (scaling)</a></span></li><li><span><a href=\"#Select-only-those-rows/-columns-which-are-relevant\" data-toc-modified-id=\"Select-only-those-rows/-columns-which-are-relevant-3.9.4\"><span class=\"toc-item-num\">3.9.4&nbsp;&nbsp;</span>Select only those rows/ columns which are relevant</a></span></li></ul></li><li><span><a href=\"#S-102-SDG-Indicator-2.2.2.--Proportion-of-children-moderately-or-severely-overweight-(%)--SH_STA_OVRWGT\" data-toc-modified-id=\"S-102-SDG-Indicator-2.2.2.--Proportion-of-children-moderately-or-severely-overweight-(%)--SH_STA_OVRWGT-3.10\"><span class=\"toc-item-num\">3.10&nbsp;&nbsp;</span>S-102 SDG Indicator 2.2.2.  Proportion of children moderately or severely overweight (%)  SH_STA_OVRWGT</a></span><ul class=\"toc-item\"><li><span><a href=\"#Extraction\" data-toc-modified-id=\"Extraction-3.10.1\"><span class=\"toc-item-num\">3.10.1&nbsp;&nbsp;</span>Extraction</a></span></li><li><span><a href=\"#Cleanse\" data-toc-modified-id=\"Cleanse-3.10.2\"><span class=\"toc-item-num\">3.10.2&nbsp;&nbsp;</span>Cleanse</a></span></li><li><span><a href=\"#Normalization-(scaling)\" data-toc-modified-id=\"Normalization-(scaling)-3.10.3\"><span class=\"toc-item-num\">3.10.3&nbsp;&nbsp;</span>Normalization (scaling)</a></span></li><li><span><a href=\"#Select-only-those-rows/-columns-which-are-relevant\" data-toc-modified-id=\"Select-only-those-rows/-columns-which-are-relevant-3.10.4\"><span class=\"toc-item-num\">3.10.4&nbsp;&nbsp;</span>Select only those rows/ columns which are relevant</a></span></li></ul></li><li><span><a href=\"#S-125-SDG-Indicator-16.2.3--Proportion-of-population-aged-18-29-years-who-experienced-sexual-violence-by-age-18,-by-sex-(%-of-population-aged-18-29)--VC_VAW_SXVLN\" data-toc-modified-id=\"S-125-SDG-Indicator-16.2.3--Proportion-of-population-aged-18-29-years-who-experienced-sexual-violence-by-age-18,-by-sex-(%-of-population-aged-18-29)--VC_VAW_SXVLN-3.11\"><span class=\"toc-item-num\">3.11&nbsp;&nbsp;</span>S-125 SDG Indicator 16.2.3  Proportion of population aged 18-29 years who experienced sexual violence by age 18, by sex (% of population aged 18-29)  VC_VAW_SXVLN</a></span><ul class=\"toc-item\"><li><span><a href=\"#Extraction\" data-toc-modified-id=\"Extraction-3.11.1\"><span class=\"toc-item-num\">3.11.1&nbsp;&nbsp;</span>Extraction</a></span></li><li><span><a href=\"#Cleanse\" data-toc-modified-id=\"Cleanse-3.11.2\"><span class=\"toc-item-num\">3.11.2&nbsp;&nbsp;</span>Cleanse</a></span></li><li><span><a href=\"#Normalization-(scaling)\" data-toc-modified-id=\"Normalization-(scaling)-3.11.3\"><span class=\"toc-item-num\">3.11.3&nbsp;&nbsp;</span>Normalization (scaling)</a></span></li><li><span><a href=\"#Select-only-those-rows/-columns-which-are-relevant\" data-toc-modified-id=\"Select-only-those-rows/-columns-which-are-relevant-3.11.4\"><span class=\"toc-item-num\">3.11.4&nbsp;&nbsp;</span>Select only those rows/ columns which are relevant</a></span></li></ul></li><li><span><a href=\"#S-160-SDG-Indicator-3.9.2-Mortality-rate-attributed-to-unsafe-water,-unsafe-sanitation-and-lack-of-hygiene-(deaths-per-100,000-population)---SH_STA_WASH\" data-toc-modified-id=\"S-160-SDG-Indicator-3.9.2-Mortality-rate-attributed-to-unsafe-water,-unsafe-sanitation-and-lack-of-hygiene-(deaths-per-100,000-population)---SH_STA_WASH-3.12\"><span class=\"toc-item-num\">3.12&nbsp;&nbsp;</span>S-160 SDG Indicator 3.9.2 Mortality rate attributed to unsafe water, unsafe sanitation and lack of hygiene (deaths per 100,000 population)   SH_STA_WASH</a></span><ul class=\"toc-item\"><li><span><a href=\"#Extraction\" data-toc-modified-id=\"Extraction-3.12.1\"><span class=\"toc-item-num\">3.12.1&nbsp;&nbsp;</span>Extraction</a></span></li><li><span><a href=\"#Cleanse\" data-toc-modified-id=\"Cleanse-3.12.2\"><span class=\"toc-item-num\">3.12.2&nbsp;&nbsp;</span>Cleanse</a></span></li><li><span><a href=\"#Normalization-(scaling)\" data-toc-modified-id=\"Normalization-(scaling)-3.12.3\"><span class=\"toc-item-num\">3.12.3&nbsp;&nbsp;</span>Normalization (scaling)</a></span></li><li><span><a href=\"#Select-only-those-rows/-columns-which-are-relevant\" data-toc-modified-id=\"Select-only-those-rows/-columns-which-are-relevant-3.12.4\"><span class=\"toc-item-num\">3.12.4&nbsp;&nbsp;</span>Select only those rows/ columns which are relevant</a></span></li></ul></li><li><span><a href=\"#S-183-SDG-Proportion-of-local-governments-that-adopt-and-implement-local-disaster-risk-reduction-strategies-in-line-with-national-disaster-risk-reduction-strategies-(%)-SG_DSR_SILS\" data-toc-modified-id=\"S-183-SDG-Proportion-of-local-governments-that-adopt-and-implement-local-disaster-risk-reduction-strategies-in-line-with-national-disaster-risk-reduction-strategies-(%)-SG_DSR_SILS-3.13\"><span class=\"toc-item-num\">3.13&nbsp;&nbsp;</span>S-183 SDG Proportion of local governments that adopt and implement local disaster risk reduction strategies in line with national disaster risk reduction strategies (%) SG_DSR_SILS</a></span><ul class=\"toc-item\"><li><span><a href=\"#Extraction\" data-toc-modified-id=\"Extraction-3.13.1\"><span class=\"toc-item-num\">3.13.1&nbsp;&nbsp;</span>Extraction</a></span></li><li><span><a href=\"#Cleanse\" data-toc-modified-id=\"Cleanse-3.13.2\"><span class=\"toc-item-num\">3.13.2&nbsp;&nbsp;</span>Cleanse</a></span></li><li><span><a href=\"#Normalization-(scaling)\" data-toc-modified-id=\"Normalization-(scaling)-3.13.3\"><span class=\"toc-item-num\">3.13.3&nbsp;&nbsp;</span>Normalization (scaling)</a></span></li><li><span><a href=\"#Select-only-those-rows/-columns-which-are-relevant\" data-toc-modified-id=\"Select-only-those-rows/-columns-which-are-relevant-3.13.4\"><span class=\"toc-item-num\">3.13.4&nbsp;&nbsp;</span>Select only those rows/ columns which are relevant</a></span></li></ul></li><li><span><a href=\"#S-184-Number-of-deaths-and-missing-persons-attributed-to-disasters-per-100,000-population-(number)-VC_DSR_MTMP\" data-toc-modified-id=\"S-184-Number-of-deaths-and-missing-persons-attributed-to-disasters-per-100,000-population-(number)-VC_DSR_MTMP-3.14\"><span class=\"toc-item-num\">3.14&nbsp;&nbsp;</span>S-184 Number of deaths and missing persons attributed to disasters per 100,000 population (number) VC_DSR_MTMP</a></span><ul class=\"toc-item\"><li><span><a href=\"#Extraction\" data-toc-modified-id=\"Extraction-3.14.1\"><span class=\"toc-item-num\">3.14.1&nbsp;&nbsp;</span>Extraction</a></span></li><li><span><a href=\"#Cleanse\" data-toc-modified-id=\"Cleanse-3.14.2\"><span class=\"toc-item-num\">3.14.2&nbsp;&nbsp;</span>Cleanse</a></span></li><li><span><a href=\"#Normalization-(scaling)\" data-toc-modified-id=\"Normalization-(scaling)-3.14.3\"><span class=\"toc-item-num\">3.14.3&nbsp;&nbsp;</span>Normalization (scaling)</a></span></li><li><span><a href=\"#Select-only-those-rows/-columns-which-are-relevant\" data-toc-modified-id=\"Select-only-those-rows/-columns-which-are-relevant-3.14.4\"><span class=\"toc-item-num\">3.14.4&nbsp;&nbsp;</span>Select only those rows/ columns which are relevant</a></span></li></ul></li><li><span><a href=\"#S-185-Number-of-people-whose-livelihoods-were-disrupted-or-destroyed,-attributed-to-disasters-(number)-VC_DSR_PDLN\" data-toc-modified-id=\"S-185-Number-of-people-whose-livelihoods-were-disrupted-or-destroyed,-attributed-to-disasters-(number)-VC_DSR_PDLN-3.15\"><span class=\"toc-item-num\">3.15&nbsp;&nbsp;</span>S-185 Number of people whose livelihoods were disrupted or destroyed, attributed to disasters (number) VC_DSR_PDLN</a></span><ul class=\"toc-item\"><li><span><a href=\"#Extraction\" data-toc-modified-id=\"Extraction-3.15.1\"><span class=\"toc-item-num\">3.15.1&nbsp;&nbsp;</span>Extraction</a></span></li><li><span><a href=\"#Cleanse\" data-toc-modified-id=\"Cleanse-3.15.2\"><span class=\"toc-item-num\">3.15.2&nbsp;&nbsp;</span>Cleanse</a></span></li><li><span><a href=\"#Normalization-(scaling)\" data-toc-modified-id=\"Normalization-(scaling)-3.15.3\"><span class=\"toc-item-num\">3.15.3&nbsp;&nbsp;</span>Normalization (scaling)</a></span></li><li><span><a href=\"#Select-only-those-rows/-columns-which-are-relevant\" data-toc-modified-id=\"Select-only-those-rows/-columns-which-are-relevant-3.15.4\"><span class=\"toc-item-num\">3.15.4&nbsp;&nbsp;</span>Select only those rows/ columns which are relevant</a></span></li></ul></li><li><span><a href=\"#S-186-SDG-Indicator-11.5.2-Number-of-disruptions-to-educational-services-attributed-to-disasters-(number)-VC_DSR_ESDN\" data-toc-modified-id=\"S-186-SDG-Indicator-11.5.2-Number-of-disruptions-to-educational-services-attributed-to-disasters-(number)-VC_DSR_ESDN-3.16\"><span class=\"toc-item-num\">3.16&nbsp;&nbsp;</span>S-186 SDG Indicator 11.5.2 Number of disruptions to educational services attributed to disasters (number) VC_DSR_ESDN</a></span><ul class=\"toc-item\"><li><span><a href=\"#Extraction\" data-toc-modified-id=\"Extraction-3.16.1\"><span class=\"toc-item-num\">3.16.1&nbsp;&nbsp;</span>Extraction</a></span></li><li><span><a href=\"#Cleanse\" data-toc-modified-id=\"Cleanse-3.16.2\"><span class=\"toc-item-num\">3.16.2&nbsp;&nbsp;</span>Cleanse</a></span></li><li><span><a href=\"#Normalization-(scaling)\" data-toc-modified-id=\"Normalization-(scaling)-3.16.3\"><span class=\"toc-item-num\">3.16.3&nbsp;&nbsp;</span>Normalization (scaling)</a></span></li><li><span><a href=\"#Select-only-those-rows/-columns-which-are-relevant\" data-toc-modified-id=\"Select-only-those-rows/-columns-which-are-relevant-3.16.4\"><span class=\"toc-item-num\">3.16.4&nbsp;&nbsp;</span>Select only those rows/ columns which are relevant</a></span></li></ul></li><li><span><a href=\"#S-187-Number-of-disruptions-to-health-services-attributed-to-disasters-(number)-VC_DSR_HSDN\" data-toc-modified-id=\"S-187-Number-of-disruptions-to-health-services-attributed-to-disasters-(number)-VC_DSR_HSDN-3.17\"><span class=\"toc-item-num\">3.17&nbsp;&nbsp;</span>S-187 Number of disruptions to health services attributed to disasters (number) VC_DSR_HSDN</a></span><ul class=\"toc-item\"><li><span><a href=\"#Extraction\" data-toc-modified-id=\"Extraction-3.17.1\"><span class=\"toc-item-num\">3.17.1&nbsp;&nbsp;</span>Extraction</a></span></li><li><span><a href=\"#Cleanse\" data-toc-modified-id=\"Cleanse-3.17.2\"><span class=\"toc-item-num\">3.17.2&nbsp;&nbsp;</span>Cleanse</a></span></li><li><span><a href=\"#Normalization-(scaling)\" data-toc-modified-id=\"Normalization-(scaling)-3.17.3\"><span class=\"toc-item-num\">3.17.3&nbsp;&nbsp;</span>Normalization (scaling)</a></span></li><li><span><a href=\"#Select-only-those-rows/-columns-which-are-relevant\" data-toc-modified-id=\"Select-only-those-rows/-columns-which-are-relevant-3.17.4\"><span class=\"toc-item-num\">3.17.4&nbsp;&nbsp;</span>Select only those rows/ columns which are relevant</a></span></li></ul></li><li><span><a href=\"#S-188-Number-of-disruptions-to-other-basic-services-attributed-to-disasters-(number)-VC_DSR_OBDN\" data-toc-modified-id=\"S-188-Number-of-disruptions-to-other-basic-services-attributed-to-disasters-(number)-VC_DSR_OBDN-3.18\"><span class=\"toc-item-num\">3.18&nbsp;&nbsp;</span>S-188 Number of disruptions to other basic services attributed to disasters (number) VC_DSR_OBDN</a></span><ul class=\"toc-item\"><li><span><a href=\"#Extraction\" data-toc-modified-id=\"Extraction-3.18.1\"><span class=\"toc-item-num\">3.18.1&nbsp;&nbsp;</span>Extraction</a></span></li><li><span><a href=\"#Cleanse\" data-toc-modified-id=\"Cleanse-3.18.2\"><span class=\"toc-item-num\">3.18.2&nbsp;&nbsp;</span>Cleanse</a></span></li><li><span><a href=\"#Normalization-(scaling)\" data-toc-modified-id=\"Normalization-(scaling)-3.18.3\"><span class=\"toc-item-num\">3.18.3&nbsp;&nbsp;</span>Normalization (scaling)</a></span></li><li><span><a href=\"#Select-only-those-rows/-columns-which-are-relevant\" data-toc-modified-id=\"Select-only-those-rows/-columns-which-are-relevant-3.18.4\"><span class=\"toc-item-num\">3.18.4&nbsp;&nbsp;</span>Select only those rows/ columns which are relevant</a></span></li></ul></li><li><span><a href=\"#S-198--Proportion-of-total-government-spending-on-essential-services,-education-(%)-SD_XPD_ESED\" data-toc-modified-id=\"S-198--Proportion-of-total-government-spending-on-essential-services,-education-(%)-SD_XPD_ESED-3.19\"><span class=\"toc-item-num\">3.19&nbsp;&nbsp;</span>S-198  Proportion of total government spending on essential services, education (%) SD_XPD_ESED</a></span><ul class=\"toc-item\"><li><span><a href=\"#Extraction\" data-toc-modified-id=\"Extraction-3.19.1\"><span class=\"toc-item-num\">3.19.1&nbsp;&nbsp;</span>Extraction</a></span></li><li><span><a href=\"#Cleanse\" data-toc-modified-id=\"Cleanse-3.19.2\"><span class=\"toc-item-num\">3.19.2&nbsp;&nbsp;</span>Cleanse</a></span></li><li><span><a href=\"#Normalization-(scaling)\" data-toc-modified-id=\"Normalization-(scaling)-3.19.3\"><span class=\"toc-item-num\">3.19.3&nbsp;&nbsp;</span>Normalization (scaling)</a></span></li><li><span><a href=\"#Select-only-those-rows/-columns-which-are-relevant\" data-toc-modified-id=\"Select-only-those-rows/-columns-which-are-relevant-3.19.4\"><span class=\"toc-item-num\">3.19.4&nbsp;&nbsp;</span>Select only those rows/ columns which are relevant</a></span></li></ul></li><li><span><a href=\"#S-202---[World-Bank]-Proportion-of-population-covered-by-social-insurance-programs-(%)-SI_COV_SOCINS\" data-toc-modified-id=\"S-202---[World-Bank]-Proportion-of-population-covered-by-social-insurance-programs-(%)-SI_COV_SOCINS-3.20\"><span class=\"toc-item-num\">3.20&nbsp;&nbsp;</span>S-202   [World Bank] Proportion of population covered by social insurance programs (%) SI_COV_SOCINS</a></span><ul class=\"toc-item\"><li><span><a href=\"#Extraction\" data-toc-modified-id=\"Extraction-3.20.1\"><span class=\"toc-item-num\">3.20.1&nbsp;&nbsp;</span>Extraction</a></span></li><li><span><a href=\"#Cleanse\" data-toc-modified-id=\"Cleanse-3.20.2\"><span class=\"toc-item-num\">3.20.2&nbsp;&nbsp;</span>Cleanse</a></span></li><li><span><a href=\"#Normalization-(scaling)\" data-toc-modified-id=\"Normalization-(scaling)-3.20.3\"><span class=\"toc-item-num\">3.20.3&nbsp;&nbsp;</span>Normalization (scaling)</a></span></li><li><span><a href=\"#Select-only-those-rows/-columns-which-are-relevant\" data-toc-modified-id=\"Select-only-those-rows/-columns-which-are-relevant-3.20.4\"><span class=\"toc-item-num\">3.20.4&nbsp;&nbsp;</span>Select only those rows/ columns which are relevant</a></span></li></ul></li></ul></li><li><span><a href=\"#ILO-API-Sources:-Data-extraction---cleansing---normalization\" data-toc-modified-id=\"ILO-API-Sources:-Data-extraction---cleansing---normalization-4\"><span class=\"toc-item-num\">4&nbsp;&nbsp;</span>ILO API Sources: Data extraction - cleansing - normalization</a></span><ul class=\"toc-item\"><li><span><a href=\"#S-50-Gender-wage-gap-(NEW)\" data-toc-modified-id=\"S-50-Gender-wage-gap-(NEW)-4.1\"><span class=\"toc-item-num\">4.1&nbsp;&nbsp;</span>S-50 Gender wage gap (NEW)</a></span><ul class=\"toc-item\"><li><span><a href=\"#Extraction\" data-toc-modified-id=\"Extraction-4.1.1\"><span class=\"toc-item-num\">4.1.1&nbsp;&nbsp;</span>Extraction</a></span></li><li><span><a href=\"#Cleansing\" data-toc-modified-id=\"Cleansing-4.1.2\"><span class=\"toc-item-num\">4.1.2&nbsp;&nbsp;</span>Cleansing</a></span></li><li><span><a href=\"#Normalization-(scaling)\" data-toc-modified-id=\"Normalization-(scaling)-4.1.3\"><span class=\"toc-item-num\">4.1.3&nbsp;&nbsp;</span>Normalization (scaling)</a></span></li></ul></li><li><span><a href=\"#S-51-Indicator-3.4.2-Average-working-hours\" data-toc-modified-id=\"S-51-Indicator-3.4.2-Average-working-hours-4.2\"><span class=\"toc-item-num\">4.2&nbsp;&nbsp;</span>S-51 Indicator 3.4.2 Average working hours</a></span><ul class=\"toc-item\"><li><span><a href=\"#Extraction\" data-toc-modified-id=\"Extraction-4.2.1\"><span class=\"toc-item-num\">4.2.1&nbsp;&nbsp;</span>Extraction</a></span></li><li><span><a href=\"#Cleansing\" data-toc-modified-id=\"Cleansing-4.2.2\"><span class=\"toc-item-num\">4.2.2&nbsp;&nbsp;</span>Cleansing</a></span></li><li><span><a href=\"#Normalization-(scaling)\" data-toc-modified-id=\"Normalization-(scaling)-4.2.3\"><span class=\"toc-item-num\">4.2.3&nbsp;&nbsp;</span>Normalization (scaling)</a></span></li></ul></li><li><span><a href=\"#S-53-Indicator-NEW--Women-in-management\" data-toc-modified-id=\"S-53-Indicator-NEW--Women-in-management-4.3\"><span class=\"toc-item-num\">4.3&nbsp;&nbsp;</span>S-53 Indicator NEW  Women in management</a></span><ul class=\"toc-item\"><li><span><a href=\"#Extraction\" data-toc-modified-id=\"Extraction-4.3.1\"><span class=\"toc-item-num\">4.3.1&nbsp;&nbsp;</span>Extraction</a></span></li><li><span><a href=\"#Cleansing\" data-toc-modified-id=\"Cleansing-4.3.2\"><span class=\"toc-item-num\">4.3.2&nbsp;&nbsp;</span>Cleansing</a></span></li><li><span><a href=\"#Normalization-(scaling)\" data-toc-modified-id=\"Normalization-(scaling)-4.3.3\"><span class=\"toc-item-num\">4.3.3&nbsp;&nbsp;</span>Normalization (scaling)</a></span></li></ul></li></ul></li><li><span><a href=\"#WHO-API-Sources:-Data-extraction---cleansing---normalization\" data-toc-modified-id=\"WHO-API-Sources:-Data-extraction---cleansing---normalization-5\"><span class=\"toc-item-num\">5&nbsp;&nbsp;</span>WHO API Sources: Data extraction - cleansing - normalization</a></span><ul class=\"toc-item\"><li><span><a href=\"#S-82-Extent-of-implementation-of-child-protection-services-code-&quot;VIOLENCE_EXTENTIMP_CHILDPROTECTION&quot;\" data-toc-modified-id=\"S-82-Extent-of-implementation-of-child-protection-services-code-&quot;VIOLENCE_EXTENTIMP_CHILDPROTECTION&quot;-5.1\"><span class=\"toc-item-num\">5.1&nbsp;&nbsp;</span>S-82 Extent of implementation of child protection services code \"VIOLENCE_EXTENTIMP_CHILDPROTECTION\"</a></span><ul class=\"toc-item\"><li><span><a href=\"#Extraction\" data-toc-modified-id=\"Extraction-5.1.1\"><span class=\"toc-item-num\">5.1.1&nbsp;&nbsp;</span>Extraction</a></span></li><li><span><a href=\"#Cleansing\" data-toc-modified-id=\"Cleansing-5.1.2\"><span class=\"toc-item-num\">5.1.2&nbsp;&nbsp;</span>Cleansing</a></span></li><li><span><a href=\"#Normalization\" data-toc-modified-id=\"Normalization-5.1.3\"><span class=\"toc-item-num\">5.1.3&nbsp;&nbsp;</span>Normalization</a></span></li></ul></li><li><span><a href=\"#S-83-Extent-of-implementation-of-child-protection-services-code-&quot;VIOLENCE_EXTENTIMP_CHILDPROTECTION&quot;\" data-toc-modified-id=\"S-83-Extent-of-implementation-of-child-protection-services-code-&quot;VIOLENCE_EXTENTIMP_CHILDPROTECTION&quot;-5.2\"><span class=\"toc-item-num\">5.2&nbsp;&nbsp;</span>S-83 Extent of implementation of child protection services code \"VIOLENCE_EXTENTIMP_CHILDPROTECTION\"</a></span><ul class=\"toc-item\"><li><span><a href=\"#Extraction\" data-toc-modified-id=\"Extraction-5.2.1\"><span class=\"toc-item-num\">5.2.1&nbsp;&nbsp;</span>Extraction</a></span></li><li><span><a href=\"#Cleansing\" data-toc-modified-id=\"Cleansing-5.2.2\"><span class=\"toc-item-num\">5.2.2&nbsp;&nbsp;</span>Cleansing</a></span></li><li><span><a href=\"#Normalization\" data-toc-modified-id=\"Normalization-5.2.3\"><span class=\"toc-item-num\">5.2.3&nbsp;&nbsp;</span>Normalization</a></span></li></ul></li><li><span><a href=\"#S-88-Existence-of-any-policies-on-marketing-of-foods-to-children-&quot;NCD_CCS_Mkting&quot;\" data-toc-modified-id=\"S-88-Existence-of-any-policies-on-marketing-of-foods-to-children-&quot;NCD_CCS_Mkting&quot;-5.3\"><span class=\"toc-item-num\">5.3&nbsp;&nbsp;</span>S-88 Existence of any policies on marketing of foods to children \"NCD_CCS_Mkting\"</a></span><ul class=\"toc-item\"><li><span><a href=\"#Extraction\" data-toc-modified-id=\"Extraction-5.3.1\"><span class=\"toc-item-num\">5.3.1&nbsp;&nbsp;</span>Extraction</a></span></li><li><span><a href=\"#Cleansing\" data-toc-modified-id=\"Cleansing-5.3.2\"><span class=\"toc-item-num\">5.3.2&nbsp;&nbsp;</span>Cleansing</a></span></li><li><span><a href=\"#Normalization\" data-toc-modified-id=\"Normalization-5.3.3\"><span class=\"toc-item-num\">5.3.3&nbsp;&nbsp;</span>Normalization</a></span></li></ul></li><li><span><a href=\"#S-97-Prevalence-of-current-tobacco-use-among-adolescents--&quot;WHOSIS_000013&quot;\" data-toc-modified-id=\"S-97-Prevalence-of-current-tobacco-use-among-adolescents--&quot;WHOSIS_000013&quot;-5.4\"><span class=\"toc-item-num\">5.4&nbsp;&nbsp;</span>S-97 Prevalence of current tobacco use among adolescents  \"WHOSIS_000013\"</a></span><ul class=\"toc-item\"><li><span><a href=\"#Extraction\" data-toc-modified-id=\"Extraction-5.4.1\"><span class=\"toc-item-num\">5.4.1&nbsp;&nbsp;</span>Extraction</a></span></li><li><span><a href=\"#Cleansing\" data-toc-modified-id=\"Cleansing-5.4.2\"><span class=\"toc-item-num\">5.4.2&nbsp;&nbsp;</span>Cleansing</a></span></li><li><span><a href=\"#Normalization\" data-toc-modified-id=\"Normalization-5.4.3\"><span class=\"toc-item-num\">5.4.3&nbsp;&nbsp;</span>Normalization</a></span></li></ul></li><li><span><a href=\"#S-98-Current-drinkers-(15---19-years-old)-in-%--&quot;SA_0000001759&quot;\" data-toc-modified-id=\"S-98-Current-drinkers-(15---19-years-old)-in-%--&quot;SA_0000001759&quot;-5.5\"><span class=\"toc-item-num\">5.5&nbsp;&nbsp;</span>S-98 Current drinkers (15 - 19 years old) in %  \"SA_0000001759\"</a></span><ul class=\"toc-item\"><li><span><a href=\"#Extraction\" data-toc-modified-id=\"Extraction-5.5.1\"><span class=\"toc-item-num\">5.5.1&nbsp;&nbsp;</span>Extraction</a></span></li><li><span><a href=\"#Cleansing\" data-toc-modified-id=\"Cleansing-5.5.2\"><span class=\"toc-item-num\">5.5.2&nbsp;&nbsp;</span>Cleansing</a></span></li><li><span><a href=\"#Normalization\" data-toc-modified-id=\"Normalization-5.5.3\"><span class=\"toc-item-num\">5.5.3&nbsp;&nbsp;</span>Normalization</a></span></li></ul></li><li><span><a href=\"#S-99-First-drink-before-age-14-(13-15-years)-%--&quot;SA_0000001787_ARCHIVED&quot;\" data-toc-modified-id=\"S-99-First-drink-before-age-14-(13-15-years)-%--&quot;SA_0000001787_ARCHIVED&quot;-5.6\"><span class=\"toc-item-num\">5.6&nbsp;&nbsp;</span>S-99 First drink before age 14 (13-15 years) %  \"SA_0000001787_ARCHIVED\"</a></span><ul class=\"toc-item\"><li><span><a href=\"#Extraction\" data-toc-modified-id=\"Extraction-5.6.1\"><span class=\"toc-item-num\">5.6.1&nbsp;&nbsp;</span>Extraction</a></span></li><li><span><a href=\"#Cleansing\" data-toc-modified-id=\"Cleansing-5.6.2\"><span class=\"toc-item-num\">5.6.2&nbsp;&nbsp;</span>Cleansing</a></span></li><li><span><a href=\"#Normalization\" data-toc-modified-id=\"Normalization-5.6.3\"><span class=\"toc-item-num\">5.6.3&nbsp;&nbsp;</span>Normalization</a></span></li></ul></li><li><span><a href=\"#S-100-13-15-years-old-any-alcoholic-beverage-in-the-past-30-days-(%)--&quot;SA_0000001786&quot;\" data-toc-modified-id=\"S-100-13-15-years-old-any-alcoholic-beverage-in-the-past-30-days-(%)--&quot;SA_0000001786&quot;-5.7\"><span class=\"toc-item-num\">5.7&nbsp;&nbsp;</span>S-100 13-15 years old any alcoholic beverage in the past 30 days (%)  \"SA_0000001786\"</a></span><ul class=\"toc-item\"><li><span><a href=\"#Extraction\" data-toc-modified-id=\"Extraction-5.7.1\"><span class=\"toc-item-num\">5.7.1&nbsp;&nbsp;</span>Extraction</a></span></li><li><span><a href=\"#Cleansing\" data-toc-modified-id=\"Cleansing-5.7.2\"><span class=\"toc-item-num\">5.7.2&nbsp;&nbsp;</span>Cleansing</a></span></li><li><span><a href=\"#Normalization\" data-toc-modified-id=\"Normalization-5.7.3\"><span class=\"toc-item-num\">5.7.3&nbsp;&nbsp;</span>Normalization</a></span></li></ul></li><li><span><a href=\"#S-101-Children-aged-<5-years-overweight--&quot;WHOSIS_000009&quot;\" data-toc-modified-id=\"S-101-Children-aged-<5-years-overweight--&quot;WHOSIS_000009&quot;-5.8\"><span class=\"toc-item-num\">5.8&nbsp;&nbsp;</span>S-101 Children aged &lt;5 years overweight  \"WHOSIS_000009\"</a></span><ul class=\"toc-item\"><li><span><a href=\"#Extraction\" data-toc-modified-id=\"Extraction-5.8.1\"><span class=\"toc-item-num\">5.8.1&nbsp;&nbsp;</span>Extraction</a></span></li><li><span><a href=\"#Cleansing\" data-toc-modified-id=\"Cleansing-5.8.2\"><span class=\"toc-item-num\">5.8.2&nbsp;&nbsp;</span>Cleansing</a></span></li><li><span><a href=\"#Normalization\" data-toc-modified-id=\"Normalization-5.8.3\"><span class=\"toc-item-num\">5.8.3&nbsp;&nbsp;</span>Normalization</a></span></li></ul></li><li><span><a href=\"#S-103-Prevalence-of-overweight-among-children-and-adolescents,-BMI->-+1-standard-deviations-above-the-median-(age-standardized-estimate)-(%)--&quot;NCD_BMI_PLUS1C&quot;\" data-toc-modified-id=\"S-103-Prevalence-of-overweight-among-children-and-adolescents,-BMI->-+1-standard-deviations-above-the-median-(age-standardized-estimate)-(%)--&quot;NCD_BMI_PLUS1C&quot;-5.9\"><span class=\"toc-item-num\">5.9&nbsp;&nbsp;</span>S-103 Prevalence of overweight among children and adolescents, BMI &gt; +1 standard deviations above the median (age-standardized estimate) (%)  \"NCD_BMI_PLUS1C\"</a></span><ul class=\"toc-item\"><li><span><a href=\"#Extraction\" data-toc-modified-id=\"Extraction-5.9.1\"><span class=\"toc-item-num\">5.9.1&nbsp;&nbsp;</span>Extraction</a></span></li><li><span><a href=\"#Cleansing\" data-toc-modified-id=\"Cleansing-5.9.2\"><span class=\"toc-item-num\">5.9.2&nbsp;&nbsp;</span>Cleansing</a></span></li><li><span><a href=\"#Normalization\" data-toc-modified-id=\"Normalization-5.9.3\"><span class=\"toc-item-num\">5.9.3&nbsp;&nbsp;</span>Normalization</a></span></li></ul></li><li><span><a href=\"#S-104-Exclusive-breastfeeding-under-6-months:-&quot;WHOSIS_000006&quot;\" data-toc-modified-id=\"S-104-Exclusive-breastfeeding-under-6-months:-&quot;WHOSIS_000006&quot;-5.10\"><span class=\"toc-item-num\">5.10&nbsp;&nbsp;</span>S-104 Exclusive breastfeeding under 6 months: \"WHOSIS_000006\"</a></span><ul class=\"toc-item\"><li><span><a href=\"#Extraction\" data-toc-modified-id=\"Extraction-5.10.1\"><span class=\"toc-item-num\">5.10.1&nbsp;&nbsp;</span>Extraction</a></span></li><li><span><a href=\"#Cleansing\" data-toc-modified-id=\"Cleansing-5.10.2\"><span class=\"toc-item-num\">5.10.2&nbsp;&nbsp;</span>Cleansing</a></span></li><li><span><a href=\"#Normalization\" data-toc-modified-id=\"Normalization-5.10.3\"><span class=\"toc-item-num\">5.10.3&nbsp;&nbsp;</span>Normalization</a></span></li></ul></li><li><span><a href=\"#S-112-Distribution-of-causes-of-death-among-children-aged-<5-years-(%)---Injuries-&quot;WHS2_166&quot;\" data-toc-modified-id=\"S-112-Distribution-of-causes-of-death-among-children-aged-<5-years-(%)---Injuries-&quot;WHS2_166&quot;-5.11\"><span class=\"toc-item-num\">5.11&nbsp;&nbsp;</span>S-112 Distribution of causes of death among children aged &lt;5 years (%) - Injuries \"WHS2_166\"</a></span><ul class=\"toc-item\"><li><span><a href=\"#Extraction\" data-toc-modified-id=\"Extraction-5.11.1\"><span class=\"toc-item-num\">5.11.1&nbsp;&nbsp;</span>Extraction</a></span></li><li><span><a href=\"#Cleansing\" data-toc-modified-id=\"Cleansing-5.11.2\"><span class=\"toc-item-num\">5.11.2&nbsp;&nbsp;</span>Cleansing</a></span></li><li><span><a href=\"#Normalization\" data-toc-modified-id=\"Normalization-5.11.3\"><span class=\"toc-item-num\">5.11.3&nbsp;&nbsp;</span>Normalization</a></span></li></ul></li><li><span><a href=\"#S-113-Mortality-rate-attributed-to-unintentional-poisoning-(per-100-000-population)-&quot;SDGPOISON&quot;\" data-toc-modified-id=\"S-113-Mortality-rate-attributed-to-unintentional-poisoning-(per-100-000-population)-&quot;SDGPOISON&quot;-5.12\"><span class=\"toc-item-num\">5.12&nbsp;&nbsp;</span>S-113 Mortality rate attributed to unintentional poisoning (per 100 000 population) \"SDGPOISON\"</a></span><ul class=\"toc-item\"><li><span><a href=\"#Extraction\" data-toc-modified-id=\"Extraction-5.12.1\"><span class=\"toc-item-num\">5.12.1&nbsp;&nbsp;</span>Extraction</a></span></li><li><span><a href=\"#Cleansing\" data-toc-modified-id=\"Cleansing-5.12.2\"><span class=\"toc-item-num\">5.12.2&nbsp;&nbsp;</span>Cleansing</a></span></li><li><span><a href=\"#Normalization\" data-toc-modified-id=\"Normalization-5.12.3\"><span class=\"toc-item-num\">5.12.3&nbsp;&nbsp;</span>Normalization</a></span></li></ul></li><li><span><a href=\"#S-135-Existence-of-operational-policy/strategy/action-plan-for-tobacco:-&quot;NCD_CCS_TobPlan&quot;\" data-toc-modified-id=\"S-135-Existence-of-operational-policy/strategy/action-plan-for-tobacco:-&quot;NCD_CCS_TobPlan&quot;-5.13\"><span class=\"toc-item-num\">5.13&nbsp;&nbsp;</span>S-135 Existence of operational policy/strategy/action plan for tobacco: \"NCD_CCS_TobPlan\"</a></span><ul class=\"toc-item\"><li><span><a href=\"#Extraction\" data-toc-modified-id=\"Extraction-5.13.1\"><span class=\"toc-item-num\">5.13.1&nbsp;&nbsp;</span>Extraction</a></span></li><li><span><a href=\"#Cleansing\" data-toc-modified-id=\"Cleansing-5.13.2\"><span class=\"toc-item-num\">5.13.2&nbsp;&nbsp;</span>Cleansing</a></span></li><li><span><a href=\"#Normalization\" data-toc-modified-id=\"Normalization-5.13.3\"><span class=\"toc-item-num\">5.13.3&nbsp;&nbsp;</span>Normalization</a></span></li></ul></li><li><span><a href=\"#S-136-Existence-of-operational-policy/strategy/action-plan-to-reduce-the-harmful-use-of-alcohol-&quot;NCD_CCS_AlcPlan&quot;\" data-toc-modified-id=\"S-136-Existence-of-operational-policy/strategy/action-plan-to-reduce-the-harmful-use-of-alcohol-&quot;NCD_CCS_AlcPlan&quot;-5.14\"><span class=\"toc-item-num\">5.14&nbsp;&nbsp;</span>S-136 Existence of operational policy/strategy/action plan to reduce the harmful use of alcohol \"NCD_CCS_AlcPlan\"</a></span><ul class=\"toc-item\"><li><span><a href=\"#Extraction\" data-toc-modified-id=\"Extraction-5.14.1\"><span class=\"toc-item-num\">5.14.1&nbsp;&nbsp;</span>Extraction</a></span></li><li><span><a href=\"#Cleansing\" data-toc-modified-id=\"Cleansing-5.14.2\"><span class=\"toc-item-num\">5.14.2&nbsp;&nbsp;</span>Cleansing</a></span></li><li><span><a href=\"#Normalization\" data-toc-modified-id=\"Normalization-5.14.3\"><span class=\"toc-item-num\">5.14.3&nbsp;&nbsp;</span>Normalization</a></span></li></ul></li><li><span><a href=\"#S-137-Existence-of-operational-policy/strategy/action-plan-to-reduce-unhealthy-diet-related-to-NCDs-&quot;NCD_CCS_DietPlan&quot;\" data-toc-modified-id=\"S-137-Existence-of-operational-policy/strategy/action-plan-to-reduce-unhealthy-diet-related-to-NCDs-&quot;NCD_CCS_DietPlan&quot;-5.15\"><span class=\"toc-item-num\">5.15&nbsp;&nbsp;</span>S-137 Existence of operational policy/strategy/action plan to reduce unhealthy diet related to NCDs \"NCD_CCS_DietPlan\"</a></span><ul class=\"toc-item\"><li><span><a href=\"#Extraction\" data-toc-modified-id=\"Extraction-5.15.1\"><span class=\"toc-item-num\">5.15.1&nbsp;&nbsp;</span>Extraction</a></span></li><li><span><a href=\"#Cleansing\" data-toc-modified-id=\"Cleansing-5.15.2\"><span class=\"toc-item-num\">5.15.2&nbsp;&nbsp;</span>Cleansing</a></span></li><li><span><a href=\"#Normalization\" data-toc-modified-id=\"Normalization-5.15.3\"><span class=\"toc-item-num\">5.15.3&nbsp;&nbsp;</span>Normalization</a></span></li></ul></li><li><span><a href=\"#S-157-Ambient-air-pollution-attributable-DALYs-per-100'000-children-under-5-years-&quot;AIR_10&quot;\" data-toc-modified-id=\"S-157-Ambient-air-pollution-attributable-DALYs-per-100'000-children-under-5-years-&quot;AIR_10&quot;-5.16\"><span class=\"toc-item-num\">5.16&nbsp;&nbsp;</span>S-157 Ambient air pollution attributable DALYs per 100'000 children under 5 years \"AIR_10\"</a></span><ul class=\"toc-item\"><li><span><a href=\"#Extraction\" data-toc-modified-id=\"Extraction-5.16.1\"><span class=\"toc-item-num\">5.16.1&nbsp;&nbsp;</span>Extraction</a></span></li><li><span><a href=\"#Cleansing\" data-toc-modified-id=\"Cleansing-5.16.2\"><span class=\"toc-item-num\">5.16.2&nbsp;&nbsp;</span>Cleansing</a></span></li><li><span><a href=\"#Normalization\" data-toc-modified-id=\"Normalization-5.16.3\"><span class=\"toc-item-num\">5.16.3&nbsp;&nbsp;</span>Normalization</a></span></li></ul></li><li><span><a href=\"#S-158-Concentrations-of-fine-particulate-matter-(PM2.5)-&quot;SDGPM25&quot;\" data-toc-modified-id=\"S-158-Concentrations-of-fine-particulate-matter-(PM2.5)-&quot;SDGPM25&quot;-5.17\"><span class=\"toc-item-num\">5.17&nbsp;&nbsp;</span>S-158 Concentrations of fine particulate matter (PM2.5) \"SDGPM25\"</a></span><ul class=\"toc-item\"><li><span><a href=\"#Extraction\" data-toc-modified-id=\"Extraction-5.17.1\"><span class=\"toc-item-num\">5.17.1&nbsp;&nbsp;</span>Extraction</a></span></li><li><span><a href=\"#Cleansing\" data-toc-modified-id=\"Cleansing-5.17.2\"><span class=\"toc-item-num\">5.17.2&nbsp;&nbsp;</span>Cleansing</a></span></li><li><span><a href=\"#Normalization\" data-toc-modified-id=\"Normalization-5.17.3\"><span class=\"toc-item-num\">5.17.3&nbsp;&nbsp;</span>Normalization</a></span></li></ul></li><li><span><a href=\"#S-199-Current-health-expenditure-(CHE)-per-capita-in-PPP-int-US-Dollar-&quot;GHED_CHE_pc_PPP_SHA2011&quot;\" data-toc-modified-id=\"S-199-Current-health-expenditure-(CHE)-per-capita-in-PPP-int-US-Dollar-&quot;GHED_CHE_pc_PPP_SHA2011&quot;-5.18\"><span class=\"toc-item-num\">5.18&nbsp;&nbsp;</span>S-199 Current health expenditure (CHE) per capita in PPP int US Dollar \"GHED_CHE_pc_PPP_SHA2011\"</a></span><ul class=\"toc-item\"><li><span><a href=\"#Extraction\" data-toc-modified-id=\"Extraction-5.18.1\"><span class=\"toc-item-num\">5.18.1&nbsp;&nbsp;</span>Extraction</a></span></li><li><span><a href=\"#Cleansing\" data-toc-modified-id=\"Cleansing-5.18.2\"><span class=\"toc-item-num\">5.18.2&nbsp;&nbsp;</span>Cleansing</a></span></li><li><span><a href=\"#Normalization\" data-toc-modified-id=\"Normalization-5.18.3\"><span class=\"toc-item-num\">5.18.3&nbsp;&nbsp;</span>Normalization</a></span></li></ul></li><li><span><a href=\"#S-200-Extent-of-implementation-of-child-protection-services-&quot;VIOLENCE_EXTENTIMP_CHILDPROTECTION&quot;\" data-toc-modified-id=\"S-200-Extent-of-implementation-of-child-protection-services-&quot;VIOLENCE_EXTENTIMP_CHILDPROTECTION&quot;-5.19\"><span class=\"toc-item-num\">5.19&nbsp;&nbsp;</span>S-200 Extent of implementation of child protection services \"VIOLENCE_EXTENTIMP_CHILDPROTECTION\"</a></span><ul class=\"toc-item\"><li><span><a href=\"#Extraction\" data-toc-modified-id=\"Extraction-5.19.1\"><span class=\"toc-item-num\">5.19.1&nbsp;&nbsp;</span>Extraction</a></span></li><li><span><a href=\"#Cleansing\" data-toc-modified-id=\"Cleansing-5.19.2\"><span class=\"toc-item-num\">5.19.2&nbsp;&nbsp;</span>Cleansing</a></span></li><li><span><a href=\"#Normalization\" data-toc-modified-id=\"Normalization-5.19.3\"><span class=\"toc-item-num\">5.19.3&nbsp;&nbsp;</span>Normalization</a></span></li></ul></li><li><span><a href=\"#S-201-Youth-violence:-Extent-of-implementation-of-life-skills-and-social-development-programmes&quot;VIOLENCE_EXTENTIMP_YOUTHLIFESKILLS&quot;\" data-toc-modified-id=\"S-201-Youth-violence:-Extent-of-implementation-of-life-skills-and-social-development-programmes&quot;VIOLENCE_EXTENTIMP_YOUTHLIFESKILLS&quot;-5.20\"><span class=\"toc-item-num\">5.20&nbsp;&nbsp;</span>S-201 Youth violence: Extent of implementation of life-skills and social development programmes\"VIOLENCE_EXTENTIMP_YOUTHLIFESKILLS\"</a></span><ul class=\"toc-item\"><li><span><a href=\"#Extraction\" data-toc-modified-id=\"Extraction-5.20.1\"><span class=\"toc-item-num\">5.20.1&nbsp;&nbsp;</span>Extraction</a></span></li><li><span><a href=\"#Cleansing\" data-toc-modified-id=\"Cleansing-5.20.2\"><span class=\"toc-item-num\">5.20.2&nbsp;&nbsp;</span>Cleansing</a></span></li><li><span><a href=\"#Normalization\" data-toc-modified-id=\"Normalization-5.20.3\"><span class=\"toc-item-num\">5.20.3&nbsp;&nbsp;</span>Normalization</a></span></li></ul></li></ul></li><li><span><a href=\"#Misc-sources:-Data-cleansing---normalization\" data-toc-modified-id=\"Misc-sources:-Data-cleansing---normalization-6\"><span class=\"toc-item-num\">6&nbsp;&nbsp;</span>Misc sources: Data cleansing - normalization</a></span><ul class=\"toc-item\"><li><span><a href=\"#S-11-Economist-Intelligence-Unit,-Out-of-the-Shadows-Index.-Legal-Framework-score-only\" data-toc-modified-id=\"S-11-Economist-Intelligence-Unit,-Out-of-the-Shadows-Index.-Legal-Framework-score-only-6.1\"><span class=\"toc-item-num\">6.1&nbsp;&nbsp;</span>S-11 Economist Intelligence Unit, Out of the Shadows Index. Legal Framework score only</a></span></li><li><span><a href=\"#S-60-(prev-S-18)-Walk-Free-Foundation.Global-Slavery-Index.-Prevalence-of-Modern-Slavery.-Prevalence-score-only.\" data-toc-modified-id=\"S-60-(prev-S-18)-Walk-Free-Foundation.Global-Slavery-Index.-Prevalence-of-Modern-Slavery.-Prevalence-score-only.-6.2\"><span class=\"toc-item-num\">6.2&nbsp;&nbsp;</span>S-60 (prev S-18) Walk Free Foundation.Global Slavery Index. Prevalence of Modern Slavery. Prevalence score only.</a></span><ul class=\"toc-item\"><li><span><a href=\"#Extraction\" data-toc-modified-id=\"Extraction-6.2.1\"><span class=\"toc-item-num\">6.2.1&nbsp;&nbsp;</span>Extraction</a></span></li><li><span><a href=\"#Transform\" data-toc-modified-id=\"Transform-6.2.2\"><span class=\"toc-item-num\">6.2.2&nbsp;&nbsp;</span>Transform</a></span></li><li><span><a href=\"#Normalization-(scaling)\" data-toc-modified-id=\"Normalization-(scaling)-6.2.3\"><span class=\"toc-item-num\">6.2.3&nbsp;&nbsp;</span>Normalization (scaling)</a></span></li><li><span><a href=\"#Left-join-to-counry-list-to-bring-it-into-target-format\" data-toc-modified-id=\"Left-join-to-counry-list-to-bring-it-into-target-format-6.2.4\"><span class=\"toc-item-num\">6.2.4&nbsp;&nbsp;</span>Left join to counry list to bring it into target format</a></span></li></ul></li></ul></li></ul></div>"
   ]
  },
  {
   "cell_type": "markdown",
   "metadata": {},
   "source": [
    "# Preliminaries & Inro\n",
    "\n",
    "* This is the main file, which must be executed to extract data from all soures for which the process has been automated\n",
    "* For a list of all soures along with the information whether its a manual or atutomated extraction please consult the follownig file: \n"
   ]
  },
  {
   "cell_type": "markdown",
   "metadata": {},
   "source": [
    "## Backlog of tasks\n",
    "\n",
    " - [X] Write the functions to extract data from UNESCO API into one function which takes the indicator code as argument (rather than having two functions with the same functionatlity for two indicators | and check if that ingo is not also in the SDG API anyways\n",
    " - [X] Finalize understanding the maplecroft logic for a quantaitive indicator and then for: qualitative indicator and also understand all the exceptions (.e.g inverted indicator etc.) --> Draw a decision tree of all if-then statements and check if this logic is desired by Alex and Tomas\n",
    " - [X] Implement this logic in the python function started below\n",
    " - [X] Check with Alex/ Tomas what the final result should look like (raw data + scaled data + aggregated data = final index score for each indicator + aggregrated index scores\n",
    " - [X] Check with Daniele in what format these things should be in SDMX (should they include dimensions like sex, age, ... SHould they include units etc.?\n",
    " - [ ] Start implementing INdicator by indicator (rather than extracting data from all sources first before transforming anything)\n",
    " - [ ] For log file: \n",
    "    * Summary statistics of indicator\n",
    "    * Coverage (how many NA values) for indicator\n",
    "    * Data on average from which year \n",
    "\n",
    "    \n",
    "    test\n"
   ]
  },
  {
   "cell_type": "markdown",
   "metadata": {},
   "source": [
    "## Import packages"
   ]
  },
  {
   "cell_type": "code",
   "execution_count": 1,
   "metadata": {},
   "outputs": [],
   "source": [
    "# Required standard libraries\n",
    "import pandas as pd\n",
    "import json\n",
    "import urllib\n",
    "import requests\n",
    "import os\n",
    "import re\n",
    "import numpy as np\n",
    "\n",
    "# Extractors\n",
    "from extract.unesco_extractor import extract_unesco_api_data\n",
    "from extract.ilo_extractor import extract_ilo_api_data\n",
    "from extract.sdg_extractor import extract_sdg_api_data\n",
    "from extract.who_extractor import extract_who_api_data\n",
    "from extract import save_raw_data\n",
    "\n",
    "# Cleansers\n",
    "from cleanse.unesco_cleanser import cleanse_unesco_api_data\n",
    "from cleanse.ilo_cleanser import cleanse_ilo_api_data\n",
    "from cleanse.sdg_cleanser import cleanse_sdg_api_data\n",
    "from cleanse.who_cleanser import cleanse_who_api_num_data\n",
    "from cleanse.save_cleansed_data import save_cleansed_data\n",
    "\n",
    "# Normalizer\n",
    "from normalize import scaler\n",
    "from normalize import save_normalized_data"
   ]
  },
  {
   "cell_type": "markdown",
   "metadata": {},
   "source": [
    "## Import country list"
   ]
  },
  {
   "cell_type": "code",
   "execution_count": 4,
   "metadata": {},
   "outputs": [],
   "source": [
    "# Define the export path for all data exports\n",
    "cwd = os.getcwd()\n",
    "\n",
    "data_sources_raw = cwd + \"\\data\\data_raw\""
   ]
  },
  {
   "cell_type": "code",
   "execution_count": 5,
   "metadata": {},
   "outputs": [],
   "source": [
    "# Load the list of countries which contains all different variations of country names \n",
    "country_full_list = pd.read_excel(cwd + '\\\\all_countrynames_list.xlsx',\n",
    "                                 keep_default_na = False).drop_duplicates()\n",
    "\n",
    "# Create a version of the list with unique ISO2 and ISO3 codes\n",
    "country_iso_list = country_full_list.drop_duplicates(subset = 'CountryIso2')\n",
    "\n",
    "# Country CRBA list, this is the list of the countries that should be in the final CRBA indicator list\n",
    "country_crba_list = pd.read_excel(cwd + '\\\\crba_country_list.xlsx',\n",
    "                                 header = None,\n",
    "                                 usecols = [0, 1], \n",
    "                                 names = ['COUNTRY_ISO_3', 'COUNTRY_NAME']).merge(\n",
    "                                        right = country_iso_list,\n",
    "                                        how = 'left',\n",
    "                                        left_on = 'COUNTRY_ISO_3',\n",
    "                                        right_on = 'CountryIso3',\n",
    "                                        validate = 'one_to_one')[\n",
    "            ['COUNTRY_ISO_3', 'COUNTRY_NAME', 'CountryIso2']].rename(columns = {'CountryIso2': \"COUNTRY_ISO_2\"})"
   ]
  },
  {
   "cell_type": "markdown",
   "metadata": {},
   "source": [
    "# UNESCO Sources: Data extraction - cleansing - normalization"
   ]
  },
  {
   "cell_type": "markdown",
   "metadata": {},
   "source": [
    "## S-55 (prev S-15) Percentage of out-of-school adolescents of lower secondary school age. \n",
    "\n",
    "The data of this source is retrieved from the UNSECO API, for which you must have an API key to acces it. For that, you must sign up. See docstrings of extractor function for more info."
   ]
  },
  {
   "cell_type": "markdown",
   "metadata": {},
   "source": [
    "### Extraction"
   ]
  },
  {
   "cell_type": "code",
   "execution_count": null,
   "metadata": {},
   "outputs": [],
   "source": [
    "# Extract data\n",
    "s55_raw = extract_unesco_api_data(\n",
    "    api_call_url = 'https://api.uis.unesco.org/sdmx/data/UNESCO,SDG4,2.0/ROFST.PT.L2+L2_3+L3._T._T+F+M.SCH_AGE_GROUP._T.INST_T._Z._T._Z._Z._Z._T._T._Z._Z._Z.?startPeriod=2005&endPeriod=2018&format=csv-sdmx&locale=en&subscription-key=460ab272abdd43c892bb59c218c22c09'\n",
    ")\n",
    "\n",
    "# Save raw data\n",
    "save_raw_data.save_raw_data(dataframe = s55_raw,\n",
    "             filename = 'S_55_raw.xlsx')"
   ]
  },
  {
   "cell_type": "markdown",
   "metadata": {},
   "source": [
    "### Cleansing"
   ]
  },
  {
   "cell_type": "code",
   "execution_count": null,
   "metadata": {},
   "outputs": [],
   "source": [
    "# Obtain latest available observation and discard countries that are not in the final CRBA country list \n",
    "s55_cleansed = cleanse_unesco_api_data(raw_data = s55_raw,\n",
    "                                   raw_data_iso_2_col = 'REF_AREA',\n",
    "                                   country_df = country_crba_list,\n",
    "                                   country_df_iso2_col = 'COUNTRY_ISO_2',\n",
    "                                   non_dim_cols = ['OBS_VALUE', 'TIME_PERIOD', 'OBS_STATUS']\n",
    "                                   ) # the variable OBS_STATUS varies, but is an attribute, not a dimension. It specifies how an OBS_VALUE was created (A = standard way, E = estimate)\n",
    "\n",
    "# save cleansed data\n",
    "save_cleansed_data(dataframe = s55_cleansed,\n",
    "             filename = 'S_55_cleansed.xlsx')"
   ]
  },
  {
   "cell_type": "markdown",
   "metadata": {},
   "source": [
    "### Normalization (scaling)"
   ]
  },
  {
   "cell_type": "code",
   "execution_count": null,
   "metadata": {
    "scrolled": true
   },
   "outputs": [],
   "source": [
    "# Scale the raw data and bring the dataframe into long formmat\n",
    "s55_normalized = scaler.normalizer(cleansed_data = s55_cleansed,\n",
    "                        indicator_raw_value = 'OBS_VALUE',\n",
    "                        indicator_code = '3.1.3',\n",
    "                        indicator_name = 'Out-of-school adolescents (lower secondary)',\n",
    "                        cleansed_df_iso2_col = 'REF_AREA',\n",
    "                        crba_final_country_list = country_crba_list,\n",
    "                        crba_final_country_list_iso_col = 'COUNTRY_ISO_2',\n",
    "                        inverted = True,\n",
    "                        non_dim_cols = ['TIME_PERIOD', \n",
    "                                        'REF_AREA', \n",
    "                                        'OBS_VALUE', \n",
    "                                        'OBS_STATUS', \n",
    "                                        'COUNTRY_ISO_3', \n",
    "                                        'COUNTRY_NAME', \n",
    "                                        'COUNTRY_ISO_2', \n",
    "                                        '_merge']\n",
    "                       )\n",
    "\n",
    "# save normalized data\n",
    "save_normalized_data.save_normalized_data(dataframe = s55_normalized,\n",
    "             filename = 'S_55_normalized.xlsx')"
   ]
  },
  {
   "cell_type": "markdown",
   "metadata": {},
   "source": [
    "### Select only those rows/ columns which are relevant \n",
    "\n",
    "* < to do >\n",
    "* Right now, the normalized dataset contains data on ALL subsets (which are defined by the dimension values). Ultimately, there has to be a commitment to one Subset of an indicator \n",
    "* But this filtering to exactly one dimension (i.e. one row per country) will be done later"
   ]
  },
  {
   "cell_type": "markdown",
   "metadata": {},
   "source": [
    "## S-56 (prev S-16) Percentage of out-of-school youth of upper secondary school age\n",
    "\n",
    "The data of this source is retrieved from the UNSECO API, for which you must have an API key to acces it. For that, you must sign up. See docstrings of extractor function for more info.\n",
    "\n",
    "Note that this indicator retrieves the same source data as S-55\n"
   ]
  },
  {
   "cell_type": "markdown",
   "metadata": {},
   "source": [
    "### Extraction"
   ]
  },
  {
   "cell_type": "code",
   "execution_count": null,
   "metadata": {},
   "outputs": [],
   "source": [
    "# Extract data\n",
    "s56_raw = extract_unesco_api_data(\n",
    "    api_call_url = 'https://api.uis.unesco.org/sdmx/data/UNESCO,SDG4,2.0/ROFST.PT.L2+L2_3+L3._T._T+F+M.SCH_AGE_GROUP._T.INST_T._Z._T._Z._Z._Z._T._T._Z._Z._Z.?startPeriod=2005&endPeriod=2018&format=csv-sdmx&locale=en&subscription-key=460ab272abdd43c892bb59c218c22c09'\n",
    ")\n",
    "\n",
    "# Save raw data\n",
    "save_raw_data.save_raw_data(dataframe = s56_raw,\n",
    "             filename = 'S_56_raw.xlsx')"
   ]
  },
  {
   "cell_type": "markdown",
   "metadata": {},
   "source": [
    "### Cleansing"
   ]
  },
  {
   "cell_type": "code",
   "execution_count": null,
   "metadata": {},
   "outputs": [],
   "source": [
    "# Obtain latest available observation and discard countries that are not in the final CRBA country list \n",
    "s56_cleansed = cleanse_unesco_api_data(raw_data = s56_raw,\n",
    "                                   raw_data_iso_2_col = 'REF_AREA',\n",
    "                                   country_df = country_crba_list,\n",
    "                                   country_df_iso2_col = 'COUNTRY_ISO_2',\n",
    "                                   non_dim_cols = ['OBS_VALUE', \n",
    "                                                   'TIME_PERIOD', \n",
    "                                                   'OBS_STATUS']\n",
    "                                   ) # the variable OBS_STATUS varies, but is an attribute, not a dimension. It specifies how an OBS_VALUE was created (A = standard way, E = estimate)\n",
    "\n",
    "# save cleansed data\n",
    "save_cleansed_data(dataframe = s56_cleansed,\n",
    "             filename = 'S_56_cleansed.xlsx')"
   ]
  },
  {
   "cell_type": "markdown",
   "metadata": {},
   "source": [
    "### Normalization (scaling)"
   ]
  },
  {
   "cell_type": "code",
   "execution_count": null,
   "metadata": {
    "scrolled": true
   },
   "outputs": [],
   "source": [
    "# Scale the raw data and bring the dataframe into long formmat\n",
    "s56_normalized = scaler.normalizer(cleansed_data = s56_cleansed,\n",
    "                        indicator_raw_value = 'OBS_VALUE',\n",
    "                        indicator_code = '3.1.4',\n",
    "                        indicator_name = 'Out-of-school adolescents (upper secondary)',\n",
    "                        cleansed_df_iso2_col = 'REF_AREA',\n",
    "                        crba_final_country_list = country_crba_list,\n",
    "                        crba_final_country_list_iso_col = 'COUNTRY_ISO_2',\n",
    "                        inverted = True,\n",
    "                        non_dim_cols = ['TIME_PERIOD',\n",
    "                                        'REF_AREA',\n",
    "                                        'OBS_VALUE',\n",
    "                                        'OBS_STATUS',\n",
    "                                        'COUNTRY_ISO_3',\n",
    "                                        'COUNTRY_NAME',\n",
    "                                        'COUNTRY_ISO_2',\n",
    "                                        '_merge']\n",
    "                       )\n",
    "\n",
    "# save normalized data\n",
    "save_normalized_data.save_normalized_data(dataframe = s56_normalized,\n",
    "             filename = 'S_56_normalized.xlsx')"
   ]
  },
  {
   "cell_type": "markdown",
   "metadata": {},
   "source": [
    "### Select only those rows/ columns which are relevant \n",
    "\n",
    "* < to do >\n",
    "* Right now, the normalized dataset contains data on ALL subsets (which are defined by the dimension values). Ultimately, there has to be a commitment to one Subset of an indicator \n",
    "* But this filtering to exactly one dimension (i.e. one row per country) will be done later"
   ]
  },
  {
   "cell_type": "markdown",
   "metadata": {},
   "source": [
    "## S-52 Gross early childhood education enrolment ratio in (a) pre-primary education and (b) early childhood educational development (SDG Indicator 4.2.4) \n",
    "\n",
    "The data of this source is retrieved from the UNSECO API, for which you must have an API key to acces it. For that, you must sign up. \n"
   ]
  },
  {
   "cell_type": "markdown",
   "metadata": {},
   "source": [
    "### Extraction"
   ]
  },
  {
   "cell_type": "code",
   "execution_count": null,
   "metadata": {},
   "outputs": [],
   "source": [
    "# Extract data\n",
    "s52_raw = extract_unesco_api_data(\n",
    "    api_call_url = 'https://api.uis.unesco.org/sdmx/data/UNESCO,EDU_NON_FINANCE,3.0/GECER.PT.L01+L02._T._T+F+M._T._T.INST_T._Z._Z._T._T._T._Z._Z._Z._Z._Z.W00.W00._Z.?startPeriod=2010&endPeriod=2020&format=csv-sdmx&locale=en&subscription-key=460ab272abdd43c892bb59c218c22c09'\n",
    ")\n",
    "\n",
    "# Save raw data\n",
    "save_raw_data.save_raw_data(dataframe = s52_raw,\n",
    "             filename = 'S_52_raw.xlsx')"
   ]
  },
  {
   "cell_type": "markdown",
   "metadata": {},
   "source": [
    "### Cleansing"
   ]
  },
  {
   "cell_type": "code",
   "execution_count": null,
   "metadata": {},
   "outputs": [],
   "source": [
    "# Obtain latest available observation and discard countries that are not in the final CRBA country list \n",
    "s52_cleansed = cleanse_unesco_api_data(raw_data = s52_raw,\n",
    "                                   raw_data_iso_2_col = 'REF_AREA',\n",
    "                                   country_df = country_crba_list,\n",
    "                                   country_df_iso2_col = 'COUNTRY_ISO_2',\n",
    "                                   non_dim_cols = ['OBS_VALUE', \n",
    "                                                   'TIME_PERIOD', \n",
    "                                                   'OBS_STATUS']\n",
    "                                   ) # the variable OBS_STATUS varies, but is an attribute, not a dimension. It specifies how an OBS_VALUE was created (A = standard way, E = estimate)\n",
    "\n",
    "# save cleansed data\n",
    "save_cleansed_data(dataframe = s52_cleansed,\n",
    "             filename = 'S_52_cleansed.xlsx')"
   ]
  },
  {
   "cell_type": "markdown",
   "metadata": {},
   "source": [
    "### Normalization (scaling)"
   ]
  },
  {
   "cell_type": "code",
   "execution_count": null,
   "metadata": {
    "scrolled": true
   },
   "outputs": [],
   "source": [
    "# Scale the raw data and bring the dataframe into long formmat\n",
    "s52_normalized = scaler.normalizer(cleansed_data = s52_cleansed,\n",
    "                        indicator_raw_value = 'OBS_VALUE',\n",
    "                        indicator_code = '3.4.4',\n",
    "                        indicator_name = 'Access to pre-primary education.',\n",
    "                        cleansed_df_iso2_col = 'REF_AREA',\n",
    "                        crba_final_country_list = country_crba_list,\n",
    "                        crba_final_country_list_iso_col = 'COUNTRY_ISO_2',\n",
    "                        inverted = False,\n",
    "                        non_dim_cols = ['TIME_PERIOD',\n",
    "                                        'REF_AREA',\n",
    "                                        'OBS_VALUE',\n",
    "                                        'OBS_STATUS',\n",
    "                                        'COUNTRY_ISO_3',\n",
    "                                        'COUNTRY_NAME',\n",
    "                                        'COUNTRY_ISO_2',\n",
    "                                        '_merge']\n",
    "                       )\n",
    "\n",
    "# save normalized data\n",
    "save_normalized_data.save_normalized_data(dataframe = s52_normalized,\n",
    "             filename = 'S_52_normalized.xlsx')"
   ]
  },
  {
   "cell_type": "markdown",
   "metadata": {},
   "source": [
    "### Select only those rows/ columns which are relevant \n",
    "\n",
    "* < to do >\n",
    "* Right now, the normalized dataset contains data on ALL subsets (which are defined by the dimension values). Ultimately, there has to be a commitment to one Subset of an indicator \n",
    "* But this filtering to exactly one dimension (i.e. one row per country) will be done later"
   ]
  },
  {
   "cell_type": "markdown",
   "metadata": {},
   "source": [
    "# SDG API Sources: Data extraction - cleansing - normalization "
   ]
  },
  {
   "cell_type": "markdown",
   "metadata": {},
   "source": [
    "## S-24 (prev. S-14) SDG Indicator 8.7.1 Proportion of children aged 5-17 years engaged in child labour SL_TLF_CHLDEA"
   ]
  },
  {
   "cell_type": "markdown",
   "metadata": {},
   "source": [
    "### Extraction"
   ]
  },
  {
   "cell_type": "code",
   "execution_count": null,
   "metadata": {
    "scrolled": true
   },
   "outputs": [],
   "source": [
    "# Extract data and directly flatten it out into a pandas dataframe\n",
    "s24_raw = extract_sdg_api_data(series_code = 'SL_TLF_CHLDEA')\n",
    "\n",
    "# Save data to raw data folder\n",
    "save_raw_data.save_raw_data(dataframe = s24_raw,\n",
    "             filename = 'S_24.xlsx')"
   ]
  },
  {
   "cell_type": "markdown",
   "metadata": {},
   "source": [
    "### Cleansing"
   ]
  },
  {
   "cell_type": "code",
   "execution_count": null,
   "metadata": {},
   "outputs": [],
   "source": [
    "s24_cleansed = cleanse_sdg_api_data(raw_data = s24_raw,\n",
    "                                   country_list_full = country_full_list,\n",
    "                                   country_list_full_name_col = 'CountryDesc',\n",
    "                                   country_list_full_iso2_col = 'CountryIso2',\n",
    "                                   country_df = country_crba_list,\n",
    "                                   country_df_iso2_col = 'COUNTRY_ISO_2',\n",
    "                                   non_dim_cols = ['value',\n",
    "                                                  'source',\n",
    "                                                   'timePeriodStart'\n",
    "                                                  'footnotes',\n",
    "                                                  'Unnamed: 0'] \n",
    "                                   )\n",
    "\n",
    "# save cleansed data\n",
    "save_cleansed_data(dataframe = s24_cleansed,\n",
    "             filename = 'S_24_cleansed.xlsx')"
   ]
  },
  {
   "cell_type": "markdown",
   "metadata": {},
   "source": [
    "### Normalization (scaling)"
   ]
  },
  {
   "cell_type": "code",
   "execution_count": null,
   "metadata": {
    "scrolled": true
   },
   "outputs": [],
   "source": [
    "# Scale the raw data and bring the dataframe into long formmat\n",
    "s24_normalized = scaler.normalizer(cleansed_data = s24_cleansed,\n",
    "                        indicator_raw_value = 'value',\n",
    "                        indicator_code = '3.1.1.',\n",
    "                        indicator_name = 'Child labour rate (5-17)',\n",
    "                        cleansed_df_iso2_col = 'CountryIso2',\n",
    "                        crba_final_country_list = country_crba_list,\n",
    "                        crba_final_country_list_iso_col = 'COUNTRY_ISO_2',\n",
    "                        inverted = True,\n",
    "                        non_dim_cols = ['geoAreaCode',\n",
    "                                        'geoAreaName',\n",
    "                                        'timePeriodStart',\n",
    "                                        'value',\n",
    "                                        'footnotes', \n",
    "                                        'Unnamed: 0', \n",
    "                                        'CountryDesc',\n",
    "                                        'CountryIso2',\n",
    "                                        'CountryIso3',\n",
    "                                        'COUNTRY_ISO_2',\n",
    "                                        'COUNTRY_ISO_3',\n",
    "                                        'COUNTRY_NAME',\n",
    "                                        '_merge']\n",
    "                       )\n",
    "\n",
    "# save normalized data\n",
    "save_normalized_data.save_normalized_data(dataframe = s24_normalized,\n",
    "             filename = 'S_24_normalized.xlsx')"
   ]
  },
  {
   "cell_type": "markdown",
   "metadata": {},
   "source": [
    "### Select only those rows/ columns which are relevant \n",
    "\n",
    "* < to do >\n",
    "* Right now, the normalized dataset contains data on ALL subsets (which are defined by the dimension values). Ultimately, there has to be a commitment to one Subset of an indicator \n",
    "* But this filtering to exactly one dimension (i.e. one row per country) will be done later"
   ]
  },
  {
   "cell_type": "markdown",
   "metadata": {},
   "source": [
    "## S-23 (prev. S-17) ILO STAT Informal Employment (% of total non-agricultural employment) SL_ISV_IFEM "
   ]
  },
  {
   "cell_type": "markdown",
   "metadata": {},
   "source": [
    "### Extraction\n",
    "\n",
    "This data can be extracted from two different sources: \n",
    "    \n",
    "* ILO\n",
    "* SDG database\n",
    "\n",
    "After consultation with Alex and Tomás we have decided to extract the data from the SDG API"
   ]
  },
  {
   "cell_type": "code",
   "execution_count": null,
   "metadata": {
    "scrolled": true
   },
   "outputs": [],
   "source": [
    "# Extract data and directly flatten it out into a pandas dataframe\n",
    "s23_raw = extract_sdg_api_data(series_code = 'SL_ISV_IFEM')\n",
    "\n",
    "# Save data to raw data folder\n",
    "save_raw_data.save_raw_data(dataframe = s23_raw,\n",
    "             filename = 'S_23.xlsx')"
   ]
  },
  {
   "cell_type": "markdown",
   "metadata": {},
   "source": [
    "### Cleansing"
   ]
  },
  {
   "cell_type": "code",
   "execution_count": null,
   "metadata": {
    "scrolled": true
   },
   "outputs": [],
   "source": [
    "s23_cleansed = cleanse_sdg_api_data(raw_data = s23_raw,\n",
    "                                   country_list_full = country_full_list,\n",
    "                                   country_list_full_name_col = 'CountryDesc',\n",
    "                                   country_list_full_iso2_col = 'CountryIso2',\n",
    "                                   country_df = country_crba_list,\n",
    "                                   country_df_iso2_col = 'COUNTRY_ISO_2',\n",
    "                                   non_dim_cols = ['value',\n",
    "                                                  'source',\n",
    "                                                  'footnotes',\n",
    "                                                   'timePeriodStart',\n",
    "                                                  'Unnamed: 0'] \n",
    "                                   )\n",
    "\n",
    "# save cleansed data\n",
    "save_cleansed_data(dataframe = s23_cleansed,\n",
    "             filename = 'S_23_cleansed.xlsx')"
   ]
  },
  {
   "cell_type": "markdown",
   "metadata": {},
   "source": [
    "### Normalization (scaling)"
   ]
  },
  {
   "cell_type": "code",
   "execution_count": null,
   "metadata": {},
   "outputs": [],
   "source": [
    "# Scale the raw data and bring the dataframe into long formmat\n",
    "s23_normalized = scaler.normalizer(cleansed_data = s23_cleansed,\n",
    "                        indicator_raw_value = 'value',\n",
    "                        indicator_code = '3.1.5',\n",
    "                        indicator_name = 'Informal employment.',\n",
    "                        cleansed_df_iso2_col = 'CountryIso2',\n",
    "                        crba_final_country_list = country_crba_list,\n",
    "                        crba_final_country_list_iso_col = 'COUNTRY_ISO_2',\n",
    "                        inverted = True,\n",
    "                        non_dim_cols = ['geoAreaCode',\n",
    "                                        'geoAreaName',\n",
    "                                        'timePeriodStart',\n",
    "                                        'source',\n",
    "                                        'value',\n",
    "                                        'footnotes', \n",
    "                                        'Unnamed: 0', \n",
    "                                        'CountryDesc',\n",
    "                                        'CountryIso2',\n",
    "                                        'CountryIso3',\n",
    "                                        'COUNTRY_ISO_2',\n",
    "                                        'COUNTRY_ISO_3',\n",
    "                                        'COUNTRY_NAME',\n",
    "                                        '_merge']\n",
    "                       )\n",
    "\n",
    "# save normalized data\n",
    "save_normalized_data.save_normalized_data(dataframe = s23_normalized,\n",
    "             filename = 'S_23_normalized.xlsx')"
   ]
  },
  {
   "cell_type": "markdown",
   "metadata": {},
   "source": [
    "### Select only those rows/ columns which are relevant \n",
    "\n",
    "* < to do >\n",
    "* Right now, the normalized dataset contains data on ALL subsets (which are defined by the dimension values). Ultimately, there has to be a commitment to one Subset of an indicator \n",
    "* But this filtering to exactly one dimension (i.e. one row per country) will be done later"
   ]
  },
  {
   "cell_type": "markdown",
   "metadata": {},
   "source": [
    "## S-61 (prev S-19) SDG Indicator 16.2.2 Detected victims of human trafficking, by age and sex (number)  VC_HTF_DETV \n",
    "### Extraction"
   ]
  },
  {
   "cell_type": "code",
   "execution_count": null,
   "metadata": {},
   "outputs": [],
   "source": [
    "# Extract data\n",
    "s61_raw = extract_sdg_api_data(series_code = 'VC_HTF_DETV')\n",
    "\n",
    "# Save raw data\n",
    "save_raw_data.save_raw_data(dataframe = s61_raw,\n",
    "              filename = 'S_61.xlsx')"
   ]
  },
  {
   "cell_type": "markdown",
   "metadata": {},
   "source": [
    "### Cleanse"
   ]
  },
  {
   "cell_type": "code",
   "execution_count": null,
   "metadata": {},
   "outputs": [],
   "source": [
    "s61_cleansed = cleanse_sdg_api_data(raw_data = s61_raw,\n",
    "                                   country_list_full = country_full_list,\n",
    "                                   country_list_full_name_col = 'CountryDesc',\n",
    "                                   country_list_full_iso2_col = 'CountryIso2',\n",
    "                                   country_df = country_crba_list,\n",
    "                                   country_df_iso2_col = 'COUNTRY_ISO_2',\n",
    "                                   non_dim_cols = ['value',\n",
    "                                                  'source',\n",
    "                                                  'footnotes',\n",
    "                                                   'timePeriodStart',\n",
    "                                                  'Unnamed: 0'] \n",
    "                                   )\n",
    "\n",
    "# save cleansed data\n",
    "save_cleansed_data(dataframe = s61_cleansed,\n",
    "             filename = 'S_61_cleansed.xlsx')"
   ]
  },
  {
   "cell_type": "markdown",
   "metadata": {},
   "source": [
    "### Normalization (scaling)"
   ]
  },
  {
   "cell_type": "code",
   "execution_count": null,
   "metadata": {},
   "outputs": [],
   "source": [
    "# Scale the raw data and bring the dataframe into long formmat\n",
    "s61_normalized = scaler.normalizer(cleansed_data = s61_cleansed,\n",
    "                        indicator_raw_value = 'value',\n",
    "                        indicator_code = '3.2.2',\n",
    "                        indicator_name = 'Prevalence of human trafficking',\n",
    "                        cleansed_df_iso2_col = 'CountryIso2',\n",
    "                        crba_final_country_list = country_crba_list,\n",
    "                        crba_final_country_list_iso_col = 'COUNTRY_ISO_2',\n",
    "                        inverted = True,\n",
    "                        non_dim_cols = ['geoAreaCode',\n",
    "                                        'geoAreaName',\n",
    "                                        'timePeriodStart',\n",
    "                                        'source',\n",
    "                                        'value',\n",
    "                                        'footnotes', \n",
    "                                        'Unnamed: 0', \n",
    "                                        'CountryDesc',\n",
    "                                        'CountryIso2',\n",
    "                                        'CountryIso3',\n",
    "                                        'COUNTRY_ISO_2',\n",
    "                                        'COUNTRY_ISO_3',\n",
    "                                        'COUNTRY_NAME',\n",
    "                                        '_merge']\n",
    "                       )\n",
    "\n",
    "# save normalized data\n",
    "save_normalized_data.save_normalized_data(dataframe = s61_normalized,\n",
    "             filename = 'S_61_normalized.xlsx')"
   ]
  },
  {
   "cell_type": "markdown",
   "metadata": {},
   "source": [
    "### Select only those rows/ columns which are relevant \n",
    "\n",
    "* < to do >\n",
    "* Right now, the normalized dataset contains data on ALL subsets (which are defined by the dimension values). Ultimately, there has to be a commitment to one Subset of an indicator \n",
    "* But this filtering to exactly one dimension (i.e. one row per country) will be done later"
   ]
  },
  {
   "cell_type": "markdown",
   "metadata": {},
   "source": [
    "## S-62 (prev S-20) SDG Indicator 1.1.1. Proportion of population below international poverty line (%) SI_POV_DAY1 \n",
    "### Extraction"
   ]
  },
  {
   "cell_type": "code",
   "execution_count": null,
   "metadata": {},
   "outputs": [],
   "source": [
    "# Extract data\n",
    "s62_raw = extract_sdg_api_data(series_code = 'SI_POV_DAY1')\n",
    "\n",
    "# Save raw data\n",
    "save_raw_data.save_raw_data(dataframe = s62_raw,\n",
    "              filename = 'S_62.xlsx')"
   ]
  },
  {
   "cell_type": "markdown",
   "metadata": {},
   "source": [
    "### Cleanse"
   ]
  },
  {
   "cell_type": "code",
   "execution_count": null,
   "metadata": {},
   "outputs": [],
   "source": [
    "# Transform the raw data\n",
    "s62_cleansed = cleanse_sdg_api_data(raw_data = s62_raw,\n",
    "                                   country_list_full = country_full_list,\n",
    "                                   country_list_full_name_col = 'CountryDesc',\n",
    "                                   country_list_full_iso2_col = 'CountryIso2',\n",
    "                                   country_df = country_crba_list,\n",
    "                                   country_df_iso2_col = 'COUNTRY_ISO_2',\n",
    "                                   non_dim_cols = ['value',\n",
    "                                                  'source',\n",
    "                                                  'footnotes',\n",
    "                                                   'timePeriodStart',\n",
    "                                                  'Unnamed: 0'] \n",
    "                                   )\n",
    "\n",
    "# save cleansed data\n",
    "save_cleansed_data(dataframe = s62_cleansed,\n",
    "             filename = 'S_62_cleansed.xlsx')"
   ]
  },
  {
   "cell_type": "markdown",
   "metadata": {},
   "source": [
    "### Normalization (scaling)"
   ]
  },
  {
   "cell_type": "code",
   "execution_count": null,
   "metadata": {},
   "outputs": [],
   "source": [
    "# Scale the raw data and bring the dataframe into long formmat\n",
    "s62_normalized = scaler.normalizer(cleansed_data = s62_cleansed,\n",
    "                        indicator_raw_value = 'value',\n",
    "                        indicator_code = '3.2.3.',\n",
    "                        indicator_name = 'Poverty rates',\n",
    "                        cleansed_df_iso2_col = 'CountryIso2',\n",
    "                        crba_final_country_list = country_crba_list,\n",
    "                        crba_final_country_list_iso_col = 'COUNTRY_ISO_2',\n",
    "                        inverted = True,\n",
    "                        non_dim_cols = ['geoAreaCode',\n",
    "                                        'geoAreaName',\n",
    "                                        'timePeriodStart',\n",
    "                                        'source',\n",
    "                                        'value',\n",
    "                                        'footnotes', \n",
    "                                        'Unnamed: 0', \n",
    "                                        'CountryDesc',\n",
    "                                        'CountryIso2',\n",
    "                                        'CountryIso3',\n",
    "                                        'COUNTRY_ISO_2',\n",
    "                                        'COUNTRY_ISO_3',\n",
    "                                        'COUNTRY_NAME',\n",
    "                                        '_merge']\n",
    "                       )\n",
    "\n",
    "# save normalized data\n",
    "save_normalized_data.save_normalized_data(dataframe = s62_normalized,\n",
    "             filename = 'S_62_normalized.xlsx')"
   ]
  },
  {
   "cell_type": "markdown",
   "metadata": {},
   "source": [
    "### Select only those rows/ columns which are relevant \n",
    "\n",
    "* < to do >\n",
    "* Right now, the normalized dataset contains data on ALL subsets (which are defined by the dimension values). Ultimately, there has to be a commitment to one Subset of an indicator \n",
    "* But this filtering to exactly one dimension (i.e. one row per country) will be done later"
   ]
  },
  {
   "cell_type": "markdown",
   "metadata": {},
   "source": [
    "## S-203 (prev S-47) SDG Indicator 8.5.1. Average hourly earnings of employees by sex and occupation (local currency) SL_EMP_AEARN\n",
    "### Extraction"
   ]
  },
  {
   "cell_type": "code",
   "execution_count": null,
   "metadata": {},
   "outputs": [],
   "source": [
    "# Extract data\n",
    "s203_raw = extract_sdg_api_data(series_code = 'SL_EMP_AEARN')\n",
    "\n",
    "# Save raw data\n",
    "save_raw_data.save_raw_data(dataframe = s203_raw,\n",
    "              filename = 'S_203.xlsx')"
   ]
  },
  {
   "cell_type": "markdown",
   "metadata": {},
   "source": [
    "### Cleanse"
   ]
  },
  {
   "cell_type": "code",
   "execution_count": null,
   "metadata": {},
   "outputs": [],
   "source": [
    "# Transform the raw data\n",
    "s203_cleansed = cleanse_sdg_api_data(raw_data = s203_raw,\n",
    "                                   country_list_full = country_full_list,\n",
    "                                   country_list_full_name_col = 'CountryDesc',\n",
    "                                   country_list_full_iso2_col = 'CountryIso2',\n",
    "                                   country_df = country_crba_list,\n",
    "                                   country_df_iso2_col = 'COUNTRY_ISO_2',\n",
    "                                   non_dim_cols = ['value',\n",
    "                                                  'source',\n",
    "                                                  'footnotes',\n",
    "                                                   'timePeriodStart',\n",
    "                                                  'Unnamed: 0'] \n",
    "                                   )\n",
    "\n",
    "# save cleansed data\n",
    "save_cleansed_data(dataframe = s203_cleansed,\n",
    "             filename = 'S_203_cleansed.xlsx')"
   ]
  },
  {
   "cell_type": "markdown",
   "metadata": {},
   "source": [
    "### Normalization (scaling)"
   ]
  },
  {
   "cell_type": "code",
   "execution_count": null,
   "metadata": {},
   "outputs": [],
   "source": [
    "# Scale the raw data and bring the dataframe into long formmat\n",
    "s203_normalized = scaler.normalizer(cleansed_data = s203_cleansed,\n",
    "                        indicator_raw_value = 'value',\n",
    "                        indicator_code = '3.4.1',\n",
    "                        indicator_name = 'Average Earnings',\n",
    "                        cleansed_df_iso2_col = 'CountryIso2',\n",
    "                        crba_final_country_list = country_crba_list,\n",
    "                        crba_final_country_list_iso_col = 'COUNTRY_ISO_2',\n",
    "                        inverted = False,\n",
    "                        non_dim_cols = ['geoAreaCode',\n",
    "                                        'geoAreaName',\n",
    "                                        'timePeriodStart',\n",
    "                                        'source',\n",
    "                                        'value',\n",
    "                                        'footnotes', \n",
    "                                        'Unnamed: 0', \n",
    "                                        'CountryDesc',\n",
    "                                        'CountryIso2',\n",
    "                                        'CountryIso3',\n",
    "                                        'COUNTRY_ISO_2',\n",
    "                                        'COUNTRY_ISO_3',\n",
    "                                        'COUNTRY_NAME',\n",
    "                                        '_merge']\n",
    "                       )\n",
    "\n",
    "# save normalized data\n",
    "save_normalized_data.save_normalized_data(dataframe = s203_normalized,\n",
    "             filename = 'S_203_normalized.xlsx')"
   ]
  },
  {
   "cell_type": "markdown",
   "metadata": {},
   "source": [
    "### Select only those rows/ columns which are relevant \n",
    "\n",
    "* < to do >\n",
    "* Right now, the normalized dataset contains data on ALL subsets (which are defined by the dimension values). Ultimately, there has to be a commitment to one Subset of an indicator \n",
    "* But this filtering to exactly one dimension (i.e. one row per country) will be done later"
   ]
  },
  {
   "cell_type": "markdown",
   "metadata": {},
   "source": [
    "## S-204 (prev S-48) SDG Indicator 1.1.1, ILO Stat: Employed population below international poverty line, by sex and age (%) SI_POV_EMP1\n",
    "### Extraction"
   ]
  },
  {
   "cell_type": "code",
   "execution_count": null,
   "metadata": {},
   "outputs": [],
   "source": [
    "# Extract data\n",
    "s204_raw = extract_sdg_api_data(series_code = 'SI_POV_EMP1')\n",
    "\n",
    "# Save raw data\n",
    "save_raw_data.save_raw_data(dataframe = s204_raw,\n",
    "              filename = 'S_204.xlsx')"
   ]
  },
  {
   "cell_type": "markdown",
   "metadata": {},
   "source": [
    "### Cleanse"
   ]
  },
  {
   "cell_type": "code",
   "execution_count": null,
   "metadata": {},
   "outputs": [],
   "source": [
    "# Transform the raw data\n",
    "s204_cleansed = cleanse_sdg_api_data(raw_data = s204_raw,\n",
    "                                   country_list_full = country_full_list,\n",
    "                                   country_list_full_name_col = 'CountryDesc',\n",
    "                                   country_list_full_iso2_col = 'CountryIso2',\n",
    "                                   country_df = country_crba_list,\n",
    "                                   country_df_iso2_col = 'COUNTRY_ISO_2',\n",
    "                                   non_dim_cols = ['value',\n",
    "                                                  'source',\n",
    "                                                  'footnotes',\n",
    "                                                   'timePeriodStart',\n",
    "                                                  'Unnamed: 0'] \n",
    "                                   )\n",
    "\n",
    "# save cleansed data\n",
    "save_cleansed_data(dataframe = s204_cleansed,\n",
    "             filename = 'S_204_cleansed.xlsx')"
   ]
  },
  {
   "cell_type": "markdown",
   "metadata": {},
   "source": [
    "### Normalization (scaling)"
   ]
  },
  {
   "cell_type": "code",
   "execution_count": null,
   "metadata": {},
   "outputs": [],
   "source": [
    "# Scale the raw data and bring the dataframe into long formmat\n",
    "s204_normalized = scaler.normalizer(cleansed_data = s204_cleansed,\n",
    "                        indicator_raw_value = 'value',\n",
    "                        indicator_code = 'NEW',\n",
    "                        indicator_name = 'Working poverty rate',\n",
    "                        cleansed_df_iso2_col = 'CountryIso2',\n",
    "                        crba_final_country_list = country_crba_list,\n",
    "                        crba_final_country_list_iso_col = 'COUNTRY_ISO_2',\n",
    "                        inverted = True,\n",
    "                        non_dim_cols = ['geoAreaCode',\n",
    "                                        'geoAreaName',\n",
    "                                        'timePeriodStart',\n",
    "                                        'source',\n",
    "                                        'value',\n",
    "                                        'footnotes', \n",
    "                                        'Unnamed: 0', \n",
    "                                        'CountryDesc',\n",
    "                                        'CountryIso2',\n",
    "                                        'CountryIso3',\n",
    "                                        'COUNTRY_ISO_2',\n",
    "                                        'COUNTRY_ISO_3',\n",
    "                                        'COUNTRY_NAME',\n",
    "                                        '_merge']\n",
    "                       )\n",
    "\n",
    "# save normalized data\n",
    "save_normalized_data.save_normalized_data(dataframe = s204_normalized,\n",
    "             filename = 'S_204_normalized.xlsx')"
   ]
  },
  {
   "cell_type": "markdown",
   "metadata": {},
   "source": [
    "## S-71 SDG Indicator 1.3.1 Proportion of mothers with newborns receiving maternity cash benefit. SI_COV_MATNL \n",
    "### Extraction"
   ]
  },
  {
   "cell_type": "code",
   "execution_count": null,
   "metadata": {
    "scrolled": true
   },
   "outputs": [],
   "source": [
    "# Extract data\n",
    "s71_raw = extract_sdg_api_data(series_code = 'SI_COV_MATNL')\n",
    "\n",
    "# Save raw data\n",
    "save_raw_data.save_raw_data(dataframe = s71_raw,\n",
    "              filename = 'S_71.xlsx')"
   ]
  },
  {
   "cell_type": "markdown",
   "metadata": {},
   "source": [
    "### Cleanse"
   ]
  },
  {
   "cell_type": "code",
   "execution_count": null,
   "metadata": {},
   "outputs": [],
   "source": [
    "# Transform the raw data\n",
    "s71_cleansed = cleanse_sdg_api_data(raw_data = s71_raw,\n",
    "                                   country_list_full = country_full_list,\n",
    "                                   country_list_full_name_col = 'CountryDesc',\n",
    "                                   country_list_full_iso2_col = 'CountryIso2',\n",
    "                                   country_df = country_crba_list,\n",
    "                                   country_df_iso2_col = 'COUNTRY_ISO_2',\n",
    "                                   non_dim_cols = ['value',\n",
    "                                                  'source',\n",
    "                                                  'footnotes',\n",
    "                                                   'attributes.Nature',\n",
    "                                                   'timePeriodStart',\n",
    "                                                  'Unnamed: 0'] \n",
    "                                   )\n",
    "\n",
    "# save cleansed data\n",
    "save_cleansed_data(dataframe = s71_cleansed,\n",
    "             filename = 'S_71_cleansed.xlsx')"
   ]
  },
  {
   "cell_type": "markdown",
   "metadata": {},
   "source": [
    "### Normalization (scaling)"
   ]
  },
  {
   "cell_type": "code",
   "execution_count": null,
   "metadata": {},
   "outputs": [],
   "source": [
    "# Scale the raw data and bring the dataframe into long formmat\n",
    "s71_normalized = scaler.normalizer(cleansed_data = s71_cleansed,\n",
    "                        indicator_raw_value = 'value',\n",
    "                        indicator_code = 'NEW',\n",
    "                        indicator_name = 'Mothers receiving maternity cash benefits',\n",
    "                        cleansed_df_iso2_col = 'CountryIso2',\n",
    "                        crba_final_country_list = country_crba_list,\n",
    "                        crba_final_country_list_iso_col = 'COUNTRY_ISO_2',\n",
    "                        inverted = False,\n",
    "                        non_dim_cols = ['geoAreaCode',\n",
    "                                        'geoAreaName',\n",
    "                                        'timePeriodStart',\n",
    "                                        'source',\n",
    "                                        'value',\n",
    "                                        'footnotes', \n",
    "                                        'Unnamed: 0', \n",
    "                                        'CountryDesc',\n",
    "                                        'CountryIso2',\n",
    "                                        'CountryIso3',\n",
    "                                        'COUNTRY_ISO_2',\n",
    "                                        'COUNTRY_ISO_3',\n",
    "                                        'COUNTRY_NAME',\n",
    "                                        '_merge']\n",
    "                       )\n",
    "\n",
    "# save normalized data\n",
    "save_normalized_data.save_normalized_data(dataframe = s71_normalized,\n",
    "             filename = 'S_71_normalized.xlsx')"
   ]
  },
  {
   "cell_type": "markdown",
   "metadata": {},
   "source": [
    "### Select only those rows/ columns which are relevant \n",
    "\n",
    "* < to do >\n",
    "* Right now, the normalized dataset contains data on ALL subsets (which are defined by the dimension values). Ultimately, there has to be a commitment to one Subset of an indicator \n",
    "* But this filtering to exactly one dimension (i.e. one row per country) will be done later"
   ]
  },
  {
   "cell_type": "markdown",
   "metadata": {},
   "source": [
    "## S-78 SDG Indicator 1.3.1 Proportion of population covered by social insurance programs SI_COV_SOCINS\n",
    "### Extraction"
   ]
  },
  {
   "cell_type": "code",
   "execution_count": null,
   "metadata": {
    "scrolled": true
   },
   "outputs": [],
   "source": [
    "# Extract data\n",
    "s78_raw = extract_sdg_api_data(series_code = 'SI_COV_SOCINS')\n",
    "\n",
    "# Save raw data\n",
    "save_raw_data.save_raw_data(dataframe = s78_raw,\n",
    "              filename = 'S_78.xlsx')"
   ]
  },
  {
   "cell_type": "markdown",
   "metadata": {},
   "source": [
    "### Cleanse"
   ]
  },
  {
   "cell_type": "code",
   "execution_count": null,
   "metadata": {},
   "outputs": [],
   "source": [
    "# Transform the raw data\n",
    "s78_cleansed = cleanse_sdg_api_data(raw_data = s78_raw,\n",
    "                                   country_list_full = country_full_list,\n",
    "                                   country_list_full_name_col = 'CountryDesc',\n",
    "                                   country_list_full_iso2_col = 'CountryIso2',\n",
    "                                   country_df = country_crba_list,\n",
    "                                   country_df_iso2_col = 'COUNTRY_ISO_2',\n",
    "                                   non_dim_cols = ['value',\n",
    "                                                  'source',\n",
    "                                                  'footnotes',\n",
    "                                                   'attributes.Nature',\n",
    "                                                   'timePeriodStart',\n",
    "                                                  'Unnamed: 0'] \n",
    "                                   )\n",
    "\n",
    "# save cleansed data\n",
    "save_cleansed_data(dataframe = s78_cleansed,\n",
    "             filename = 'S_78_cleansed.xlsx')"
   ]
  },
  {
   "cell_type": "markdown",
   "metadata": {},
   "source": [
    "### Normalization (scaling)"
   ]
  },
  {
   "cell_type": "code",
   "execution_count": null,
   "metadata": {},
   "outputs": [],
   "source": [
    "# Scale the raw data and bring the dataframe into long formmat\n",
    "s78_normalized = scaler.normalizer(cleansed_data = s78_cleansed,\n",
    "                        indicator_raw_value = 'value',\n",
    "                        indicator_code = '2.2.2.',\n",
    "                        indicator_name = 'Social insurance coverage',\n",
    "                        cleansed_df_iso2_col = 'CountryIso2',\n",
    "                        crba_final_country_list = country_crba_list,\n",
    "                        crba_final_country_list_iso_col = 'COUNTRY_ISO_2',\n",
    "                        inverted = False,\n",
    "                        non_dim_cols = ['geoAreaCode',\n",
    "                                        'geoAreaName',\n",
    "                                        'timePeriodStart',\n",
    "                                        'source',\n",
    "                                        'value',\n",
    "                                        'footnotes', \n",
    "                                        'Unnamed: 0', \n",
    "                                        'CountryDesc',\n",
    "                                        'CountryIso2',\n",
    "                                        'CountryIso3',\n",
    "                                        'COUNTRY_ISO_2',\n",
    "                                        'COUNTRY_ISO_3',\n",
    "                                        'COUNTRY_NAME',\n",
    "                                        '_merge']\n",
    "                       )\n",
    "\n",
    "# save normalized data\n",
    "save_normalized_data.save_normalized_data(dataframe = s78_normalized,\n",
    "             filename = 'S_78_normalized.xlsx')"
   ]
  },
  {
   "cell_type": "markdown",
   "metadata": {},
   "source": [
    "### Select only those rows/ columns which are relevant \n",
    "\n",
    "* < to do >\n",
    "* Right now, the normalized dataset contains data on ALL subsets (which are defined by the dimension values). Ultimately, there has to be a commitment to one Subset of an indicator \n",
    "* But this filtering to exactly one dimension (i.e. one row per country) will be done later"
   ]
  },
  {
   "cell_type": "markdown",
   "metadata": {},
   "source": [
    "## S-80 SDG Indicator 1.3.1 Proportion of population covered by labour market programmes SI_COV_LMKT \n",
    "### Extraction"
   ]
  },
  {
   "cell_type": "code",
   "execution_count": null,
   "metadata": {
    "scrolled": true
   },
   "outputs": [],
   "source": [
    "# Extract data\n",
    "s80_raw = extract_sdg_api_data(series_code = 'SI_COV_LMKT')\n",
    "\n",
    "# Save raw data\n",
    "save_raw_data.save_raw_data(dataframe = s80_raw,\n",
    "              filename = 'S_80.xlsx')"
   ]
  },
  {
   "cell_type": "markdown",
   "metadata": {},
   "source": [
    "### Cleanse"
   ]
  },
  {
   "cell_type": "code",
   "execution_count": null,
   "metadata": {},
   "outputs": [],
   "source": [
    "# Transform the raw data\n",
    "s80_cleansed = cleanse_sdg_api_data(raw_data = s80_raw,\n",
    "                                   country_list_full = country_full_list,\n",
    "                                   country_list_full_name_col = 'CountryDesc',\n",
    "                                   country_list_full_iso2_col = 'CountryIso2',\n",
    "                                   country_df = country_crba_list,\n",
    "                                   country_df_iso2_col = 'COUNTRY_ISO_2',\n",
    "                                   non_dim_cols = ['value',\n",
    "                                                  'source',\n",
    "                                                  'footnotes',\n",
    "                                                   'attributes.Nature',\n",
    "                                                   'timePeriodStart',\n",
    "                                                  'Unnamed: 0'] \n",
    "                                   )\n",
    "\n",
    "# save cleansed data\n",
    "save_cleansed_data(dataframe = s80_cleansed,\n",
    "             filename = 'S_80_cleansed.xlsx')"
   ]
  },
  {
   "cell_type": "markdown",
   "metadata": {},
   "source": [
    "### Normalization (scaling)"
   ]
  },
  {
   "cell_type": "code",
   "execution_count": null,
   "metadata": {},
   "outputs": [],
   "source": [
    "# Scale the raw data and bring the dataframe into long formmat\n",
    "s80_normalized = scaler.normalizer(cleansed_data = s80_cleansed,\n",
    "                        indicator_raw_value = 'value',\n",
    "                        indicator_code = 'NEW',\n",
    "                        indicator_name = 'Coverage of labour market programmes',\n",
    "                        cleansed_df_iso2_col = 'CountryIso2',\n",
    "                        crba_final_country_list = country_crba_list,\n",
    "                        crba_final_country_list_iso_col = 'COUNTRY_ISO_2',\n",
    "                        inverted = False,\n",
    "                        non_dim_cols = ['geoAreaCode',\n",
    "                                        'geoAreaName',\n",
    "                                        'timePeriodStart',\n",
    "                                        'source',\n",
    "                                        'value',\n",
    "                                        'footnotes', \n",
    "                                        'Unnamed: 0', \n",
    "                                        'CountryDesc',\n",
    "                                        'CountryIso2',\n",
    "                                        'CountryIso3',\n",
    "                                        'COUNTRY_ISO_2',\n",
    "                                        'COUNTRY_ISO_3',\n",
    "                                        'COUNTRY_NAME',\n",
    "                                        '_merge']\n",
    "                       )\n",
    "\n",
    "# save normalized data\n",
    "save_normalized_data.save_normalized_data(dataframe = s80_normalized,\n",
    "             filename = 'S_80_normalized.xlsx')"
   ]
  },
  {
   "cell_type": "markdown",
   "metadata": {},
   "source": [
    "### Select only those rows/ columns which are relevant \n",
    "\n",
    "* < to do >\n",
    "* Right now, the normalized dataset contains data on ALL subsets (which are defined by the dimension values). Ultimately, there has to be a commitment to one Subset of an indicator \n",
    "* But this filtering to exactly one dimension (i.e. one row per country) will be done later"
   ]
  },
  {
   "cell_type": "markdown",
   "metadata": {},
   "source": [
    "## S-102 SDG Indicator 2.2.2.  Proportion of children moderately or severely overweight (%)  SH_STA_OVRWGT \n",
    "### Extraction"
   ]
  },
  {
   "cell_type": "code",
   "execution_count": null,
   "metadata": {
    "scrolled": true
   },
   "outputs": [],
   "source": [
    "# Extract data\n",
    "s102_raw = extract_sdg_api_data(series_code = 'SH_STA_OVRWGT')\n",
    "\n",
    "# Save raw data\n",
    "save_raw_data.save_raw_data(dataframe = s102_raw,\n",
    "              filename = 'S_102.xlsx')"
   ]
  },
  {
   "cell_type": "markdown",
   "metadata": {},
   "source": [
    "### Cleanse"
   ]
  },
  {
   "cell_type": "code",
   "execution_count": null,
   "metadata": {},
   "outputs": [],
   "source": [
    "# Transform the raw data\n",
    "s102_cleansed = cleanse_sdg_api_data(raw_data = s102_raw,\n",
    "                                   country_list_full = country_full_list,\n",
    "                                   country_list_full_name_col = 'CountryDesc',\n",
    "                                   country_list_full_iso2_col = 'CountryIso2',\n",
    "                                   country_df = country_crba_list,\n",
    "                                   country_df_iso2_col = 'COUNTRY_ISO_2',\n",
    "                                   non_dim_cols = ['value',\n",
    "                                                  'source',\n",
    "                                                  'footnotes',\n",
    "                                                  'attributes.Nature',\n",
    "                                                  'timePeriodStart',\n",
    "                                                  'Unnamed: 0',\n",
    "                                                  'upperBound',\n",
    "                                                  'lowerBound',\n",
    "                                                  'attributes.Nature'] \n",
    "                                   )\n",
    "\n",
    "# save cleansed data\n",
    "save_cleansed_data(dataframe = s102_cleansed,\n",
    "             filename = 'S_102_cleansed.xlsx')"
   ]
  },
  {
   "cell_type": "markdown",
   "metadata": {},
   "source": [
    "### Normalization (scaling)"
   ]
  },
  {
   "cell_type": "code",
   "execution_count": null,
   "metadata": {},
   "outputs": [],
   "source": [
    "# Scale the raw data and bring the dataframe into long formmat\n",
    "s102_normalized = scaler.normalizer(cleansed_data = s102_cleansed,\n",
    "                        indicator_raw_value = 'value',\n",
    "                        indicator_code = '3.1.3',\n",
    "                        indicator_name = 'Proportion of children moderately or severely overweight (%)',\n",
    "                        cleansed_df_iso2_col = 'CountryIso2',\n",
    "                        crba_final_country_list = country_crba_list,\n",
    "                        crba_final_country_list_iso_col = 'COUNTRY_ISO_2',\n",
    "                        inverted = True,\n",
    "                        non_dim_cols = ['geoAreaCode',\n",
    "                                        'geoAreaName',\n",
    "                                        'timePeriodStart',\n",
    "                                        'value',\n",
    "                                        'valueType',\n",
    "                                        'time_detail',\n",
    "                                        'timeCoverage',\n",
    "                                        'upperBound',\n",
    "                                        'lowerBound',\n",
    "                                        'basePeriod',\n",
    "                                        'source',\n",
    "                                        'geoInfoUrl',\n",
    "                                        'footnotes',\n",
    "                                        'attributes.Nature',\n",
    "                                        'attributes.Units',\n",
    "                                        'Unnamed: 0', \n",
    "                                        'CountryDesc',\n",
    "                                        'CountryIso2',\n",
    "                                        'CountryIso3',\n",
    "                                        'COUNTRY_ISO_2',\n",
    "                                        'COUNTRY_ISO_3',\n",
    "                                        'COUNTRY_NAME',\n",
    "                                        '_merge']\n",
    "                       )\n",
    "\n",
    "# save normalized data\n",
    "save_normalized_data.save_normalized_data(dataframe = s102_normalized,\n",
    "             filename = 'S_102_normalized.xlsx')"
   ]
  },
  {
   "cell_type": "markdown",
   "metadata": {},
   "source": [
    "### Select only those rows/ columns which are relevant \n",
    "\n",
    "* < to do >\n",
    "* Right now, the normalized dataset contains data on ALL subsets (which are defined by the dimension values). Ultimately, there has to be a commitment to one Subset of an indicator \n",
    "* But this filtering to exactly one dimension (i.e. one row per country) will be done later"
   ]
  },
  {
   "cell_type": "markdown",
   "metadata": {},
   "source": [
    "## S-125 SDG Indicator 16.2.3  Proportion of population aged 18-29 years who experienced sexual violence by age 18, by sex (% of population aged 18-29)  VC_VAW_SXVLN \n",
    "### Extraction"
   ]
  },
  {
   "cell_type": "code",
   "execution_count": null,
   "metadata": {
    "scrolled": true
   },
   "outputs": [],
   "source": [
    "# Extract data\n",
    "s125_raw = extract_sdg_api_data(series_code = 'VC_VAW_SXVLN')\n",
    "\n",
    "# Save raw data\n",
    "save_raw_data.save_raw_data(dataframe = s125_raw,\n",
    "              filename = 'S_125.xlsx')"
   ]
  },
  {
   "cell_type": "markdown",
   "metadata": {},
   "source": [
    "### Cleanse"
   ]
  },
  {
   "cell_type": "code",
   "execution_count": null,
   "metadata": {},
   "outputs": [],
   "source": [
    "# Transform the raw data\n",
    "s125_cleansed = cleanse_sdg_api_data(raw_data = s125_raw,\n",
    "                                   country_list_full = country_full_list,\n",
    "                                   country_list_full_name_col = 'CountryDesc',\n",
    "                                   country_list_full_iso2_col = 'CountryIso2',\n",
    "                                   country_df = country_crba_list,\n",
    "                                   country_df_iso2_col = 'COUNTRY_ISO_2',\n",
    "                                   non_dim_cols = ['value',\n",
    "                                                  'source',\n",
    "                                                  'footnotes',\n",
    "                                                  'attributes.Nature',\n",
    "                                                  'timePeriodStart',\n",
    "                                                  'Unnamed: 0',\n",
    "                                                  'upperBound',\n",
    "                                                  'lowerBound',\n",
    "                                                  'attributes.Nature'] \n",
    "                                   )\n",
    "\n",
    "# save cleansed data\n",
    "save_cleansed_data(dataframe = s125_cleansed,\n",
    "             filename = 'S_125_cleansed.xlsx')"
   ]
  },
  {
   "cell_type": "markdown",
   "metadata": {},
   "source": [
    "### Normalization (scaling)"
   ]
  },
  {
   "cell_type": "code",
   "execution_count": null,
   "metadata": {},
   "outputs": [],
   "source": [
    "# Scale the raw data and bring the dataframe into long formmat\n",
    "s125_normalized = scaler.normalizer(cleansed_data = s125_cleansed,\n",
    "                        indicator_raw_value = 'value',\n",
    "                        indicator_code = 'NEW',\n",
    "                        indicator_name = 'Prevalence of sexual violence',\n",
    "                        cleansed_df_iso2_col = 'CountryIso2',\n",
    "                        crba_final_country_list = country_crba_list,\n",
    "                        crba_final_country_list_iso_col = 'COUNTRY_ISO_2',\n",
    "                        inverted = True,\n",
    "                        non_dim_cols = ['geoAreaCode',\n",
    "                                        'geoAreaName',\n",
    "                                        'timePeriodStart',\n",
    "                                        'value',\n",
    "                                        'valueType',\n",
    "                                        'time_detail',\n",
    "                                        'timeCoverage',\n",
    "                                        'upperBound',\n",
    "                                        'lowerBound',\n",
    "                                        'basePeriod',\n",
    "                                        'source',\n",
    "                                        'geoInfoUrl',\n",
    "                                        'footnotes',\n",
    "                                        'attributes.Nature',\n",
    "                                        'attributes.Units',\n",
    "                                        'Unnamed: 0', \n",
    "                                        'CountryDesc',\n",
    "                                        'CountryIso2',\n",
    "                                        'CountryIso3',\n",
    "                                        'COUNTRY_ISO_2',\n",
    "                                        'COUNTRY_ISO_3',\n",
    "                                        'COUNTRY_NAME',\n",
    "                                        '_merge']\n",
    "                       )\n",
    "\n",
    "# save normalized data\n",
    "save_normalized_data.save_normalized_data(dataframe = s125_normalized,\n",
    "             filename = 'S_125_normalized.xlsx')"
   ]
  },
  {
   "cell_type": "markdown",
   "metadata": {},
   "source": [
    "### Select only those rows/ columns which are relevant \n",
    "\n",
    "* < to do >\n",
    "* Right now, the normalized dataset contains data on ALL subsets (which are defined by the dimension values). Ultimately, there has to be a commitment to one Subset of an indicator \n",
    "* But this filtering to exactly one dimension (i.e. one row per country) will be done later"
   ]
  },
  {
   "cell_type": "markdown",
   "metadata": {},
   "source": [
    "## S-160 SDG Indicator 3.9.2 Mortality rate attributed to unsafe water, unsafe sanitation and lack of hygiene (deaths per 100,000 population)   SH_STA_WASH \n",
    "### Extraction"
   ]
  },
  {
   "cell_type": "code",
   "execution_count": null,
   "metadata": {
    "scrolled": true
   },
   "outputs": [],
   "source": [
    "# Extract data\n",
    "s160_raw = extract_sdg_api_data(series_code = 'SH_STA_WASH')\n",
    "\n",
    "# Save raw data\n",
    "save_raw_data.save_raw_data(dataframe = s160_raw,\n",
    "              filename = 'S_160.xlsx')"
   ]
  },
  {
   "cell_type": "markdown",
   "metadata": {},
   "source": [
    "### Cleanse"
   ]
  },
  {
   "cell_type": "code",
   "execution_count": null,
   "metadata": {},
   "outputs": [],
   "source": [
    "# Transform the raw data\n",
    "s160_cleansed = cleanse_sdg_api_data(raw_data = s160_raw,\n",
    "                                   country_list_full = country_full_list,\n",
    "                                   country_list_full_name_col = 'CountryDesc',\n",
    "                                   country_list_full_iso2_col = 'CountryIso2',\n",
    "                                   country_df = country_crba_list,\n",
    "                                   country_df_iso2_col = 'COUNTRY_ISO_2',\n",
    "                                   non_dim_cols = ['value',\n",
    "                                                  'source',\n",
    "                                                  'footnotes',\n",
    "                                                  'attributes.Nature',\n",
    "                                                  'timePeriodStart',\n",
    "                                                  'Unnamed: 0',\n",
    "                                                  'upperBound',\n",
    "                                                  'lowerBound',\n",
    "                                                  'attributes.Nature'] \n",
    "                                   )\n",
    "\n",
    "# save cleansed data\n",
    "save_cleansed_data(dataframe = s160_cleansed,\n",
    "             filename = 'S_160_cleansed.xlsx')"
   ]
  },
  {
   "cell_type": "markdown",
   "metadata": {},
   "source": [
    "### Normalization (scaling)"
   ]
  },
  {
   "cell_type": "code",
   "execution_count": null,
   "metadata": {},
   "outputs": [],
   "source": [
    "# Scale the raw data and bring the dataframe into long formmat\n",
    "s160_normalized = scaler.normalizer(cleansed_data = s160_cleansed,\n",
    "                        indicator_raw_value = 'value',\n",
    "                        indicator_code = '3.1.2.',\n",
    "                        indicator_name = 'Deaths linked to poor WASH',\n",
    "                        cleansed_df_iso2_col = 'CountryIso2',\n",
    "                        crba_final_country_list = country_crba_list,\n",
    "                        crba_final_country_list_iso_col = 'COUNTRY_ISO_2',\n",
    "                        inverted = True,\n",
    "                        non_dim_cols = ['geoAreaCode',\n",
    "                                        'geoAreaName',\n",
    "                                        'timePeriodStart',\n",
    "                                        'value',\n",
    "                                        'valueType',\n",
    "                                        'time_detail',\n",
    "                                        'timeCoverage',\n",
    "                                        'upperBound',\n",
    "                                        'lowerBound',\n",
    "                                        'basePeriod',\n",
    "                                        'source',\n",
    "                                        'geoInfoUrl',\n",
    "                                        'footnotes',\n",
    "                                        'attributes.Nature',\n",
    "                                        'attributes.Units',\n",
    "                                        'Unnamed: 0', \n",
    "                                        'CountryDesc',\n",
    "                                        'CountryIso2',\n",
    "                                        'CountryIso3',\n",
    "                                        'COUNTRY_ISO_2',\n",
    "                                        'COUNTRY_ISO_3',\n",
    "                                        'COUNTRY_NAME',\n",
    "                                        '_merge']\n",
    "                       )\n",
    "\n",
    "# save normalized data\n",
    "save_normalized_data.save_normalized_data(dataframe = s160_normalized,\n",
    "             filename = 'S_160_normalized.xlsx')"
   ]
  },
  {
   "cell_type": "markdown",
   "metadata": {},
   "source": [
    "### Select only those rows/ columns which are relevant \n",
    "\n",
    "* < to do >\n",
    "* Right now, the normalized dataset contains data on ALL subsets (which are defined by the dimension values). Ultimately, there has to be a commitment to one Subset of an indicator \n",
    "* But this filtering to exactly one dimension (i.e. one row per country) will be done later"
   ]
  },
  {
   "cell_type": "markdown",
   "metadata": {},
   "source": [
    "## S-183 SDG Proportion of local governments that adopt and implement local disaster risk reduction strategies in line with national disaster risk reduction strategies (%) SG_DSR_SILS \n",
    "### Extraction"
   ]
  },
  {
   "cell_type": "code",
   "execution_count": null,
   "metadata": {
    "scrolled": true
   },
   "outputs": [],
   "source": [
    "# Extract data\n",
    "s183_raw = extract_sdg_api_data(series_code = 'SG_DSR_SILS')\n",
    "\n",
    "# Save raw data\n",
    "save_raw_data.save_raw_data(dataframe = s183_raw,\n",
    "              filename = 'S_183.xlsx')"
   ]
  },
  {
   "cell_type": "markdown",
   "metadata": {},
   "source": [
    "### Cleanse"
   ]
  },
  {
   "cell_type": "code",
   "execution_count": null,
   "metadata": {},
   "outputs": [],
   "source": [
    "# Transform the raw data\n",
    "s183_cleansed = cleanse_sdg_api_data(raw_data = s183_raw,\n",
    "                                   country_list_full = country_full_list,\n",
    "                                   country_list_full_name_col = 'CountryDesc',\n",
    "                                   country_list_full_iso2_col = 'CountryIso2',\n",
    "                                   country_df = country_crba_list,\n",
    "                                   country_df_iso2_col = 'COUNTRY_ISO_2',\n",
    "                                   non_dim_cols = ['value',\n",
    "                                                  'source',\n",
    "                                                  'footnotes',\n",
    "                                                  'attributes.Nature',\n",
    "                                                  'timePeriodStart',\n",
    "                                                  'Unnamed: 0',\n",
    "                                                  'upperBound',\n",
    "                                                  'lowerBound',\n",
    "                                                  'attributes.Nature'] \n",
    "                                   )\n",
    "\n",
    "# save cleansed data\n",
    "save_cleansed_data(dataframe = s183_cleansed,\n",
    "             filename = 'S_183_cleansed.xlsx')"
   ]
  },
  {
   "cell_type": "markdown",
   "metadata": {},
   "source": [
    "### Normalization (scaling)"
   ]
  },
  {
   "cell_type": "code",
   "execution_count": null,
   "metadata": {},
   "outputs": [],
   "source": [
    "# Scale the raw data and bring the dataframe into long formmat\n",
    "s183_normalized = scaler.normalizer(cleansed_data = s183_cleansed,\n",
    "                        indicator_raw_value = 'value',\n",
    "                        indicator_code = '1.2.4.1',\n",
    "                        indicator_name = 'National disaster risk reduction strategies',\n",
    "                        cleansed_df_iso2_col = 'CountryIso2',\n",
    "                        crba_final_country_list = country_crba_list,\n",
    "                        crba_final_country_list_iso_col = 'COUNTRY_ISO_2',\n",
    "                        inverted = False,\n",
    "                        non_dim_cols = ['geoAreaCode',\n",
    "                                        'geoAreaName',\n",
    "                                        'timePeriodStart',\n",
    "                                        'value',\n",
    "                                        'valueType',\n",
    "                                        'time_detail',\n",
    "                                        'timeCoverage',\n",
    "                                        'upperBound',\n",
    "                                        'lowerBound',\n",
    "                                        'basePeriod',\n",
    "                                        'source',\n",
    "                                        'geoInfoUrl',\n",
    "                                        'footnotes',\n",
    "                                        'attributes.Nature',\n",
    "                                        'attributes.Units',\n",
    "                                        'Unnamed: 0', \n",
    "                                        'CountryDesc',\n",
    "                                        'CountryIso2',\n",
    "                                        'CountryIso3',\n",
    "                                        'COUNTRY_ISO_2',\n",
    "                                        'COUNTRY_ISO_3',\n",
    "                                        'COUNTRY_NAME',\n",
    "                                        '_merge']\n",
    "                       )\n",
    "\n",
    "# save normalized data\n",
    "save_normalized_data.save_normalized_data(dataframe = s183_normalized,\n",
    "             filename = 'S_183_normalized.xlsx')"
   ]
  },
  {
   "cell_type": "markdown",
   "metadata": {},
   "source": [
    "### Select only those rows/ columns which are relevant \n",
    "\n",
    "* < to do >\n",
    "* Right now, the normalized dataset contains data on ALL subsets (which are defined by the dimension values). Ultimately, there has to be a commitment to one Subset of an indicator \n",
    "* But this filtering to exactly one dimension (i.e. one row per country) will be done later"
   ]
  },
  {
   "cell_type": "markdown",
   "metadata": {},
   "source": [
    "## S-184 Number of deaths and missing persons attributed to disasters per 100,000 population (number) VC_DSR_MTMP\n",
    "### Extraction"
   ]
  },
  {
   "cell_type": "code",
   "execution_count": 2,
   "metadata": {
    "scrolled": true
   },
   "outputs": [
    {
     "name": "stdout",
     "output_type": "stream",
     "text": [
      "The following columns are present in the datasets, and this is the number of unique values they have. \n",
      "The column goal has 3 unique values.\n",
      "The column target has 3 unique values.\n",
      "The column indicator has 3 unique values.\n",
      "The column series has 1 unique values.\n",
      "The column seriesDescription has 1 unique values.\n",
      "The column seriesCount has 1 unique values.\n",
      "The column geoAreaCode has 141 unique values.\n",
      "The column geoAreaName has 141 unique values.\n",
      "The column timePeriodStart has 15 unique values.\n",
      "The column value has 1193 unique values.\n",
      "The column valueType has 1 unique values.\n",
      "The column time_detail has 1 unique values.\n",
      "The column timeCoverage has 1 unique values.\n",
      "The column upperBound has 1 unique values.\n",
      "The column lowerBound has 1 unique values.\n",
      "The column basePeriod has 1 unique values.\n",
      "The column source has 1 unique values.\n",
      "The column geoInfoUrl has 1 unique values.\n",
      "The column footnotes has 2 unique values.\n",
      "The column attributes.Nature has 1 unique values.\n",
      "The column attributes.Units has 1 unique values.\n",
      "The column dimensions.Reporting Type has 1 unique values.\n",
      "The raw data has been saved as .xlsx file in: D:\\Documents\\2020\\28_UNICEF\\10_working_repo\\data-etl\\data\\data_raw\\\n"
     ]
    }
   ],
   "source": [
    "# Extract data\n",
    "s184_raw = extract_sdg_api_data(series_code = 'VC_DSR_MTMP')\n",
    "\n",
    "# Save raw data\n",
    "save_raw_data.save_raw_data(dataframe = s184_raw,\n",
    "              filename = 'S_184.xlsx')"
   ]
  },
  {
   "cell_type": "markdown",
   "metadata": {},
   "source": [
    "### Cleanse"
   ]
  },
  {
   "cell_type": "code",
   "execution_count": 6,
   "metadata": {},
   "outputs": [
    {
     "name": "stdout",
     "output_type": "stream",
     "text": [
      "The raw data has been saved as .xlsx file in: D:\\Documents\\2020\\28_UNICEF\\10_working_repo\\data-etl\\data\\data_cleansed\\\n"
     ]
    }
   ],
   "source": [
    "# Transform the raw data\n",
    "s184_cleansed = cleanse_sdg_api_data(raw_data = s184_raw,\n",
    "                                   country_list_full = country_full_list,\n",
    "                                   country_list_full_name_col = 'CountryDesc',\n",
    "                                   country_list_full_iso2_col = 'CountryIso2',\n",
    "                                   country_df = country_crba_list,\n",
    "                                   country_df_iso2_col = 'COUNTRY_ISO_2',\n",
    "                                   non_dim_cols = ['value',\n",
    "                                                  'source',\n",
    "                                                  'footnotes',\n",
    "                                                  'attributes.Nature',\n",
    "                                                  'timePeriodStart',\n",
    "                                                  'Unnamed: 0',\n",
    "                                                  'upperBound',\n",
    "                                                  'lowerBound',\n",
    "                                                  'attributes.Nature'] \n",
    "                                   )\n",
    "\n",
    "# save cleansed data\n",
    "save_cleansed_data(dataframe = s184_cleansed,\n",
    "             filename = 'S_184_cleansed.xlsx')"
   ]
  },
  {
   "cell_type": "markdown",
   "metadata": {},
   "source": [
    "### Normalization (scaling)"
   ]
  },
  {
   "cell_type": "code",
   "execution_count": 8,
   "metadata": {},
   "outputs": [
    {
     "name": "stdout",
     "output_type": "stream",
     "text": [
      "You have a selected a few columns, which will not be regarded as dimensions. These are the remaining columns in the dataset, along with the number of values they take in the dataset.\n",
      "The column goal has 3 unique values.\n",
      "The column target has 3 unique values.\n",
      "The column indicator has 3 unique values.\n",
      "The column series has 1 unique values.\n",
      "The column seriesDescription has 1 unique values.\n",
      "The column seriesCount has 1 unique values.\n",
      "The column dimensions.Reporting Type has 1 unique values.\n",
      "The total number of subgroups in the dataset is therefore: 27\n",
      "\n",
      " - \n",
      "\n",
      "In the loop we are currently dealing with the subset #1, which has these defining values: \n",
      " \n",
      " Empty DataFrame\n",
      "Columns: [goal, target, indicator, series, seriesDescription, seriesCount, dimensions.Reporting Type]\n",
      "Index: []\n",
      "\n",
      " The shape of the subset in the cleansed dataset is: (0, 30) \n",
      " \n",
      " \n",
      "Dataframe is empty. There are no values to append.\n",
      " \n",
      " This is the end of loop #1. \n",
      " - \n",
      " \n",
      "\n",
      " - \n",
      "\n",
      "In the loop we are currently dealing with the subset #2, which has these defining values: \n",
      " \n",
      "     goal   target  indicator       series  \\\n",
      "0  ['1']  ['1.5']  ['1.5.1']  VC_DSR_MTMP   \n",
      "\n",
      "                                   seriesDescription seriesCount  \\\n",
      "0  Number of deaths and missing persons attribute...        1196   \n",
      "\n",
      "  dimensions.Reporting Type  \n",
      "0                         G  \n",
      "\n",
      " The shape of the subset in the cleansed dataset is: (137, 30) \n",
      " \n",
      " \n",
      "The distribution of the raw data values this subgroup contains outliers or is too skewed on the upper end. The maximum value to be used for the normalisation is: 3rd quartile or distribution + 1.5 * IQR. It is: 2.8352049999999998 \n",
      " See histogram printed below for info. \n",
      "\n",
      "The distribution of the raw data for this subgroup does not contain outliers or is too skewed on the lower end. The minimum value used for the normalisation is the minimum value in the dataset, which is 0.004. This value corresponds to country: 21    Australia\n",
      "22    Australia\n",
      "23    Australia\n",
      "Name: COUNTRY_NAME, dtype: object \n",
      "\n",
      "\n",
      " This is the distribution of the raw data of the indicator.\n",
      "AxesSubplot(0.125,0.125;0.775x0.755)\n",
      "\n",
      " The shape of the dataframe should be 195 x X. It is:  (195, 35) \n",
      " \n",
      " \n",
      " This is the end of loop #2. \n",
      " - \n",
      " \n",
      "\n",
      " - \n",
      "\n",
      "In the loop we are currently dealing with the subset #3, which has these defining values: \n",
      " \n",
      "      goal    target   indicator       series  \\\n",
      "1  ['11']  ['11.5']  ['11.5.1']  VC_DSR_MTMP   \n",
      "\n",
      "                                   seriesDescription seriesCount  \\\n",
      "1  Number of deaths and missing persons attribute...        1196   \n",
      "\n",
      "  dimensions.Reporting Type  \n",
      "1                         G  \n",
      "\n",
      " The shape of the subset in the cleansed dataset is: (137, 30) \n",
      " \n",
      " \n",
      "The distribution of the raw data values this subgroup contains outliers or is too skewed on the upper end. The maximum value to be used for the normalisation is: 3rd quartile or distribution + 1.5 * IQR. It is: 2.8352049999999998 \n",
      " See histogram printed below for info. \n",
      "\n",
      "The distribution of the raw data for this subgroup does not contain outliers or is too skewed on the lower end. The minimum value used for the normalisation is the minimum value in the dataset, which is 0.004. This value corresponds to country: 21    Australia\n",
      "22    Australia\n",
      "23    Australia\n",
      "Name: COUNTRY_NAME, dtype: object \n",
      "\n",
      "\n",
      " This is the distribution of the raw data of the indicator.\n",
      "AxesSubplot(0.125,0.125;0.775x0.755)\n",
      "\n",
      " The shape of the dataframe should be 195 x X. It is:  (195, 35) \n",
      " \n",
      " \n",
      " This is the end of loop #3. \n",
      " - \n",
      " \n"
     ]
    },
    {
     "name": "stderr",
     "output_type": "stream",
     "text": [
      "D:\\Documents\\2020\\28_UNICEF\\10_working_repo\\data-etl\\normalize\\scaler.py:243: SettingWithCopyWarning: \n",
      "A value is trying to be set on a copy of a slice from a DataFrame.\n",
      "Try using .loc[row_indexer,col_indexer] = value instead\n",
      "\n",
      "See the caveats in the documentation: https://pandas.pydata.org/pandas-docs/stable/user_guide/indexing.html#returning-a-view-versus-a-copy\n",
      "  cleansed_data_subset['SCALED'] = round(10 - 10 * (cleansed_data_subset[indicator_raw_value].astype('float') - min_val)/ tot_range, 2)\n",
      "D:\\Documents\\2020\\28_UNICEF\\10_working_repo\\data-etl\\normalize\\scaler.py:243: SettingWithCopyWarning: \n",
      "A value is trying to be set on a copy of a slice from a DataFrame.\n",
      "Try using .loc[row_indexer,col_indexer] = value instead\n",
      "\n",
      "See the caveats in the documentation: https://pandas.pydata.org/pandas-docs/stable/user_guide/indexing.html#returning-a-view-versus-a-copy\n",
      "  cleansed_data_subset['SCALED'] = round(10 - 10 * (cleansed_data_subset[indicator_raw_value].astype('float') - min_val)/ tot_range, 2)\n"
     ]
    },
    {
     "name": "stdout",
     "output_type": "stream",
     "text": [
      "\n",
      " - \n",
      "\n",
      "In the loop we are currently dealing with the subset #4, which has these defining values: \n",
      " \n",
      "      goal    target   indicator       series  \\\n",
      "2  ['13']  ['13.1']  ['13.1.1']  VC_DSR_MTMP   \n",
      "\n",
      "                                   seriesDescription seriesCount  \\\n",
      "2  Number of deaths and missing persons attribute...        1196   \n",
      "\n",
      "  dimensions.Reporting Type  \n",
      "2                         G  \n",
      "\n",
      " The shape of the subset in the cleansed dataset is: (137, 30) \n",
      " \n",
      " \n",
      "The distribution of the raw data values this subgroup contains outliers or is too skewed on the upper end. The maximum value to be used for the normalisation is: 3rd quartile or distribution + 1.5 * IQR. It is: 2.8352049999999998 \n",
      " See histogram printed below for info. \n",
      "\n",
      "The distribution of the raw data for this subgroup does not contain outliers or is too skewed on the lower end. The minimum value used for the normalisation is the minimum value in the dataset, which is 0.004. This value corresponds to country: 21    Australia\n",
      "22    Australia\n",
      "23    Australia\n",
      "Name: COUNTRY_NAME, dtype: object \n",
      "\n",
      "\n",
      " This is the distribution of the raw data of the indicator.\n",
      "AxesSubplot(0.125,0.125;0.775x0.755)\n",
      "\n",
      " The shape of the dataframe should be 195 x X. It is:  (195, 35) \n",
      " \n",
      " \n",
      " This is the end of loop #4. \n",
      " - \n",
      " \n",
      "The number of rows of the final dataframe (before the conversion from wide to long format is) is divisible by 195. It is: (585, 38)\n"
     ]
    },
    {
     "name": "stderr",
     "output_type": "stream",
     "text": [
      "D:\\Documents\\2020\\28_UNICEF\\10_working_repo\\data-etl\\normalize\\scaler.py:243: SettingWithCopyWarning: \n",
      "A value is trying to be set on a copy of a slice from a DataFrame.\n",
      "Try using .loc[row_indexer,col_indexer] = value instead\n",
      "\n",
      "See the caveats in the documentation: https://pandas.pydata.org/pandas-docs/stable/user_guide/indexing.html#returning-a-view-versus-a-copy\n",
      "  cleansed_data_subset['SCALED'] = round(10 - 10 * (cleansed_data_subset[indicator_raw_value].astype('float') - min_val)/ tot_range, 2)\n"
     ]
    },
    {
     "name": "stdout",
     "output_type": "stream",
     "text": [
      "The raw data has been saved as .xlsx file in: D:\\Documents\\2020\\28_UNICEF\\10_working_repo\\data-etl\\data\\data_normalized\\\n"
     ]
    },
    {
     "data": {
      "image/png": "[encoded data removed]",
      "text/plain": [
       "<Figure size 432x288 with 1 Axes>"
      ]
     },
     "metadata": {
      "needs_background": "light"
     },
     "output_type": "display_data"
    }
   ],
   "source": [
    "# Scale the raw data and bring the dataframe into long formmat\n",
    "s184_normalized = scaler.normalizer(cleansed_data = s184_cleansed,\n",
    "                        indicator_raw_value = 'value',\n",
    "                        indicator_code = '3.4.1',\n",
    "                        indicator_name = 'Deaths associated with disasters',\n",
    "                        cleansed_df_iso2_col = 'CountryIso2',\n",
    "                        crba_final_country_list = country_crba_list,\n",
    "                        crba_final_country_list_iso_col = 'COUNTRY_ISO_2',\n",
    "                        inverted = True,\n",
    "                        non_dim_cols = ['geoAreaCode',\n",
    "                                        'geoAreaName',\n",
    "                                        'timePeriodStart',\n",
    "                                        'value',\n",
    "                                        'valueType',\n",
    "                                        'time_detail',\n",
    "                                        'timeCoverage',\n",
    "                                        'upperBound',\n",
    "                                        'lowerBound',\n",
    "                                        'basePeriod',\n",
    "                                        'source',\n",
    "                                        'geoInfoUrl',\n",
    "                                        'footnotes',\n",
    "                                        'attributes.Nature',\n",
    "                                        'attributes.Units',\n",
    "                                        'Unnamed: 0', \n",
    "                                        'CountryDesc',\n",
    "                                        'CountryIso2',\n",
    "                                        'CountryIso3',\n",
    "                                        'COUNTRY_ISO_2',\n",
    "                                        'COUNTRY_ISO_3',\n",
    "                                        'COUNTRY_NAME',\n",
    "                                        '_merge']\n",
    "                       )\n",
    "\n",
    "# save normalized data\n",
    "save_normalized_data.save_normalized_data(dataframe = s184_normalized,\n",
    "             filename = 'S_184_normalized.xlsx')"
   ]
  },
  {
   "cell_type": "markdown",
   "metadata": {},
   "source": [
    "### Select only those rows/ columns which are relevant \n",
    "\n",
    "* < to do >\n",
    "* Right now, the normalized dataset contains data on ALL subsets (which are defined by the dimension values). Ultimately, there has to be a commitment to one Subset of an indicator \n",
    "* But this filtering to exactly one dimension (i.e. one row per country) will be done later"
   ]
  },
  {
   "cell_type": "markdown",
   "metadata": {},
   "source": [
    "## S-185 Number of people whose livelihoods were disrupted or destroyed, attributed to disasters (number) VC_DSR_PDLN\n",
    "### Extraction"
   ]
  },
  {
   "cell_type": "code",
   "execution_count": 10,
   "metadata": {
    "scrolled": true
   },
   "outputs": [
    {
     "name": "stdout",
     "output_type": "stream",
     "text": [
      "The following columns are present in the datasets, and this is the number of unique values they have. \n",
      "The column goal has 3 unique values.\n",
      "The column target has 3 unique values.\n",
      "The column indicator has 3 unique values.\n",
      "The column series has 1 unique values.\n",
      "The column seriesDescription has 1 unique values.\n",
      "The column seriesCount has 1 unique values.\n",
      "The column geoAreaCode has 141 unique values.\n",
      "The column geoAreaName has 141 unique values.\n",
      "The column timePeriodStart has 15 unique values.\n",
      "The column value has 1193 unique values.\n",
      "The column valueType has 1 unique values.\n",
      "The column time_detail has 1 unique values.\n",
      "The column timeCoverage has 1 unique values.\n",
      "The column upperBound has 1 unique values.\n",
      "The column lowerBound has 1 unique values.\n",
      "The column basePeriod has 1 unique values.\n",
      "The column source has 1 unique values.\n",
      "The column geoInfoUrl has 1 unique values.\n",
      "The column footnotes has 2 unique values.\n",
      "The column attributes.Nature has 1 unique values.\n",
      "The column attributes.Units has 1 unique values.\n",
      "The column dimensions.Reporting Type has 1 unique values.\n",
      "The raw data has been saved as .xlsx file in: D:\\Documents\\2020\\28_UNICEF\\10_working_repo\\data-etl\\data\\data_raw\\\n"
     ]
    }
   ],
   "source": [
    "# Extract data\n",
    "s185_raw = extract_sdg_api_data(series_code = 'VC_DSR_MTMP')\n",
    "\n",
    "# Save raw data\n",
    "save_raw_data.save_raw_data(dataframe = s185_raw,\n",
    "              filename = 'S_185.xlsx')"
   ]
  },
  {
   "cell_type": "markdown",
   "metadata": {},
   "source": [
    "### Cleanse"
   ]
  },
  {
   "cell_type": "code",
   "execution_count": 11,
   "metadata": {},
   "outputs": [
    {
     "name": "stdout",
     "output_type": "stream",
     "text": [
      "The raw data has been saved as .xlsx file in: D:\\Documents\\2020\\28_UNICEF\\10_working_repo\\data-etl\\data\\data_cleansed\\\n"
     ]
    }
   ],
   "source": [
    "# Transform the raw data\n",
    "s185_cleansed = cleanse_sdg_api_data(raw_data = s185_raw,\n",
    "                                   country_list_full = country_full_list,\n",
    "                                   country_list_full_name_col = 'CountryDesc',\n",
    "                                   country_list_full_iso2_col = 'CountryIso2',\n",
    "                                   country_df = country_crba_list,\n",
    "                                   country_df_iso2_col = 'COUNTRY_ISO_2',\n",
    "                                   non_dim_cols = ['value',\n",
    "                                                  'source',\n",
    "                                                  'footnotes',\n",
    "                                                  'attributes.Nature',\n",
    "                                                  'timePeriodStart',\n",
    "                                                  'Unnamed: 0',\n",
    "                                                  'upperBound',\n",
    "                                                  'lowerBound',\n",
    "                                                  'attributes.Nature'] \n",
    "                                   )\n",
    "\n",
    "# save cleansed data\n",
    "save_cleansed_data(dataframe = s185_cleansed,\n",
    "             filename = 'S_185_cleansed.xlsx')"
   ]
  },
  {
   "cell_type": "markdown",
   "metadata": {},
   "source": [
    "### Normalization (scaling)"
   ]
  },
  {
   "cell_type": "code",
   "execution_count": 13,
   "metadata": {},
   "outputs": [
    {
     "name": "stdout",
     "output_type": "stream",
     "text": [
      "You have a selected a few columns, which will not be regarded as dimensions. These are the remaining columns in the dataset, along with the number of values they take in the dataset.\n",
      "The column goal has 3 unique values.\n",
      "The column target has 3 unique values.\n",
      "The column indicator has 3 unique values.\n",
      "The column series has 1 unique values.\n",
      "The column seriesDescription has 1 unique values.\n",
      "The column seriesCount has 1 unique values.\n",
      "The column dimensions.Reporting Type has 1 unique values.\n",
      "The total number of subgroups in the dataset is therefore: 27\n",
      "\n",
      " - \n",
      "\n",
      "In the loop we are currently dealing with the subset #1, which has these defining values: \n",
      " \n",
      " Empty DataFrame\n",
      "Columns: [goal, target, indicator, series, seriesDescription, seriesCount, dimensions.Reporting Type]\n",
      "Index: []\n",
      "\n",
      " The shape of the subset in the cleansed dataset is: (0, 30) \n",
      " \n",
      " \n",
      "Dataframe is empty. There are no values to append.\n",
      " \n",
      " This is the end of loop #1. \n",
      " - \n",
      " \n",
      "\n",
      " - \n",
      "\n",
      "In the loop we are currently dealing with the subset #2, which has these defining values: \n",
      " \n",
      "     goal   target  indicator       series  \\\n",
      "0  ['1']  ['1.5']  ['1.5.1']  VC_DSR_MTMP   \n",
      "\n",
      "                                   seriesDescription seriesCount  \\\n",
      "0  Number of deaths and missing persons attribute...        1196   \n",
      "\n",
      "  dimensions.Reporting Type  \n",
      "0                         G  \n",
      "\n",
      " The shape of the subset in the cleansed dataset is: (137, 30) \n",
      " \n",
      " \n",
      "The distribution of the raw data values this subgroup contains outliers or is too skewed on the upper end. The maximum value to be used for the normalisation is: 3rd quartile or distribution + 1.5 * IQR. It is: 2.8352049999999998 \n",
      " See histogram printed below for info. \n",
      "\n",
      "The distribution of the raw data for this subgroup does not contain outliers or is too skewed on the lower end. The minimum value used for the normalisation is the minimum value in the dataset, which is 0.004. This value corresponds to country: 21    Australia\n",
      "22    Australia\n",
      "23    Australia\n",
      "Name: COUNTRY_NAME, dtype: object \n",
      "\n",
      "\n",
      " This is the distribution of the raw data of the indicator.\n",
      "AxesSubplot(0.125,0.125;0.775x0.755)\n",
      "\n",
      " The shape of the dataframe should be 195 x X. It is:  (195, 35) \n",
      " \n",
      " \n",
      " This is the end of loop #2. \n",
      " - \n",
      " \n",
      "\n",
      " - \n",
      "\n",
      "In the loop we are currently dealing with the subset #3, which has these defining values: \n",
      " \n",
      "      goal    target   indicator       series  \\\n",
      "1  ['11']  ['11.5']  ['11.5.1']  VC_DSR_MTMP   \n",
      "\n",
      "                                   seriesDescription seriesCount  \\\n",
      "1  Number of deaths and missing persons attribute...        1196   \n",
      "\n",
      "  dimensions.Reporting Type  \n",
      "1                         G  \n",
      "\n",
      " The shape of the subset in the cleansed dataset is: (137, 30) \n",
      " \n",
      " \n",
      "The distribution of the raw data values this subgroup contains outliers or is too skewed on the upper end. The maximum value to be used for the normalisation is: 3rd quartile or distribution + 1.5 * IQR. It is: 2.8352049999999998 \n",
      " See histogram printed below for info. \n",
      "\n"
     ]
    },
    {
     "name": "stderr",
     "output_type": "stream",
     "text": [
      "D:\\Documents\\2020\\28_UNICEF\\10_working_repo\\data-etl\\normalize\\scaler.py:243: SettingWithCopyWarning: \n",
      "A value is trying to be set on a copy of a slice from a DataFrame.\n",
      "Try using .loc[row_indexer,col_indexer] = value instead\n",
      "\n",
      "See the caveats in the documentation: https://pandas.pydata.org/pandas-docs/stable/user_guide/indexing.html#returning-a-view-versus-a-copy\n",
      "  cleansed_data_subset['SCALED'] = round(10 - 10 * (cleansed_data_subset[indicator_raw_value].astype('float') - min_val)/ tot_range, 2)\n",
      "D:\\Documents\\2020\\28_UNICEF\\10_working_repo\\data-etl\\normalize\\scaler.py:243: SettingWithCopyWarning: \n",
      "A value is trying to be set on a copy of a slice from a DataFrame.\n",
      "Try using .loc[row_indexer,col_indexer] = value instead\n",
      "\n",
      "See the caveats in the documentation: https://pandas.pydata.org/pandas-docs/stable/user_guide/indexing.html#returning-a-view-versus-a-copy\n",
      "  cleansed_data_subset['SCALED'] = round(10 - 10 * (cleansed_data_subset[indicator_raw_value].astype('float') - min_val)/ tot_range, 2)\n"
     ]
    },
    {
     "name": "stdout",
     "output_type": "stream",
     "text": [
      "The distribution of the raw data for this subgroup does not contain outliers or is too skewed on the lower end. The minimum value used for the normalisation is the minimum value in the dataset, which is 0.004. This value corresponds to country: 21    Australia\n",
      "22    Australia\n",
      "23    Australia\n",
      "Name: COUNTRY_NAME, dtype: object \n",
      "\n",
      "\n",
      " This is the distribution of the raw data of the indicator.\n",
      "AxesSubplot(0.125,0.125;0.775x0.755)\n",
      "\n",
      " The shape of the dataframe should be 195 x X. It is:  (195, 35) \n",
      " \n",
      " \n",
      " This is the end of loop #3. \n",
      " - \n",
      " \n",
      "\n",
      " - \n",
      "\n",
      "In the loop we are currently dealing with the subset #4, which has these defining values: \n",
      " \n",
      "      goal    target   indicator       series  \\\n",
      "2  ['13']  ['13.1']  ['13.1.1']  VC_DSR_MTMP   \n",
      "\n",
      "                                   seriesDescription seriesCount  \\\n",
      "2  Number of deaths and missing persons attribute...        1196   \n",
      "\n",
      "  dimensions.Reporting Type  \n",
      "2                         G  \n",
      "\n",
      " The shape of the subset in the cleansed dataset is: (137, 30) \n",
      " \n",
      " \n",
      "The distribution of the raw data values this subgroup contains outliers or is too skewed on the upper end. The maximum value to be used for the normalisation is: 3rd quartile or distribution + 1.5 * IQR. It is: 2.8352049999999998 \n",
      " See histogram printed below for info. \n",
      "\n",
      "The distribution of the raw data for this subgroup does not contain outliers or is too skewed on the lower end. The minimum value used for the normalisation is the minimum value in the dataset, which is 0.004. This value corresponds to country: 21    Australia\n",
      "22    Australia\n",
      "23    Australia\n",
      "Name: COUNTRY_NAME, dtype: object \n",
      "\n",
      "\n",
      " This is the distribution of the raw data of the indicator.\n",
      "AxesSubplot(0.125,0.125;0.775x0.755)\n"
     ]
    },
    {
     "name": "stderr",
     "output_type": "stream",
     "text": [
      "D:\\Documents\\2020\\28_UNICEF\\10_working_repo\\data-etl\\normalize\\scaler.py:243: SettingWithCopyWarning: \n",
      "A value is trying to be set on a copy of a slice from a DataFrame.\n",
      "Try using .loc[row_indexer,col_indexer] = value instead\n",
      "\n",
      "See the caveats in the documentation: https://pandas.pydata.org/pandas-docs/stable/user_guide/indexing.html#returning-a-view-versus-a-copy\n",
      "  cleansed_data_subset['SCALED'] = round(10 - 10 * (cleansed_data_subset[indicator_raw_value].astype('float') - min_val)/ tot_range, 2)\n"
     ]
    },
    {
     "name": "stdout",
     "output_type": "stream",
     "text": [
      "\n",
      " The shape of the dataframe should be 195 x X. It is:  (195, 35) \n",
      " \n",
      " \n",
      " This is the end of loop #4. \n",
      " - \n",
      " \n",
      "The number of rows of the final dataframe (before the conversion from wide to long format is) is divisible by 195. It is: (585, 38)\n",
      "The raw data has been saved as .xlsx file in: D:\\Documents\\2020\\28_UNICEF\\10_working_repo\\data-etl\\data\\data_normalized\\\n"
     ]
    },
    {
     "data": {
      "image/png": "[encoded data removed]",
      "text/plain": [
       "<Figure size 432x288 with 1 Axes>"
      ]
     },
     "metadata": {
      "needs_background": "light"
     },
     "output_type": "display_data"
    }
   ],
   "source": [
    "# Scale the raw data and bring the dataframe into long formmat\n",
    "s185_normalized = scaler.normalizer(cleansed_data = s185_cleansed,\n",
    "                        indicator_raw_value = 'value',\n",
    "                        indicator_code = 'NEW',\n",
    "                        indicator_name = 'Damaged livelihoods associated with disasters',\n",
    "                        cleansed_df_iso2_col = 'CountryIso2',\n",
    "                        crba_final_country_list = country_crba_list,\n",
    "                        crba_final_country_list_iso_col = 'COUNTRY_ISO_2',\n",
    "                        inverted = True,\n",
    "                        non_dim_cols = ['geoAreaCode',\n",
    "                                        'geoAreaName',\n",
    "                                        'timePeriodStart',\n",
    "                                        'value',\n",
    "                                        'valueType',\n",
    "                                        'time_detail',\n",
    "                                        'timeCoverage',\n",
    "                                        'upperBound',\n",
    "                                        'lowerBound',\n",
    "                                        'basePeriod',\n",
    "                                        'source',\n",
    "                                        'geoInfoUrl',\n",
    "                                        'footnotes',\n",
    "                                        'attributes.Nature',\n",
    "                                        'attributes.Units',\n",
    "                                        'Unnamed: 0', \n",
    "                                        'CountryDesc',\n",
    "                                        'CountryIso2',\n",
    "                                        'CountryIso3',\n",
    "                                        'COUNTRY_ISO_2',\n",
    "                                        'COUNTRY_ISO_3',\n",
    "                                        'COUNTRY_NAME',\n",
    "                                        '_merge']\n",
    "                       )\n",
    "\n",
    "# save normalized data\n",
    "save_normalized_data.save_normalized_data(dataframe = s185_normalized,\n",
    "             filename = 'S_185_normalized.xlsx')"
   ]
  },
  {
   "cell_type": "markdown",
   "metadata": {},
   "source": [
    "### Select only those rows/ columns which are relevant \n",
    "\n",
    "* < to do >\n",
    "* Right now, the normalized dataset contains data on ALL subsets (which are defined by the dimension values). Ultimately, there has to be a commitment to one Subset of an indicator \n",
    "* But this filtering to exactly one dimension (i.e. one row per country) will be done later"
   ]
  },
  {
   "cell_type": "markdown",
   "metadata": {},
   "source": [
    "## S-186 SDG Indicator 11.5.2 Number of disruptions to educational services attributed to disasters (number) VC_DSR_ESDN\n",
    "### Extraction"
   ]
  },
  {
   "cell_type": "code",
   "execution_count": 17,
   "metadata": {
    "scrolled": true
   },
   "outputs": [
    {
     "name": "stdout",
     "output_type": "stream",
     "text": [
      "The following columns are present in the datasets, and this is the number of unique values they have. \n",
      "The column goal has 1 unique values.\n",
      "The column target has 1 unique values.\n",
      "The column indicator has 1 unique values.\n",
      "The column series has 1 unique values.\n",
      "The column seriesDescription has 1 unique values.\n",
      "The column seriesCount has 1 unique values.\n",
      "The column geoAreaCode has 95 unique values.\n",
      "The column geoAreaName has 95 unique values.\n",
      "The column timePeriodStart has 15 unique values.\n",
      "The column value has 84 unique values.\n",
      "The column valueType has 1 unique values.\n",
      "The column time_detail has 1 unique values.\n",
      "The column timeCoverage has 1 unique values.\n",
      "The column upperBound has 1 unique values.\n",
      "The column lowerBound has 1 unique values.\n",
      "The column basePeriod has 1 unique values.\n",
      "The column source has 1 unique values.\n",
      "The column geoInfoUrl has 1 unique values.\n",
      "The column footnotes has 1 unique values.\n",
      "The column attributes.Nature has 1 unique values.\n",
      "The column attributes.Units has 1 unique values.\n",
      "The column dimensions.Reporting Type has 1 unique values.\n",
      "The raw data has been saved as .xlsx file in: D:\\Documents\\2020\\28_UNICEF\\10_working_repo\\data-etl\\data\\data_raw\\\n"
     ]
    }
   ],
   "source": [
    "# Extract data\n",
    "s186_raw = extract_sdg_api_data(series_code = 'VC_DSR_ESDN')\n",
    "\n",
    "# Save raw data\n",
    "save_raw_data.save_raw_data(dataframe = s186_raw,\n",
    "              filename = 'S_186.xlsx')"
   ]
  },
  {
   "cell_type": "markdown",
   "metadata": {},
   "source": [
    "### Cleanse"
   ]
  },
  {
   "cell_type": "code",
   "execution_count": 18,
   "metadata": {},
   "outputs": [
    {
     "name": "stdout",
     "output_type": "stream",
     "text": [
      "The raw data has been saved as .xlsx file in: D:\\Documents\\2020\\28_UNICEF\\10_working_repo\\data-etl\\data\\data_cleansed\\\n"
     ]
    }
   ],
   "source": [
    "# Transform the raw data\n",
    "s186_cleansed = cleanse_sdg_api_data(raw_data = s186_raw,\n",
    "                                   country_list_full = country_full_list,\n",
    "                                   country_list_full_name_col = 'CountryDesc',\n",
    "                                   country_list_full_iso2_col = 'CountryIso2',\n",
    "                                   country_df = country_crba_list,\n",
    "                                   country_df_iso2_col = 'COUNTRY_ISO_2',\n",
    "                                   non_dim_cols = ['value',\n",
    "                                                  'source',\n",
    "                                                  'footnotes',\n",
    "                                                  'attributes.Nature',\n",
    "                                                  'timePeriodStart',\n",
    "                                                  'Unnamed: 0',\n",
    "                                                  'upperBound',\n",
    "                                                  'lowerBound',\n",
    "                                                  'attributes.Nature'] \n",
    "                                   )\n",
    "\n",
    "# save cleansed data\n",
    "save_cleansed_data(dataframe = s186_cleansed,\n",
    "             filename = 'S_186_cleansed.xlsx')"
   ]
  },
  {
   "cell_type": "markdown",
   "metadata": {},
   "source": [
    "### Normalization (scaling)"
   ]
  },
  {
   "cell_type": "code",
   "execution_count": 19,
   "metadata": {},
   "outputs": [
    {
     "name": "stdout",
     "output_type": "stream",
     "text": [
      "You have a selected a few columns, which will not be regarded as dimensions. These are the remaining columns in the dataset, along with the number of values they take in the dataset.\n",
      "The column goal has 1 unique values.\n",
      "The column target has 1 unique values.\n",
      "The column indicator has 1 unique values.\n",
      "The column series has 1 unique values.\n",
      "The column seriesDescription has 1 unique values.\n",
      "The column seriesCount has 1 unique values.\n",
      "The column dimensions.Reporting Type has 1 unique values.\n",
      "The total number of subgroups in the dataset is therefore: 1\n",
      "\n",
      " - \n",
      "\n",
      "In the loop we are currently dealing with the subset #1, which has these defining values: \n",
      " \n",
      " Empty DataFrame\n",
      "Columns: [goal, target, indicator, series, seriesDescription, seriesCount, dimensions.Reporting Type]\n",
      "Index: []\n",
      "\n",
      " The shape of the subset in the cleansed dataset is: (0, 30) \n",
      " \n",
      " \n",
      "Dataframe is empty. There are no values to append.\n",
      " \n",
      " This is the end of loop #1. \n",
      " - \n",
      " \n",
      "\n",
      " - \n",
      "\n",
      "In the loop we are currently dealing with the subset #2, which has these defining values: \n",
      " \n",
      "      goal    target   indicator       series  \\\n",
      "0  ['11']  ['11.5']  ['11.5.2']  VC_DSR_ESDN   \n",
      "\n",
      "                                   seriesDescription seriesCount  \\\n",
      "0  Number of disruptions to educational services ...         570   \n",
      "\n",
      "  dimensions.Reporting Type  \n",
      "0                         G  \n",
      "\n",
      " The shape of the subset in the cleansed dataset is: (94, 30) \n",
      " \n",
      " \n",
      "The distribution of the raw data values this subgroup contains outliers or is too skewed on the upper end. The maximum value to be used for the normalisation is: 3rd quartile or distribution + 1.5 * IQR. It is: 8.5 \n",
      " See histogram printed below for info. \n",
      "\n",
      "The distribution of the raw data for this subgroup does not contain outliers or is too skewed on the lower end. The minimum value used for the normalisation is the minimum value in the dataset, which is 1.0. This value corresponds to country: 0                          Afghanistan\n",
      "3                  Antigua and Barbuda\n",
      "1                              Albania\n",
      "5                              Armenia\n",
      "2                               Angola\n",
      "4                            Argentina\n",
      "13                            Bulgaria\n",
      "10                              Bhutan\n",
      "78                         Switzerland\n",
      "17                               Chile\n",
      "16                            Cameroon\n",
      "18                            Colombia\n",
      "19                          Costa Rica\n",
      "14                          Cabo Verde\n",
      "20                            Dominica\n",
      "24                                Fiji\n",
      "50                          Micronesia\n",
      "27                             Grenada\n",
      "26                               Ghana\n",
      "33                             Ireland\n",
      "31                                Iran\n",
      "34                             Jamaica\n",
      "36                              Jordan\n",
      "35                               Japan\n",
      "40                          Kyrgyzstan\n",
      "64                         South Korea\n",
      "37                          Kazakhstan\n",
      "42                             Lebanon\n",
      "68                         Saint Lucia\n",
      "53                             Myanmar\n",
      "48                           Mauritius\n",
      "44                              Malawi\n",
      "49                              Mexico\n",
      "45                            Malaysia\n",
      "52                          Mozambique\n",
      "61                              Panama\n",
      "63                                Peru\n",
      "76                  State of Palestine\n",
      "60                               Palau\n",
      "62                            Paraguay\n",
      "65                             Romania\n",
      "75                     Solomon Islands\n",
      "74                            Slovenia\n",
      "22                         El Salvador\n",
      "23                           Swaziland\n",
      "82                                Togo\n",
      "80                          Tajikistan\n",
      "81                         Timor-Leste\n",
      "85                             Tunisia\n",
      "83                               Tonga\n",
      "86                              Turkey\n",
      "84                 Trinidad and Tobago\n",
      "88                             Ukraine\n",
      "69    Saint Vincent and The Grenadines\n",
      "91                           Venezuela\n",
      "90                             Vanuatu\n",
      "70                               Samoa\n",
      "39                              Kosovo\n",
      "Name: COUNTRY_NAME, dtype: object \n",
      "\n",
      "\n",
      " This is the distribution of the raw data of the indicator.\n",
      "AxesSubplot(0.125,0.125;0.775x0.755)\n",
      "\n",
      " The shape of the dataframe should be 195 x X. It is:  (195, 35) \n",
      " \n",
      " \n",
      " This is the end of loop #2. \n",
      " - \n",
      " \n",
      "The number of rows of the final dataframe (before the conversion from wide to long format is) is divisible by 195. It is: (195, 38)\n"
     ]
    },
    {
     "name": "stderr",
     "output_type": "stream",
     "text": [
      "D:\\Documents\\2020\\28_UNICEF\\10_working_repo\\data-etl\\normalize\\scaler.py:243: SettingWithCopyWarning: \n",
      "A value is trying to be set on a copy of a slice from a DataFrame.\n",
      "Try using .loc[row_indexer,col_indexer] = value instead\n",
      "\n",
      "See the caveats in the documentation: https://pandas.pydata.org/pandas-docs/stable/user_guide/indexing.html#returning-a-view-versus-a-copy\n",
      "  cleansed_data_subset['SCALED'] = round(10 - 10 * (cleansed_data_subset[indicator_raw_value].astype('float') - min_val)/ tot_range, 2)\n"
     ]
    },
    {
     "name": "stdout",
     "output_type": "stream",
     "text": [
      "The raw data has been saved as .xlsx file in: D:\\Documents\\2020\\28_UNICEF\\10_working_repo\\data-etl\\data\\data_normalized\\\n"
     ]
    },
    {
     "data": {
      "image/png": "[encoded data removed]",
      "text/plain": [
       "<Figure size 432x288 with 1 Axes>"
      ]
     },
     "metadata": {
      "needs_background": "light"
     },
     "output_type": "display_data"
    }
   ],
   "source": [
    "# Scale the raw data and bring the dataframe into long formmat\n",
    "s186_normalized = scaler.normalizer(cleansed_data = s186_cleansed,\n",
    "                        indicator_raw_value = 'value',\n",
    "                        indicator_code = 'NEW',\n",
    "                        indicator_name = 'Disruption to education services',\n",
    "                        cleansed_df_iso2_col = 'CountryIso2',\n",
    "                        crba_final_country_list = country_crba_list,\n",
    "                        crba_final_country_list_iso_col = 'COUNTRY_ISO_2',\n",
    "                        inverted = True,\n",
    "                        non_dim_cols = ['geoAreaCode',\n",
    "                                        'geoAreaName',\n",
    "                                        'timePeriodStart',\n",
    "                                        'value',\n",
    "                                        'valueType',\n",
    "                                        'time_detail',\n",
    "                                        'timeCoverage',\n",
    "                                        'upperBound',\n",
    "                                        'lowerBound',\n",
    "                                        'basePeriod',\n",
    "                                        'source',\n",
    "                                        'geoInfoUrl',\n",
    "                                        'footnotes',\n",
    "                                        'attributes.Nature',\n",
    "                                        'attributes.Units',\n",
    "                                        'Unnamed: 0', \n",
    "                                        'CountryDesc',\n",
    "                                        'CountryIso2',\n",
    "                                        'CountryIso3',\n",
    "                                        'COUNTRY_ISO_2',\n",
    "                                        'COUNTRY_ISO_3',\n",
    "                                        'COUNTRY_NAME',\n",
    "                                        '_merge']\n",
    "                       )\n",
    "\n",
    "# save normalized data\n",
    "save_normalized_data.save_normalized_data(dataframe = s186_normalized,\n",
    "             filename = 'S_186_normalized.xlsx')"
   ]
  },
  {
   "cell_type": "markdown",
   "metadata": {},
   "source": [
    "### Select only those rows/ columns which are relevant \n",
    "\n",
    "* < to do >\n",
    "* Right now, the normalized dataset contains data on ALL subsets (which are defined by the dimension values). Ultimately, there has to be a commitment to one Subset of an indicator \n",
    "* But this filtering to exactly one dimension (i.e. one row per country) will be done later"
   ]
  },
  {
   "cell_type": "markdown",
   "metadata": {},
   "source": [
    "## S-187 Number of disruptions to health services attributed to disasters (number) VC_DSR_HSDN\n",
    "### Extraction"
   ]
  },
  {
   "cell_type": "code",
   "execution_count": 24,
   "metadata": {
    "scrolled": true
   },
   "outputs": [
    {
     "name": "stdout",
     "output_type": "stream",
     "text": [
      "The following columns are present in the datasets, and this is the number of unique values they have. \n",
      "The column goal has 3 unique values.\n",
      "The column target has 3 unique values.\n",
      "The column indicator has 3 unique values.\n",
      "The column series has 1 unique values.\n",
      "The column seriesDescription has 1 unique values.\n",
      "The column seriesCount has 1 unique values.\n",
      "The column geoAreaCode has 141 unique values.\n",
      "The column geoAreaName has 141 unique values.\n",
      "The column timePeriodStart has 15 unique values.\n",
      "The column value has 1193 unique values.\n",
      "The column valueType has 1 unique values.\n",
      "The column time_detail has 1 unique values.\n",
      "The column timeCoverage has 1 unique values.\n",
      "The column upperBound has 1 unique values.\n",
      "The column lowerBound has 1 unique values.\n",
      "The column basePeriod has 1 unique values.\n",
      "The column source has 1 unique values.\n",
      "The column geoInfoUrl has 1 unique values.\n",
      "The column footnotes has 2 unique values.\n",
      "The column attributes.Nature has 1 unique values.\n",
      "The column attributes.Units has 1 unique values.\n",
      "The column dimensions.Reporting Type has 1 unique values.\n",
      "The raw data has been saved as .xlsx file in: D:\\Documents\\2020\\28_UNICEF\\10_working_repo\\data-etl\\data\\data_raw\\\n"
     ]
    }
   ],
   "source": [
    "# Extract data\n",
    "s187_raw = extract_sdg_api_data(series_code = 'VC_DSR_MTMP')\n",
    "\n",
    "# Save raw data\n",
    "save_raw_data.save_raw_data(dataframe = s187_raw,\n",
    "              filename = 'S_187.xlsx')"
   ]
  },
  {
   "cell_type": "markdown",
   "metadata": {},
   "source": [
    "### Cleanse"
   ]
  },
  {
   "cell_type": "code",
   "execution_count": 25,
   "metadata": {},
   "outputs": [
    {
     "name": "stdout",
     "output_type": "stream",
     "text": [
      "The raw data has been saved as .xlsx file in: D:\\Documents\\2020\\28_UNICEF\\10_working_repo\\data-etl\\data\\data_cleansed\\\n"
     ]
    }
   ],
   "source": [
    "# Transform the raw data\n",
    "s187_cleansed = cleanse_sdg_api_data(raw_data = s187_raw,\n",
    "                                   country_list_full = country_full_list,\n",
    "                                   country_list_full_name_col = 'CountryDesc',\n",
    "                                   country_list_full_iso2_col = 'CountryIso2',\n",
    "                                   country_df = country_crba_list,\n",
    "                                   country_df_iso2_col = 'COUNTRY_ISO_2',\n",
    "                                   non_dim_cols = ['value',\n",
    "                                                  'source',\n",
    "                                                  'footnotes',\n",
    "                                                  'attributes.Nature',\n",
    "                                                  'timePeriodStart',\n",
    "                                                  'Unnamed: 0',\n",
    "                                                  'upperBound',\n",
    "                                                  'lowerBound',\n",
    "                                                  'attributes.Nature'] \n",
    "                                   )\n",
    "\n",
    "# save cleansed data\n",
    "save_cleansed_data(dataframe = s187_cleansed,\n",
    "             filename = 'S_187_cleansed.xlsx')"
   ]
  },
  {
   "cell_type": "markdown",
   "metadata": {},
   "source": [
    "### Normalization (scaling)"
   ]
  },
  {
   "cell_type": "code",
   "execution_count": 26,
   "metadata": {},
   "outputs": [
    {
     "name": "stdout",
     "output_type": "stream",
     "text": [
      "You have a selected a few columns, which will not be regarded as dimensions. These are the remaining columns in the dataset, along with the number of values they take in the dataset.\n",
      "The column goal has 3 unique values.\n",
      "The column target has 3 unique values.\n",
      "The column indicator has 3 unique values.\n",
      "The column series has 1 unique values.\n",
      "The column seriesDescription has 1 unique values.\n",
      "The column seriesCount has 1 unique values.\n",
      "The column dimensions.Reporting Type has 1 unique values.\n",
      "The total number of subgroups in the dataset is therefore: 27\n",
      "\n",
      " - \n",
      "\n",
      "In the loop we are currently dealing with the subset #1, which has these defining values: \n",
      " \n",
      " Empty DataFrame\n",
      "Columns: [goal, target, indicator, series, seriesDescription, seriesCount, dimensions.Reporting Type]\n",
      "Index: []\n",
      "\n",
      " The shape of the subset in the cleansed dataset is: (0, 30) \n",
      " \n",
      " \n",
      "Dataframe is empty. There are no values to append.\n",
      " \n",
      " This is the end of loop #1. \n",
      " - \n",
      " \n",
      "\n",
      " - \n",
      "\n",
      "In the loop we are currently dealing with the subset #2, which has these defining values: \n",
      " \n",
      "     goal   target  indicator       series  \\\n",
      "0  ['1']  ['1.5']  ['1.5.1']  VC_DSR_MTMP   \n",
      "\n",
      "                                   seriesDescription seriesCount  \\\n",
      "0  Number of deaths and missing persons attribute...        1196   \n",
      "\n",
      "  dimensions.Reporting Type  \n",
      "0                         G  \n",
      "\n",
      " The shape of the subset in the cleansed dataset is: (137, 30) \n",
      " \n",
      " \n",
      "The distribution of the raw data values this subgroup contains outliers or is too skewed on the upper end. The maximum value to be used for the normalisation is: 3rd quartile or distribution + 1.5 * IQR. It is: 2.8352049999999998 \n",
      " See histogram printed below for info. \n",
      "\n",
      "The distribution of the raw data for this subgroup does not contain outliers or is too skewed on the lower end. The minimum value used for the normalisation is the minimum value in the dataset, which is 0.004. This value corresponds to country: 21    Australia\n",
      "22    Australia\n",
      "23    Australia\n",
      "Name: COUNTRY_NAME, dtype: object \n",
      "\n",
      "\n",
      " This is the distribution of the raw data of the indicator.\n",
      "AxesSubplot(0.125,0.125;0.775x0.755)\n",
      "\n",
      " The shape of the dataframe should be 195 x X. It is:  (195, 35) \n",
      " \n",
      " \n",
      " This is the end of loop #2. \n",
      " - \n",
      " \n"
     ]
    },
    {
     "name": "stderr",
     "output_type": "stream",
     "text": [
      "D:\\Documents\\2020\\28_UNICEF\\10_working_repo\\data-etl\\normalize\\scaler.py:243: SettingWithCopyWarning: \n",
      "A value is trying to be set on a copy of a slice from a DataFrame.\n",
      "Try using .loc[row_indexer,col_indexer] = value instead\n",
      "\n",
      "See the caveats in the documentation: https://pandas.pydata.org/pandas-docs/stable/user_guide/indexing.html#returning-a-view-versus-a-copy\n",
      "  cleansed_data_subset['SCALED'] = round(10 - 10 * (cleansed_data_subset[indicator_raw_value].astype('float') - min_val)/ tot_range, 2)\n",
      "D:\\Documents\\2020\\28_UNICEF\\10_working_repo\\data-etl\\normalize\\scaler.py:243: SettingWithCopyWarning: \n",
      "A value is trying to be set on a copy of a slice from a DataFrame.\n",
      "Try using .loc[row_indexer,col_indexer] = value instead\n",
      "\n",
      "See the caveats in the documentation: https://pandas.pydata.org/pandas-docs/stable/user_guide/indexing.html#returning-a-view-versus-a-copy\n",
      "  cleansed_data_subset['SCALED'] = round(10 - 10 * (cleansed_data_subset[indicator_raw_value].astype('float') - min_val)/ tot_range, 2)\n"
     ]
    },
    {
     "name": "stdout",
     "output_type": "stream",
     "text": [
      "\n",
      " - \n",
      "\n",
      "In the loop we are currently dealing with the subset #3, which has these defining values: \n",
      " \n",
      "      goal    target   indicator       series  \\\n",
      "1  ['11']  ['11.5']  ['11.5.1']  VC_DSR_MTMP   \n",
      "\n",
      "                                   seriesDescription seriesCount  \\\n",
      "1  Number of deaths and missing persons attribute...        1196   \n",
      "\n",
      "  dimensions.Reporting Type  \n",
      "1                         G  \n",
      "\n",
      " The shape of the subset in the cleansed dataset is: (137, 30) \n",
      " \n",
      " \n",
      "The distribution of the raw data values this subgroup contains outliers or is too skewed on the upper end. The maximum value to be used for the normalisation is: 3rd quartile or distribution + 1.5 * IQR. It is: 2.8352049999999998 \n",
      " See histogram printed below for info. \n",
      "\n",
      "The distribution of the raw data for this subgroup does not contain outliers or is too skewed on the lower end. The minimum value used for the normalisation is the minimum value in the dataset, which is 0.004. This value corresponds to country: 21    Australia\n",
      "22    Australia\n",
      "23    Australia\n",
      "Name: COUNTRY_NAME, dtype: object \n",
      "\n",
      "\n",
      " This is the distribution of the raw data of the indicator.\n",
      "AxesSubplot(0.125,0.125;0.775x0.755)\n",
      "\n",
      " The shape of the dataframe should be 195 x X. It is:  (195, 35) \n",
      " \n",
      " \n",
      " This is the end of loop #3. \n",
      " - \n",
      " \n",
      "\n",
      " - \n",
      "\n",
      "In the loop we are currently dealing with the subset #4, which has these defining values: \n",
      " \n",
      "      goal    target   indicator       series  \\\n",
      "2  ['13']  ['13.1']  ['13.1.1']  VC_DSR_MTMP   \n",
      "\n",
      "                                   seriesDescription seriesCount  \\\n",
      "2  Number of deaths and missing persons attribute...        1196   \n",
      "\n",
      "  dimensions.Reporting Type  \n",
      "2                         G  \n",
      "\n",
      " The shape of the subset in the cleansed dataset is: (137, 30) \n",
      " \n",
      " \n",
      "The distribution of the raw data values this subgroup contains outliers or is too skewed on the upper end. The maximum value to be used for the normalisation is: 3rd quartile or distribution + 1.5 * IQR. It is: 2.8352049999999998 \n",
      " See histogram printed below for info. \n",
      "\n",
      "The distribution of the raw data for this subgroup does not contain outliers or is too skewed on the lower end. The minimum value used for the normalisation is the minimum value in the dataset, which is 0.004. This value corresponds to country: 21    Australia\n",
      "22    Australia\n",
      "23    Australia\n",
      "Name: COUNTRY_NAME, dtype: object \n",
      "\n",
      "\n",
      " This is the distribution of the raw data of the indicator.\n",
      "AxesSubplot(0.125,0.125;0.775x0.755)\n",
      "\n",
      " The shape of the dataframe should be 195 x X. It is:  (195, 35) \n",
      " \n",
      " \n",
      " This is the end of loop #4. \n",
      " - \n",
      " \n",
      "The number of rows of the final dataframe (before the conversion from wide to long format is) is divisible by 195. It is: (585, 38)\n"
     ]
    },
    {
     "name": "stderr",
     "output_type": "stream",
     "text": [
      "D:\\Documents\\2020\\28_UNICEF\\10_working_repo\\data-etl\\normalize\\scaler.py:243: SettingWithCopyWarning: \n",
      "A value is trying to be set on a copy of a slice from a DataFrame.\n",
      "Try using .loc[row_indexer,col_indexer] = value instead\n",
      "\n",
      "See the caveats in the documentation: https://pandas.pydata.org/pandas-docs/stable/user_guide/indexing.html#returning-a-view-versus-a-copy\n",
      "  cleansed_data_subset['SCALED'] = round(10 - 10 * (cleansed_data_subset[indicator_raw_value].astype('float') - min_val)/ tot_range, 2)\n"
     ]
    },
    {
     "name": "stdout",
     "output_type": "stream",
     "text": [
      "The raw data has been saved as .xlsx file in: D:\\Documents\\2020\\28_UNICEF\\10_working_repo\\data-etl\\data\\data_normalized\\\n"
     ]
    },
    {
     "data": {
      "image/png": "[encoded data removed]",
      "text/plain": [
       "<Figure size 432x288 with 1 Axes>"
      ]
     },
     "metadata": {
      "needs_background": "light"
     },
     "output_type": "display_data"
    }
   ],
   "source": [
    "# Scale the raw data and bring the dataframe into long formmat\n",
    "s187_normalized = scaler.normalizer(cleansed_data = s187_cleansed,\n",
    "                        indicator_raw_value = 'value',\n",
    "                        indicator_code = 'NEW',\n",
    "                        indicator_name = 'Disruption to health services',\n",
    "                        cleansed_df_iso2_col = 'CountryIso2',\n",
    "                        crba_final_country_list = country_crba_list,\n",
    "                        crba_final_country_list_iso_col = 'COUNTRY_ISO_2',\n",
    "                        inverted = True,\n",
    "                        non_dim_cols = ['geoAreaCode',\n",
    "                                        'geoAreaName',\n",
    "                                        'timePeriodStart',\n",
    "                                        'value',\n",
    "                                        'valueType',\n",
    "                                        'time_detail',\n",
    "                                        'timeCoverage',\n",
    "                                        'upperBound',\n",
    "                                        'lowerBound',\n",
    "                                        'basePeriod',\n",
    "                                        'source',\n",
    "                                        'geoInfoUrl',\n",
    "                                        'footnotes',\n",
    "                                        'attributes.Nature',\n",
    "                                        'attributes.Units',\n",
    "                                        'Unnamed: 0', \n",
    "                                        'CountryDesc',\n",
    "                                        'CountryIso2',\n",
    "                                        'CountryIso3',\n",
    "                                        'COUNTRY_ISO_2',\n",
    "                                        'COUNTRY_ISO_3',\n",
    "                                        'COUNTRY_NAME',\n",
    "                                        '_merge']\n",
    "                       )\n",
    "\n",
    "# save normalized data\n",
    "save_normalized_data.save_normalized_data(dataframe = s187_normalized,\n",
    "             filename = 'S_187_normalized.xlsx')"
   ]
  },
  {
   "cell_type": "markdown",
   "metadata": {},
   "source": [
    "### Select only those rows/ columns which are relevant \n",
    "\n",
    "* < to do >\n",
    "* Right now, the normalized dataset contains data on ALL subsets (which are defined by the dimension values). Ultimately, there has to be a commitment to one Subset of an indicator \n",
    "* But this filtering to exactly one dimension (i.e. one row per country) will be done later"
   ]
  },
  {
   "cell_type": "markdown",
   "metadata": {},
   "source": [
    "## S-188 Number of disruptions to other basic services attributed to disasters (number) VC_DSR_OBDN\n",
    "### Extraction"
   ]
  },
  {
   "cell_type": "code",
   "execution_count": 27,
   "metadata": {
    "scrolled": true
   },
   "outputs": [
    {
     "name": "stdout",
     "output_type": "stream",
     "text": [
      "The following columns are present in the datasets, and this is the number of unique values they have. \n",
      "The column goal has 3 unique values.\n",
      "The column target has 3 unique values.\n",
      "The column indicator has 3 unique values.\n",
      "The column series has 1 unique values.\n",
      "The column seriesDescription has 1 unique values.\n",
      "The column seriesCount has 1 unique values.\n",
      "The column geoAreaCode has 141 unique values.\n",
      "The column geoAreaName has 141 unique values.\n",
      "The column timePeriodStart has 15 unique values.\n",
      "The column value has 1193 unique values.\n",
      "The column valueType has 1 unique values.\n",
      "The column time_detail has 1 unique values.\n",
      "The column timeCoverage has 1 unique values.\n",
      "The column upperBound has 1 unique values.\n",
      "The column lowerBound has 1 unique values.\n",
      "The column basePeriod has 1 unique values.\n",
      "The column source has 1 unique values.\n",
      "The column geoInfoUrl has 1 unique values.\n",
      "The column footnotes has 2 unique values.\n",
      "The column attributes.Nature has 1 unique values.\n",
      "The column attributes.Units has 1 unique values.\n",
      "The column dimensions.Reporting Type has 1 unique values.\n",
      "The raw data has been saved as .xlsx file in: D:\\Documents\\2020\\28_UNICEF\\10_working_repo\\data-etl\\data\\data_raw\\\n"
     ]
    }
   ],
   "source": [
    "# Extract data\n",
    "s188_raw = extract_sdg_api_data(series_code = 'VC_DSR_MTMP')\n",
    "\n",
    "# Save raw data\n",
    "save_raw_data.save_raw_data(dataframe = s188_raw,\n",
    "              filename = 'S_188.xlsx')"
   ]
  },
  {
   "cell_type": "markdown",
   "metadata": {},
   "source": [
    "### Cleanse"
   ]
  },
  {
   "cell_type": "code",
   "execution_count": 28,
   "metadata": {},
   "outputs": [
    {
     "name": "stdout",
     "output_type": "stream",
     "text": [
      "The raw data has been saved as .xlsx file in: D:\\Documents\\2020\\28_UNICEF\\10_working_repo\\data-etl\\data\\data_cleansed\\\n"
     ]
    }
   ],
   "source": [
    "# Transform the raw data\n",
    "s188_cleansed = cleanse_sdg_api_data(raw_data = s188_raw,\n",
    "                                   country_list_full = country_full_list,\n",
    "                                   country_list_full_name_col = 'CountryDesc',\n",
    "                                   country_list_full_iso2_col = 'CountryIso2',\n",
    "                                   country_df = country_crba_list,\n",
    "                                   country_df_iso2_col = 'COUNTRY_ISO_2',\n",
    "                                   non_dim_cols = ['value',\n",
    "                                                  'source',\n",
    "                                                  'footnotes',\n",
    "                                                  'attributes.Nature',\n",
    "                                                  'timePeriodStart',\n",
    "                                                  'Unnamed: 0',\n",
    "                                                  'upperBound',\n",
    "                                                  'lowerBound',\n",
    "                                                  'attributes.Nature'] \n",
    "                                   )\n",
    "\n",
    "# save cleansed data\n",
    "save_cleansed_data(dataframe = s188_cleansed,\n",
    "             filename = 'S_188_cleansed.xlsx')"
   ]
  },
  {
   "cell_type": "markdown",
   "metadata": {},
   "source": [
    "### Normalization (scaling)"
   ]
  },
  {
   "cell_type": "code",
   "execution_count": 29,
   "metadata": {},
   "outputs": [
    {
     "name": "stdout",
     "output_type": "stream",
     "text": [
      "You have a selected a few columns, which will not be regarded as dimensions. These are the remaining columns in the dataset, along with the number of values they take in the dataset.\n",
      "The column goal has 3 unique values.\n",
      "The column target has 3 unique values.\n",
      "The column indicator has 3 unique values.\n",
      "The column series has 1 unique values.\n",
      "The column seriesDescription has 1 unique values.\n",
      "The column seriesCount has 1 unique values.\n",
      "The column dimensions.Reporting Type has 1 unique values.\n",
      "The total number of subgroups in the dataset is therefore: 27\n",
      "\n",
      " - \n",
      "\n",
      "In the loop we are currently dealing with the subset #1, which has these defining values: \n",
      " \n",
      " Empty DataFrame\n",
      "Columns: [goal, target, indicator, series, seriesDescription, seriesCount, dimensions.Reporting Type]\n",
      "Index: []\n",
      "\n",
      " The shape of the subset in the cleansed dataset is: (0, 30) \n",
      " \n",
      " \n",
      "Dataframe is empty. There are no values to append.\n",
      " \n",
      " This is the end of loop #1. \n",
      " - \n",
      " \n",
      "\n",
      " - \n",
      "\n",
      "In the loop we are currently dealing with the subset #2, which has these defining values: \n",
      " \n",
      "     goal   target  indicator       series  \\\n",
      "0  ['1']  ['1.5']  ['1.5.1']  VC_DSR_MTMP   \n",
      "\n",
      "                                   seriesDescription seriesCount  \\\n",
      "0  Number of deaths and missing persons attribute...        1196   \n",
      "\n",
      "  dimensions.Reporting Type  \n",
      "0                         G  \n",
      "\n",
      " The shape of the subset in the cleansed dataset is: (137, 30) \n",
      " \n",
      " \n",
      "The distribution of the raw data values this subgroup contains outliers or is too skewed on the upper end. The maximum value to be used for the normalisation is: 3rd quartile or distribution + 1.5 * IQR. It is: 2.8352049999999998 \n",
      " See histogram printed below for info. \n",
      "\n",
      "The distribution of the raw data for this subgroup does not contain outliers or is too skewed on the lower end. The minimum value used for the normalisation is the minimum value in the dataset, which is 0.004. This value corresponds to country: 21    Australia\n",
      "22    Australia\n",
      "23    Australia\n",
      "Name: COUNTRY_NAME, dtype: object \n",
      "\n",
      "\n",
      " This is the distribution of the raw data of the indicator.\n",
      "AxesSubplot(0.125,0.125;0.775x0.755)\n",
      "\n",
      " The shape of the dataframe should be 195 x X. It is:  (195, 35) \n",
      " \n",
      " \n",
      " This is the end of loop #2. \n",
      " - \n",
      " \n",
      "\n",
      " - \n",
      "\n",
      "In the loop we are currently dealing with the subset #3, which has these defining values: \n",
      " \n",
      "      goal    target   indicator       series  \\\n",
      "1  ['11']  ['11.5']  ['11.5.1']  VC_DSR_MTMP   \n",
      "\n",
      "                                   seriesDescription seriesCount  \\\n",
      "1  Number of deaths and missing persons attribute...        1196   \n",
      "\n",
      "  dimensions.Reporting Type  \n",
      "1                         G  \n",
      "\n",
      " The shape of the subset in the cleansed dataset is: (137, 30) \n",
      " \n",
      " \n",
      "The distribution of the raw data values this subgroup contains outliers or is too skewed on the upper end. The maximum value to be used for the normalisation is: 3rd quartile or distribution + 1.5 * IQR. It is: 2.8352049999999998 \n",
      " See histogram printed below for info. \n",
      "\n",
      "The distribution of the raw data for this subgroup does not contain outliers or is too skewed on the lower end. The minimum value used for the normalisation is the minimum value in the dataset, which is 0.004. This value corresponds to country: 21    Australia\n",
      "22    Australia\n",
      "23    Australia\n",
      "Name: COUNTRY_NAME, dtype: object \n",
      "\n",
      "\n",
      " This is the distribution of the raw data of the indicator.\n",
      "AxesSubplot(0.125,0.125;0.775x0.755)\n"
     ]
    },
    {
     "name": "stderr",
     "output_type": "stream",
     "text": [
      "D:\\Documents\\2020\\28_UNICEF\\10_working_repo\\data-etl\\normalize\\scaler.py:243: SettingWithCopyWarning: \n",
      "A value is trying to be set on a copy of a slice from a DataFrame.\n",
      "Try using .loc[row_indexer,col_indexer] = value instead\n",
      "\n",
      "See the caveats in the documentation: https://pandas.pydata.org/pandas-docs/stable/user_guide/indexing.html#returning-a-view-versus-a-copy\n",
      "  cleansed_data_subset['SCALED'] = round(10 - 10 * (cleansed_data_subset[indicator_raw_value].astype('float') - min_val)/ tot_range, 2)\n",
      "D:\\Documents\\2020\\28_UNICEF\\10_working_repo\\data-etl\\normalize\\scaler.py:243: SettingWithCopyWarning: \n",
      "A value is trying to be set on a copy of a slice from a DataFrame.\n",
      "Try using .loc[row_indexer,col_indexer] = value instead\n",
      "\n",
      "See the caveats in the documentation: https://pandas.pydata.org/pandas-docs/stable/user_guide/indexing.html#returning-a-view-versus-a-copy\n",
      "  cleansed_data_subset['SCALED'] = round(10 - 10 * (cleansed_data_subset[indicator_raw_value].astype('float') - min_val)/ tot_range, 2)\n"
     ]
    },
    {
     "name": "stdout",
     "output_type": "stream",
     "text": [
      "\n",
      " The shape of the dataframe should be 195 x X. It is:  (195, 35) \n",
      " \n",
      " \n",
      " This is the end of loop #3. \n",
      " - \n",
      " \n",
      "\n",
      " - \n",
      "\n",
      "In the loop we are currently dealing with the subset #4, which has these defining values: \n",
      " \n",
      "      goal    target   indicator       series  \\\n",
      "2  ['13']  ['13.1']  ['13.1.1']  VC_DSR_MTMP   \n",
      "\n",
      "                                   seriesDescription seriesCount  \\\n",
      "2  Number of deaths and missing persons attribute...        1196   \n",
      "\n",
      "  dimensions.Reporting Type  \n",
      "2                         G  \n",
      "\n",
      " The shape of the subset in the cleansed dataset is: (137, 30) \n",
      " \n",
      " \n",
      "The distribution of the raw data values this subgroup contains outliers or is too skewed on the upper end. The maximum value to be used for the normalisation is: 3rd quartile or distribution + 1.5 * IQR. It is: 2.8352049999999998 \n",
      " See histogram printed below for info. \n",
      "\n",
      "The distribution of the raw data for this subgroup does not contain outliers or is too skewed on the lower end. The minimum value used for the normalisation is the minimum value in the dataset, which is 0.004. This value corresponds to country: 21    Australia\n",
      "22    Australia\n",
      "23    Australia\n",
      "Name: COUNTRY_NAME, dtype: object \n",
      "\n",
      "\n",
      " This is the distribution of the raw data of the indicator.\n",
      "AxesSubplot(0.125,0.125;0.775x0.755)\n",
      "\n",
      " The shape of the dataframe should be 195 x X. It is:  (195, 35) \n",
      " \n",
      " \n",
      " This is the end of loop #4. \n",
      " - \n",
      " \n",
      "The number of rows of the final dataframe (before the conversion from wide to long format is) is divisible by 195. It is: (585, 38)\n"
     ]
    },
    {
     "name": "stderr",
     "output_type": "stream",
     "text": [
      "D:\\Documents\\2020\\28_UNICEF\\10_working_repo\\data-etl\\normalize\\scaler.py:243: SettingWithCopyWarning: \n",
      "A value is trying to be set on a copy of a slice from a DataFrame.\n",
      "Try using .loc[row_indexer,col_indexer] = value instead\n",
      "\n",
      "See the caveats in the documentation: https://pandas.pydata.org/pandas-docs/stable/user_guide/indexing.html#returning-a-view-versus-a-copy\n",
      "  cleansed_data_subset['SCALED'] = round(10 - 10 * (cleansed_data_subset[indicator_raw_value].astype('float') - min_val)/ tot_range, 2)\n"
     ]
    },
    {
     "name": "stdout",
     "output_type": "stream",
     "text": [
      "The raw data has been saved as .xlsx file in: D:\\Documents\\2020\\28_UNICEF\\10_working_repo\\data-etl\\data\\data_normalized\\\n"
     ]
    },
    {
     "data": {
      "image/png": "[encoded data removed]",
      "text/plain": [
       "<Figure size 432x288 with 1 Axes>"
      ]
     },
     "metadata": {
      "needs_background": "light"
     },
     "output_type": "display_data"
    }
   ],
   "source": [
    "# Scale the raw data and bring the dataframe into long formmat\n",
    "s188_normalized = scaler.normalizer(cleansed_data = s188_cleansed,\n",
    "                        indicator_raw_value = 'value',\n",
    "                        indicator_code = 'NEW',\n",
    "                        indicator_name = 'Damaged livelihoods associated with disasters',\n",
    "                        cleansed_df_iso2_col = 'CountryIso2',\n",
    "                        crba_final_country_list = country_crba_list,\n",
    "                        crba_final_country_list_iso_col = 'COUNTRY_ISO_2',\n",
    "                        inverted = True,\n",
    "                        non_dim_cols = ['geoAreaCode',\n",
    "                                        'geoAreaName',\n",
    "                                        'timePeriodStart',\n",
    "                                        'value',\n",
    "                                        'valueType',\n",
    "                                        'time_detail',\n",
    "                                        'timeCoverage',\n",
    "                                        'upperBound',\n",
    "                                        'lowerBound',\n",
    "                                        'basePeriod',\n",
    "                                        'source',\n",
    "                                        'geoInfoUrl',\n",
    "                                        'footnotes',\n",
    "                                        'attributes.Nature',\n",
    "                                        'attributes.Units',\n",
    "                                        'Unnamed: 0', \n",
    "                                        'CountryDesc',\n",
    "                                        'CountryIso2',\n",
    "                                        'CountryIso3',\n",
    "                                        'COUNTRY_ISO_2',\n",
    "                                        'COUNTRY_ISO_3',\n",
    "                                        'COUNTRY_NAME',\n",
    "                                        '_merge']\n",
    "                       )\n",
    "\n",
    "# save normalized data\n",
    "save_normalized_data.save_normalized_data(dataframe = s188_normalized,\n",
    "             filename = 'S_188_normalized.xlsx')"
   ]
  },
  {
   "cell_type": "markdown",
   "metadata": {},
   "source": [
    "### Select only those rows/ columns which are relevant \n",
    "\n",
    "* < to do >\n",
    "* Right now, the normalized dataset contains data on ALL subsets (which are defined by the dimension values). Ultimately, there has to be a commitment to one Subset of an indicator \n",
    "* But this filtering to exactly one dimension (i.e. one row per country) will be done later"
   ]
  },
  {
   "cell_type": "markdown",
   "metadata": {},
   "source": [
    "## S-198  Proportion of total government spending on essential services, education (%) SD_XPD_ESED\n",
    "### Extraction"
   ]
  },
  {
   "cell_type": "code",
   "execution_count": 33,
   "metadata": {
    "scrolled": true
   },
   "outputs": [
    {
     "name": "stdout",
     "output_type": "stream",
     "text": [
      "The following columns are present in the datasets, and this is the number of unique values they have. \n",
      "The column goal has 1 unique values.\n",
      "The column target has 1 unique values.\n",
      "The column indicator has 1 unique values.\n",
      "The column series has 1 unique values.\n",
      "The column seriesDescription has 1 unique values.\n",
      "The column seriesCount has 1 unique values.\n",
      "The column geoAreaCode has 181 unique values.\n",
      "The column geoAreaName has 181 unique values.\n",
      "The column timePeriodStart has 20 unique values.\n",
      "The column value has 2025 unique values.\n",
      "The column valueType has 1 unique values.\n",
      "The column time_detail has 1 unique values.\n",
      "The column timeCoverage has 1 unique values.\n",
      "The column upperBound has 1 unique values.\n",
      "The column lowerBound has 1 unique values.\n",
      "The column basePeriod has 1 unique values.\n",
      "The column source has 1 unique values.\n",
      "The column geoInfoUrl has 1 unique values.\n",
      "The column footnotes has 1 unique values.\n",
      "The column attributes.Nature has 3 unique values.\n",
      "The column attributes.Units has 1 unique values.\n",
      "The column dimensions.Reporting Type has 1 unique values.\n",
      "The raw data has been saved as .xlsx file in: D:\\Documents\\2020\\28_UNICEF\\10_working_repo\\data-etl\\data\\data_raw\\\n"
     ]
    }
   ],
   "source": [
    "# Extract data\n",
    "s198_raw = extract_sdg_api_data(series_code = 'SD_XPD_ESED')\n",
    "\n",
    "# Save raw data\n",
    "save_raw_data.save_raw_data(dataframe = s198_raw,\n",
    "              filename = 'S_198.xlsx')"
   ]
  },
  {
   "cell_type": "markdown",
   "metadata": {},
   "source": [
    "### Cleanse"
   ]
  },
  {
   "cell_type": "code",
   "execution_count": 34,
   "metadata": {},
   "outputs": [
    {
     "name": "stdout",
     "output_type": "stream",
     "text": [
      "The raw data has been saved as .xlsx file in: D:\\Documents\\2020\\28_UNICEF\\10_working_repo\\data-etl\\data\\data_cleansed\\\n"
     ]
    }
   ],
   "source": [
    "# Transform the raw data\n",
    "s198_cleansed = cleanse_sdg_api_data(raw_data = s198_raw,\n",
    "                                   country_list_full = country_full_list,\n",
    "                                   country_list_full_name_col = 'CountryDesc',\n",
    "                                   country_list_full_iso2_col = 'CountryIso2',\n",
    "                                   country_df = country_crba_list,\n",
    "                                   country_df_iso2_col = 'COUNTRY_ISO_2',\n",
    "                                   non_dim_cols = ['value',\n",
    "                                                  'source',\n",
    "                                                  'footnotes',\n",
    "                                                  'attributes.Nature',\n",
    "                                                  'timePeriodStart',\n",
    "                                                  'Unnamed: 0',\n",
    "                                                  'upperBound',\n",
    "                                                  'lowerBound',\n",
    "                                                  'attributes.Nature'] \n",
    "                                   )\n",
    "\n",
    "# save cleansed data\n",
    "save_cleansed_data(dataframe = s198_cleansed,\n",
    "             filename = 'S_198_cleansed.xlsx')"
   ]
  },
  {
   "cell_type": "markdown",
   "metadata": {},
   "source": [
    "### Normalization (scaling)"
   ]
  },
  {
   "cell_type": "code",
   "execution_count": 35,
   "metadata": {},
   "outputs": [
    {
     "name": "stdout",
     "output_type": "stream",
     "text": [
      "You have a selected a few columns, which will not be regarded as dimensions. These are the remaining columns in the dataset, along with the number of values they take in the dataset.\n",
      "The column goal has 1 unique values.\n",
      "The column target has 1 unique values.\n",
      "The column indicator has 1 unique values.\n",
      "The column series has 1 unique values.\n",
      "The column seriesDescription has 1 unique values.\n",
      "The column seriesCount has 1 unique values.\n",
      "The column dimensions.Reporting Type has 1 unique values.\n",
      "The total number of subgroups in the dataset is therefore: 1\n",
      "\n",
      " - \n",
      "\n",
      "In the loop we are currently dealing with the subset #1, which has these defining values: \n",
      " \n",
      "     goal   target  indicator       series  \\\n",
      "3  ['1']  ['1.a']  ['1.a.2']  SD_XPD_ESED   \n",
      "\n",
      "                                   seriesDescription seriesCount  \\\n",
      "3  Proportion of total government spending on ess...        2044   \n",
      "\n",
      "  dimensions.Reporting Type  \n",
      "3                         G  \n",
      "\n",
      " The shape of the subset in the cleansed dataset is: (174, 30) \n",
      " \n",
      " \n",
      "The distribution of the raw data values this subgroup contains outliers or is too skewed on the upper end. The maximum value to be used for the normalisation is: 3rd quartile or distribution + 1.5 * IQR. It is: 27.798018750000004 \n",
      " See histogram printed below for info. \n",
      "\n",
      "The distribution of the raw data values for this subgroup contains outliers or is too skewed on the lower end. The minimum value to be used for the normalisation is 1st quartile or distribution - 1.5 * IQR. It is: 1.237308749999995 \n",
      " See histogram printed below for info. \n",
      "\n",
      "\n",
      " This is the distribution of the raw data of the indicator.\n",
      "AxesSubplot(0.125,0.125;0.775x0.755)\n",
      "\n",
      " The shape of the dataframe should be 195 x X. It is:  (195, 35) \n",
      " "
     ]
    },
    {
     "name": "stderr",
     "output_type": "stream",
     "text": [
      "D:\\Documents\\2020\\28_UNICEF\\10_working_repo\\data-etl\\normalize\\scaler.py:245: SettingWithCopyWarning: \n",
      "A value is trying to be set on a copy of a slice from a DataFrame.\n",
      "Try using .loc[row_indexer,col_indexer] = value instead\n",
      "\n",
      "See the caveats in the documentation: https://pandas.pydata.org/pandas-docs/stable/user_guide/indexing.html#returning-a-view-versus-a-copy\n",
      "  cleansed_data_subset['SCALED'] = round(10 * (cleansed_data_subset[indicator_raw_value].astype('float') - min_val)/ tot_range, 2)\n"
     ]
    },
    {
     "name": "stdout",
     "output_type": "stream",
     "text": [
      "\n",
      " \n",
      " This is the end of loop #1. \n",
      " - \n",
      " \n",
      "\n",
      " - \n",
      "\n",
      "In the loop we are currently dealing with the subset #2, which has these defining values: \n",
      " \n",
      " Empty DataFrame\n",
      "Columns: [goal, target, indicator, series, seriesDescription, seriesCount, dimensions.Reporting Type]\n",
      "Index: []\n",
      "\n",
      " The shape of the subset in the cleansed dataset is: (0, 30) \n",
      " \n",
      " \n",
      "Dataframe is empty. There are no values to append.\n",
      " \n",
      " This is the end of loop #2. \n",
      " - \n",
      " \n",
      "The number of rows of the final dataframe (before the conversion from wide to long format is) is divisible by 195. It is: (195, 38)\n",
      "The raw data has been saved as .xlsx file in: D:\\Documents\\2020\\28_UNICEF\\10_working_repo\\data-etl\\data\\data_normalized\\\n"
     ]
    },
    {
     "data": {
      "image/png": "[encoded data removed]",
      "text/plain": [
       "<Figure size 432x288 with 1 Axes>"
      ]
     },
     "metadata": {
      "needs_background": "light"
     },
     "output_type": "display_data"
    }
   ],
   "source": [
    "# Scale the raw data and bring the dataframe into long formmat\n",
    "s198_normalized = scaler.normalizer(cleansed_data = s198_cleansed,\n",
    "                        indicator_raw_value = 'value',\n",
    "                        indicator_code = '3.4.2',\n",
    "                        indicator_name = 'Displacements from natural disasters',\n",
    "                        cleansed_df_iso2_col = 'CountryIso2',\n",
    "                        crba_final_country_list = country_crba_list,\n",
    "                        crba_final_country_list_iso_col = 'COUNTRY_ISO_2',\n",
    "                        inverted = False,\n",
    "                        non_dim_cols = ['geoAreaCode',\n",
    "                                        'geoAreaName',\n",
    "                                        'timePeriodStart',\n",
    "                                        'value',\n",
    "                                        'valueType',\n",
    "                                        'time_detail',\n",
    "                                        'timeCoverage',\n",
    "                                        'upperBound',\n",
    "                                        'lowerBound',\n",
    "                                        'basePeriod',\n",
    "                                        'source',\n",
    "                                        'geoInfoUrl',\n",
    "                                        'footnotes',\n",
    "                                        'attributes.Nature',\n",
    "                                        'attributes.Units',\n",
    "                                        'Unnamed: 0', \n",
    "                                        'CountryDesc',\n",
    "                                        'CountryIso2',\n",
    "                                        'CountryIso3',\n",
    "                                        'COUNTRY_ISO_2',\n",
    "                                        'COUNTRY_ISO_3',\n",
    "                                        'COUNTRY_NAME',\n",
    "                                        '_merge']\n",
    "                       )\n",
    "\n",
    "# save normalized data\n",
    "save_normalized_data.save_normalized_data(dataframe = s198_normalized,\n",
    "             filename = 'S_198_normalized.xlsx')"
   ]
  },
  {
   "cell_type": "markdown",
   "metadata": {},
   "source": [
    "### Select only those rows/ columns which are relevant \n",
    "\n",
    "* < to do >\n",
    "* Right now, the normalized dataset contains data on ALL subsets (which are defined by the dimension values). Ultimately, there has to be a commitment to one Subset of an indicator \n",
    "* But this filtering to exactly one dimension (i.e. one row per country) will be done later"
   ]
  },
  {
   "cell_type": "markdown",
   "metadata": {},
   "source": [
    "## S-202   [World Bank] Proportion of population covered by social insurance programs (%) SI_COV_SOCINS\n",
    "### Extraction"
   ]
  },
  {
   "cell_type": "code",
   "execution_count": 38,
   "metadata": {
    "scrolled": true
   },
   "outputs": [
    {
     "name": "stdout",
     "output_type": "stream",
     "text": [
      "The following columns are present in the datasets, and this is the number of unique values they have. \n",
      "The column goal has 1 unique values.\n",
      "The column target has 1 unique values.\n",
      "The column indicator has 1 unique values.\n",
      "The column series has 1 unique values.\n",
      "The column seriesDescription has 1 unique values.\n",
      "The column seriesCount has 1 unique values.\n",
      "The column geoAreaCode has 181 unique values.\n",
      "The column geoAreaName has 181 unique values.\n",
      "The column timePeriodStart has 20 unique values.\n",
      "The column value has 2025 unique values.\n",
      "The column valueType has 1 unique values.\n",
      "The column time_detail has 1 unique values.\n",
      "The column timeCoverage has 1 unique values.\n",
      "The column upperBound has 1 unique values.\n",
      "The column lowerBound has 1 unique values.\n",
      "The column basePeriod has 1 unique values.\n",
      "The column source has 1 unique values.\n",
      "The column geoInfoUrl has 1 unique values.\n",
      "The column footnotes has 1 unique values.\n",
      "The column attributes.Nature has 3 unique values.\n",
      "The column attributes.Units has 1 unique values.\n",
      "The column dimensions.Reporting Type has 1 unique values.\n",
      "The raw data has been saved as .xlsx file in: D:\\Documents\\2020\\28_UNICEF\\10_working_repo\\data-etl\\data\\data_raw\\\n"
     ]
    }
   ],
   "source": [
    "# Extract data\n",
    "s202_raw = extract_sdg_api_data(series_code = 'SD_XPD_ESED')\n",
    "\n",
    "# Save raw data\n",
    "save_raw_data.save_raw_data(dataframe = s202_raw,\n",
    "              filename = 'S_202.xlsx')"
   ]
  },
  {
   "cell_type": "markdown",
   "metadata": {},
   "source": [
    "### Cleanse"
   ]
  },
  {
   "cell_type": "code",
   "execution_count": 39,
   "metadata": {},
   "outputs": [
    {
     "name": "stdout",
     "output_type": "stream",
     "text": [
      "The raw data has been saved as .xlsx file in: D:\\Documents\\2020\\28_UNICEF\\10_working_repo\\data-etl\\data\\data_cleansed\\\n"
     ]
    }
   ],
   "source": [
    "# Transform the raw data\n",
    "s202_cleansed = cleanse_sdg_api_data(raw_data = s202_raw,\n",
    "                                   country_list_full = country_full_list,\n",
    "                                   country_list_full_name_col = 'CountryDesc',\n",
    "                                   country_list_full_iso2_col = 'CountryIso2',\n",
    "                                   country_df = country_crba_list,\n",
    "                                   country_df_iso2_col = 'COUNTRY_ISO_2',\n",
    "                                   non_dim_cols = ['value',\n",
    "                                                  'source',\n",
    "                                                  'footnotes',\n",
    "                                                  'attributes.Nature',\n",
    "                                                  'timePeriodStart',\n",
    "                                                  'Unnamed: 0',\n",
    "                                                  'upperBound',\n",
    "                                                  'lowerBound',\n",
    "                                                  'attributes.Nature'] \n",
    "                                   )\n",
    "\n",
    "# save cleansed data\n",
    "save_cleansed_data(dataframe = s202_cleansed,\n",
    "             filename = 'S_202_cleansed.xlsx')"
   ]
  },
  {
   "cell_type": "markdown",
   "metadata": {},
   "source": [
    "### Normalization (scaling)"
   ]
  },
  {
   "cell_type": "code",
   "execution_count": 40,
   "metadata": {},
   "outputs": [
    {
     "name": "stdout",
     "output_type": "stream",
     "text": [
      "You have a selected a few columns, which will not be regarded as dimensions. These are the remaining columns in the dataset, along with the number of values they take in the dataset.\n",
      "The column goal has 1 unique values.\n",
      "The column target has 1 unique values.\n",
      "The column indicator has 1 unique values.\n",
      "The column series has 1 unique values.\n",
      "The column seriesDescription has 1 unique values.\n",
      "The column seriesCount has 1 unique values.\n",
      "The column dimensions.Reporting Type has 1 unique values.\n",
      "The total number of subgroups in the dataset is therefore: 1\n",
      "\n",
      " - \n",
      "\n",
      "In the loop we are currently dealing with the subset #1, which has these defining values: \n",
      " \n",
      "     goal   target  indicator       series  \\\n",
      "3  ['1']  ['1.a']  ['1.a.2']  SD_XPD_ESED   \n",
      "\n",
      "                                   seriesDescription seriesCount  \\\n",
      "3  Proportion of total government spending on ess...        2044   \n",
      "\n",
      "  dimensions.Reporting Type  \n",
      "3                         G  \n",
      "\n",
      " The shape of the subset in the cleansed dataset is: (174, 30) \n",
      " \n",
      " \n",
      "The distribution of the raw data values this subgroup contains outliers or is too skewed on the upper end. The maximum value to be used for the normalisation is: 3rd quartile or distribution + 1.5 * IQR. It is: 27.798018750000004 \n",
      " See histogram printed below for info. \n",
      "\n",
      "The distribution of the raw data values for this subgroup contains outliers or is too skewed on the lower end. The minimum value to be used for the normalisation is 1st quartile or distribution - 1.5 * IQR. It is: 1.237308749999995 \n",
      " See histogram printed below for info. \n",
      "\n",
      "\n",
      " This is the distribution of the raw data of the indicator.\n",
      "AxesSubplot(0.125,0.125;0.775x0.755)\n",
      "\n",
      " The shape of the dataframe should be 195 x X. It is:  (195, 35) \n",
      " \n",
      " \n",
      " This is the end of loop #1. \n",
      " - \n",
      " \n"
     ]
    },
    {
     "name": "stderr",
     "output_type": "stream",
     "text": [
      "D:\\Documents\\2020\\28_UNICEF\\10_working_repo\\data-etl\\normalize\\scaler.py:245: SettingWithCopyWarning: \n",
      "A value is trying to be set on a copy of a slice from a DataFrame.\n",
      "Try using .loc[row_indexer,col_indexer] = value instead\n",
      "\n",
      "See the caveats in the documentation: https://pandas.pydata.org/pandas-docs/stable/user_guide/indexing.html#returning-a-view-versus-a-copy\n",
      "  cleansed_data_subset['SCALED'] = round(10 * (cleansed_data_subset[indicator_raw_value].astype('float') - min_val)/ tot_range, 2)\n"
     ]
    },
    {
     "name": "stdout",
     "output_type": "stream",
     "text": [
      "\n",
      " - \n",
      "\n",
      "In the loop we are currently dealing with the subset #2, which has these defining values: \n",
      " \n",
      " Empty DataFrame\n",
      "Columns: [goal, target, indicator, series, seriesDescription, seriesCount, dimensions.Reporting Type]\n",
      "Index: []\n",
      "\n",
      " The shape of the subset in the cleansed dataset is: (0, 30) \n",
      " \n",
      " \n",
      "Dataframe is empty. There are no values to append.\n",
      " \n",
      " This is the end of loop #2. \n",
      " - \n",
      " \n",
      "The number of rows of the final dataframe (before the conversion from wide to long format is) is divisible by 195. It is: (195, 38)\n",
      "The raw data has been saved as .xlsx file in: D:\\Documents\\2020\\28_UNICEF\\10_working_repo\\data-etl\\data\\data_normalized\\\n"
     ]
    },
    {
     "data": {
      "image/png": "[encoded data removed]",
      "text/plain": [
       "<Figure size 432x288 with 1 Axes>"
      ]
     },
     "metadata": {
      "needs_background": "light"
     },
     "output_type": "display_data"
    }
   ],
   "source": [
    "# Scale the raw data and bring the dataframe into long formmat\n",
    "s202_normalized = scaler.normalizer(cleansed_data = s202_cleansed,\n",
    "                        indicator_raw_value = 'value',\n",
    "                        indicator_code = '2.1.7',\n",
    "                        indicator_name = 'Social protection coverage',\n",
    "                        cleansed_df_iso2_col = 'CountryIso2',\n",
    "                        crba_final_country_list = country_crba_list,\n",
    "                        crba_final_country_list_iso_col = 'COUNTRY_ISO_2',\n",
    "                        inverted = False,\n",
    "                        non_dim_cols = ['geoAreaCode',\n",
    "                                        'geoAreaName',\n",
    "                                        'timePeriodStart',\n",
    "                                        'value',\n",
    "                                        'valueType',\n",
    "                                        'time_detail',\n",
    "                                        'timeCoverage',\n",
    "                                        'upperBound',\n",
    "                                        'lowerBound',\n",
    "                                        'basePeriod',\n",
    "                                        'source',\n",
    "                                        'geoInfoUrl',\n",
    "                                        'footnotes',\n",
    "                                        'attributes.Nature',\n",
    "                                        'attributes.Units',\n",
    "                                        'Unnamed: 0', \n",
    "                                        'CountryDesc',\n",
    "                                        'CountryIso2',\n",
    "                                        'CountryIso3',\n",
    "                                        'COUNTRY_ISO_2',\n",
    "                                        'COUNTRY_ISO_3',\n",
    "                                        'COUNTRY_NAME',\n",
    "                                        '_merge']\n",
    "                       )\n",
    "\n",
    "# save normalized data\n",
    "save_normalized_data.save_normalized_data(dataframe = s189_normalized,\n",
    "             filename = 'S_189_normalized.xlsx')"
   ]
  },
  {
   "cell_type": "markdown",
   "metadata": {},
   "source": [
    "### Select only those rows/ columns which are relevant \n",
    "\n",
    "* < to do >\n",
    "* Right now, the normalized dataset contains data on ALL subsets (which are defined by the dimension values). Ultimately, there has to be a commitment to one Subset of an indicator \n",
    "* But this filtering to exactly one dimension (i.e. one row per country) will be done later"
   ]
  },
  {
   "cell_type": "markdown",
   "metadata": {},
   "source": [
    "# ILO API Sources: Data extraction - cleansing - normalization"
   ]
  },
  {
   "cell_type": "markdown",
   "metadata": {},
   "source": [
    "## S-50 Gender wage gap (NEW)"
   ]
  },
  {
   "cell_type": "markdown",
   "metadata": {},
   "source": [
    "### Extraction"
   ]
  },
  {
   "cell_type": "code",
   "execution_count": null,
   "metadata": {
    "scrolled": true
   },
   "outputs": [],
   "source": [
    "# Extract raw data\n",
    "s50_raw = extract_ilo_api_data(\n",
    "    api_call_url = 'https://www.ilo.org/sdmx/rest/data/ILO,DF_YI_ALL_EAR_GGAP_OCU_RT/?format=csv&startPeriod=2010-01-01&endPeriod=2020-12-31'\n",
    ")\n",
    "\n",
    "# Save raw data\n",
    "save_raw_data.save_raw_data(dataframe = s50_raw,\n",
    "             filename = 'S_50_raw.xlsx')"
   ]
  },
  {
   "cell_type": "markdown",
   "metadata": {},
   "source": [
    "### Cleansing"
   ]
  },
  {
   "cell_type": "code",
   "execution_count": null,
   "metadata": {},
   "outputs": [],
   "source": [
    "# Obtain latest available observation and discard countries that are not in the final CRBA country list \n",
    "s50_cleansed = cleanse_ilo_api_data(raw_data = s50_raw,\n",
    "                                   raw_data_iso_3_col = 'REF_AREA',\n",
    "                                   country_df = country_crba_list,\n",
    "                                   country_df_iso3_col = 'COUNTRY_ISO_3',\n",
    "                                   non_dim_cols = ['OBS_VALUE',\n",
    "                                                   'TIME_PERIOD',\n",
    "                                                   'SOURCE_NOTE',\n",
    "                                                   'INDICATOR_NOTE', \n",
    "                                                   'CURRENCY_NOTE',\n",
    "                                                   'INDICATOR_NOTE']\n",
    "                                   ) # the variable OBS_STATUS varies, but is an attribute, not a dimension. It specifies how an OBS_VALUE was created (A = standard way, E = estimate)\n",
    "\n",
    "# save cleansed data\n",
    "save_cleansed_data(dataframe = s50_cleansed,\n",
    "             filename = 'S_50_cleansed.xlsx')"
   ]
  },
  {
   "cell_type": "markdown",
   "metadata": {},
   "source": [
    "### Normalization (scaling)"
   ]
  },
  {
   "cell_type": "code",
   "execution_count": null,
   "metadata": {},
   "outputs": [],
   "source": [
    "# Scale the raw data and bring the dataframe into long formmat\n",
    "s50_normalized = scaler.normalizer(cleansed_data = s50_cleansed,\n",
    "                        indicator_raw_value = 'OBS_VALUE',\n",
    "                        indicator_code = 'NEW',\n",
    "                        indicator_name = 'Gender wage pay gap',\n",
    "                        cleansed_df_iso2_col = 'COUNTRY_ISO_2',\n",
    "                        crba_final_country_list = country_crba_list,\n",
    "                        crba_final_country_list_iso_col = 'COUNTRY_ISO_2',\n",
    "                        inverted = True,\n",
    "                        non_dim_cols = ['TIME_PERIOD', \n",
    "                                        'REF_AREA', \n",
    "                                        'OBS_VALUE', \n",
    "                                        'OBS_STATUS', \n",
    "                                        'COUNTRY_ISO_3', \n",
    "                                        'COUNTRY_NAME', \n",
    "                                        'COUNTRY_ISO_2', \n",
    "                                        'SOURCE_NOTE',\n",
    "                                        'CURRENCY_NOTE',\n",
    "                                        'INDICATOR_NOTE', \n",
    "                                        '_merge']\n",
    "                       )\n",
    "\n",
    "# save normalized data\n",
    "save_normalized_data.save_normalized_data(dataframe = s50_normalized,\n",
    "             filename = 'S_50_normalized.xlsx')"
   ]
  },
  {
   "cell_type": "markdown",
   "metadata": {},
   "source": [
    "## S-51 Indicator 3.4.2 Average working hours"
   ]
  },
  {
   "cell_type": "markdown",
   "metadata": {},
   "source": [
    "### Extraction"
   ]
  },
  {
   "cell_type": "code",
   "execution_count": null,
   "metadata": {
    "scrolled": true
   },
   "outputs": [],
   "source": [
    "# Extract raw data\n",
    "s51_raw = extract_ilo_api_data(\n",
    "    api_call_url = 'https://www.ilo.org/sdmx/rest/data/ILO,DF_YI_ALL_HOW_TEMP_SEX_ECO_GEO_NB/?format=csv&startPeriod=2010-01-01&endPeriod=2020-12-31'\n",
    ")\n",
    "\n",
    "# Save raw data\n",
    "save_raw_data.save_raw_data(dataframe = s51_raw,\n",
    "             filename = 'S_51_raw.xlsx')"
   ]
  },
  {
   "cell_type": "markdown",
   "metadata": {},
   "source": [
    "### Cleansing"
   ]
  },
  {
   "cell_type": "code",
   "execution_count": null,
   "metadata": {},
   "outputs": [],
   "source": [
    "# Obtain latest available observation and discard countries that are not in the final CRBA country list \n",
    "s51_cleansed = cleanse_ilo_api_data(raw_data = s51_raw,\n",
    "                                   raw_data_iso_3_col = 'REF_AREA',\n",
    "                                   country_df = country_crba_list,\n",
    "                                   country_df_iso3_col = 'COUNTRY_ISO_3',\n",
    "                                   non_dim_cols = ['OBS_VALUE',\n",
    "                                                   'TIME_PERIOD',\n",
    "                                                   'SOURCE_NOTE',\n",
    "                                                   'OBS_STATUS',\n",
    "                                                   'SOURCE_NOTE', \n",
    "                                                   'INDICATOR_NOTE', \n",
    "                                                   'CURRENCY_NOTE',\n",
    "                                                   'INDICATOR_NOTE']\n",
    "                                   ) # the variable OBS_STATUS varies, but is an attribute, not a dimension. It specifies how an OBS_VALUE was created (A = standard way, E = estimate)\n",
    "\n",
    "# save cleansed data\n",
    "save_cleansed_data(dataframe = s51_cleansed,\n",
    "             filename = 'S_51_cleansed.xlsx')"
   ]
  },
  {
   "cell_type": "markdown",
   "metadata": {},
   "source": [
    "### Normalization (scaling)"
   ]
  },
  {
   "cell_type": "code",
   "execution_count": null,
   "metadata": {},
   "outputs": [],
   "source": [
    "# Scale the raw data and bring the dataframe into long formmat\n",
    "s51_normalized = scaler.normalizer(cleansed_data = s51_cleansed,\n",
    "                        indicator_raw_value = 'OBS_VALUE',\n",
    "                        indicator_code = '3.4.2.',\n",
    "                        indicator_name = 'Average working hours',\n",
    "                        cleansed_df_iso2_col = 'COUNTRY_ISO_2',\n",
    "                        crba_final_country_list = country_crba_list,\n",
    "                        crba_final_country_list_iso_col = 'COUNTRY_ISO_2',\n",
    "                        inverted = True,\n",
    "                        non_dim_cols = ['TIME_PERIOD', \n",
    "                                        'REF_AREA', \n",
    "                                        'OBS_VALUE', \n",
    "                                        'OBS_STATUS', \n",
    "                                        'COUNTRY_ISO_3', \n",
    "                                        'COUNTRY_NAME', \n",
    "                                        'COUNTRY_ISO_2', \n",
    "                                        'SOURCE_NOTE',\n",
    "                                        'CURRENCY_NOTE',\n",
    "                                        'INDICATOR_NOTE', \n",
    "                                        '_merge']\n",
    "                       )\n",
    "\n",
    "# save normalized data\n",
    "save_normalized_data.save_normalized_data(dataframe = s51_normalized,\n",
    "             filename = 'S_51_normalized.xlsx')"
   ]
  },
  {
   "cell_type": "markdown",
   "metadata": {},
   "source": [
    "## S-53 Indicator NEW  Women in management"
   ]
  },
  {
   "cell_type": "markdown",
   "metadata": {},
   "source": [
    "### Extraction"
   ]
  },
  {
   "cell_type": "code",
   "execution_count": null,
   "metadata": {
    "scrolled": true
   },
   "outputs": [],
   "source": [
    "# Extract raw data\n",
    "s53_raw = extract_ilo_api_data(\n",
    "    api_call_url = 'https://www.ilo.org/sdmx/rest/data/ILO,DF_SDG_ALL_SDG_0552_OCU_RT/?format=csv&startPeriod=2010-01-01&endPeriod=2020-12-31'\n",
    ")\n",
    "\n",
    "# Save raw data\n",
    "save_raw_data.save_raw_data(dataframe = s53_raw,\n",
    "             filename = 'S_53_raw.xlsx')"
   ]
  },
  {
   "cell_type": "markdown",
   "metadata": {},
   "source": [
    "### Cleansing"
   ]
  },
  {
   "cell_type": "code",
   "execution_count": null,
   "metadata": {},
   "outputs": [],
   "source": [
    "# Obtain latest available observation and discard countries that are not in the final CRBA country list \n",
    "s53_cleansed = cleanse_ilo_api_data(raw_data = s53_raw,\n",
    "                                   raw_data_iso_3_col = 'REF_AREA',\n",
    "                                   country_df = country_crba_list,\n",
    "                                   country_df_iso3_col = 'COUNTRY_ISO_3',\n",
    "                                   non_dim_cols = ['OBS_VALUE',\n",
    "                                                   'TIME_PERIOD',\n",
    "                                                   'SOURCE_NOTE',\n",
    "                                                   'OBS_STATUS',\n",
    "                                                   'SOURCE_NOTE', \n",
    "                                                   'INDICATOR_NOTE', \n",
    "                                                   'CURRENCY_NOTE',\n",
    "                                                   'INDICATOR_NOTE']\n",
    "                                   ) # the variable OBS_STATUS varies, but is an attribute, not a dimension. It specifies how an OBS_VALUE was created (A = standard way, E = estimate)\n",
    "\n",
    "# save cleansed data\n",
    "save_cleansed_data(dataframe = s53_cleansed,\n",
    "             filename = 'S_53_cleansed.xlsx')"
   ]
  },
  {
   "cell_type": "markdown",
   "metadata": {},
   "source": [
    "### Normalization (scaling)"
   ]
  },
  {
   "cell_type": "code",
   "execution_count": null,
   "metadata": {},
   "outputs": [],
   "source": [
    "# Scale the raw data and bring the dataframe into long formmat\n",
    "s53_normalized = scaler.normalizer(cleansed_data = s53_cleansed,\n",
    "                        indicator_raw_value = 'OBS_VALUE',\n",
    "                        indicator_code = 'NEW',\n",
    "                        indicator_name = 'Women in management',\n",
    "                        cleansed_df_iso2_col = 'COUNTRY_ISO_2',\n",
    "                        crba_final_country_list = country_crba_list,\n",
    "                        crba_final_country_list_iso_col = 'COUNTRY_ISO_2',\n",
    "                        inverted = True,\n",
    "                        non_dim_cols = ['TIME_PERIOD', \n",
    "                                        'REF_AREA', \n",
    "                                        'OBS_VALUE', \n",
    "                                        'OBS_STATUS', \n",
    "                                        'COUNTRY_ISO_3', \n",
    "                                        'COUNTRY_NAME', \n",
    "                                        'COUNTRY_ISO_2', \n",
    "                                        'SOURCE_NOTE',\n",
    "                                        'CURRENCY_NOTE',\n",
    "                                        'INDICATOR_NOTE', \n",
    "                                        '_merge']\n",
    "                       )\n",
    "\n",
    "# save normalized data\n",
    "save_normalized_data.save_normalized_data(dataframe = s53_normalized,\n",
    "             filename = 'S_53_normalized.xlsx')"
   ]
  },
  {
   "cell_type": "markdown",
   "metadata": {},
   "source": [
    "# WHO API Sources: Data extraction - cleansing - normalization"
   ]
  },
  {
   "cell_type": "markdown",
   "metadata": {},
   "source": [
    "## S-82 Extent of implementation of child protection services code \"VIOLENCE_EXTENTIMP_CHILDPROTECTION\""
   ]
  },
  {
   "cell_type": "markdown",
   "metadata": {},
   "source": [
    "### Extraction"
   ]
  },
  {
   "cell_type": "code",
   "execution_count": null,
   "metadata": {},
   "outputs": [],
   "source": [
    "# Extract raw data\n",
    "s82_raw = extract_who_api_data(\n",
    "    api_call_url = 'http://apps.who.int/gho/athena/api/GHO/VIOLENCE_EXTENTIMP_CHILDPROTECTION.csv'\n",
    ")\n",
    "\n",
    "\n",
    "# Save raw data\n",
    "save_raw_data.save_raw_data(dataframe = s82_raw,\n",
    "             filename = 'S_82_raw.xlsx')"
   ]
  },
  {
   "cell_type": "markdown",
   "metadata": {},
   "source": [
    "### Cleansing"
   ]
  },
  {
   "cell_type": "code",
   "execution_count": null,
   "metadata": {},
   "outputs": [],
   "source": [
    "# Copy dataframe\n",
    "temp = s82_raw\n",
    "\n",
    "# Conditions\n",
    "conditions = [\n",
    "    (temp['Display Value'] == 'None'),\n",
    "    (temp['Display Value'] == 'Limited'),\n",
    "    (temp['Display Value'] == 'Larger scale')\n",
    "    ]\n",
    "\n",
    "# Specify the normalized values\n",
    "encode_values = [1, 2, 3]\n",
    "\n",
    "# create a new column and assign values to it using our lists\n",
    "temp['raw_data_enc'] = np.select(conditions, encode_values)"
   ]
  },
  {
   "cell_type": "markdown",
   "metadata": {},
   "source": [
    "### Normalization"
   ]
  },
  {
   "cell_type": "code",
   "execution_count": null,
   "metadata": {},
   "outputs": [],
   "source": [
    "# Scale the raw data and bring the dataframe into long formmat\n",
    "s82_normalized = scaler.normalizer(cleansed_data = temp, # change this if the cleansing section is fixed\n",
    "                        indicator_raw_value = 'raw_data_enc',\n",
    "                        indicator_code = '2.2.6.',\n",
    "                        indicator_name = 'Child protection services',\n",
    "                        cleansed_df_iso2_col = 'COUNTRY',\n",
    "                        crba_final_country_list = country_crba_list,\n",
    "                        crba_final_country_list_iso_col = 'COUNTRY_ISO_3',\n",
    "                        cat_var = True,\n",
    "                        cat_scoring_type = 'Type 3-2-1'     \n",
    "                       )\n",
    "\n",
    "# save normalized data\n",
    "save_normalized_data.save_normalized_data(dataframe = s82_normalized,\n",
    "             filename = 'S_82_normalized.xlsx')"
   ]
  },
  {
   "cell_type": "markdown",
   "metadata": {},
   "source": [
    "## S-83 Extent of implementation of child protection services code \"VIOLENCE_EXTENTIMP_CHILDPROTECTION\""
   ]
  },
  {
   "cell_type": "markdown",
   "metadata": {},
   "source": [
    "### Extraction"
   ]
  },
  {
   "cell_type": "code",
   "execution_count": null,
   "metadata": {
    "scrolled": true
   },
   "outputs": [],
   "source": [
    "# Extract raw data\n",
    "s83_raw = extract_who_api_data(\n",
    "    api_call_url = 'http://apps.who.int/gho/athena/api/GHO/VIOLENCE_EXTENTIMP_YOUTHLIFESKILLS.csv'\n",
    ")\n",
    "\n",
    "\n",
    "# Save raw data\n",
    "save_raw_data.save_raw_data(dataframe = s83_raw,\n",
    "             filename = 'S_83_raw.xlsx')"
   ]
  },
  {
   "cell_type": "markdown",
   "metadata": {},
   "source": [
    "### Cleansing"
   ]
  },
  {
   "cell_type": "code",
   "execution_count": null,
   "metadata": {},
   "outputs": [],
   "source": [
    "# Copy dataframe\n",
    "temp = s83_raw\n",
    "\n",
    "# Conditions\n",
    "conditions = [\n",
    "    (temp['Display Value'] == \"Don't know\"),\n",
    "    (temp['Display Value'] == 'None'),\n",
    "    (temp['Display Value'] == 'Limited'),\n",
    "    (temp['Display Value'] == 'Larger scale')\n",
    "    ]\n",
    "\n",
    "# Specify the normalized values\n",
    "encode_values = [0, 1, 2, 3]\n",
    "\n",
    "# create a new column and assign values to it using our lists\n",
    "temp['raw_data_enc'] = np.select(conditions, encode_values)"
   ]
  },
  {
   "cell_type": "markdown",
   "metadata": {},
   "source": [
    "### Normalization"
   ]
  },
  {
   "cell_type": "code",
   "execution_count": null,
   "metadata": {},
   "outputs": [],
   "source": [
    "# Scale the raw data and bring the dataframe into long formmat\n",
    "s83_normalized = scaler.normalizer(cleansed_data = temp, # change this if the cleansing section is fixed\n",
    "                        indicator_raw_value = 'raw_data_enc',\n",
    "                        indicator_code = '2.2.7.',\n",
    "                        indicator_name = 'Life skills and social development programmes',\n",
    "                        cleansed_df_iso2_col = 'COUNTRY',\n",
    "                        crba_final_country_list = country_crba_list,\n",
    "                        crba_final_country_list_iso_col = 'COUNTRY_ISO_3',\n",
    "                        cat_var = True,\n",
    "                        cat_scoring_type = 'Type 3-2-1-0'     \n",
    "                       )\n",
    "\n",
    "# save normalized data\n",
    "save_normalized_data.save_normalized_data(dataframe = s83_normalized,\n",
    "             filename = 'S_83_normalized.xlsx')"
   ]
  },
  {
   "cell_type": "markdown",
   "metadata": {},
   "source": [
    "## S-88 Existence of any policies on marketing of foods to children \"NCD_CCS_Mkting\""
   ]
  },
  {
   "cell_type": "markdown",
   "metadata": {},
   "source": [
    "### Extraction"
   ]
  },
  {
   "cell_type": "code",
   "execution_count": null,
   "metadata": {
    "scrolled": false
   },
   "outputs": [],
   "source": [
    "# Extract raw data\n",
    "s88_raw = extract_who_api_data(\n",
    "    api_call_url = 'http://apps.who.int/gho/athena/api/GHO/NCD_CCS_Mkting.csv'\n",
    ")\n",
    "\n",
    "\n",
    "# Save raw data\n",
    "save_raw_data.save_raw_data(dataframe = s88_raw,\n",
    "             filename = 'S_88_raw.xlsx')"
   ]
  },
  {
   "cell_type": "markdown",
   "metadata": {},
   "source": [
    "### Cleansing"
   ]
  },
  {
   "cell_type": "code",
   "execution_count": null,
   "metadata": {},
   "outputs": [],
   "source": [
    "# Mapping of values is not clear --> Must talk to Alex\n",
    "# To do: Include in the cleanser function functinality to only retrieve the latest value"
   ]
  },
  {
   "cell_type": "markdown",
   "metadata": {},
   "source": [
    "### Normalization"
   ]
  },
  {
   "cell_type": "code",
   "execution_count": null,
   "metadata": {},
   "outputs": [],
   "source": [
    "# To do"
   ]
  },
  {
   "cell_type": "markdown",
   "metadata": {},
   "source": [
    "## S-97 Prevalence of current tobacco use among adolescents  \"WHOSIS_000013\""
   ]
  },
  {
   "cell_type": "markdown",
   "metadata": {},
   "source": [
    "### Extraction"
   ]
  },
  {
   "cell_type": "code",
   "execution_count": null,
   "metadata": {
    "scrolled": false
   },
   "outputs": [],
   "source": [
    "# Extract raw data\n",
    "s97_raw = extract_who_api_data(\n",
    "    api_call_url = 'http://apps.who.int/gho/athena/api/GHO/WHOSIS_000013.csv'\n",
    ")\n",
    "\n",
    "\n",
    "# Save raw data\n",
    "save_raw_data.save_raw_data(dataframe = s97_raw,\n",
    "             filename = 'S_97_raw.xlsx')"
   ]
  },
  {
   "cell_type": "markdown",
   "metadata": {},
   "source": [
    "### Cleansing"
   ]
  },
  {
   "cell_type": "code",
   "execution_count": null,
   "metadata": {},
   "outputs": [],
   "source": [
    "# Obtain latest available observation and discard countries that are not in the final CRBA country list \n",
    "s97_cleansed = cleanse_who_api_num_data(raw_data = s97_raw,\n",
    "                                   raw_data_iso_3_col = 'COUNTRY',\n",
    "                                   country_df = country_crba_list,\n",
    "                                   country_df_iso3_col = 'COUNTRY_ISO_3',\n",
    "                                   non_dim_cols = ['YEAR',\n",
    "                                                   'REGION',\n",
    "                                                   'WORLDBANKINCOMEGROUP'\n",
    "                                                  ]\n",
    "                                   ) \n",
    "\n",
    "# save cleansed data\n",
    "save_cleansed_data(dataframe = s97_cleansed,\n",
    "             filename = 'S_97_cleansed.xlsx')"
   ]
  },
  {
   "cell_type": "markdown",
   "metadata": {},
   "source": [
    "### Normalization"
   ]
  },
  {
   "cell_type": "code",
   "execution_count": null,
   "metadata": {},
   "outputs": [],
   "source": [
    "# Scale the raw data and bring the dataframe into long formmat\n",
    "s97_normalized = scaler.normalizer(cleansed_data = s97_cleansed,\n",
    "                        indicator_raw_value = 'Display Value',\n",
    "                        indicator_code = '3.1.1',\n",
    "                        indicator_name = 'Youth smoking hours',\n",
    "                        cleansed_df_iso2_col = 'COUNTRY_ISO_2',\n",
    "                        crba_final_country_list = country_crba_list,\n",
    "                        crba_final_country_list_iso_col = 'COUNTRY_ISO_2',\n",
    "                        inverted = True,\n",
    "                        non_dim_cols = ['YEAR',\n",
    "                                        'REGION',\n",
    "                                        'WORLDBANKINCOMEGROUP',\n",
    "                                        'COUNTRY',\n",
    "                                        'Display Value',\n",
    "                                        'Numeric',\n",
    "                                        'COUNTRY_ISO_3',\n",
    "                                        'COUNTRY_NAME',\n",
    "                                        'COUNTRY_ISO_2',\n",
    "                                        '_merge'\n",
    "                                        ]\n",
    "                       )\n",
    "\n",
    "# save normalized data\n",
    "save_normalized_data.save_normalized_data(dataframe = s97_normalized,\n",
    "             filename = 'S_97_normalized.xlsx')"
   ]
  },
  {
   "cell_type": "code",
   "execution_count": null,
   "metadata": {},
   "outputs": [],
   "source": [
    "# Still to do: Cmobine the data into a total index (both sexes) --> Also this data is very old and the data provided by Alex is newer. What to do? "
   ]
  },
  {
   "cell_type": "markdown",
   "metadata": {},
   "source": [
    "## S-98 Current drinkers (15 - 19 years old) in %  \"SA_0000001759\""
   ]
  },
  {
   "cell_type": "markdown",
   "metadata": {},
   "source": [
    "### Extraction"
   ]
  },
  {
   "cell_type": "code",
   "execution_count": null,
   "metadata": {
    "scrolled": false
   },
   "outputs": [],
   "source": [
    "# Extract raw data\n",
    "s98_raw = extract_who_api_data(\n",
    "    api_call_url = 'http://apps.who.int/gho/athena/api/GHO/SA_0000001759.csv'\n",
    ")\n",
    "\n",
    "\n",
    "# Save raw data\n",
    "save_raw_data.save_raw_data(dataframe = s98_raw,\n",
    "             filename = 'S_98_raw.xlsx')"
   ]
  },
  {
   "cell_type": "markdown",
   "metadata": {},
   "source": [
    "### Cleansing"
   ]
  },
  {
   "cell_type": "code",
   "execution_count": null,
   "metadata": {},
   "outputs": [],
   "source": [
    "# Obtain latest available observation and discard countries that are not in the final CRBA country list \n",
    "s98_cleansed = cleanse_who_api_num_data(raw_data = s98_raw,\n",
    "                                   raw_data_iso_3_col = 'COUNTRY',\n",
    "                                   country_df = country_crba_list,\n",
    "                                   country_df_iso3_col = 'COUNTRY_ISO_3',\n",
    "                                   non_dim_cols = ['YEAR',\n",
    "                                                   'REGION',\n",
    "                                                   'WORLDBANKINCOMEGROUP',\n",
    "                                                   'Display Value'\n",
    "                                                  ]\n",
    "                                   ) \n",
    "\n",
    "# save cleansed data\n",
    "save_cleansed_data(dataframe = s98_cleansed,\n",
    "             filename = 'S_98_cleansed.xlsx')"
   ]
  },
  {
   "cell_type": "markdown",
   "metadata": {},
   "source": [
    "### Normalization"
   ]
  },
  {
   "cell_type": "code",
   "execution_count": null,
   "metadata": {},
   "outputs": [],
   "source": [
    "# TBD, how to aggregate the three sources into once indicator?"
   ]
  },
  {
   "cell_type": "markdown",
   "metadata": {},
   "source": [
    "## S-99 First drink before age 14 (13-15 years) %  \"SA_0000001787_ARCHIVED\""
   ]
  },
  {
   "cell_type": "markdown",
   "metadata": {},
   "source": [
    "### Extraction"
   ]
  },
  {
   "cell_type": "code",
   "execution_count": null,
   "metadata": {
    "scrolled": false
   },
   "outputs": [],
   "source": [
    "# Extract raw data\n",
    "s99_raw = extract_who_api_data(\n",
    "    api_call_url = 'http://apps.who.int/gho/athena/api/GHO/SA_0000001787_ARCHIVED.csv'\n",
    ")\n",
    "\n",
    "\n",
    "# Save raw data\n",
    "save_raw_data.save_raw_data(dataframe = s99_raw,\n",
    "             filename = 'S_99_raw.xlsx')"
   ]
  },
  {
   "cell_type": "markdown",
   "metadata": {},
   "source": [
    "### Cleansing"
   ]
  },
  {
   "cell_type": "code",
   "execution_count": null,
   "metadata": {},
   "outputs": [],
   "source": [
    "# Obtain latest available observation and discard countries that are not in the final CRBA country list \n",
    "s99_cleansed = cleanse_who_api_num_data(raw_data = s99_raw,\n",
    "                                   raw_data_iso_3_col = 'COUNTRY',\n",
    "                                   country_df = country_crba_list,\n",
    "                                   country_df_iso3_col = 'COUNTRY_ISO_3',\n",
    "                                   non_dim_cols = ['YEAR',\n",
    "                                                   'REGION',\n",
    "                                                   'WORLDBANKINCOMEGROUP',\n",
    "                                                   'Display Value',\n",
    "                                                   'DATASOURCE',\n",
    "                                                   'Numeric'\n",
    "                                                  ]\n",
    "                                   ) \n",
    "\n",
    "# save cleansed data\n",
    "save_cleansed_data(dataframe = s99_cleansed,\n",
    "             filename = 'S_99_cleansed.xlsx')"
   ]
  },
  {
   "cell_type": "markdown",
   "metadata": {},
   "source": [
    "### Normalization"
   ]
  },
  {
   "cell_type": "code",
   "execution_count": null,
   "metadata": {},
   "outputs": [],
   "source": [
    "# TBD, how to aggregate the three sources into once indicator?"
   ]
  },
  {
   "cell_type": "markdown",
   "metadata": {},
   "source": [
    "## S-100 13-15 years old any alcoholic beverage in the past 30 days (%)  \"SA_0000001786\""
   ]
  },
  {
   "cell_type": "markdown",
   "metadata": {},
   "source": [
    "### Extraction"
   ]
  },
  {
   "cell_type": "code",
   "execution_count": null,
   "metadata": {
    "scrolled": false
   },
   "outputs": [],
   "source": [
    "# Extract raw data\n",
    "s100_raw = extract_who_api_data(\n",
    "    api_call_url = 'http://apps.who.int/gho/athena/api/GHO/SA_0000001786.csv'\n",
    ")\n",
    "\n",
    "\n",
    "# Save raw data\n",
    "save_raw_data.save_raw_data(dataframe = s100_raw,\n",
    "             filename = 'S_100_raw.xlsx')"
   ]
  },
  {
   "cell_type": "markdown",
   "metadata": {},
   "source": [
    "### Cleansing"
   ]
  },
  {
   "cell_type": "code",
   "execution_count": null,
   "metadata": {},
   "outputs": [],
   "source": [
    "# Obtain latest available observation and discard countries that are not in the final CRBA country list \n",
    "s100_cleansed = cleanse_who_api_num_data(raw_data = s100_raw,\n",
    "                                   raw_data_iso_3_col = 'COUNTRY',\n",
    "                                   country_df = country_crba_list,\n",
    "                                   country_df_iso3_col = 'COUNTRY_ISO_3',\n",
    "                                   non_dim_cols = ['YEAR',\n",
    "                                                   'REGION',\n",
    "                                                   'WORLDBANKINCOMEGROUP',\n",
    "                                                   'Display Value',\n",
    "                                                   'DATASOURCE',\n",
    "                                                   'Numeric'\n",
    "                                                  ]\n",
    "                                   ) \n",
    "\n",
    "# save cleansed data\n",
    "save_cleansed_data(dataframe = s100_cleansed,\n",
    "             filename = 'S_100_cleansed.xlsx')"
   ]
  },
  {
   "cell_type": "markdown",
   "metadata": {},
   "source": [
    "### Normalization"
   ]
  },
  {
   "cell_type": "code",
   "execution_count": null,
   "metadata": {},
   "outputs": [],
   "source": [
    "# TBD, how to aggregate the three sources into once indicator?"
   ]
  },
  {
   "cell_type": "markdown",
   "metadata": {},
   "source": [
    "## S-101 Children aged <5 years overweight  \"WHOSIS_000009\""
   ]
  },
  {
   "cell_type": "markdown",
   "metadata": {},
   "source": [
    "### Extraction"
   ]
  },
  {
   "cell_type": "code",
   "execution_count": null,
   "metadata": {
    "scrolled": false
   },
   "outputs": [],
   "source": [
    "# Extract raw data\n",
    "s101_raw = extract_who_api_data(\n",
    "    api_call_url = 'http://apps.who.int/gho/athena/api/GHO/WHOSIS_000009.csv'\n",
    ")\n",
    "\n",
    "\n",
    "# Save raw data\n",
    "save_raw_data.save_raw_data(dataframe = s101_raw,\n",
    "             filename = 'S_101_raw.xlsx')"
   ]
  },
  {
   "cell_type": "markdown",
   "metadata": {},
   "source": [
    "### Cleansing"
   ]
  },
  {
   "cell_type": "code",
   "execution_count": null,
   "metadata": {
    "scrolled": true
   },
   "outputs": [],
   "source": [
    "# Obtain latest available observation and discard countries that are not in the final CRBA country list \n",
    "s101_cleansed = cleanse_who_api_num_data(raw_data = s101_raw,\n",
    "                                   raw_data_iso_3_col = 'COUNTRY',\n",
    "                                   country_df = country_crba_list,\n",
    "                                   country_df_iso3_col = 'COUNTRY_ISO_3',\n",
    "                                   non_dim_cols = ['YEAR',\n",
    "                                                   'REGION',\n",
    "                                                   'WORLDBANKINCOMEGROUP',\n",
    "                                                   'Display Value',\n",
    "                                                   'DATASOURCE',\n",
    "                                                   'Numeric'\n",
    "                                                  ]\n",
    "                                   ) \n",
    "\n",
    "# Problem: There is one ountry - Sudan - which has two values from two sources\n",
    "# For the code to run smoothly (and without having to write complicated code), I must\n",
    "# Exclude this row manually and take the higher value\n",
    "s101_cleansed = s101_cleansed[\n",
    "    (s101_cleansed['COUNTRY'] != 'SDN') | \n",
    "    (s101_cleansed['DATASOURCE'] != 'NLIS_313151')\n",
    "] \n",
    "\n",
    "# save cleansed data\n",
    "save_cleansed_data(dataframe = s101_cleansed,\n",
    "             filename = 'S_101_cleansed.xlsx')"
   ]
  },
  {
   "cell_type": "markdown",
   "metadata": {},
   "source": [
    "### Normalization"
   ]
  },
  {
   "cell_type": "code",
   "execution_count": null,
   "metadata": {
    "scrolled": true
   },
   "outputs": [],
   "source": [
    "# Scale the raw data and bring the dataframe into long formmat\n",
    "s101_normalized = scaler.normalizer(cleansed_data = s101_cleansed,\n",
    "                        indicator_raw_value = 'Display Value',\n",
    "                        indicator_code = '3.1.3',\n",
    "                        indicator_name = 'Young children overweight',\n",
    "                        cleansed_df_iso2_col = 'COUNTRY_ISO_3',\n",
    "                        crba_final_country_list = country_crba_list,\n",
    "                        crba_final_country_list_iso_col = 'COUNTRY_ISO_3',\n",
    "                        inverted = True,\n",
    "                        non_dim_cols = ['DATASOURCE',\n",
    "                                        'YEAR',\n",
    "                                        'REGION',\n",
    "                                        'WORLDBANKINCOMEGROUP',\n",
    "                                        'COUNTRY',\n",
    "                                        'Display Value',\n",
    "                                        'Numeric',\n",
    "                                        'Comments',\n",
    "                                        'COUNTRY_ISO_3',\n",
    "                                        'COUNTRY_NAME',\n",
    "                                        'COUNTRY_ISO_2',\n",
    "                                        '_merge'\n",
    "                                        ]\n",
    "                       )\n",
    "\n",
    "# save normalized data\n",
    "save_normalized_data.save_normalized_data(dataframe = s101_normalized,\n",
    "             filename = 'S_101_normalized.xlsx')"
   ]
  },
  {
   "cell_type": "markdown",
   "metadata": {},
   "source": [
    "## S-103 Prevalence of overweight among children and adolescents, BMI > +1 standard deviations above the median (age-standardized estimate) (%)  \"NCD_BMI_PLUS1C\""
   ]
  },
  {
   "cell_type": "markdown",
   "metadata": {},
   "source": [
    "### Extraction"
   ]
  },
  {
   "cell_type": "code",
   "execution_count": null,
   "metadata": {
    "scrolled": true
   },
   "outputs": [],
   "source": [
    "# Extract raw data\n",
    "s103_raw = extract_who_api_data(\n",
    "    api_call_url = 'http://apps.who.int/gho/athena/api/GHO/NCD_BMI_PLUS1C.csv'\n",
    ")\n",
    "\n",
    "\n",
    "# Save raw data\n",
    "save_raw_data.save_raw_data(dataframe = s103_raw,\n",
    "             filename = 'S_103_raw.xlsx')"
   ]
  },
  {
   "cell_type": "markdown",
   "metadata": {},
   "source": [
    "### Cleansing"
   ]
  },
  {
   "cell_type": "code",
   "execution_count": null,
   "metadata": {
    "scrolled": true
   },
   "outputs": [],
   "source": [
    "# \"Display Value\" in this dataset contaings value plus additional info as str. Parse actual value\n",
    "s103_raw['Display Value'] = pd.to_numeric(s103_raw['Display Value'].apply(\n",
    "    lambda x : re.sub(' \\[(.*)\\]', '', x) if x != 'No data' else None))\n",
    "\n",
    "# Obtain latest available observation and discard countries that are not in the final CRBA country list \n",
    "s103_cleansed = cleanse_who_api_num_data(raw_data = s103_raw,\n",
    "                                   raw_data_iso_3_col = 'COUNTRY',\n",
    "                                   country_df = country_crba_list,\n",
    "                                   country_df_iso3_col = 'COUNTRY_ISO_3',\n",
    "                                   non_dim_cols = ['YEAR',\n",
    "                                                   'REGION',\n",
    "                                                   'WORLDBANKINCOMEGROUP',\n",
    "                                                   'Display Value',\n",
    "                                                   'DATASOURCE',\n",
    "                                                   'Numeric',\n",
    "                                                   'Low',\n",
    "                                                   'High'\n",
    "                                                  ]\n",
    "                                   ) \n",
    "\n",
    "# save cleansed data\n",
    "save_cleansed_data(dataframe = s103_cleansed,\n",
    "             filename = 'S_103_cleansed.xlsx')"
   ]
  },
  {
   "cell_type": "markdown",
   "metadata": {},
   "source": [
    "### Normalization"
   ]
  },
  {
   "cell_type": "code",
   "execution_count": null,
   "metadata": {},
   "outputs": [],
   "source": [
    "# Scale the raw data and bring the dataframe into long formmat\n",
    "s103_normalized = scaler.normalizer(cleansed_data = s103_cleansed,\n",
    "                        indicator_raw_value = 'Display Value',\n",
    "                        indicator_code = '3.1.4',\n",
    "                        indicator_name = 'Older children and teenagers overweight',\n",
    "                        cleansed_df_iso2_col = 'COUNTRY_ISO_3',\n",
    "                        crba_final_country_list = country_crba_list,\n",
    "                        crba_final_country_list_iso_col = 'COUNTRY_ISO_3',\n",
    "                        inverted = True,\n",
    "                        non_dim_cols = ['DATASOURCE',\n",
    "                                        'YEAR',\n",
    "                                        'REGION',\n",
    "                                        'WORLDBANKINCOMEGROUP',\n",
    "                                        'COUNTRY',\n",
    "                                        'Display Value',\n",
    "                                        'Numeric',\n",
    "                                        'Low',\n",
    "                                        'High',\n",
    "                                        'Comments',\n",
    "                                        'COUNTRY_ISO_3',\n",
    "                                        'COUNTRY_NAME',\n",
    "                                        'COUNTRY_ISO_2',\n",
    "                                        '_merge'\n",
    "                                        ]\n",
    "                       )\n",
    "\n",
    "# save normalized data\n",
    "save_normalized_data.save_normalized_data(dataframe = s103_normalized,\n",
    "             filename = 'S_103_normalized.xlsx')"
   ]
  },
  {
   "cell_type": "markdown",
   "metadata": {},
   "source": [
    "## S-104 Exclusive breastfeeding under 6 months: \"WHOSIS_000006\""
   ]
  },
  {
   "cell_type": "markdown",
   "metadata": {},
   "source": [
    "### Extraction"
   ]
  },
  {
   "cell_type": "code",
   "execution_count": null,
   "metadata": {
    "scrolled": true
   },
   "outputs": [],
   "source": [
    "# Extract raw data\n",
    "s104_raw = extract_who_api_data(\n",
    "    api_call_url = 'http://apps.who.int/gho/athena/api/GHO/WHOSIS_000006.csv'\n",
    ")\n",
    "\n",
    "# Save raw data\n",
    "save_raw_data.save_raw_data(dataframe = s104_raw,\n",
    "             filename = 'S_104_raw.xlsx')"
   ]
  },
  {
   "cell_type": "markdown",
   "metadata": {},
   "source": [
    "### Cleansing"
   ]
  },
  {
   "cell_type": "code",
   "execution_count": null,
   "metadata": {
    "scrolled": true
   },
   "outputs": [],
   "source": [
    "# Obtain latest available observation and discard countries that are not in the final CRBA country list \n",
    "s104_cleansed = cleanse_who_api_num_data(raw_data = s104_raw,\n",
    "                                   raw_data_iso_3_col = 'COUNTRY',\n",
    "                                   country_df = country_crba_list,\n",
    "                                   country_df_iso3_col = 'COUNTRY_ISO_3',\n",
    "                                   non_dim_cols = ['YEAR',\n",
    "                                                   'REGION',\n",
    "                                                   'WORLDBANKINCOMEGROUP',\n",
    "                                                   'Display Value',\n",
    "                                                   'DATASOURCE',\n",
    "                                                   'Numeric',\n",
    "                                                   'Low',\n",
    "                                                   'High',\n",
    "                                                   'Comments'\n",
    "                                                  ]\n",
    "                                   ) \n",
    "\n",
    "# save cleansed data\n",
    "save_cleansed_data(dataframe = s104_cleansed,\n",
    "             filename = 'S_104_cleansed.xlsx')"
   ]
  },
  {
   "cell_type": "markdown",
   "metadata": {},
   "source": [
    "### Normalization"
   ]
  },
  {
   "cell_type": "code",
   "execution_count": null,
   "metadata": {},
   "outputs": [],
   "source": [
    "# Scale the raw data and bring the dataframe into long formmat\n",
    "s104_normalized = scaler.normalizer(cleansed_data = s104_cleansed,\n",
    "                        indicator_raw_value = 'Display Value',\n",
    "                        indicator_code = '3.1.5',\n",
    "                        indicator_name = 'Exclusive breastfeeding',\n",
    "                        cleansed_df_iso2_col = 'COUNTRY_ISO_3',\n",
    "                        crba_final_country_list = country_crba_list,\n",
    "                        crba_final_country_list_iso_col = 'COUNTRY_ISO_3',\n",
    "                        inverted = False,\n",
    "                        non_dim_cols = ['DATASOURCE',\n",
    "                                        'YEAR',\n",
    "                                        'REGION',\n",
    "                                        'WORLDBANKINCOMEGROUP',\n",
    "                                        'COUNTRY',\n",
    "                                        'Display Value',\n",
    "                                        'Numeric',\n",
    "                                        'Low',\n",
    "                                        'High',\n",
    "                                        'Comments',\n",
    "                                        'COUNTRY_ISO_3',\n",
    "                                        'COUNTRY_NAME',\n",
    "                                        'COUNTRY_ISO_2',\n",
    "                                        '_merge'\n",
    "                                        ]\n",
    "                       )\n",
    "\n",
    "# save normalized data\n",
    "save_normalized_data.save_normalized_data(dataframe = s104_normalized,\n",
    "             filename = 'S_104_normalized.xlsx')"
   ]
  },
  {
   "cell_type": "markdown",
   "metadata": {},
   "source": [
    "## S-112 Distribution of causes of death among children aged <5 years (%) - Injuries \"WHS2_166\""
   ]
  },
  {
   "cell_type": "markdown",
   "metadata": {},
   "source": [
    "### Extraction"
   ]
  },
  {
   "cell_type": "code",
   "execution_count": null,
   "metadata": {
    "scrolled": true
   },
   "outputs": [],
   "source": [
    "# Extract raw data\n",
    "s112_raw = extract_who_api_data(\n",
    "    api_call_url = 'http://apps.who.int/gho/athena/api/GHO/WHS2_166.csv'\n",
    ")\n",
    "\n",
    "# Save raw data\n",
    "save_raw_data.save_raw_data(dataframe = s112_raw,\n",
    "             filename = 'S_112_raw.xlsx')"
   ]
  },
  {
   "cell_type": "markdown",
   "metadata": {},
   "source": [
    "### Cleansing"
   ]
  },
  {
   "cell_type": "code",
   "execution_count": null,
   "metadata": {
    "scrolled": true
   },
   "outputs": [],
   "source": [
    "# Obtain latest available observation and discard countries that are not in the final CRBA country list \n",
    "s112_cleansed = cleanse_who_api_num_data(raw_data = s112_raw,\n",
    "                                   raw_data_iso_3_col = 'COUNTRY',\n",
    "                                   country_df = country_crba_list,\n",
    "                                   country_df_iso3_col = 'COUNTRY_ISO_3',\n",
    "                                   non_dim_cols = ['YEAR',\n",
    "                                                   'REGION',\n",
    "                                                   'WORLDBANKINCOMEGROUP',\n",
    "                                                   'Display Value',\n",
    "                                                   'DATASOURCE',\n",
    "                                                   'Numeric',\n",
    "                                                   'Low',\n",
    "                                                   'High',\n",
    "                                                   'Comments'\n",
    "                                                  ]\n",
    "                                   ) \n",
    "\n",
    "# save cleansed data\n",
    "save_cleansed_data(dataframe = s112_cleansed,\n",
    "             filename = 'S_112_cleansed.xlsx')"
   ]
  },
  {
   "cell_type": "markdown",
   "metadata": {},
   "source": [
    "### Normalization"
   ]
  },
  {
   "cell_type": "code",
   "execution_count": null,
   "metadata": {},
   "outputs": [],
   "source": [
    "# Scale the raw data and bring the dataframe into long formmat\n",
    "s112_normalized = scaler.normalizer(cleansed_data = s112_cleansed,\n",
    "                        indicator_raw_value = 'Display Value',\n",
    "                        indicator_code = '3.1.5',\n",
    "                        indicator_name = 'Distribution of causes of death among children aged <5 years (%)',\n",
    "                        cleansed_df_iso2_col = 'COUNTRY_ISO_3',\n",
    "                        crba_final_country_list = country_crba_list,\n",
    "                        crba_final_country_list_iso_col = 'COUNTRY_ISO_3',\n",
    "                        inverted = True,\n",
    "                        non_dim_cols = ['DATASOURCE',\n",
    "                                        'YEAR',\n",
    "                                        'REGION',\n",
    "                                        'WORLDBANKINCOMEGROUP',\n",
    "                                        'COUNTRY',\n",
    "                                        'Display Value',\n",
    "                                        'Numeric',\n",
    "                                        'Low',\n",
    "                                        'High',\n",
    "                                        'Comments',\n",
    "                                        'COUNTRY_ISO_3',\n",
    "                                        'COUNTRY_NAME',\n",
    "                                        'COUNTRY_ISO_2',\n",
    "                                        '_merge'\n",
    "                                        ]\n",
    "                       )\n",
    "\n",
    "# save normalized data\n",
    "save_normalized_data.save_normalized_data(dataframe = s112_normalized,\n",
    "             filename = 'S_112_normalized.xlsx')"
   ]
  },
  {
   "cell_type": "markdown",
   "metadata": {},
   "source": [
    "## S-113 Mortality rate attributed to unintentional poisoning (per 100 000 population) \"SDGPOISON\""
   ]
  },
  {
   "cell_type": "markdown",
   "metadata": {},
   "source": [
    "### Extraction"
   ]
  },
  {
   "cell_type": "code",
   "execution_count": null,
   "metadata": {
    "scrolled": true
   },
   "outputs": [],
   "source": [
    "# Extract raw data\n",
    "s113_raw = extract_who_api_data(\n",
    "    api_call_url = 'http://apps.who.int/gho/athena/api/GHO/SDGPOISON.csv'\n",
    ")\n",
    "\n",
    "# Save raw data\n",
    "save_raw_data.save_raw_data(dataframe = s113_raw,\n",
    "             filename = 'S_113_raw.xlsx')"
   ]
  },
  {
   "cell_type": "markdown",
   "metadata": {},
   "source": [
    "### Cleansing"
   ]
  },
  {
   "cell_type": "code",
   "execution_count": null,
   "metadata": {
    "scrolled": true
   },
   "outputs": [],
   "source": [
    "# Obtain latest available observation and discard countries that are not in the final CRBA country list \n",
    "s113_cleansed = cleanse_who_api_num_data(raw_data = s113_raw,\n",
    "                                   raw_data_iso_3_col = 'COUNTRY',\n",
    "                                   country_df = country_crba_list,\n",
    "                                   country_df_iso3_col = 'COUNTRY_ISO_3',\n",
    "                                   non_dim_cols = ['YEAR',\n",
    "                                                   'REGION',\n",
    "                                                   'WORLDBANKINCOMEGROUP',\n",
    "                                                   'Display Value',\n",
    "                                                   'DATASOURCE',\n",
    "                                                   'Numeric',\n",
    "                                                   'Low',\n",
    "                                                   'High',\n",
    "                                                   'Comments'\n",
    "                                                  ]\n",
    "                                   ) \n",
    "\n",
    "# save cleansed data\n",
    "save_cleansed_data(dataframe = s113_cleansed,\n",
    "             filename = 'S_113_cleansed.xlsx')"
   ]
  },
  {
   "cell_type": "markdown",
   "metadata": {},
   "source": [
    "### Normalization"
   ]
  },
  {
   "cell_type": "code",
   "execution_count": null,
   "metadata": {},
   "outputs": [],
   "source": [
    "# Scale the raw data and bring the dataframe into long formmat\n",
    "s113_normalized = scaler.normalizer(cleansed_data = s113_cleansed,\n",
    "                        indicator_raw_value = 'Display Value',\n",
    "                        indicator_code = '3.2.2',\n",
    "                        indicator_name = 'Mortality rate due to poisoning',\n",
    "                        cleansed_df_iso2_col = 'COUNTRY_ISO_3',\n",
    "                        crba_final_country_list = country_crba_list,\n",
    "                        crba_final_country_list_iso_col = 'COUNTRY_ISO_3',\n",
    "                        inverted = True,\n",
    "                        non_dim_cols = ['DATASOURCE',\n",
    "                                        'YEAR',\n",
    "                                        'REGION',\n",
    "                                        'WORLDBANKINCOMEGROUP',\n",
    "                                        'COUNTRY',\n",
    "                                        'Display Value',\n",
    "                                        'Numeric',\n",
    "                                        'Low',\n",
    "                                        'High',\n",
    "                                        'Comments',\n",
    "                                        'COUNTRY_ISO_3',\n",
    "                                        'COUNTRY_NAME',\n",
    "                                        'COUNTRY_ISO_2',\n",
    "                                        '_merge'\n",
    "                                        ]\n",
    "                       )\n",
    "\n",
    "# save normalized data\n",
    "save_normalized_data.save_normalized_data(dataframe = s113_normalized,\n",
    "             filename = 'S_113_normalized.xlsx')"
   ]
  },
  {
   "cell_type": "markdown",
   "metadata": {},
   "source": [
    "## S-135 Existence of operational policy/strategy/action plan for tobacco: \"NCD_CCS_TobPlan\""
   ]
  },
  {
   "cell_type": "markdown",
   "metadata": {},
   "source": [
    "### Extraction"
   ]
  },
  {
   "cell_type": "code",
   "execution_count": null,
   "metadata": {
    "scrolled": false
   },
   "outputs": [],
   "source": [
    "# Extract raw data\n",
    "s135_raw = extract_who_api_data(\n",
    "    api_call_url = 'http://apps.who.int/gho/athena/api/GHO/NCD_CCS_TobPlan.csv'\n",
    ")\n",
    "\n",
    "# Save raw data\n",
    "save_raw_data.save_raw_data(dataframe = s135_raw,\n",
    "             filename = 'S_135_raw.xlsx')"
   ]
  },
  {
   "cell_type": "markdown",
   "metadata": {},
   "source": [
    "### Cleansing"
   ]
  },
  {
   "cell_type": "code",
   "execution_count": null,
   "metadata": {
    "scrolled": true
   },
   "outputs": [],
   "source": [
    "# Obtain latest available observation and discard countries that are not in the final CRBA country list \n",
    "s135_cleansed = cleanse_who_api_num_data(raw_data = s135_raw,\n",
    "                                   raw_data_iso_3_col = 'COUNTRY',\n",
    "                                   country_df = country_crba_list,\n",
    "                                   country_df_iso3_col = 'COUNTRY_ISO_3',\n",
    "                                   non_dim_cols = ['YEAR',\n",
    "                                                   'REGION',\n",
    "                                                   'WORLDBANKINCOMEGROUP',\n",
    "                                                   'Display Value',\n",
    "                                                   'DATASOURCE',\n",
    "                                                   'Numeric',\n",
    "                                                   'Low',\n",
    "                                                   'High',\n",
    "                                                   'Comments'\n",
    "                                                  ]\n",
    "                                   ) \n",
    "\n",
    "# save cleansed data\n",
    "save_cleansed_data(dataframe = s135_cleansed,\n",
    "             filename = 'S_135_cleansed.xlsx')"
   ]
  },
  {
   "cell_type": "markdown",
   "metadata": {},
   "source": [
    "### Normalization"
   ]
  },
  {
   "cell_type": "code",
   "execution_count": null,
   "metadata": {},
   "outputs": [],
   "source": [
    "# to do, it is a categorical variable not a numric as indicated. What Type of categorical variabl is it?"
   ]
  },
  {
   "cell_type": "markdown",
   "metadata": {},
   "source": [
    "## S-136 Existence of operational policy/strategy/action plan to reduce the harmful use of alcohol \"NCD_CCS_AlcPlan\""
   ]
  },
  {
   "cell_type": "markdown",
   "metadata": {},
   "source": [
    "### Extraction"
   ]
  },
  {
   "cell_type": "code",
   "execution_count": null,
   "metadata": {
    "scrolled": false
   },
   "outputs": [],
   "source": [
    "# Extract raw data\n",
    "s136_raw = extract_who_api_data(\n",
    "    api_call_url = 'http://apps.who.int/gho/athena/api/GHO/NCD_CCS_AlcPlan.csv'\n",
    ")\n",
    "\n",
    "# Save raw data\n",
    "save_raw_data.save_raw_data(dataframe = s136_raw,\n",
    "             filename = 'S_136_raw.xlsx')"
   ]
  },
  {
   "cell_type": "markdown",
   "metadata": {},
   "source": [
    "### Cleansing"
   ]
  },
  {
   "cell_type": "code",
   "execution_count": null,
   "metadata": {
    "scrolled": true
   },
   "outputs": [],
   "source": [
    "# Obtain latest available observation and discard countries that are not in the final CRBA country list \n",
    "s136_cleansed = cleanse_who_api_num_data(raw_data = s136_raw,\n",
    "                                   raw_data_iso_3_col = 'COUNTRY',\n",
    "                                   country_df = country_crba_list,\n",
    "                                   country_df_iso3_col = 'COUNTRY_ISO_3',\n",
    "                                   non_dim_cols = ['YEAR',\n",
    "                                                   'REGION',\n",
    "                                                   'WORLDBANKINCOMEGROUP',\n",
    "                                                   'Display Value',\n",
    "                                                   'DATASOURCE',\n",
    "                                                   'Numeric',\n",
    "                                                   'Low',\n",
    "                                                   'High',\n",
    "                                                   'Comments'\n",
    "                                                  ]\n",
    "                                   ) \n",
    "\n",
    "# save cleansed data\n",
    "save_cleansed_data(dataframe = s136_cleansed,\n",
    "             filename = 'S_136_cleansed.xlsx')"
   ]
  },
  {
   "cell_type": "markdown",
   "metadata": {},
   "source": [
    "### Normalization"
   ]
  },
  {
   "cell_type": "code",
   "execution_count": null,
   "metadata": {},
   "outputs": [],
   "source": [
    "# to do, it is a categorical variable not a numric as indicated. What Type of categorical variabl is it?"
   ]
  },
  {
   "cell_type": "markdown",
   "metadata": {},
   "source": [
    "## S-137 Existence of operational policy/strategy/action plan to reduce unhealthy diet related to NCDs \"NCD_CCS_DietPlan\""
   ]
  },
  {
   "cell_type": "markdown",
   "metadata": {},
   "source": [
    "### Extraction"
   ]
  },
  {
   "cell_type": "code",
   "execution_count": null,
   "metadata": {
    "scrolled": false
   },
   "outputs": [],
   "source": [
    "# Extract raw data\n",
    "s137_raw = extract_who_api_data(\n",
    "    api_call_url = 'http://apps.who.int/gho/athena/api/GHO/NCD_CCS_DietPlan.csv'\n",
    ")\n",
    "\n",
    "# Save raw data\n",
    "save_raw_data.save_raw_data(dataframe = s137_raw,\n",
    "             filename = 'S_137_raw.xlsx')"
   ]
  },
  {
   "cell_type": "markdown",
   "metadata": {},
   "source": [
    "### Cleansing"
   ]
  },
  {
   "cell_type": "code",
   "execution_count": null,
   "metadata": {
    "scrolled": true
   },
   "outputs": [],
   "source": [
    "# Obtain latest available observation and discard countries that are not in the final CRBA country list \n",
    "s137_cleansed = cleanse_who_api_num_data(raw_data = s137_raw,\n",
    "                                   raw_data_iso_3_col = 'COUNTRY',\n",
    "                                   country_df = country_crba_list,\n",
    "                                   country_df_iso3_col = 'COUNTRY_ISO_3',\n",
    "                                   non_dim_cols = ['YEAR',\n",
    "                                                   'REGION',\n",
    "                                                   'WORLDBANKINCOMEGROUP',\n",
    "                                                   'Display Value',\n",
    "                                                   'DATASOURCE',\n",
    "                                                   'Numeric',\n",
    "                                                   'Low',\n",
    "                                                   'High',\n",
    "                                                   'Comments'\n",
    "                                                  ]\n",
    "                                   ) \n",
    "\n",
    "# save cleansed data\n",
    "save_cleansed_data(dataframe = s137_cleansed,\n",
    "             filename = 'S_137_cleansed.xlsx')"
   ]
  },
  {
   "cell_type": "markdown",
   "metadata": {},
   "source": [
    "### Normalization"
   ]
  },
  {
   "cell_type": "code",
   "execution_count": null,
   "metadata": {},
   "outputs": [],
   "source": [
    "# to do, it is a categorical variable not a numric as indicated. What Type of categorical variabl is it?"
   ]
  },
  {
   "cell_type": "markdown",
   "metadata": {},
   "source": [
    "## S-157 Ambient air pollution attributable DALYs per 100'000 children under 5 years \"AIR_10\""
   ]
  },
  {
   "cell_type": "markdown",
   "metadata": {},
   "source": [
    "### Extraction"
   ]
  },
  {
   "cell_type": "code",
   "execution_count": null,
   "metadata": {
    "scrolled": false
   },
   "outputs": [],
   "source": [
    "# Extract raw data\n",
    "s157_raw = extract_who_api_data(\n",
    "    api_call_url = 'http://apps.who.int/gho/athena/api/GHO/AIR_10.csv'\n",
    ")\n",
    "\n",
    "# Save raw data\n",
    "save_raw_data.save_raw_data(dataframe = s157_raw,\n",
    "             filename = 'S_157_raw.xlsx')"
   ]
  },
  {
   "cell_type": "markdown",
   "metadata": {},
   "source": [
    "### Cleansing"
   ]
  },
  {
   "cell_type": "code",
   "execution_count": null,
   "metadata": {
    "scrolled": true
   },
   "outputs": [],
   "source": [
    "# Obtain latest available observation and discard countries that are not in the final CRBA country list \n",
    "s157_cleansed = cleanse_who_api_num_data(raw_data = s157_raw,\n",
    "                                   raw_data_iso_3_col = 'COUNTRY',\n",
    "                                   country_df = country_crba_list,\n",
    "                                   country_df_iso3_col = 'COUNTRY_ISO_3',\n",
    "                                   non_dim_cols = ['YEAR',\n",
    "                                                   'REGION',\n",
    "                                                   'WORLDBANKINCOMEGROUP',\n",
    "                                                   'Display Value',\n",
    "                                                   'DATASOURCE',\n",
    "                                                   'Numeric',\n",
    "                                                   'Low',\n",
    "                                                   'High',\n",
    "                                                   'Comments'\n",
    "                                                  ]\n",
    "                                   ) \n",
    "\n",
    "# save cleansed data\n",
    "save_cleansed_data(dataframe = s157_cleansed,\n",
    "             filename = 'S_157_cleansed.xlsx')"
   ]
  },
  {
   "cell_type": "markdown",
   "metadata": {},
   "source": [
    "### Normalization"
   ]
  },
  {
   "cell_type": "code",
   "execution_count": null,
   "metadata": {},
   "outputs": [],
   "source": [
    "# Scale the raw data and bring the dataframe into long formmat\n",
    "s157_normalized = scaler.normalizer(cleansed_data = s157_cleansed,\n",
    "                        indicator_raw_value = 'Display Value',\n",
    "                        indicator_code = '3.1.1',\n",
    "                        indicator_name = 'Childhood death linked to air pollution',\n",
    "                        cleansed_df_iso2_col = 'COUNTRY_ISO_3',\n",
    "                        crba_final_country_list = country_crba_list,\n",
    "                        crba_final_country_list_iso_col = 'COUNTRY_ISO_3',\n",
    "                        inverted = True,\n",
    "                        non_dim_cols = ['DATASOURCE',\n",
    "                                        'YEAR',\n",
    "                                        'REGION',\n",
    "                                        'WORLDBANKINCOMEGROUP',\n",
    "                                        'COUNTRY',\n",
    "                                        'Display Value',\n",
    "                                        'Numeric',\n",
    "                                        'Low',\n",
    "                                        'High',\n",
    "                                        'Comments',\n",
    "                                        'COUNTRY_ISO_3',\n",
    "                                        'COUNTRY_NAME',\n",
    "                                        'COUNTRY_ISO_2',\n",
    "                                        '_merge'\n",
    "                                        ]\n",
    "                       )\n",
    "\n",
    "# save normalized data\n",
    "save_normalized_data.save_normalized_data(dataframe = s157_normalized,\n",
    "             filename = 'S_157_normalized.xlsx')"
   ]
  },
  {
   "cell_type": "markdown",
   "metadata": {},
   "source": [
    "## S-158 Concentrations of fine particulate matter (PM2.5) \"SDGPM25\""
   ]
  },
  {
   "cell_type": "markdown",
   "metadata": {},
   "source": [
    "### Extraction"
   ]
  },
  {
   "cell_type": "code",
   "execution_count": 55,
   "metadata": {
    "scrolled": true
   },
   "outputs": [
    {
     "name": "stdout",
     "output_type": "stream",
     "text": [
      "The following columns are present in the datasets, and this is the number of unique values they have. \n",
      "The column GHO has 1 unique values.\n",
      "The column PUBLISHSTATE has 1 unique values.\n",
      "The column YEAR has 1 unique values.\n",
      "The column REGION has 7 unique values.\n",
      "The column UNREGION has 25 unique values.\n",
      "The column COUNTRY has 194 unique values.\n",
      "The column RESIDENCEAREATYPE has 3 unique values.\n",
      "The column Display Value has 618 unique values.\n",
      "The column Numeric has 628 unique values.\n",
      "The column Low has 569 unique values.\n",
      "The column High has 569 unique values.\n",
      "The column Comments has 0 unique values.\n",
      "The raw data has been saved as .xlsx file in: D:\\Documents\\2020\\28_UNICEF\\10_working_repo\\data-etl\\data\\data_raw\\\n"
     ]
    }
   ],
   "source": [
    "# Extract raw data\n",
    "s158_raw = extract_who_api_data(\n",
    "    api_call_url = 'http://apps.who.int/gho/athena/api/GHO/SDGPM25.csv'\n",
    ")\n",
    "\n",
    "# Save raw data\n",
    "save_raw_data.save_raw_data(dataframe = s158_raw,\n",
    "             filename = 'S_158_raw.xlsx')"
   ]
  },
  {
   "cell_type": "markdown",
   "metadata": {},
   "source": [
    "### Cleansing"
   ]
  },
  {
   "cell_type": "code",
   "execution_count": 63,
   "metadata": {
    "scrolled": true
   },
   "outputs": [
    {
     "name": "stdout",
     "output_type": "stream",
     "text": [
      "The raw data has been saved as .xlsx file in: D:\\Documents\\2020\\28_UNICEF\\10_working_repo\\data-etl\\data\\data_cleansed\\\n"
     ]
    }
   ],
   "source": [
    "# \"Display Value\" in this dataset contaings value plus additional info as str. Parse actual value\n",
    "s158_raw['Display Value'] = pd.to_numeric(s158_raw['Display Value'].apply(\n",
    "    lambda x : re.sub(' \\[(.*)\\]', '', x) if x != 'No data' else None))\n",
    "\n",
    "# Obtain latest available observation and discard countries that are not in the final CRBA country list \n",
    "s158_cleansed = cleanse_who_api_num_data(raw_data = s158_raw,\n",
    "                                   raw_data_iso_3_col = 'COUNTRY',\n",
    "                                   country_df = country_crba_list,\n",
    "                                   country_df_iso3_col = 'COUNTRY_ISO_3',\n",
    "                                   non_dim_cols = ['YEAR',\n",
    "                                                   'REGION',\n",
    "                                                   'UNREGION',\n",
    "                                                   'WORLDBANKINCOMEGROUP',\n",
    "                                                   'Display Value',\n",
    "                                                   'DATASOURCE',\n",
    "                                                   'Numeric',\n",
    "                                                   'Low',\n",
    "                                                   'High',\n",
    "                                                   'Comments'\n",
    "                                                  ]\n",
    "                                   ) \n",
    "\n",
    "# save cleansed data\n",
    "save_cleansed_data(dataframe = s158_cleansed,\n",
    "             filename = 'S_158_cleansed.xlsx')"
   ]
  },
  {
   "cell_type": "markdown",
   "metadata": {},
   "source": [
    "### Normalization"
   ]
  },
  {
   "cell_type": "code",
   "execution_count": 64,
   "metadata": {},
   "outputs": [
    {
     "name": "stdout",
     "output_type": "stream",
     "text": [
      "You have a selected a few columns, which will not be regarded as dimensions. These are the remaining columns in the dataset, along with the number of values they take in the dataset.\n",
      "The column GHO has 1 unique values.\n",
      "The column PUBLISHSTATE has 1 unique values.\n",
      "The column RESIDENCEAREATYPE has 3 unique values.\n",
      "The total number of subgroups in the dataset is therefore: 3\n",
      "\n",
      " - \n",
      "\n",
      "In the loop we are currently dealing with the subset #1, which has these defining values: \n",
      " \n",
      "        GHO PUBLISHSTATE RESIDENCEAREATYPE\n",
      "0  SDGPM25    PUBLISHED               RUR\n",
      "\n",
      " The shape of the subset in the cleansed dataset is: (190, 16) \n",
      " \n",
      " \n",
      "The distribution of the raw data values this subgroup contains outliers or is too skewed on the upper end. The maximum value to be used for the normalisation is: 3rd quartile or distribution + 1.5 * IQR. It is: 68.42499999999998 \n",
      " See histogram printed below for info. \n",
      "\n",
      "The distribution of the raw data for this subgroup does not contain outliers or is too skewed on the lower end. The minimum value used for the normalisation is the minimum value in the dataset, which is 5.2. This value corresponds to country: 390    New Zealand\n",
      "Name: COUNTRY_NAME, dtype: object \n",
      "\n",
      "\n",
      " This is the distribution of the raw data of the indicator.\n",
      "AxesSubplot(0.125,0.125;0.775x0.755)\n",
      "\n",
      " The shape of the dataframe should be 195 x X. It is:  (195, 20) \n",
      " \n",
      " \n",
      " This is the end of loop #1. \n",
      " - \n",
      " \n",
      "\n",
      " - \n",
      "\n",
      "In the loop we are currently dealing with the subset #2, which has these defining values: \n",
      " \n",
      "        GHO PUBLISHSTATE RESIDENCEAREATYPE\n",
      "1  SDGPM25    PUBLISHED              TOTL\n",
      "\n",
      " The shape of the subset in the cleansed dataset is: (192, 16) \n",
      " \n",
      " \n",
      "The distribution of the raw data values this subgroup contains outliers or is too skewed on the upper end. The maximum value to be used for the normalisation is: 3rd quartile or distribution + 1.5 * IQR. It is: 60.512499999999996 \n",
      " See histogram printed below for info. \n",
      "\n",
      "The distribution of the raw data for this subgroup does not contain outliers or is too skewed on the lower end. The minimum value used for the normalisation is the minimum value in the dataset, which is 5.7. This value corresponds to country: 391    New Zealand\n",
      "Name: COUNTRY_NAME, dtype: object \n",
      "\n",
      "\n",
      " This is the distribution of the raw data of the indicator.\n"
     ]
    },
    {
     "name": "stderr",
     "output_type": "stream",
     "text": [
      "D:\\Documents\\2020\\28_UNICEF\\10_working_repo\\data-etl\\normalize\\scaler.py:243: SettingWithCopyWarning: \n",
      "A value is trying to be set on a copy of a slice from a DataFrame.\n",
      "Try using .loc[row_indexer,col_indexer] = value instead\n",
      "\n",
      "See the caveats in the documentation: https://pandas.pydata.org/pandas-docs/stable/user_guide/indexing.html#returning-a-view-versus-a-copy\n",
      "  cleansed_data_subset['SCALED'] = round(10 - 10 * (cleansed_data_subset[indicator_raw_value].astype('float') - min_val)/ tot_range, 2)\n",
      "D:\\Documents\\2020\\28_UNICEF\\10_working_repo\\data-etl\\normalize\\scaler.py:243: SettingWithCopyWarning: \n",
      "A value is trying to be set on a copy of a slice from a DataFrame.\n",
      "Try using .loc[row_indexer,col_indexer] = value instead\n",
      "\n",
      "See the caveats in the documentation: https://pandas.pydata.org/pandas-docs/stable/user_guide/indexing.html#returning-a-view-versus-a-copy\n",
      "  cleansed_data_subset['SCALED'] = round(10 - 10 * (cleansed_data_subset[indicator_raw_value].astype('float') - min_val)/ tot_range, 2)\n"
     ]
    },
    {
     "name": "stdout",
     "output_type": "stream",
     "text": [
      "AxesSubplot(0.125,0.125;0.775x0.755)\n",
      "\n",
      " The shape of the dataframe should be 195 x X. It is:  (195, 20) \n",
      " \n",
      " \n",
      " This is the end of loop #2. \n",
      " - \n",
      " \n",
      "\n",
      " - \n",
      "\n",
      "In the loop we are currently dealing with the subset #3, which has these defining values: \n",
      " \n",
      "        GHO PUBLISHSTATE RESIDENCEAREATYPE\n",
      "2  SDGPM25    PUBLISHED               URB\n",
      "\n",
      " The shape of the subset in the cleansed dataset is: (192, 16) \n",
      " \n",
      " \n",
      "The distribution of the raw data values this subgroup contains outliers or is too skewed on the upper end. The maximum value to be used for the normalisation is: 3rd quartile or distribution + 1.5 * IQR. It is: 59.262499999999996 \n",
      " See histogram printed below for info. \n",
      "\n",
      "The distribution of the raw data for this subgroup does not contain outliers or is too skewed on the lower end. The minimum value used for the normalisation is the minimum value in the dataset, which is 5.8. This value corresponds to country: 75          Brunei\n",
      "76          Brunei\n",
      "77          Brunei\n",
      "392    New Zealand\n",
      "Name: COUNTRY_NAME, dtype: object \n",
      "\n",
      "\n",
      " This is the distribution of the raw data of the indicator.\n",
      "AxesSubplot(0.125,0.125;0.775x0.755)\n",
      "\n",
      " The shape of the dataframe should be 195 x X. It is:  (195, 20) \n",
      " \n",
      " \n",
      " This is the end of loop #3. \n",
      " - \n",
      " \n",
      "\n",
      " - \n"
     ]
    },
    {
     "name": "stderr",
     "output_type": "stream",
     "text": [
      "D:\\Documents\\2020\\28_UNICEF\\10_working_repo\\data-etl\\normalize\\scaler.py:243: SettingWithCopyWarning: \n",
      "A value is trying to be set on a copy of a slice from a DataFrame.\n",
      "Try using .loc[row_indexer,col_indexer] = value instead\n",
      "\n",
      "See the caveats in the documentation: https://pandas.pydata.org/pandas-docs/stable/user_guide/indexing.html#returning-a-view-versus-a-copy\n",
      "  cleansed_data_subset['SCALED'] = round(10 - 10 * (cleansed_data_subset[indicator_raw_value].astype('float') - min_val)/ tot_range, 2)\n"
     ]
    },
    {
     "name": "stdout",
     "output_type": "stream",
     "text": [
      "\n",
      "In the loop we are currently dealing with the subset #4, which has these defining values: \n",
      " \n",
      " Empty DataFrame\n",
      "Columns: [GHO, PUBLISHSTATE, RESIDENCEAREATYPE]\n",
      "Index: []\n",
      "\n",
      " The shape of the subset in the cleansed dataset is: (0, 16) \n",
      " \n",
      " \n",
      "Dataframe is empty. There are no values to append.\n",
      " \n",
      " This is the end of loop #4. \n",
      " - \n",
      " \n",
      "The number of rows of the final dataframe (before the conversion from wide to long format is) is divisible by 195. It is: (585, 22)\n",
      "The raw data has been saved as .xlsx file in: D:\\Documents\\2020\\28_UNICEF\\10_working_repo\\data-etl\\data\\data_normalized\\\n"
     ]
    },
    {
     "data": {
      "image/png": "[encoded data removed]",
      "text/plain": [
       "<Figure size 432x288 with 1 Axes>"
      ]
     },
     "metadata": {
      "needs_background": "light"
     },
     "output_type": "display_data"
    }
   ],
   "source": [
    "# Scale the raw data and bring the dataframe into long formmat\n",
    "s158_normalized = scaler.normalizer(cleansed_data = s158_cleansed,\n",
    "                        indicator_raw_value = 'Display Value',\n",
    "                        indicator_code = 'NEW',\n",
    "                        indicator_name = 'Exposure to air pollution',\n",
    "                        cleansed_df_iso2_col = 'COUNTRY_ISO_3',\n",
    "                        crba_final_country_list = country_crba_list,\n",
    "                        crba_final_country_list_iso_col = 'COUNTRY_ISO_3',\n",
    "                        inverted = True,\n",
    "                        non_dim_cols = ['DATASOURCE',\n",
    "                                        'YEAR',\n",
    "                                        'REGION',\n",
    "                                        'UNREGION',\n",
    "                                        'WORLDBANKINCOMEGROUP',\n",
    "                                        'COUNTRY',\n",
    "                                        'Display Value',\n",
    "                                        'Numeric',\n",
    "                                        'Low',\n",
    "                                        'High',\n",
    "                                        'Comments',\n",
    "                                        'COUNTRY_ISO_3',\n",
    "                                        'COUNTRY_NAME',\n",
    "                                        'COUNTRY_ISO_2',\n",
    "                                        '_merge'\n",
    "                                        ]\n",
    "                       )\n",
    "\n",
    "# save normalized data\n",
    "save_normalized_data.save_normalized_data(dataframe = s158_normalized,\n",
    "             filename = 'S_158_normalized.xlsx')"
   ]
  },
  {
   "cell_type": "markdown",
   "metadata": {},
   "source": [
    "## S-199 Current health expenditure (CHE) per capita in PPP int US Dollar \"GHED_CHE_pc_PPP_SHA2011\""
   ]
  },
  {
   "cell_type": "markdown",
   "metadata": {},
   "source": [
    "### Extraction"
   ]
  },
  {
   "cell_type": "code",
   "execution_count": 41,
   "metadata": {
    "scrolled": false
   },
   "outputs": [
    {
     "name": "stdout",
     "output_type": "stream",
     "text": [
      "The following columns are present in the datasets, and this is the number of unique values they have. \n",
      "The column GHO has 1 unique values.\n",
      "The column PUBLISHSTATE has 1 unique values.\n",
      "The column YEAR has 18 unique values.\n",
      "The column REGION has 7 unique values.\n",
      "The column WORLDBANKINCOMEGROUP has 5 unique values.\n",
      "The column COUNTRY has 190 unique values.\n",
      "The column Display Value has 3165 unique values.\n",
      "The column Numeric has 3563 unique values.\n",
      "The column Low has 0 unique values.\n",
      "The column High has 0 unique values.\n",
      "The column Comments has 0 unique values.\n",
      "The raw data has been saved as .xlsx file in: D:\\Documents\\2020\\28_UNICEF\\10_working_repo\\data-etl\\data\\data_raw\\\n"
     ]
    }
   ],
   "source": [
    "# Extract raw data\n",
    "s199_raw = extract_who_api_data(\n",
    "    api_call_url = 'http://apps.who.int/gho/athena/api/GHO/GHED_CHE_pc_PPP_SHA2011.csv'\n",
    ")\n",
    "\n",
    "# Save raw data\n",
    "save_raw_data.save_raw_data(dataframe = s199_raw,\n",
    "             filename = 'S_199_raw.xlsx')"
   ]
  },
  {
   "cell_type": "markdown",
   "metadata": {},
   "source": [
    "### Cleansing"
   ]
  },
  {
   "cell_type": "code",
   "execution_count": 44,
   "metadata": {
    "scrolled": true
   },
   "outputs": [
    {
     "name": "stdout",
     "output_type": "stream",
     "text": [
      "The raw data has been saved as .xlsx file in: D:\\Documents\\2020\\28_UNICEF\\10_working_repo\\data-etl\\data\\data_cleansed\\\n"
     ]
    }
   ],
   "source": [
    "# \"Display Value\" in this dataset contaings value plus additional info as str. Parse actual value\n",
    "# s199_raw['Display Value'] = pd.to_numeric(s158_raw['Display Value'].apply(\n",
    "#    lambda x : re.sub(' \\[(.*)\\]', '', x) if x != 'No data' else None))\n",
    "\n",
    "# Obtain latest available observation and discard countries that are not in the final CRBA country list \n",
    "s199_cleansed = cleanse_who_api_num_data(raw_data = s199_raw,\n",
    "                                   raw_data_iso_3_col = 'COUNTRY',\n",
    "                                   country_df = country_crba_list,\n",
    "                                   country_df_iso3_col = 'COUNTRY_ISO_3',\n",
    "                                   non_dim_cols = ['YEAR',\n",
    "                                                   'REGION',\n",
    "                                                   'UNREGION',\n",
    "                                                   'WORLDBANKINCOMEGROUP',\n",
    "                                                   'Display Value',\n",
    "                                                   'DATASOURCE',\n",
    "                                                   'Numeric',\n",
    "                                                   'Low',\n",
    "                                                   'High',\n",
    "                                                   'Comments'\n",
    "                                                  ]\n",
    "                                   ) \n",
    "\n",
    "# save cleansed data\n",
    "save_cleansed_data(dataframe = s199_cleansed,\n",
    "             filename = 'S_199_cleansed.xlsx')"
   ]
  },
  {
   "cell_type": "markdown",
   "metadata": {},
   "source": [
    "### Normalization"
   ]
  },
  {
   "cell_type": "code",
   "execution_count": 45,
   "metadata": {},
   "outputs": [
    {
     "name": "stdout",
     "output_type": "stream",
     "text": [
      "You have a selected a few columns, which will not be regarded as dimensions. These are the remaining columns in the dataset, along with the number of values they take in the dataset.\n",
      "The column GHO has 1 unique values.\n",
      "The column PUBLISHSTATE has 1 unique values.\n",
      "The total number of subgroups in the dataset is therefore: 1\n",
      "\n",
      " - \n",
      "\n",
      "In the loop we are currently dealing with the subset #1, which has these defining values: \n",
      " \n",
      "                        GHO PUBLISHSTATE\n",
      "0  GHED_CHE_pc_PPP_SHA2011    PUBLISHED\n",
      "\n",
      " The shape of the subset in the cleansed dataset is: (188, 15) \n",
      " \n",
      " \n",
      "The distribution of the raw data values this subgroup contains outliers or is too skewed on the upper end. The maximum value to be used for the normalisation is: 3rd quartile or distribution + 1.5 * IQR. It is: 4504.9375 \n",
      " See histogram printed below for info. \n",
      "\n",
      "The distribution of the raw data for this subgroup does not contain outliers or is too skewed on the lower end. The minimum value used for the normalisation is the minimum value in the dataset, which is 37.3. This value corresponds to country: 45    DR Congo\n",
      "Name: COUNTRY_NAME, dtype: object \n",
      "\n",
      "\n",
      " This is the distribution of the raw data of the indicator.\n",
      "AxesSubplot(0.125,0.125;0.775x0.755)\n",
      "\n",
      " The shape of the dataframe should be 195 x X. It is:  (195, 19) \n",
      " \n",
      " \n",
      " This is the end of loop #1. \n",
      " - \n",
      " \n",
      "\n",
      " - \n",
      "\n",
      "In the loop we are currently dealing with the subset #2, which has these defining values: \n",
      " \n",
      " Empty DataFrame\n",
      "Columns: [GHO, PUBLISHSTATE]\n",
      "Index: []\n",
      "\n",
      " The shape of the subset in the cleansed dataset is: (0, 15) \n",
      " \n",
      " \n",
      "Dataframe is empty. There are no values to append.\n",
      " \n",
      " This is the end of loop #2. \n",
      " - \n",
      " \n",
      "The number of rows of the final dataframe (before the conversion from wide to long format is) is divisible by 195. It is: (195, 21)\n"
     ]
    },
    {
     "name": "stderr",
     "output_type": "stream",
     "text": [
      "D:\\Documents\\2020\\28_UNICEF\\10_working_repo\\data-etl\\normalize\\scaler.py:245: SettingWithCopyWarning: \n",
      "A value is trying to be set on a copy of a slice from a DataFrame.\n",
      "Try using .loc[row_indexer,col_indexer] = value instead\n",
      "\n",
      "See the caveats in the documentation: https://pandas.pydata.org/pandas-docs/stable/user_guide/indexing.html#returning-a-view-versus-a-copy\n",
      "  cleansed_data_subset['SCALED'] = round(10 * (cleansed_data_subset[indicator_raw_value].astype('float') - min_val)/ tot_range, 2)\n"
     ]
    },
    {
     "name": "stdout",
     "output_type": "stream",
     "text": [
      "The raw data has been saved as .xlsx file in: D:\\Documents\\2020\\28_UNICEF\\10_working_repo\\data-etl\\data\\data_normalized\\\n"
     ]
    },
    {
     "data": {
      "image/png": "[encoded data removed]",
      "text/plain": [
       "<Figure size 432x288 with 1 Axes>"
      ]
     },
     "metadata": {
      "needs_background": "light"
     },
     "output_type": "display_data"
    }
   ],
   "source": [
    "# Scale the raw data and bring the dataframe into long formmat\n",
    "s199_normalized = scaler.normalizer(cleansed_data = s199_cleansed,\n",
    "                        indicator_raw_value = 'Display Value',\n",
    "                        indicator_code = '2.1.4',\n",
    "                        indicator_name = 'Health expenditure',\n",
    "                        cleansed_df_iso2_col = 'COUNTRY_ISO_3',\n",
    "                        crba_final_country_list = country_crba_list,\n",
    "                        crba_final_country_list_iso_col = 'COUNTRY_ISO_3',\n",
    "                        inverted = False,\n",
    "                        non_dim_cols = ['DATASOURCE',\n",
    "                                        'YEAR',\n",
    "                                        'REGION',\n",
    "                                        'UNREGION',\n",
    "                                        'WORLDBANKINCOMEGROUP',\n",
    "                                        'COUNTRY',\n",
    "                                        'Display Value',\n",
    "                                        'Numeric',\n",
    "                                        'Low',\n",
    "                                        'High',\n",
    "                                        'Comments',\n",
    "                                        'COUNTRY_ISO_3',\n",
    "                                        'COUNTRY_NAME',\n",
    "                                        'COUNTRY_ISO_2',\n",
    "                                        '_merge'\n",
    "                                        ]\n",
    "                       )\n",
    "\n",
    "# save normalized data\n",
    "save_normalized_data.save_normalized_data(dataframe = s199_normalized,\n",
    "             filename = 'S_199_normalized.xlsx')"
   ]
  },
  {
   "cell_type": "markdown",
   "metadata": {},
   "source": [
    "## S-200 Extent of implementation of child protection services \"VIOLENCE_EXTENTIMP_CHILDPROTECTION\""
   ]
  },
  {
   "cell_type": "markdown",
   "metadata": {},
   "source": [
    "### Extraction"
   ]
  },
  {
   "cell_type": "code",
   "execution_count": 72,
   "metadata": {
    "scrolled": false
   },
   "outputs": [
    {
     "name": "stdout",
     "output_type": "stream",
     "text": [
      "The following columns are present in the datasets, and this is the number of unique values they have. \n",
      "The column GHO has 1 unique values.\n",
      "The column PUBLISHSTATE has 1 unique values.\n",
      "The column YEAR has 1 unique values.\n",
      "The column REGION has 6 unique values.\n",
      "The column COUNTRY has 132 unique values.\n",
      "The column Display Value has 3 unique values.\n",
      "The column Numeric has 0 unique values.\n",
      "The column Low has 0 unique values.\n",
      "The column High has 0 unique values.\n",
      "The column Comments has 0 unique values.\n",
      "The raw data has been saved as .xlsx file in: D:\\Documents\\2020\\28_UNICEF\\10_working_repo\\data-etl\\data\\data_raw\\\n"
     ]
    }
   ],
   "source": [
    "# Extract raw data\n",
    "s200_raw = extract_who_api_data(\n",
    "    api_call_url = 'http://apps.who.int/gho/athena/api/GHO/VIOLENCE_EXTENTIMP_CHILDPROTECTION.csv'\n",
    ")\n",
    "\n",
    "# Save raw data\n",
    "save_raw_data.save_raw_data(dataframe = s200_raw,\n",
    "             filename = 'S_200_raw.xlsx')"
   ]
  },
  {
   "cell_type": "markdown",
   "metadata": {},
   "source": [
    "### Cleansing"
   ]
  },
  {
   "cell_type": "code",
   "execution_count": 73,
   "metadata": {
    "scrolled": true
   },
   "outputs": [],
   "source": [
    "# Copy dataframe\n",
    "temp = s200_raw\n",
    "\n",
    "# Conditions\n",
    "conditions = [\n",
    "    (temp['Display Value'] == \"Don't know\"),\n",
    "    (temp['Display Value'] == 'None'),\n",
    "    (temp['Display Value'] == 'Limited'),\n",
    "    (temp['Display Value'] == 'Larger scale')\n",
    "    ]\n",
    "\n",
    "# Specify the normalized values\n",
    "encode_values = [0, 1, 2, 3]\n",
    "\n",
    "# create a new column and assign values to it using our lists\n",
    "temp['raw_data_enc'] = np.select(conditions, encode_values)"
   ]
  },
  {
   "cell_type": "markdown",
   "metadata": {},
   "source": [
    "### Normalization"
   ]
  },
  {
   "cell_type": "code",
   "execution_count": 74,
   "metadata": {},
   "outputs": [
    {
     "name": "stdout",
     "output_type": "stream",
     "text": [
      "The raw data has been saved as .xlsx file in: D:\\Documents\\2020\\28_UNICEF\\10_working_repo\\data-etl\\data\\data_normalized\\\n"
     ]
    }
   ],
   "source": [
    "# Scale the raw data and bring the dataframe into long formmat\n",
    "s200_normalized = scaler.normalizer(cleansed_data = temp, # change this if the cleansing section is fixed\n",
    "                        indicator_raw_value = 'raw_data_enc',\n",
    "                        indicator_code = '2.1.5.',\n",
    "                        indicator_name = 'Child protection service',\n",
    "                        cleansed_df_iso2_col = 'COUNTRY',\n",
    "                        crba_final_country_list = country_crba_list,\n",
    "                        crba_final_country_list_iso_col = 'COUNTRY_ISO_3',\n",
    "                        cat_var = True,\n",
    "                        cat_scoring_type = 'Type 3-2-1-0'     \n",
    "                       )\n",
    "\n",
    "# save normalized data\n",
    "save_normalized_data.save_normalized_data(dataframe = s200_normalized,\n",
    "             filename = 'S_200_normalized.xlsx')"
   ]
  },
  {
   "cell_type": "markdown",
   "metadata": {},
   "source": [
    "## S-201 Youth violence: Extent of implementation of life-skills and social development programmes\"VIOLENCE_EXTENTIMP_YOUTHLIFESKILLS\""
   ]
  },
  {
   "cell_type": "markdown",
   "metadata": {},
   "source": [
    "### Extraction"
   ]
  },
  {
   "cell_type": "code",
   "execution_count": 88,
   "metadata": {
    "scrolled": false
   },
   "outputs": [
    {
     "name": "stdout",
     "output_type": "stream",
     "text": [
      "The following columns are present in the datasets, and this is the number of unique values they have. \n",
      "The column GHO has 1 unique values.\n",
      "The column PUBLISHSTATE has 1 unique values.\n",
      "The column YEAR has 1 unique values.\n",
      "The column REGION has 6 unique values.\n",
      "The column COUNTRY has 132 unique values.\n",
      "The column Display Value has 4 unique values.\n",
      "The column Numeric has 0 unique values.\n",
      "The column Low has 0 unique values.\n",
      "The column High has 0 unique values.\n",
      "The column Comments has 0 unique values.\n",
      "The raw data has been saved as .xlsx file in: D:\\Documents\\2020\\28_UNICEF\\10_working_repo\\data-etl\\data\\data_raw\\\n"
     ]
    }
   ],
   "source": [
    "# Extract raw data\n",
    "s201_raw = extract_who_api_data(\n",
    "    api_call_url = 'http://apps.who.int/gho/athena/api/GHO/VIOLENCE_EXTENTIMP_YOUTHLIFESKILLS.csv'\n",
    ")\n",
    "\n",
    "# Save raw data\n",
    "save_raw_data.save_raw_data(dataframe = s201_raw,\n",
    "             filename = 'S_201_raw.xlsx')"
   ]
  },
  {
   "cell_type": "markdown",
   "metadata": {},
   "source": [
    "### Cleansing"
   ]
  },
  {
   "cell_type": "code",
   "execution_count": 89,
   "metadata": {
    "scrolled": true
   },
   "outputs": [],
   "source": [
    "# Copy dataframe\n",
    "temp = s201_raw\n",
    "\n",
    "# Conditions\n",
    "conditions = [\n",
    "    (temp['Display Value'] == \"Don't know\"),\n",
    "    (temp['Display Value'] == 'None'),\n",
    "    (temp['Display Value'] == 'Limited'),\n",
    "    (temp['Display Value'] == 'Larger scale')\n",
    "    ]\n",
    "\n",
    "# Specify the normalized values\n",
    "encode_values = [0, 1, 2, 3]\n",
    "\n",
    "# create a new column and assign values to it using our lists\n",
    "temp['raw_data_enc'] = np.select(conditions, encode_values)"
   ]
  },
  {
   "cell_type": "markdown",
   "metadata": {},
   "source": [
    "### Normalization"
   ]
  },
  {
   "cell_type": "code",
   "execution_count": 90,
   "metadata": {},
   "outputs": [
    {
     "name": "stdout",
     "output_type": "stream",
     "text": [
      "The raw data has been saved as .xlsx file in: D:\\Documents\\2020\\28_UNICEF\\10_working_repo\\data-etl\\data\\data_normalized\\\n"
     ]
    }
   ],
   "source": [
    "# Scale the raw data and bring the dataframe into long formmat\n",
    "s201_normalized = scaler.normalizer(cleansed_data = temp, # change this if the cleansing section is fixed\n",
    "                        indicator_raw_value = 'raw_data_enc',\n",
    "                        indicator_code = '2.1.6.',\n",
    "                        indicator_name = 'Life skills and social development programmes',\n",
    "                        cleansed_df_iso2_col = 'COUNTRY',\n",
    "                        crba_final_country_list = country_crba_list,\n",
    "                        crba_final_country_list_iso_col = 'COUNTRY_ISO_3',\n",
    "                        cat_var = True,\n",
    "                        cat_scoring_type = 'Type 3-2-1-0'     \n",
    "                       )\n",
    "\n",
    "# save normalized data\n",
    "save_normalized_data.save_normalized_data(dataframe = s201_normalized,\n",
    "             filename = 'S_201_normalized.xlsx')"
   ]
  },
  {
   "cell_type": "markdown",
   "metadata": {},
   "source": [
    "# Misc sources: Data cleansing - normalization"
   ]
  },
  {
   "cell_type": "markdown",
   "metadata": {},
   "source": [
    "## S-11 Economist Intelligence Unit, Out of the Shadows Index. Legal Framework score only\n",
    "\n",
    "I have decided to not automate this process, because the Excel is so nested that it is very difficult to do that. And it's faster and less erorr prone to retrieve the data manually. "
   ]
  },
  {
   "cell_type": "markdown",
   "metadata": {},
   "source": [
    "## S-60 (prev S-18) Walk Free Foundation.Global Slavery Index. Prevalence of Modern Slavery. Prevalence score only.\n",
    "### Extraction\n",
    "\n",
    "This code will no longer run, because the link to download the data was only valid for a limited time. I am commenting things out for now and will later find a solution on how to deal with that (Michael, 30.08.20)"
   ]
  },
  {
   "cell_type": "code",
   "execution_count": null,
   "metadata": {},
   "outputs": [],
   "source": [
    "\"\"\"\n",
    "# Extract data\n",
    "url = 'http://downloads.globalslaveryindex.org/ephemeral/FINAL-GSI-2018-DATA-G20-AND-FISHING-1597151668.xlsx'\n",
    "\n",
    "s60_raw = pd.read_excel(io = url, \n",
    "                      sheet_name = 'Global prev, vuln, govt table',\n",
    "                       skiprows = 2)\n",
    "\n",
    "# Save data to raw data folder\n",
    "save_raw_data.save_raw_data(dataframe = s60_raw,\n",
    "             filename = 'S_60.xlsx')\n",
    "\"\"\""
   ]
  },
  {
   "cell_type": "markdown",
   "metadata": {},
   "source": [
    "### Transform"
   ]
  },
  {
   "cell_type": "code",
   "execution_count": null,
   "metadata": {
    "scrolled": true
   },
   "outputs": [],
   "source": [
    "\"\"\"\n",
    "# Filter relevant columns\n",
    "s60_raw = s60_raw[['Country ', # FYI: note the trailing space after Country\n",
    "        'Est. prevalence of population in modern slavery (victims per 1,000 population)']]\n",
    "\n",
    "# The data is from 2018, and is therefore assumed to be reflecting the prevalen in the year 2018\n",
    "s60_cleansed = s60_raw.assign(Year = 2018)\n",
    "\"\"\""
   ]
  },
  {
   "cell_type": "markdown",
   "metadata": {},
   "source": [
    "### Normalization (scaling)"
   ]
  },
  {
   "cell_type": "code",
   "execution_count": null,
   "metadata": {},
   "outputs": [],
   "source": [
    "\"\"\"\n",
    "# Scale the raw data and \n",
    "s60_scaled = s60_cleansed.assign(\n",
    "    scaled = scaler(s60_cleansed['Est. prevalence of population in modern slavery (victims per 1,000 population)']))\n",
    "\"\"\""
   ]
  },
  {
   "cell_type": "markdown",
   "metadata": {},
   "source": [
    "### Left join to counry list to bring it into target format"
   ]
  },
  {
   "cell_type": "code",
   "execution_count": null,
   "metadata": {},
   "outputs": [],
   "source": [
    "\"\"\"\n",
    "# Concatenate data to the\n",
    "s60_final = country_full_list.merge(right = s60_scaled,\n",
    "                 indicator = True,\n",
    "                 how = 'inner',\n",
    "                 left_on = 'CountryDesc',\n",
    "                 right_on = 'Country ',\n",
    "                 validate = 'many_to_one').assign(indicator ='I-18')\n",
    "\n",
    "# Check if some countries got lost during the join\n",
    "print('The number of rows in the raw data set was {}. The number of available datapoints in the final dataframe is {}. This difference is explicable because there were already missing values for the value in sxx_ scaled dataset'.format(\n",
    "    len(s60_scaled), \n",
    "    s60_final['Est. prevalence of population in modern slavery (victims per 1,000 population)'].notna().sum(), \n",
    "    len(s60_scaled) - s60_final['Est. prevalence of population in modern slavery (victims per 1,000 population)'].notna().sum()))\n",
    "\n",
    "\"\"\""
   ]
  }
 ],
 "metadata": {
  "kernelspec": {
   "display_name": "Python 3",
   "language": "python",
   "name": "python3"
  },
  "language_info": {
   "codemirror_mode": {
    "name": "ipython",
    "version": 3
   },
   "file_extension": ".py",
   "mimetype": "text/x-python",
   "name": "python",
   "nbconvert_exporter": "python",
   "pygments_lexer": "ipython3",
   "version": "3.7.6"
  },
  "toc": {
   "base_numbering": 1,
   "nav_menu": {},
   "number_sections": true,
   "sideBar": true,
   "skip_h1_title": false,
   "title_cell": "Table of Contents",
   "title_sidebar": "Contents",
   "toc_cell": true,
   "toc_position": {
    "height": "calc(100% - 180px)",
    "left": "10px",
    "top": "150px",
    "width": "274.633px"
   },
   "toc_section_display": true,
   "toc_window_display": true
  }
 },
 "nbformat": 4,
 "nbformat_minor": 4
}
