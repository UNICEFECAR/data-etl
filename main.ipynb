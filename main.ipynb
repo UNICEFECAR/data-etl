{
 "cells": [
  {
   "cell_type": "markdown",
   "metadata": {
    "toc": true
   },
   "source": [
    "<h1>Table of Contents<span class=\"tocSkip\"></span></h1>\n",
    "<div class=\"toc\"><ul class=\"toc-item\"><li><span><a href=\"#Data-extraction-CRBA\" data-toc-modified-id=\"Data-extraction-CRBA-1\"><span class=\"toc-item-num\">1&nbsp;&nbsp;</span>Data extraction CRBA</a></span><ul class=\"toc-item\"><li><span><a href=\"#Backlog-of-tasks\" data-toc-modified-id=\"Backlog-of-tasks-1.1\"><span class=\"toc-item-num\">1.1&nbsp;&nbsp;</span>Backlog of tasks</a></span></li><li><span><a href=\"#Preliminaries\" data-toc-modified-id=\"Preliminaries-1.2\"><span class=\"toc-item-num\">1.2&nbsp;&nbsp;</span>Preliminaries</a></span></li><li><span><a href=\"#Define-function\" data-toc-modified-id=\"Define-function-1.3\"><span class=\"toc-item-num\">1.3&nbsp;&nbsp;</span>Define function</a></span><ul class=\"toc-item\"><li><span><a href=\"#Generic-functions\" data-toc-modified-id=\"Generic-functions-1.3.1\"><span class=\"toc-item-num\">1.3.1&nbsp;&nbsp;</span>Generic functions</a></span></li><li><span><a href=\"#UNESCO-API-specific-functions\" data-toc-modified-id=\"UNESCO-API-specific-functions-1.3.2\"><span class=\"toc-item-num\">1.3.2&nbsp;&nbsp;</span>UNESCO API specific functions</a></span></li><li><span><a href=\"#SDG-API-specific-functions\" data-toc-modified-id=\"SDG-API-specific-functions-1.3.3\"><span class=\"toc-item-num\">1.3.3&nbsp;&nbsp;</span>SDG API specific functions</a></span></li></ul></li></ul></li><li><span><a href=\"#Data-extraction\" data-toc-modified-id=\"Data-extraction-2\"><span class=\"toc-item-num\">2&nbsp;&nbsp;</span>Data extraction</a></span><ul class=\"toc-item\"><li><span><a href=\"#S-11-Economist-Intelligence-Unit,-Out-of-the-Shadows-Index.-Legal-Framework-score-only\" data-toc-modified-id=\"S-11-Economist-Intelligence-Unit,-Out-of-the-Shadows-Index.-Legal-Framework-score-only-2.1\"><span class=\"toc-item-num\">2.1&nbsp;&nbsp;</span>S-11 Economist Intelligence Unit, Out of the Shadows Index. Legal Framework score only</a></span></li><li><span><a href=\"#S-55-(prev-S-15)-Percentage-of-out-of-school-adolescents-of-lower-secondary-school-age.\" data-toc-modified-id=\"S-55-(prev-S-15)-Percentage-of-out-of-school-adolescents-of-lower-secondary-school-age.-2.2\"><span class=\"toc-item-num\">2.2&nbsp;&nbsp;</span>S-55 (prev S-15) Percentage of out-of-school adolescents of lower secondary school age.</a></span><ul class=\"toc-item\"><li><span><a href=\"#Extraction\" data-toc-modified-id=\"Extraction-2.2.1\"><span class=\"toc-item-num\">2.2.1&nbsp;&nbsp;</span>Extraction</a></span></li><li><span><a href=\"#Cleansing\" data-toc-modified-id=\"Cleansing-2.2.2\"><span class=\"toc-item-num\">2.2.2&nbsp;&nbsp;</span>Cleansing</a></span></li><li><span><a href=\"#Normalization-(scaling)\" data-toc-modified-id=\"Normalization-(scaling)-2.2.3\"><span class=\"toc-item-num\">2.2.3&nbsp;&nbsp;</span>Normalization (scaling)</a></span></li><li><span><a href=\"#Left-join-to-counry-list-to-bring-it-into-target-format\" data-toc-modified-id=\"Left-join-to-counry-list-to-bring-it-into-target-format-2.2.4\"><span class=\"toc-item-num\">2.2.4&nbsp;&nbsp;</span>Left join to counry list to bring it into target format</a></span></li></ul></li><li><span><a href=\"#S-56-(prev-S-16)-Percentage-of-out-of-school-youth-of-upper-secondary-school-age\" data-toc-modified-id=\"S-56-(prev-S-16)-Percentage-of-out-of-school-youth-of-upper-secondary-school-age-2.3\"><span class=\"toc-item-num\">2.3&nbsp;&nbsp;</span>S-56 (prev S-16) Percentage of out-of-school youth of upper secondary school age</a></span><ul class=\"toc-item\"><li><span><a href=\"#Extraction\" data-toc-modified-id=\"Extraction-2.3.1\"><span class=\"toc-item-num\">2.3.1&nbsp;&nbsp;</span>Extraction</a></span></li><li><span><a href=\"#Cleansing\" data-toc-modified-id=\"Cleansing-2.3.2\"><span class=\"toc-item-num\">2.3.2&nbsp;&nbsp;</span>Cleansing</a></span></li><li><span><a href=\"#Normalization-(scaling)\" data-toc-modified-id=\"Normalization-(scaling)-2.3.3\"><span class=\"toc-item-num\">2.3.3&nbsp;&nbsp;</span>Normalization (scaling)</a></span></li><li><span><a href=\"#Left-join-to-counry-list-to-bring-it-into-target-format\" data-toc-modified-id=\"Left-join-to-counry-list-to-bring-it-into-target-format-2.3.4\"><span class=\"toc-item-num\">2.3.4&nbsp;&nbsp;</span>Left join to counry list to bring it into target format</a></span></li></ul></li><li><span><a href=\"#S-24-(prev.-S-14)-SDG-Indicator-8.7.1-Proportion-of-children-aged-5-17-years-engaged-in-child-labour-SL_TLF_CHLDEA\" data-toc-modified-id=\"S-24-(prev.-S-14)-SDG-Indicator-8.7.1-Proportion-of-children-aged-5-17-years-engaged-in-child-labour-SL_TLF_CHLDEA-2.4\"><span class=\"toc-item-num\">2.4&nbsp;&nbsp;</span>S-24 (prev. S-14) SDG Indicator 8.7.1 Proportion of children aged 5-17 years engaged in child labour SL_TLF_CHLDEA</a></span><ul class=\"toc-item\"><li><span><a href=\"#Extraction\" data-toc-modified-id=\"Extraction-2.4.1\"><span class=\"toc-item-num\">2.4.1&nbsp;&nbsp;</span>Extraction</a></span></li><li><span><a href=\"#Transformation\" data-toc-modified-id=\"Transformation-2.4.2\"><span class=\"toc-item-num\">2.4.2&nbsp;&nbsp;</span>Transformation</a></span></li><li><span><a href=\"#Normalization-(scaling)\" data-toc-modified-id=\"Normalization-(scaling)-2.4.3\"><span class=\"toc-item-num\">2.4.3&nbsp;&nbsp;</span>Normalization (scaling)</a></span></li><li><span><a href=\"#Left-join-to-counry-list-to-bring-it-into-target-format\" data-toc-modified-id=\"Left-join-to-counry-list-to-bring-it-into-target-format-2.4.4\"><span class=\"toc-item-num\">2.4.4&nbsp;&nbsp;</span>Left join to counry list to bring it into target format</a></span></li></ul></li><li><span><a href=\"#S-23-(prev.-S-17)-ILO-STAT-Informal-Employment-(%-of-total-non-agricultural-employment)-SL_ISV_IFEM\" data-toc-modified-id=\"S-23-(prev.-S-17)-ILO-STAT-Informal-Employment-(%-of-total-non-agricultural-employment)-SL_ISV_IFEM-2.5\"><span class=\"toc-item-num\">2.5&nbsp;&nbsp;</span>S-23 (prev. S-17) ILO STAT Informal Employment (% of total non-agricultural employment) SL_ISV_IFEM</a></span><ul class=\"toc-item\"><li><span><a href=\"#Extraction\" data-toc-modified-id=\"Extraction-2.5.1\"><span class=\"toc-item-num\">2.5.1&nbsp;&nbsp;</span>Extraction</a></span></li><li><span><a href=\"#Transformation\" data-toc-modified-id=\"Transformation-2.5.2\"><span class=\"toc-item-num\">2.5.2&nbsp;&nbsp;</span>Transformation</a></span></li><li><span><a href=\"#Normalization-(scaling)\" data-toc-modified-id=\"Normalization-(scaling)-2.5.3\"><span class=\"toc-item-num\">2.5.3&nbsp;&nbsp;</span>Normalization (scaling)</a></span></li><li><span><a href=\"#Left-join-to-counry-list-to-bring-it-into-target-format\" data-toc-modified-id=\"Left-join-to-counry-list-to-bring-it-into-target-format-2.5.4\"><span class=\"toc-item-num\">2.5.4&nbsp;&nbsp;</span>Left join to counry list to bring it into target format</a></span></li></ul></li><li><span><a href=\"#S-60-(prev-S-18)-Walk-Free-Foundation.Global-Slavery-Index.-Prevalence-of-Modern-Slavery.-Prevalence-score-only.\" data-toc-modified-id=\"S-60-(prev-S-18)-Walk-Free-Foundation.Global-Slavery-Index.-Prevalence-of-Modern-Slavery.-Prevalence-score-only.-2.6\"><span class=\"toc-item-num\">2.6&nbsp;&nbsp;</span>S-60 (prev S-18) Walk Free Foundation.Global Slavery Index. Prevalence of Modern Slavery. Prevalence score only.</a></span><ul class=\"toc-item\"><li><span><a href=\"#Extraction\" data-toc-modified-id=\"Extraction-2.6.1\"><span class=\"toc-item-num\">2.6.1&nbsp;&nbsp;</span>Extraction</a></span></li><li><span><a href=\"#Transform\" data-toc-modified-id=\"Transform-2.6.2\"><span class=\"toc-item-num\">2.6.2&nbsp;&nbsp;</span>Transform</a></span></li><li><span><a href=\"#Normalization-(scaling)\" data-toc-modified-id=\"Normalization-(scaling)-2.6.3\"><span class=\"toc-item-num\">2.6.3&nbsp;&nbsp;</span>Normalization (scaling)</a></span></li><li><span><a href=\"#Left-join-to-counry-list-to-bring-it-into-target-format\" data-toc-modified-id=\"Left-join-to-counry-list-to-bring-it-into-target-format-2.6.4\"><span class=\"toc-item-num\">2.6.4&nbsp;&nbsp;</span>Left join to counry list to bring it into target format</a></span></li></ul></li><li><span><a href=\"#S-61-(prev-S-19)-SDG-Indicator-16.2.2-Detected-victims-of-human-trafficking,-by-age-and-sex-(number)--VC_HTF_DETV\" data-toc-modified-id=\"S-61-(prev-S-19)-SDG-Indicator-16.2.2-Detected-victims-of-human-trafficking,-by-age-and-sex-(number)--VC_HTF_DETV-2.7\"><span class=\"toc-item-num\">2.7&nbsp;&nbsp;</span>S-61 (prev S-19) SDG Indicator 16.2.2 Detected victims of human trafficking, by age and sex (number)  VC_HTF_DETV</a></span><ul class=\"toc-item\"><li><span><a href=\"#Extraction\" data-toc-modified-id=\"Extraction-2.7.1\"><span class=\"toc-item-num\">2.7.1&nbsp;&nbsp;</span>Extraction</a></span></li><li><span><a href=\"#Cleanse\" data-toc-modified-id=\"Cleanse-2.7.2\"><span class=\"toc-item-num\">2.7.2&nbsp;&nbsp;</span>Cleanse</a></span></li><li><span><a href=\"#Normalization-(scaling)\" data-toc-modified-id=\"Normalization-(scaling)-2.7.3\"><span class=\"toc-item-num\">2.7.3&nbsp;&nbsp;</span>Normalization (scaling)</a></span></li><li><span><a href=\"#Left-join-to-counry-list-to-bring-it-into-target-format\" data-toc-modified-id=\"Left-join-to-counry-list-to-bring-it-into-target-format-2.7.4\"><span class=\"toc-item-num\">2.7.4&nbsp;&nbsp;</span>Left join to counry list to bring it into target format</a></span></li></ul></li><li><span><a href=\"#S-62-(prev-S-20)-SDG-Indicator-1.1.1.-Proportion-of-population-below-international-poverty-line-(%)-SI_POV_DAY1\" data-toc-modified-id=\"S-62-(prev-S-20)-SDG-Indicator-1.1.1.-Proportion-of-population-below-international-poverty-line-(%)-SI_POV_DAY1-2.8\"><span class=\"toc-item-num\">2.8&nbsp;&nbsp;</span>S-62 (prev S-20) SDG Indicator 1.1.1. Proportion of population below international poverty line (%) SI_POV_DAY1</a></span><ul class=\"toc-item\"><li><span><a href=\"#Extraction\" data-toc-modified-id=\"Extraction-2.8.1\"><span class=\"toc-item-num\">2.8.1&nbsp;&nbsp;</span>Extraction</a></span></li><li><span><a href=\"#Transformation\" data-toc-modified-id=\"Transformation-2.8.2\"><span class=\"toc-item-num\">2.8.2&nbsp;&nbsp;</span>Transformation</a></span></li><li><span><a href=\"#Normalization-(scaling)\" data-toc-modified-id=\"Normalization-(scaling)-2.8.3\"><span class=\"toc-item-num\">2.8.3&nbsp;&nbsp;</span>Normalization (scaling)</a></span></li><li><span><a href=\"#Left-join-to-counry-list-to-bring-it-into-target-format\" data-toc-modified-id=\"Left-join-to-counry-list-to-bring-it-into-target-format-2.8.4\"><span class=\"toc-item-num\">2.8.4&nbsp;&nbsp;</span>Left join to counry list to bring it into target format</a></span></li></ul></li></ul></li><li><span><a href=\"#---------Archive/-Trash/-dev-section-(Disregard-this-section)-----------\" data-toc-modified-id=\"---------Archive/-Trash/-dev-section-(Disregard-this-section)------------3\"><span class=\"toc-item-num\">3&nbsp;&nbsp;</span><div align=\"center\"> - - - - Archive/ Trash/ dev section (Disregard this section) - - - - - </div></a></span><ul class=\"toc-item\"><li><ul class=\"toc-item\"><li><ul class=\"toc-item\"><li><span><a href=\"#Transforming-ILO-data\" data-toc-modified-id=\"Transforming-ILO-data-3.0.0.1\"><span class=\"toc-item-num\">3.0.0.1&nbsp;&nbsp;</span>Transforming ILO data</a></span></li><li><span><a href=\"#Extracting-data-through-ILO-API\" data-toc-modified-id=\"Extracting-data-through-ILO-API-3.0.0.2\"><span class=\"toc-item-num\">3.0.0.2&nbsp;&nbsp;</span>Extracting data through ILO API</a></span></li></ul></li></ul></li></ul></li></ul></div>"
   ]
  },
  {
   "cell_type": "markdown",
   "metadata": {},
   "source": [
    "# Data extraction CRBA\n",
    "\n",
    "* This is the main file, which must be executed to extract data from all soures for which the process has been automated\n",
    "* For a list of all soures along with the information whether its a manual or atutomated extraction please consult the follownig file: \n"
   ]
  },
  {
   "cell_type": "markdown",
   "metadata": {},
   "source": [
    "## Backlog of tasks\n",
    "\n",
    " - [X] Write the functions to extract data from UNESCO API into one function which takes the indicator code as argument (rather than having two functions with the same functionatlity for two indicators | and check if that ingo is not also in the SDG API anyways\n",
    " - [ ] Finalize understanding the maplecroft logic for a quantaitive indicator and then for: qualitative indicator and also understand all the exceptions (.e.g inverted indicator etc.) --> Draw a decision tree of all if-then statements and check if this logic is desired by Alex and Tomas\n",
    " - [ ] Implement this logic in the python function started below\n",
    " - [ ] Check with Alex/ Tomas what the final result should look like (raw data + scaled data + aggregated data = final index score for each indicator + aggregrated index scores\n",
    " - [ ] Check with Daniele in what format these things should be in SDMX (should they include dimensions like sex, age, ... SHould they include units etc.?\n",
    " - [ ] Start implementing INdicator by indicator (rather than extracting data from all sources first before transforming anything)\n",
    " - [ ] For log file: \n",
    "    * Summary statistics of indicator\n",
    "    * Coverage (how many NA values) for indicator\n",
    "    * Data on average from which year \n"
   ]
  },
  {
   "cell_type": "markdown",
   "metadata": {},
   "source": [
    "## Preliminaries"
   ]
  },
  {
   "cell_type": "code",
   "execution_count": 1,
   "metadata": {},
   "outputs": [],
   "source": [
    "import pandas as pd\n",
    "import json\n",
    "import urllib\n",
    "import requests\n",
    "import os\n",
    "# import sklearn"
   ]
  },
  {
   "cell_type": "code",
   "execution_count": 2,
   "metadata": {},
   "outputs": [],
   "source": [
    "# Define the export path for all RAW data sources\n",
    "cwd = os.getcwd()\n",
    "\n",
    "data_sources_raw = cwd + \"\\data_raw\\\\\""
   ]
  },
  {
   "cell_type": "code",
   "execution_count": 3,
   "metadata": {},
   "outputs": [],
   "source": [
    "# Load the list of countries\n",
    "country_full_list = pd.read_excel(cwd + 'all_countrynames_list.xlsx')\n",
    "\n",
    "# Create a version of the list with unique ISO2 and ISO3 codes\n",
    "country_iso_list = country_full_list.drop_duplicates(subset = 'CountryIso2')\n",
    "\n",
    "# Country CRBA list\n",
    "country_crba_list = "
   ]
  },
  {
   "cell_type": "markdown",
   "metadata": {},
   "source": [
    "## Define function"
   ]
  },
  {
   "cell_type": "markdown",
   "metadata": {},
   "source": [
    "### Generic functions"
   ]
  },
  {
   "cell_type": "code",
   "execution_count": 65,
   "metadata": {},
   "outputs": [],
   "source": [
    "def save_raw_data(dataframe, filename, output_path = data_sources_raw):\n",
    "    \"\"\"Save raw data \n",
    "\n",
    "    Parameters:\n",
    "    dataframe (obj): Pandas dataframe to be stored\n",
    "    filename (string): The way you would like o anem your file. Must include the extension (for example .xlsx)\n",
    "    output_path (string): Folder where data is stored\n",
    "\n",
    "    Returns:\n",
    "    obj: \n",
    "\n",
    "   \"\"\"\n",
    "    dataframe.to_excel(output_path + filename)\n",
    "    print('The raw data has been saved as .xlsx file in: ' + output_path)\n",
    "\n",
    "    \n",
    "def scaler(raw_dataframe, indicator_raw_value, cat_var = False, inverted = False, whisker_factor = 1.5):\n",
    "    \"\"\" Transform raw data into scaled (normalized) data in long format\n",
    "    \n",
    "    Parameters:\n",
    "    raw_dataframe (obj): Raw dataset, pandas dataframe\n",
    "    indicator_raw_value (str): Column containing the actual raw data values \n",
    "    cat_var (bool): is variable of type categorical or numerical?\n",
    "    inverted (bool): If we are dealing with a numerical variable, should the values be inverted?\n",
    "    whisker_factor (float): \n",
    "\n",
    "    Returns:\n",
    "    obj: Returns numpy array with transformed values\n",
    "    \"\"\"\n",
    "    # Check if an indicator is numeric of categorical\n",
    "    if cat_var == True:\n",
    "        # This is the section dealing with categorical indicators\n",
    "        pass\n",
    "    else:\n",
    "        # This is the section dealing with numerical indicators\n",
    "\n",
    "        # Determine basic descriptive statistics of the distribution\n",
    "        min_val = min(raw_dataframe[indicator_raw_value].astype('float'))\n",
    "        max_val = max(raw_dataframe[indicator_raw_value].astype('float'))\n",
    "        q1 =  raw_dataframe[indicator_raw_value].astype('float').quantile(q=0.25)\n",
    "        q2 =  raw_dataframe[indicator_raw_value].astype('float').quantile(q=0.50)\n",
    "        q3 =  raw_dataframe[indicator_raw_value].astype('float').quantile(q=0.75)                      \n",
    "        iqr = q3 - q1\n",
    "        \n",
    "        # Define what max value to use for the normalization            \n",
    "        if max_val > q3 + whisker_factor * iqr:\n",
    "            max_to_use = q3 + whisker_factor * iqr\n",
    "            print('The distribution of the raw data values contains outliers or is too skewed on the upper end. The maximum value to be used for the normalisation is the the 3rd quartile added to IQR multiplied by the {}. It is: {} \\n See histogram printed below for info. \\n'.format(whisker_factor, max_to_use))\n",
    "        else:\n",
    "            max_to_use = max_val\n",
    "            print('The distribution of the raw data does not contain outliers on the upper end. The maximum value used for the normalisation is the maximum value in the dataset, which is {}. \\n'.format(max_to_use))\n",
    "                      \n",
    "        # Define what min value to use for the normalization\n",
    "        if min_val < q1 - whisker_factor * iqr:\n",
    "            min_to_use = q1 - whisker_factor * iqr\n",
    "            print('The distribution of the raw data values contains outliers or is too skewed on the lower end. The minimum value to be used for the normalisation is the the 3rd quartile added to IQR multiplied by the the {}. It is: {} \\n See histogram printed below for info. \\n'.format(whisker_factor, min_to_use))\n",
    "        else:\n",
    "            min_to_use = min_val\n",
    "            print('The distribution of the raw data does not contain outliers or is too skewed on the lower end. The minimum value used for the normalisation is the maximum value in the dataset, which is {}. \\n'.format(min_to_use))\n",
    "        \n",
    "        # If there are outliers or a skewed distribution, print the distribution for the user.\n",
    "        if (min_val < q1 - whisker_factor * iqr) or (max_val > q3 + whisker_factor * iqr):\n",
    "            print('\\n This is the distrbution of the raw data of the indicator.')\n",
    "            print(raw_dataframe[indicator_raw_value].hist(bins = 30))\n",
    "                       \n",
    "        # Define the value range that is used for the scaling (normalization)\n",
    "        tot_range = max_val - min_val \n",
    "        \n",
    "        # Distinguish between indicators, whose value must be inverted\n",
    "        if inverted == True:\n",
    "            temp = raw_dataframe.assign(SCALED = round(10 - 10 * (raw_dataframe[indicator_raw_value].astype('float') - min_val)/ tot_range, 2))\n",
    "        else:\n",
    "            temp = raw_dataframe.assign(SCALED = round(10 * (raw_dataframe[indicator_raw_value].astype('float') - min_val)/ tot_range, 2))\n",
    "        \n",
    "        # bring dataframe from wide to long format\n",
    "        # Prepare the melting of the dataframe, by defining what columns remain untouched by the melt\n",
    "        kept_columns = [x for x in raw_dataframe.columns.tolist() if x not in [indicator_raw_value, 'SCALED']]\n",
    "        \n",
    "        return(\n",
    "            pd.melt(temp,\n",
    "               id_vars = kept_columns,\n",
    "               value_vars = [indicator_raw_value, 'SCALED'],\n",
    "               var_name = 'VALUE_TYPE')\n",
    "        )"
   ]
  },
  {
   "cell_type": "markdown",
   "metadata": {},
   "source": [
    "### UNESCO API specific functions"
   ]
  },
  {
   "cell_type": "code",
   "execution_count": 5,
   "metadata": {},
   "outputs": [],
   "source": [
    "def extract_unesco_api_data(stat_unit, unit, edu_level, subs_key, start_period = 2010, end_period = 2020):\n",
    "    \"\"\"Extract raw data from the UNESCO API\n",
    "\n",
    "    The API can be called with a API key, which you must generate by creating an account. \n",
    "    The calls can be done with simple https requests, in which many parameter must be specified (e.g. indicator code, sexes, age, ...). TO understand the structure, please check the query builder https://apiportal.uis.unesco.org/query-builder\n",
    "\n",
    "    Parameters:\n",
    "    stat_unit (string): Indicatiro code, I suggest you check the query builder https://apiportal.uis.unesco.org/query-builder to retrieve the right code\n",
    "    unit (string): Specify the unnit of measure, e.g. 'PT' for percentage total\n",
    "    edu_level (string): Choose educational level, L2 = lower secondary, L3 = upper secondary age\n",
    "    subs_key (string): Your API key. You must create one. Visit https://apiportal.uis.unesco.org/getting-started for more info\n",
    "    start_period (int): Year which is the beginning of series for which you want to collect data\n",
    "    end_period (ing): Year which is the end of series for which you want to collect data\n",
    "\n",
    "    Returns:\n",
    "    obj: Returns pandas dataframe\n",
    "\n",
    "   \"\"\"\n",
    "    url = 'https://api.uis.unesco.org/sdmx/data/SDG4/{sunit}.{umeasure}.{elevel}._T._T.SCH_AGE_GROUP._T.INST_T._Z._T._Z._Z._Z._T._T._Z._Z._Z.?startPeriod={syear}&endPeriod={eyear}&format=csv-sdmx&subscription-key={skey}'.format(\n",
    "        sunit = stat_unit,\n",
    "        umeasure = unit,\n",
    "        elevel = edu_level,\n",
    "        syear = start_period,\n",
    "        eyear = end_period,\n",
    "        skey = subs_key)\n",
    "    return(pd.read_csv(filepath_or_buffer = url, \n",
    "                      sep = ',',))\n",
    "\n",
    "def cleanse_unesco_api_data(uis_data, country_iso2_list, columns, most_recent_only = True):\n",
    "    \"\"\"< To do >\n",
    "\n",
    "    Parameters:\n",
    "    s15_raw (obj): Should be return of function s55_extract or s56_extract\n",
    "    country_iso2_list (array): A numpy array of 2-character country codes.\n",
    "    columns: List of the dimensions (i.e. columns) that are you want to keep for the indicator beyond the main necessary ones\n",
    "\n",
    "    Returns:\n",
    "    obj: Returns pandas dataframe with the relevant data of the indicator\n",
    "\n",
    "   \"\"\"\n",
    "    # Discard unnecessay columns\n",
    "    columns_kept = ['REF_AREA', 'TIME_PERIOD','OBS_VALUE'] + columns\n",
    "    uis_data = uis_data[columns_kept]\n",
    "    \n",
    "    # Discard rows of countries that are in the master country list\n",
    "    uis_data = uis_data[uis_data.REF_AREA.isin(country_iso2_list)]\n",
    "    \n",
    "    if most_recent_only == True:\n",
    "        # Retrieve the most up-to-date number for each country\n",
    "        uis_data = uis_data[uis_data['TIME_PERIOD']==uis_data.groupby('REF_AREA')['TIME_PERIOD'].transform('max')]\n",
    "    else:\n",
    "        pass\n",
    "    \n",
    "    return(uis_data)"
   ]
  },
  {
   "cell_type": "markdown",
   "metadata": {},
   "source": [
    "### SDG API specific functions"
   ]
  },
  {
   "cell_type": "code",
   "execution_count": 61,
   "metadata": {},
   "outputs": [],
   "source": [
    "def extract_sdg_api_data(series_code):\n",
    "    \"\"\"Extract raw data for a series \n",
    "\n",
    "    Extract data on the specifies series as json and flatten it out into a pandas dataframe\n",
    "    To retrieve the data from the API of the SDG indicators, you must proceed as follows: \n",
    "    \n",
    "    * Find the seriesCode of the indicator for which you want to retrieve data: I recommend visiting https://unstats.un.org/sdgs/indicators/database/ and browse the indicator you want and the series code will be indicated there\n",
    "    * Visit https://unstats.un.org/SDGAPI/swagger/#!/Series/V1SdgSeriesDataGet\n",
    "    * Expand the tab GET /v1/sdg/Series/Data\n",
    "    * Type in the seriesCode, this will provide you with the link to the JSON\n",
    "    * Important: The results will be on shwon on various pages if the dataset is too large. That is why it is a good idea to set a pageSize value large enough to accomodate all data in just one page to not have to iterate over various pages\n",
    "\n",
    "        \n",
    "    Parameters:\n",
    "    series (string): Code of the series, which can be found by browsing for the relevant series here:https://unstats.un.org/sdgs/indicators/database?indicator=16.2.2\n",
    "\n",
    "    Returns:\n",
    "    obj: Returns pandas dataframe\n",
    "\n",
    "   \"\"\"\n",
    "    url = 'https://unstats.un.org/SDGAPI/v1/sdg/Series/Data?seriesCode={}&pageSize=999999999'.format(series_code)\n",
    "    return(pd.json_normalize(requests.get(url).json()['data']))    \n",
    "\n",
    "\n",
    "def cleanse_sdg_api_data(raw_data):\n",
    "    \"\"\"Transform raw data from sdg API source to distil relevant data \n",
    "\n",
    "    Discard columns and aggregate data to retrieve the latest value for all countries in a given dataframe for a given SDG API series.\n",
    "\n",
    "    Parameters:\n",
    "    raw_data (obj): Return of function 'extract_sdg_api_data'. Should be a pandas dataframe \n",
    "    \n",
    "    Returns:\n",
    "    obj: Returns pandas dataframe\n",
    "\n",
    "   \"\"\"\n",
    "    # Extract relevant columns\n",
    "    stage_data = raw_data[['geoAreaCode',\n",
    "            'geoAreaName',\n",
    "            'timePeriodStart',\n",
    "            'value']]\n",
    "    # Get the latest value for each country of the series\n",
    "    return(stage_data[stage_data['timePeriodStart'] == stage_data.groupby('geoAreaName')['timePeriodStart'].transform('max')])\n"
   ]
  },
  {
   "cell_type": "markdown",
   "metadata": {},
   "source": [
    "# Data extraction"
   ]
  },
  {
   "cell_type": "markdown",
   "metadata": {},
   "source": [
    "## S-11 Economist Intelligence Unit, Out of the Shadows Index. Legal Framework score only\n",
    "\n",
    "I have decided to not automate this process, because the Excel is so nested that it is very difficult to do that. And it's faster and less erorr prone to retrieve the data manually. "
   ]
  },
  {
   "cell_type": "markdown",
   "metadata": {},
   "source": [
    "## S-55 (prev S-15) Percentage of out-of-school adolescents of lower secondary school age. \n",
    "\n",
    "The data of this source is retrieved from the UNSECO API, for which you must have an API key to acces it. For that, you must sign up. "
   ]
  },
  {
   "cell_type": "markdown",
   "metadata": {},
   "source": [
    "### Extraction"
   ]
  },
  {
   "cell_type": "code",
   "execution_count": 7,
   "metadata": {},
   "outputs": [
    {
     "name": "stdout",
     "output_type": "stream",
     "text": [
      "The raw data has been saved as .xlsx file in: D:\\Documents\\2020\\28_UNICEF\\10_working_repo\\data-etl\\data_raw\\\n"
     ]
    }
   ],
   "source": [
    "# Extract data\n",
    "s55_raw = extract_unesco_api_data(\n",
    "    stat_unit = 'ROFST',\n",
    "    unit = 'PT',\n",
    "    edu_level = 'L2',\n",
    "    subs_key = '460ab272abdd43c892bb59c218c22c09',\n",
    "    start_period = '2010',\n",
    "    end_period = '2020')\n",
    "\n",
    "# Save raw data\n",
    "save_raw_data(dataframe = s55_raw,\n",
    "             filename = 'S_55.xlsx')"
   ]
  },
  {
   "cell_type": "markdown",
   "metadata": {},
   "source": [
    "### Cleansing"
   ]
  },
  {
   "cell_type": "code",
   "execution_count": 8,
   "metadata": {},
   "outputs": [],
   "source": [
    "# cleanse raw data\n",
    "s55_cleansed = cleanse_unesco_api_data(\n",
    "    uis_data = s55_raw,\n",
    "    country_iso2_list = country_iso_list.CountryIso2,\n",
    "    columns = ['EDU_CAT', 'SEX', 'AGE'],\n",
    "    most_recent_only = True)"
   ]
  },
  {
   "cell_type": "markdown",
   "metadata": {},
   "source": [
    "### Normalization (scaling)"
   ]
  },
  {
   "cell_type": "code",
   "execution_count": 55,
   "metadata": {},
   "outputs": [
    {
     "name": "stdout",
     "output_type": "stream",
     "text": [
      "The distribution of the raw data values contains outliers or is too skewed on the upper end. The maximum value to be used for the normalisation is the the 3rd quartile added to IQR multiplied by the 1.5. It is: 41.29852749999999 \n",
      " See histogram printed below for info. \n",
      "\n",
      "The distribution of the raw data does not contain outliers or is too skewed on the lower end. The minimum value used for the normalisation is the maximum value in the dataset, which is 0.0. \n",
      "\n",
      "\n",
      " This is the distrbution of the raw data of the indicator.\n",
      "AxesSubplot(0.125,0.125;0.775x0.755)\n"
     ]
    },
    {
     "data": {
      "image/png": "[encoded data removed]",
      "text/plain": [
       "<Figure size 432x288 with 1 Axes>"
      ]
     },
     "metadata": {
      "needs_background": "light"
     },
     "output_type": "display_data"
    }
   ],
   "source": [
    "# Scale the raw data and bring the dataframe into long formmat\n",
    "s55_scaled = scaler(raw_dataframe = s55_cleansed,\n",
    "                   indicator_raw_value = 'OBS_VALUE',\n",
    "                   inverted = True)"
   ]
  },
  {
   "cell_type": "markdown",
   "metadata": {},
   "source": [
    "### Left join to counry list to bring it into target format"
   ]
  },
  {
   "cell_type": "code",
   "execution_count": 10,
   "metadata": {},
   "outputs": [],
   "source": [
    "# Left join data to the target format\n",
    "s55_final = country_iso_list.merge(right = s55_scaled,\n",
    "                 how = 'left',\n",
    "                 left_on = 'CountryIso2',\n",
    "                 right_on = 'REF_AREA',\n",
    "                 validate = 'one_to_many').assign(indicator = 'I-15')"
   ]
  },
  {
   "cell_type": "markdown",
   "metadata": {},
   "source": [
    "## S-56 (prev S-16) Percentage of out-of-school youth of upper secondary school age\n",
    "\n",
    "The data of this source is retrieved from the UNSECO API, for which you must have an API key to acces it. For that, you must sign up. \n"
   ]
  },
  {
   "cell_type": "markdown",
   "metadata": {},
   "source": [
    "### Extraction"
   ]
  },
  {
   "cell_type": "code",
   "execution_count": 56,
   "metadata": {},
   "outputs": [
    {
     "name": "stdout",
     "output_type": "stream",
     "text": [
      "The raw data has been saved as .xlsx file in: D:\\Documents\\2020\\28_UNICEF\\10_working_repo\\data-etl\\data_raw\\\n"
     ]
    }
   ],
   "source": [
    "# Extract data\n",
    "s56_raw = extract_unesco_api_data(\n",
    "    stat_unit = 'ROFST',\n",
    "    unit = 'PT',\n",
    "    edu_level = 'L3',\n",
    "    subs_key = '460ab272abdd43c892bb59c218c22c09',\n",
    "    start_period = '2010',\n",
    "    end_period = '2020')\n",
    "\n",
    "# Save raw data\n",
    "save_raw_data(dataframe = s55_raw,\n",
    "             filename = 'S_55.xlsx')"
   ]
  },
  {
   "cell_type": "markdown",
   "metadata": {},
   "source": [
    "### Cleansing"
   ]
  },
  {
   "cell_type": "code",
   "execution_count": 57,
   "metadata": {},
   "outputs": [],
   "source": [
    "# Transform raw data\n",
    "s56_cleansed = cleanse_unesco_api_data(\n",
    "    uis_data = s56_raw,\n",
    "    country_iso2_list = country_iso_list.CountryIso2,\n",
    "    columns = ['EDU_CAT', 'SEX', 'AGE'],\n",
    "    most_recent_only = True)"
   ]
  },
  {
   "cell_type": "markdown",
   "metadata": {},
   "source": [
    "### Normalization (scaling)"
   ]
  },
  {
   "cell_type": "code",
   "execution_count": 59,
   "metadata": {},
   "outputs": [
    {
     "name": "stdout",
     "output_type": "stream",
     "text": [
      "The distribution of the raw data does not contain outliers on the upper end. The maximum value used for the normalisation is the maximum value in the dataset, which is 86.14805. \n",
      "\n",
      "The distribution of the raw data does not contain outliers or is too skewed on the lower end. The minimum value used for the normalisation is the maximum value in the dataset, which is 0.0. \n",
      "\n"
     ]
    }
   ],
   "source": [
    "# Scale the raw data and bring the dataframe into long formmat\n",
    "s56_scaled = scaler(raw_dataframe = s56_cleansed,\n",
    "                   indicator_raw_value = 'OBS_VALUE',\n",
    "                   inverted = True)"
   ]
  },
  {
   "cell_type": "markdown",
   "metadata": {},
   "source": [
    "### Left join to counry list to bring it into target format"
   ]
  },
  {
   "cell_type": "code",
   "execution_count": 251,
   "metadata": {},
   "outputs": [
    {
     "name": "stdout",
     "output_type": "stream",
     "text": [
      "The number of rows in the raw data set was 170. The number of available datapoints in the final dataframe is 170. Therefore, 0 rows got lost during the join.\n"
     ]
    }
   ],
   "source": [
    "# Concatenate data to the\n",
    "s56_final = country_iso_list.merge(right = s56_scaled,\n",
    "                 how = 'left',\n",
    "                 left_on = 'CountryIso2',\n",
    "                 right_on = 'REF_AREA',\n",
    "                 validate = 'many_to_one').assign(indicator ='I-16')\n",
    "\n",
    "# Check if some countries got lost during the join\n",
    "print('The number of rows in the raw data set was {}. The number of available datapoints in the final dataframe is {}. Therefore, {} rows got lost during the join.'.format(\n",
    "    len(s56_scaled), \n",
    "    s56_final.OBS_VALUE.notna().sum(), \n",
    "    len(s56_scaled) - s56_final.OBS_VALUE.notna().sum()))"
   ]
  },
  {
   "cell_type": "markdown",
   "metadata": {},
   "source": [
    "## S-24 (prev. S-14) SDG Indicator 8.7.1 Proportion of children aged 5-17 years engaged in child labour SL_TLF_CHLDEA"
   ]
  },
  {
   "cell_type": "markdown",
   "metadata": {},
   "source": [
    "### Extraction"
   ]
  },
  {
   "cell_type": "code",
   "execution_count": 62,
   "metadata": {},
   "outputs": [
    {
     "name": "stdout",
     "output_type": "stream",
     "text": [
      "The raw data has been saved as .xlsx file in: D:\\Documents\\2020\\28_UNICEF\\10_working_repo\\data-etl\\data_raw\\\n"
     ]
    }
   ],
   "source": [
    "# Extract data and directly flatten it out into a pandas dataframe\n",
    "s24_raw = extract_sdg_api_data(series_code = 'SL_TLF_CHLDEA')\n",
    "\n",
    "# Save data to raw data folder\n",
    "save_raw_data(dataframe = s24_raw,\n",
    "             filename = 'S_24.xlsx')"
   ]
  },
  {
   "cell_type": "markdown",
   "metadata": {},
   "source": [
    "### Transformation"
   ]
  },
  {
   "cell_type": "code",
   "execution_count": 63,
   "metadata": {},
   "outputs": [],
   "source": [
    "# Raw data contains data on BOTHSEX, MALE AND FEMALE, limit ourseleves to BOTHSEXES\n",
    "temp = s24_raw[s24_raw['dimensions.Sex'] == 'BOTHSEX']\n",
    "\n",
    "# Transform the raw data\n",
    "s24_cleansed = cleanse_sdg_api_data(raw_data = temp)"
   ]
  },
  {
   "cell_type": "markdown",
   "metadata": {},
   "source": [
    "### Normalization (scaling)"
   ]
  },
  {
   "cell_type": "code",
   "execution_count": 66,
   "metadata": {
    "scrolled": true
   },
   "outputs": [
    {
     "name": "stdout",
     "output_type": "stream",
     "text": [
      "The distribution of the raw data does not contain outliers on the upper end. The maximum value used for the normalisation is the maximum value in the dataset, which is 35.11702. \n",
      "\n",
      "The distribution of the raw data does not contain outliers or is too skewed on the lower end. The minimum value used for the normalisation is the maximum value in the dataset, which is 0.26104. \n",
      "\n"
     ]
    }
   ],
   "source": [
    "# Scale the raw data and bring the dataframe into long formmat\n",
    "s24_scaled = scaler(raw_dataframe = s24_cleansed,\n",
    "                   indicator_raw_value = 'value',\n",
    "                   inverted = True)"
   ]
  },
  {
   "cell_type": "markdown",
   "metadata": {},
   "source": [
    "### Left join to counry list to bring it into target format"
   ]
  },
  {
   "cell_type": "code",
   "execution_count": 299,
   "metadata": {},
   "outputs": [
    {
     "name": "stdout",
     "output_type": "stream",
     "text": [
      "The number of rows in the raw data set was 91. The number of available datapoints in the final dataframe is 91. Therefore, 0 rows got lost during the join.\n"
     ]
    }
   ],
   "source": [
    "# Concatenate data to the\n",
    "s24_final = country_full_list.merge(right = s24_scaled,\n",
    "                 indicator = True,\n",
    "                 how = 'left',\n",
    "                 left_on = 'CountryDesc',\n",
    "                 right_on = 'geoAreaName',\n",
    "                 validate = 'many_to_one').assign(indicator ='I-14')\n",
    "\n",
    "# Check if some countries got lost during the join\n",
    "print('The number of rows in the raw data set was {}. The number of available datapoints in the final dataframe is {}. Therefore, {} rows got lost during the join.'.format(\n",
    "    len(s24_scaled), \n",
    "    s24_final.value.notna().sum(), \n",
    "    len(s24_scaled) - s24_final.value.notna().sum()))"
   ]
  },
  {
   "cell_type": "markdown",
   "metadata": {},
   "source": [
    "## S-23 (prev. S-17) ILO STAT Informal Employment (% of total non-agricultural employment) SL_ISV_IFEM "
   ]
  },
  {
   "cell_type": "markdown",
   "metadata": {},
   "source": [
    "### Extraction\n",
    "\n",
    "This data can be extracted from two different sources: \n",
    "    \n",
    "* ILO\n",
    "* SDG database\n",
    "\n",
    "After consultation with Alex and Tomás we have decided to extract the data from the SDG API"
   ]
  },
  {
   "cell_type": "code",
   "execution_count": 257,
   "metadata": {},
   "outputs": [
    {
     "name": "stdout",
     "output_type": "stream",
     "text": [
      "The raw data has been saved as .xlsx file in: D:\\Documents\\2020\\28_UNICEF\\10_working_repo\\data-etl\\data_raw\\\n"
     ]
    }
   ],
   "source": [
    "# Extract data and directly flatten it out into a pandas dataframe\n",
    "s23_raw = extract_sdg_api_data(series_code = 'SL_ISV_IFEM')\n",
    "\n",
    "# Save data to raw data folder\n",
    "save_raw_data(dataframe = s23_raw,\n",
    "             filename = 'S_23.xlsx')"
   ]
  },
  {
   "cell_type": "markdown",
   "metadata": {},
   "source": [
    "### Transformation"
   ]
  },
  {
   "cell_type": "code",
   "execution_count": 258,
   "metadata": {
    "scrolled": true
   },
   "outputs": [],
   "source": [
    "# We are intested in sector = non-agricultural and want the data for both sexes. Filter the other rows out:\n",
    "temp = s23_raw[(s23_raw['dimensions.Sex'] == 'BOTHSEX') & (s23_raw['dimensions.Activity'] == 'NONAGR')]\n",
    "\n",
    "# transform data\n",
    "s23_cleansed = transform_sdg_api_data(raw_data = temp)"
   ]
  },
  {
   "cell_type": "markdown",
   "metadata": {},
   "source": [
    "### Normalization (scaling)"
   ]
  },
  {
   "cell_type": "code",
   "execution_count": 259,
   "metadata": {},
   "outputs": [],
   "source": [
    "# Scale the raw data and \n",
    "s23_scaled = s23_cleansed.assign(\n",
    "    scaled = scaler(s23_cleansed.value))"
   ]
  },
  {
   "cell_type": "markdown",
   "metadata": {},
   "source": [
    "### Left join to counry list to bring it into target format"
   ]
  },
  {
   "cell_type": "code",
   "execution_count": 260,
   "metadata": {},
   "outputs": [
    {
     "name": "stdout",
     "output_type": "stream",
     "text": [
      "The number of rows in the raw data set was 86. The number of available datapoints in the final dataframe is 86. Therefore, 0 rows got lost during the join.\n"
     ]
    }
   ],
   "source": [
    "# Concatenate data to the\n",
    "s23_final = country_full_list.merge(right = s23_scaled,\n",
    "                 indicator = True,\n",
    "                 how = 'outer',\n",
    "                 left_on = 'CountryDesc',\n",
    "                 right_on = 'geoAreaName',\n",
    "                 validate = 'many_to_one').assign(indicator ='I-17')\n",
    "\n",
    "# Check if some countries got lost during the join\n",
    "print('The number of rows in the raw data set was {}. The number of available datapoints in the final dataframe is {}. Therefore, {} rows got lost during the join.'.format(\n",
    "    len(s23_scaled), \n",
    "    s23_final.value.notna().sum(), \n",
    "    len(s23_scaled) - s23_final.value.notna().sum()))"
   ]
  },
  {
   "cell_type": "markdown",
   "metadata": {},
   "source": [
    "## S-60 (prev S-18) Walk Free Foundation.Global Slavery Index. Prevalence of Modern Slavery. Prevalence score only.\n",
    "### Extraction"
   ]
  },
  {
   "cell_type": "code",
   "execution_count": 268,
   "metadata": {},
   "outputs": [
    {
     "name": "stdout",
     "output_type": "stream",
     "text": [
      "The raw data has been saved as .xlsx file in: D:\\Documents\\2020\\28_UNICEF\\10_working_repo\\data-etl\\data_raw\\\n"
     ]
    }
   ],
   "source": [
    "# Extract data\n",
    "url = 'http://downloads.globalslaveryindex.org/ephemeral/FINAL-GSI-2018-DATA-G20-AND-FISHING-1597151668.xlsx'\n",
    "\n",
    "s60_raw = pd.read_excel(io = url, \n",
    "                      sheet_name = 'Global prev, vuln, govt table',\n",
    "                       skiprows = 2)\n",
    "\n",
    "# Save data to raw data folder\n",
    "save_raw_data(dataframe = s60_raw,\n",
    "             filename = 'S_60.xlsx')"
   ]
  },
  {
   "cell_type": "markdown",
   "metadata": {},
   "source": [
    "### Transform"
   ]
  },
  {
   "cell_type": "code",
   "execution_count": 269,
   "metadata": {
    "scrolled": true
   },
   "outputs": [],
   "source": [
    "# Filter relevant columns\n",
    "s60_raw = s60_raw[['Country ', # FYI: note the trailing space after Country\n",
    "        'Est. prevalence of population in modern slavery (victims per 1,000 population)']]\n",
    "\n",
    "# The data is from 2018, and is therefore assumed to be reflecting the prevalen in the year 2018\n",
    "s60_cleansed = s60_raw.assign(Year = 2018)"
   ]
  },
  {
   "cell_type": "markdown",
   "metadata": {},
   "source": [
    "### Normalization (scaling)"
   ]
  },
  {
   "cell_type": "code",
   "execution_count": 270,
   "metadata": {},
   "outputs": [],
   "source": [
    "# Scale the raw data and \n",
    "s60_scaled = s60_cleansed.assign(\n",
    "    scaled = scaler(s60_cleansed['Est. prevalence of population in modern slavery (victims per 1,000 population)']))"
   ]
  },
  {
   "cell_type": "markdown",
   "metadata": {},
   "source": [
    "### Left join to counry list to bring it into target format"
   ]
  },
  {
   "cell_type": "code",
   "execution_count": 311,
   "metadata": {},
   "outputs": [
    {
     "name": "stdout",
     "output_type": "stream",
     "text": [
      "The number of rows in the raw data set was 186. The number of available datapoints in the final dataframe is 167. This difference is explicable because there were already missing values for the value in sxx_ scaled dataset\n"
     ]
    }
   ],
   "source": [
    "# Concatenate data to the\n",
    "s60_final = country_full_list.merge(right = s60_scaled,\n",
    "                 indicator = True,\n",
    "                 how = 'inner',\n",
    "                 left_on = 'CountryDesc',\n",
    "                 right_on = 'Country ',\n",
    "                 validate = 'many_to_one').assign(indicator ='I-18')\n",
    "\n",
    "# Check if some countries got lost during the join\n",
    "print('The number of rows in the raw data set was {}. The number of available datapoints in the final dataframe is {}. This difference is explicable because there were already missing values for the value in sxx_ scaled dataset'.format(\n",
    "    len(s60_scaled), \n",
    "    s60_final['Est. prevalence of population in modern slavery (victims per 1,000 population)'].notna().sum(), \n",
    "    len(s60_scaled) - s60_final['Est. prevalence of population in modern slavery (victims per 1,000 population)'].notna().sum()))"
   ]
  },
  {
   "cell_type": "markdown",
   "metadata": {},
   "source": [
    "## S-61 (prev S-19) SDG Indicator 16.2.2 Detected victims of human trafficking, by age and sex (number)  VC_HTF_DETV \n",
    "### Extraction"
   ]
  },
  {
   "cell_type": "code",
   "execution_count": 141,
   "metadata": {},
   "outputs": [
    {
     "name": "stdout",
     "output_type": "stream",
     "text": [
      "The raw data has been saved as .xlsx file in: D:\\Documents\\2020\\28_UNICEF\\10_working_repo\\data-etl\\data_raw\\\n"
     ]
    }
   ],
   "source": [
    "# Extract data\n",
    "s61_raw = extract_sdg_api_data(series_code = 'VC_HTF_DETV')\n",
    "\n",
    "# Save raw data\n",
    "save_raw_data(dataframe = s61_raw,\n",
    "              filename = 'S_61.xlsx')"
   ]
  },
  {
   "cell_type": "markdown",
   "metadata": {},
   "source": [
    "### Cleanse"
   ]
  },
  {
   "cell_type": "code",
   "execution_count": 143,
   "metadata": {},
   "outputs": [],
   "source": [
    "# Transform the raw data\n",
    "s61_cleansed = transform_sdg_api_data(raw_data = s61_raw)"
   ]
  },
  {
   "cell_type": "markdown",
   "metadata": {},
   "source": [
    "### Normalization (scaling)"
   ]
  },
  {
   "cell_type": "code",
   "execution_count": 144,
   "metadata": {},
   "outputs": [],
   "source": [
    "# Scale the raw data and \n",
    "s61_scaled = s61_cleansed.assign(\n",
    "    scaled = scaler(s61_cleansed.value))"
   ]
  },
  {
   "cell_type": "markdown",
   "metadata": {},
   "source": [
    "### Left join to counry list to bring it into target format"
   ]
  },
  {
   "cell_type": "code",
   "execution_count": 313,
   "metadata": {
    "scrolled": true
   },
   "outputs": [
    {
     "name": "stdout",
     "output_type": "stream",
     "text": [
      "The number of rows in the raw data set was 142. The number of available datapoints in the final dataframe is 142. Therefore, 0 rows got lost during the join.\n"
     ]
    }
   ],
   "source": [
    "# Concatenate data to the\n",
    "s61_final = country_full_list.merge(right = s61_scaled,\n",
    "                 indicator = True,\n",
    "                 how = 'outer',\n",
    "                 left_on = 'CountryDesc',\n",
    "                 right_on = 'geoAreaName',\n",
    "                 validate = 'many_to_one').assign(indicator ='I-19')\n",
    "\n",
    "# Check if some countries got lost during the join\n",
    "print('The number of rows in the raw data set was {}. The number of available datapoints in the final dataframe is {}. Therefore, {} rows got lost during the join.'.format(\n",
    "    len(s61_scaled), \n",
    "    s61_final.value.notna().sum(), \n",
    "    len(s61_scaled) - s61_final.value.notna().sum()))"
   ]
  },
  {
   "cell_type": "markdown",
   "metadata": {},
   "source": [
    "## S-62 (prev S-20) SDG Indicator 1.1.1. Proportion of population below international poverty line (%) SI_POV_DAY1 \n",
    "### Extraction"
   ]
  },
  {
   "cell_type": "code",
   "execution_count": 155,
   "metadata": {},
   "outputs": [
    {
     "name": "stdout",
     "output_type": "stream",
     "text": [
      "The raw data has been saved as .xlsx file in: D:\\Documents\\2020\\28_UNICEF\\10_working_repo\\data-etl\\data_raw\\\n"
     ]
    }
   ],
   "source": [
    "# Extract data\n",
    "s62_raw = extract_sdg_api_data(series_code = 'SI_POV_DAY1')\n",
    "\n",
    "# Save raw data\n",
    "save_raw_data(dataframe = s62_raw,\n",
    "              filename = 'S_62.xlsx')"
   ]
  },
  {
   "cell_type": "markdown",
   "metadata": {},
   "source": [
    "### Transformation"
   ]
  },
  {
   "cell_type": "code",
   "execution_count": 156,
   "metadata": {},
   "outputs": [],
   "source": [
    "# Transform the raw data\n",
    "s62_cleansed = transform_sdg_api_data(raw_data = s62_raw)"
   ]
  },
  {
   "cell_type": "markdown",
   "metadata": {},
   "source": [
    "### Normalization (scaling)"
   ]
  },
  {
   "cell_type": "code",
   "execution_count": 157,
   "metadata": {},
   "outputs": [],
   "source": [
    "# Scale the raw data and \n",
    "s62_scaled = s62_cleansed.assign(\n",
    "    scaled = scaler(s62_cleansed.value))"
   ]
  },
  {
   "cell_type": "markdown",
   "metadata": {},
   "source": [
    "### Left join to counry list to bring it into target format"
   ]
  },
  {
   "cell_type": "code",
   "execution_count": 318,
   "metadata": {},
   "outputs": [
    {
     "name": "stdout",
     "output_type": "stream",
     "text": [
      "The number of rows in the raw data set was 208. The number of available datapoints in the final dataframe is 142. Therefore, 0 rows got lost during the join.\n"
     ]
    }
   ],
   "source": [
    "# Concatenate data to the\n",
    "s62_final = country_full_list.merge(right = s62_scaled,\n",
    "                 indicator = True,\n",
    "                 how = 'outer',\n",
    "                 left_on = 'CountryDesc',\n",
    "                 right_on = 'geoAreaName', # validate = 'many_to_one'\n",
    "                 ).assign(indicator ='I-20')\n",
    "\n",
    "# Check if some countries got lost during the join\n",
    "print('The number of rows in the raw data set was {}. The number of available datapoints in the final dataframe is {}. Therefore, {} rows got lost during the join.'.format(\n",
    "    len(s62_scaled), \n",
    "    s61_final.value.notna().sum(), \n",
    "    len(s62_scaled) - s62_final.value.notna().sum()))"
   ]
  },
  {
   "cell_type": "markdown",
   "metadata": {},
   "source": [
    " \n",
    "    \n",
    "    \n",
    "    \n",
    "    \n",
    "    \n",
    "    \n",
    "    \n",
    "    \n",
    "    \n",
    "    \n",
    "    \n",
    "    \n",
    "    \n",
    "    \n",
    "    \n",
    "    \n",
    "    \n",
    "."
   ]
  },
  {
   "cell_type": "markdown",
   "metadata": {},
   "source": [
    "#  <div align=\"center\"> - - - - Archive/ Trash/ dev section (Disregard this section) - - - - - </div>"
   ]
  },
  {
   "cell_type": "code",
   "execution_count": null,
   "metadata": {},
   "outputs": [],
   "source": [
    "    \n",
    "def scaler(raw_dataframe, indicator_value, cat_var = False, inverted = False, up_lim = None, low_lim = None):\n",
    "    \"\"\" Transform raw data into scaled (normalized) data in long format\n",
    "    \n",
    "    Parameters:\n",
    "    raw_dataframe (obj): Raw dataset, pandas dataframe\n",
    "    indicator_value (str): Column containing the actual raw data values \n",
    "    cat_var (bool): is variable of type categorical or numerical?\n",
    "    inverted (bool): If we are dealing with a numerical variable, should the values be inverted?\n",
    "    up_lim_req (float): For numerical variables, is there an artificial upper limit \n",
    "    low_lim_req (bool): For numerical variables, is there an artificial upper limit\n",
    "\n",
    "    Returns:\n",
    "    obj: Returns numpy array with transformed values\n",
    "    \"\"\"\n",
    "    # Check if an indicator is numeric of categorical\n",
    "    if cat_var == True:\n",
    "        pass\n",
    "    else:\n",
    "        # This is the section dealing with numerical indicators\n",
    "        # Define the range of the indicator values (some take their max/min value, sometimes an upper/lower limit)\n",
    "        if up_lim == None:\n",
    "            max_val = max(raw_dataframe[indicator_value].astype('float'))\n",
    "        else:\n",
    "            max_val = up_lim\n",
    "        if low_lim == None:\n",
    "            min_val = min(raw_dataframe[indicator_value].astype('float'))\n",
    "        else:\n",
    "            min_val = low_lim \n",
    "        \n",
    "        # Define the value range that is used for the scaling (normalization)\n",
    "        tot_range = max_val - min_val \n",
    "        \n",
    "        # Distinguish between indicators, whose value must be inverted\n",
    "        if inverted == True:\n",
    "            temp = raw_dataframe.assign(SCALED = round(10 - 10 * (raw_dataframe[indicator_value].astype('float') - min_val)/ tot_range, 2))\n",
    "        else:\n",
    "            temp = raw_dataframe.assign(SCALED = round(10 * (raw_dataframe[indicator_value].astype('float') - min_val)/ tot_range, 2))\n",
    "        \n",
    "        # bring dataframe from wide to long format\n",
    "        # Prepare the melting of the dataframe, by defining what columns remain\n",
    "        kept_columns = [x for x in s55_cleansed.columns.tolist() if x not in [indicator_value, 'SCALED']]\n",
    "        \n",
    "        return(\n",
    "            pd.melt(temp,\n",
    "               id_vars = ['REF_AREA', 'TIME_PERIOD', 'EDU_CAT', 'SEX'],\n",
    "               value_vars = [indicator_value, 'SCALED'],\n",
    "               var_name = 'VALUE_TYPE')\n",
    "        )"
   ]
  },
  {
   "cell_type": "code",
   "execution_count": null,
   "metadata": {},
   "outputs": [],
   "source": [
    "len(s55_final) == len(s55_scaled) + len(country_iso_list) - len(s55_scaled)/2"
   ]
  },
  {
   "cell_type": "code",
   "execution_count": null,
   "metadata": {},
   "outputs": [],
   "source": [
    "def scaler(indicator, cat_var = False, inverted = False, up_lim = None, low_lim = None):\n",
    "    \"\"\" Transform raw data into scaled (normalized) data in long format\n",
    "    \n",
    "    Parameters:\n",
    "    indicator (obj): numpy array containing the indicator data\n",
    "    cat_var (bool): is variable of type categorical or numerical?\n",
    "    inverted (bool): If we are dealing with a numerical variable, should the values be inverted?\n",
    "    up_lim_req (float): For numerical variables, is there an artificial upper limit \n",
    "    low_lim_req (bool): For numerical variables, is there an artificial upper limit\n",
    "\n",
    "    Returns:\n",
    "    obj: Returns numpy array with transformed values\n",
    "    \"\"\"\n",
    "    # Check if an indicator is numeric of categorical\n",
    "    if cat_var == True:\n",
    "        pass\n",
    "    else:\n",
    "        # This is the section dealing with numerical indicators\n",
    "        # Define the range of the indicator values (some take their max/min value, sometimes an upper/lower limit)\n",
    "        if up_lim == None:\n",
    "            max_val = max(indicator.astype('float'))\n",
    "        else:\n",
    "            max_val = up_lim\n",
    "        if low_lim == None:\n",
    "            min_val = min(indicator.astype('float'))\n",
    "        else:\n",
    "            min_val = low_lim \n",
    "        \n",
    "        # Define the value range that is used for the scaling (normalization)\n",
    "        tot_range = max_val - min_val \n",
    "        \n",
    "        # Distinguish between indicators, whose value must be inverted\n",
    "        if inverted == False:\n",
    "            return(round(10 * (indicator.astype('float') - min_val)/ tot_range, 2))\n",
    "        else:\n",
    "            return(round(10 - 10 * (indicator.astype('float') - min_val)/ tot_range, 2))\n",
    "        \n"
   ]
  },
  {
   "cell_type": "code",
   "execution_count": null,
   "metadata": {},
   "outputs": [],
   "source": [
    "def transform_unesco_api_data(uis_data, country_code_list):\n",
    "    \"\"\"< To do >\n",
    "\n",
    "    Parameters:\n",
    "    s15_raw (obj): Should be return of function s55_extract or s56_extract\n",
    "    country_code_list (array): A numpy array of 2-character country codes.  \n",
    "\n",
    "    Returns:\n",
    "    obj: Returns pandas dataframe with the relevant data of the indicator\n",
    "\n",
    "   \"\"\"\n",
    "    # Discard unnecessay columns\n",
    "    uis_data = uis_data[['REF_AREA',\n",
    "         'TIME_PERIOD',\n",
    "         'OBS_VALUE']]\n",
    "    \n",
    "    # Discard unnecessary rows\n",
    "    uis_data = uis_data[uis_data.REF_AREA.isin(country_code_list)]\n",
    "    \n",
    "    # Retrieve the most up-to-date number for each country\n",
    "    uis_data = uis_data[uis_data['TIME_PERIOD']==uis_data.groupby('REF_AREA')['TIME_PERIOD'].transform('max')]\n",
    "    \n",
    "    return(uis_data)"
   ]
  },
  {
   "cell_type": "markdown",
   "metadata": {},
   "source": [
    "Code to create the country list (which has then been manually modified)"
   ]
  },
  {
   "cell_type": "code",
   "execution_count": null,
   "metadata": {},
   "outputs": [],
   "source": [
    "# This is the list which contains all variations of names a country can have. \n",
    "# NB: CountryDesc is the key, so there are duplicate ISO codes in this list \n",
    "\n",
    "# This is the list of James, which already contains the \"normal\" and the \"long\" name of countries\n",
    "daniele_list_1 = pd.read_csv(filepath_or_buffer = \"D:/Documents/2020/28_UNICEF/9_misc/compare_UNICEF_Transmonee.csv\", \n",
    "                      sep = ',',\n",
    "                      usecols = ['Country', 'Alpha2', 'Alpha3'])\n",
    "daniele_list_1.columns = ['CountryDesc', 'CountryIso2', 'CountryIso3']\n",
    "\n",
    "# This is the list of Daniele \n",
    "daniele_list_2 = pd.read_csv(filepath_or_buffer = \"D:/Documents/2020/28_UNICEF/9_misc/compare_UNICEF_Transmonee.csv\", \n",
    "                      sep = ',',\n",
    "                      usecols = ['CountryDesc', 'CountryIso2', 'CountryIso3'])\n",
    "\n",
    "# This is the list of me\n",
    "my_list = pd.read_excel(\n",
    "    io = \"D:/Documents/2020/28_UNICEF/9_misc/CountryMaster_v3.xlsx\", \n",
    "    )[[#'CountryID',\n",
    "   'CountryDesc',\n",
    "   'CountryIso2',\n",
    "   'CountryIso3']]\n",
    "\n",
    "# Create list with all possible variations of country names\n",
    "country_full_list = daniele_list_1.append(daniele_list_2).append(my_list).drop_duplicates()\n",
    "    \n",
    "# Create list which has countryIso as unique key\n",
    "country_iso_list = country_full_list.drop_duplicates(subset = 'CountryIso2')\n",
    "\n",
    "# Save files \n",
    "country_full_list.to_excel(cwd + 'all_countrynames_list.xlsx')\n",
    "country_full_list.to_csv(cwd + 'all_countrynames_list.csv',\n",
    "                        sep = \";\") # there were a few empty fields for ISO2 and ISO3 which I filled manually. \n",
    "# Furthermore I have deleted the following from the dataset: Channel Islands, Serbia and Montenegro, United nations, Unknown"
   ]
  },
  {
   "cell_type": "code",
   "execution_count": null,
   "metadata": {},
   "outputs": [],
   "source": [
    "# This is the list which contains all variations of names a country can have. \n",
    "# NB: CountryDesc is the key, so there are duplicate ISO codes in this list \n",
    "\n",
    "# This is the list of James, which already contains the \"normal\" and the \"long\" name of countries\n",
    "daniele_list_1 = pd.read_csv(filepath_or_buffer = \"D:/Documents/2020/28_UNICEF/9_misc/compare_UNICEF_Transmonee.csv\", \n",
    "                      sep = ',',\n",
    "                      usecols = ['Country', 'Alpha2', 'Alpha3'])\n",
    "daniele_list_1.columns = ['CountryDesc', 'CountryIso2', 'CountryIso3']\n",
    "\n",
    "# This is the list of Daniele \n",
    "daniele_list_2 = pd.read_csv(filepath_or_buffer = \"D:/Documents/2020/28_UNICEF/9_misc/compare_UNICEF_Transmonee.csv\", \n",
    "                      sep = ',',\n",
    "                      usecols = ['CountryDesc', 'CountryIso2', 'CountryIso3'])\n",
    "\n",
    "# This is the list of me\n",
    "my_list = pd.read_excel(\n",
    "    io = \"D:/Documents/2020/28_UNICEF/9_misc/CountryMaster_v3.xlsx\", \n",
    "    )[[#'CountryID',\n",
    "   'CountryDesc',\n",
    "   'CountryIso2',\n",
    "   'CountryIso3']]\n",
    "\n",
    "# Create list with all possible variations of country names\n",
    "country_full_list = daniele_list_1.append(daniele_list_2).append(my_list).drop_duplicates()\n",
    "    \n",
    "# Create list which has countryIso as unique key\n",
    "country_iso_list = country_full_list.drop_duplicates(subset = 'CountryIso2')\n",
    "\n",
    "# Save files \n",
    "country_full_list.to_excel(cwd + 'all_countrynames_list.xlsx')\n",
    "country_full_list.to_csv(cwd + 'all_countrynames_list.csv',\n",
    "                        sep = \";\") # there were a few empty fields for ISO2 and ISO3 which I filled manually. \n",
    "# Furthermore I have deleted the following from the dataset: Channel Islands, Serbia and Montenegro, United nations, Unknown"
   ]
  },
  {
   "cell_type": "code",
   "execution_count": null,
   "metadata": {},
   "outputs": [],
   "source": [
    "'''\n",
    "country_full_list = pd.read_excel(\n",
    "    io = \"D:/Documents/2020/28_UNICEF/9_misc/CountryMaster_v3.xlsx\", \n",
    "    )[[#'CountryID',\n",
    "   'CountryDesc',\n",
    "   'CountryIso2',\n",
    "   'CountryIso3']].drop_duplicates()\n",
    "\n",
    "country_iso_list = country_full_list.drop_duplicates(subset = 'CountryIso2')\n",
    "\n",
    "list_Daniele = \n",
    "\n",
    "temp = pd.read_csv(filepath_or_buffer = \"D:/Documents/2020/28_UNICEF/9_misc/compare_UNICEF_Transmonee.csv\", \n",
    "                      sep = ',',\n",
    "                      usecols = ['CountryDesc', 'CountryIso2', 'CountryIso3'])\n",
    "list_Daniele.columns = ['CountryDesc', 'CountryIso2', 'CountryIso3']\n",
    "\n",
    "list_Daniele = list_Daniele.append(temp)\n",
    "'''"
   ]
  },
  {
   "cell_type": "code",
   "execution_count": null,
   "metadata": {},
   "outputs": [],
   "source": [
    "# Load the master country-reference lit\n",
    "'''\n",
    "url = 'https://pkgstore.datahub.io/core/country-list/data_csv/data/d7c9d7cfb42cb69f4422dec222dbbaa8/data_csv.csv'\n",
    "\n",
    "country_list = pd.read_csv(\n",
    "    filepath_or_buffer = url, \n",
    "    sep = ',',\n",
    "    )\n",
    "'''"
   ]
  },
  {
   "cell_type": "code",
   "execution_count": null,
   "metadata": {},
   "outputs": [],
   "source": [
    "# Reproducing Maplecroft transformation (dev section)\n",
    "\n",
    "Using indicator 3.1.1. as a first example (quantitative variable): Child labour rate (5-17) \n",
    "\n",
    "The maplecroft sheet has each indicator undergo a set of tranformations: \n",
    "\n",
    "1. Indicator raw data = basis\n",
    "2. Normalize indicator raw data with certain transformation (e.g. 0.3.1.1. becomes 0.3.1.1_s)\n",
    "3. Aggregate various normalized indicator data into a cluster value (e.g. 0.3.1.1 and 0.3.1.2. become 0.3_s)\n",
    "\n",
    "In the following I am reproducing these steps, each of which contains many different nested if-then statements\n",
    "\n",
    "## 1 Indicator raw data\n",
    "\n",
    "s. above\n",
    "\n",
    "## 2 Normalize "
   ]
  },
  {
   "cell_type": "code",
   "execution_count": null,
   "metadata": {},
   "outputs": [],
   "source": [
    "min_val = min(s24_transformed.value.astype('float'))\n",
    "max_val = max(s24_transformed.value.astype('float'))\n",
    "tot_range = max_val - min_val \n",
    "\n",
    "if indicator = \n",
    "\n",
    "# Do the actual normalization\n",
    "s24_transformed.assign(norm_val = (s24_transformed.value.astype('float') - min_val)/ tot_range)"
   ]
  },
  {
   "cell_type": "code",
   "execution_count": null,
   "metadata": {},
   "outputs": [],
   "source": [
    "These if-statements must be included: \n",
    "\n",
    "* If categorical --> Something I still have to figure out\n",
    "    * Else: If upper limit required --> take upper limit value.\n",
    "        * Else: Take max value of series. And then: \n",
    "            * If raw data value > max to use\n",
    "            \n",
    "* Categorical vs numerical\n",
    "    * Inverted\n",
    "        * Is raw data point (for a country) available? --> \n",
    "            * Max to use as upper limit or max value\n",
    "                * Min to use as lower limit of min value\n",
    "                    *  "
   ]
  },
  {
   "cell_type": "code",
   "execution_count": null,
   "metadata": {},
   "outputs": [],
   "source": [
    "from sklearn import preprocessing\n",
    "sklearn.preprocessing.MinMaxScaler().fit_transform(s24_transformed.value)\n",
    "\n",
    "\n",
    "\n",
    "# Create x, where x the 'scores' column's values as floats\n",
    "x = s24_transformed.value.astype(float)\n",
    "\n",
    "temp = x.reshape(1, -1)\n",
    "\n",
    "# Create a minimum and maximum processor object\n",
    "min_max_scaler = preprocessing.MinMaxScaler()\n",
    "\n",
    "# Create an object to transform the data to fit minmax processor\n",
    "x_scaled = min_max_scaler.fit_transform(temp)\n",
    "\n",
    "# Run the normalizer on the dataframe\n",
    "df_normalized = pd.DataFrame(x_scaled)\n",
    "\n",
    "\n",
    "# s56_transformed.head()\n",
    "\n",
    "# The maplecroft sheet has each indicator undergo the following tran"
   ]
  },
  {
   "cell_type": "code",
   "execution_count": null,
   "metadata": {},
   "outputs": [],
   "source": [
    "# Extract the relevant columns\n",
    "temp = s24_raw[['geoAreaCode',\n",
    "            'geoAreaName',\n",
    "            'timePeriodStart',\n",
    "            'value']]\n",
    "\n",
    "# Extract the latest value for each country\n",
    "temp[temp['timePeriodStart'] == temp.groupby('geoAreaName')['timePeriodStart'].transform('max')]"
   ]
  },
  {
   "cell_type": "code",
   "execution_count": null,
   "metadata": {},
   "outputs": [],
   "source": [
    "# Transform the raw data\n",
    "s61_transformed = transform_sdg_api_data(raw_data = s61_raw)"
   ]
  },
  {
   "cell_type": "code",
   "execution_count": null,
   "metadata": {},
   "outputs": [],
   "source": [
    "# Extract data and directly flatten it out into a pandas dataframe\n",
    "s24_raw = extract_sdg_api_data(series = 'VC_HTF_DETV')\n",
    "\n",
    "# Save data to raw data folder\n",
    "save_raw_data(dataframe = s24_raw,\n",
    "             filename = 'S_24.xlsx')"
   ]
  },
  {
   "cell_type": "code",
   "execution_count": null,
   "metadata": {},
   "outputs": [],
   "source": [
    "# Extract data and directly flatten it out into a pandas dataframe\n",
    "url = 'https://unstats.un.org/SDGAPI/v1/sdg/Series/Data?seriesCode=VC_HTF_DETV&pageSize=999999999' # choose page size large enough to make sure data all fits in one page\n",
    "s24_raw = pd.json_normalize(requests.get(url).json()['data'])\n",
    "\n",
    "# Save data to raw data folder\n",
    "save_raw_data(dataframe = s24_raw,\n",
    "             filename = 'S_24.xlsx')"
   ]
  },
  {
   "cell_type": "code",
   "execution_count": null,
   "metadata": {},
   "outputs": [],
   "source": [
    "# Extract raw data\n",
    "s56_raw = s56_extract(subs_key = '460ab272abdd43c892bb59c218c22c09',\n",
    "                      start_period = '2010',\n",
    "                      end_period = '2020')\n",
    "\n",
    "# Save raw data\n",
    "save_raw_data(dataframe = s56_raw,\n",
    "             filename = 'S_56.xlsx')"
   ]
  },
  {
   "cell_type": "code",
   "execution_count": null,
   "metadata": {},
   "outputs": [],
   "source": [
    "def s56_extract(subs_key, start_period = 2010, end_period = 2020):\n",
    "    \"\"\"Extract raw data of source S-15 from the UNESCO api UIS\n",
    "\n",
    "    Parameters:\n",
    "    subs_key (string): Your API key. You must create one. Visit https://apiportal.uis.unesco.org/getting-started for more info\n",
    "    start_period (int): Year which is the beginning of series for which you want to collect data\n",
    "    end_period (ing): Year which is the end of series for which you want to collect data\n",
    "\n",
    "    Returns:\n",
    "    obj: Returns pandas dataframe and saves raw data to specified output_path\n",
    "\n",
    "   \"\"\"\n",
    "    url = 'https://api.uis.unesco.org/sdmx/data/SDG4/ROFST.PT.L3._T._T.SCH_AGE_GROUP._T.INST_T._Z._T._Z._Z._Z._T._T._Z._Z._Z.?startPeriod={syear}&endPeriod={eyear}&format=csv-sdmx&subscription-key={skey}'.format(syear = start_period,\n",
    "        eyear = end_period,\n",
    "        skey = subs_key)\n",
    "    return(pd.read_csv(filepath_or_buffer = url, \n",
    "                      sep = ',',))"
   ]
  },
  {
   "cell_type": "code",
   "execution_count": null,
   "metadata": {},
   "outputs": [],
   "source": [
    "# Extract data\n",
    "s55_raw = s55_extract(subs_key = '460ab272abdd43c892bb59c218c22c09',\n",
    "                      start_period = '2010',\n",
    "                      end_period = '2020')\n",
    "\n",
    "# Save raw data\n",
    "save_raw_data(dataframe = s55_raw,\n",
    "             filename = 'S_55.xlsx')"
   ]
  },
  {
   "cell_type": "code",
   "execution_count": null,
   "metadata": {},
   "outputs": [],
   "source": [
    "def s55_extract(subs_key, start_period = 2010, end_period = 2020):\n",
    "    \"\"\"Extract raw data from the UNESCO API\n",
    "\n",
    "    The API can be called with a API key, which you must generate by creating an account. \n",
    "    The calls can be done with simple https requests, in which many parameter must be specified (e.g. indicator code, sexes, age, ...). TO understand the structure, please check the query builder https://apiportal.uis.unesco.org/query-builder\n",
    "\n",
    "    Parameters:\n",
    "    subs_key (string): Your API key. You must create one. Visit https://apiportal.uis.unesco.org/getting-started for more info\n",
    "    start_period (int): Year which is the beginning of series for which you want to collect data\n",
    "    end_period (ing): Year which is the end of series for which you want to collect data\n",
    "\n",
    "    Returns:\n",
    "    obj: Returns pandas dataframe and saves raw data to specified output_path\n",
    "\n",
    "   \"\"\"\n",
    "    url = 'https://api.uis.unesco.org/sdmx/data/SDG4/ROFST.PT.L2._T._T.SCH_AGE_GROUP._T.INST_T._Z._T._Z._Z._Z._T._T._Z._Z._Z.?startPeriod={syear}&endPeriod={eyear}&format=csv-sdmx&subscription-key={skey}'.format(syear = start_period,\n",
    "        eyear = end_period,\n",
    "        skey = subs_key)\n",
    "    return(pd.read_csv(filepath_or_buffer = url, \n",
    "                      sep = ',',))\n",
    "\n",
    "https://api.uis.unesco.org/sdmx/dataflow/all/all/latest?subscription-key=<your api key>"
   ]
  },
  {
   "cell_type": "code",
   "execution_count": null,
   "metadata": {},
   "outputs": [],
   "source": [
    "# Extract the relevant columns\n",
    "temp = s61_raw[['geoAreaCode',\n",
    "            'geoAreaName',\n",
    "            'timePeriodStart',\n",
    "            'value']]\n",
    "\n",
    "# Extract the latest value for each country\n",
    "temp = temp[temp['timePeriodStart'] == temp.groupby('geoAreaName')['timePeriodStart'].transform('max')]"
   ]
  },
  {
   "cell_type": "code",
   "execution_count": null,
   "metadata": {},
   "outputs": [],
   "source": [
    "\n",
    "# Extract the relevant columns\n",
    "temp = temp[['geoAreaCode',\n",
    "            'geoAreaName',\n",
    "            'timePeriodStart',\n",
    "            'value']]\n",
    "\n",
    "# Extract the latest value for each country\n",
    "temp = temp[temp['timePeriodStart'] == temp.groupby('geoAreaName')['timePeriodStart'].transform('max')]"
   ]
  },
  {
   "cell_type": "markdown",
   "metadata": {},
   "source": [
    "#### Transforming ILO data"
   ]
  },
  {
   "cell_type": "code",
   "execution_count": null,
   "metadata": {},
   "outputs": [],
   "source": [
    "# Filter out rows to get both sexes\n",
    "temp  = s23_raw_ilo[s23_raw_ilo['SEX'] == 'SEX_T']\n",
    "\n",
    "# Extract the relevant columns\n",
    "temp = temp[['REF_AREA',\n",
    "            'TIME_PERIOD',\n",
    "            'OBS_VALUE']]\n",
    "\n",
    "# Extract the latest value for each country\n",
    "temp = temp[temp['TIME_PERIOD'] == temp.groupby('REF_AREA')['TIME_PERIOD'].transform('max')]\n",
    "\n",
    "# Save file to examine it\n",
    "temp.to_excel(cwd + \"\\data_transformed\\S_23_SDG_ILO.xlsx\")"
   ]
  },
  {
   "cell_type": "markdown",
   "metadata": {},
   "source": [
    "#### Extracting data through ILO API"
   ]
  },
  {
   "cell_type": "code",
   "execution_count": null,
   "metadata": {},
   "outputs": [],
   "source": []
  },
  {
   "cell_type": "code",
   "execution_count": null,
   "metadata": {},
   "outputs": [],
   "source": [
    "# Extract data from ILO API. The link is generated from this website: https://ilostat.ilo.org/data/sdmx-query-builder/ . \n",
    "# The code of the indicator I have from here: \n",
    "url = 'https://www.ilo.org/sdmx/rest/data/ILO,DF_SDG_ALL_SDG_A831_SEX_RT/?format=csv&startPeriod=2010-01-01&endPeriod=2020-12-31'\n",
    "\n",
    "s23_raw_ilo = pd.read_csv(filepath_or_buffer = url, \n",
    "                      sep = ',',)\n",
    "\n",
    "# Save data to raw data folder\n",
    "s23_raw_ilo.to_excel(dataframe = s23_raw,\n",
    "             filename = 'S_23.xlsx')"
   ]
  },
  {
   "cell_type": "code",
   "execution_count": null,
   "metadata": {},
   "outputs": [],
   "source": []
  },
  {
   "cell_type": "code",
   "execution_count": null,
   "metadata": {},
   "outputs": [],
   "source": [
    "def s56_save_raw(s56_data, output_path = data_sources_raw + '\\S_56.xlsx'):\n",
    "    \"\"\"Save raw data of source s56 as .xlsx file\n",
    "\n",
    "    Parameters:\n",
    "    s15_data (obj): Raw data to be be saved. Must be ob class pandas.DataFrame\n",
    "    output_path (string): Output path of where to save the raw data if save_raw is set to true\n",
    "\n",
    "    Returns:\n",
    "    obj: Returns pandas dataframe and saves raw data to specified output_path\n",
    "\n",
    "   \"\"\"\n",
    "    s56_data.to_excel(output_path)\n",
    "    print('The raw data has been saved as .xlsx file in: ' + output_path)"
   ]
  },
  {
   "cell_type": "code",
   "execution_count": null,
   "metadata": {},
   "outputs": [],
   "source": [
    "\n",
    "def s55_save_raw(s55_data, output_path = data_sources_raw + '\\S_55.xlsx'):\n",
    "    \"\"\"Save raw data of source s55 as .xlsx file\n",
    "\n",
    "    Parameters:\n",
    "    s15_data (obj): Raw data to be be saved. Must be ob class pandas.DataFrame\n",
    "    output_path (string): Output path of where to save the raw data if save_raw is set to true\n",
    "\n",
    "    Returns:\n",
    "    obj: Returns pandas dataframe and saves raw data to specified output_path\n",
    "\n",
    "   \"\"\"\n",
    "    s55_data.to_excel(output_path)\n",
    "    print('The raw data has been saved as .xlsx file in: ' + output_path)"
   ]
  },
  {
   "cell_type": "code",
   "execution_count": null,
   "metadata": {},
   "outputs": [],
   "source": [
    "# Retrieve the most up-to-date number for each country\n",
    "s16_data[s16_data['TIME_PERIOD']==s16_data.groupby('REF_AREA')['TIME_PERIOD'].transform('max')]"
   ]
  },
  {
   "cell_type": "code",
   "execution_count": null,
   "metadata": {},
   "outputs": [],
   "source": [
    "# Discard unnecessay columns\n",
    "s16_data = s16_data[['REF_AREA',\n",
    "         'TIME_PERIOD',\n",
    "         'OBS_VALUE']]\n",
    "\n",
    "# Discard unnecessary rows\n",
    "s16_data = s16_data[s16_data.REF_AREA.isin(counry_list.Code)]"
   ]
  },
  {
   "cell_type": "code",
   "execution_count": null,
   "metadata": {},
   "outputs": [],
   "source": [
    "# Define parameters of the API query\n",
    "subs_key = '460ab272abdd43c892bb59c218c22c09' # must generate an KEY on the UIS page\n",
    "start_period = '2010' # define from which year you wan to retrieve data \n",
    "end_period = '2020' # define until what you want to retreive data\n",
    "\n",
    "# Build URL query based on parameters defined\n",
    "url = 'https://api.uis.unesco.org/sdmx/data/SDG4/ROFST.PT.L3._T._T.SCH_AGE_GROUP._T.INST_T._Z._T._Z._Z._Z._T._T._Z._Z._Z.?startPeriod={syear}&endPeriod={eyear}&format=csv-sdmx&subscription-key={skey}'.format(syear = start_period,\n",
    "eyear = end_period,\n",
    "skey = subs_key)\n",
    "\n",
    "# Extract the data\n",
    "s16_data = pd.read_csv(filepath_or_buffer = url, \n",
    "                      sep = ',',\n",
    "                      )\n",
    "\n",
    "# Save data in raw version as excel file # TO do: Create a versioning\n",
    "s16_data.to_excel(data_sources_raw + '\\S_16.xlsx')"
   ]
  },
  {
   "cell_type": "code",
   "execution_count": null,
   "metadata": {},
   "outputs": [],
   "source": [
    "# Retrieve the most up-to-date number for each country\n",
    "s15_data[s15_data['TIME_PERIOD']==s15_data.groupby('REF_AREA')['TIME_PERIOD'].transform('max')]"
   ]
  },
  {
   "cell_type": "code",
   "execution_count": null,
   "metadata": {},
   "outputs": [],
   "source": [
    "# Discard unnecessay columns\n",
    "s15_data = s15_data[['REF_AREA',\n",
    "         'TIME_PERIOD',\n",
    "         'OBS_VALUE']]\n",
    "\n",
    "# Discard unnecessary rows\n",
    "s15_data = s15_data[s15_data.REF_AREA.isin(counry_list.Code)]"
   ]
  },
  {
   "cell_type": "code",
   "execution_count": null,
   "metadata": {},
   "outputs": [],
   "source": [
    "# Define parameters of the API query\n",
    "subs_key = '460ab272abdd43c892bb59c218c22c09' # must generate an KEY on the UIS page\n",
    "start_period = '2010' # define from which year you wan to retrieve data \n",
    "end_period = '2020' # define until what you want to retreive data\n",
    "\n",
    "# Build URL query based on parameters defined\n",
    "url = 'https://api.uis.unesco.org/sdmx/data/SDG4/ROFST.PT.L2._T._T.SCH_AGE_GROUP._T.INST_T._Z._T._Z._Z._Z._T._T._Z._Z._Z.?startPeriod={syear}&endPeriod={eyear}&format=csv-sdmx&subscription-key={skey}'.format(syear = start_period,\n",
    "eyear = end_period,\n",
    "skey = subs_key)\n",
    "\n",
    "# Extract the data\n",
    "s15_data = pd.read_csv(filepath_or_buffer = url, \n",
    "                      sep = ',',\n",
    "                      )\n",
    "\n",
    "# Save data in raw version as excel file # TO do: Create a versioning\n",
    "s15_data.to_excel(data_sources_raw + '\\S_15.xlsx')"
   ]
  },
  {
   "cell_type": "code",
   "execution_count": 56,
   "metadata": {
    "scrolled": true
   },
   "outputs": [
    {
     "data": {
      "text/plain": [
       "array(['AE', 'AG', 'AL', 'AM', 'AO', 'AR', 'AT', 'AU', 'AZ', 'BB', 'BD',\n",
       "       'BE', 'BF', 'BG', 'BH', 'BI', 'BJ', 'BM', 'BN', 'BO', 'BR', 'BS',\n",
       "       'BT', 'BY', 'BZ', 'CA', 'CF', 'CH', 'CI', 'CK', 'CL', 'CM', 'CO',\n",
       "       'CR', 'CU', 'CV', 'CY', 'CZ', 'DE', 'DJ', 'DK', 'DM', 'DO', 'EC',\n",
       "       'EE', 'EG', 'ER', 'ES', 'ET', 'FI', 'FJ', 'FM', 'FR', 'GB', 'GD',\n",
       "       'GE', 'GH', 'GI', 'GM', 'GN', 'GR', 'GT', 'GY', 'HK', 'HN', 'HR',\n",
       "       'HU', 'ID', 'IE', 'IL', 'IN', 'IR', 'IS', 'IT', 'JM', 'JO', 'KG',\n",
       "       'KH', 'KM', 'KN', 'KW', 'KZ', 'LA', 'LC', 'LI', 'LK', 'LR', 'LS',\n",
       "       'LT', 'LU', 'LV', 'MA', 'MD', 'ME', 'MG', 'MH', 'ML', 'MM', 'MO',\n",
       "       'MR', 'MS', 'MT', 'MU', 'MW', 'MX', 'MY', 'MZ', 'NE', 'NI', 'NL',\n",
       "       'NO', 'NP', 'NR', 'NZ', 'OM', 'PA', 'PE', 'PG', 'PH', 'PK', 'PL',\n",
       "       'PR', 'PS', 'PT', 'PY', 'QA', 'RO', 'RS', 'RU', 'RW', 'SA', 'SD',\n",
       "       'SE', 'SG', 'SI', 'SK', 'SL', 'SM', 'SN', 'SR', 'SS', 'ST', 'SV',\n",
       "       'SX', 'SY', 'SZ', 'TD', 'TG', 'TH', 'TJ', 'TL', 'TO', 'TR', 'TV',\n",
       "       'TZ', 'UA', 'US', 'UY', 'UZ', 'VA', 'VC', 'VE', 'VG', 'VU', 'WS',\n",
       "       'YE', 'ZA', 'ZW'], dtype=object)"
      ]
     },
     "execution_count": 56,
     "metadata": {},
     "output_type": "execute_result"
    }
   ],
   "source": [
    "s15_data.REF_AREA.unique()"
   ]
  },
  {
   "cell_type": "code",
   "execution_count": 34,
   "metadata": {},
   "outputs": [
    {
     "name": "stdout",
     "output_type": "stream",
     "text": [
      "{'meta': {'schema': 'https://raw.githubusercontent.com/sdmx-twg/sdmx-json/master/data-message/tools/schemas/1.0/sdmx-json-data-schema.json', 'id': 'ce6f654c-754d-45c5-ba8b-f22c7afd8d35', 'prepared': '2020-08-10T11:31:02Z', 'test': False, 'content-languages': ['en'], 'sender': {'id': 'ILO', 'name': 'ILOSTAT', 'names': {'en': 'ILOSTAT'}}}, 'data': {'dataSets': [{'action': 'Information', 'links': [{'urn': 'urn:sdmx:org.sdmx.infomodel.datastructure.DataStructure=ILO:YI_ALL_IFL_4IEM_SEX_ECO_IFL_RT(1.0)', 'rel': 'DataStructure'}], 'annotations': [0, 1, 2, 3, 4, 5, 6], 'series': {'0:0:0:0:0:0:0': {'attributes': [], 'annotations': [], 'observations': {'0': [84.32, None, 0, 0, 0, 0, None, None, None, 0, None, None]}}, '0:0:0:0:0:0:1': {'attributes': [], 'annotations': [], 'observations': {'0': [76.19, None, 0, 0, 0, 0, None, None, None, 0, None, None]}}, '0:0:0:0:0:1:0': {'attributes': [], 'annotations': [], 'observations': {'0': [68.1, None, 0, 0, 0, 0, None, None, None, 0, None, None]}}, '0:0:0:0:0:1:1': {'attributes': [], 'annotations': [], 'observations': {'0': [51.78, None, 0, 0, 0, 0, None, None, None, 0, None, None]}}, '0:0:0:0:1:0:0': {'attributes': [], 'annotations': [], 'observations': {'0': [77.16, None, 0, 0, 0, 0, None, None, None, 0, None, None]}}, '0:0:0:0:1:0:1': {'attributes': [], 'annotations': [], 'observations': {'0': [65.3, None, 0, 0, 0, 0, None, None, None, 0, None, None]}}, '0:0:0:0:1:1:0': {'attributes': [], 'annotations': [], 'observations': {'0': [59.3, None, 0, 0, 0, 0, None, None, None, 0, None, None]}}, '0:0:0:0:1:1:1': {'attributes': [], 'annotations': [], 'observations': {'0': [38.45, None, 0, 0, 0, 0, None, None, None, 0, None, None]}}, '0:0:0:0:2:0:0': {'attributes': [], 'annotations': [], 'observations': {'0': [91.33, None, 0, 0, 0, 0, None, None, None, 0, None, None]}}, '0:0:0:0:2:0:1': {'attributes': [], 'annotations': [], 'observations': {'0': [86.87, None, 0, 0, 0, 0, None, None, None, 0, None, None]}}, '0:0:0:0:2:1:0': {'attributes': [], 'annotations': [], 'observations': {'0': [79.53, None, 0, 0, 0, 0, None, None, None, 0, None, None]}}, '0:0:0:0:2:1:1': {'attributes': [], 'annotations': [], 'observations': {'0': [69.11, None, 0, 0, 0, 0, None, None, None, 0, None, None]}}, '0:1:0:0:0:0:0': {'attributes': [], 'annotations': [], 'observations': {'1': [66.59, None, 0, 0, 0, 0, None, None, None, 0, None, None], '2': [60.98, None, 0, 0, 0, 0, None, None, None, 0, None, None], '3': [65.63, None, 0, 0, 0, 0, None, None, None, 0, None, None], '4': [63.35, None, 0, 0, 0, 0, None, None, None, 0, None, None], '5': [61.65, None, 0, 0, 0, 0, None, None, None, 0, None, None], '6': [58.71, None, 0, 0, 0, 0, None, None, None, 0, None, None], '7': [57.86, None, 0, 0, 0, 0, None, None, None, 0, None, None], '8': [56.7, None, 0, 0, 0, 0, None, None, None, 0, None, None]}}, '0:1:0:0:0:0:1': {'attributes': [], 'annotations': [], 'observations': {'1': [69.77, None, 0, 0, 0, 0, None, None, None, 0, None, None], '2': [63.47, None, 0, 0, 0, 0, None, None, None, 0, None, None], '3': [69.04, None, 0, 0, 0, 0, None, None, None, 0, None, None], '4': [67.39, None, 0, 0, 0, 0, None, None, None, 0, None, None], '5': [66.36, None, 0, 0, 0, 0, None, None, None, 0, None, None], '6': [64.74, None, 0, 0, 0, 0, None, None, None, 0, None, None], '7': [64.73, None, 0, 0, 0, 0, None, None, None, 0, None, None], '8': [64.74, None, 0, 0, 0, 0, None, None, None, 0, None, None]}}, '0:1:0:0:0:1:0': {'attributes': [], 'annotations': [], 'observations': {'1': [40.17, None, 0, 0, 0, 0, None, None, None, 0, None, None], '2': [33.11, None, 0, 0, 0, 0, None, None, None, 0, None, None], '3': [40.96, None, 0, 0, 0, 0, None, None, None, 0, None, None], '4': [38.05, None, 0, 0, 0, 0, None, None, None, 0, None, None], '5': [36.35, None, 0, 0, 0, 0, None, None, None, 0, None, None], '6': [33.73, None, 0, 0, 0, 0, None, None, None, 0, None, None], '7': [33.49, None, 0, 0, 0, 0, None, None, None, 0, None, None], '8': [32.24, None, 0, 0, 0, 0, None, None, None, 0, None, None]}}, '0:1:0:0:0:1:1': {'attributes': [], 'annotations': [], 'observations': {'1': [46.02, None, 0, 0, 0, 0, None, None, None, 0, None, None], '2': [37.47, None, 0, 0, 0, 0, None, None, None, 0, None, None], '3': [46.78, None, 0, 0, 0, 0, None, None, None, 0, None, None], '4': [44.83, None, 0, 0, 0, 0, None, None, None, 0, None, None], '5': [44.09, None, 0, 0, 0, 0, None, None, None, 0, None, None], '6': [43.34, None, 0, 0, 0, 0, None, None, None, 0, None, None], '7': [44.27, None, 0, 0, 0, 0, None, None, None, 0, None, None], '8': [44.81, None, 0, 0, 0, 0, None, None, None, 0, None, None]}}, '0:1:0:0:1:0:0': {'attributes': [], 'annotations': [], 'observations': {'1': [63.39, None, 0, 0, 0, 0, None, None, None, 0, None, None], '2': [58.95, None, 0, 0, 0, 0, None, None, None, 0, None, None], '3': [67.4, None, 0, 0, 0, 0, None, None, None, 0, None, None], '4': [65.81, None, 0, 0, 0, 0, None, None, None, 0, None, None], '5': [63.81, None, 0, 0, 0, 0, None, None, None, 0, None, None], '6': [61.08, None, 0, 0, 0, 0, None, None, None, 0, None, None], '7': [60.21, None, 0, 0, 0, 0, None, None, None, 0, None, None], '8': [58.98, None, 0, 0, 0, 0, None, None, None, 0, None, None]}}, '0:1:0:0:1:0:1': {'attributes': [], 'annotations': [], 'observations': {'1': [67.39, None, 0, 0, 0, 0, None, None, None, 0, None, None], '2': [62.09, None, 0, 0, 0, 0, None, None, None, 0, None, None], '3': [71.01, None, 0, 0, 0, 0, None, None, None, 0, None, None], '4': [69.93, None, 0, 0, 0, 0, None, None, None, 0, None, None], '5': [68.67, None, 0, 0, 0, 0, None, None, None, 0, None, None], '6': [66.76, None, 0, 0, 0, 0, None, None, None, 0, None, None], '7': [67.28, None, 0, 0, 0, 0, None, None, None, 0, None, None], '8': [66.84, None, 0, 0, 0, 0, None, None, None, 0, None, None]}}, '0:1:0:0:1:1:0': {'attributes': [], 'annotations': [], 'observations': {'1': [43.81, None, 0, 0, 0, 0, None, None, None, 0, None, None], '2': [38.62, None, 0, 0, 0, 0, None, None, None, 0, None, None], '3': [49.12, None, 0, 0, 0, 0, None, None, None, 0, None, None], '4': [46.51, None, 0, 0, 0, 0, None, None, None, 0, None, None], '5': [43.7, None, 0, 0, 0, 0, None, None, None, 0, None, None], '6': [40.75, None, 0, 0, 0, 0, None, None, None, 0, None, None], '7': [41.06, None, 0, 0, 0, 0, None, None, None, 0, None, None], '8': [39.88, None, 0, 0, 0, 0, None, None, None, 0, None, None]}}, '0:1:0:0:1:1:1': {'attributes': [], 'annotations': [], 'observations': {'1': [50.16, None, 0, 0, 0, 0, None, None, None, 0, None, None], '2': [43.4, None, 0, 0, 0, 0, None, None, None, 0, None, None], '3': [54.69, None, 0, 0, 0, 0, None, None, None, 0, None, None], '4': [52.91, None, 0, 0, 0, 0, None, None, None, 0, None, None], '5': [51.14, None, 0, 0, 0, 0, None, None, None, 0, None, None], '6': [49.33, None, 0, 0, 0, 0, None, None, None, 0, None, None], '7': [51.43, None, 0, 0, 0, 0, None, None, None, 0, None, None], '8': [51.36, None, 0, 0, 0, 0, None, None, None, 0, None, None]}}, '0:1:0:0:2:0:0': {'attributes': [], 'annotations': [], 'observations': {'1': [70.64, None, 0, 0, 0, 0, None, None, None, 0, None, None], '2': [63.45, None, 0, 0, 0, 0, None, None, None, 0, None, None], '3': [63.34, None, 0, 0, 0, 0, None, None, None, 0, None, None], '4': [60.08, None, 0, 0, 0, 0, None, None, None, 0, None, None], '5': [58.88, None, 0, 0, 0, 0, None, None, None, 0, None, None], '6': [55.59, None, 0, 0, 0, 0, None, None, None, 0, None, None], '7': [54.87, None, 0, 0, 0, 0, None, None, None, 0, None, None], '8': [53.86, None, 0, 0, 0, 0, None, None, None, 0, None, None]}}, '0:1:0:0:2:0:1': {'attributes': [], 'annotations': [], 'observations': {'1': [72.79, None, 0, 0, 0, 0, None, None, None, 0, None, None], '2': [65.16, None, 0, 0, 0, 0, None, None, None, 0, None, None], '3': [66.48, None, 0, 0, 0, 0, None, None, None, 0, None, None], '4': [64.01, None, 0, 0, 0, 0, None, None, None, 0, None, None], '5': [63.4, None, 0, 0, 0, 0, None, None, None, 0, None, None], '6': [62.07, None, 0, 0, 0, 0, None, None, None, 0, None, None], '7': [61.48, None, 0, 0, 0, 0, None, None, None, 0, None, None], '8': [62.11, None, 0, 0, 0, 0, None, None, None, 0, None, None]}}, '0:1:0:0:2:1:0': {'attributes': [], 'annotations': [], 'observations': {'1': [33.49, None, 0, 0, 0, 0, None, None, None, 0, None, None], '2': [24.13, None, 0, 0, 0, 0, None, None, None, 0, None, None], '3': [27.56, None, 0, 0, 0, 0, None, None, None, 0, None, None], '4': [24.4, None, 0, 0, 0, 0, None, None, None, 0, None, None], '5': [25.36, None, 0, 0, 0, 0, None, None, None, 0, None, None], '6': [23.28, None, 0, 0, 0, 0, None, None, None, 0, None, None], '7': [22.33, None, 0, 0, 0, 0, None, None, None, 0, None, None], '8': [21.18, None, 0, 0, 0, 0, None, None, None, 0, None, None]}}, '0:1:0:0:2:1:1': {'attributes': [], 'annotations': [], 'observations': {'1': [38.43, None, 0, 0, 0, 0, None, None, None, 0, None, None], '2': [27.81, None, 0, 0, 0, 0, None, None, None, 0, None, None], '3': [33.79, None, 0, 0, 0, 0, None, None, None, 0, None, None], '4': [31.8, None, 0, 0, 0, 0, None, None, None, 0, None, None], '5': [33.54, None, 0, 0, 0, 0, None, None, None, 0, None, None], '6': [34.41, None, 0, 0, 0, 0, None, None, None, 0, None, None], '7': [33.72, None, 0, 0, 0, 0, None, None, None, 0, None, None], '8': [35.33, None, 0, 0, 0, 0, None, None, None, 0, None, None]}}, '0:2:0:0:0:0:0': {'attributes': [], 'annotations': [], 'observations': {'9': [48.54, None, 0, 0, 0, 1, 0, None, None, 0, None, None], '0': [47.69, None, 0, 0, 0, 2, 0, None, None, 0, None, None], '1': [47.79, None, 0, 0, 0, 2, 0, None, None, 0, None, None], '2': [47.43, None, 0, 0, 0, 2, 0, None, None, 0, None, None], '3': [46.84, None, 0, 0, 0, 2, 0, None, None, 0, None, None], '6': [47.91, None, 0, 0, 0, 1, None, None, None, 0, None, None], '7': [48.11, None, 0, 0, 0, 1, None, None, None, 0, None, None], '8': [49.35, None, 0, 0, 0, 1, None, None, None, 0, None, None]}}, '0:2:0:0:0:0:1': {'attributes': [], 'annotations': [], 'observations': {'9': [42.66, None, 0, 0, 0, 2, 0, None, None, 0, None, None], '0': [41.91, None, 0, 0, 0, 1, 0, None, None, 0, None, None], '1': [42.23, None, 0, 0, 0, 1, 0, None, None, 0, None, None], '2': [42.76, None, 0, 0, 0, 2, 0, None, None, 0, None, None], '3': [42.62, None, 0, 0, 0, 2, 0, None, None, 0, None, None], '6': [43.81, None, 0, 0, 0, 2, None, None, None, 0, None, None], '7': [44.06, None, 0, 0, 0, 2, None, None, None, 0, None, None], '8': [45.25, None, 0, 0, 0, 2, None, None, None, 0, None, None]}}, '0:2:0:0:0:1:0': {'attributes': [], 'annotations': [], 'observations': {'9': [48.15, None, 0, 0, 0, 2, 0, None, None, 0, None, None], '0': [47.6, None, 0, 0, 0, 1, 0, None, None, 0, None, None], '1': [47.73, None, 0, 0, 0, 1, 0, None, None, 0, None, None], '2': [47.33, None, 0, 0, 0, 2, 0, None, None, 0, None, None], '3': [46.79, None, 0, 0, 0, 1, 0, None, None, 0, None, None], '6': [47.93, None, 0, 0, 0, 2, None, None, None, 0, None, None], '7': [48.14, None, 0, 0, 0, 2, None, None, None, 0, None, None], '8': [49.36, None, 0, 0, 0, 1, None, None, None, 0, None, None]}}, '0:2:0:0:0:1:1': {'attributes': [], 'annotations': [], 'observations': {'9': [42.31, None, 0, 0, 0, 2, 0, None, None, 0, None, None], '0': [41.87, None, 0, 0, 0, 1, 0, None, None, 0, None, None], '1': [42.19, None, 0, 0, 0, 1, 0, None, None, 0, None, None], '2': [42.74, None, 0, 0, 0, 2, 0, None, None, 0, None, None], '3': [42.64, None, 0, 0, 0, 2, 0, None, None, 0, None, None], '6': [43.83, None, 0, 0, 0, 1, None, None, None, 0, None, None], '7': [44.09, None, 0, 0, 0, 2, None, None, None, 0, None, None], '8': [45.26, None, 0, 0, 0, 2, None, None, None, 0, None, None]}}, '0:2:0:0:1:0:0': {'attributes': [], 'annotations': [], 'observations': {'9': [47.79, None, 0, 0, 0, 2, 0, None, None, 0, None, None], '0': [47, None, 0, 0, 0, 1, 0, None, None, 0, None, None], '1': [47.58, None, 0, 0, 0, 1, 0, None, None, 0, None, None], '2': [47.89, None, 0, 0, 0, 2, 0, None, None, 0, None, None], '3': [47.11, None, 0, 0, 0, 2, 0, None, None, 0, None, None], '6': [48.27, None, 0, 0, 0, 1, None, None, None, 0, None, None], '7': [47.66, None, 0, 0, 0, 1, None, None, None, 0, None, None], '8': [49.35, None, 0, 0, 0, 2, None, None, None, 0, None, None]}}, '0:2:0:0:1:0:1': {'attributes': [], 'annotations': [], 'observations': {'9': [40.66, None, 0, 0, 0, 1, 0, None, None, 0, None, None], '0': [40.01, None, 0, 0, 0, 1, 0, None, None, 0, None, None], '1': [40.83, None, 0, 0, 0, 2, 0, None, None, 0, None, None], '2': [41.43, None, 0, 0, 0, 1, 0, None, None, 0, None, None], '3': [41.26, None, 0, 0, 0, 1, 0, None, None, 0, None, None], '6': [42.05, None, 0, 0, 0, 1, None, None, None, 0, None, None], '7': [41.81, None, 0, 0, 0, 1, None, None, None, 0, None, None], '8': [43.11, None, 0, 0, 0, 1, None, None, None, 0, None, None]}}, '0:2:0:0:1:1:0': {'attributes': [], 'annotations': [], 'observations': {'9': [47.18, None, 0, 0, 0, 2, 0, None, None, 0, None, None], '0': [46.88, None, 0, 0, 0, 1, 0, None, None, 0, None, None], '1': [47.5, None, 0, 0, 0, 1, 0, None, None, 0, None, None], '2': [47.75, None, 0, 0, 0, 1, 0, None, None, 0, None, None], '3': [47.02, None, 0, 0, 0, 1, 0, None, None, 0, None, None], '6': [48.3, None, 0, 0, 0, 1, None, None, None, 0, None, None], '7': [47.7, None, 0, 0, 0, 1, None, None, None, 0, None, None], '8': [49.37, None, 0, 0, 0, 1, None, None, None, 0, None, None]}}, '0:2:0:0:1:1:1': {'attributes': [], 'annotations': [], 'observations': {'9': [40.05, None, 0, 0, 0, 2, 0, None, None, 0, None, None], '0': [39.95, None, 0, 0, 0, 1, 0, None, None, 0, None, None], '1': [40.76, None, 0, 0, 0, 2, 0, None, None, 0, None, None], '2': [41.39, None, 0, 0, 0, 1, 0, None, None, 0, None, None], '3': [41.26, None, 0, 0, 0, 2, 0, None, None, 0, None, None], '6': [42.08, None, 0, 0, 0, 1, None, None, None, 0, None, None], '7': [41.84, None, 0, 0, 0, 2, None, None, None, 0, None, None], '8': [43.14, None, 0, 0, 0, 1, None, None, None, 0, None, None]}}, '0:2:0:0:2:0:0': {'attributes': [], 'annotations': [], 'observations': {'9': [49.58, None, 0, 0, 0, 1, 0, None, None, 0, None, None], '0': [48.67, None, 0, 0, 0, 2, 0, None, None, 0, None, None], '1': [48.09, None, 0, 0, 0, 1, 0, None, None, 0, None, None], '2': [46.78, None, 0, 0, 0, 1, 0, None, None, 0, None, None], '3': [46.47, None, 0, 0, 0, 2, 0, None, None, 0, None, None], '6': [47.44, None, 0, 0, 0, 1, None, None, None, 0, None, None], '7': [48.7, None, 0, 0, 0, 1, None, None, None, 0, None, None], '8': [49.36, None, 0, 0, 0, 2, None, None, None, 0, None, None]}}, '0:2:0:0:2:0:1': {'attributes': [], 'annotations': [], 'observations': {'9': [45.47, None, 0, 0, 0, 2, 0, None, None, 0, None, None], '0': [44.61, None, 0, 0, 0, 1, 0, None, None, 0, None, None], '1': [44.21, None, 0, 0, 0, 1, 0, None, None, 0, None, None], '2': [44.63, None, 0, 0, 0, 1, 0, None, None, 0, None, None], '3': [44.53, None, 0, 0, 0, 2, 0, None, None, 0, None, None], '6': [46.18, None, 0, 0, 0, 2, None, None, None, 0, None, None], '7': [46.99, None, 0, 0, 0, 1, None, None, None, 0, None, None], '8': [48.01, None, 0, 0, 0, 2, None, None, None, 0, None, None]}}, '0:2:0:0:2:1:0': {'attributes': [], 'annotations': [], 'observations': {'9': [49.5, None, 0, 0, 0, 1, 0, None, None, 0, None, None], '0': [48.61, None, 0, 0, 0, 2, 0, None, None, 0, None, None], '1': [48.05, None, 0, 0, 0, 1, 0, None, None, 0, None, None], '2': [46.75, None, 0, 0, 0, 1, 0, None, None, 0, None, None], '3': [46.47, None, 0, 0, 0, 1, 0, None, None, 0, None, None], '6': [47.43, None, 0, 0, 0, 1, None, None, None, 0, None, None], '7': [48.72, None, 0, 0, 0, 2, None, None, None, 0, None, None], '8': [49.35, None, 0, 0, 0, 2, None, None, None, 0, None, None]}}, '0:2:0:0:2:1:1': {'attributes': [], 'annotations': [], 'observations': {'9': [45.43, None, 0, 0, 0, 2, 0, None, None, 0, None, None], '0': [44.58, None, 0, 0, 0, 1, 0, None, None, 0, None, None], '1': [44.19, None, 0, 0, 0, 1, 0, None, None, 0, None, None], '2': [44.64, None, 0, 0, 0, 1, 0, None, None, 0, None, None], '3': [44.55, None, 0, 0, 0, 1, 0, None, None, 0, None, None], '6': [46.18, None, 0, 0, 0, 1, None, None, None, 0, None, None], '7': [47.02, None, 0, 0, 0, 2, None, None, None, 0, None, None], '8': [48.01, None, 0, 0, 0, 1, None, None, None, 0, None, None]}}, '0:3:0:0:0:0:0': {'attributes': [], 'annotations': [], 'observations': {'0': [62.36, None, 0, 0, 0, 4, None, None, None, 0, None, None], '1': [61.54, None, 0, 0, 0, 4, None, None, None, 0, None, None], '2': [60.36, None, 0, 0, 0, 4, None, None, None, 0, None, None]}}, '0:3:0:0:0:0:1': {'attributes': [], 'annotations': [], 'observations': {'0': [45.03, None, 0, 0, 0, 4, None, None, None, 0, None, None], '1': [43.41, None, 0, 0, 0, 3, None, None, None, 0, None, None], '2': [42.65, None, 0, 0, 0, 4, None, None, None, 0, None, None]}}, '0:3:0:0:0:1:0': {'attributes': [], 'annotations': [], 'observations': {'0': [39.1, None, 0, 0, 0, 4, None, None, None, 0, None, None], '1': [39.03, None, 0, 0, 0, 4, None, None, None, 0, None, None], '2': [38.2, None, 0, 0, 0, 4, None, None, None, 0, None, None]}}, '0:3:0:0:0:1:1': {'attributes': [], 'annotations': [], 'observations': {'0': [11.15, None, 0, 0, 0, 3, None, None, None, 0, None, None], '1': [10.66, None, 0, 0, 0, 3, None, None, None, 0, None, None], '2': [10.65, None, 0, 0, 0, 4, None, None, None, 0, None, None]}}, '0:3:0:0:1:0:0': {'attributes': [], 'annotations': [], 'observations': {'0': [63.58, None, 0, 0, 0, 3, None, None, None, 0, None, None], '1': [62.93, None, 0, 0, 0, 3, None, None, None, 0, None, None], '2': [60.25, None, 0, 0, 0, 3, None, None, None, 0, None, None]}}, '0:3:0:0:1:0:1': {'attributes': [], 'annotations': [], 'observations': {'0': [41.78, None, 0, 0, 0, 4, None, None, None, 0, None, None], '1': [40.63, None, 0, 0, 0, 3, None, None, None, 0, None, None], '2': [38.52, None, 0, 0, 0, 3, None, None, None, 0, None, None]}}, '0:3:0:0:1:1:0': {'attributes': [], 'annotations': [], 'observations': {'0': [46.8, None, 0, 0, 0, 3, None, None, None, 0, None, None], '1': [46.6, None, 0, 0, 0, 3, None, None, None, 0, None, None], '2': [44.83, None, 0, 0, 0, 4, None, None, None, 0, None, None]}}, '0:3:0:0:1:1:1': {'attributes': [], 'annotations': [], 'observations': {'0': [14.84, None, 0, 0, 0, 3, None, None, None, 0, None, None], '2': [14.75, None, 0, 0, 0, 4, None, None, None, 0, None, None]}}, '0:3:0:0:2:0:0': {'attributes': [], 'annotations': [], 'observations': {'0': [61.05, None, 0, 0, 0, 3, None, None, None, 0, None, None], '1': [60.06, None, 0, 0, 0, 3, None, None, None, 0, None, None], '2': [60.49, None, 0, 0, 0, 3, None, None, None, 0, None, None]}}, '0:3:0:0:2:0:1': {'attributes': [], 'annotations': [], 'observations': {'0': [48.56, None, 0, 0, 0, 3, None, None, None, 0, None, None], '1': [46.37, None, 0, 0, 0, 3, None, None, None, 0, None, None], '2': [47.16, None, 0, 0, 0, 3, None, None, None, 0, None, None]}}, '0:3:0:0:2:1:0': {'attributes': [], 'annotations': [], 'observations': {'0': [28.82, None, 0, 0, 0, 3, None, None, None, 0, None, None], '1': [29.13, None, 0, 0, 0, 4, None, None, None, 0, None, None], '2': [28.88, None, 0, 0, 0, 4, None, None, None, 0, None, None]}}, '0:3:0:0:2:1:1': {'attributes': [], 'annotations': [], 'observations': {'0': [6.21, None, 0, 0, 0, 4, None, None, None, 0, None, None], '1': [5.2, None, 0, 0, 0, 3, None, None, None, 0, None, None], '2': [4.9, None, 0, 0, 0, 3, None, None, None, 0, None, None]}}, '0:4:0:0:0:0:0': {'attributes': [], 'annotations': [], 'observations': {'3': [98.31, None, 0, 0, 0, 5, None, None, None, 0, None, None]}}, '0:4:0:0:0:0:1': {'attributes': [], 'annotations': [], 'observations': {'3': [95.72, None, 0, 0, 0, 6, None, None, None, 0, None, None]}}, '0:4:0:0:0:1:0': {'attributes': [], 'annotations': [], 'observations': {'3': [89.44, None, 0, 0, 0, 6, None, None, None, 0, None, None]}}, '0:4:0:0:0:1:1': {'attributes': [], 'annotations': [], 'observations': {'3': [73.34, None, 0, 0, 0, 6, None, None, None, 0, None, None]}}, '0:4:0:0:1:0:0': {'attributes': [], 'annotations': [], 'observations': {'3': [97.39, None, 0, 0, 0, 5, None, None, None, 0, None, None]}}, '0:4:0:0:1:0:1': {'attributes': [], 'annotations': [], 'observations': {'3': [93.66, None, 0, 0, 0, 5, None, None, None, 0, None, None]}}, '0:4:0:0:1:1:0': {'attributes': [], 'annotations': [], 'observations': {'3': [90.17, None, 0, 0, 0, 6, None, None, None, 0, None, None]}}, '0:4:0:0:1:1:1': {'attributes': [], 'annotations': [], 'observations': {'3': [76, None, 0, 0, 0, 5, None, None, None, 0, None, None]}}, '0:4:0:0:2:0:0': {'attributes': [], 'annotations': [], 'observations': {'3': [99.05, None, 0, 0, 0, 6, None, None, None, 0, None, None]}}, '0:4:0:0:2:0:1': {'attributes': [], 'annotations': [], 'observations': {'3': [97.42, None, 0, 0, 0, 5, None, None, None, 0, None, None]}}, '0:4:0:0:2:1:0': {'attributes': [], 'annotations': [], 'observations': {'3': [87.32, None, 0, 0, 0, 6, None, None, None, 0, None, None]}}, '0:4:0:0:2:1:1': {'attributes': [], 'annotations': [], 'observations': {'3': [65.54, None, 0, 0, 0, 6, None, None, None, 0, None, None]}}, '0:5:0:0:0:0:0': {'attributes': [], 'annotations': [], 'observations': {'0': [96.82, None, 0, 0, 0, 0, None, None, None, 0, None, None]}}, '0:5:0:0:0:0:1': {'attributes': [], 'annotations': [], 'observations': {'0': [92.93, None, 0, 0, 0, 0, None, None, None, 0, None, None]}}, '0:5:0:0:0:1:0': {'attributes': [], 'annotations': [], 'observations': {'0': [94.54, None, 0, 0, 0, 0, None, None, None, 0, None, None]}}, '0:5:0:0:0:1:1': {'attributes': [], 'annotations': [], 'observations': {'0': [87.76, None, 0, 0, 0, 0, None, None, None, 0, None, None]}}, '0:5:0:0:1:0:0': {'attributes': [], 'annotations': [], 'observations': {'0': [95.06, None, 0, 0, 0, 0, None, None, None, 0, None, None]}}, '0:5:0:0:1:0:1': {'attributes': [], 'annotations': [], 'observations': {'0': [88.92, None, 0, 0, 0, 0, None, None, None, 0, None, None]}}, '0:5:0:0:1:1:0': {'attributes': [], 'annotations': [], 'observations': {'0': [90.16, None, 0, 0, 0, 0, None, None, None, 0, None, None]}}, '0:5:0:0:1:1:1': {'attributes': [], 'annotations': [], 'observations': {'0': [77.81, None, 0, 0, 0, 0, None, None, None, 0, None, None]}}, '0:5:0:0:2:0:0': {'attributes': [], 'annotations': [], 'observations': {'0': [98.47, None, 0, 0, 0, 0, None, None, None, 0, None, None]}}, '0:5:0:0:2:0:1': {'attributes': [], 'annotations': [], 'observations': {'0': [96.68, None, 0, 0, 0, 0, None, None, None, 0, None, None]}}, '0:5:0:0:2:1:0': {'attributes': [], 'annotations': [], 'observations': {'0': [97.7, None, 0, 0, 0, 0, None, None, None, 0, None, None]}}, '0:5:0:0:2:1:1': {'attributes': [], 'annotations': [], 'observations': {'0': [94.95, None, 0, 0, 0, 0, None, None, None, 0, None, None]}}, '0:6:0:0:0:0:0': {'attributes': [], 'annotations': [], 'observations': {'7': [95.39, None, 0, 0, 0, 7, None, None, None, 0, None, None]}}, '0:6:0:0:0:0:1': {'attributes': [], 'annotations': [], 'observations': {'7': [87.5, None, 0, 0, 0, 8, None, None, None, 0, None, None]}}, '0:6:0:0:0:1:0': {'attributes': [], 'annotations': [], 'observations': {'7': [93.9, None, 0, 0, 0, 7, None, None, None, 0, None, None]}}, '0:6:0:0:0:1:1': {'attributes': [], 'annotations': [], 'observations': {'7': [83.52, None, 0, 0, 0, 9, None, None, None, 0, None, None]}}, '0:6:0:0:1:0:0': {'attributes': [], 'annotations': [], 'observations': {'7': [93.5, None, 0, 0, 0, 8, None, None, None, 0, None, None]}}, '0:6:0:0:1:0:1': {'attributes': [], 'annotations': [], 'observations': {'7': [83.18, None, 0, 0, 0, 7, None, None, None, 0, None, None]}}, '0:6:0:0:1:1:0': {'attributes': [], 'annotations': [], 'observations': {'7': [90.96, None, 0, 0, 0, 7, None, None, None, 0, None, None]}}, '0:6:0:0:1:1:1': {'attributes': [], 'annotations': [], 'observations': {'7': [76.77, None, 0, 0, 0, 7, None, None, None, 0, None, None]}}, '0:6:0:0:2:0:0': {'attributes': [], 'annotations': [], 'observations': {'7': [97.66, None, 0, 0, 0, 10, None, None, None, 0, None, None]}}, '0:6:0:0:2:0:1': {'attributes': [], 'annotations': [], 'observations': {'7': [92.67, None, 0, 0, 0, 7, None, None, None, 0, None, None]}}, '0:6:0:0:2:1:0': {'attributes': [], 'annotations': [], 'observations': {'7': [97.05, None, 0, 0, 0, 11, None, None, None, 0, None, None]}}, '0:6:0:0:2:1:1': {'attributes': [], 'annotations': [], 'observations': {'7': [90.74, None, 0, 0, 0, 9, None, None, None, 0, None, None]}}, '0:7:0:0:0:0:0': {'attributes': [], 'annotations': [], 'observations': {'9': [87.85, None, 0, 0, 0, 0, 1, None, None, 0, None, None], '2': [89.42, None, 0, 0, 0, 0, 1, None, None, 0, None, None], '6': [94.7, None, 0, 0, 0, 0, None, None, None, 0, None, None]}}, '0:7:0:0:0:0:1': {'attributes': [], 'annotations': [], 'observations': {'9': [82.1, None, 0, 0, 0, 0, 1, None, None, 0, None, None], '2': [76.59, None, 0, 0, 0, 0, 1, None, None, 0, None, None], '6': [81.82, None, 0, 0, 0, 0, None, None, None, 0, None, None]}}, '0:7:0:0:0:1:0': {'attributes': [], 'annotations': [], 'observations': {'9': [82.2, None, 0, 0, 0, 0, 1, None, None, 0, None, None], '2': [82.39, None, 0, 0, 0, 0, 1, None, None, 0, None, None], '6': [91.3, None, 0, 0, 0, 0, None, None, None, 0, None, None]}}, '0:7:0:0:0:1:1': {'attributes': [], 'annotations': [], 'observations': {'9': [71.52, None, 0, 0, 0, 0, 1, None, None, 0, None, None], '2': [60.3, None, 0, 0, 0, 0, 1, None, None, 0, None, None], '6': [69.87, None, 0, 0, 0, 0, None, None, None, 0, None, None]}}, '0:7:0:0:1:0:0': {'attributes': [], 'annotations': [], 'observations': {'9': [85.95, None, 0, 0, 0, 0, 1, None, None, 0, None, None], '2': [87.67, None, 0, 0, 0, 0, 1, None, None, 0, None, None], '6': [93.88, None, 0, 0, 0, 0, None, None, None, 0, None, None]}}, '0:7:0:0:1:0:1': {'attributes': [], 'annotations': [], 'observations': {'9': [79.98, None, 0, 0, 0, 0, 1, None, None, 0, None, None], '2': [75.16, None, 0, 0, 0, 0, 1, None, None, 0, None, None], '6': [80.54, None, 0, 0, 0, 0, None, None, None, 0, None, None]}}, '0:7:0:0:1:1:0': {'attributes': [], 'annotations': [], 'observations': {'9': [80.48, None, 0, 0, 0, 0, 1, None, None, 0, None, None], '2': [80.66, None, 0, 0, 0, 0, 1, None, None, 0, None, None], '6': [91.16, None, 0, 0, 0, 0, None, None, None, 0, None, None]}}, '0:7:0:0:1:1:1': {'attributes': [], 'annotations': [], 'observations': {'9': [70.79, None, 0, 0, 0, 0, 1, None, None, 0, None, None], '2': [60.32, None, 0, 0, 0, 0, 1, None, None, 0, None, None], '6': [71.69, None, 0, 0, 0, 0, None, None, None, 0, None, None]}}, '0:7:0:0:2:0:0': {'attributes': [], 'annotations': [], 'observations': {'9': [92.29, None, 0, 0, 0, 0, 1, None, None, 0, None, None], '2': [93.73, None, 0, 0, 0, 0, 1, None, None, 0, None, None], '6': [96.57, None, 0, 0, 0, 0, None, None, None, 0, None, None]}}, '0:7:0:0:2:0:1': {'attributes': [], 'annotations': [], 'observations': {'9': [87.06, None, 0, 0, 0, 0, 1, None, None, 0, None, None], '2': [80.12, None, 0, 0, 0, 0, 1, None, None, 0, None, None], '6': [84.73, None, 0, 0, 0, 0, None, None, None, 0, None, None]}}, '0:7:0:0:2:1:0': {'attributes': [], 'annotations': [], 'observations': {'9': [89.13, None, 0, 0, 0, 0, 1, None, None, 0, None, None], '2': [87.69, None, 0, 0, 0, 0, 1, None, None, 0, None, None], '6': [91.86, None, 0, 0, 0, 0, None, None, None, 0, None, None]}}, '0:7:0:0:2:1:1': {'attributes': [], 'annotations': [], 'observations': {'9': [74.46, None, 0, 0, 0, 0, 1, None, None, 0, None, None], '2': [60.24, None, 0, 0, 0, 0, 1, None, None, 0, None, None], '6': [62.94, None, 0, 0, 0, 0, None, None, None, 0, None, None]}}, '0:8:0:0:0:0:0': {'attributes': [], 'annotations': [], 'observations': {'9': [32.36, None, 0, 0, 0, 0, None, None, None, 0, None, None], '0': [30.88, None, 0, 0, 0, 0, None, None, None, 0, None, None], '1': [33.69, None, 0, 0, 0, 0, None, None, None, 0, None, None], '2': [31.51, None, 0, 0, 0, 0, None, None, None, 0, None, None], '3': [29.28, None, 0, 0, 0, 0, None, None, None, 0, None, None], '4': [30.13, None, 0, 0, 0, 0, None, None, None, 0, None, None], '5': [30.48, None, 0, 0, 0, 0, None, None, None, 0, None, None], '6': [24.82, None, 0, 0, 0, 0, None, None, None, 0, None, None], '7': [22.14, None, 0, 0, 0, 0, None, None, None, 0, None, None], '8': [23.11, None, 0, 0, 0, 0, None, None, None, 0, None, None]}}, '0:8:0:0:0:0:1': {'attributes': [], 'annotations': [], 'observations': {'9': [29.24, None, 0, 0, 0, 0, None, None, None, 0, None, None], '0': [27.54, None, 0, 0, 0, 0, None, None, None, 0, None, None], '1': [30.38, None, 0, 0, 0, 0, None, None, None, 0, None, None], '2': [28.16, None, 0, 0, 0, 0, None, None, None, 0, None, None], '3': [25.73, None, 0, 0, 0, 0, None, None, None, 0, None, None], '4': [27.22, None, 0, 0, 0, 0, None, None, None, 0, None, None], '5': [27.93, None, 0, 0, 0, 0, None, None, None, 0, None, None], '6': [17.28, None, 0, 0, 0, 0, None, None, None, 0, None, None], '7': [14.77, None, 0, 0, 0, 0, None, None, None, 0, None, None], '8': [17.05, None, 0, 0, 0, 0, None, None, None, 0, None, None]}}, '0:8:0:0:0:1:0': {'attributes': [], 'annotations': [], 'observations': {'9': [18.12, None, 0, 0, 0, 0, None, None, None, 0, None, None], '0': [16.33, None, 0, 0, 0, 0, None, None, None, 0, None, None], '1': [18.9, None, 0, 0, 0, 0, None, None, None, 0, None, None], '2': [17.69, None, 0, 0, 0, 0, None, None, None, 0, None, None], '3': [16.82, None, 0, 0, 0, 0, None, None, None, 0, None, None], '4': [17.1, None, 0, 0, 0, 0, None, None, None, 0, None, None], '5': [17.47, None, 0, 0, 0, 0, None, None, None, 0, None, None], '6': [12.92, None, 0, 0, 0, 0, None, None, None, 0, None, None], '7': [12.7, None, 0, 0, 0, 0, None, None, None, 0, None, None], '8': [10.79, None, 0, 0, 0, 0, None, None, None, 0, None, None]}}, '0:8:0:0:0:1:1': {'attributes': [], 'annotations': [], 'observations': {'9': [14.39, None, 0, 0, 0, 0, None, None, None, 0, None, None], '0': [12.37, None, 0, 0, 0, 0, None, None, None, 0, None, None], '1': [14.83, None, 0, 0, 0, 0, None, None, None, 0, None, None], '2': [13.71, None, 0, 0, 0, 0, None, None, None, 0, None, None], '3': [12.64, None, 0, 0, 0, 0, None, None, None, 0, None, None], '4': [13.67, None, 0, 0, 0, 0, None, None, None, 0, None, None], '5': [14.47, None, 0, 0, 0, 0, None, None, None, 0, None, None], '6': [5.77, None, 0, 0, 0, 0, None, None, None, 0, None, None], '7': [5.67, None, 0, 0, 0, 0, None, None, None, 0, None, None], '8': [5.07, None, 0, 0, 0, 0, None, None, None, 0, None, None]}}, '0:8:0:0:1:0:0': {'attributes': [], 'annotations': [], 'observations': {'9': [32.05, None, 0, 0, 0, 0, None, None, None, 0, None, None], '0': [31.56, None, 0, 0, 0, 0, None, None, None, 0, None, None], '1': [34.68, None, 0, 0, 0, 0, None, None, None, 0, None, None], '2': [33.16, None, 0, 0, 0, 0, None, None, None, 0, None, None], '3': [30.76, None, 0, 0, 0, 0, None, None, None, 0, None, None], '4': [31.71, None, 0, 0, 0, 0, None, None, None, 0, None, None], '5': [32.1, None, 0, 0, 0, 0, None, None, None, 0, None, None], '6': [23.97, None, 0, 0, 0, 0, None, None, None, 0, None, None], '7': [22.02, None, 0, 0, 0, 0, None, None, None, 0, None, None], '8': [22.38, None, 0, 0, 0, 0, None, None, None, 0, None, None]}}, '0:8:0:0:1:0:1': {'attributes': [], 'annotations': [], 'observations': {'9': [28.88, None, 0, 0, 0, 0, None, None, None, 0, None, None], '6': [17.02, None, 0, 0, 0, 0, None, None, None, 0, None, None]}}, '0:8:0:0:1:1:0': {'attributes': [], 'annotations': [], 'observations': {'9': [20.24, None, 0, 0, 0, 0, None, None, None, 0, None, None], '0': [18.81, None, 0, 0, 0, 0, None, None, None, 0, None, None], '1': [22.1, None, 0, 0, 0, 0, None, None, None, 0, None, None], '2': [20.59, None, 0, 0, 0, 0, None, None, None, 0, None, None], '3': [19.35, None, 0, 0, 0, 0, None, None, None, 0, None, None], '4': [19.08, None, 0, 0, 0, 0, None, None, None, 0, None, None], '5': [20.17, None, 0, 0, 0, 0, None, None, None, 0, None, None], '6': [14.28, None, 0, 0, 0, 0, None, None, None, 0, None, None], '7': [13.99, None, 0, 0, 0, 0, None, None, None, 0, None, None], '8': [12.57, None, 0, 0, 0, 0, None, None, None, 0, None, None]}}, '0:8:0:0:1:1:1': {'attributes': [], 'annotations': [], 'observations': {'9': [16.59, None, 0, 0, 0, 0, None, None, None, 0, None, None], '6': [7.07, None, 0, 0, 0, 0, None, None, None, 0, None, None]}}, '0:8:0:0:2:0:0': {'attributes': [], 'annotations': [], 'observations': {'9': [32.88, None, 0, 0, 0, 0, None, None, None, 0, None, None], '0': [29.74, None, 0, 0, 0, 0, None, None, None, 0, None, None], '1': [31.99, None, 0, 0, 0, 0, None, None, None, 0, None, None], '2': [28.72, None, 0, 0, 0, 0, None, None, None, 0, None, None], '3': [26.76, None, 0, 0, 0, 0, None, None, None, 0, None, None], '4': [27.48, None, 0, 0, 0, 0, None, None, None, 0, None, None], '5': [27.58, None, 0, 0, 0, 0, None, None, None, 0, None, None], '6': [26.25, None, 0, 0, 0, 0, None, None, None, 0, None, None], '7': [22.34, None, 0, 0, 0, 0, None, None, None, 0, None, None], '8': [24.28, None, 0, 0, 0, 0, None, None, None, 0, None, None]}}, '0:8:0:0:2:0:1': {'attributes': [], 'annotations': [], 'observations': {'9': [29.84, None, 0, 0, 0, 0, None, None, None, 0, None, None], '0': [27.01, None, 0, 0, 0, 0, None, None, None, 0, None, None], '2': [26.04, None, 0, 0, 0, 0, None, None, None, 0, None, None], '4': [24.72, None, 0, 0, 0, 0, None, None, None, 0, None, None], '5': [25.41, None, 0, 0, 0, 0, None, None, None, 0, None, None], '6': [17.71, None, 0, 0, 0, 0, None, None, None, 0, None, None], '7': [14.5, None, 0, 0, 0, 0, None, None, None, 0, None, None], '8': [18.54, None, 0, 0, 0, 0, None, None, None, 0, None, None]}}, '0:8:0:0:2:1:0': {'attributes': [], 'annotations': [], 'observations': {'9': [14.3, None, 0, 0, 0, 0, None, None, None, 0, None, None], '0': [12.01, None, 0, 0, 0, 0, None, None, None, 0, None, None], '1': [13.18, None, 0, 0, 0, 0, None, None, None, 0, None, None], '2': [12.79, None, 0, 0, 0, 0, None, None, None, 0, None, None], '3': [12.49, None, 0, 0, 0, 0, None, None, None, 0, None, None], '4': [13.84, None, 0, 0, 0, 0, None, None, None, 0, None, None], '5': [12.69, None, 0, 0, 0, 0, None, None, None, 0, None, None], '6': [10.61, None, 0, 0, 0, 0, None, None, None, 0, None, None], '7': [10.53, None, 0, 0, 0, 0, None, None, None, 0, None, None], '8': [7.78, None, 0, 0, 0, 0, None, None, None, 0, None, None]}}, '0:8:0:0:2:1:1': {'attributes': [], 'annotations': [], 'observations': {'9': [10.42, None, 0, 0, 0, 0, None, None, None, 0, None, None], '0': [8.7, None, 0, 0, 0, 0, None, None, None, 0, None, None], '2': [9.51, None, 0, 0, 0, 0, None, None, None, 0, None, None], '4': [10.58, None, 0, 0, 0, 0, None, None, None, 0, None, None], '5': [10.04, None, 0, 0, 0, 0, None, None, None, 0, None, None], '6': [3.55, None, 0, 0, 0, 0, None, None, None, 0, None, None], '7': [3.72, None, 0, 0, 0, 0, None, None, None, 0, None, None], '8': [3.33, None, 0, 0, 0, 0, None, None, None, 0, None, None]}}, '0:9:0:0:0:0:0': {'attributes': [], 'annotations': [], 'observations': {'0': [83.36, None, 0, 0, 0, 0, None, None, None, 0, None, None], '1': [82.13, None, 0, 0, 0, 0, None, None, None, 0, None, None], '2': [80.43, None, 0, 0, 0, 0, None, None, None, 0, None, None], '3': [85.21, None, 0, 0, 0, 0, None, None, None, 0, None, None], '4': [84.1, None, 0, 0, 0, 0, None, None, None, 0, None, None]}}, '0:9:0:0:0:0:1': {'attributes': [], 'annotations': [], 'observations': {'0': [71.76, None, 0, 0, 0, 0, None, None, None, 0, None, None], '1': [70.03, None, 0, 0, 0, 0, None, None, None, 0, None, None], '2': [65.43, None, 0, 0, 0, 0, None, None, None, 0, None, None], '3': [70.79, None, 0, 0, 0, 0, None, None, None, 0, None, None], '4': [69.45, None, 0, 0, 0, 0, None, None, None, 0, None, None]}}, '0:9:0:0:0:1:0': {'attributes': [], 'annotations': [], 'observations': {'0': [76.59, None, 0, 0, 0, 0, None, None, None, 0, None, None], '1': [75.64, None, 0, 0, 0, 0, None, None, None, 0, None, None], '2': [72.68, None, 0, 0, 0, 0, None, None, None, 0, None, None], '3': [78.81, None, 0, 0, 0, 0, None, None, None, 0, None, None], '4': [78.22, None, 0, 0, 0, 0, None, None, None, 0, None, None]}}, '0:9:0:0:0:1:1': {'attributes': [], 'annotations': [], 'observations': {'0': [60.5, None, 0, 0, 0, 0, None, None, None, 0, None, None], '1': [59.2, None, 0, 0, 0, 0, None, None, None, 0, None, None], '2': [52.3, None, 0, 0, 0, 0, None, None, None, 0, None, None], '3': [58.5, None, 0, 0, 0, 0, None, None, None, 0, None, None], '4': [58.51, None, 0, 0, 0, 0, None, None, None, 0, None, None]}}, '0:9:0:0:1:0:0': {'attributes': [], 'annotations': [], 'observations': {'0': [81.59, None, 0, 0, 0, 0, None, None, None, 0, None, None], '1': [80.96, None, 0, 0, 0, 0, None, None, None, 0, None, None], '2': [79.04, None, 0, 0, 0, 0, None, None, None, 0, None, None], '3': [84.59, None, 0, 0, 0, 0, None, None, None, 0, None, None], '4': [82.94, None, 0, 0, 0, 0, None, None, None, 0, None, None]}}, '0:9:0:0:1:0:1': {'attributes': [], 'annotations': [], 'observations': {'0': [69.77, None, 0, 0, 0, 0, None, None, None, 0, None, None], '1': [68.74, None, 0, 0, 0, 0, None, None, None, 0, None, None], '2': [62.89, None, 0, 0, 0, 0, None, None, None, 0, None, None], '3': [68.84, None, 0, 0, 0, 0, None, None, None, 0, None, None], '4': [67.1, None, 0, 0, 0, 0, None, None, None, 0, None, None]}}, '0:9:0:0:1:1:0': {'attributes': [], 'annotations': [], 'observations': {'0': [74.46, None, 0, 0, 0, 0, None, None, None, 0, None, None], '1': [74.04, None, 0, 0, 0, 0, None, None, None, 0, None, None], '2': [70.83, None, 0, 0, 0, 0, None, None, None, 0, None, None], '3': [78.2, None, 0, 0, 0, 0, None, None, None, 0, None, None], '4': [76.85, None, 0, 0, 0, 0, None, None, None, 0, None, None]}}, '0:9:0:0:1:1:1': {'attributes': [], 'annotations': [], 'observations': {'0': [58.24, None, 0, 0, 0, 0, None, None, None, 0, None, None], '1': [57.46, None, 0, 0, 0, 0, None, None, None, 0, None, None], '2': [49.28, None, 0, 0, 0, 0, None, None, None, 0, None, None], '3': [56.48, None, 0, 0, 0, 0, None, None, None, 0, None, None], '4': [55.93, None, 0, 0, 0, 0, None, None, None, 0, None, None]}}, '0:9:0:0:2:0:0': {'attributes': [], 'annotations': [], 'observations': {'0': [85.59, None, 0, 0, 0, 0, None, None, None, 0, None, None], '1': [83.62, None, 0, 0, 0, 0, None, None, None, 0, None, None], '2': [82.2, None, 0, 0, 0, 0, None, None, None, 0, None, None], '3': [86.01, None, 0, 0, 0, 0, None, None, None, 0, None, None], '4': [85.74, None, 0, 0, 0, 0, None, None, None, 0, None, None]}}, '0:9:0:0:2:0:1': {'attributes': [], 'annotations': [], 'observations': {'0': [74.28, None, 0, 0, 0, 0, None, None, None, 0, None, None], '1': [71.69, None, 0, 0, 0, 0, None, None, None, 0, None, None], '2': [68.64, None, 0, 0, 0, 0, None, None, None, 0, None, None], '3': [73.27, None, 0, 0, 0, 0, None, None, None, 0, None, None], '4': [72.74, None, 0, 0, 0, 0, None, None, None, 0, None, None]}}, '0:9:0:0:2:1:0': {'attributes': [], 'annotations': [], 'observations': {'0': [79.33, None, 0, 0, 0, 0, None, None, None, 0, None, None], '1': [77.66, None, 0, 0, 0, 0, None, None, None, 0, None, None], '2': [75.02, None, 0, 0, 0, 0, None, None, None, 0, None, None], '3': [79.6, None, 0, 0, 0, 0, None, None, None, 0, None, None], '4': [80.15, None, 0, 0, 0, 0, None, None, None, 0, None, None]}}, '0:9:0:0:2:1:1': {'attributes': [], 'annotations': [], 'observations': {'0': [63.41, None, 0, 0, 0, 0, None, None, None, 0, None, None], '1': [61.4, None, 0, 0, 0, 0, None, None, None, 0, None, None], '2': [56.11, None, 0, 0, 0, 0, None, None, None, 0, None, None], '3': [61.13, None, 0, 0, 0, 0, None, None, None, 0, None, None], '4': [62.17, None, 0, 0, 0, 0, None, None, None, 0, None, None]}}, '0:10:0:0:0:0:0': {'attributes': [], 'annotations': [], 'observations': {'0': [46.03, None, 0, 0, 0, 0, None, None, None, 0, None, None], '1': [45.1, None, 0, 0, 0, 0, None, None, None, 0, None, None], '2': [44.09, None, 0, 0, 0, 0, None, None, None, 0, None, None], '3': [44.78, None, 0, 0, 0, 0, None, None, None, 0, None, None], '4': [44.98, None, 0, 0, 0, 0, None, None, None, 0, None, None]}}, '0:10:0:0:0:0:1': {'attributes': [], 'annotations': [], 'observations': {'0': [38.18, None, 0, 0, 0, 0, None, None, None, 0, None, None], '1': [36.77, None, 0, 0, 0, 0, None, None, None, 0, None, None], '2': [35.73, None, 0, 0, 0, 0, None, None, None, 0, None, None], '3': [35.91, None, 0, 0, 0, 0, None, None, None, 0, None, None], '4': [35.95, None, 0, 0, 0, 0, None, None, None, 0, None, None]}}, '0:10:0:0:0:1:0': {'attributes': [], 'annotations': [], 'observations': {'0': [38.54, None, 0, 0, 0, 0, None, None, None, 0, None, None], '1': [38.24, None, 0, 0, 0, 0, None, None, None, 0, None, None], '2': [37.05, None, 0, 0, 0, 0, None, None, None, 0, None, None], '3': [37.79, None, 0, 0, 0, 0, None, None, None, 0, None, None], '4': [38.27, None, 0, 0, 0, 0, None, None, None, 0, None, None]}}, '0:10:0:0:0:1:1': {'attributes': [], 'annotations': [], 'observations': {'0': [29.67, None, 0, 0, 0, 0, None, None, None, 0, None, None], '1': [29.04, None, 0, 0, 0, 0, None, None, None, 0, None, None], '2': [27.85, None, 0, 0, 0, 0, None, None, None, 0, None, None], '3': [27.98, None, 0, 0, 0, 0, None, None, None, 0, None, None], '4': [28.38, None, 0, 0, 0, 0, None, None, None, 0, None, None]}}, '0:10:0:0:1:0:0': {'attributes': [], 'annotations': [], 'observations': {'0': [46.9, None, 0, 0, 0, 0, None, None, None, 0, None, None], '1': [46.33, None, 0, 0, 0, 0, None, None, None, 0, None, None], '2': [45.63, None, 0, 0, 0, 0, None, None, None, 0, None, None], '3': [46.05, None, 0, 0, 0, 0, None, None, None, 0, None, None], '4': [46.83, None, 0, 0, 0, 0, None, None, None, 0, None, None]}}, '0:10:0:0:1:0:1': {'attributes': [], 'annotations': [], 'observations': {'0': [38.5, None, 0, 0, 0, 0, None, None, None, 0, None, None], '1': [37.46, None, 0, 0, 0, 0, None, None, None, 0, None, None], '2': [36.6, None, 0, 0, 0, 0, None, None, None, 0, None, None], '3': [36.41, None, 0, 0, 0, 0, None, None, None, 0, None, None], '4': [36.88, None, 0, 0, 0, 0, None, None, None, 0, None, None]}}, '0:10:0:0:1:1:0': {'attributes': [], 'annotations': [], 'observations': {'0': [38.49, None, 0, 0, 0, 0, None, None, None, 0, None, None], '1': [38.53, None, 0, 0, 0, 0, None, None, None, 0, None, None], '2': [37.77, None, 0, 0, 0, 0, None, None, None, 0, None, None], '3': [38.46, None, 0, 0, 0, 0, None, None, None, 0, None, None], '4': [39.37, None, 0, 0, 0, 0, None, None, None, 0, None, None]}}, '0:10:0:0:1:1:1': {'attributes': [], 'annotations': [], 'observations': {'0': [28.79, None, 0, 0, 0, 0, None, None, None, 0, None, None], '1': [28.58, None, 0, 0, 0, 0, None, None, None, 0, None, None], '2': [27.67, None, 0, 0, 0, 0, None, None, None, 0, None, None], '3': [27.69, None, 0, 0, 0, 0, None, None, None, 0, None, None], '4': [28.31, None, 0, 0, 0, 0, None, None, None, 0, None, None]}}, '0:10:0:0:2:0:0': {'attributes': [], 'annotations': [], 'observations': {'0': [44.83, None, 0, 0, 0, 0, None, None, None, 0, None, None], '1': [43.43, None, 0, 0, 0, 0, None, None, None, 0, None, None], '2': [42, None, 0, 0, 0, 0, None, None, None, 0, None, None], '3': [43.09, None, 0, 0, 0, 0, None, None, None, 0, None, None], '4': [42.49, None, 0, 0, 0, 0, None, None, None, 0, None, None]}}, '0:10:0:0:2:0:1': {'attributes': [], 'annotations': [], 'observations': {'0': [37.75, None, 0, 0, 0, 0, None, None, None, 0, None, None], '1': [35.83, None, 0, 0, 0, 0, None, None, None, 0, None, None], '2': [34.55, None, 0, 0, 0, 0, None, None, None, 0, None, None], '3': [35.24, None, 0, 0, 0, 0, None, None, None, 0, None, None], '4': [34.7, None, 0, 0, 0, 0, None, None, None, 0, None, None]}}, '0:10:0:0:2:1:0': {'attributes': [], 'annotations': [], 'observations': {'0': [38.61, None, 0, 0, 0, 0, None, None, None, 0, None, None], '1': [37.87, None, 0, 0, 0, 0, None, None, None, 0, None, None], '2': [36.16, None, 0, 0, 0, 0, None, None, None, 0, None, None], '3': [36.97, None, 0, 0, 0, 0, None, None, None, 0, None, None], '4': [36.91, None, 0, 0, 0, 0, None, None, None, 0, None, None]}}, '0:10:0:0:2:1:1': {'attributes': [], 'annotations': [], 'observations': {'0': [30.78, None, 0, 0, 0, 0, None, None, None, 0, None, None], '1': [29.61, None, 0, 0, 0, 0, None, None, None, 0, None, None], '2': [28.07, None, 0, 0, 0, 0, None, None, None, 0, None, None], '3': [28.34, None, 0, 0, 0, 0, None, None, None, 0, None, None], '4': [28.46, None, 0, 0, 0, 0, None, None, None, 0, None, None]}}, '0:11:0:0:0:0:0': {'attributes': [], 'annotations': [], 'observations': {'3': [33.02, None, 0, 0, 0, 12, 1, None, None, 0, None, None], '6': [37.7, None, 0, 0, 0, 13, None, None, None, 0, None, None], '7': [37.49, None, 0, 0, 0, 13, None, None, None, 0, None, None], '8': [30.91, None, 0, 0, 0, 12, None, None, None, 0, None, None]}}, '0:11:0:0:0:0:1': {'attributes': [], 'annotations': [], 'observations': {'3': [11.2, None, 0, 0, 0, 12, 1, None, None, 0, None, None], '6': [10.16, None, 0, 0, 0, 12, None, None, None, 0, None, None], '7': [9.82, None, 0, 0, 0, 12, None, None, None, 0, None, None], '8': [9.14, None, 0, 0, 0, 13, None, None, None, 0, None, None]}}, '0:11:0:0:0:1:0': {'attributes': [], 'annotations': [], 'observations': {'3': [32.99, None, 0, 0, 0, 12, 1, None, None, 0, None, None], '6': [37.13, None, 0, 0, 0, 13, None, None, None, 0, None, None], '7': [37.06, None, 0, 0, 0, 12, None, None, None, 0, None, None], '8': [30.73, None, 0, 0, 0, 12, None, None, None, 0, None, None]}}, '0:11:0:0:0:1:1': {'attributes': [], 'annotations': [], 'observations': {'3': [11.21, None, 0, 0, 0, 12, 1, None, None, 0, None, None], '6': [9.65, None, 0, 0, 0, 12, None, None, None, 0, None, None], '7': [9.32, None, 0, 0, 0, 13, None, None, None, 0, None, None], '8': [8.78, None, 0, 0, 0, 12, None, None, None, 0, None, None]}}, '0:11:0:0:1:0:0': {'attributes': [], 'annotations': [], 'observations': {'3': [35.09, None, 0, 0, 0, 13, 1, None, None, 0, None, None], '6': [36.81, None, 0, 0, 0, 12, None, None, None, 0, None, None], '7': [40.34, None, 0, 0, 0, 13, None, None, None, 0, None, None], '8': [32.02, None, 0, 0, 0, 12, None, None, None, 0, None, None]}}, '0:11:0:0:1:0:1': {'attributes': [], 'annotations': [], 'observations': {'3': [6.37, None, 0, 0, 0, 13, 1, None, None, 0, None, None], '6': [5.11, None, 0, 0, 0, 12, None, None, None, 0, None, None], '7': [4.82, None, 0, 0, 0, 12, None, None, None, 0, None, None], '8': [4.96, None, 0, 0, 0, 12, None, None, None, 0, None, None]}}, '0:11:0:0:1:1:0': {'attributes': [], 'annotations': [], 'observations': {'3': [35.03, None, 0, 0, 0, 12, 1, None, None, 0, None, None], '6': [35.8, None, 0, 0, 0, 13, None, None, None, 0, None, None], '7': [39.76, None, 0, 0, 0, 12, None, None, None, 0, None, None], '8': [31.94, None, 0, 0, 0, 13, None, None, None, 0, None, None]}}, '0:11:0:0:1:1:1': {'attributes': [], 'annotations': [], 'observations': {'3': [6.34, None, 0, 0, 0, 13, 1, None, None, 0, None, None], '6': [4.21, None, 0, 0, 0, 13, None, None, None, 0, None, None], '7': [4.01, None, 0, 0, 0, 12, None, None, None, 0, None, None], '8': [4.41, None, 0, 0, 0, 12, None, None, None, 0, None, None]}}, '0:11:0:0:2:0:0': {'attributes': [], 'annotations': [], 'observations': {'3': [30.25, None, 0, 0, 0, 12, 1, None, None, 0, None, None], '6': [38.82, None, 0, 0, 0, 12, None, None, None, 0, None, None], '7': [33.42, None, 0, 0, 0, 12, None, None, None, 0, None, None], '8': [29.15, None, 0, 0, 0, 12, None, None, None, 0, None, None]}}, '0:11:0:0:2:0:1': {'attributes': [], 'annotations': [], 'observations': {'3': [17.67, None, 0, 0, 0, 13, 1, None, None, 0, None, None], '6': [16.46, None, 0, 0, 0, 13, None, None, None, 0, None, None], '7': [16.99, None, 0, 0, 0, 12, None, None, None, 0, None, None], '8': [15.74, None, 0, 0, 0, 13, None, None, None, 0, None, None]}}, '0:11:0:0:2:1:0': {'attributes': [], 'annotations': [], 'observations': {'3': [30.25, None, 0, 0, 0, 13, 1, None, None, 0, None, None], '6': [38.75, None, 0, 0, 0, 12, None, None, None, 0, None, None], '7': [33.23, None, 0, 0, 0, 13, None, None, None, 0, None, None], '8': [28.86, None, 0, 0, 0, 13, None, None, None, 0, None, None]}}, '0:11:0:0:2:1:1': {'attributes': [], 'annotations': [], 'observations': {'3': [17.72, None, 0, 0, 0, 12, 1, None, None, 0, None, None], '6': [16.32, None, 0, 0, 0, 13, None, None, None, 0, None, None], '7': [16.87, None, 0, 0, 0, 13, None, None, None, 0, None, None], '8': [15.55, None, 0, 0, 0, 12, None, None, None, 0, None, None]}}, '0:12:0:0:0:0:0': {'attributes': [], 'annotations': [], 'observations': {'6': [64.69, None, 0, 0, 0, 0, None, None, None, 0, None, None], '7': [29.28, None, 0, 0, 0, 0, None, None, None, 0, None, None], '8': [29.23, None, 0, 0, 0, 0, None, None, None, 0, None, None]}}, '0:12:0:0:0:0:1': {'attributes': [], 'annotations': [], 'observations': {'6': [55.61, None, 0, 0, 0, 0, None, None, None, 0, None, None], '7': [22.19, None, 0, 0, 0, 0, None, None, None, 0, None, None], '8': [22.57, None, 0, 0, 0, 0, None, None, None, 0, None, None]}}, '0:12:0:0:0:1:0': {'attributes': [], 'annotations': [], 'observations': {'6': [63.81, None, 0, 0, 0, 0, None, None, None, 0, None, None], '7': [27.68, None, 0, 0, 0, 0, None, None, None, 0, None, None], '8': [27.78, None, 0, 0, 0, 0, None, None, None, 0, None, None]}}, '0:12:0:0:0:1:1': {'attributes': [], 'annotations': [], 'observations': {'6': [54.37, None, 0, 0, 0, 0, None, None, None, 0, None, None], '7': [20.99, None, 0, 0, 0, 0, None, None, None, 0, None, None], '8': [21.48, None, 0, 0, 0, 0, None, None, None, 0, None, None]}}, '0:12:0:0:1:0:0': {'attributes': [], 'annotations': [], 'observations': {'6': [64.36, None, 0, 0, 0, 0, None, None, None, 0, None, None], '7': [28.23, None, 0, 0, 0, 0, None, None, None, 0, None, None], '8': [28.38, None, 0, 0, 0, 0, None, None, None, 0, None, None]}}, '0:12:0:0:1:0:1': {'attributes': [], 'annotations': [], 'observations': {'6': [55.85, None, 0, 0, 0, 0, None, None, None, 0, None, None], '7': [20.1, None, 0, 0, 0, 0, None, None, None, 0, None, None], '8': [20.54, None, 0, 0, 0, 0, None, None, None, 0, None, None]}}, '0:12:0:0:1:1:0': {'attributes': [], 'annotations': [], 'observations': {'6': [63.25, None, 0, 0, 0, 0, None, None, None, 0, None, None], '7': [25.95, None, 0, 0, 0, 0, None, None, None, 0, None, None], '8': [26.29, None, 0, 0, 0, 0, None, None, None, 0, None, None]}}, '0:12:0:0:1:1:1': {'attributes': [], 'annotations': [], 'observations': {'6': [54.33, None, 0, 0, 0, 0, None, None, None, 0, None, None], '7': [18.1, None, 0, 0, 0, 0, None, None, None, 0, None, None], '8': [18.69, None, 0, 0, 0, 0, None, None, None, 0, None, None]}}, '0:12:0:0:2:0:0': {'attributes': [], 'annotations': [], 'observations': {'6': [65.17, None, 0, 0, 0, 0, None, None, None, 0, None, None], '7': [30.76, None, 0, 0, 0, 0, None, None, None, 0, None, None], '8': [30.41, None, 0, 0, 0, 0, None, None, None, 0, None, None]}}, '0:12:0:0:2:0:1': {'attributes': [], 'annotations': [], 'observations': {'6': [55.27, None, 0, 0, 0, 0, None, None, None, 0, None, None], '7': [25.16, None, 0, 0, 0, 0, None, None, None, 0, None, None], '8': [25.41, None, 0, 0, 0, 0, None, None, None, 0, None, None]}}, '0:12:0:0:2:1:0': {'attributes': [], 'annotations': [], 'observations': {'6': [64.55, None, 0, 0, 0, 0, None, None, None, 0, None, None], '7': [29.94, None, 0, 0, 0, 0, None, None, None, 0, None, None], '8': [29.7, None, 0, 0, 0, 0, None, None, None, 0, None, None]}}, '0:12:0:0:2:1:1': {'attributes': [], 'annotations': [], 'observations': {'6': [54.42, None, 0, 0, 0, 0, None, None, None, 0, None, None], '7': [24.77, None, 0, 0, 0, 0, None, None, None, 0, None, None], '8': [25.07, None, 0, 0, 0, 0, None, None, None, 0, None, None]}}, '0:13:0:0:0:0:0': {'attributes': [], 'annotations': [], 'observations': {'6': [86.66, None, 0, 0, 0, 0, None, None, None, 0, None, None]}}, '0:13:0:0:0:0:1': {'attributes': [], 'annotations': [], 'observations': {'6': [88.83, None, 0, 0, 0, 0, None, None, None, 0, None, None]}}, '0:13:0:0:0:1:0': {'attributes': [], 'annotations': [], 'observations': {'6': [84.75, None, 0, 0, 0, 0, None, None, None, 0, None, None]}}, '0:13:0:0:0:1:1': {'attributes': [], 'annotations': [], 'observations': {'6': [88.26, None, 0, 0, 0, 0, None, None, None, 0, None, None]}}, '0:13:0:0:1:0:0': {'attributes': [], 'annotations': [], 'observations': {'6': [83.94, None, 0, 0, 0, 0, None, None, None, 0, None, None]}}, '0:13:0:0:1:0:1': {'attributes': [], 'annotations': [], 'observations': {'6': [86.51, None, 0, 0, 0, 0, None, None, None, 0, None, None]}}, '0:13:0:0:1:1:0': {'attributes': [], 'annotations': [], 'observations': {'6': [80.1, None, 0, 0, 0, 0, None, None, None, 0, None, None]}}, '0:13:0:0:1:1:1': {'attributes': [], 'annotations': [], 'observations': {'6': [84.68, None, 0, 0, 0, 0, None, None, None, 0, None, None]}}, '0:13:0:0:2:0:0': {'attributes': [], 'annotations': [], 'observations': {'6': [90.69, None, 0, 0, 0, 0, None, None, None, 0, None, None]}}, '0:13:0:0:2:0:1': {'attributes': [], 'annotations': [], 'observations': {'6': [92.27, None, 0, 0, 0, 0, None, None, None, 0, None, None]}}, '0:13:0:0:2:1:0': {'attributes': [], 'annotations': [], 'observations': {'6': [90.03, None, 0, 0, 0, 0, None, None, None, 0, None, None]}}, '0:13:0:0:2:1:1': {'attributes': [], 'annotations': [], 'observations': {'6': [92.32, None, 0, 0, 0, 0, None, None, None, 0, None, None]}}, '0:14:0:0:0:0:0': {'attributes': [], 'annotations': [], 'observations': {'3': [90.23, None, 0, 0, 0, 0, None, None, None, 0, None, None]}}, '0:14:0:0:0:0:1': {'attributes': [], 'annotations': [], 'observations': {'3': [80.78, None, 0, 0, 0, 0, None, None, None, 0, None, None]}}, '0:14:0:0:0:1:0': {'attributes': [], 'annotations': [], 'observations': {'3': [82.39, None, 0, 0, 0, 0, None, None, None, 0, None, None]}}, '0:14:0:0:0:1:1': {'attributes': [], 'annotations': [], 'observations': {'3': [65.19, None, 0, 0, 0, 0, None, None, None, 0, None, None]}}, '0:14:0:0:1:0:0': {'attributes': [], 'annotations': [], 'observations': {'3': [86.59, None, 0, 0, 0, 0, None, None, None, 0, None, None]}}, '0:14:0:0:1:0:1': {'attributes': [], 'annotations': [], 'observations': {'3': [74.62, None, 0, 0, 0, 0, None, None, None, 0, None, None]}}, '0:14:0:0:1:1:0': {'attributes': [], 'annotations': [], 'observations': {'3': [78.07, None, 0, 0, 0, 0, None, None, None, 0, None, None]}}, '0:14:0:0:1:1:1': {'attributes': [], 'annotations': [], 'observations': {'3': [58.41, None, 0, 0, 0, 0, None, None, None, 0, None, None]}}, '0:14:0:0:2:0:0': {'attributes': [], 'annotations': [], 'observations': {'3': [94.09, None, 0, 0, 0, 0, None, None, None, 0, None, None]}}, '0:14:0:0:2:0:1': {'attributes': [], 'annotations': [], 'observations': {'3': [87.3, None, 0, 0, 0, 0, None, None, None, 0, None, None]}}, '0:14:0:0:2:1:0': {'attributes': [], 'annotations': [], 'observations': {'3': [88.02, None, 0, 0, 0, 0, None, None, None, 0, None, None]}}, '0:14:0:0:2:1:1': {'attributes': [], 'annotations': [], 'observations': {'3': [74, None, 0, 0, 0, 0, None, None, None, 0, None, None]}}, '0:15:0:0:0:0:0': {'attributes': [], 'annotations': [], 'observations': {'9': [67.86, None, 0, 0, 0, 0, 1, None, None, 0, None, None], '0': [67.04, None, 0, 0, 0, 0, None, None, None, 0, None, None], '1': [66.55, None, 0, 0, 0, 0, None, None, None, 0, None, None], '2': [64.93, None, 0, 0, 0, 0, None, None, None, 0, None, None], '3': [63.24, None, 0, 0, 0, 0, None, None, None, 0, None, None], '4': [63.07, None, 0, 0, 0, 0, None, None, None, 0, None, None], '5': [62.38, None, 0, 0, 0, 0, None, None, None, 0, None, None], '6': [61.92, None, 0, 0, 0, 0, None, None, None, 0, None, None], '7': [62.36, None, 0, 0, 0, 0, None, None, None, 0, None, None], '8': [62.08, None, 0, 0, 0, 0, None, None, None, 0, None, None]}}, '0:15:0:0:0:0:1': {'attributes': [], 'annotations': [], 'observations': {'9': [64.03, None, 0, 0, 0, 0, 1, None, None, 0, None, None], '0': [63.22, None, 0, 0, 0, 0, None, None, None, 0, None, None], '1': [62.92, None, 0, 0, 0, 0, None, None, None, 0, None, None], '2': [61.24, None, 0, 0, 0, 0, None, None, None, 0, None, None], '3': [59.62, None, 0, 0, 0, 0, None, None, None, 0, None, None], '4': [59.55, None, 0, 0, 0, 0, None, None, None, 0, None, None], '5': [58.8, None, 0, 0, 0, 0, None, None, None, 0, None, None], '6': [58.71, None, 0, 0, 0, 0, None, None, None, 0, None, None], '7': [59.11, None, 0, 0, 0, 0, None, None, None, 0, None, None], '8': [58.69, None, 0, 0, 0, 0, None, None, None, 0, None, None]}}, '0:15:0:0:0:1:0': {'attributes': [], 'annotations': [], 'observations': {'9': [62.97, None, 0, 0, 0, 0, 1, None, None, 0, None, None], '0': [62.23, None, 0, 0, 0, 0, None, None, None, 0, None, None], '1': [61.62, None, 0, 0, 0, 0, None, None, None, 0, None, None], '2': [60.04, None, 0, 0, 0, 0, None, None, None, 0, None, None], '3': [58.34, None, 0, 0, 0, 0, None, None, None, 0, None, None], '4': [58.16, None, 0, 0, 0, 0, None, None, None, 0, None, None], '5': [57.38, None, 0, 0, 0, 0, None, None, None, 0, None, None], '6': [56.77, None, 0, 0, 0, 0, None, None, None, 0, None, None], '7': [57.25, None, 0, 0, 0, 0, None, None, None, 0, None, None], '8': [57.26, None, 0, 0, 0, 0, None, None, None, 0, None, None]}}, '0:15:0:0:0:1:1': {'attributes': [], 'annotations': [], 'observations': {'9': [58.4, None, 0, 0, 0, 0, 1, None, None, 0, None, None], '0': [57.69, None, 0, 0, 0, 0, None, None, None, 0, None, None], '1': [57.33, None, 0, 0, 0, 0, None, None, None, 0, None, None], '2': [55.73, None, 0, 0, 0, 0, None, None, None, 0, None, None], '3': [54.11, None, 0, 0, 0, 0, None, None, None, 0, None, None], '4': [54.05, None, 0, 0, 0, 0, None, None, None, 0, None, None], '5': [53.22, None, 0, 0, 0, 0, None, None, None, 0, None, None], '6': [53.01, None, 0, 0, 0, 0, None, None, None, 0, None, None], '7': [53.43, None, 0, 0, 0, 0, None, None, None, 0, None, None], '8': [53.34, None, 0, 0, 0, 0, None, None, None, 0, None, None]}}, '0:15:0:0:1:0:0': {'attributes': [], 'annotations': [], 'observations': {'9': [68.21, None, 0, 0, 0, 0, 1, None, None, 0, None, None], '0': [67.06, None, 0, 0, 0, 0, None, None, None, 0, None, None], '1': [66.27, None, 0, 0, 0, 0, None, None, None, 0, None, None], '2': [64.83, None, 0, 0, 0, 0, None, None, None, 0, None, None], '3': [63.06, None, 0, 0, 0, 0, None, None, None, 0, None, None], '4': [63.04, None, 0, 0, 0, 0, None, None, None, 0, None, None], '5': [62.55, None, 0, 0, 0, 0, None, None, None, 0, None, None], '6': [62.22, None, 0, 0, 0, 0, None, None, None, 0, None, None], '7': [62.88, None, 0, 0, 0, 0, None, None, None, 0, None, None], '8': [62.41, None, 0, 0, 0, 0, None, None, None, 0, None, None]}}, '0:15:0:0:1:0:1': {'attributes': [], 'annotations': [], 'observations': {'9': [64.89, None, 0, 0, 0, 0, 1, None, None, 0, None, None], '0': [63.85, None, 0, 0, 0, 0, None, None, None, 0, None, None], '1': [63.01, None, 0, 0, 0, 0, None, None, None, 0, None, None], '2': [61.62, None, 0, 0, 0, 0, None, None, None, 0, None, None], '3': [59.97, None, 0, 0, 0, 0, None, None, None, 0, None, None], '4': [59.94, None, 0, 0, 0, 0, None, None, None, 0, None, None], '5': [59.46, None, 0, 0, 0, 0, None, None, None, 0, None, None], '6': [59.39, None, 0, 0, 0, 0, None, None, None, 0, None, None], '7': [60.08, None, 0, 0, 0, 0, None, None, None, 0, None, None], '8': [59.38, None, 0, 0, 0, 0, None, None, None, 0, None, None]}}, '0:15:0:0:1:1:0': {'attributes': [], 'annotations': [], 'observations': {'9': [60.46, None, 0, 0, 0, 0, 1, None, None, 0, None, None], '0': [59.49, None, 0, 0, 0, 0, None, None, None, 0, None, None], '1': [58.57, None, 0, 0, 0, 0, None, None, None, 0, None, None], '2': [57.26, None, 0, 0, 0, 0, None, None, None, 0, None, None], '3': [55.51, None, 0, 0, 0, 0, None, None, None, 0, None, None], '4': [55.57, None, 0, 0, 0, 0, None, None, None, 0, None, None], '5': [55.09, None, 0, 0, 0, 0, None, None, None, 0, None, None], '6': [54.62, None, 0, 0, 0, 0, None, None, None, 0, None, None], '7': [55.52, None, 0, 0, 0, 0, None, None, None, 0, None, None], '8': [55.16, None, 0, 0, 0, 0, None, None, None, 0, None, None]}}, '0:15:0:0:1:1:1': {'attributes': [], 'annotations': [], 'observations': {'9': [56.1, None, 0, 0, 0, 0, 1, None, None, 0, None, None], '0': [55.31, None, 0, 0, 0, 0, None, None, None, 0, None, None], '1': [54.37, None, 0, 0, 0, 0, None, None, None, 0, None, None], '2': [53.18, None, 0, 0, 0, 0, None, None, None, 0, None, None], '3': [51.59, None, 0, 0, 0, 0, None, None, None, 0, None, None], '4': [51.68, None, 0, 0, 0, 0, None, None, None, 0, None, None], '5': [51.23, None, 0, 0, 0, 0, None, None, None, 0, None, None], '6': [51.06, None, 0, 0, 0, 0, None, None, None, 0, None, None], '7': [51.94, None, 0, 0, 0, 0, None, None, None, 0, None, None], '8': [51.37, None, 0, 0, 0, 0, None, None, None, 0, None, None]}}, '0:15:0:0:2:0:0': {'attributes': [], 'annotations': [], 'observations': {'9': [67.36, None, 0, 0, 0, 0, 1, None, None, 0, None, None], '0': [67.01, None, 0, 0, 0, 0, None, None, None, 0, None, None], '1': [66.96, None, 0, 0, 0, 0, None, None, None, 0, None, None], '2': [65.07, None, 0, 0, 0, 0, None, None, None, 0, None, None], '3': [63.48, None, 0, 0, 0, 0, None, None, None, 0, None, None], '4': [63.11, None, 0, 0, 0, 0, None, None, None, 0, None, None], '5': [62.15, None, 0, 0, 0, 0, None, None, None, 0, None, None], '6': [61.49, None, 0, 0, 0, 0, None, None, None, 0, None, None], '7': [61.62, None, 0, 0, 0, 0, None, None, None, 0, None, None], '8': [61.6, None, 0, 0, 0, 0, None, None, None, 0, None, None]}}, '0:15:0:0:2:0:1': {'attributes': [], 'annotations': [], 'observations': {'9': [62.76, None, 0, 0, 0, 0, 1, None, None, 0, None, None], '0': [62.33, None, 0, 0, 0, 0, None, None, None, 0, None, None], '1': [62.8, None, 0, 0, 0, 0, None, None, None, 0, None, None], '2': [60.72, None, 0, 0, 0, 0, None, None, None, 0, None, None], '3': [59.13, None, 0, 0, 0, 0, None, None, None, 0, None, None], '4': [59.01, None, 0, 0, 0, 0, None, None, None, 0, None, None], '5': [57.88, None, 0, 0, 0, 0, None, None, None, 0, None, None], '6': [57.75, None, 0, 0, 0, 0, None, None, None, 0, None, None], '7': [57.75, None, 0, 0, 0, 0, None, None, None, 0, None, None], '8': [57.72, None, 0, 0, 0, 0, None, None, None, 0, None, None]}}, '0:15:0:0:2:1:0': {'attributes': [], 'annotations': [], 'observations': {'9': [65.89, None, 0, 0, 0, 0, 1, None, None, 0, None, None], '0': [65.41, None, 0, 0, 0, 0, None, None, None, 0, None, None], '1': [65.15, None, 0, 0, 0, 0, None, None, None, 0, None, None], '2': [63.22, None, 0, 0, 0, 0, None, None, None, 0, None, None], '3': [61.59, None, 0, 0, 0, 0, None, None, None, 0, None, None], '4': [61.15, None, 0, 0, 0, 0, None, None, None, 0, None, None], '5': [60.04, None, 0, 0, 0, 0, None, None, None, 0, None, None], '6': [59.26, None, 0, 0, 0, 0, None, None, None, 0, None, None], '7': [59.28, None, 0, 0, 0, 0, None, None, None, 0, None, None], '8': [59.74, None, 0, 0, 0, 0, None, None, None, 0, None, None]}}, '0:15:0:0:2:1:1': {'attributes': [], 'annotations': [], 'observations': {'9': [61.07, None, 0, 0, 0, 0, 1, None, None, 0, None, None], '0': [60.44, None, 0, 0, 0, 0, None, None, None, 0, None, None], '1': [60.74, None, 0, 0, 0, 0, None, None, None, 0, None, None], '2': [58.65, None, 0, 0, 0, 0, None, None, None, 0, None, None], '3': [57.01, None, 0, 0, 0, 0, None, None, None, 0, None, None], '4': [56.79, None, 0, 0, 0, 0, None, None, None, 0, None, None], '5': [55.52, None, 0, 0, 0, 0, None, None, None, 0, None, None], '6': [55.26, None, 0, 0, 0, 0, None, None, None, 0, None, None], '7': [55.16, None, 0, 0, 0, 0, None, None, None, 0, None, None], '8': [55.66, None, 0, 0, 0, 0, None, None, None, 0, None, None]}}, '0:16:0:0:0:0:0': {'attributes': [], 'annotations': [], 'observations': {'3': [94.71, None, 0, 0, 0, 0, None, None, None, 0, None, None]}}, '0:16:0:0:0:0:1': {'attributes': [], 'annotations': [], 'observations': {'3': [74.38, None, 0, 0, 0, 0, None, None, None, 0, None, None]}}, '0:16:0:0:0:1:0': {'attributes': [], 'annotations': [], 'observations': {'3': [93.36, None, 0, 0, 0, 0, None, None, None, 0, None, None]}}, '0:16:0:0:0:1:1': {'attributes': [], 'annotations': [], 'observations': {'3': [61.15, None, 0, 0, 0, 0, None, None, None, 0, None, None]}}, '0:16:0:0:1:0:0': {'attributes': [], 'annotations': [], 'observations': {'3': [94.6, None, 0, 0, 0, 0, None, None, None, 0, None, None]}}, '0:16:0:0:1:0:1': {'attributes': [], 'annotations': [], 'observations': {'3': [71.93, None, 0, 0, 0, 0, None, None, None, 0, None, None]}}, '0:16:0:0:1:1:0': {'attributes': [], 'annotations': [], 'observations': {'3': [93.32, None, 0, 0, 0, 0, None, None, None, 0, None, None]}}, '0:16:0:0:1:1:1': {'attributes': [], 'annotations': [], 'observations': {'3': [56.96, None, 0, 0, 0, 0, None, None, None, 0, None, None]}}, '0:16:0:0:2:0:0': {'attributes': [], 'annotations': [], 'observations': {'3': [94.89, None, 0, 0, 0, 0, None, None, None, 0, None, None]}}, '0:16:0:0:2:0:1': {'attributes': [], 'annotations': [], 'observations': {'3': [78.41, None, 0, 0, 0, 0, None, None, None, 0, None, None]}}, '0:16:0:0:2:1:0': {'attributes': [], 'annotations': [], 'observations': {'3': [93.43, None, 0, 0, 0, 0, None, None, None, 0, None, None]}}, '0:16:0:0:2:1:1': {'attributes': [], 'annotations': [], 'observations': {'3': [67.69, None, 0, 0, 0, 0, None, None, None, 0, None, None]}}, '0:17:0:0:0:0:0': {'attributes': [], 'annotations': [], 'observations': {'4': [63.82, None, 0, 0, 0, 14, None, None, None, 0, None, None]}}, '0:17:0:0:0:0:1': {'attributes': [], 'annotations': [], 'observations': {'4': [54.23, None, 0, 0, 0, 15, None, None, None, 0, None, None]}}, '0:17:0:0:0:1:0': {'attributes': [], 'annotations': [], 'observations': {'4': [57.81, None, 0, 0, 0, 15, None, None, None, 0, None, None]}}, '0:17:0:0:0:1:1': {'attributes': [], 'annotations': [], 'observations': {'4': [46.64, None, 0, 0, 0, 14, None, None, None, 0, None, None]}}, '0:17:0:0:1:0:0': {'attributes': [], 'annotations': [], 'observations': {'4': [63.74, None, 0, 0, 0, 15, None, None, None, 0, None, None]}}, '0:17:0:0:1:0:1': {'attributes': [], 'annotations': [], 'observations': {'4': [54.3, None, 0, 0, 0, 15, None, None, None, 0, None, None]}}, '0:17:0:0:1:1:0': {'attributes': [], 'annotations': [], 'observations': {'4': [55.92, None, 0, 0, 0, 14, None, None, None, 0, None, None]}}, '0:17:0:0:1:1:1': {'attributes': [], 'annotations': [], 'observations': {'4': [44.51, None, 0, 0, 0, 15, None, None, None, 0, None, None]}}, '0:17:0:0:2:0:0': {'attributes': [], 'annotations': [], 'observations': {'4': [63.9, None, 0, 0, 0, 15, None, None, None, 0, None, None]}}, '0:17:0:0:2:0:1': {'attributes': [], 'annotations': [], 'observations': {'4': [54.15, None, 0, 0, 0, 14, None, None, None, 0, None, None]}}, '0:17:0:0:2:1:0': {'attributes': [], 'annotations': [], 'observations': {'4': [59.59, None, 0, 0, 0, 14, None, None, None, 0, None, None]}}, '0:17:0:0:2:1:1': {'attributes': [], 'annotations': [], 'observations': {'4': [48.66, None, 0, 0, 0, 15, None, None, None, 0, None, None]}}, '0:18:0:0:0:0:0': {'attributes': [], 'annotations': [], 'observations': {'9': [37.85, None, 0, 0, 0, 0, None, None, None, 0, None, None]}}, '0:18:0:0:0:0:1': {'attributes': [], 'annotations': [], 'observations': {'9': [32.32, None, 0, 0, 0, 0, None, None, None, 0, None, None]}}, '0:18:0:0:0:1:0': {'attributes': [], 'annotations': [], 'observations': {'9': [35.34, None, 0, 0, 0, 0, None, None, None, 0, None, None]}}, '0:18:0:0:0:1:1': {'attributes': [], 'annotations': [], 'observations': {'9': [30.28, None, 0, 0, 0, 0, None, None, None, 0, None, None]}}, '0:18:0:0:1:0:0': {'attributes': [], 'annotations': [], 'observations': {'9': [36.28, None, 0, 0, 0, 0, None, None, None, 0, None, None]}}, '0:18:0:0:1:0:1': {'attributes': [], 'annotations': [], 'observations': {'9': [30.41, None, 0, 0, 0, 0, None, None, None, 0, None, None]}}, '0:18:0:0:1:1:0': {'attributes': [], 'annotations': [], 'observations': {'9': [31.85, None, 0, 0, 0, 0, None, None, None, 0, None, None]}}, '0:18:0:0:1:1:1': {'attributes': [], 'annotations': [], 'observations': {'9': [26.41, None, 0, 0, 0, 0, None, None, None, 0, None, None]}}, '0:18:0:0:2:0:0': {'attributes': [], 'annotations': [], 'observations': {'9': [40.38, None, 0, 0, 0, 0, None, None, None, 0, None, None]}}, '0:18:0:0:2:0:1': {'attributes': [], 'annotations': [], 'observations': {'9': [35.39, None, 0, 0, 0, 0, None, None, None, 0, None, None]}}, '0:18:0:0:2:1:0': {'attributes': [], 'annotations': [], 'observations': {'9': [40.16, None, 0, 0, 0, 0, None, None, None, 0, None, None]}}, '0:18:0:0:2:1:1': {'attributes': [], 'annotations': [], 'observations': {'9': [35.62, None, 0, 0, 0, 0, None, None, None, 0, None, None]}}, '0:19:0:0:0:0:0': {'attributes': [], 'annotations': [], 'observations': {'9': [53.94, None, 0, 0, 0, 0, None, None, None, 0, None, None], '0': [56.17, None, 0, 0, 0, 0, None, None, None, 0, None, None], '1': [56.26, None, 0, 0, 0, 0, None, None, None, 0, None, None], '2': [55.9, None, 0, 0, 0, 0, None, None, None, 0, None, None], '3': [54.24, None, 0, 0, 0, 0, None, None, None, 0, None, None]}}, '0:19:0:0:0:0:1': {'attributes': [], 'annotations': [], 'observations': {'9': [43.24, None, 0, 0, 0, 0, None, None, None, 0, None, None], '0': [44.46, None, 0, 0, 0, 0, None, None, None, 0, None, None], '1': [45.94, None, 0, 0, 0, 0, None, None, None, 0, None, None], '2': [45.57, None, 0, 0, 0, 0, None, None, None, 0, None, None], '3': [45.1, None, 0, 0, 0, 0, None, None, None, 0, None, None]}}, '0:19:0:0:0:1:0': {'attributes': [], 'annotations': [], 'observations': {'9': [49.84, None, 0, 0, 0, 0, None, None, None, 0, None, None], '0': [52.34, None, 0, 0, 0, 0, None, None, None, 0, None, None], '1': [52.57, None, 0, 0, 0, 0, None, None, None, 0, None, None], '2': [52.16, None, 0, 0, 0, 0, None, None, None, 0, None, None], '3': [50.63, None, 0, 0, 0, 0, None, None, None, 0, None, None]}}, '0:19:0:0:0:1:1': {'attributes': [], 'annotations': [], 'observations': {'9': [37.94, None, 0, 0, 0, 0, None, None, None, 0, None, None], '0': [39.52, None, 0, 0, 0, 0, None, None, None, 0, None, None], '1': [41.27, None, 0, 0, 0, 0, None, None, None, 0, None, None], '2': [40.96, None, 0, 0, 0, 0, None, None, None, 0, None, None], '3': [40.65, None, 0, 0, 0, 0, None, None, None, 0, None, None]}}, '0:19:0:0:1:0:0': {'attributes': [], 'annotations': [], 'observations': {'9': [54.25, None, 0, 0, 0, 0, None, None, None, 0, None, None], '0': [56.93, None, 0, 0, 0, 0, None, None, None, 0, None, None], '1': [57.28, None, 0, 0, 0, 0, None, None, None, 0, None, None], '2': [56.82, None, 0, 0, 0, 0, None, None, None, 0, None, None], '3': [55.63, None, 0, 0, 0, 0, None, None, None, 0, None, None]}}, '0:19:0:0:1:0:1': {'attributes': [], 'annotations': [], 'observations': {'9': [44.15, None, 0, 0, 0, 0, None, None, None, 0, None, None], '0': [45.74, None, 0, 0, 0, 0, None, None, None, 0, None, None], '1': [47.44, None, 0, 0, 0, 0, None, None, None, 0, None, None], '2': [46.89, None, 0, 0, 0, 0, None, None, None, 0, None, None], '3': [47.14, None, 0, 0, 0, 0, None, None, None, 0, None, None]}}, '0:19:0:0:1:1:0': {'attributes': [], 'annotations': [], 'observations': {'9': [47.82, None, 0, 0, 0, 0, None, None, None, 0, None, None], '0': [50.97, None, 0, 0, 0, 0, None, None, None, 0, None, None], '1': [51.49, None, 0, 0, 0, 0, None, None, None, 0, None, None], '2': [50.86, None, 0, 0, 0, 0, None, None, None, 0, None, None], '3': [49.91, None, 0, 0, 0, 0, None, None, None, 0, None, None]}}, '0:19:0:0:1:1:1': {'attributes': [], 'annotations': [], 'observations': {'9': [35.93, None, 0, 0, 0, 0, None, None, None, 0, None, None], '0': [38.12, None, 0, 0, 0, 0, None, None, None, 0, None, None], '1': [40.14, None, 0, 0, 0, 0, None, None, None, 0, None, None], '2': [39.56, None, 0, 0, 0, 0, None, None, None, 0, None, None], '3': [40.21, None, 0, 0, 0, 0, None, None, None, 0, None, None]}}, '0:19:0:0:2:0:0': {'attributes': [], 'annotations': [], 'observations': {'9': [53.41, None, 0, 0, 0, 0, None, None, None, 0, None, None], '0': [54.9, None, 0, 0, 0, 0, None, None, None, 0, None, None], '1': [54.58, None, 0, 0, 0, 0, None, None, None, 0, None, None], '2': [54.35, None, 0, 0, 0, 0, None, None, None, 0, None, None], '3': [51.94, None, 0, 0, 0, 0, None, None, None, 0, None, None]}}, '0:19:0:0:2:0:1': {'attributes': [], 'annotations': [], 'observations': {'9': [41.68, None, 0, 0, 0, 0, None, None, None, 0, None, None], '0': [42.32, None, 0, 0, 0, 0, None, None, None, 0, None, None], '1': [43.47, None, 0, 0, 0, 0, None, None, None, 0, None, None], '2': [43.35, None, 0, 0, 0, 0, None, None, None, 0, None, None], '3': [41.72, None, 0, 0, 0, 0, None, None, None, 0, None, None]}}, '0:19:0:0:2:1:0': {'attributes': [], 'annotations': [], 'observations': {'9': [52.77, None, 0, 0, 0, 0, None, None, None, 0, None, None], '0': [54.27, None, 0, 0, 0, 0, None, None, None, 0, None, None], '1': [54.08, None, 0, 0, 0, 0, None, None, None, 0, None, None], '2': [54.01, None, 0, 0, 0, 0, None, None, None, 0, None, None], '3': [51.65, None, 0, 0, 0, 0, None, None, None, 0, None, None]}}, '0:19:0:0:2:1:1': {'attributes': [], 'annotations': [], 'observations': {'9': [40.83, None, 0, 0, 0, 0, None, None, None, 0, None, None], '0': [41.5, None, 0, 0, 0, 0, None, None, None, 0, None, None], '1': [42.85, None, 0, 0, 0, 0, None, None, None, 0, None, None], '2': [42.93, None, 0, 0, 0, 0, None, None, None, 0, None, None], '3': [41.28, None, 0, 0, 0, 0, None, None, None, 0, None, None]}}, '0:20:0:0:0:0:0': {'attributes': [], 'annotations': [], 'observations': {'9': [75.54, None, 0, 0, 0, 0, 1, None, None, 0, None, None], '0': [72.57, None, 0, 0, 0, 0, None, None, None, 0, None, None], '1': [71.1, None, 0, 0, 0, 0, None, None, None, 0, None, None], '2': [69.73, None, 0, 0, 0, 0, None, None, None, 0, None, None], '3': [67.57, None, 0, 0, 0, 0, 1, None, None, 0, None, None], '4': [68.15, None, 0, 0, 0, 0, None, None, None, 0, None, None], '5': [70.79, None, 0, 0, 0, 0, None, None, None, 0, None, None], '6': [72.41, None, 0, 0, 0, 0, None, None, None, 0, None, None], '7': [72.67, None, 0, 0, 0, 0, None, None, None, 0, None, None], '8': [73.62, None, 0, 0, 0, 0, None, None, None, 0, None, None]}}, '0:20:0:0:0:0:1': {'attributes': [], 'annotations': [], 'observations': {'9': [52.51, None, 0, 0, 0, 0, 1, None, None, 0, None, None], '0': [51.93, None, 0, 0, 0, 0, None, None, None, 0, None, None], '1': [50.12, None, 0, 0, 0, 0, None, None, None, 0, None, None], '2': [49.84, None, 0, 0, 0, 0, None, None, None, 0, None, None], '3': [48.24, None, 0, 0, 0, 0, 1, None, None, 0, None, None], '4': [48.11, None, 0, 0, 0, 0, None, None, None, 0, None, None], '5': [50.82, None, 0, 0, 0, 0, None, None, None, 0, None, None], '6': [51.42, None, 0, 0, 0, 0, None, None, None, 0, None, None], '7': [52.37, None, 0, 0, 0, 0, None, None, None, 0, None, None], '8': [53.34, None, 0, 0, 0, 0, None, None, None, 0, None, None]}}, '0:20:0:0:0:1:0': {'attributes': [], 'annotations': [], 'observations': {'9': [68.24, None, 0, 0, 0, 0, 1, None, None, 0, None, None], '0': [64.81, None, 0, 0, 0, 0, None, None, None, 0, None, None], '1': [63.01, None, 0, 0, 0, 0, None, None, None, 0, None, None], '2': [61.69, None, 0, 0, 0, 0, None, None, None, 0, None, None], '3': [60.2, None, 0, 0, 0, 0, 1, None, None, 0, None, None], '4': [60.69, None, 0, 0, 0, 0, None, None, None, 0, None, None], '5': [63.4, None, 0, 0, 0, 0, None, None, None, 0, None, None], '6': [64.86, None, 0, 0, 0, 0, None, None, None, 0, None, None], '7': [64.81, None, 0, 0, 0, 0, None, None, None, 0, None, None], '8': [65.77, None, 0, 0, 0, 0, None, None, None, 0, None, None]}}, '0:20:0:0:0:1:1': {'attributes': [], 'annotations': [], 'observations': {'9': [39.79, None, 0, 0, 0, 0, 1, None, None, 0, None, None], '0': [39.05, None, 0, 0, 0, 0, None, None, None, 0, None, None], '1': [37.17, None, 0, 0, 0, 0, None, None, None, 0, None, None], '2': [37.47, None, 0, 0, 0, 0, None, None, None, 0, None, None], '3': [37.01, None, 0, 0, 0, 0, 1, None, None, 0, None, None], '4': [37.03, None, 0, 0, 0, 0, None, None, None, 0, None, None], '5': [39.48, None, 0, 0, 0, 0, None, None, None, 0, None, None], '6': [40.09, None, 0, 0, 0, 0, None, None, None, 0, None, None], '7': [40.22, None, 0, 0, 0, 0, None, None, None, 0, None, None], '8': [41.17, None, 0, 0, 0, 0, None, None, None, 0, None, None]}}, '0:20:0:0:1:0:0': {'attributes': [], 'annotations': [], 'observations': {'9': [76.56, None, 0, 0, 0, 0, 1, None, None, 0, None, None], '0': [73.18, None, 0, 0, 0, 0, None, None, None, 0, None, None], '1': [71.68, None, 0, 0, 0, 0, None, None, None, 0, None, None], '2': [70.15, None, 0, 0, 0, 0, None, None, None, 0, None, None], '3': [67.91, None, 0, 0, 0, 0, 1, None, None, 0, None, None], '4': [67.49, None, 0, 0, 0, 0, None, None, None, 0, None, None], '5': [69.92, None, 0, 0, 0, 0, None, None, None, 0, None, None], '6': [71.14, None, 0, 0, 0, 0, None, None, None, 0, None, None], '7': [71.52, None, 0, 0, 0, 0, None, None, None, 0, None, None], '8': [72.72, None, 0, 0, 0, 0, None, None, None, 0, None, None]}}, '0:20:0:0:1:0:1': {'attributes': [], 'annotations': [], 'observations': {'9': [52.49, None, 0, 0, 0, 0, 1, None, None, 0, None, None], '0': [51.71, None, 0, 0, 0, 0, None, None, None, 0, None, None], '1': [49.99, None, 0, 0, 0, 0, None, None, None, 0, None, None], '2': [48.94, None, 0, 0, 0, 0, None, None, None, 0, None, None], '3': [46.99, None, 0, 0, 0, 0, 1, None, None, 0, None, None], '4': [46.03, None, 0, 0, 0, 0, None, None, None, 0, None, None], '5': [48.26, None, 0, 0, 0, 0, None, None, None, 0, None, None], '6': [48.43, None, 0, 0, 0, 0, None, None, None, 0, None, None], '7': [50.04, None, 0, 0, 0, 0, None, None, None, 0, None, None], '8': [50.81, None, 0, 0, 0, 0, None, None, None, 0, None, None]}}, '0:20:0:0:1:1:0': {'attributes': [], 'annotations': [], 'observations': {'9': [68.15, None, 0, 0, 0, 0, 1, None, None, 0, None, None], '0': [64.21, None, 0, 0, 0, 0, None, None, None, 0, None, None], '1': [62.32, None, 0, 0, 0, 0, None, None, None, 0, None, None], '2': [61.07, None, 0, 0, 0, 0, None, None, None, 0, None, None], '3': [59.86, None, 0, 0, 0, 0, 1, None, None, 0, None, None], '4': [59.66, None, 0, 0, 0, 0, None, None, None, 0, None, None], '5': [62.28, None, 0, 0, 0, 0, None, None, None, 0, None, None], '6': [63.14, None, 0, 0, 0, 0, None, None, None, 0, None, None], '7': [63.3, None, 0, 0, 0, 0, None, None, None, 0, None, None], '8': [64.65, None, 0, 0, 0, 0, None, None, None, 0, None, None]}}, '0:20:0:0:1:1:1': {'attributes': [], 'annotations': [], 'observations': {'9': [37.63, None, 0, 0, 0, 0, 1, None, None, 0, None, None], '0': [36.56, None, 0, 0, 0, 0, None, None, None, 0, None, None], '1': [34.83, None, 0, 0, 0, 0, None, None, None, 0, None, None], '2': [34.79, None, 0, 0, 0, 0, None, None, None, 0, None, None], '3': [34.19, None, 0, 0, 0, 0, 1, None, None, 0, None, None], '4': [34.19, None, 0, 0, 0, 0, None, None, None, 0, None, None], '5': [36.33, None, 0, 0, 0, 0, None, None, None, 0, None, None], '6': [36.54, None, 0, 0, 0, 0, None, None, None, 0, None, None], '7': [37.45, None, 0, 0, 0, 0, None, None, None, 0, None, None], '8': [38.18, None, 0, 0, 0, 0, None, None, None, 0, None, None]}}, '0:20:0:0:2:0:0': {'attributes': [], 'annotations': [], 'observations': {'9': [73.97, None, 0, 0, 0, 0, 1, None, None, 0, None, None], '0': [71.62, None, 0, 0, 0, 0, None, None, None, 0, None, None], '1': [70.22, None, 0, 0, 0, 0, None, None, None, 0, None, None], '2': [69.1, None, 0, 0, 0, 0, None, None, None, 0, None, None], '3': [67.04, None, 0, 0, 0, 0, 1, None, None, 0, None, None], '4': [69.13, None, 0, 0, 0, 0, None, None, None, 0, None, None], '5': [71.99, None, 0, 0, 0, 0, None, None, None, 0, None, None], '6': [74.17, None, 0, 0, 0, 0, None, None, None, 0, None, None], '7': [74.3, None, 0, 0, 0, 0, None, None, None, 0, None, None], '8': [74.87, None, 0, 0, 0, 0, None, None, None, 0, None, None]}}, '0:20:0:0:2:0:1': {'attributes': [], 'annotations': [], 'observations': {'9': [52.54, None, 0, 0, 0, 0, 1, None, None, 0, None, None], '0': [52.26, None, 0, 0, 0, 0, None, None, None, 0, None, None], '1': [50.33, None, 0, 0, 0, 0, None, None, None, 0, None, None], '2': [51.22, None, 0, 0, 0, 0, None, None, None, 0, None, None], '3': [50.18, None, 0, 0, 0, 0, 1, None, None, 0, None, None], '4': [51.15, None, 0, 0, 0, 0, None, None, None, 0, None, None], '5': [54.36, None, 0, 0, 0, 0, None, None, None, 0, None, None], '6': [55.54, None, 0, 0, 0, 0, None, None, None, 0, None, None], '7': [55.65, None, 0, 0, 0, 0, None, None, None, 0, None, None], '8': [56.86, None, 0, 0, 0, 0, None, None, None, 0, None, None]}}, '0:20:0:0:2:1:0': {'attributes': [], 'annotations': [], 'observations': {'9': [68.36, None, 0, 0, 0, 0, 1, None, None, 0, None, None], '0': [65.6, None, 0, 0, 0, 0, None, None, None, 0, None, None], '1': [63.91, None, 0, 0, 0, 0, None, None, None, 0, None, None], '2': [62.53, None, 0, 0, 0, 0, None, None, None, 0, None, None], '3': [60.66, None, 0, 0, 0, 0, 1, None, None, 0, None, None], '4': [62.1, None, 0, 0, 0, 0, None, None, None, 0, None, None], '5': [64.84, None, 0, 0, 0, 0, None, None, None, 0, None, None], '6': [67.08, None, 0, 0, 0, 0, None, None, None, 0, None, None], '7': [66.79, None, 0, 0, 0, 0, None, None, None, 0, None, None], '8': [67.25, None, 0, 0, 0, 0, None, None, None, 0, None, None]}}, '0:20:0:0:2:1:1': {'attributes': [], 'annotations': [], 'observations': {'9': [42.66, None, 0, 0, 0, 0, 1, None, None, 0, None, None], '0': [42.36, None, 0, 0, 0, 0, None, None, None, 0, None, None], '1': [40.23, None, 0, 0, 0, 0, None, None, None, 0, None, None], '2': [41.07, None, 0, 0, 0, 0, None, None, None, 0, None, None], '3': [40.92, None, 0, 0, 0, 0, 1, None, None, 0, None, None], '4': [40.87, None, 0, 0, 0, 0, None, None, None, 0, None, None], '5': [43.56, None, 0, 0, 0, 0, None, None, None, 0, None, None], '6': [44.66, None, 0, 0, 0, 0, None, None, None, 0, None, None], '7': [43.88, None, 0, 0, 0, 0, None, None, None, 0, None, None], '8': [45.09, None, 0, 0, 0, 0, None, None, None, 0, None, None]}}, '0:21:0:0:0:0:0': {'attributes': [], 'annotations': [], 'observations': {'9': [57.64, None, 0, 0, 0, 0, None, None, None, 0, None, None], '0': [58.73, None, 0, 0, 0, 0, None, None, None, 0, None, None], '1': [55.92, None, 0, 0, 0, 0, None, None, None, 0, None, None], '2': [57.61, None, 0, 0, 0, 0, None, None, None, 0, None, None], '4': [59.83, None, 0, 0, 0, 0, None, None, None, 0, None, None], '5': [61.93, None, 0, 0, 0, 0, None, None, None, 0, None, None], '6': [63.78, None, 0, 0, 0, 0, None, None, None, 0, None, None], '7': [63.35, None, 0, 0, 0, 0, None, None, None, 0, None, None]}}, '0:21:0:0:0:0:1': {'attributes': [], 'annotations': [], 'observations': {'9': [56.19, None, 0, 0, 0, 0, None, None, None, 0, None, None], '0': [57.41, None, 0, 0, 0, 0, None, None, None, 0, None, None], '1': [54.93, None, 0, 0, 0, 0, None, None, None, 0, None, None], '2': [56.64, None, 0, 0, 0, 0, None, None, None, 0, None, None], '4': [59.01, None, 0, 0, 0, 0, None, None, None, 0, None, None], '5': [61.54, None, 0, 0, 0, 0, None, None, None, 0, None, None], '6': [62.9, None, 0, 0, 0, 0, None, None, None, 0, None, None], '7': [62.52, None, 0, 0, 0, 0, None, None, None, 0, None, None]}}, '0:21:0:0:0:1:0': {'attributes': [], 'annotations': [], 'observations': {'9': [43.11, None, 0, 0, 0, 0, None, None, None, 0, None, None], '0': [43.83, None, 0, 0, 0, 0, None, None, None, 0, None, None], '1': [41.62, None, 0, 0, 0, 0, None, None, None, 0, None, None], '2': [42.86, None, 0, 0, 0, 0, None, None, None, 0, None, None], '4': [47.2, None, 0, 0, 0, 0, None, None, None, 0, None, None], '5': [50.46, None, 0, 0, 0, 0, None, None, None, 0, None, None], '6': [52.89, None, 0, 0, 0, 0, None, None, None, 0, None, None], '7': [54.16, None, 0, 0, 0, 0, None, None, None, 0, None, None]}}, '0:21:0:0:0:1:1': {'attributes': [], 'annotations': [], 'observations': {'9': [41.18, None, 0, 0, 0, 0, None, None, None, 0, None, None], '0': [42.1, None, 0, 0, 0, 0, None, None, None, 0, None, None], '1': [40.37, None, 0, 0, 0, 0, None, None, None, 0, None, None], '2': [41.59, None, 0, 0, 0, 0, None, None, None, 0, None, None], '4': [46.21, None, 0, 0, 0, 0, None, None, None, 0, None, None], '5': [49.95, None, 0, 0, 0, 0, None, None, None, 0, None, None], '6': [51.78, None, 0, 0, 0, 0, None, None, None, 0, None, None], '7': [53.12, None, 0, 0, 0, 0, None, None, None, 0, None, None]}}, '0:21:0:0:1:0:0': {'attributes': [], 'annotations': [], 'observations': {'9': [57.82, None, 0, 0, 0, 0, None, None, None, 0, None, None], '0': [59.5, None, 0, 0, 0, 0, None, None, None, 0, None, None], '1': [57.05, None, 0, 0, 0, 0, None, None, None, 0, None, None], '2': [57.95, None, 0, 0, 0, 0, None, None, None, 0, None, None], '4': [60.25, None, 0, 0, 0, 0, None, None, None, 0, None, None], '5': [63.19, None, 0, 0, 0, 0, None, None, None, 0, None, None], '6': [64.43, None, 0, 0, 0, 0, None, None, None, 0, None, None], '7': [65.61, None, 0, 0, 0, 0, None, None, None, 0, None, None]}}, '0:21:0:0:1:0:1': {'attributes': [], 'annotations': [], 'observations': {'9': [56.65, None, 0, 0, 0, 0, None, None, None, 0, None, None], '0': [58.45, None, 0, 0, 0, 0, None, None, None, 0, None, None], '1': [56.31, None, 0, 0, 0, 0, None, None, None, 0, None, None], '2': [57.14, None, 0, 0, 0, 0, None, None, None, 0, None, None], '4': [59.58, None, 0, 0, 0, 0, None, None, None, 0, None, None], '5': [62.62, None, 0, 0, 0, 0, None, None, None, 0, None, None], '6': [63.73, None, 0, 0, 0, 0, None, None, None, 0, None, None], '7': [64.95, None, 0, 0, 0, 0, None, None, None, 0, None, None]}}, '0:21:0:0:1:1:0': {'attributes': [], 'annotations': [], 'observations': {'9': [46.38, None, 0, 0, 0, 0, None, None, None, 0, None, None], '0': [47.8, None, 0, 0, 0, 0, None, None, None, 0, None, None], '1': [45.43, None, 0, 0, 0, 0, None, None, None, 0, None, None], '2': [46.45, None, 0, 0, 0, 0, None, None, None, 0, None, None], '4': [50.52, None, 0, 0, 0, 0, None, None, None, 0, None, None], '5': [53.7, None, 0, 0, 0, 0, None, None, None, 0, None, None], '6': [55.41, None, 0, 0, 0, 0, None, None, None, 0, None, None], '7': [57.08, None, 0, 0, 0, 0, None, None, None, 0, None, None]}}, '0:21:0:0:1:1:1': {'attributes': [], 'annotations': [], 'observations': {'9': [44.89, None, 0, 0, 0, 0, None, None, None, 0, None, None], '0': [46.45, None, 0, 0, 0, 0, None, None, None, 0, None, None], '1': [44.51, None, 0, 0, 0, 0, None, None, None, 0, None, None], '2': [45.43, None, 0, 0, 0, 0, None, None, None, 0, None, None], '4': [49.73, None, 0, 0, 0, 0, None, None, None, 0, None, None], '5': [52.98, None, 0, 0, 0, 0, None, None, None, 0, None, None], '6': [54.54, None, 0, 0, 0, 0, None, None, None, 0, None, None], '7': [56.26, None, 0, 0, 0, 0, None, None, None, 0, None, None]}}, '0:21:0:0:2:0:0': {'attributes': [], 'annotations': [], 'observations': {'9': [56.88, None, 0, 0, 0, 0, None, None, None, 0, None, None], '0': [55.58, None, 0, 0, 0, 0, None, None, None, 0, None, None], '1': [51.32, None, 0, 0, 0, 0, None, None, None, 0, None, None], '2': [56.3, None, 0, 0, 0, 0, None, None, None, 0, None, None], '4': [58.19, None, 0, 0, 0, 0, None, None, None, 0, None, None], '5': [57.21, None, 0, 0, 0, 0, None, None, None, 0, None, None], '6': [61.29, None, 0, 0, 0, 0, None, None, None, 0, None, None], '7': [53.2, None, 0, 0, 0, 0, None, None, None, 0, None, None]}}, '0:21:0:0:2:0:1': {'attributes': [], 'annotations': [], 'observations': {'9': [54.31, None, 0, 0, 0, 0, None, None, None, 0, None, None], '0': [53.21, None, 0, 0, 0, 0, None, None, None, 0, None, None], '1': [49.32, None, 0, 0, 0, 0, None, None, None, 0, None, None], '2': [54.7, None, 0, 0, 0, 0, None, None, None, 0, None, None], '4': [56.82, None, 0, 0, 0, 0, None, None, None, 0, None, None], '5': [57.49, None, 0, 0, 0, 0, None, None, None, 0, None, None], '6': [59.73, None, 0, 0, 0, 0, None, None, None, 0, None, None], '7': [51.61, None, 0, 0, 0, 0, None, None, None, 0, None, None]}}, '0:21:0:0:2:1:0': {'attributes': [], 'annotations': [], 'observations': {'9': [25.46, None, 0, 0, 0, 0, None, None, None, 0, None, None], '0': [22.78, None, 0, 0, 0, 0, None, None, None, 0, None, None], '1': [22.92, None, 0, 0, 0, 0, None, None, None, 0, None, None], '2': [24.28, None, 0, 0, 0, 0, None, None, None, 0, None, None], '4': [30.49, None, 0, 0, 0, 0, None, None, None, 0, None, None], '5': [35.21, None, 0, 0, 0, 0, None, None, None, 0, None, None], '6': [40.98, None, 0, 0, 0, 0, None, None, None, 0, None, None], '7': [41.13, None, 0, 0, 0, 0, None, None, None, 0, None, None]}}, '0:21:0:0:2:1:1': {'attributes': [], 'annotations': [], 'observations': {'9': [21.14, None, 0, 0, 0, 0, None, None, None, 0, None, None], '0': [19.02, None, 0, 0, 0, 0, None, None, None, 0, None, None], '1': [20.06, None, 0, 0, 0, 0, None, None, None, 0, None, None], '2': [21.73, None, 0, 0, 0, 0, None, None, None, 0, None, None], '4': [28.43, None, 0, 0, 0, 0, None, None, None, 0, None, None], '5': [35.72, None, 0, 0, 0, 0, None, None, None, 0, None, None], '6': [38.77, None, 0, 0, 0, 0, None, None, None, 0, None, None], '7': [39.14, None, 0, 0, 0, 0, None, None, None, 0, None, None]}}, '0:22:0:0:0:0:1': {'attributes': [], 'annotations': [], 'observations': {'2': [38.2, None, 0, 0, 0, 0, None, None, None, 0, None, None]}}, '0:22:0:0:0:1:1': {'attributes': [], 'annotations': [], 'observations': {'2': [53.21, None, 0, 0, 0, 0, None, None, None, 0, None, None]}}, '0:22:0:0:1:0:1': {'attributes': [], 'annotations': [], 'observations': {'2': [30.35, None, 0, 0, 0, 0, None, None, None, 0, None, None]}}, '0:22:0:0:1:1:1': {'attributes': [], 'annotations': [], 'observations': {'2': [35.02, None, 0, 0, 0, 0, None, None, None, 0, None, None]}}, '0:22:0:0:2:0:1': {'attributes': [], 'annotations': [], 'observations': {'2': [47.38, None, 0, 0, 0, 0, None, None, None, 0, None, None]}}, '0:22:0:0:2:1:1': {'attributes': [], 'annotations': [], 'observations': {'2': [66.49, None, 0, 0, 0, 0, None, None, None, 0, None, None]}}, '0:23:0:0:0:0:1': {'attributes': [], 'annotations': [], 'observations': {'5': [37.08, None, 0, 0, 0, 0, None, None, None, 0, None, None]}}, '0:23:0:0:0:1:1': {'attributes': [], 'annotations': [], 'observations': {'5': [29.29, None, 0, 0, 0, 0, None, None, None, 0, None, None]}}, '0:23:0:0:1:0:1': {'attributes': [], 'annotations': [], 'observations': {'5': [36.75, None, 0, 0, 0, 0, None, None, None, 0, None, None]}}, '0:23:0:0:1:1:1': {'attributes': [], 'annotations': [], 'observations': {'5': [26.6, None, 0, 0, 0, 0, None, None, None, 0, None, None]}}, '0:23:0:0:2:0:1': {'attributes': [], 'annotations': [], 'observations': {'5': [37.75, None, 0, 0, 0, 0, None, None, None, 0, None, None]}}, '0:23:0:0:2:1:1': {'attributes': [], 'annotations': [], 'observations': {'5': [33.8, None, 0, 0, 0, 0, None, None, None, 0, None, None]}}, '0:24:0:0:0:0:0': {'attributes': [], 'annotations': [], 'observations': {'2': [92.12, None, 0, 0, 0, 0, None, None, None, 0, None, None]}}, '0:24:0:0:0:0:1': {'attributes': [], 'annotations': [], 'observations': {'2': [89.98, None, 0, 0, 0, 0, None, None, None, 0, None, None]}}, '0:24:0:0:0:1:0': {'attributes': [], 'annotations': [], 'observations': {'2': [85.95, None, 0, 0, 0, 0, None, None, None, 0, None, None]}}, '0:24:0:0:0:1:1': {'attributes': [], 'annotations': [], 'observations': {'2': [82.22, None, 0, 0, 0, 0, None, None, None, 0, None, None]}}, '0:24:0:0:1:0:0': {'attributes': [], 'annotations': [], 'observations': {'2': [88.76, None, 0, 0, 0, 0, None, None, None, 0, None, None]}}, '0:24:0:0:1:0:1': {'attributes': [], 'annotations': [], 'observations': {'2': [86, None, 0, 0, 0, 0, None, None, None, 0, None, None]}}, '0:24:0:0:1:1:0': {'attributes': [], 'annotations': [], 'observations': {'2': [78.72, None, 0, 0, 0, 0, None, None, None, 0, None, None]}}, '0:24:0:0:1:1:1': {'attributes': [], 'annotations': [], 'observations': {'2': [73.63, None, 0, 0, 0, 0, None, None, None, 0, None, None]}}, '0:24:0:0:2:0:0': {'attributes': [], 'annotations': [], 'observations': {'2': [95.22, None, 0, 0, 0, 0, None, None, None, 0, None, None]}}, '0:24:0:0:2:0:1': {'attributes': [], 'annotations': [], 'observations': {'2': [93.65, None, 0, 0, 0, 0, None, None, None, 0, None, None]}}, '0:24:0:0:2:1:0': {'attributes': [], 'annotations': [], 'observations': {'2': [91.85, None, 0, 0, 0, 0, None, None, None, 0, None, None]}}, '0:24:0:0:2:1:1': {'attributes': [], 'annotations': [], 'observations': {'2': [89.23, None, 0, 0, 0, 0, None, None, None, 0, None, None]}}, '0:25:0:0:0:0:0': {'attributes': [], 'annotations': [], 'observations': {'1': [76.49, None, 0, 0, 0, 0, 1, None, None, 0, None, None], '7': [77.63, None, 0, 0, 0, 12, None, None, None, 0, None, None]}}, '0:25:0:0:0:0:1': {'attributes': [], 'annotations': [], 'observations': {'1': [69.3, None, 0, 0, 0, 0, 1, None, None, 0, None, None], '7': [60.82, None, 0, 0, 0, 13, None, None, None, 0, None, None]}}, '0:25:0:0:0:1:0': {'attributes': [], 'annotations': [], 'observations': {'1': [68.19, None, 0, 0, 0, 0, 1, None, None, 0, None, None], '7': [75.89, None, 0, 0, 0, 13, None, None, None, 0, None, None]}}, '0:25:0:0:0:1:1': {'attributes': [], 'annotations': [], 'observations': {'1': [58.79, None, 0, 0, 0, 0, 1, None, None, 0, None, None], '7': [58.75, None, 0, 0, 0, 13, None, None, None, 0, None, None]}}, '0:25:0:0:1:0:0': {'attributes': [], 'annotations': [], 'observations': {'1': [70.28, None, 0, 0, 0, 0, 1, None, None, 0, None, None], '7': [75.49, None, 0, 0, 0, 12, None, None, None, 0, None, None]}}, '0:25:0:0:1:0:1': {'attributes': [], 'annotations': [], 'observations': {'1': [61.33, None, 0, 0, 0, 0, 1, None, None, 0, None, None], '7': [58.2, None, 0, 0, 0, 13, None, None, None, 0, None, None]}}, '0:25:0:0:1:1:0': {'attributes': [], 'annotations': [], 'observations': {'1': [62.02, None, 0, 0, 0, 0, 1, None, None, 0, None, None], '7': [74.2, None, 0, 0, 0, 13, None, None, None, 0, None, None]}}, '0:25:0:0:1:1:1': {'attributes': [], 'annotations': [], 'observations': {'1': [50.46, None, 0, 0, 0, 0, 1, None, None, 0, None, None], '7': [56.77, None, 0, 0, 0, 13, None, None, None, 0, None, None]}}, '0:25:0:0:2:0:0': {'attributes': [], 'annotations': [], 'observations': {'1': [84.41, None, 0, 0, 0, 0, 1, None, None, 0, None, None], '7': [81.49, None, 0, 0, 0, 13, None, None, None, 0, None, None]}}, '0:25:0:0:2:0:1': {'attributes': [], 'annotations': [], 'observations': {'1': [79.48, None, 0, 0, 0, 0, 1, None, None, 0, None, None], '7': [65.56, None, 0, 0, 0, 12, None, None, None, 0, None, None]}}, '0:25:0:0:2:1:0': {'attributes': [], 'annotations': [], 'observations': {'1': [77.61, None, 0, 0, 0, 0, 1, None, None, 0, None, None], '7': [79.17, None, 0, 0, 0, 13, None, None, None, 0, None, None]}}, '0:25:0:0:2:1:1': {'attributes': [], 'annotations': [], 'observations': {'1': [71.53, None, 0, 0, 0, 0, 1, None, None, 0, None, None], '7': [62.6, None, 0, 0, 0, 12, None, None, None, 0, None, None]}}, '0:26:0:0:0:0:0': {'attributes': [], 'annotations': [], 'observations': {'9': [80.93, None, 0, 0, 0, 0, 1, None, None, 0, None, None], '0': [81.21, None, 0, 0, 0, 0, None, None, None, 0, None, None], '1': [82.66, None, 0, 0, 0, 0, None, None, None, 0, None, None], '2': [80.53, None, 0, 0, 0, 0, 1, None, None, 0, None, None], '3': [78.06, None, 0, 0, 0, 0, 1, None, None, 0, None, None], '4': [79.18, None, 0, 0, 0, 0, None, None, None, 0, None, None], '5': [79.21, None, 0, 0, 0, 0, None, None, None, 0, None, None], '6': [80.11, None, 0, 0, 0, 0, None, None, None, 0, None, None]}}, '0:26:0:0:0:0:1': {'attributes': [], 'annotations': [], 'observations': {'9': [73.32, None, 0, 0, 0, 0, 1, None, None, 0, None, None], '0': [72.64, None, 0, 0, 0, 0, None, None, None, 0, None, None], '1': [76.66, None, 0, 0, 0, 0, None, None, None, 0, None, None], '2': [72.3, None, 0, 0, 0, 0, 1, None, None, 0, None, None], '3': [69.35, None, 0, 0, 0, 0, 1, None, None, 0, None, None], '4': [70.51, None, 0, 0, 0, 0, None, None, None, 0, None, None], '5': [70.85, None, 0, 0, 0, 0, None, None, None, 0, None, None], '6': [72.3, None, 0, 0, 0, 0, None, None, None, 0, None, None]}}, '0:26:0:0:0:1:0': {'attributes': [], 'annotations': [], 'observations': {'9': [74.05, None, 0, 0, 0, 0, 1, None, None, 0, None, None], '0': [73.36, None, 0, 0, 0, 0, None, None, None, 0, None, None], '1': [75.92, None, 0, 0, 0, 0, None, None, None, 0, None, None], '2': [73.4, None, 0, 0, 0, 0, 1, None, None, 0, None, None], '3': [69.87, None, 0, 0, 0, 0, 1, None, None, 0, None, None], '4': [71.61, None, 0, 0, 0, 0, None, None, None, 0, None, None], '5': [72.39, None, 0, 0, 0, 0, None, None, None, 0, None, None], '6': [72.78, None, 0, 0, 0, 0, None, None, None, 0, None, None]}}, '0:26:0:0:0:1:1': {'attributes': [], 'annotations': [], 'observations': {'9': [63.71, None, 0, 0, 0, 0, 1, None, None, 0, None, None], '0': [60.78, None, 0, 0, 0, 0, None, None, None, 0, None, None], '1': [67.54, None, 0, 0, 0, 0, None, None, None, 0, None, None], '2': [62.25, None, 0, 0, 0, 0, 1, None, None, 0, None, None], '3': [57.73, None, 0, 0, 0, 0, 1, None, None, 0, None, None], '4': [59.91, None, 0, 0, 0, 0, None, None, None, 0, None, None], '5': [61.53, None, 0, 0, 0, 0, None, None, None, 0, None, None], '6': [62.26, None, 0, 0, 0, 0, None, None, None, 0, None, None]}}, '0:26:0:0:1:0:0': {'attributes': [], 'annotations': [], 'observations': {'9': [80.12, None, 0, 0, 0, 0, 1, None, None, 0, None, None], '0': [80.8, None, 0, 0, 0, 0, None, None, None, 0, None, None], '1': [81.97, None, 0, 0, 0, 0, None, None, None, 0, None, None], '2': [80.96, None, 0, 0, 0, 0, 1, None, None, 0, None, None], '3': [77.78, None, 0, 0, 0, 0, 1, None, None, 0, None, None], '4': [79.65, None, 0, 0, 0, 0, None, None, None, 0, None, None], '5': [78.73, None, 0, 0, 0, 0, None, None, None, 0, None, None], '6': [80.08, None, 0, 0, 0, 0, None, None, None, 0, None, None]}}, '0:26:0:0:1:0:1': {'attributes': [], 'annotations': [], 'observations': {'9': [73.15, None, 0, 0, 0, 0, 1, None, None, 0, None, None], '0': [72.79, None, 0, 0, 0, 0, None, None, None, 0, None, None], '1': [76.13, None, 0, 0, 0, 0, None, None, None, 0, None, None], '2': [73.32, None, 0, 0, 0, 0, 1, None, None, 0, None, None], '3': [69.29, None, 0, 0, 0, 0, 1, None, None, 0, None, None], '4': [71.06, None, 0, 0, 0, 0, None, None, None, 0, None, None], '5': [70.59, None, 0, 0, 0, 0, None, None, None, 0, None, None], '6': [72.3, None, 0, 0, 0, 0, None, None, None, 0, None, None]}}, '0:26:0:0:1:1:0': {'attributes': [], 'annotations': [], 'observations': {'9': [68.68, None, 0, 0, 0, 0, 1, None, None, 0, None, None], '0': [68.08, None, 0, 0, 0, 0, None, None, None, 0, None, None], '1': [70.62, None, 0, 0, 0, 0, None, None, None, 0, None, None], '2': [69.38, None, 0, 0, 0, 0, 1, None, None, 0, None, None], '3': [64.49, None, 0, 0, 0, 0, 1, None, None, 0, None, None], '4': [68.02, None, 0, 0, 0, 0, None, None, None, 0, None, None], '5': [67.56, None, 0, 0, 0, 0, None, None, None, 0, None, None], '6': [68.46, None, 0, 0, 0, 0, None, None, None, 0, None, None]}}, '0:26:0:0:1:1:1': {'attributes': [], 'annotations': [], 'observations': {'9': [57.71, None, 0, 0, 0, 0, 1, None, None, 0, None, None], '0': [54.39, None, 0, 0, 0, 0, None, None, None, 0, None, None], '1': [60.86, None, 0, 0, 0, 0, None, None, None, 0, None, None], '2': [57.22, None, 0, 0, 0, 0, 1, None, None, 0, None, None], '3': [50.65, None, 0, 0, 0, 0, 1, None, None, 0, None, None], '4': [54.55, None, 0, 0, 0, 0, None, None, None, 0, None, None], '5': [55.55, None, 0, 0, 0, 0, None, None, None, 0, None, None], '6': [56.23, None, 0, 0, 0, 0, None, None, None, 0, None, None]}}, '0:26:0:0:2:0:0': {'attributes': [], 'annotations': [], 'observations': {'9': [82.36, None, 0, 0, 0, 0, 1, None, None, 0, None, None], '0': [82.04, None, 0, 0, 0, 0, None, None, None, 0, None, None], '1': [83.83, None, 0, 0, 0, 0, None, None, None, 0, None, None], '2': [79.76, None, 0, 0, 0, 0, 1, None, None, 0, None, None], '3': [78.59, None, 0, 0, 0, 0, 1, None, None, 0, None, None], '4': [78.22, None, 0, 0, 0, 0, None, None, None, 0, None, None], '5': [80.11, None, 0, 0, 0, 0, None, None, None, 0, None, None], '6': [80.16, None, 0, 0, 0, 0, None, None, None, 0, None, None]}}, '0:26:0:0:2:0:1': {'attributes': [], 'annotations': [], 'observations': {'9': [73.61, None, 0, 0, 0, 0, 1, None, None, 0, None, None], '0': [72.34, None, 0, 0, 0, 0, None, None, None, 0, None, None], '1': [77.58, None, 0, 0, 0, 0, None, None, None, 0, None, None], '2': [70.43, None, 0, 0, 0, 0, 1, None, None, 0, None, None], '3': [69.44, None, 0, 0, 0, 0, 1, None, None, 0, None, None], '4': [69.4, None, 0, 0, 0, 0, None, None, None, 0, None, None], '5': [71.34, None, 0, 0, 0, 0, None, None, None, 0, None, None], '6': [72.32, None, 0, 0, 0, 0, None, None, None, 0, None, None]}}, '0:26:0:0:2:1:0': {'attributes': [], 'annotations': [], 'observations': {'9': [80.13, None, 0, 0, 0, 0, 1, None, None, 0, None, None], '0': [79.75, None, 0, 0, 0, 0, None, None, None, 0, None, None], '1': [81.81, None, 0, 0, 0, 0, None, None, None, 0, None, None], '2': [78.08, None, 0, 0, 0, 0, 1, None, None, 0, None, None], '3': [76.29, None, 0, 0, 0, 0, 1, None, None, 0, None, None], '4': [76.17, None, 0, 0, 0, 0, None, None, None, 0, None, None], '5': [78.45, None, 0, 0, 0, 0, None, None, None, 0, None, None], '6': [78.25, None, 0, 0, 0, 0, None, None, None, 0, None, None]}}, '0:26:0:0:2:1:1': {'attributes': [], 'annotations': [], 'observations': {'9': [70.52, None, 0, 0, 0, 0, 1, None, None, 0, None, None], '0': [68.53, None, 0, 0, 0, 0, None, None, None, 0, None, None], '1': [74.95, None, 0, 0, 0, 0, None, None, None, 0, None, None], '2': [68.12, None, 0, 0, 0, 0, 1, None, None, 0, None, None], '3': [66.2, None, 0, 0, 0, 0, 1, None, None, 0, None, None], '4': [66.75, None, 0, 0, 0, 0, None, None, None, 0, None, None], '5': [69.04, None, 0, 0, 0, 0, None, None, None, 0, None, None], '6': [69.89, None, 0, 0, 0, 0, None, None, None, 0, None, None]}}, '0:27:0:0:0:0:0': {'attributes': [], 'annotations': [], 'observations': {'7': [58.07, None, 0, 0, 0, 16, None, None, None, 0, None, None]}}, '0:27:0:0:0:0:1': {'attributes': [], 'annotations': [], 'observations': {'7': [35.62, None, 0, 0, 0, 17, None, None, None, 0, None, None]}}, '0:27:0:0:0:1:0': {'attributes': [], 'annotations': [], 'observations': {'7': [53.91, None, 0, 0, 0, 17, None, None, None, 0, None, None]}}, '0:27:0:0:0:1:1': {'attributes': [], 'annotations': [], 'observations': {'7': [29.78, None, 0, 0, 0, 16, None, None, None, 0, None, None]}}, '0:27:0:0:1:0:0': {'attributes': [], 'annotations': [], 'observations': {'7': [63.04, None, 0, 0, 0, 17, None, None, None, 0, None, None]}}, '0:27:0:0:1:0:1': {'attributes': [], 'annotations': [], 'observations': {'7': [38.59, None, 0, 0, 0, 17, None, None, None, 0, None, None]}}, '0:27:0:0:1:1:0': {'attributes': [], 'annotations': [], 'observations': {'7': [58.69, None, 0, 0, 0, 16, None, None, None, 0, None, None]}}, '0:27:0:0:1:1:1': {'attributes': [], 'annotations': [], 'observations': {'7': [31.79, None, 0, 0, 0, 17, None, None, None, 0, None, None]}}, '0:27:0:0:2:0:0': {'attributes': [], 'annotations': [], 'observations': {'7': [50.41, None, 0, 0, 0, 16, None, None, None, 0, None, None]}}, '0:27:0:0:2:0:1': {'attributes': [], 'annotations': [], 'observations': {'7': [31.03, None, 0, 0, 0, 17, None, None, None, 0, None, None]}}, '0:27:0:0:2:1:0': {'attributes': [], 'annotations': [], 'observations': {'7': [47.53, None, 0, 0, 0, 16, None, None, None, 0, None, None]}}, '0:27:0:0:2:1:1': {'attributes': [], 'annotations': [], 'observations': {'7': [27.09, None, 0, 0, 0, 16, None, None, None, 0, None, None]}}, '0:28:0:0:0:0:0': {'attributes': [], 'annotations': [], 'observations': {'9': [80.35, None, 0, 0, 0, 0, None, None, None, 0, None, None], '0': [81.91, None, 0, 0, 0, 0, None, None, None, 0, None, None], '1': [83.73, None, 0, 0, 0, 0, None, None, None, 0, None, None], '2': [93.03, None, 0, 0, 0, 0, None, None, None, 0, None, None], '3': [91.71, None, 0, 0, 0, 0, None, None, None, 0, None, None], '4': [88.79, None, 0, 0, 0, 0, None, None, None, 0, None, None], '5': [90.18, None, 0, 0, 0, 0, None, None, None, 0, None, None], '6': [82.61, None, 0, 0, 0, 18, None, None, None, 0, None, None]}}, '0:28:0:0:0:0:1': {'attributes': [], 'annotations': [], 'observations': {'9': [79.03, None, 0, 0, 0, 0, None, None, None, 0, None, None], '0': [79.95, None, 0, 0, 0, 0, None, None, None, 0, None, None], '1': [81.77, None, 0, 0, 0, 0, None, None, None, 0, None, None], '2': [87.97, None, 0, 0, 0, 0, None, None, None, 0, None, None], '3': [86.08, None, 0, 0, 0, 0, None, None, None, 0, None, None], '4': [82.81, None, 0, 0, 0, 0, None, None, None, 0, None, None], '5': [83.88, None, 0, 0, 0, 0, None, None, None, 0, None, None], '6': [80.2, None, 0, 0, 0, 19, None, None, None, 0, None, None]}}, '0:28:0:0:0:1:0': {'attributes': [], 'annotations': [], 'observations': {'9': [71.32, None, 0, 0, 0, 0, None, None, None, 0, None, None], '0': [73.14, None, 0, 0, 0, 0, None, None, None, 0, None, None], '1': [75.22, None, 0, 0, 0, 0, None, None, None, 0, None, None], '2': [90, None, 0, 0, 0, 0, None, None, None, 0, None, None], '3': [88.75, None, 0, 0, 0, 0, None, None, None, 0, None, None], '4': [85.67, None, 0, 0, 0, 0, None, None, None, 0, None, None], '5': [87.46, None, 0, 0, 0, 0, None, None, None, 0, None, None], '6': [75.56, None, 0, 0, 0, 19, None, None, None, 0, None, None]}}, '0:28:0:0:0:1:1': {'attributes': [], 'annotations': [], 'observations': {'9': [69.31, None, 0, 0, 0, 0, None, None, None, 0, None, None], '0': [70.13, None, 0, 0, 0, 0, None, None, None, 0, None, None], '1': [72.13, None, 0, 0, 0, 0, None, None, None, 0, None, None], '2': [82.28, None, 0, 0, 0, 0, None, None, None, 0, None, None], '3': [80.84, None, 0, 0, 0, 0, None, None, None, 0, None, None], '4': [77.28, None, 0, 0, 0, 0, None, None, None, 0, None, None], '5': [78.79, None, 0, 0, 0, 0, None, None, None, 0, None, None], '6': [72.01, None, 0, 0, 0, 19, None, None, None, 0, None, None]}}, '0:28:0:0:1:0:0': {'attributes': [], 'annotations': [], 'observations': {'9': [82.32, None, 0, 0, 0, 0, None, None, None, 0, None, None], '0': [84.28, None, 0, 0, 0, 0, None, None, None, 0, None, None], '1': [85.73, None, 0, 0, 0, 0, None, None, None, 0, None, None], '2': [93.54, None, 0, 0, 0, 0, None, None, None, 0, None, None], '3': [92.04, None, 0, 0, 0, 0, None, None, None, 0, None, None], '4': [89.49, None, 0, 0, 0, 0, None, None, None, 0, None, None], '5': [90.69, None, 0, 0, 0, 0, None, None, None, 0, None, None], '6': [83.61, None, 0, 0, 0, 18, None, None, None, 0, None, None]}}, '0:28:0:0:1:0:1': {'attributes': [], 'annotations': [], 'observations': {'9': [81.36, None, 0, 0, 0, 0, None, None, None, 0, None, None], '0': [82.98, None, 0, 0, 0, 0, None, None, None, 0, None, None], '1': [84.33, None, 0, 0, 0, 0, None, None, None, 0, None, None], '2': [90.11, None, 0, 0, 0, 0, None, None, None, 0, None, None], '3': [88.26, None, 0, 0, 0, 0, None, None, None, 0, None, None], '4': [84.98, None, 0, 0, 0, 0, None, None, None, 0, None, None], '5': [85.97, None, 0, 0, 0, 0, None, None, None, 0, None, None], '6': [82.12, None, 0, 0, 0, 19, None, None, None, 0, None, None]}}, '0:28:0:0:1:1:0': {'attributes': [], 'annotations': [], 'observations': {'9': [68.21, None, 0, 0, 0, 0, None, None, None, 0, None, None], '0': [71.03, None, 0, 0, 0, 0, None, None, None, 0, None, None], '1': [72.75, None, 0, 0, 0, 0, None, None, None, 0, None, None], '2': [88.46, None, 0, 0, 0, 0, None, None, None, 0, None, None], '3': [87.16, None, 0, 0, 0, 0, None, None, None, 0, None, None], '4': [83.31, None, 0, 0, 0, 0, None, None, None, 0, None, None], '5': [85.5, None, 0, 0, 0, 0, None, None, None, 0, None, None], '6': [71.71, None, 0, 0, 0, 19, None, None, None, 0, None, None]}}, '0:28:0:0:1:1:1': {'attributes': [], 'annotations': [], 'observations': {'9': [66.42, None, 0, 0, 0, 0, None, None, None, 0, None, None], '0': [68.5, None, 0, 0, 0, 0, None, None, None, 0, None, None], '1': [69.93, None, 0, 0, 0, 0, None, None, None, 0, None, None], '2': [81.77, None, 0, 0, 0, 0, None, None, None, 0, None, None], '3': [80.76, None, 0, 0, 0, 0, None, None, None, 0, None, None], '4': [75.56, None, 0, 0, 0, 0, None, None, None, 0, None, None], '5': [77.7, None, 0, 0, 0, 0, None, None, None, 0, None, None], '6': [68.98, None, 0, 0, 0, 18, None, None, None, 0, None, None]}}, '0:28:0:0:2:0:0': {'attributes': [], 'annotations': [], 'observations': {'9': [76.91, None, 0, 0, 0, 0, None, None, None, 0, None, None], '0': [77.53, None, 0, 0, 0, 0, None, None, None, 0, None, None], '1': [79.98, None, 0, 0, 0, 0, None, None, None, 0, None, None], '2': [92.15, None, 0, 0, 0, 0, None, None, None, 0, None, None], '3': [91.19, None, 0, 0, 0, 0, None, None, None, 0, None, None], '4': [87.69, None, 0, 0, 0, 0, None, None, None, 0, None, None], '5': [89.38, None, 0, 0, 0, 0, None, None, None, 0, None, None], '6': [80.99, None, 0, 0, 0, 18, None, None, None, 0, None, None]}}, '0:28:0:0:2:0:1': {'attributes': [], 'annotations': [], 'observations': {'9': [74.94, None, 0, 0, 0, 0, None, None, None, 0, None, None], '0': [74.35, None, 0, 0, 0, 0, None, None, None, 0, None, None], '1': [76.97, None, 0, 0, 0, 0, None, None, None, 0, None, None], '2': [84.29, None, 0, 0, 0, 0, None, None, None, 0, None, None], '3': [82.57, None, 0, 0, 0, 0, None, None, None, 0, None, None], '4': [79.39, None, 0, 0, 0, 0, None, None, None, 0, None, None], '5': [80.6, None, 0, 0, 0, 0, None, None, None, 0, None, None], '6': [77.06, None, 0, 0, 0, 19, None, None, None, 0, None, None]}}, '0:28:0:0:2:1:0': {'attributes': [], 'annotations': [], 'observations': {'9': [74.44, None, 0, 0, 0, 0, None, None, None, 0, None, None], '0': [75.32, None, 0, 0, 0, 0, None, None, None, 0, None, None], '1': [77.79, None, 0, 0, 0, 0, None, None, None, 0, None, None], '2': [91.52, None, 0, 0, 0, 0, None, None, None, 0, None, None], '3': [90.43, None, 0, 0, 0, 0, None, None, None, 0, None, None], '4': [88.03, None, 0, 0, 0, 0, None, None, None, 0, None, None], '5': [89.49, None, 0, 0, 0, 0, None, None, None, 0, None, None], '6': [79.34, None, 0, 0, 0, 18, None, None, None, 0, None, None]}}, '0:28:0:0:2:1:1': {'attributes': [], 'annotations': [], 'observations': {'9': [72.21, None, 0, 0, 0, 0, None, None, None, 0, None, None], '0': [71.82, None, 0, 0, 0, 0, None, None, None, 0, None, None], '1': [74.41, None, 0, 0, 0, 0, None, None, None, 0, None, None], '2': [82.78, None, 0, 0, 0, 0, None, None, None, 0, None, None], '3': [80.92, None, 0, 0, 0, 0, None, None, None, 0, None, None], '4': [79.01, None, 0, 0, 0, 0, None, None, None, 0, None, None], '5': [79.91, None, 0, 0, 0, 0, None, None, None, 0, None, None], '6': [74.98, None, 0, 0, 0, 18, None, None, None, 0, None, None]}}, '0:29:0:0:0:0:0': {'attributes': [], 'annotations': [], 'observations': {'1': [91.51, None, 0, 0, 0, 0, None, None, None, 0, None, None]}}, '0:29:0:0:0:0:1': {'attributes': [], 'annotations': [], 'observations': {'1': [84.2, None, 0, 0, 0, 0, None, None, None, 0, None, None]}}, '0:29:0:0:0:1:0': {'attributes': [], 'annotations': [], 'observations': {'1': [88.12, None, 0, 0, 0, 0, None, None, None, 0, None, None]}}, '0:29:0:0:0:1:1': {'attributes': [], 'annotations': [], 'observations': {'1': [77.55, None, 0, 0, 0, 0, None, None, None, 0, None, None]}}, '0:29:0:0:1:0:0': {'attributes': [], 'annotations': [], 'observations': {'1': [89.14, None, 0, 0, 0, 0, None, None, None, 0, None, None]}}, '0:29:0:0:1:0:1': {'attributes': [], 'annotations': [], 'observations': {'1': [79.93, None, 0, 0, 0, 0, None, None, None, 0, None, None]}}, '0:29:0:0:1:1:0': {'attributes': [], 'annotations': [], 'observations': {'1': [81.62, None, 0, 0, 0, 0, None, None, None, 0, None, None]}}, '0:29:0:0:1:1:1': {'attributes': [], 'annotations': [], 'observations': {'1': [65.4, None, 0, 0, 0, 0, None, None, None, 0, None, None]}}, '0:29:0:0:2:0:0': {'attributes': [], 'annotations': [], 'observations': {'1': [94.63, None, 0, 0, 0, 0, None, None, None, 0, None, None]}}, '0:29:0:0:2:0:1': {'attributes': [], 'annotations': [], 'observations': {'1': [89.82, None, 0, 0, 0, 0, None, None, None, 0, None, None]}}, '0:29:0:0:2:1:0': {'attributes': [], 'annotations': [], 'observations': {'1': [93.76, None, 0, 0, 0, 0, None, None, None, 0, None, None]}}, '0:29:0:0:2:1:1': {'attributes': [], 'annotations': [], 'observations': {'1': [88.09, None, 0, 0, 0, 0, None, None, None, 0, None, None]}}, '0:30:0:0:0:0:0': {'attributes': [], 'annotations': [], 'observations': {'5': [84.31, None, 0, 0, 0, 0, None, None, None, 0, None, None], '6': [84.24, None, 0, 0, 0, 0, None, None, None, 0, None, None], '7': [82.38, None, 0, 0, 0, 0, None, None, None, 0, None, None], '8': [80.37, None, 0, 0, 0, 0, None, None, None, 0, None, None]}}, '0:30:0:0:0:0:1': {'attributes': [], 'annotations': [], 'observations': {'5': [78.68, None, 0, 0, 0, 0, None, None, None, 0, None, None], '6': [84.25, None, 0, 0, 0, 0, None, None, None, 0, None, None], '7': [59.19, None, 0, 0, 0, 0, None, None, None, 0, None, None], '8': [54.91, None, 0, 0, 0, 0, None, None, None, 0, None, None]}}, '0:30:0:0:0:1:0': {'attributes': [], 'annotations': [], 'observations': {'5': [78.46, None, 0, 0, 0, 0, None, None, None, 0, None, None], '6': [78.53, None, 0, 0, 0, 0, None, None, None, 0, None, None], '7': [76.51, None, 0, 0, 0, 0, None, None, None, 0, None, None], '8': [74.67, None, 0, 0, 0, 0, None, None, None, 0, None, None]}}, '0:30:0:0:0:1:1': {'attributes': [], 'annotations': [], 'observations': {'5': [70.44, None, 0, 0, 0, 0, None, None, None, 0, None, None], '6': [78.55, None, 0, 0, 0, 0, None, None, None, 0, None, None], '7': [45.89, None, 0, 0, 0, 0, None, None, None, 0, None, None], '8': [41.84, None, 0, 0, 0, 0, None, None, None, 0, None, None]}}, '0:30:0:0:1:0:0': {'attributes': [], 'annotations': [], 'observations': {'5': [83.37, None, 0, 0, 0, 0, None, None, None, 0, None, None], '6': [83.32, None, 0, 0, 0, 0, None, None, None, 0, None, None], '7': [81.55, None, 0, 0, 0, 0, None, None, None, 0, None, None], '8': [79.45, None, 0, 0, 0, 0, None, None, None, 0, None, None]}}, '0:30:0:0:1:0:1': {'attributes': [], 'annotations': [], 'observations': {'5': [79.16, None, 0, 0, 0, 0, None, None, None, 0, None, None], '6': [83.33, None, 0, 0, 0, 0, None, None, None, 0, None, None], '7': [57.93, None, 0, 0, 0, 0, None, None, None, 0, None, None], '8': [53.66, None, 0, 0, 0, 0, None, None, None, 0, None, None]}}, '0:30:0:0:1:1:0': {'attributes': [], 'annotations': [], 'observations': {'5': [77.28, None, 0, 0, 0, 0, None, None, None, 0, None, None], '6': [77.36, None, 0, 0, 0, 0, None, None, None, 0, None, None], '7': [75.56, None, 0, 0, 0, 0, None, None, None, 0, None, None], '8': [73.82, None, 0, 0, 0, 0, None, None, None, 0, None, None]}}, '0:30:0:0:1:1:1': {'attributes': [], 'annotations': [], 'observations': {'5': [71.14, None, 0, 0, 0, 0, None, None, None, 0, None, None], '6': [77.38, None, 0, 0, 0, 0, None, None, None, 0, None, None], '7': [44.05, None, 0, 0, 0, 0, None, None, None, 0, None, None], '8': [40.31, None, 0, 0, 0, 0, None, None, None, 0, None, None]}}, '0:30:0:0:2:0:0': {'attributes': [], 'annotations': [], 'observations': {'5': [85.81, None, 0, 0, 0, 0, None, None, None, 0, None, None], '6': [85.67, None, 0, 0, 0, 0, None, None, None, 0, None, None], '7': [83.66, None, 0, 0, 0, 0, None, None, None, 0, None, None], '8': [81.78, None, 0, 0, 0, 0, None, None, None, 0, None, None]}}, '0:30:0:0:2:0:1': {'attributes': [], 'annotations': [], 'observations': {'5': [77.92, None, 0, 0, 0, 0, None, None, None, 0, None, None], '6': [85.69, None, 0, 0, 0, 0, None, None, None, 0, None, None], '7': [61.14, None, 0, 0, 0, 0, None, None, None, 0, None, None], '8': [56.8, None, 0, 0, 0, 0, None, None, None, 0, None, None]}}, '0:30:0:0:2:1:0': {'attributes': [], 'annotations': [], 'observations': {'5': [80.24, None, 0, 0, 0, 0, None, None, None, 0, None, None], '6': [80.26, None, 0, 0, 0, 0, None, None, None, 0, None, None], '7': [77.91, None, 0, 0, 0, 0, None, None, None, 0, None, None], '8': [75.89, None, 0, 0, 0, 0, None, None, None, 0, None, None]}}, '0:30:0:0:2:1:1': {'attributes': [], 'annotations': [], 'observations': {'5': [69.36, None, 0, 0, 0, 0, None, None, None, 0, None, None], '6': [80.29, None, 0, 0, 0, 0, None, None, None, 0, None, None], '7': [48.58, None, 0, 0, 0, 0, None, None, None, 0, None, None], '8': [44.05, None, 0, 0, 0, 0, None, None, None, 0, None, None]}}, '0:31:0:0:0:0:0': {'attributes': [], 'annotations': [], 'observations': {'9': [87.89, None, 0, 0, 0, 0, None, None, None, 0, None, None], '1': [86.53, None, 0, 0, 0, 0, None, None, None, 0, None, None]}}, '0:31:0:0:0:0:1': {'attributes': [], 'annotations': [], 'observations': {'9': [84.41, None, 0, 0, 0, 0, None, None, None, 0, None, None], '1': [81.87, None, 0, 0, 0, 0, None, None, None, 0, None, None]}}, '0:31:0:0:0:1:0': {'attributes': [], 'annotations': [], 'observations': {'9': [75.3, None, 0, 0, 0, 0, None, None, None, 0, None, None], '1': [74.82, None, 0, 0, 0, 0, None, None, None, 0, None, None]}}, '0:31:0:0:0:1:1': {'attributes': [], 'annotations': [], 'observations': {'9': [68.19, None, 0, 0, 0, 0, None, None, None, 0, None, None], '1': [66.08, None, 0, 0, 0, 0, None, None, None, 0, None, None]}}, '0:31:0:0:1:0:0': {'attributes': [], 'annotations': [], 'observations': {'9': [87.12, None, 0, 0, 0, 0, None, None, None, 0, None, None], '1': [86.13, None, 0, 0, 0, 0, None, None, None, 0, None, None]}}, '0:31:0:0:1:0:1': {'attributes': [], 'annotations': [], 'observations': {'9': [83.25, None, 0, 0, 0, 0, None, None, None, 0, None, None], '1': [81.23, None, 0, 0, 0, 0, None, None, None, 0, None, None]}}, '0:31:0:0:1:1:0': {'attributes': [], 'annotations': [], 'observations': {'9': [76.01, None, 0, 0, 0, 0, None, None, None, 0, None, None], '1': [75.73, None, 0, 0, 0, 0, None, None, None, 0, None, None]}}, '0:31:0:0:1:1:1': {'attributes': [], 'annotations': [], 'observations': {'9': [68.79, None, 0, 0, 0, 0, None, None, None, 0, None, None], '1': [67.11, None, 0, 0, 0, 0, None, None, None, 0, None, None]}}, '0:31:0:0:2:0:0': {'attributes': [], 'annotations': [], 'observations': {'9': [90.34, None, 0, 0, 0, 0, None, None, None, 0, None, None], '1': [87.94, None, 0, 0, 0, 0, None, None, None, 0, None, None]}}, '0:31:0:0:2:0:1': {'attributes': [], 'annotations': [], 'observations': {'9': [88.15, None, 0, 0, 0, 0, None, None, None, 0, None, None], '1': [84.15, None, 0, 0, 0, 0, None, None, None, 0, None, None]}}, '0:31:0:0:2:1:0': {'attributes': [], 'annotations': [], 'observations': {'9': [71.67, None, 0, 0, 0, 0, None, None, None, 0, None, None], '1': [70.3, None, 0, 0, 0, 0, None, None, None, 0, None, None]}}, '0:31:0:0:2:1:1': {'attributes': [], 'annotations': [], 'observations': {'9': [65.09, None, 0, 0, 0, 0, None, None, None, 0, None, None], '1': [60.91, None, 0, 0, 0, 0, None, None, None, 0, None, None]}}, '0:31:0:0:3:0:0': {'attributes': [], 'annotations': [], 'observations': {'7': [84, None, 0, 0, 0, 21, None, None, None, 0, None, None]}}, '0:31:0:0:3:0:1': {'attributes': [], 'annotations': [], 'observations': {'7': [84, None, 0, 0, 0, 21, None, None, None, 0, None, None]}}, '0:31:0:0:3:1:0': {'attributes': [], 'annotations': [], 'observations': {'7': [80.48, None, 0, 0, 0, 21, None, None, None, 0, None, None]}}, '0:31:0:0:3:1:1': {'attributes': [], 'annotations': [], 'observations': {'7': [80.48, None, 0, 0, 0, 20, None, None, None, 0, None, None]}}, '0:32:0:0:0:0:0': {'attributes': [], 'annotations': [], 'observations': {'7': [73.83, None, 0, 0, 0, 0, None, None, None, 0, None, None]}}, '0:32:0:0:0:0:1': {'attributes': [], 'annotations': [], 'observations': {'7': [71.87, None, 0, 0, 0, 0, None, None, None, 0, None, None]}}, '0:32:0:0:0:1:0': {'attributes': [], 'annotations': [], 'observations': {'7': [68.07, None, 0, 0, 0, 0, None, None, None, 0, None, None]}}, '0:32:0:0:0:1:1': {'attributes': [], 'annotations': [], 'observations': {'7': [65.62, None, 0, 0, 0, 0, None, None, None, 0, None, None]}}, '0:32:0:0:1:0:0': {'attributes': [], 'annotations': [], 'observations': {'7': [79.65, None, 0, 0, 0, 0, None, None, None, 0, None, None]}}, '0:32:0:0:1:0:1': {'attributes': [], 'annotations': [], 'observations': {'7': [77.83, None, 0, 0, 0, 0, None, None, None, 0, None, None]}}, '0:32:0:0:1:1:0': {'attributes': [], 'annotations': [], 'observations': {'7': [75.76, None, 0, 0, 0, 0, None, None, None, 0, None, None]}}, '0:32:0:0:1:1:1': {'attributes': [], 'annotations': [], 'observations': {'7': [73.53, None, 0, 0, 0, 0, None, None, None, 0, None, None]}}, '0:32:0:0:2:0:0': {'attributes': [], 'annotations': [], 'observations': {'7': [64.45, None, 0, 0, 0, 0, None, None, None, 0, None, None]}}, '0:32:0:0:2:0:1': {'attributes': [], 'annotations': [], 'observations': {'7': [62.23, None, 0, 0, 0, 0, None, None, None, 0, None, None]}}, '0:32:0:0:2:1:0': {'attributes': [], 'annotations': [], 'observations': {'7': [55.65, None, 0, 0, 0, 0, None, None, None, 0, None, None]}}, '0:32:0:0:2:1:1': {'attributes': [], 'annotations': [], 'observations': {'7': [52.87, None, 0, 0, 0, 0, None, None, None, 0, None, None]}}, '0:33:0:0:0:0:0': {'attributes': [], 'annotations': [], 'observations': {'1': [93.57, None, 0, 0, 0, 0, 1, None, None, 0, None, None]}}, '0:33:0:0:0:0:1': {'attributes': [], 'annotations': [], 'observations': {'1': [81.29, None, 0, 0, 0, 0, 1, None, None, 0, None, None]}}, '0:33:0:0:0:1:0': {'attributes': [], 'annotations': [], 'observations': {'1': [90.56, None, 0, 0, 0, 0, 1, None, None, 0, None, None]}}, '0:33:0:0:0:1:1': {'attributes': [], 'annotations': [], 'observations': {'1': [72.48, None, 0, 0, 0, 0, 1, None, None, 0, None, None]}}, '0:33:0:0:1:0:0': {'attributes': [], 'annotations': [], 'observations': {'1': [91.38, None, 0, 0, 0, 0, 1, None, None, 0, None, None]}}, '0:33:0:0:1:0:1': {'attributes': [], 'annotations': [], 'observations': {'1': [80.37, None, 0, 0, 0, 0, 1, None, None, 0, None, None]}}, '0:33:0:0:1:1:0': {'attributes': [], 'annotations': [], 'observations': {'1': [87.27, None, 0, 0, 0, 0, 1, None, None, 0, None, None]}}, '0:33:0:0:1:1:1': {'attributes': [], 'annotations': [], 'observations': {'1': [71, None, 0, 0, 0, 0, 1, None, None, 0, None, None]}}, '0:33:0:0:2:0:0': {'attributes': [], 'annotations': [], 'observations': {'1': [96.02, None, 0, 0, 0, 0, 1, None, None, 0, None, None]}}, '0:33:0:0:2:0:1': {'attributes': [], 'annotations': [], 'observations': {'1': [82.32, None, 0, 0, 0, 0, 1, None, None, 0, None, None]}}, '0:33:0:0:2:1:0': {'attributes': [], 'annotations': [], 'observations': {'1': [94.18, None, 0, 0, 0, 0, 1, None, None, 0, None, None]}}, '0:33:0:0:2:1:1': {'attributes': [], 'annotations': [], 'observations': {'1': [74.1, None, 0, 0, 0, 0, 1, None, None, 0, None, None]}}, '0:34:0:0:0:0:0': {'attributes': [], 'annotations': [], 'observations': {'6': [82.88, None, 0, 0, 0, 12, None, None, None, 0, None, None]}}, '0:34:0:0:0:0:1': {'attributes': [], 'annotations': [], 'observations': {'6': [75.67, None, 0, 0, 0, 13, None, None, None, 0, None, None]}}, '0:34:0:0:0:1:0': {'attributes': [], 'annotations': [], 'observations': {'6': [75.5, None, 0, 0, 0, 13, None, None, None, 0, None, None]}}, '0:34:0:0:0:1:1': {'attributes': [], 'annotations': [], 'observations': {'6': [65.78, None, 0, 0, 0, 13, None, None, None, 0, None, None]}}, '0:34:0:0:1:0:0': {'attributes': [], 'annotations': [], 'observations': {'6': [80.14, None, 0, 0, 0, 12, None, None, None, 0, None, None]}}, '0:34:0:0:1:0:1': {'attributes': [], 'annotations': [], 'observations': {'6': [71.76, None, 0, 0, 0, 12, None, None, None, 0, None, None]}}, '0:34:0:0:1:1:0': {'attributes': [], 'annotations': [], 'observations': {'6': [71.98, None, 0, 0, 0, 13, None, None, None, 0, None, None]}}, '0:34:0:0:1:1:1': {'attributes': [], 'annotations': [], 'observations': {'6': [60.81, None, 0, 0, 0, 12, None, None, None, 0, None, None]}}, '0:34:0:0:2:0:0': {'attributes': [], 'annotations': [], 'observations': {'6': [86.03, None, 0, 0, 0, 13, None, None, None, 0, None, None]}}, '0:34:0:0:2:0:1': {'attributes': [], 'annotations': [], 'observations': {'6': [80.17, None, 0, 0, 0, 12, None, None, None, 0, None, None]}}, '0:34:0:0:2:1:0': {'attributes': [], 'annotations': [], 'observations': {'6': [79.63, None, 0, 0, 0, 13, None, None, None, 0, None, None]}}, '0:34:0:0:2:1:1': {'attributes': [], 'annotations': [], 'observations': {'6': [71.62, None, 0, 0, 0, 13, None, None, None, 0, None, None]}}, '0:35:0:0:0:0:0': {'attributes': [], 'annotations': [], 'observations': {'1': [92.23, None, 0, 0, 0, 0, None, None, None, 0, None, None], '3': [93.37, None, 0, 0, 0, 0, None, None, None, 0, None, None]}}, '0:35:0:0:0:0:1': {'attributes': [], 'annotations': [], 'observations': {'1': [82.56, None, 0, 0, 0, 0, None, None, None, 0, None, None], '3': [86.13, None, 0, 0, 0, 0, None, None, None, 0, None, None]}}, '0:35:0:0:0:1:0': {'attributes': [], 'annotations': [], 'observations': {'1': [89.33, None, 0, 0, 0, 0, None, None, None, 0, None, None], '3': [90.15, None, 0, 0, 0, 0, None, None, None, 0, None, None]}}, '0:35:0:0:0:1:1': {'attributes': [], 'annotations': [], 'observations': {'1': [75.2, None, 0, 0, 0, 0, None, None, None, 0, None, None], '3': [79.35, None, 0, 0, 0, 0, None, None, None, 0, None, None]}}, '0:35:0:0:1:0:0': {'attributes': [], 'annotations': [], 'observations': {'1': [88.11, None, 0, 0, 0, 0, None, None, None, 0, None, None], '3': [90.32, None, 0, 0, 0, 0, None, None, None, 0, None, None]}}, '0:35:0:0:1:0:1': {'attributes': [], 'annotations': [], 'observations': {'1': [73.55, None, 0, 0, 0, 0, None, None, None, 0, None, None], '3': [79.76, None, 0, 0, 0, 0, None, None, None, 0, None, None]}}, '0:35:0:0:1:1:0': {'attributes': [], 'annotations': [], 'observations': {'1': [83.39, None, 0, 0, 0, 0, None, None, None, 0, None, None], '3': [85.52, None, 0, 0, 0, 0, None, None, None, 0, None, None]}}, '0:35:0:0:1:1:1': {'attributes': [], 'annotations': [], 'observations': {'1': [61.39, None, 0, 0, 0, 0, None, None, None, 0, None, None], '3': [69.74, None, 0, 0, 0, 0, None, None, None, 0, None, None]}}, '0:35:0:0:2:0:0': {'attributes': [], 'annotations': [], 'observations': {'1': [96.83, None, 0, 0, 0, 0, None, None, None, 0, None, None], '3': [96.7, None, 0, 0, 0, 0, None, None, None, 0, None, None]}}, '0:35:0:0:2:0:1': {'attributes': [], 'annotations': [], 'observations': {'1': [92.61, None, 0, 0, 0, 0, None, None, None, 0, None, None], '3': [93.1, None, 0, 0, 0, 0, None, None, None, 0, None, None]}}, '0:35:0:0:2:1:0': {'attributes': [], 'annotations': [], 'observations': {'1': [95.53, None, 0, 0, 0, 0, None, None, None, 0, None, None], '3': [95.22, None, 0, 0, 0, 0, None, None, None, 0, None, None]}}, '0:35:0:0:2:1:1': {'attributes': [], 'annotations': [], 'observations': {'1': [89.6, None, 0, 0, 0, 0, None, None, None, 0, None, None], '3': [89.9, None, 0, 0, 0, 0, None, None, None, 0, None, None]}}, '0:36:0:0:0:0:0': {'attributes': [], 'annotations': [], 'observations': {'6': [30.65, None, 0, 0, 0, 22, None, None, None, 0, None, None], '7': [32.34, None, 0, 0, 0, 22, None, None, None, 0, None, None], '8': [31.02, None, 0, 0, 0, 22, None, None, None, 0, None, None]}}, '0:36:0:0:0:0:1': {'attributes': [], 'annotations': [], 'observations': {'6': [30.13, None, 0, 0, 0, 23, None, None, None, 0, None, None], '7': [31.55, None, 0, 0, 0, 22, None, None, None, 0, None, None], '8': [30.68, None, 0, 0, 0, 23, None, None, None, 0, None, None]}}, '0:36:0:0:0:1:0': {'attributes': [], 'annotations': [], 'observations': {'6': [25.07, None, 0, 0, 0, 22, None, None, None, 0, None, None], '7': [26.69, None, 0, 0, 0, 22, None, None, None, 0, None, None], '8': [26.23, None, 0, 0, 0, 23, None, None, None, 0, None, None]}}, '0:36:0:0:0:1:1': {'attributes': [], 'annotations': [], 'observations': {'6': [24.5, None, 0, 0, 0, 23, None, None, None, 0, None, None], '7': [25.83, None, 0, 0, 0, 23, None, None, None, 0, None, None], '8': [25.83, None, 0, 0, 0, 22, None, None, None, 0, None, None]}}, '0:36:0:0:1:0:0': {'attributes': [], 'annotations': [], 'observations': {'6': [37.2, None, 0, 0, 0, 23, None, None, None, 0, None, None], '7': [38.47, None, 0, 0, 0, 23, None, None, None, 0, None, None], '8': [37.36, None, 0, 0, 0, 22, None, None, None, 0, None, None]}}, '0:36:0:0:1:0:1': {'attributes': [], 'annotations': [], 'observations': {'6': [36.71, None, 0, 0, 0, 22, None, None, None, 0, None, None], '7': [37.53, None, 0, 0, 0, 23, None, None, None, 0, None, None], '8': [36.8, None, 0, 0, 0, 22, None, None, None, 0, None, None]}}, '0:36:0:0:1:1:0': {'attributes': [], 'annotations': [], 'observations': {'6': [29.43, None, 0, 0, 0, 22, None, None, None, 0, None, None], '7': [30.67, None, 0, 0, 0, 22, None, None, None, 0, None, None], '8': [30.02, None, 0, 0, 0, 23, None, None, None, 0, None, None]}}, '0:36:0:0:1:1:1': {'attributes': [], 'annotations': [], 'observations': {'6': [28.88, None, 0, 0, 0, 22, None, None, None, 0, None, None], '7': [29.61, None, 0, 0, 0, 22, None, None, None, 0, None, None], '8': [29.31, None, 0, 0, 0, 22, None, None, None, 0, None, None]}}, '0:36:0:0:2:0:0': {'attributes': [], 'annotations': [], 'observations': {'6': [22.93, None, 0, 0, 0, 22, None, None, None, 0, None, None], '7': [24.84, None, 0, 0, 0, 22, None, None, None, 0, None, None], '8': [23.74, None, 0, 0, 0, 22, None, None, None, 0, None, None]}}, '0:36:0:0:2:0:1': {'attributes': [], 'annotations': [], 'observations': {'6': [22.38, None, 0, 0, 0, 23, None, None, None, 0, None, None], '7': [24.23, None, 0, 0, 0, 23, None, None, None, 0, None, None], '8': [23.65, None, 0, 0, 0, 23, None, None, None, 0, None, None]}}, '0:36:0:0:2:1:0': {'attributes': [], 'annotations': [], 'observations': {'6': [20.47, None, 0, 0, 0, 22, None, None, None, 0, None, None], '7': [22.36, None, 0, 0, 0, 22, None, None, None, 0, None, None], '8': [22.45, None, 0, 0, 0, 22, None, None, None, 0, None, None]}}, '0:36:0:0:2:1:1': {'attributes': [], 'annotations': [], 'observations': {'6': [19.89, None, 0, 0, 0, 23, None, None, None, 0, None, None], '7': [21.72, None, 0, 0, 0, 23, None, None, None, 0, None, None], '8': [22.35, None, 0, 0, 0, 22, None, None, None, 0, None, None]}}, '0:37:0:0:0:0:0': {'attributes': [], 'annotations': [], 'observations': {'9': [70.99, None, 0, 0, 0, 0, 1, None, None, 0, None, None], '0': [70.84, None, 0, 0, 0, 0, 1, None, None, 0, None, None], '2': [70.75, None, 0, 0, 0, 0, None, None, None, 0, None, None], '3': [69.9, None, 0, 0, 0, 0, None, None, None, 0, None, None], '4': [69.57, None, 0, 0, 0, 0, None, None, None, 0, None, None], '5': [69.74, None, 0, 0, 0, 0, None, None, None, 0, None, None], '6': [68.19, None, 0, 0, 0, 0, None, None, None, 0, None, None], '7': [68.08, None, 0, 0, 0, 0, None, None, None, 0, None, None]}}, '0:37:0:0:0:0:1': {'attributes': [], 'annotations': [], 'observations': {'9': [64.17, None, 0, 0, 0, 0, 1, None, None, 0, None, None], '0': [64.02, None, 0, 0, 0, 0, 1, None, None, 0, None, None], '2': [63.35, None, 0, 0, 0, 0, None, None, None, 0, None, None], '3': [62.06, None, 0, 0, 0, 0, None, None, None, 0, None, None], '4': [62.02, None, 0, 0, 0, 0, None, None, None, 0, None, None], '5': [61.67, None, 0, 0, 0, 0, None, None, None, 0, None, None], '6': [60.08, None, 0, 0, 0, 0, None, None, None, 0, None, None], '7': [61.32, None, 0, 0, 0, 0, None, None, None, 0, None, None]}}, '0:37:0:0:0:1:0': {'attributes': [], 'annotations': [], 'observations': {'9': [63.48, None, 0, 0, 0, 0, 1, None, None, 0, None, None], '0': [63.65, None, 0, 0, 0, 0, 1, None, None, 0, None, None], '2': [62.63, None, 0, 0, 0, 0, None, None, None, 0, None, None], '3': [60.94, None, 0, 0, 0, 0, None, None, None, 0, None, None], '4': [61.61, None, 0, 0, 0, 0, None, None, None, 0, None, None], '5': [62.09, None, 0, 0, 0, 0, None, None, None, 0, None, None], '6': [60.82, None, 0, 0, 0, 0, None, None, None, 0, None, None], '7': [60.22, None, 0, 0, 0, 0, None, None, None, 0, None, None]}}, '0:37:0:0:0:1:1': {'attributes': [], 'annotations': [], 'observations': {'9': [54.05, None, 0, 0, 0, 0, 1, None, None, 0, None, None], '0': [54.03, None, 0, 0, 0, 0, 1, None, None, 0, None, None], '2': [52.96, None, 0, 0, 0, 0, None, None, None, 0, None, None], '3': [50.65, None, 0, 0, 0, 0, None, None, None, 0, None, None], '4': [51.81, None, 0, 0, 0, 0, None, None, None, 0, None, None], '5': [51.78, None, 0, 0, 0, 0, None, None, None, 0, None, None], '6': [50.61, None, 0, 0, 0, 0, None, None, None, 0, None, None], '7': [51.86, None, 0, 0, 0, 0, None, None, None, 0, None, None]}}, '0:37:0:0:1:0:0': {'attributes': [], 'annotations': [], 'observations': {'9': [73.15, None, 0, 0, 0, 0, 1, None, None, 0, None, None], '0': [73.35, None, 0, 0, 0, 0, 1, None, None, 0, None, None], '2': [72.86, None, 0, 0, 0, 0, None, None, None, 0, None, None], '3': [72.58, None, 0, 0, 0, 0, None, None, None, 0, None, None], '4': [72.27, None, 0, 0, 0, 0, None, None, None, 0, None, None], '5': [72.43, None, 0, 0, 0, 0, None, None, None, 0, None, None], '6': [70.51, None, 0, 0, 0, 0, None, None, None, 0, None, None], '7': [71.33, None, 0, 0, 0, 0, None, None, None, 0, None, None]}}, '0:37:0:0:1:0:1': {'attributes': [], 'annotations': [], 'observations': {'9': [66.62, None, 0, 0, 0, 0, 1, None, None, 0, None, None], '0': [66.69, None, 0, 0, 0, 0, 1, None, None, 0, None, None], '2': [66.21, None, 0, 0, 0, 0, None, None, None, 0, None, None], '3': [65.03, None, 0, 0, 0, 0, None, None, None, 0, None, None], '4': [65.36, None, 0, 0, 0, 0, None, None, None, 0, None, None], '5': [64.76, None, 0, 0, 0, 0, None, None, None, 0, None, None], '6': [62.99, None, 0, 0, 0, 0, None, None, None, 0, None, None], '7': [64.88, None, 0, 0, 0, 0, None, None, None, 0, None, None]}}, '0:37:0:0:1:1:0': {'attributes': [], 'annotations': [], 'observations': {'9': [66.38, None, 0, 0, 0, 0, 1, None, None, 0, None, None], '0': [66.91, None, 0, 0, 0, 0, 1, None, None, 0, None, None], '2': [65.64, None, 0, 0, 0, 0, None, None, None, 0, None, None], '3': [64.92, None, 0, 0, 0, 0, None, None, None, 0, None, None], '4': [65.16, None, 0, 0, 0, 0, None, None, None, 0, None, None], '5': [65.68, None, 0, 0, 0, 0, None, None, None, 0, None, None], '6': [63.89, None, 0, 0, 0, 0, None, None, None, 0, None, None], '7': [64.51, None, 0, 0, 0, 0, None, None, None, 0, None, None]}}, '0:37:0:0:1:1:1': {'attributes': [], 'annotations': [], 'observations': {'9': [57.74, None, 0, 0, 0, 0, 1, None, None, 0, None, None], '0': [58.02, None, 0, 0, 0, 0, 1, None, None, 0, None, None], '2': [57.02, None, 0, 0, 0, 0, None, None, None, 0, None, None], '3': [55.14, None, 0, 0, 0, 0, None, None, None, 0, None, None], '4': [56.25, None, 0, 0, 0, 0, None, None, None, 0, None, None], '5': [55.9, None, 0, 0, 0, 0, None, None, None, 0, None, None], '6': [54.58, None, 0, 0, 0, 0, None, None, None, 0, None, None], '7': [56.68, None, 0, 0, 0, 0, None, None, None, 0, None, None]}}, '0:37:0:0:2:0:0': {'attributes': [], 'annotations': [], 'observations': {'9': [66.67, None, 0, 0, 0, 0, 1, None, None, 0, None, None], '0': [65.83, None, 0, 0, 0, 0, 1, None, None, 0, None, None], '2': [66.77, None, 0, 0, 0, 0, None, None, None, 0, None, None], '3': [64.72, None, 0, 0, 0, 0, None, None, None, 0, None, None], '4': [64.52, None, 0, 0, 0, 0, None, None, None, 0, None, None], '5': [64.78, None, 0, 0, 0, 0, None, None, None, 0, None, None], '6': [64.01, None, 0, 0, 0, 0, None, None, None, 0, None, None], '7': [61.73, None, 0, 0, 0, 0, None, None, None, 0, None, None]}}, '0:37:0:0:2:0:1': {'attributes': [], 'annotations': [], 'observations': {'9': [59.29, None, 0, 0, 0, 0, 1, None, None, 0, None, None], '0': [58.69, None, 0, 0, 0, 0, 1, None, None, 0, None, None], '2': [57.95, None, 0, 0, 0, 0, None, None, None, 0, None, None], '3': [56.31, None, 0, 0, 0, 0, None, None, None, 0, None, None], '4': [55.79, None, 0, 0, 0, 0, None, None, None, 0, None, None], '5': [55.99, None, 0, 0, 0, 0, None, None, None, 0, None, None], '6': [54.84, None, 0, 0, 0, 0, None, None, None, 0, None, None], '7': [54.36, None, 0, 0, 0, 0, None, None, None, 0, None, None]}}, '0:37:0:0:2:1:0': {'attributes': [], 'annotations': [], 'observations': {'9': [56.95, None, 0, 0, 0, 0, 1, None, None, 0, None, None], '0': [56.31, None, 0, 0, 0, 0, 1, None, None, 0, None, None], '2': [56.46, None, 0, 0, 0, 0, None, None, None, 0, None, None], '3': [52.66, None, 0, 0, 0, 0, None, None, None, 0, None, None], '4': [54.43, None, 0, 0, 0, 0, None, None, None, 0, None, None], '5': [55, None, 0, 0, 0, 0, None, None, None, 0, None, None], '6': [54.88, None, 0, 0, 0, 0, None, None, None, 0, None, None], '7': [51.3, None, 0, 0, 0, 0, None, None, None, 0, None, None]}}, '0:37:0:0:2:1:1': {'attributes': [], 'annotations': [], 'observations': {'9': [45.75, None, 0, 0, 0, 0, 1, None, None, 0, None, None], '0': [45.04, None, 0, 0, 0, 0, 1, None, None, 0, None, None], '2': [44.64, None, 0, 0, 0, 0, None, None, None, 0, None, None], '3': [41.3, None, 0, 0, 0, 0, None, None, None, 0, None, None], '4': [42.83, None, 0, 0, 0, 0, None, None, None, 0, None, None], '5': [43.65, None, 0, 0, 0, 0, None, None, None, 0, None, None], '6': [42.94, None, 0, 0, 0, 0, None, None, None, 0, None, None], '7': [41.87, None, 0, 0, 0, 0, None, None, None, 0, None, None]}}, '0:38:0:0:0:0:0': {'attributes': [], 'annotations': [], 'observations': {'7': [25.09, None, 0, 0, 0, 0, None, None, None, 0, None, None]}}, '0:38:0:0:0:0:1': {'attributes': [], 'annotations': [], 'observations': {'7': [19.5, None, 0, 0, 0, 0, None, None, None, 0, None, None]}}, '0:38:0:0:0:1:0': {'attributes': [], 'annotations': [], 'observations': {'7': [11.93, None, 0, 0, 0, 0, None, None, None, 0, None, None]}}, '0:38:0:0:0:1:1': {'attributes': [], 'annotations': [], 'observations': {'7': [9.89, None, 0, 0, 0, 0, None, None, None, 0, None, None]}}, '0:38:0:0:1:0:0': {'attributes': [], 'annotations': [], 'observations': {'7': [28.47, None, 0, 0, 0, 0, None, None, None, 0, None, None]}}, '0:38:0:0:1:0:1': {'attributes': [], 'annotations': [], 'observations': {'7': [22.89, None, 0, 0, 0, 0, None, None, None, 0, None, None]}}, '0:38:0:0:1:1:0': {'attributes': [], 'annotations': [], 'observations': {'7': [17.36, None, 0, 0, 0, 0, None, None, None, 0, None, None]}}, '0:38:0:0:1:1:1': {'attributes': [], 'annotations': [], 'observations': {'7': [14.63, None, 0, 0, 0, 0, None, None, None, 0, None, None]}}, '0:38:0:0:2:0:0': {'attributes': [], 'annotations': [], 'observations': {'7': [21.68, None, 0, 0, 0, 0, None, None, None, 0, None, None]}}, '0:38:0:0:2:0:1': {'attributes': [], 'annotations': [], 'observations': {'7': [16.08, None, 0, 0, 0, 0, None, None, None, 0, None, None]}}, '0:38:0:0:2:1:0': {'attributes': [], 'annotations': [], 'observations': {'7': [6.98, None, 0, 0, 0, 0, None, None, None, 0, None, None]}}, '0:38:0:0:2:1:1': {'attributes': [], 'annotations': [], 'observations': {'7': [5.58, None, 0, 0, 0, 0, None, None, None, 0, None, None]}}, '0:39:0:0:0:0:0': {'attributes': [], 'annotations': [], 'observations': {'4': [95.2, None, 0, 0, 0, 0, None, None, None, 0, None, None]}}, '0:39:0:0:0:0:1': {'attributes': [], 'annotations': [], 'observations': {'1': [91.15, None, 0, 0, 0, 0, None, None, None, 0, None, None], '4': [89.52, None, 0, 0, 0, 0, None, None, None, 0, None, None]}}, '0:39:0:0:0:1:0': {'attributes': [], 'annotations': [], 'observations': {'4': [83.86, None, 0, 0, 0, 0, None, None, None, 0, None, None]}}, '0:39:0:0:0:1:1': {'attributes': [], 'annotations': [], 'observations': {'1': [74.24, None, 0, 0, 0, 0, None, None, None, 0, None, None], '4': [63.58, None, 0, 0, 0, 0, None, None, None, 0, None, None]}}, '0:39:0:0:1:0:0': {'attributes': [], 'annotations': [], 'observations': {'4': [93.83, None, 0, 0, 0, 0, None, None, None, 0, None, None]}}, '0:39:0:0:1:0:1': {'attributes': [], 'annotations': [], 'observations': {'1': [89, None, 0, 0, 0, 0, None, None, None, 0, None, None], '4': [87.22, None, 0, 0, 0, 0, None, None, None, 0, None, None]}}, '0:39:0:0:1:1:0': {'attributes': [], 'annotations': [], 'observations': {'4': [78.83, None, 0, 0, 0, 0, None, None, None, 0, None, None]}}, '0:39:0:0:1:1:1': {'attributes': [], 'annotations': [], 'observations': {'1': [65.18, None, 0, 0, 0, 0, None, None, None, 0, None, None], '4': [53.91, None, 0, 0, 0, 0, None, None, None, 0, None, None]}}, '0:39:0:0:2:0:0': {'attributes': [], 'annotations': [], 'observations': {'4': [96.66, None, 0, 0, 0, 0, None, None, None, 0, None, None]}}, '0:39:0:0:2:0:1': {'attributes': [], 'annotations': [], 'observations': {'1': [93.33, None, 0, 0, 0, 0, None, None, None, 0, None, None], '4': [91.94, None, 0, 0, 0, 0, None, None, None, 0, None, None]}}, '0:39:0:0:2:1:0': {'attributes': [], 'annotations': [], 'observations': {'4': [88.62, None, 0, 0, 0, 0, None, None, None, 0, None, None]}}, '0:39:0:0:2:1:1': {'attributes': [], 'annotations': [], 'observations': {'1': [81.91, None, 0, 0, 0, 0, None, None, None, 0, None, None], '4': [72.73, None, 0, 0, 0, 0, None, None, None, 0, None, None]}}, '0:40:0:0:0:0:0': {'attributes': [], 'annotations': [], 'observations': {'5': [51.7, None, 0, 0, 0, 13, None, None, None, 0, None, None]}}, '0:40:0:0:0:0:1': {'attributes': [], 'annotations': [], 'observations': {'5': [46.69, None, 0, 0, 0, 12, None, None, None, 0, None, None]}}, '0:40:0:0:0:1:0': {'attributes': [], 'annotations': [], 'observations': {'5': [47.03, None, 0, 0, 0, 13, None, None, None, 0, None, None]}}, '0:40:0:0:0:1:1': {'attributes': [], 'annotations': [], 'observations': {'5': [41.49, None, 0, 0, 0, 13, None, None, None, 0, None, None]}}, '0:40:0:0:1:0:0': {'attributes': [], 'annotations': [], 'observations': {'5': [51.8, None, 0, 0, 0, 12, None, None, None, 0, None, None]}}, '0:40:0:0:1:0:1': {'attributes': [], 'annotations': [], 'observations': {'5': [47.52, None, 0, 0, 0, 12, None, None, None, 0, None, None]}}, '0:40:0:0:1:1:0': {'attributes': [], 'annotations': [], 'observations': {'5': [44.76, None, 0, 0, 0, 12, None, None, None, 0, None, None]}}, '0:40:0:0:1:1:1': {'attributes': [], 'annotations': [], 'observations': {'5': [39.78, None, 0, 0, 0, 13, None, None, None, 0, None, None]}}, '0:40:0:0:2:0:0': {'attributes': [], 'annotations': [], 'observations': {'5': [51.54, None, 0, 0, 0, 13, None, None, None, 0, None, None]}}, '0:40:0:0:2:0:1': {'attributes': [], 'annotations': [], 'observations': {'5': [45.41, None, 0, 0, 0, 12, None, None, None, 0, None, None]}}, '0:40:0:0:2:1:0': {'attributes': [], 'annotations': [], 'observations': {'5': [50.18, None, 0, 0, 0, 13, None, None, None, 0, None, None]}}, '0:40:0:0:2:1:1': {'attributes': [], 'annotations': [], 'observations': {'5': [43.87, None, 0, 0, 0, 13, None, None, None, 0, None, None]}}, '0:41:0:0:0:0:0': {'attributes': [], 'annotations': [], 'observations': {'2': [89.89, None, 0, 0, 0, 0, None, None, None, 0, None, None], '3': [95.3, None, 0, 0, 0, 0, 1, None, None, 0, None, None], '4': [96.13, None, 0, 0, 0, 0, None, None, None, 0, None, None], '5': [94.91, None, 0, 0, 0, 0, None, None, None, 0, None, None], '6': [94.72, None, 0, 0, 0, 0, None, None, None, 0, None, None], '7': [93.37, None, 0, 0, 0, 0, None, None, None, 0, None, None]}}, '0:41:0:0:0:0:1': {'attributes': [], 'annotations': [], 'observations': {'2': [72.95, None, 0, 0, 0, 0, None, None, None, 0, None, None], '3': [89.99, None, 0, 0, 0, 0, 1, None, None, 0, None, None], '4': [91.75, None, 0, 0, 0, 0, None, None, None, 0, None, None], '5': [89.9, None, 0, 0, 0, 0, None, None, None, 0, None, None], '6': [90.68, None, 0, 0, 0, 0, None, None, None, 0, None, None], '7': [83.43, None, 0, 0, 0, 0, None, None, None, 0, None, None]}}, '0:41:0:0:0:1:0': {'attributes': [], 'annotations': [], 'observations': {'2': [82.88, None, 0, 0, 0, 0, None, None, None, 0, None, None], '3': [88.47, None, 0, 0, 0, 0, 1, None, None, 0, None, None], '4': [91.24, None, 0, 0, 0, 0, None, None, None, 0, None, None], '5': [90.49, None, 0, 0, 0, 0, None, None, None, 0, None, None], '6': [90.62, None, 0, 0, 0, 0, None, None, None, 0, None, None], '7': [88.87, None, 0, 0, 0, 0, None, None, None, 0, None, None]}}, '0:41:0:0:0:1:1': {'attributes': [], 'annotations': [], 'observations': {'2': [66.33, None, 0, 0, 0, 0, None, None, None, 0, None, None], '3': [74.37, None, 0, 0, 0, 0, 1, None, None, 0, None, None], '4': [79.8, None, 0, 0, 0, 0, None, None, None, 0, None, None], '5': [76.64, None, 0, 0, 0, 0, None, None, None, 0, None, None], '6': [79.73, None, 0, 0, 0, 0, None, None, None, 0, None, None], '7': [73.89, None, 0, 0, 0, 0, None, None, None, 0, None, None]}}, '0:41:0:0:1:0:0': {'attributes': [], 'annotations': [], 'observations': {'2': [84.2, None, 0, 0, 0, 0, None, None, None, 0, None, None], '3': [92.9, None, 0, 0, 0, 0, 1, None, None, 0, None, None], '4': [95.09, None, 0, 0, 0, 0, None, None, None, 0, None, None], '5': [94.57, None, 0, 0, 0, 0, None, None, None, 0, None, None], '6': [93.36, None, 0, 0, 0, 0, None, None, None, 0, None, None], '7': [90.95, None, 0, 0, 0, 0, None, None, None, 0, None, None]}}, '0:41:0:0:1:0:1': {'attributes': [], 'annotations': [], 'observations': {'2': [67.73, None, 0, 0, 0, 0, None, None, None, 0, None, None], '3': [85.64, None, 0, 0, 0, 0, 1, None, None, 0, None, None], '4': [88.5, None, 0, 0, 0, 0, None, None, None, 0, None, None], '5': [87.65, None, 0, 0, 0, 0, None, None, None, 0, None, None], '6': [87.86, None, 0, 0, 0, 0, None, None, None, 0, None, None], '7': [78.61, None, 0, 0, 0, 0, None, None, None, 0, None, None]}}, '0:41:0:0:1:1:0': {'attributes': [], 'annotations': [], 'observations': {'2': [77.9, None, 0, 0, 0, 0, None, None, None, 0, None, None], '3': [82.67, None, 0, 0, 0, 0, 1, None, None, 0, None, None], '4': [89.27, None, 0, 0, 0, 0, None, None, None, 0, None, None], '5': [87.4, None, 0, 0, 0, 0, None, None, None, 0, None, None], '6': [85.96, None, 0, 0, 0, 0, None, None, None, 0, None, None], '7': [84.1, None, 0, 0, 0, 0, None, None, None, 0, None, None]}}, '0:41:0:0:1:1:1': {'attributes': [], 'annotations': [], 'observations': {'2': [54.48, None, 0, 0, 0, 0, None, None, None, 0, None, None], '3': [62.7, None, 0, 0, 0, 0, 1, None, None, 0, None, None], '4': [72.02, None, 0, 0, 0, 0, None, None, None, 0, None, None], '5': [67.55, None, 0, 0, 0, 0, None, None, None, 0, None, None], '6': [70.81, None, 0, 0, 0, 0, None, None, None, 0, None, None], '7': [63.87, None, 0, 0, 0, 0, None, None, None, 0, None, None]}}, '0:41:0:0:2:0:0': {'attributes': [], 'annotations': [], 'observations': {'2': [96.11, None, 0, 0, 0, 0, None, None, None, 0, None, None], '3': [98.18, None, 0, 0, 0, 0, 1, None, None, 0, None, None], '4': [97.35, None, 0, 0, 0, 0, None, None, None, 0, None, None], '5': [95.35, None, 0, 0, 0, 0, None, None, None, 0, None, None], '6': [96.41, None, 0, 0, 0, 0, None, None, None, 0, None, None], '7': [96.6, None, 0, 0, 0, 0, None, None, None, 0, None, None]}}, '0:41:0:0:2:0:1': {'attributes': [], 'annotations': [], 'observations': {'2': [78.66, None, 0, 0, 0, 0, None, None, None, 0, None, None], '3': [95.19, None, 0, 0, 0, 0, 1, None, None, 0, None, None], '4': [95.58, None, 0, 0, 0, 0, None, None, None, 0, None, None], '5': [92.87, None, 0, 0, 0, 0, None, None, None, 0, None, None], '6': [94.19, None, 0, 0, 0, 0, None, None, None, 0, None, None], '7': [89.86, None, 0, 0, 0, 0, None, None, None, 0, None, None]}}, '0:41:0:0:2:1:0': {'attributes': [], 'annotations': [], 'observations': {'2': [88.93, None, 0, 0, 0, 0, None, None, None, 0, None, None], '3': [95.26, None, 0, 0, 0, 0, 1, None, None, 0, None, None], '4': [93.55, None, 0, 0, 0, 0, None, None, None, 0, None, None], '5': [94.25, None, 0, 0, 0, 0, None, None, None, 0, None, None], '6': [96.15, None, 0, 0, 0, 0, None, None, None, 0, None, None], '7': [95.39, None, 0, 0, 0, 0, None, None, None, 0, None, None]}}, '0:41:0:0:2:1:1': {'attributes': [], 'annotations': [], 'observations': {'2': [80.72, None, 0, 0, 0, 0, None, None, None, 0, None, None], '3': [88.01, None, 0, 0, 0, 0, 1, None, None, 0, None, None], '4': [88.89, None, 0, 0, 0, 0, None, None, None, 0, None, None], '5': [87.69, None, 0, 0, 0, 0, None, None, None, 0, None, None], '6': [90.3, None, 0, 0, 0, 0, None, None, None, 0, None, None], '7': [87.59, None, 0, 0, 0, 0, None, None, None, 0, None, None]}}, '0:42:0:0:0:0:0': {'attributes': [], 'annotations': [], 'observations': {'4': [82.56, None, 0, 0, 0, 0, 1, None, None, 0, None, None], '6': [80.14, None, 0, 0, 0, 12, None, None, None, 0, None, None], '7': [79.49, None, 0, 0, 0, 13, None, None, None, 0, None, None], '8': [79.87, None, 0, 0, 0, 13, None, None, None, 0, None, None]}}, '0:42:0:0:0:0:1': {'attributes': [], 'annotations': [], 'observations': {'4': [70.35, None, 0, 0, 0, 0, 1, None, None, 0, None, None], '6': [60.98, None, 0, 0, 0, 13, None, None, None, 0, None, None], '7': [59.7, None, 0, 0, 0, 12, None, None, None, 0, None, None], '8': [60.97, None, 0, 0, 0, 13, None, None, None, 0, None, None]}}, '0:42:0:0:0:1:0': {'attributes': [], 'annotations': [], 'observations': {'4': [80.73, None, 0, 0, 0, 0, 1, None, None, 0, None, None], '6': [77.74, None, 0, 0, 0, 13, None, None, None, 0, None, None], '7': [78.95, None, 0, 0, 0, 12, None, None, None, 0, None, None], '8': [79.56, None, 0, 0, 0, 13, None, None, None, 0, None, None]}}, '0:42:0:0:0:1:1': {'attributes': [], 'annotations': [], 'observations': {'4': [62.79, None, 0, 0, 0, 0, 1, None, None, 0, None, None], '6': [62.01, None, 0, 0, 0, 13, None, None, None, 0, None, None], '7': [62.21, None, 0, 0, 0, 12, None, None, None, 0, None, None], '8': [63.55, None, 0, 0, 0, 13, None, None, None, 0, None, None]}}, '0:42:0:0:1:0:0': {'attributes': [], 'annotations': [], 'observations': {'4': [81.73, None, 0, 0, 0, 0, 1, None, None, 0, None, None], '6': [76.16, None, 0, 0, 0, 12, None, None, None, 0, None, None], '7': [74.97, None, 0, 0, 0, 12, None, None, None, 0, None, None], '8': [75.1, None, 0, 0, 0, 12, None, None, None, 0, None, None]}}, '0:42:0:0:1:0:1': {'attributes': [], 'annotations': [], 'observations': {'4': [70.28, None, 0, 0, 0, 0, 1, None, None, 0, None, None], '6': [60.17, None, 0, 0, 0, 12, None, None, None, 0, None, None], '7': [58.52, None, 0, 0, 0, 12, None, None, None, 0, None, None], '8': [60.48, None, 0, 0, 0, 13, None, None, None, 0, None, None]}}, '0:42:0:0:1:1:0': {'attributes': [], 'annotations': [], 'observations': {'4': [81.31, None, 0, 0, 0, 0, 1, None, None, 0, None, None], '6': [76.94, None, 0, 0, 0, 13, None, None, None, 0, None, None], '7': [78.29, None, 0, 0, 0, 12, None, None, None, 0, None, None], '8': [78, None, 0, 0, 0, 13, None, None, None, 0, None, None]}}, '0:42:0:0:1:1:1': {'attributes': [], 'annotations': [], 'observations': {'4': [63.17, None, 0, 0, 0, 0, 1, None, None, 0, None, None], '6': [61.63, None, 0, 0, 0, 13, None, None, None, 0, None, None], '7': [61.43, None, 0, 0, 0, 13, None, None, None, 0, None, None], '8': [63.37, None, 0, 0, 0, 12, None, None, None, 0, None, None]}}, '0:42:0:0:2:0:0': {'attributes': [], 'annotations': [], 'observations': {'4': [83.67, None, 0, 0, 0, 0, 1, None, None, 0, None, None], '6': [85.61, None, 0, 0, 0, 12, None, None, None, 0, None, None], '7': [85.53, None, 0, 0, 0, 13, None, None, None, 0, None, None], '8': [86.43, None, 0, 0, 0, 13, None, None, None, 0, None, None]}}, '0:42:0:0:2:0:1': {'attributes': [], 'annotations': [], 'observations': {'4': [70.45, None, 0, 0, 0, 0, 1, None, None, 0, None, None], '6': [62.09, None, 0, 0, 0, 12, None, None, None, 0, None, None], '7': [61.27, None, 0, 0, 0, 12, None, None, None, 0, None, None], '8': [61.63, None, 0, 0, 0, 13, None, None, None, 0, None, None]}}, '0:42:0:0:2:1:0': {'attributes': [], 'annotations': [], 'observations': {'4': [80.02, None, 0, 0, 0, 0, 1, None, None, 0, None, None], '6': [78.66, None, 0, 0, 0, 13, None, None, None, 0, None, None], '7': [79.69, None, 0, 0, 0, 13, None, None, None, 0, None, None], '8': [81.3, None, 0, 0, 0, 13, None, None, None, 0, None, None]}}, '0:42:0:0:2:1:1': {'attributes': [], 'annotations': [], 'observations': {'4': [62.31, None, 0, 0, 0, 0, 1, None, None, 0, None, None], '6': [62.45, None, 0, 0, 0, 13, None, None, None, 0, None, None], '7': [63.09, None, 0, 0, 0, 13, None, None, None, 0, None, None], '8': [63.75, None, 0, 0, 0, 13, None, None, None, 0, None, None]}}, '0:43:0:0:0:0:0': {'attributes': [], 'annotations': [], 'observations': {'9': [52.14, None, 0, 0, 0, 0, None, None, None, 0, None, None], '0': [56.27, None, 0, 0, 0, 0, None, None, None, 0, None, None], '1': [58.57, None, 0, 0, 0, 0, None, None, None, 0, None, None], '2': [56.3, None, 0, 0, 0, 0, None, None, None, 0, None, None], '3': [49.8, None, 0, 0, 0, 0, None, None, None, 0, None, None], '4': [49.99, None, 0, 0, 0, 0, None, None, None, 0, None, None], '5': [50.66, None, 0, 0, 0, 0, None, None, None, 0, None, None], '6': [51.3, None, 0, 0, 0, 0, None, None, None, 0, None, None], '7': [48.8, None, 0, 0, 0, 0, None, None, None, 0, None, None], '8': [48.19, None, 0, 0, 0, 13, None, None, None, 0, None, None]}}, '0:43:0:0:0:0:1': {'attributes': [], 'annotations': [], 'observations': {'9': [48.68, None, 0, 0, 0, 0, None, None, None, 0, None, None], '0': [53.48, None, 0, 0, 0, 0, None, None, None, 0, None, None], '1': [56.05, None, 0, 0, 0, 0, None, None, None, 0, None, None], '2': [53.93, None, 0, 0, 0, 0, None, None, None, 0, None, None], '3': [47.04, None, 0, 0, 0, 0, None, None, None, 0, None, None], '4': [47.22, None, 0, 0, 0, 0, None, None, None, 0, None, None], '5': [47.41, None, 0, 0, 0, 0, None, None, None, 0, None, None], '6': [47.77, None, 0, 0, 0, 0, None, None, None, 0, None, None], '7': [44.38, None, 0, 0, 0, 0, None, None, None, 0, None, None], '8': [34.12, None, 0, 0, 0, 12, None, None, None, 0, None, None]}}, '0:43:0:0:0:1:0': {'attributes': [], 'annotations': [], 'observations': {'9': [29.38, None, 0, 0, 0, 0, None, None, None, 0, None, None], '0': [35.69, None, 0, 0, 0, 0, None, None, None, 0, None, None], '1': [36.96, None, 0, 0, 0, 0, None, None, None, 0, None, None], '2': [38.29, None, 0, 0, 0, 0, None, None, None, 0, None, None], '3': [31.22, None, 0, 0, 0, 0, None, None, None, 0, None, None], '4': [30.95, None, 0, 0, 0, 0, None, None, None, 0, None, None], '5': [30.08, None, 0, 0, 0, 0, None, None, None, 0, None, None], '6': [32.49, None, 0, 0, 0, 0, None, None, None, 0, None, None], '7': [30.93, None, 0, 0, 0, 0, None, None, None, 0, None, None], '8': [31.45, None, 0, 0, 0, 13, None, None, None, 0, None, None]}}, '0:43:0:0:0:1:1': {'attributes': [], 'annotations': [], 'observations': {'9': [25.77, None, 0, 0, 0, 0, None, None, None, 0, None, None], '0': [31.78, None, 0, 0, 0, 0, None, None, None, 0, None, None], '1': [33.14, None, 0, 0, 0, 0, None, None, None, 0, None, None], '2': [35.01, None, 0, 0, 0, 0, None, None, None, 0, None, None], '3': [27.41, None, 0, 0, 0, 0, None, None, None, 0, None, None], '4': [27.32, None, 0, 0, 0, 0, None, None, None, 0, None, None], '5': [25.54, None, 0, 0, 0, 0, None, None, None, 0, None, None], '6': [27.67, None, 0, 0, 0, 0, None, None, None, 0, None, None], '7': [25.75, None, 0, 0, 0, 0, None, None, None, 0, None, None], '8': [13.17, None, 0, 0, 0, 12, None, None, None, 0, None, None]}}, '0:43:0:0:1:0:0': {'attributes': [], 'annotations': [], 'observations': {'9': [55.16, None, 0, 0, 0, 0, None, None, None, 0, None, None], '0': [58.45, None, 0, 0, 0, 0, None, None, None, 0, None, None], '1': [60.47, None, 0, 0, 0, 0, None, None, None, 0, None, None], '2': [59.28, None, 0, 0, 0, 0, None, None, None, 0, None, None], '3': [53.54, None, 0, 0, 0, 0, None, None, None, 0, None, None], '4': [53.65, None, 0, 0, 0, 0, None, None, None, 0, None, None], '5': [54.01, None, 0, 0, 0, 0, None, None, None, 0, None, None], '6': [55.78, None, 0, 0, 0, 0, None, None, None, 0, None, None], '7': [52.88, None, 0, 0, 0, 0, None, None, None, 0, None, None], '8': [50.24, None, 0, 0, 0, 13, None, None, None, 0, None, None]}}, '0:43:0:0:1:0:1': {'attributes': [], 'annotations': [], 'observations': {'9': [53.16, None, 0, 0, 0, 0, None, None, None, 0, None, None], '0': [56.38, None, 0, 0, 0, 0, None, None, None, 0, None, None], '1': [58.54, None, 0, 0, 0, 0, None, None, None, 0, None, None], '2': [57.39, None, 0, 0, 0, 0, None, None, None, 0, None, None], '3': [51.66, None, 0, 0, 0, 0, None, None, None, 0, None, None], '4': [51.83, None, 0, 0, 0, 0, None, None, None, 0, None, None], '5': [51.87, None, 0, 0, 0, 0, None, None, None, 0, None, None], '6': [53.34, None, 0, 0, 0, 0, None, None, None, 0, None, None], '7': [50.31, None, 0, 0, 0, 0, None, None, None, 0, None, None], '8': [37.23, None, 0, 0, 0, 12, None, None, None, 0, None, None]}}, '0:43:0:0:1:1:0': {'attributes': [], 'annotations': [], 'observations': {'9': [33.27, None, 0, 0, 0, 0, None, None, None, 0, None, None], '0': [38.85, None, 0, 0, 0, 0, None, None, None, 0, None, None], '1': [39.36, None, 0, 0, 0, 0, None, None, None, 0, None, None], '2': [41.65, None, 0, 0, 0, 0, None, None, None, 0, None, None], '3': [35.36, None, 0, 0, 0, 0, None, None, None, 0, None, None], '4': [35.29, None, 0, 0, 0, 0, None, None, None, 0, None, None], '5': [33.09, None, 0, 0, 0, 0, None, None, None, 0, None, None], '6': [37.01, None, 0, 0, 0, 0, None, None, None, 0, None, None], '7': [35.11, None, 0, 0, 0, 0, None, None, None, 0, None, None], '8': [33.05, None, 0, 0, 0, 13, None, None, None, 0, None, None]}}, '0:43:0:0:1:1:1': {'attributes': [], 'annotations': [], 'observations': {'9': [31.08, None, 0, 0, 0, 0, None, None, None, 0, None, None], '0': [35.91, None, 0, 0, 0, 0, None, None, None, 0, None, None], '1': [36.4, None, 0, 0, 0, 0, None, None, None, 0, None, None], '2': [39.05, None, 0, 0, 0, 0, None, None, None, 0, None, None], '3': [32.72, None, 0, 0, 0, 0, None, None, None, 0, None, None], '4': [32.84, None, 0, 0, 0, 0, None, None, None, 0, None, None], '5': [30.09, None, 0, 0, 0, 0, None, None, None, 0, None, None], '6': [33.51, None, 0, 0, 0, 0, None, None, None, 0, None, None], '7': [31.86, None, 0, 0, 0, 0, None, None, None, 0, None, None], '8': [15.93, None, 0, 0, 0, 12, None, None, None, 0, None, None]}}, '0:43:0:0:2:0:0': {'attributes': [], 'annotations': [], 'observations': {'9': [48.79, None, 0, 0, 0, 0, None, None, None, 0, None, None], '0': [53.84, None, 0, 0, 0, 0, None, None, None, 0, None, None], '1': [56.5, None, 0, 0, 0, 0, None, None, None, 0, None, None], '2': [53.02, None, 0, 0, 0, 0, None, None, None, 0, None, None], '3': [45.66, None, 0, 0, 0, 0, None, None, None, 0, None, None], '4': [45.94, None, 0, 0, 0, 0, None, None, None, 0, None, None], '5': [46.94, None, 0, 0, 0, 0, None, None, None, 0, None, None], '6': [46.32, None, 0, 0, 0, 0, None, None, None, 0, None, None], '7': [44.11, None, 0, 0, 0, 0, None, None, None, 0, None, None], '8': [45.89, None, 0, 0, 0, 12, None, None, None, 0, None, None]}}, '0:43:0:0:2:0:1': {'attributes': [], 'annotations': [], 'observations': {'9': [43.72, None, 0, 0, 0, 0, None, None, None, 0, None, None], '0': [50.24, None, 0, 0, 0, 0, None, None, None, 0, None, None], '1': [53.34, None, 0, 0, 0, 0, None, None, None, 0, None, None], '2': [50.1, None, 0, 0, 0, 0, None, None, None, 0, None, None], '3': [41.91, None, 0, 0, 0, 0, None, None, None, 0, None, None], '4': [42.13, None, 0, 0, 0, 0, None, None, None, 0, None, None], '5': [42.45, None, 0, 0, 0, 0, None, None, None, 0, None, None], '6': [41.55, None, 0, 0, 0, 0, None, None, None, 0, None, None], '7': [37.57, None, 0, 0, 0, 0, None, None, None, 0, None, None], '8': [30.62, None, 0, 0, 0, 12, None, None, None, 0, None, None]}}, '0:43:0:0:2:1:0': {'attributes': [], 'annotations': [], 'observations': {'9': [25.23, None, 0, 0, 0, 0, None, None, None, 0, None, None], '0': [32.22, None, 0, 0, 0, 0, None, None, None, 0, None, None], '1': [34.4, None, 0, 0, 0, 0, None, None, None, 0, None, None], '2': [34.71, None, 0, 0, 0, 0, None, None, None, 0, None, None], '3': [26.82, None, 0, 0, 0, 0, None, None, None, 0, None, None], '4': [26.33, None, 0, 0, 0, 0, None, None, None, 0, None, None], '5': [26.94, None, 0, 0, 0, 0, None, None, None, 0, None, None], '6': [27.79, None, 0, 0, 0, 0, None, None, None, 0, None, None], '7': [26.37, None, 0, 0, 0, 0, None, None, None, 0, None, None], '8': [29.73, None, 0, 0, 0, 12, None, None, None, 0, None, None]}}, '0:43:0:0:2:1:1': {'attributes': [], 'annotations': [], 'observations': {'9': [20.11, None, 0, 0, 0, 0, None, None, None, 0, None, None], '0': [27.22, None, 0, 0, 0, 0, None, None, None, 0, None, None], '1': [29.69, None, 0, 0, 0, 0, None, None, None, 0, None, None], '2': [30.71, None, 0, 0, 0, 0, None, None, None, 0, None, None], '3': [21.78, None, 0, 0, 0, 0, None, None, None, 0, None, None], '4': [21.44, None, 0, 0, 0, 0, None, None, None, 0, None, None], '5': [20.81, None, 0, 0, 0, 0, None, None, None, 0, None, None], '6': [21.59, None, 0, 0, 0, 0, None, None, None, 0, None, None], '7': [19.1, None, 0, 0, 0, 0, None, None, None, 0, None, None], '8': [10.2, None, 0, 0, 0, 12, None, None, None, 0, None, None]}}, '0:44:0:0:0:0:0': {'attributes': [], 'annotations': [], 'observations': {'4': [95.67, None, 0, 0, 0, 0, None, None, None, 0, None, None]}}, '0:44:0:0:0:0:1': {'attributes': [], 'annotations': [], 'observations': {'4': [92.07, None, 0, 0, 0, 0, None, None, None, 0, None, None]}}, '0:44:0:0:0:1:0': {'attributes': [], 'annotations': [], 'observations': {'4': [86.71, None, 0, 0, 0, 0, None, None, None, 0, None, None]}}, '0:44:0:0:0:1:1': {'attributes': [], 'annotations': [], 'observations': {'4': [73.82, None, 0, 0, 0, 0, None, None, None, 0, None, None]}}, '0:44:0:0:1:0:0': {'attributes': [], 'annotations': [], 'observations': {'4': [92.66, None, 0, 0, 0, 0, None, None, None, 0, None, None]}}, '0:44:0:0:1:0:1': {'attributes': [], 'annotations': [], 'observations': {'4': [87.49, None, 0, 0, 0, 0, None, None, None, 0, None, None]}}, '0:44:0:0:1:1:0': {'attributes': [], 'annotations': [], 'observations': {'4': [83.86, None, 0, 0, 0, 0, None, None, None, 0, None, None]}}, '0:44:0:0:1:1:1': {'attributes': [], 'annotations': [], 'observations': {'4': [70.61, None, 0, 0, 0, 0, None, None, None, 0, None, None]}}, '0:44:0:0:2:0:0': {'attributes': [], 'annotations': [], 'observations': {'4': [98.39, None, 0, 0, 0, 0, None, None, None, 0, None, None]}}, '0:44:0:0:2:0:1': {'attributes': [], 'annotations': [], 'observations': {'4': [96.2, None, 0, 0, 0, 0, None, None, None, 0, None, None]}}, '0:44:0:0:2:1:0': {'attributes': [], 'annotations': [], 'observations': {'4': [92.25, None, 0, 0, 0, 0, None, None, None, 0, None, None]}}, '0:44:0:0:2:1:1': {'attributes': [], 'annotations': [], 'observations': {'4': [80.08, None, 0, 0, 0, 0, None, None, None, 0, None, None]}}, '0:45:0:0:0:0:0': {'attributes': [], 'annotations': [], 'observations': {'6': [91.24, None, 0, 0, 0, 11, None, None, None, 0, None, None]}}, '0:45:0:0:0:0:1': {'attributes': [], 'annotations': [], 'observations': {'6': [83.43, None, 0, 0, 0, 8, None, None, None, 0, None, None]}}, '0:45:0:0:0:1:0': {'attributes': [], 'annotations': [], 'observations': {'6': [89.43, None, 0, 0, 0, 11, None, None, None, 0, None, None]}}, '0:45:0:0:0:1:1': {'attributes': [], 'annotations': [], 'observations': {'6': [78.37, None, 0, 0, 0, 9, None, None, None, 0, None, None]}}, '0:45:0:0:1:0:0': {'attributes': [], 'annotations': [], 'observations': {'6': [90.94, None, 0, 0, 0, 24, None, None, None, 0, None, None]}}, '0:45:0:0:1:0:1': {'attributes': [], 'annotations': [], 'observations': {'6': [81.5, None, 0, 0, 0, 9, None, None, None, 0, None, None]}}, '0:45:0:0:1:1:0': {'attributes': [], 'annotations': [], 'observations': {'6': [88.48, None, 0, 0, 0, 10, None, None, None, 0, None, None]}}, '0:45:0:0:1:1:1': {'attributes': [], 'annotations': [], 'observations': {'6': [74.23, None, 0, 0, 0, 11, None, None, None, 0, None, None]}}, '0:45:0:0:2:0:0': {'attributes': [], 'annotations': [], 'observations': {'6': [91.75, None, 0, 0, 0, 9, None, None, None, 0, None, None]}}, '0:45:0:0:2:0:1': {'attributes': [], 'annotations': [], 'observations': {'6': [86.66, None, 0, 0, 0, 9, None, None, None, 0, None, None]}}, '0:45:0:0:2:1:0': {'attributes': [], 'annotations': [], 'observations': {'6': [90.76, None, 0, 0, 0, 11, None, None, None, 0, None, None]}}, '0:45:0:0:2:1:1': {'attributes': [], 'annotations': [], 'observations': {'6': [84.15, None, 0, 0, 0, 24, None, None, None, 0, None, None]}}, '0:46:0:0:0:0:0': {'attributes': [], 'annotations': [], 'observations': {'1': [51.3, None, 0, 0, 0, 14, None, None, None, 0, None, None], '2': [51.52, None, 0, 0, 0, 14, None, None, None, 0, None, None], '3': [54.72, None, 0, 0, 0, 14, None, None, None, 0, None, None], '4': [53.33, None, 0, 0, 0, 14, None, None, None, 0, None, None], '5': [52.87, None, 0, 0, 0, 14, None, None, None, 0, None, None], '6': [52.17, None, 0, 0, 0, 14, None, None, None, 0, None, None], '7': [53.53, None, 0, 0, 0, 15, None, None, None, 0, None, None]}}, '0:46:0:0:0:0:1': {'attributes': [], 'annotations': [], 'observations': {'1': [38.37, None, 0, 0, 0, 15, None, None, None, 0, None, None], '2': [38.81, None, 0, 0, 0, 15, None, None, None, 0, None, None], '3': [41.78, None, 0, 0, 0, 15, None, None, None, 0, None, None], '4': [40.55, None, 0, 0, 0, 14, None, None, None, 0, None, None], '5': [40.82, None, 0, 0, 0, 14, None, None, None, 0, None, None], '6': [39, None, 0, 0, 0, 15, None, None, None, 0, None, None], '7': [38.21, None, 0, 0, 0, 14, None, None, None, 0, None, None]}}, '0:46:0:0:0:1:0': {'attributes': [], 'annotations': [], 'observations': {'1': [49.74, None, 0, 0, 0, 14, None, None, None, 0, None, None], '2': [49.78, None, 0, 0, 0, 14, None, None, None, 0, None, None], '3': [52.81, None, 0, 0, 0, 15, None, None, None, 0, None, None], '4': [51.52, None, 0, 0, 0, 14, None, None, None, 0, None, None], '5': [51.18, None, 0, 0, 0, 15, None, None, None, 0, None, None], '6': [50.41, None, 0, 0, 0, 14, None, None, None, 0, None, None], '7': [52.39, None, 0, 0, 0, 15, None, None, None, 0, None, None]}}, '0:46:0:0:0:1:1': {'attributes': [], 'annotations': [], 'observations': {'1': [36.11, None, 0, 0, 0, 14, None, None, None, 0, None, None], '2': [36.31, None, 0, 0, 0, 14, None, None, None, 0, None, None], '3': [39.12, None, 0, 0, 0, 14, None, None, None, 0, None, None], '4': [38.07, None, 0, 0, 0, 14, None, None, None, 0, None, None], '5': [38.48, None, 0, 0, 0, 15, None, None, None, 0, None, None], '6': [36.58, None, 0, 0, 0, 15, None, None, None, 0, None, None], '7': [36.36, None, 0, 0, 0, 14, None, None, None, 0, None, None]}}, '0:46:0:0:1:0:0': {'attributes': [], 'annotations': [], 'observations': {'1': [51.98, None, 0, 0, 0, 15, None, None, None, 0, None, None], '2': [52.82, None, 0, 0, 0, 15, None, None, None, 0, None, None], '3': [55.41, None, 0, 0, 0, 14, None, None, None, 0, None, None], '4': [54.42, None, 0, 0, 0, 14, None, None, None, 0, None, None], '5': [53.94, None, 0, 0, 0, 15, None, None, None, 0, None, None], '6': [53.79, None, 0, 0, 0, 15, None, None, None, 0, None, None], '7': [55.44, None, 0, 0, 0, 14, None, None, None, 0, None, None]}}, '0:46:0:0:1:0:1': {'attributes': [], 'annotations': [], 'observations': {'1': [37.83, None, 0, 0, 0, 14, None, None, None, 0, None, None], '2': [39.33, None, 0, 0, 0, 14, None, None, None, 0, None, None], '3': [41.76, None, 0, 0, 0, 14, None, None, None, 0, None, None], '4': [40.24, None, 0, 0, 0, 14, None, None, None, 0, None, None], '5': [40.68, None, 0, 0, 0, 15, None, None, None, 0, None, None], '6': [40.12, None, 0, 0, 0, 14, None, None, None, 0, None, None], '7': [39.68, None, 0, 0, 0, 15, None, None, None, 0, None, None]}}, '0:46:0:0:1:1:0': {'attributes': [], 'annotations': [], 'observations': {'1': [50.85, None, 0, 0, 0, 15, None, None, None, 0, None, None], '2': [51.33, None, 0, 0, 0, 15, None, None, None, 0, None, None], '3': [53.68, None, 0, 0, 0, 14, None, None, None, 0, None, None], '4': [52.97, None, 0, 0, 0, 15, None, None, None, 0, None, None], '5': [52.76, None, 0, 0, 0, 14, None, None, None, 0, None, None], '6': [52.29, None, 0, 0, 0, 15, None, None, None, 0, None, None], '7': [54.5, None, 0, 0, 0, 15, None, None, None, 0, None, None]}}, '0:46:0:0:1:1:1': {'attributes': [], 'annotations': [], 'observations': {'1': [35.94, None, 0, 0, 0, 14, None, None, None, 0, None, None], '2': [36.96, None, 0, 0, 0, 15, None, None, None, 0, None, None], '3': [39.2, None, 0, 0, 0, 14, None, None, None, 0, None, None], '4': [38, None, 0, 0, 0, 14, None, None, None, 0, None, None], '5': [38.75, None, 0, 0, 0, 15, None, None, None, 0, None, None], '6': [37.88, None, 0, 0, 0, 15, None, None, None, 0, None, None], '7': [37.83, None, 0, 0, 0, 15, None, None, None, 0, None, None]}}, '0:46:0:0:2:0:0': {'attributes': [], 'annotations': [], 'observations': {'1': [50.08, None, 0, 0, 0, 15, None, None, None, 0, None, None], '2': [49.29, None, 0, 0, 0, 15, None, None, None, 0, None, None], '3': [53.56, None, 0, 0, 0, 14, None, None, None, 0, None, None], '4': [51.56, None, 0, 0, 0, 14, None, None, None, 0, None, None], '5': [51.07, None, 0, 0, 0, 15, None, None, None, 0, None, None], '6': [49.5, None, 0, 0, 0, 15, None, None, None, 0, None, None], '7': [50.44, None, 0, 0, 0, 15, None, None, None, 0, None, None]}}, '0:46:0:0:2:0:1': {'attributes': [], 'annotations': [], 'observations': {'1': [39.32, None, 0, 0, 0, 14, None, None, None, 0, None, None], '2': [37.93, None, 0, 0, 0, 15, None, None, None, 0, None, None], '3': [41.81, None, 0, 0, 0, 15, None, None, None, 0, None, None], '4': [41.04, None, 0, 0, 0, 15, None, None, None, 0, None, None], '5': [41.05, None, 0, 0, 0, 15, None, None, None, 0, None, None], '6': [37.14, None, 0, 0, 0, 15, None, None, None, 0, None, None], '7': [35.85, None, 0, 0, 0, 14, None, None, None, 0, None, None]}}, '0:46:0:0:2:1:0': {'attributes': [], 'annotations': [], 'observations': {'1': [47.77, None, 0, 0, 0, 14, None, None, None, 0, None, None], '2': [47.19, None, 0, 0, 0, 14, None, None, None, 0, None, None], '3': [51.37, None, 0, 0, 0, 15, None, None, None, 0, None, None], '4': [49.22, None, 0, 0, 0, 15, None, None, None, 0, None, None], '5': [48.61, None, 0, 0, 0, 14, None, None, None, 0, None, None], '6': [47.41, None, 0, 0, 0, 15, None, None, None, 0, None, None], '7': [49.1, None, 0, 0, 0, 14, None, None, None, 0, None, None]}}, '0:46:0:0:2:1:1': {'attributes': [], 'annotations': [], 'observations': {'1': [36.41, None, 0, 0, 0, 15, None, None, None, 0, None, None], '2': [35.24, None, 0, 0, 0, 14, None, None, None, 0, None, None], '3': [38.99, None, 0, 0, 0, 15, None, None, None, 0, None, None], '4': [38.18, None, 0, 0, 0, 14, None, None, None, 0, None, None], '5': [38.05, None, 0, 0, 0, 15, None, None, None, 0, None, None], '6': [34.52, None, 0, 0, 0, 15, None, None, None, 0, None, None], '7': [34.06, None, 0, 0, 0, 14, None, None, None, 0, None, None]}}, '0:47:0:0:0:0:0': {'attributes': [], 'annotations': [], 'observations': {'1': [54.18, None, 0, 0, 0, 0, None, None, None, 0, None, None], '2': [59.37, None, 0, 0, 0, 0, None, None, None, 0, None, None], '3': [56.51, None, 0, 0, 0, 0, None, None, None, 0, None, None], '5': [66.95, None, 0, 0, 0, 0, None, None, None, 0, None, None], '7': [55.76, None, 0, 0, 0, 0, None, None, None, 0, None, None]}}, '0:47:0:0:0:0:1': {'attributes': [], 'annotations': [], 'observations': {'1': [56.65, None, 0, 0, 0, 0, None, None, None, 0, None, None], '2': [59.66, None, 0, 0, 0, 0, None, None, None, 0, None, None], '3': [56.97, None, 0, 0, 0, 0, None, None, None, 0, None, None], '5': [62.12, None, 0, 0, 0, 0, None, None, None, 0, None, None], '7': [56.52, None, 0, 0, 0, 0, None, None, None, 0, None, None]}}, '0:47:0:0:0:1:0': {'attributes': [], 'annotations': [], 'observations': {'1': [41.51, None, 0, 0, 0, 0, None, None, None, 0, None, None], '2': [46.26, None, 0, 0, 0, 0, None, None, None, 0, None, None], '3': [43.98, None, 0, 0, 0, 0, None, None, None, 0, None, None], '5': [61.07, None, 0, 0, 0, 0, None, None, None, 0, None, None], '7': [46.97, None, 0, 0, 0, 0, None, None, None, 0, None, None]}}, '0:47:0:0:0:1:1': {'attributes': [], 'annotations': [], 'observations': {'1': [42.87, None, 0, 0, 0, 0, None, None, None, 0, None, None], '2': [44.19, None, 0, 0, 0, 0, None, None, None, 0, None, None], '3': [42.73, None, 0, 0, 0, 0, None, None, None, 0, None, None], '5': [55.34, None, 0, 0, 0, 0, None, None, None, 0, None, None], '7': [47.76, None, 0, 0, 0, 0, None, None, None, 0, None, None]}}, '0:47:0:0:1:0:0': {'attributes': [], 'annotations': [], 'observations': {'1': [50.77, None, 0, 0, 0, 0, None, None, None, 0, None, None], '2': [55.73, None, 0, 0, 0, 0, None, None, None, 0, None, None], '3': [52.48, None, 0, 0, 0, 0, None, None, None, 0, None, None], '5': [66.07, None, 0, 0, 0, 0, None, None, None, 0, None, None], '7': [53.15, None, 0, 0, 0, 0, None, None, None, 0, None, None]}}, '0:47:0:0:1:0:1': {'attributes': [], 'annotations': [], 'observations': {'1': [52.76, None, 0, 0, 0, 0, None, None, None, 0, None, None], '2': [56.21, None, 0, 0, 0, 0, None, None, None, 0, None, None], '3': [53.29, None, 0, 0, 0, 0, None, None, None, 0, None, None], '5': [61.86, None, 0, 0, 0, 0, None, None, None, 0, None, None], '7': [53.26, None, 0, 0, 0, 0, None, None, None, 0, None, None]}}, '0:47:0:0:1:1:0': {'attributes': [], 'annotations': [], 'observations': {'1': [38.46, None, 0, 0, 0, 0, None, None, None, 0, None, None], '2': [43.2, None, 0, 0, 0, 0, None, None, None, 0, None, None], '3': [40.79, None, 0, 0, 0, 0, None, None, None, 0, None, None], '5': [60.29, None, 0, 0, 0, 0, None, None, None, 0, None, None], '7': [43.41, None, 0, 0, 0, 0, None, None, None, 0, None, None]}}, '0:47:0:0:1:1:1': {'attributes': [], 'annotations': [], 'observations': {'1': [37.49, None, 0, 0, 0, 0, None, None, None, 0, None, None], '2': [39.84, None, 0, 0, 0, 0, None, None, None, 0, None, None], '3': [38.54, None, 0, 0, 0, 0, None, None, None, 0, None, None], '5': [55.1, None, 0, 0, 0, 0, None, None, None, 0, None, None], '7': [43.19, None, 0, 0, 0, 0, None, None, None, 0, None, None]}}, '0:47:0:0:2:0:0': {'attributes': [], 'annotations': [], 'observations': {'1': [57.92, None, 0, 0, 0, 0, None, None, None, 0, None, None], '2': [63.02, None, 0, 0, 0, 0, None, None, None, 0, None, None], '3': [60.84, None, 0, 0, 0, 0, None, None, None, 0, None, None], '5': [67.9, None, 0, 0, 0, 0, None, None, None, 0, None, None], '7': [58.36, None, 0, 0, 0, 0, None, None, None, 0, None, None]}}, '0:47:0:0:2:0:1': {'attributes': [], 'annotations': [], 'observations': {'1': [60.92, None, 0, 0, 0, 0, None, None, None, 0, None, None], '2': [63.12, None, 0, 0, 0, 0, None, None, None, 0, None, None], '3': [60.91, None, 0, 0, 0, 0, None, None, None, 0, None, None], '5': [62.39, None, 0, 0, 0, 0, None, None, None, 0, None, None], '7': [59.76, None, 0, 0, 0, 0, None, None, None, 0, None, None]}}, '0:47:0:0:2:1:0': {'attributes': [], 'annotations': [], 'observations': {'1': [44.8, None, 0, 0, 0, 0, None, None, None, 0, None, None], '2': [49.28, None, 0, 0, 0, 0, None, None, None, 0, None, None], '3': [47.49, None, 0, 0, 0, 0, None, None, None, 0, None, None], '5': [61.86, None, 0, 0, 0, 0, None, None, None, 0, None, None], '7': [50.38, None, 0, 0, 0, 0, None, None, None, 0, None, None]}}, '0:47:0:0:2:1:1': {'attributes': [], 'annotations': [], 'observations': {'1': [48.65, None, 0, 0, 0, 0, None, None, None, 0, None, None], '2': [48.5, None, 0, 0, 0, 0, None, None, None, 0, None, None], '3': [47.35, None, 0, 0, 0, 0, None, None, None, 0, None, None], '5': [55.58, None, 0, 0, 0, 0, None, None, None, 0, None, None], '7': [52.13, None, 0, 0, 0, 0, None, None, None, 0, None, None]}}, '0:48:0:0:0:0:0': {'attributes': [], 'annotations': [], 'observations': {'0': [95.38, None, 0, 0, 0, 0, None, None, None, 0, None, None]}}, '0:48:0:0:0:0:1': {'attributes': [], 'annotations': [], 'observations': {'0': [93.88, None, 0, 0, 0, 0, None, None, None, 0, None, None]}}, '0:48:0:0:0:1:0': {'attributes': [], 'annotations': [], 'observations': {'0': [86.35, None, 0, 0, 0, 0, None, None, None, 0, None, None]}}, '0:48:0:0:0:1:1': {'attributes': [], 'annotations': [], 'observations': {'0': [81.5, None, 0, 0, 0, 0, None, None, None, 0, None, None]}}, '0:48:0:0:1:0:0': {'attributes': [], 'annotations': [], 'observations': {'0': [93.03, None, 0, 0, 0, 0, None, None, None, 0, None, None]}}, '0:48:0:0:1:0:1': {'attributes': [], 'annotations': [], 'observations': {'0': [91.22, None, 0, 0, 0, 0, None, None, None, 0, None, None]}}, '0:48:0:0:1:1:0': {'attributes': [], 'annotations': [], 'observations': {'0': [76.41, None, 0, 0, 0, 0, None, None, None, 0, None, None]}}, '0:48:0:0:1:1:1': {'attributes': [], 'annotations': [], 'observations': {'0': [69.62, None, 0, 0, 0, 0, None, None, None, 0, None, None]}}, '0:48:0:0:2:0:0': {'attributes': [], 'annotations': [], 'observations': {'0': [98.14, None, 0, 0, 0, 0, None, None, None, 0, None, None]}}, '0:48:0:0:2:0:1': {'attributes': [], 'annotations': [], 'observations': {'0': [97, None, 0, 0, 0, 0, None, None, None, 0, None, None]}}, '0:48:0:0:2:1:0': {'attributes': [], 'annotations': [], 'observations': {'0': [95.06, None, 0, 0, 0, 0, None, None, None, 0, None, None]}}, '0:48:0:0:2:1:1': {'attributes': [], 'annotations': [], 'observations': {'0': [91.91, None, 0, 0, 0, 0, None, None, None, 0, None, None]}}, '0:49:0:0:0:0:0': {'attributes': [], 'annotations': [], 'observations': {'1': [81.79, None, 0, 0, 0, 0, 1, None, None, 0, None, None]}}, '0:49:0:0:0:0:1': {'attributes': [], 'annotations': [], 'observations': {'1': [74.88, None, 0, 0, 0, 0, 1, None, None, 0, None, None]}}, '0:49:0:0:0:1:0': {'attributes': [], 'annotations': [], 'observations': {'1': [74.91, None, 0, 0, 0, 0, 1, None, None, 0, None, None]}}, '0:49:0:0:0:1:1': {'attributes': [], 'annotations': [], 'observations': {'1': [67.29, None, 0, 0, 0, 0, 1, None, None, 0, None, None]}}, '0:49:0:0:1:0:0': {'attributes': [], 'annotations': [], 'observations': {'1': [81.31, None, 0, 0, 0, 0, 1, None, None, 0, None, None]}}, '0:49:0:0:1:0:1': {'attributes': [], 'annotations': [], 'observations': {'1': [73.07, None, 0, 0, 0, 0, 1, None, None, 0, None, None]}}, '0:49:0:0:1:1:0': {'attributes': [], 'annotations': [], 'observations': {'1': [70.66, None, 0, 0, 0, 0, 1, None, None, 0, None, None]}}, '0:49:0:0:1:1:1': {'attributes': [], 'annotations': [], 'observations': {'1': [60.57, None, 0, 0, 0, 0, 1, None, None, 0, None, None]}}, '0:49:0:0:2:0:0': {'attributes': [], 'annotations': [], 'observations': {'1': [82.38, None, 0, 0, 0, 0, 1, None, None, 0, None, None]}}, '0:49:0:0:2:0:1': {'attributes': [], 'annotations': [], 'observations': {'1': [77.14, None, 0, 0, 0, 0, 1, None, None, 0, None, None]}}, '0:49:0:0:2:1:0': {'attributes': [], 'annotations': [], 'observations': {'1': [78.69, None, 0, 0, 0, 0, 1, None, None, 0, None, None]}}, '0:49:0:0:2:1:1': {'attributes': [], 'annotations': [], 'observations': {'1': [73.28, None, 0, 0, 0, 0, 1, None, None, 0, None, None]}}, '0:50:0:0:0:0:0': {'attributes': [], 'annotations': [], 'observations': {'6': [80.81, None, 0, 0, 0, 0, None, None, None, 0, None, None]}}, '0:50:0:0:0:0:1': {'attributes': [], 'annotations': [], 'observations': {'6': [57.46, None, 0, 0, 0, 0, None, None, None, 0, None, None]}}, '0:50:0:0:0:1:0': {'attributes': [], 'annotations': [], 'observations': {'6': [77.62, None, 0, 0, 0, 0, None, None, None, 0, None, None]}}, '0:50:0:0:0:1:1': {'attributes': [], 'annotations': [], 'observations': {'6': [49.72, None, 0, 0, 0, 0, None, None, None, 0, None, None]}}, '0:50:0:0:1:0:0': {'attributes': [], 'annotations': [], 'observations': {'6': [77.45, None, 0, 0, 0, 0, None, None, None, 0, None, None]}}, '0:50:0:0:1:0:1': {'attributes': [], 'annotations': [], 'observations': {'6': [55.47, None, 0, 0, 0, 0, None, None, None, 0, None, None]}}, '0:50:0:0:1:1:0': {'attributes': [], 'annotations': [], 'observations': {'6': [75.38, None, 0, 0, 0, 0, None, None, None, 0, None, None]}}, '0:50:0:0:1:1:1': {'attributes': [], 'annotations': [], 'observations': {'6': [50.55, None, 0, 0, 0, 0, None, None, None, 0, None, None]}}, '0:50:0:0:2:0:0': {'attributes': [], 'annotations': [], 'observations': {'6': [86.47, None, 0, 0, 0, 0, None, None, None, 0, None, None]}}, '0:50:0:0:2:0:1': {'attributes': [], 'annotations': [], 'observations': {'6': [60.82, None, 0, 0, 0, 0, None, None, None, 0, None, None]}}, '0:50:0:0:2:1:0': {'attributes': [], 'annotations': [], 'observations': {'6': [82.43, None, 0, 0, 0, 0, None, None, None, 0, None, None]}}, '0:50:0:0:2:1:1': {'attributes': [], 'annotations': [], 'observations': {'6': [47.94, None, 0, 0, 0, 0, None, None, None, 0, None, None]}}, '0:51:0:0:0:0:0': {'attributes': [], 'annotations': [], 'observations': {'9': [81.2, None, 0, 0, 0, 0, None, None, None, 0, None, None], '0': [82.32, None, 0, 0, 0, 0, None, None, None, 0, None, None], '2': [81.69, None, 0, 0, 0, 0, 1, None, None, 0, None, None], '3': [83.52, None, 0, 0, 0, 0, None, None, None, 0, None, None], '4': [82.71, None, 0, 0, 0, 0, None, None, None, 0, None, None], '7': [81.73, None, 0, 0, 0, 20, None, None, None, 0, None, None]}}, '0:51:0:0:0:0:1': {'attributes': [], 'annotations': [], 'observations': {'9': [82.92, None, 0, 0, 0, 0, None, None, None, 0, None, None], '0': [82.49, None, 0, 0, 0, 0, None, None, None, 0, None, None], '2': [82.65, None, 0, 0, 0, 0, 1, None, None, 0, None, None], '3': [83.71, None, 0, 0, 0, 0, None, None, None, 0, None, None], '4': [83.42, None, 0, 0, 0, 0, None, None, None, 0, None, None], '7': [80.01, None, 0, 0, 0, 21, None, None, None, 0, None, None]}}, '0:51:0:0:0:1:0': {'attributes': [], 'annotations': [], 'observations': {'9': [67.57, None, 0, 0, 0, 0, None, None, None, 0, None, None], '0': [69.23, None, 0, 0, 0, 0, None, None, None, 0, None, None], '2': [68.97, None, 0, 0, 0, 0, 1, None, None, 0, None, None], '3': [71.99, None, 0, 0, 0, 0, None, None, None, 0, None, None], '4': [71.23, None, 0, 0, 0, 0, None, None, None, 0, None, None], '7': [71.23, None, 0, 0, 0, 20, None, None, None, 0, None, None]}}, '0:51:0:0:0:1:1': {'attributes': [], 'annotations': [], 'observations': {'9': [69.83, None, 0, 0, 0, 0, None, None, None, 0, None, None], '0': [69.01, None, 0, 0, 0, 0, None, None, None, 0, None, None], '2': [69.96, None, 0, 0, 0, 0, 1, None, None, 0, None, None], '3': [71.79, None, 0, 0, 0, 0, None, None, None, 0, None, None], '4': [71.89, None, 0, 0, 0, 0, None, None, None, 0, None, None], '7': [68.07, None, 0, 0, 0, 20, None, None, None, 0, None, None]}}, '0:51:0:0:1:0:0': {'attributes': [], 'annotations': [], 'observations': {'9': [78.55, None, 0, 0, 0, 0, None, None, None, 0, None, None], '0': [79.81, None, 0, 0, 0, 0, None, None, None, 0, None, None], '2': [79.11, None, 0, 0, 0, 0, 1, None, None, 0, None, None], '3': [80.97, None, 0, 0, 0, 0, None, None, None, 0, None, None], '4': [79.92, None, 0, 0, 0, 0, None, None, None, 0, None, None], '7': [79.31, None, 0, 0, 0, 21, None, None, None, 0, None, None]}}, '0:51:0:0:1:0:1': {'attributes': [], 'annotations': [], 'observations': {'9': [80.59, None, 0, 0, 0, 0, None, None, None, 0, None, None], '0': [80.03, None, 0, 0, 0, 0, None, None, None, 0, None, None], '2': [80.13, None, 0, 0, 0, 0, 1, None, None, 0, None, None], '3': [81.16, None, 0, 0, 0, 0, None, None, None, 0, None, None], '4': [80.94, None, 0, 0, 0, 0, None, None, None, 0, None, None], '7': [77.39, None, 0, 0, 0, 20, None, None, None, 0, None, None]}}, '0:51:0:0:1:1:0': {'attributes': [], 'annotations': [], 'observations': {'9': [67.75, None, 0, 0, 0, 0, None, None, None, 0, None, None], '0': [69.55, None, 0, 0, 0, 0, None, None, None, 0, None, None], '2': [69.34, None, 0, 0, 0, 0, 1, None, None, 0, None, None], '3': [72, None, 0, 0, 0, 0, None, None, None, 0, None, None], '4': [70.99, None, 0, 0, 0, 0, None, None, None, 0, None, None], '7': [71.05, None, 0, 0, 0, 20, None, None, None, 0, None, None]}}, '0:51:0:0:1:1:1': {'attributes': [], 'annotations': [], 'observations': {'9': [70.06, None, 0, 0, 0, 0, None, None, None, 0, None, None], '0': [69.33, None, 0, 0, 0, 0, None, None, None, 0, None, None], '2': [70.3, None, 0, 0, 0, 0, 1, None, None, 0, None, None], '3': [71.77, None, 0, 0, 0, 0, None, None, None, 0, None, None], '4': [71.97, None, 0, 0, 0, 0, None, None, None, 0, None, None], '7': [67.89, None, 0, 0, 0, 20, None, None, None, 0, None, None]}}, '0:51:0:0:2:0:0': {'attributes': [], 'annotations': [], 'observations': {'9': [91.04, None, 0, 0, 0, 0, None, None, None, 0, None, None], '0': [91.29, None, 0, 0, 0, 0, None, None, None, 0, None, None], '2': [90.94, None, 0, 0, 0, 0, 1, None, None, 0, None, None], '3': [92.19, None, 0, 0, 0, 0, None, None, None, 0, None, None], '4': [92.26, None, 0, 0, 0, 0, None, None, None, 0, None, None], '7': [90.64, None, 0, 0, 0, 21, None, None, None, 0, None, None]}}, '0:51:0:0:2:0:1': {'attributes': [], 'annotations': [], 'observations': {'9': [91.58, None, 0, 0, 0, 0, None, None, None, 0, None, None], '0': [91.29, None, 0, 0, 0, 0, None, None, None, 0, None, None], '2': [91.67, None, 0, 0, 0, 0, 1, None, None, 0, None, None], '3': [92.4, None, 0, 0, 0, 0, None, None, None, 0, None, None], '4': [91.87, None, 0, 0, 0, 0, None, None, None, 0, None, None], '7': [89.63, None, 0, 0, 0, 21, None, None, None, 0, None, None]}}, '0:51:0:0:2:1:0': {'attributes': [], 'annotations': [], 'observations': {'9': [65.91, None, 0, 0, 0, 0, None, None, None, 0, None, None], '0': [66.35, None, 0, 0, 0, 0, None, None, None, 0, None, None], '2': [65.41, None, 0, 0, 0, 0, 1, None, None, 0, None, None], '3': [71.92, None, 0, 0, 0, 0, None, None, None, 0, None, None], '4': [73.17, None, 0, 0, 0, 0, None, None, None, 0, None, None], '7': [72.57, None, 0, 0, 0, 20, None, None, None, 0, None, None]}}, '0:51:0:0:2:1:1': {'attributes': [], 'annotations': [], 'observations': {'9': [67.72, None, 0, 0, 0, 0, None, None, None, 0, None, None], '2': [66.77, None, 0, 0, 0, 0, 1, None, None, 0, None, None], '3': [71.95, None, 0, 0, 0, 0, None, None, None, 0, None, None], '4': [71.24, None, 0, 0, 0, 0, None, None, None, 0, None, None], '7': [69.4, None, 0, 0, 0, 21, None, None, None, 0, None, None]}}, '0:52:0:0:0:0:0': {'attributes': [], 'annotations': [], 'observations': {'0': [46.55, None, 0, 0, 0, 25, None, None, None, 0, None, None], '1': [46.97, None, 0, 0, 0, 26, None, None, None, 0, None, None], '2': [47.86, None, 0, 0, 0, 25, None, None, None, 0, None, None], '3': [48.02, None, 0, 0, 0, 26, None, None, None, 0, None, None], '4': [47.85, None, 0, 0, 0, 25, None, None, None, 0, None, None], '5': [48.52, None, 0, 0, 0, 26, None, None, None, 0, None, None], '6': [49.4, None, 0, 0, 0, 26, None, None, None, 0, None, None], '7': [51.36, None, 0, 0, 0, 26, None, None, None, 0, None, None], '8': [52.8, None, 0, 0, 0, 25, None, None, None, 0, None, None]}}, '0:52:0:0:0:0:1': {'attributes': [], 'annotations': [], 'observations': {'0': [39.55, None, 0, 0, 0, 26, None, None, None, 0, None, None], '1': [40.51, None, 0, 0, 0, 25, None, None, None, 0, None, None], '2': [40.65, None, 0, 0, 0, 26, None, None, None, 0, None, None], '3': [40.95, None, 0, 0, 0, 26, None, None, None, 0, None, None], '4': [39.19, None, 0, 0, 0, 26, None, None, None, 0, None, None], '5': [41.14, None, 0, 0, 0, 26, None, None, None, 0, None, None], '6': [40.43, None, 0, 0, 0, 25, None, None, None, 0, None, None], '7': [42.57, None, 0, 0, 0, 25, None, None, None, 0, None, None], '8': [45.47, None, 0, 0, 0, 26, None, None, None, 0, None, None]}}, '0:52:0:0:0:1:0': {'attributes': [], 'annotations': [], 'observations': {'0': [38.88, None, 0, 0, 0, 25, None, None, None, 0, None, None], '1': [38.97, None, 0, 0, 0, 25, None, None, None, 0, None, None], '2': [39.93, None, 0, 0, 0, 26, None, None, None, 0, None, None], '3': [40.88, None, 0, 0, 0, 25, None, None, None, 0, None, None], '4': [41.22, None, 0, 0, 0, 26, None, None, None, 0, None, None], '5': [41.21, None, 0, 0, 0, 26, None, None, None, 0, None, None], '6': [42.7, None, 0, 0, 0, 25, None, None, None, 0, None, None], '7': [45.26, None, 0, 0, 0, 25, None, None, None, 0, None, None], '8': [46.71, None, 0, 0, 0, 25, None, None, None, 0, None, None]}}, '0:52:0:0:0:1:1': {'attributes': [], 'annotations': [], 'observations': {'0': [31.58, None, 0, 0, 0, 26, None, None, None, 0, None, None], '1': [32.14, None, 0, 0, 0, 26, None, None, None, 0, None, None], '2': [32.23, None, 0, 0, 0, 26, None, None, None, 0, None, None], '3': [33.37, None, 0, 0, 0, 25, None, None, None, 0, None, None], '4': [31.96, None, 0, 0, 0, 26, None, None, None, 0, None, None], '5': [33.54, None, 0, 0, 0, 25, None, None, None, 0, None, None], '6': [33.47, None, 0, 0, 0, 25, None, None, None, 0, None, None], '7': [36.09, None, 0, 0, 0, 25, None, None, None, 0, None, None], '8': [38.96, None, 0, 0, 0, 25, None, None, None, 0, None, None]}}, '0:52:0:0:1:0:0': {'attributes': [], 'annotations': [], 'observations': {'0': [49.56, None, 0, 0, 0, 25, None, None, None, 0, None, None], '1': [49.26, None, 0, 0, 0, 26, None, None, None, 0, None, None], '2': [49.67, None, 0, 0, 0, 25, None, None, None, 0, None, None], '3': [50.73, None, 0, 0, 0, 25, None, None, None, 0, None, None], '4': [50.18, None, 0, 0, 0, 25, None, None, None, 0, None, None], '5': [50.74, None, 0, 0, 0, 25, None, None, None, 0, None, None], '6': [51.23, None, 0, 0, 0, 25, None, None, None, 0, None, None], '7': [52.58, None, 0, 0, 0, 25, None, None, None, 0, None, None], '8': [54.16, None, 0, 0, 0, 25, None, None, None, 0, None, None]}}, '0:52:0:0:1:0:1': {'attributes': [], 'annotations': [], 'observations': {'0': [42.11, None, 0, 0, 0, 26, None, None, None, 0, None, None], '1': [41.89, None, 0, 0, 0, 25, None, None, None, 0, None, None], '2': [41.72, None, 0, 0, 0, 26, None, None, None, 0, None, None], '3': [42.84, None, 0, 0, 0, 25, None, None, None, 0, None, None], '4': [40.28, None, 0, 0, 0, 25, None, None, None, 0, None, None], '5': [42.47, None, 0, 0, 0, 26, None, None, None, 0, None, None], '6': [41.41, None, 0, 0, 0, 25, None, None, None, 0, None, None], '7': [42.84, None, 0, 0, 0, 25, None, None, None, 0, None, None], '8': [45.94, None, 0, 0, 0, 25, None, None, None, 0, None, None]}}, '0:52:0:0:1:1:0': {'attributes': [], 'annotations': [], 'observations': {'0': [39.61, None, 0, 0, 0, 26, None, None, None, 0, None, None], '1': [39.16, None, 0, 0, 0, 26, None, None, None, 0, None, None], '2': [39.82, None, 0, 0, 0, 25, None, None, None, 0, None, None], '3': [42.03, None, 0, 0, 0, 26, None, None, None, 0, None, None], '4': [42.04, None, 0, 0, 0, 26, None, None, None, 0, None, None], '5': [41.76, None, 0, 0, 0, 25, None, None, None, 0, None, None], '6': [43.08, None, 0, 0, 0, 26, None, None, None, 0, None, None], '7': [44.9, None, 0, 0, 0, 26, None, None, None, 0, None, None], '8': [46.63, None, 0, 0, 0, 25, None, None, None, 0, None, None]}}, '0:52:0:0:1:1:1': {'attributes': [], 'annotations': [], 'observations': {'0': [31.74, None, 0, 0, 0, 25, None, None, None, 0, None, None], '1': [31.03, None, 0, 0, 0, 25, None, None, None, 0, None, None], '2': [31.2, None, 0, 0, 0, 25, None, None, None, 0, None, None], '3': [33.25, None, 0, 0, 0, 26, None, None, None, 0, None, None], '4': [31.05, None, 0, 0, 0, 25, None, None, None, 0, None, None], '5': [33.01, None, 0, 0, 0, 25, None, None, None, 0, None, None], '6': [32.81, None, 0, 0, 0, 26, None, None, None, 0, None, None], '7': [34.52, None, 0, 0, 0, 26, None, None, None, 0, None, None], '8': [37.63, None, 0, 0, 0, 26, None, None, None, 0, None, None]}}, '0:52:0:0:2:0:0': {'attributes': [], 'annotations': [], 'observations': {'0': [41.68, None, 0, 0, 0, 26, None, None, None, 0, None, None], '1': [43.42, None, 0, 0, 0, 25, None, None, None, 0, None, None], '2': [45.06, None, 0, 0, 0, 26, None, None, None, 0, None, None], '3': [43.94, None, 0, 0, 0, 25, None, None, None, 0, None, None], '4': [44.38, None, 0, 0, 0, 26, None, None, None, 0, None, None], '5': [45.25, None, 0, 0, 0, 25, None, None, None, 0, None, None], '6': [46.72, None, 0, 0, 0, 26, None, None, None, 0, None, None], '7': [49.6, None, 0, 0, 0, 25, None, None, None, 0, None, None], '8': [50.9, None, 0, 0, 0, 26, None, None, None, 0, None, None]}}, '0:52:0:0:2:0:1': {'attributes': [], 'annotations': [], 'observations': {'0': [35.4, None, 0, 0, 0, 25, None, None, None, 0, None, None], '1': [38.35, None, 0, 0, 0, 25, None, None, None, 0, None, None], '2': [39, None, 0, 0, 0, 25, None, None, None, 0, None, None], '3': [38.09, None, 0, 0, 0, 25, None, None, None, 0, None, None], '4': [37.59, None, 0, 0, 0, 26, None, None, None, 0, None, None], '5': [39.18, None, 0, 0, 0, 26, None, None, None, 0, None, None], '6': [38.98, None, 0, 0, 0, 26, None, None, None, 0, None, None], '7': [42.17, None, 0, 0, 0, 25, None, None, None, 0, None, None], '8': [44.81, None, 0, 0, 0, 25, None, None, None, 0, None, None]}}, '0:52:0:0:2:1:0': {'attributes': [], 'annotations': [], 'observations': {'0': [37.9, None, 0, 0, 0, 26, None, None, None, 0, None, None], '1': [38.71, None, 0, 0, 0, 26, None, None, None, 0, None, None], '2': [40.07, None, 0, 0, 0, 26, None, None, None, 0, None, None], '3': [39.37, None, 0, 0, 0, 25, None, None, None, 0, None, None], '4': [40.17, None, 0, 0, 0, 25, None, None, None, 0, None, None], '5': [40.51, None, 0, 0, 0, 26, None, None, None, 0, None, None], '6': [42.2, None, 0, 0, 0, 26, None, None, None, 0, None, None], '7': [45.71, None, 0, 0, 0, 26, None, None, None, 0, None, None], '8': [46.81, None, 0, 0, 0, 25, None, None, None, 0, None, None]}}, '0:52:0:0:2:1:1': {'attributes': [], 'annotations': [], 'observations': {'0': [31.37, None, 0, 0, 0, 26, None, None, None, 0, None, None], '1': [33.62, None, 0, 0, 0, 25, None, None, None, 0, None, None], '2': [33.63, None, 0, 0, 0, 26, None, None, None, 0, None, None], '3': [33.52, None, 0, 0, 0, 25, None, None, None, 0, None, None], '4': [33.14, None, 0, 0, 0, 26, None, None, None, 0, None, None], '5': [34.22, None, 0, 0, 0, 26, None, None, None, 0, None, None], '6': [34.35, None, 0, 0, 0, 25, None, None, None, 0, None, None], '7': [38.09, None, 0, 0, 0, 26, None, None, None, 0, None, None], '8': [40.61, None, 0, 0, 0, 26, None, None, None, 0, None, None]}}, '0:53:0:0:0:0:0': {'attributes': [], 'annotations': [], 'observations': {'9': [77.46, None, 0, 0, 0, 0, None, None, None, 0, None, None], '0': [76.42, None, 0, 0, 0, 0, None, None, None, 0, None, None], '1': [71.38, None, 0, 0, 0, 0, None, None, None, 0, None, None], '2': [70.59, None, 0, 0, 0, 0, None, None, None, 0, None, None], '3': [69.67, None, 0, 0, 0, 0, None, None, None, 0, None, None], '4': [69.98, None, 0, 0, 0, 0, None, None, None, 0, None, None], '5': [68.84, None, 0, 0, 0, 0, None, None, None, 0, None, None], '6': [68.96, None, 0, 0, 0, 0, None, None, None, 0, None, None], '7': [69.4, None, 0, 0, 0, 0, None, None, None, 0, None, None], '8': [69.49, None, 0, 0, 0, 0, None, None, None, 0, None, None]}}, '0:53:0:0:0:0:1': {'attributes': [], 'annotations': [], 'observations': {'9': [72.07, None, 0, 0, 0, 0, None, None, None, 0, None, None], '0': [71.67, None, 0, 0, 0, 0, None, None, None, 0, None, None], '1': [60.74, None, 0, 0, 0, 0, None, None, None, 0, None, None], '2': [59.96, None, 0, 0, 0, 0, None, None, None, 0, None, None], '3': [59.68, None, 0, 0, 0, 0, None, None, None, 0, None, None], '4': [59.51, None, 0, 0, 0, 0, None, None, None, 0, None, None], '5': [58.9, None, 0, 0, 0, 0, None, None, None, 0, None, None], '6': [59.96, None, 0, 0, 0, 0, None, None, None, 0, None, None], '7': [60.63, None, 0, 0, 0, 0, None, None, None, 0, None, None], '8': [61.17, None, 0, 0, 0, 0, None, None, None, 0, None, None]}}, '0:53:0:0:0:1:0': {'attributes': [], 'annotations': [], 'observations': {'9': [70.11, None, 0, 0, 0, 0, None, None, None, 0, None, None], '0': [68.66, None, 0, 0, 0, 0, None, None, None, 0, None, None], '1': [62.26, None, 0, 0, 0, 0, None, None, None, 0, None, None], '2': [61.26, None, 0, 0, 0, 0, None, None, None, 0, None, None], '3': [59.79, None, 0, 0, 0, 0, None, None, None, 0, None, None], '4': [60.27, None, 0, 0, 0, 0, None, None, None, 0, None, None], '5': [58.62, None, 0, 0, 0, 0, None, None, None, 0, None, None], '6': [59.2, None, 0, 0, 0, 0, None, None, None, 0, None, None], '7': [59.91, None, 0, 0, 0, 0, None, None, None, 0, None, None], '8': [60.3, None, 0, 0, 0, 0, None, None, None, 0, None, None]}}, '0:53:0:0:0:1:1': {'attributes': [], 'annotations': [], 'observations': {'9': [62.38, None, 0, 0, 0, 0, None, None, None, 0, None, None], '0': [61.75, None, 0, 0, 0, 0, None, None, None, 0, None, None], '1': [47.65, None, 0, 0, 0, 0, None, None, None, 0, None, None], '2': [46.74, None, 0, 0, 0, 0, None, None, None, 0, None, None], '3': [45.85, None, 0, 0, 0, 0, None, None, None, 0, None, None], '4': [45.64, None, 0, 0, 0, 0, None, None, None, 0, None, None], '5': [44.71, None, 0, 0, 0, 0, None, None, None, 0, None, None], '6': [46.67, None, 0, 0, 0, 0, None, None, None, 0, None, None], '7': [47.68, None, 0, 0, 0, 0, None, None, None, 0, None, None], '8': [48.81, None, 0, 0, 0, 0, None, None, None, 0, None, None]}}, '0:53:0:0:1:0:0': {'attributes': [], 'annotations': [], 'observations': {'9': [71.84, None, 0, 0, 0, 0, None, None, None, 0, None, None], '0': [71.91, None, 0, 0, 0, 0, None, None, None, 0, None, None], '1': [66.28, None, 0, 0, 0, 0, None, None, None, 0, None, None], '2': [65.29, None, 0, 0, 0, 0, None, None, None, 0, None, None], '3': [64.78, None, 0, 0, 0, 0, None, None, None, 0, None, None], '4': [65.38, None, 0, 0, 0, 0, None, None, None, 0, None, None], '5': [64.13, None, 0, 0, 0, 0, None, None, None, 0, None, None], '6': [64.14, None, 0, 0, 0, 0, None, None, None, 0, None, None], '7': [64.69, None, 0, 0, 0, 0, None, None, None, 0, None, None], '8': [64.61, None, 0, 0, 0, 0, None, None, None, 0, None, None]}}, '0:53:0:0:1:0:1': {'attributes': [], 'annotations': [], 'observations': {'9': [67.05, None, 0, 0, 0, 0, None, None, None, 0, None, None], '0': [67.85, None, 0, 0, 0, 0, None, None, None, 0, None, None], '1': [56.41, None, 0, 0, 0, 0, None, None, None, 0, None, None], '2': [55.11, None, 0, 0, 0, 0, None, None, None, 0, None, None], '3': [55.78, None, 0, 0, 0, 0, None, None, None, 0, None, None], '4': [55.84, None, 0, 0, 0, 0, None, None, None, 0, None, None], '5': [55.6, None, 0, 0, 0, 0, None, None, None, 0, None, None], '6': [56.31, None, 0, 0, 0, 0, None, None, None, 0, None, None], '7': [57.16, None, 0, 0, 0, 0, None, None, None, 0, None, None], '8': [57.43, None, 0, 0, 0, 0, None, None, None, 0, None, None]}}, '0:53:0:0:1:1:0': {'attributes': [], 'annotations': [], 'observations': {'9': [62.68, None, 0, 0, 0, 0, None, None, None, 0, None, None], '0': [62.36, None, 0, 0, 0, 0, None, None, None, 0, None, None], '1': [55.34, None, 0, 0, 0, 0, None, None, None, 0, None, None], '2': [54.36, None, 0, 0, 0, 0, None, None, None, 0, None, None], '3': [53.34, None, 0, 0, 0, 0, None, None, None, 0, None, None], '4': [54.19, None, 0, 0, 0, 0, None, None, None, 0, None, None], '5': [52.41, None, 0, 0, 0, 0, None, None, None, 0, None, None], '6': [52.69, None, 0, 0, 0, 0, None, None, None, 0, None, None], '7': [53.43, None, 0, 0, 0, 0, None, None, None, 0, None, None], '8': [54.03, None, 0, 0, 0, 0, None, None, None, 0, None, None]}}, '0:53:0:0:1:1:1': {'attributes': [], 'annotations': [], 'observations': {'9': [55.4, None, 0, 0, 0, 0, None, None, None, 0, None, None], '0': [56.06, None, 0, 0, 0, 0, None, None, None, 0, None, None], '1': [41.39, None, 0, 0, 0, 0, None, None, None, 0, None, None], '2': [40.18, None, 0, 0, 0, 0, None, None, None, 0, None, None], '3': [40.36, None, 0, 0, 0, 0, None, None, None, 0, None, None], '4': [40.51, None, 0, 0, 0, 0, None, None, None, 0, None, None], '5': [40.09, None, 0, 0, 0, 0, None, None, None, 0, None, None], '6': [41.32, None, 0, 0, 0, 0, None, None, None, 0, None, None], '7': [42.43, None, 0, 0, 0, 0, None, None, None, 0, None, None], '8': [43.68, None, 0, 0, 0, 0, None, None, None, 0, None, None]}}, '0:53:0:0:2:0:0': {'attributes': [], 'annotations': [], 'observations': {'9': [83.82, None, 0, 0, 0, 0, None, None, None, 0, None, None], '0': [81.55, None, 0, 0, 0, 0, None, None, None, 0, None, None], '1': [77.21, None, 0, 0, 0, 0, None, None, None, 0, None, None], '2': [76.69, None, 0, 0, 0, 0, None, None, None, 0, None, None], '3': [75.2, None, 0, 0, 0, 0, None, None, None, 0, None, None], '4': [75.21, None, 0, 0, 0, 0, None, None, None, 0, None, None], '5': [74.2, None, 0, 0, 0, 0, None, None, None, 0, None, None], '6': [74.36, None, 0, 0, 0, 0, None, None, None, 0, None, None], '7': [74.61, None, 0, 0, 0, 0, None, None, None, 0, None, None], '8': [74.86, None, 0, 0, 0, 0, None, None, None, 0, None, None]}}, '0:53:0:0:2:0:1': {'attributes': [], 'annotations': [], 'observations': {'9': [77.74, None, 0, 0, 0, 0, None, None, None, 0, None, None], '0': [76.02, None, 0, 0, 0, 0, None, None, None, 0, None, None], '1': [65.71, None, 0, 0, 0, 0, None, None, None, 0, None, None], '2': [65.52, None, 0, 0, 0, 0, None, None, None, 0, None, None], '3': [64.08, None, 0, 0, 0, 0, None, None, None, 0, None, None], '4': [63.69, None, 0, 0, 0, 0, None, None, None, 0, None, None], '5': [62.65, None, 0, 0, 0, 0, None, None, None, 0, None, None], '6': [64.06, None, 0, 0, 0, 0, None, None, None, 0, None, None], '7': [64.46, None, 0, 0, 0, 0, None, None, None, 0, None, None], '8': [65.3, None, 0, 0, 0, 0, None, None, None, 0, None, None]}}, '0:53:0:0:2:1:0': {'attributes': [], 'annotations': [], 'observations': {'9': [78.3, None, 0, 0, 0, 0, None, None, None, 0, None, None], '0': [75.55, None, 0, 0, 0, 0, None, None, None, 0, None, None], '1': [69.92, None, 0, 0, 0, 0, None, None, None, 0, None, None], '2': [68.98, None, 0, 0, 0, 0, None, None, None, 0, None, None], '3': [66.88, None, 0, 0, 0, 0, None, None, None, 0, None, None], '4': [67, None, 0, 0, 0, 0, None, None, None, 0, None, None], '5': [65.51, None, 0, 0, 0, 0, None, None, None, 0, None, None], '6': [66.21, None, 0, 0, 0, 0, None, None, None, 0, None, None], '7': [66.79, None, 0, 0, 0, 0, None, None, None, 0, None, None], '8': [67.04, None, 0, 0, 0, 0, None, None, None, 0, None, None]}}, '0:53:0:0:2:1:1': {'attributes': [], 'annotations': [], 'observations': {'9': [70.06, None, 0, 0, 0, 0, None, None, None, 0, None, None], '0': [67.98, None, 0, 0, 0, 0, None, None, None, 0, None, None], '1': [54.59, None, 0, 0, 0, 0, None, None, None, 0, None, None], '2': [54.08, None, 0, 0, 0, 0, None, None, None, 0, None, None], '3': [51.88, None, 0, 0, 0, 0, None, None, None, 0, None, None], '4': [51.33, None, 0, 0, 0, 0, None, None, None, 0, None, None], '5': [49.84, None, 0, 0, 0, 0, None, None, None, 0, None, None], '6': [52.44, None, 0, 0, 0, 0, None, None, None, 0, None, None], '7': [53.27, None, 0, 0, 0, 0, None, None, None, 0, None, None], '8': [54.33, None, 0, 0, 0, 0, None, None, None, 0, None, None]}}, '0:54:0:0:0:0:0': {'attributes': [], 'annotations': [], 'observations': {'7': [70.29, None, 0, 0, 0, 0, None, None, None, 0, None, None], '8': [68.92, None, 0, 0, 0, 0, None, None, None, 0, None, None]}}, '0:54:0:0:0:0:1': {'attributes': [], 'annotations': [], 'observations': {'7': [50.89, None, 0, 0, 0, 0, None, None, None, 0, None, None], '8': [49.37, None, 0, 0, 0, 0, None, None, None, 0, None, None]}}, '0:54:0:0:0:1:0': {'attributes': [], 'annotations': [], 'observations': {'7': [64.46, None, 0, 0, 0, 0, None, None, None, 0, None, None], '8': [63.36, None, 0, 0, 0, 0, None, None, None, 0, None, None]}}, '0:54:0:0:0:1:1': {'attributes': [], 'annotations': [], 'observations': {'7': [42.03, None, 0, 0, 0, 0, None, None, None, 0, None, None], '8': [41.27, None, 0, 0, 0, 0, None, None, None, 0, None, None]}}, '0:54:0:0:1:0:0': {'attributes': [], 'annotations': [], 'observations': {'7': [69.03, None, 0, 0, 0, 0, None, None, None, 0, None, None], '8': [68.14, None, 0, 0, 0, 0, None, None, None, 0, None, None]}}, '0:54:0:0:1:0:1': {'attributes': [], 'annotations': [], 'observations': {'7': [46.15, None, 0, 0, 0, 0, None, None, None, 0, None, None], '8': [44.33, None, 0, 0, 0, 0, None, None, None, 0, None, None]}}, '0:54:0:0:1:1:0': {'attributes': [], 'annotations': [], 'observations': {'7': [61.94, None, 0, 0, 0, 0, None, None, None, 0, None, None], '8': [61.38, None, 0, 0, 0, 0, None, None, None, 0, None, None]}}, '0:54:0:0:1:1:1': {'attributes': [], 'annotations': [], 'observations': {'7': [34.89, None, 0, 0, 0, 0, None, None, None, 0, None, None], '8': [33.76, None, 0, 0, 0, 0, None, None, None, 0, None, None]}}, '0:54:0:0:2:0:0': {'attributes': [], 'annotations': [], 'observations': {'7': [72.11, None, 0, 0, 0, 0, None, None, None, 0, None, None], '8': [70.02, None, 0, 0, 0, 0, None, None, None, 0, None, None]}}, '0:54:0:0:2:0:1': {'attributes': [], 'annotations': [], 'observations': {'7': [57.7, None, 0, 0, 0, 0, None, None, None, 0, None, None], '8': [56.5, None, 0, 0, 0, 0, None, None, None, 0, None, None]}}, '0:54:0:0:2:1:0': {'attributes': [], 'annotations': [], 'observations': {'7': [67.69, None, 0, 0, 0, 0, None, None, None, 0, None, None], '8': [65.85, None, 0, 0, 0, 0, None, None, None, 0, None, None]}}, '0:54:0:0:2:1:1': {'attributes': [], 'annotations': [], 'observations': {'7': [51.18, None, 0, 0, 0, 0, None, None, None, 0, None, None], '8': [50.7, None, 0, 0, 0, 0, None, None, None, 0, None, None]}}, '0:55:0:0:0:0:0': {'attributes': [], 'annotations': [], 'observations': {'9': [56.75, None, 0, 0, 0, 0, None, None, None, 0, None, None], '0': [55.71, None, 0, 0, 0, 0, None, None, None, 0, None, None], '1': [56.23, None, 0, 0, 0, 0, None, None, None, 0, None, None], '2': [56.74, None, 0, 0, 0, 0, None, None, None, 0, None, None], '3': [55.44, None, 0, 0, 0, 0, None, None, None, 0, None, None], '4': [55.83, None, 0, 0, 0, 0, None, None, None, 0, None, None], '5': [54.32, None, 0, 0, 0, 0, None, None, None, 0, None, None], '6': [54.64, None, 0, 0, 0, 0, None, None, None, 0, None, None], '7': [53.57, None, 0, 0, 0, 0, None, None, None, 0, None, None], '8': [53.26, None, 0, 0, 0, 0, None, None, None, 0, None, None]}}, '0:55:0:0:0:0:1': {'attributes': [], 'annotations': [], 'observations': {'9': [32.97, None, 0, 0, 0, 0, None, None, None, 0, None, None], '0': [32.76, None, 0, 0, 0, 0, None, None, None, 0, None, None], '1': [32.88, None, 0, 0, 0, 0, None, None, None, 0, None, None], '2': [31.71, None, 0, 0, 0, 0, None, None, None, 0, None, None], '3': [28.92, None, 0, 0, 0, 0, None, None, None, 0, None, None], '4': [33.89, None, 0, 0, 0, 0, None, None, None, 0, None, None], '5': [34.61, None, 0, 0, 0, 0, None, None, None, 0, None, None], '6': [34.62, None, 0, 0, 0, 0, None, None, None, 0, None, None], '7': [33.79, None, 0, 0, 0, 0, None, None, None, 0, None, None], '8': [32.52, None, 0, 0, 0, 0, None, None, None, 0, None, None]}}, '0:55:0:0:0:1:0': {'attributes': [], 'annotations': [], 'observations': {'9': [51.38, None, 0, 0, 0, 0, None, None, None, 0, None, None], '0': [51.5, None, 0, 0, 0, 0, None, None, None, 0, None, None], '1': [50.74, None, 0, 0, 0, 0, None, None, None, 0, None, None], '2': [51.92, None, 0, 0, 0, 0, None, None, None, 0, None, None], '3': [50.63, None, 0, 0, 0, 0, None, None, None, 0, None, None], '4': [52.03, None, 0, 0, 0, 0, None, None, None, 0, None, None], '5': [51.14, None, 0, 0, 0, 0, None, None, None, 0, None, None], '6': [51.93, None, 0, 0, 0, 0, None, None, None, 0, None, None], '7': [50.76, None, 0, 0, 0, 0, None, None, None, 0, None, None], '8': [50.61, None, 0, 0, 0, 0, None, None, None, 0, None, None]}}, '0:55:0:0:0:1:1': {'attributes': [], 'annotations': [], 'observations': {'9': [25.5, None, 0, 0, 0, 0, None, None, None, 0, None, None], '0': [26.86, None, 0, 0, 0, 0, None, None, None, 0, None, None], '1': [24.95, None, 0, 0, 0, 0, None, None, None, 0, None, None], '2': [24.46, None, 0, 0, 0, 0, None, None, None, 0, None, None], '3': [21.52, None, 0, 0, 0, 0, None, None, None, 0, None, None], '4': [28.18, None, 0, 0, 0, 0, None, None, None, 0, None, None], '5': [29.96, None, 0, 0, 0, 0, None, None, None, 0, None, None], '6': [30.51, None, 0, 0, 0, 0, None, None, None, 0, None, None], '7': [29.76, None, 0, 0, 0, 0, None, None, None, 0, None, None], '8': [28.84, None, 0, 0, 0, 0, None, None, None, 0, None, None]}}, '0:55:0:0:1:0:0': {'attributes': [], 'annotations': [], 'observations': {'9': [57.84, None, 0, 0, 0, 0, None, None, None, 0, None, None], '0': [56.19, None, 0, 0, 0, 0, None, None, None, 0, None, None], '1': [56.68, None, 0, 0, 0, 0, None, None, None, 0, None, None], '2': [57.14, None, 0, 0, 0, 0, None, None, None, 0, None, None], '3': [54.98, None, 0, 0, 0, 0, None, None, None, 0, None, None], '4': [56.08, None, 0, 0, 0, 0, None, None, None, 0, None, None], '5': [55.07, None, 0, 0, 0, 0, None, None, None, 0, None, None], '6': [55.44, None, 0, 0, 0, 0, None, None, None, 0, None, None], '7': [55.26, None, 0, 0, 0, 0, None, None, None, 0, None, None], '8': [55.2, None, 0, 0, 0, 0, None, None, None, 0, None, None]}}, '0:55:0:0:1:0:1': {'attributes': [], 'annotations': [], 'observations': {'9': [33.24, None, 0, 0, 0, 0, None, None, None, 0, None, None], '0': [32.82, None, 0, 0, 0, 0, None, None, None, 0, None, None], '1': [32.7, None, 0, 0, 0, 0, None, None, None, 0, None, None], '2': [31.88, None, 0, 0, 0, 0, None, None, None, 0, None, None], '3': [28.19, None, 0, 0, 0, 0, None, None, None, 0, None, None], '4': [34.62, None, 0, 0, 0, 0, None, None, None, 0, None, None], '5': [35.96, None, 0, 0, 0, 0, None, None, None, 0, None, None], '6': [36.3, None, 0, 0, 0, 0, None, None, None, 0, None, None], '7': [35.88, None, 0, 0, 0, 0, None, None, None, 0, None, None], '8': [34.68, None, 0, 0, 0, 0, None, None, None, 0, None, None]}}, '0:55:0:0:1:1:0': {'attributes': [], 'annotations': [], 'observations': {'9': [53.68, None, 0, 0, 0, 0, None, None, None, 0, None, None], '0': [52.93, None, 0, 0, 0, 0, None, None, None, 0, None, None], '1': [52.63, None, 0, 0, 0, 0, None, None, None, 0, None, None], '2': [53.48, None, 0, 0, 0, 0, None, None, None, 0, None, None], '3': [51.4, None, 0, 0, 0, 0, None, None, None, 0, None, None], '4': [52.84, None, 0, 0, 0, 0, None, None, None, 0, None, None], '5': [52.17, None, 0, 0, 0, 0, None, None, None, 0, None, None], '6': [52.98, None, 0, 0, 0, 0, None, None, None, 0, None, None], '7': [52.66, None, 0, 0, 0, 0, None, None, None, 0, None, None], '8': [52.75, None, 0, 0, 0, 0, None, None, None, 0, None, None]}}, '0:55:0:0:1:1:1': {'attributes': [], 'annotations': [], 'observations': {'0': [28.34, None, 0, 0, 0, 0, None, None, None, 0, None, None], '3': [22.79, None, 0, 0, 0, 0, None, None, None, 0, None, None], '4': [29.72, None, 0, 0, 0, 0, None, None, None, 0, None, None], '5': [31.72, None, 0, 0, 0, 0, None, None, None, 0, None, None], '6': [32.5, None, 0, 0, 0, 0, None, None, None, 0, None, None]}}, '0:55:0:0:2:0:0': {'attributes': [], 'annotations': [], 'observations': {'9': [51.43, None, 0, 0, 0, 0, None, None, None, 0, None, None], '0': [53.38, None, 0, 0, 0, 0, None, None, None, 0, None, None], '1': [54.08, None, 0, 0, 0, 0, None, None, None, 0, None, None], '2': [54.72, None, 0, 0, 0, 0, None, None, None, 0, None, None], '3': [57.56, None, 0, 0, 0, 0, None, None, None, 0, None, None], '4': [54.56, None, 0, 0, 0, 0, None, None, None, 0, None, None], '5': [50.31, None, 0, 0, 0, 0, None, None, None, 0, None, None], '6': [50.05, None, 0, 0, 0, 0, None, None, None, 0, None, None], '7': [44.37, None, 0, 0, 0, 0, None, None, None, 0, None, None], '8': [43.01, None, 0, 0, 0, 0, None, None, None, 0, None, None]}}, '0:55:0:0:2:0:1': {'attributes': [], 'annotations': [], 'observations': {'9': [31.67, None, 0, 0, 0, 0, None, None, None, 0, None, None], '0': [32.5, None, 0, 0, 0, 0, None, None, None, 0, None, None], '1': [33.74, None, 0, 0, 0, 0, None, None, None, 0, None, None], '2': [30.85, None, 0, 0, 0, 0, None, None, None, 0, None, None], '3': [32.28, None, 0, 0, 0, 0, None, None, None, 0, None, None], '4': [30.34, None, 0, 0, 0, 0, None, None, None, 0, None, None], '5': [27.37, None, 0, 0, 0, 0, None, None, None, 0, None, None], '6': [25.09, None, 0, 0, 0, 0, None, None, None, 0, None, None], '7': [22.43, None, 0, 0, 0, 0, None, None, None, 0, None, None], '8': [21.07, None, 0, 0, 0, 0, None, None, None, 0, None, None]}}, '0:55:0:0:2:1:0': {'attributes': [], 'annotations': [], 'observations': {'9': [38.54, None, 0, 0, 0, 0, None, None, None, 0, None, None], '0': [43.88, None, 0, 0, 0, 0, None, None, None, 0, None, None], '1': [39.89, None, 0, 0, 0, 0, None, None, None, 0, None, None], '2': [42.86, None, 0, 0, 0, 0, None, None, None, 0, None, None], '3': [46.48, None, 0, 0, 0, 0, None, None, None, 0, None, None], '4': [47.81, None, 0, 0, 0, 0, None, None, None, 0, None, None], '5': [45.49, None, 0, 0, 0, 0, None, None, None, 0, None, None], '6': [45.92, None, 0, 0, 0, 0, None, None, None, 0, None, None], '7': [40.37, None, 0, 0, 0, 0, None, None, None, 0, None, None], '8': [39.17, None, 0, 0, 0, 0, None, None, None, 0, None, None]}}, '0:55:0:0:2:1:1': {'attributes': [], 'annotations': [], 'observations': {'9': [13.89, None, 0, 0, 0, 0, None, None, None, 0, None, None], '0': [19, None, 0, 0, 0, 0, None, None, None, 0, None, None], '1': [13.69, None, 0, 0, 0, 0, None, None, None, 0, None, None], '2': [12.9, None, 0, 0, 0, 0, None, None, None, 0, None, None], '3': [14.72, None, 0, 0, 0, 0, None, None, None, 0, None, None], '4': [20.16, None, 0, 0, 0, 0, None, None, None, 0, None, None], '5': [20.35, None, 0, 0, 0, 0, None, None, None, 0, None, None], '6': [19.08, None, 0, 0, 0, 0, None, None, None, 0, None, None], '7': [16.87, None, 0, 0, 0, 0, None, None, None, 0, None, None], '8': [15.87, None, 0, 0, 0, 0, None, None, None, 0, None, None]}}, '0:56:0:0:0:0:1': {'attributes': [], 'annotations': [], 'observations': {'9': [14.6, None, 0, 0, 0, 0, 1, None, None, 0, None, None], '0': [16.34, None, 0, 0, 0, 0, None, None, None, 0, None, None], '1': [17.21, None, 0, 0, 0, 0, None, None, None, 0, None, None], '2': [18.05, None, 0, 0, 0, 0, None, None, None, 0, None, None], '3': [18.33, None, 0, 0, 0, 0, None, None, None, 0, None, None], '4': [18.76, None, 0, 0, 0, 0, None, None, None, 0, None, None], '5': [19.15, None, 0, 0, 0, 0, 2, None, None, 0, None, None], '6': [18.51, None, 0, 0, 0, 0, 2, None, None, 0, None, None], '7': [18.86, None, 0, 0, 0, 0, 2, None, None, 0, None, None]}}, '0:56:0:0:0:1:1': {'attributes': [], 'annotations': [], 'observations': {'9': [12.03, None, 0, 0, 0, 0, 1, None, None, 0, None, None], '0': [13.6, None, 0, 0, 0, 0, None, None, None, 0, None, None], '1': [14.65, None, 0, 0, 0, 0, None, None, None, 0, None, None], '2': [15.53, None, 0, 0, 0, 0, None, None, None, 0, None, None], '3': [15.96, None, 0, 0, 0, 0, None, None, None, 0, None, None], '4': [16.25, None, 0, 0, 0, 0, None, None, None, 0, None, None], '5': [16.55, None, 0, 0, 0, 0, 2, None, None, 0, None, None], '6': [16.65, None, 0, 0, 0, 0, 2, None, None, 0, None, None], '7': [16.93, None, 0, 0, 0, 0, 2, None, None, 0, None, None]}}, '0:56:0:0:1:0:1': {'attributes': [], 'annotations': [], 'observations': {'9': [16.05, None, 0, 0, 0, 0, 1, None, None, 0, None, None], '0': [17.64, None, 0, 0, 0, 0, None, None, None, 0, None, None], '1': [18.52, None, 0, 0, 0, 0, None, None, None, 0, None, None], '2': [19.48, None, 0, 0, 0, 0, None, None, None, 0, None, None], '3': [19.87, None, 0, 0, 0, 0, None, None, None, 0, None, None], '4': [20.39, None, 0, 0, 0, 0, None, None, None, 0, None, None], '5': [20.81, None, 0, 0, 0, 0, 2, None, None, 0, None, None], '6': [20.1, None, 0, 0, 0, 0, 2, None, None, 0, None, None], '7': [20.37, None, 0, 0, 0, 0, 2, None, None, 0, None, None]}}, '0:56:0:0:1:1:1': {'attributes': [], 'annotations': [], 'observations': {'9': [13.25, None, 0, 0, 0, 0, 1, None, None, 0, None, None], '0': [14.71, None, 0, 0, 0, 0, None, None, None, 0, None, None], '1': [15.83, None, 0, 0, 0, 0, None, None, None, 0, None, None], '2': [16.95, None, 0, 0, 0, 0, None, None, None, 0, None, None], '3': [17.52, None, 0, 0, 0, 0, None, None, None, 0, None, None], '4': [17.84, None, 0, 0, 0, 0, None, None, None, 0, None, None], '5': [18.1, None, 0, 0, 0, 0, 2, None, None, 0, None, None], '6': [17.98, None, 0, 0, 0, 0, 2, None, None, 0, None, None], '7': [18.15, None, 0, 0, 0, 0, 2, None, None, 0, None, None]}}, '0:56:0:0:2:0:1': {'attributes': [], 'annotations': [], 'observations': {'9': [13.1, None, 0, 0, 0, 0, 1, None, None, 0, None, None], '0': [15, None, 0, 0, 0, 0, None, None, None, 0, None, None], '1': [15.84, None, 0, 0, 0, 0, None, None, None, 0, None, None], '2': [16.54, None, 0, 0, 0, 0, None, None, None, 0, None, None], '3': [16.72, None, 0, 0, 0, 0, None, None, None, 0, None, None], '4': [17.04, None, 0, 0, 0, 0, None, None, None, 0, None, None], '5': [17.41, None, 0, 0, 0, 0, 2, None, None, 0, None, None], '6': [16.83, None, 0, 0, 0, 0, 2, None, None, 0, None, None], '7': [17.27, None, 0, 0, 0, 0, 2, None, None, 0, None, None]}}, '0:56:0:0:2:1:1': {'attributes': [], 'annotations': [], 'observations': {'9': [10.81, None, 0, 0, 0, 0, 1, None, None, 0, None, None], '0': [12.5, None, 0, 0, 0, 0, None, None, None, 0, None, None], '1': [13.48, None, 0, 0, 0, 0, None, None, None, 0, None, None], '2': [14.09, None, 0, 0, 0, 0, None, None, None, 0, None, None], '3': [14.37, None, 0, 0, 0, 0, None, None, None, 0, None, None], '4': [14.62, None, 0, 0, 0, 0, None, None, None, 0, None, None], '5': [14.98, None, 0, 0, 0, 0, 2, None, None, 0, None, None], '6': [15.31, None, 0, 0, 0, 0, 2, None, None, 0, None, None], '7': [15.68, None, 0, 0, 0, 0, 2, None, None, 0, None, None]}}, '0:57:0:0:0:0:0': {'attributes': [], 'annotations': [], 'observations': {'6': [80.45, None, 0, 0, 0, 12, None, None, None, 0, None, None], '7': [80.42, None, 0, 0, 0, 13, None, None, None, 0, None, None]}}, '0:57:0:0:0:0:1': {'attributes': [], 'annotations': [], 'observations': {'6': [69.19, None, 0, 0, 0, 12, None, None, None, 0, None, None], '7': [69.65, None, 0, 0, 0, 12, None, None, None, 0, None, None]}}, '0:57:0:0:0:1:0': {'attributes': [], 'annotations': [], 'observations': {'6': [68.21, None, 0, 0, 0, 13, None, None, None, 0, None, None], '7': [68.69, None, 0, 0, 0, 12, None, None, None, 0, None, None]}}, '0:57:0:0:0:1:1': {'attributes': [], 'annotations': [], 'observations': {'6': [51.75, None, 0, 0, 0, 13, None, None, None, 0, None, None], '7': [53.09, None, 0, 0, 0, 13, None, None, None, 0, None, None]}}, '0:57:0:0:1:0:0': {'attributes': [], 'annotations': [], 'observations': {'6': [77.64, None, 0, 0, 0, 13, None, None, None, 0, None, None], '7': [77.78, None, 0, 0, 0, 13, None, None, None, 0, None, None]}}, '0:57:0:0:1:0:1': {'attributes': [], 'annotations': [], 'observations': {'6': [64.88, None, 0, 0, 0, 12, None, None, None, 0, None, None], '7': [65.97, None, 0, 0, 0, 13, None, None, None, 0, None, None]}}, '0:57:0:0:1:1:0': {'attributes': [], 'annotations': [], 'observations': {'6': [67.75, None, 0, 0, 0, 13, None, None, None, 0, None, None], '7': [68.55, None, 0, 0, 0, 13, None, None, None, 0, None, None]}}, '0:57:0:0:1:1:1': {'attributes': [], 'annotations': [], 'observations': {'6': [50.84, None, 0, 0, 0, 12, None, None, None, 0, None, None], '7': [53.06, None, 0, 0, 0, 13, None, None, None, 0, None, None]}}, '0:57:0:0:2:0:0': {'attributes': [], 'annotations': [], 'observations': {'6': [83.98, None, 0, 0, 0, 13, None, None, None, 0, None, None], '7': [83.8, None, 0, 0, 0, 12, None, None, None, 0, None, None]}}, '0:57:0:0:2:0:1': {'attributes': [], 'annotations': [], 'observations': {'6': [74.61, None, 0, 0, 0, 12, None, None, None, 0, None, None], '7': [74.37, None, 0, 0, 0, 13, None, None, None, 0, None, None]}}, '0:57:0:0:2:1:0': {'attributes': [], 'annotations': [], 'observations': {'6': [69.01, None, 0, 0, 0, 12, None, None, None, 0, None, None], '7': [68.94, None, 0, 0, 0, 12, None, None, None, 0, None, None]}}, '0:57:0:0:2:1:1': {'attributes': [], 'annotations': [], 'observations': {'6': [53.3, None, 0, 0, 0, 13, None, None, None, 0, None, None], '7': [53.14, None, 0, 0, 0, 13, None, None, None, 0, None, None]}}, '0:58:0:0:0:0:0': {'attributes': [], 'annotations': [], 'observations': {'0': [86.97, None, 0, 0, 0, 0, None, None, None, 0, None, None]}}, '0:58:0:0:0:0:1': {'attributes': [], 'annotations': [], 'observations': {'0': [87.03, None, 0, 0, 0, 0, None, None, None, 0, None, None]}}, '0:58:0:0:0:1:0': {'attributes': [], 'annotations': [], 'observations': {'0': [77.31, None, 0, 0, 0, 0, None, None, None, 0, None, None]}}, '0:58:0:0:0:1:1': {'attributes': [], 'annotations': [], 'observations': {'0': [77.41, None, 0, 0, 0, 0, None, None, None, 0, None, None]}}, '0:58:0:0:1:0:0': {'attributes': [], 'annotations': [], 'observations': {'0': [87.99, None, 0, 0, 0, 0, None, None, None, 0, None, None]}}, '0:58:0:0:1:0:1': {'attributes': [], 'annotations': [], 'observations': {'0': [88, None, 0, 0, 0, 0, None, None, None, 0, None, None]}}, '0:58:0:0:1:1:0': {'attributes': [], 'annotations': [], 'observations': {'0': [80.78, None, 0, 0, 0, 0, None, None, None, 0, None, None]}}, '0:58:0:0:1:1:1': {'attributes': [], 'annotations': [], 'observations': {'0': [80.81, None, 0, 0, 0, 0, None, None, None, 0, None, None]}}, '0:58:0:0:2:0:0': {'attributes': [], 'annotations': [], 'observations': {'0': [83.6, None, 0, 0, 0, 0, None, None, None, 0, None, None]}}, '0:58:0:0:2:0:1': {'attributes': [], 'annotations': [], 'observations': {'0': [83.78, None, 0, 0, 0, 0, None, None, None, 0, None, None]}}, '0:58:0:0:2:1:0': {'attributes': [], 'annotations': [], 'observations': {'0': [60.19, None, 0, 0, 0, 0, None, None, None, 0, None, None]}}, '0:58:0:0:2:1:1': {'attributes': [], 'annotations': [], 'observations': {'0': [60.64, None, 0, 0, 0, 0, None, None, None, 0, None, None]}}, '0:59:0:0:0:0:0': {'attributes': [], 'annotations': [], 'observations': {'4': [93.43, None, 0, 0, 0, 0, None, None, None, 0, None, None]}}, '0:59:0:0:0:0:1': {'attributes': [], 'annotations': [], 'observations': {'4': [84.04, None, 0, 0, 0, 0, None, None, None, 0, None, None]}}, '0:59:0:0:0:1:0': {'attributes': [], 'annotations': [], 'observations': {'4': [90.44, None, 0, 0, 0, 0, None, None, None, 0, None, None]}}, '0:59:0:0:0:1:1': {'attributes': [], 'annotations': [], 'observations': {'4': [77.34, None, 0, 0, 0, 0, None, None, None, 0, None, None]}}, '0:59:0:0:1:0:0': {'attributes': [], 'annotations': [], 'observations': {'4': [92.22, None, 0, 0, 0, 0, None, None, None, 0, None, None]}}, '0:59:0:0:1:0:1': {'attributes': [], 'annotations': [], 'observations': {'4': [81.04, None, 0, 0, 0, 0, None, None, None, 0, None, None]}}, '0:59:0:0:1:1:0': {'attributes': [], 'annotations': [], 'observations': {'4': [88.16, None, 0, 0, 0, 0, None, None, None, 0, None, None]}}, '0:59:0:0:1:1:1': {'attributes': [], 'annotations': [], 'observations': {'4': [71.82, None, 0, 0, 0, 0, None, None, None, 0, None, None]}}, '0:59:0:0:2:0:0': {'attributes': [], 'annotations': [], 'observations': {'4': [95.25, None, 0, 0, 0, 0, None, None, None, 0, None, None]}}, '0:59:0:0:2:0:1': {'attributes': [], 'annotations': [], 'observations': {'4': [88.51, None, 0, 0, 0, 0, None, None, None, 0, None, None]}}, '0:59:0:0:2:1:0': {'attributes': [], 'annotations': [], 'observations': {'4': [93.48, None, 0, 0, 0, 0, None, None, None, 0, None, None]}}, '0:59:0:0:2:1:1': {'attributes': [], 'annotations': [], 'observations': {'4': [84.69, None, 0, 0, 0, 0, None, None, None, 0, None, None]}}, '0:60:0:0:0:0:0': {'attributes': [], 'annotations': [], 'observations': {'9': [72.45, None, 0, 0, 0, 15, None, None, None, 0, None, None], '0': [72.55, None, 0, 0, 0, 15, None, None, None, 0, None, None], '1': [72.57, None, 0, 0, 0, 15, None, None, None, 0, None, None], '2': [71.38, None, 0, 0, 0, 14, None, None, None, 0, None, None], '3': [69.34, None, 0, 0, 0, 14, None, None, None, 0, None, None], '4': [69.1, None, 0, 0, 0, 15, None, None, None, 0, None, None], '5': [69.47, None, 0, 0, 0, 14, None, None, None, 0, None, None], '6': [70.16, None, 0, 0, 0, 14, None, None, None, 0, None, None], '7': [68.51, None, 0, 0, 0, 15, None, None, None, 0, None, None], '8': [69.14, None, 0, 0, 0, 15, None, None, None, 0, None, None]}}, '0:60:0:0:0:0:1': {'attributes': [], 'annotations': [], 'observations': {'9': [72.11, None, 0, 0, 0, 14, None, None, None, 0, None, None], '0': [71.97, None, 0, 0, 0, 15, None, None, None, 0, None, None], '1': [72, None, 0, 0, 0, 15, None, None, None, 0, None, None], '2': [70.8, None, 0, 0, 0, 14, None, None, None, 0, None, None], '3': [68.84, None, 0, 0, 0, 14, None, None, None, 0, None, None], '4': [66.51, None, 0, 0, 0, 15, None, None, None, 0, None, None], '5': [68.12, None, 0, 0, 0, 15, None, None, None, 0, None, None], '6': [68.22, None, 0, 0, 0, 15, None, None, None, 0, None, None], '7': [64.36, None, 0, 0, 0, 14, None, None, None, 0, None, None], '8': [64.94, None, 0, 0, 0, 15, None, None, None, 0, None, None]}}, '0:60:0:0:0:1:0': {'attributes': [], 'annotations': [], 'observations': {'9': [65.83, None, 0, 0, 0, 14, None, None, None, 0, None, None], '0': [65.65, None, 0, 0, 0, 14, None, None, None, 0, None, None], '1': [66.02, None, 0, 0, 0, 15, None, None, None, 0, None, None], '2': [65.2, None, 0, 0, 0, 14, None, None, None, 0, None, None], '3': [62.85, None, 0, 0, 0, 14, None, None, None, 0, None, None], '4': [62.91, None, 0, 0, 0, 14, None, None, None, 0, None, None], '5': [63.15, None, 0, 0, 0, 14, None, None, None, 0, None, None], '6': [64.21, None, 0, 0, 0, 15, None, None, None, 0, None, None], '7': [62.88, None, 0, 0, 0, 15, None, None, None, 0, None, None], '8': [63.81, None, 0, 0, 0, 14, None, None, None, 0, None, None]}}, '0:60:0:0:0:1:1': {'attributes': [], 'annotations': [], 'observations': {'9': [65.41, None, 0, 0, 0, 15, None, None, None, 0, None, None], '0': [64.92, None, 0, 0, 0, 14, None, None, None, 0, None, None], '1': [65.32, None, 0, 0, 0, 15, None, None, None, 0, None, None], '2': [64.48, None, 0, 0, 0, 15, None, None, None, 0, None, None], '3': [62.27, None, 0, 0, 0, 14, None, None, None, 0, None, None], '4': [60.77, None, 0, 0, 0, 14, None, None, None, 0, None, None], '5': [62.28, None, 0, 0, 0, 14, None, None, None, 0, None, None], '6': [62.44, None, 0, 0, 0, 15, None, None, None, 0, None, None], '7': [58.49, None, 0, 0, 0, 14, None, None, None, 0, None, None], '8': [59.47, None, 0, 0, 0, 15, None, None, None, 0, None, None]}}, '0:60:0:0:1:0:0': {'attributes': [], 'annotations': [], 'observations': {'9': [71.97, None, 0, 0, 0, 14, None, None, None, 0, None, None], '0': [71.96, None, 0, 0, 0, 15, None, None, None, 0, None, None], '1': [71.99, None, 0, 0, 0, 14, None, None, None, 0, None, None], '2': [70.11, None, 0, 0, 0, 14, None, None, None, 0, None, None], '3': [68.02, None, 0, 0, 0, 14, None, None, None, 0, None, None], '4': [68.27, None, 0, 0, 0, 15, None, None, None, 0, None, None], '5': [67.07, None, 0, 0, 0, 15, None, None, None, 0, None, None], '6': [68.2, None, 0, 0, 0, 15, None, None, None, 0, None, None], '7': [67.16, None, 0, 0, 0, 14, None, None, None, 0, None, None], '8': [67, None, 0, 0, 0, 14, None, None, None, 0, None, None]}}, '0:60:0:0:1:0:1': {'attributes': [], 'annotations': [], 'observations': {'9': [71.5, None, 0, 0, 0, 14, None, None, None, 0, None, None], '0': [71.45, None, 0, 0, 0, 14, None, None, None, 0, None, None], '1': [71.44, None, 0, 0, 0, 14, None, None, None, 0, None, None], '2': [69.42, None, 0, 0, 0, 14, None, None, None, 0, None, None], '3': [67.55, None, 0, 0, 0, 14, None, None, None, 0, None, None], '4': [64.91, None, 0, 0, 0, 15, None, None, None, 0, None, None], '5': [65.71, None, 0, 0, 0, 14, None, None, None, 0, None, None], '6': [66.06, None, 0, 0, 0, 15, None, None, None, 0, None, None], '7': [62.79, None, 0, 0, 0, 14, None, None, None, 0, None, None], '8': [62.36, None, 0, 0, 0, 15, None, None, None, 0, None, None]}}, '0:60:0:0:1:1:0': {'attributes': [], 'annotations': [], 'observations': {'9': [59.74, None, 0, 0, 0, 15, None, None, None, 0, None, None], '0': [59.69, None, 0, 0, 0, 14, None, None, None, 0, None, None], '1': [59.75, None, 0, 0, 0, 14, None, None, None, 0, None, None], '2': [58.22, None, 0, 0, 0, 15, None, None, None, 0, None, None], '3': [55.66, None, 0, 0, 0, 15, None, None, None, 0, None, None], '4': [56.79, None, 0, 0, 0, 15, None, None, None, 0, None, None], '5': [54.55, None, 0, 0, 0, 15, None, None, None, 0, None, None], '6': [56.6, None, 0, 0, 0, 15, None, None, None, 0, None, None], '7': [56.68, None, 0, 0, 0, 14, None, None, None, 0, None, None], '8': [56.88, None, 0, 0, 0, 14, None, None, None, 0, None, None]}}, '0:60:0:0:1:1:1': {'attributes': [], 'annotations': [], 'observations': {'9': [59.07, None, 0, 0, 0, 14, None, None, None, 0, None, None], '0': [58.96, None, 0, 0, 0, 14, None, None, None, 0, None, None], '1': [58.97, None, 0, 0, 0, 15, None, None, None, 0, None, None], '2': [57.25, None, 0, 0, 0, 15, None, None, None, 0, None, None], '3': [55.06, None, 0, 0, 0, 15, None, None, None, 0, None, None], '4': [53.75, None, 0, 0, 0, 15, None, None, None, 0, None, None], '5': [53.87, None, 0, 0, 0, 14, None, None, None, 0, None, None], '6': [54.57, None, 0, 0, 0, 14, None, None, None, 0, None, None], '7': [51.67, None, 0, 0, 0, 14, None, None, None, 0, None, None], '8': [51.65, None, 0, 0, 0, 15, None, None, None, 0, None, None]}}, '0:60:0:0:2:0:0': {'attributes': [], 'annotations': [], 'observations': {'9': [73.12, None, 0, 0, 0, 14, None, None, None, 0, None, None], '0': [73.38, None, 0, 0, 0, 15, None, None, None, 0, None, None], '1': [73.38, None, 0, 0, 0, 15, None, None, None, 0, None, None], '2': [73.1, None, 0, 0, 0, 15, None, None, None, 0, None, None], '3': [71.14, None, 0, 0, 0, 15, None, None, None, 0, None, None], '4': [70.29, None, 0, 0, 0, 15, None, None, None, 0, None, None], '5': [72.76, None, 0, 0, 0, 15, None, None, None, 0, None, None], '6': [72.94, None, 0, 0, 0, 14, None, None, None, 0, None, None], '7': [70.42, None, 0, 0, 0, 14, None, None, None, 0, None, None], '8': [72.16, None, 0, 0, 0, 15, None, None, None, 0, None, None]}}, '0:60:0:0:2:0:1': {'attributes': [], 'annotations': [], 'observations': {'9': [72.95, None, 0, 0, 0, 14, None, None, None, 0, None, None], '0': [72.69, None, 0, 0, 0, 14, None, None, None, 0, None, None], '1': [72.77, None, 0, 0, 0, 15, None, None, None, 0, None, None], '2': [72.66, None, 0, 0, 0, 15, None, None, None, 0, None, None], '3': [70.59, None, 0, 0, 0, 14, None, None, None, 0, None, None], '4': [68.76, None, 0, 0, 0, 15, None, None, None, 0, None, None], '5': [71.44, None, 0, 0, 0, 15, None, None, None, 0, None, None], '6': [71.27, None, 0, 0, 0, 14, None, None, None, 0, None, None], '7': [66.6, None, 0, 0, 0, 14, None, None, None, 0, None, None], '8': [68.6, None, 0, 0, 0, 14, None, None, None, 0, None, None]}}, '0:60:0:0:2:1:0': {'attributes': [], 'annotations': [], 'observations': {'9': [71.83, None, 0, 0, 0, 15, None, None, None, 0, None, None], '0': [71.72, None, 0, 0, 0, 14, None, None, None, 0, None, None], '1': [72.25, None, 0, 0, 0, 14, None, None, None, 0, None, None], '2': [72.04, None, 0, 0, 0, 14, None, None, None, 0, None, None], '3': [70, None, 0, 0, 0, 15, None, None, None, 0, None, None], '4': [69.34, None, 0, 0, 0, 15, None, None, None, 0, None, None], '5': [71.87, None, 0, 0, 0, 15, None, None, None, 0, None, None], '6': [72.14, None, 0, 0, 0, 15, None, None, None, 0, None, None], '7': [69.59, None, 0, 0, 0, 14, None, None, None, 0, None, None], '8': [71.38, None, 0, 0, 0, 15, None, None, None, 0, None, None]}}, '0:60:0:0:2:1:1': {'attributes': [], 'annotations': [], 'observations': {'9': [71.65, None, 0, 0, 0, 15, None, None, None, 0, None, None], '0': [70.99, None, 0, 0, 0, 14, None, None, None, 0, None, None], '1': [71.63, None, 0, 0, 0, 14, None, None, None, 0, None, None], '2': [71.57, None, 0, 0, 0, 14, None, None, None, 0, None, None], '3': [69.44, None, 0, 0, 0, 15, None, None, None, 0, None, None], '4': [68.16, None, 0, 0, 0, 15, None, None, None, 0, None, None], '5': [70.82, None, 0, 0, 0, 15, None, None, None, 0, None, None], '6': [70.64, None, 0, 0, 0, 15, None, None, None, 0, None, None], '7': [65.88, None, 0, 0, 0, 14, None, None, None, 0, None, None], '8': [68, None, 0, 0, 0, 15, None, None, None, 0, None, None]}}, '0:61:0:0:0:0:0': {'attributes': [], 'annotations': [], 'observations': {'9': [22.64, None, 0, 0, 0, 0, None, None, None, 0, None, None], '0': [20.6, None, 0, 0, 0, 0, None, None, None, 0, None, None], '1': [18.91, None, 0, 0, 0, 0, 1, None, None, 0, None, None], '2': [22.8, None, 0, 0, 0, 0, 1, None, None, 0, None, None], '3': [24.58, None, 0, 0, 0, 0, 1, None, None, 0, None, None], '4': [23.51, None, 0, 0, 0, 0, None, None, None, 0, None, None], '5': [24.18, None, 0, 0, 0, 0, None, None, None, 0, None, None], '6': [21.65, None, 0, 0, 0, 0, None, None, None, 0, None, None], '7': [19.81, None, 0, 0, 0, 0, None, None, None, 0, None, None], '8': [18.68, None, 0, 0, 0, 0, None, None, None, 0, None, None]}}, '0:61:0:0:0:0:1': {'attributes': [], 'annotations': [], 'observations': {'0': [13.83, None, 0, 0, 0, 0, None, None, None, 0, None, None], '1': [11.49, None, 0, 0, 0, 0, 1, None, None, 0, None, None], '2': [15.8, None, 0, 0, 0, 0, 1, None, None, 0, None, None], '3': [16.31, None, 0, 0, 0, 0, 1, None, None, 0, None, None], '4': [13.38, None, 0, 0, 0, 0, None, None, None, 0, None, None], '5': [13.75, None, 0, 0, 0, 0, None, None, None, 0, None, None], '6': [11.94, None, 0, 0, 0, 0, None, None, None, 0, None, None], '7': [10.69, None, 0, 0, 0, 0, None, None, None, 0, None, None], '8': [10.69, None, 0, 0, 0, 0, None, None, None, 0, None, None]}}, '0:61:0:0:0:1:0': {'attributes': [], 'annotations': [], 'observations': {'9': [8.34, None, 0, 0, 0, 0, None, None, None, 0, None, None], '0': [8.42, None, 0, 0, 0, 0, None, None, None, 0, None, None], '1': [7.7, None, 0, 0, 0, 0, 1, None, None, 0, None, None], '2': [10.03, None, 0, 0, 0, 0, 1, None, None, 0, None, None], '3': [13.05, None, 0, 0, 0, 0, 1, None, None, 0, None, None], '4': [13.61, None, 0, 0, 0, 0, None, None, None, 0, None, None], '5': [16.18, None, 0, 0, 0, 0, None, None, None, 0, None, None], '6': [16.11, None, 0, 0, 0, 0, None, None, None, 0, None, None], '7': [13.97, None, 0, 0, 0, 0, None, None, None, 0, None, None], '8': [13.17, None, 0, 0, 0, 0, None, None, None, 0, None, None]}}, '0:61:0:0:0:1:1': {'attributes': [], 'annotations': [], 'observations': {'9': [5.1, None, 0, 0, 0, 0, None, None, None, 0, None, None], '0': [5.16, None, 0, 0, 0, 0, None, None, None, 0, None, None], '1': [3.91, None, 0, 0, 0, 0, 1, None, None, 0, None, None], '2': [5.26, None, 0, 0, 0, 0, 1, None, None, 0, None, None], '3': [7.34, None, 0, 0, 0, 0, 1, None, None, 0, None, None], '4': [7.06, None, 0, 0, 0, 0, None, None, None, 0, None, None], '5': [10.45, None, 0, 0, 0, 0, None, None, None, 0, None, None], '6': [10.82, None, 0, 0, 0, 0, None, None, None, 0, None, None], '7': [9.37, None, 0, 0, 0, 0, None, None, None, 0, None, None], '8': [9.15, None, 0, 0, 0, 0, None, None, None, 0, None, None]}}, '0:61:0:0:1:0:0': {'attributes': [], 'annotations': [], 'observations': {'9': [22.5, None, 0, 0, 0, 0, None, None, None, 0, None, None], '0': [20.32, None, 0, 0, 0, 0, None, None, None, 0, None, None], '1': [18.12, None, 0, 0, 0, 0, 1, None, None, 0, None, None], '2': [22.52, None, 0, 0, 0, 0, 1, None, None, 0, None, None], '3': [24.29, None, 0, 0, 0, 0, 1, None, None, 0, None, None], '4': [23.2, None, 0, 0, 0, 0, None, None, None, 0, None, None], '5': [23.43, None, 0, 0, 0, 0, None, None, None, 0, None, None], '6': [20.64, None, 0, 0, 0, 0, None, None, None, 0, None, None], '7': [19.13, None, 0, 0, 0, 0, None, None, None, 0, None, None], '8': [18.44, None, 0, 0, 0, 0, None, None, None, 0, None, None]}}, '0:61:0:0:1:0:1': {'attributes': [], 'annotations': [], 'observations': {'9': [17.44, None, 0, 0, 0, 0, None, None, None, 0, None, None], '1': [12.26, None, 0, 0, 0, 0, 1, None, None, 0, None, None], '2': [17, None, 0, 0, 0, 0, 1, None, None, 0, None, None], '3': [17.44, None, 0, 0, 0, 0, 1, None, None, 0, None, None], '4': [14.76, None, 0, 0, 0, 0, None, None, None, 0, None, None], '5': [14.88, None, 0, 0, 0, 0, None, None, None, 0, None, None], '6': [12.71, None, 0, 0, 0, 0, None, None, None, 0, None, None], '7': [11.91, None, 0, 0, 0, 0, None, None, None, 0, None, None], '8': [11.97, None, 0, 0, 0, 0, None, None, None, 0, None, None]}}, '0:61:0:0:1:1:0': {'attributes': [], 'annotations': [], 'observations': {'9': [10.03, None, 0, 0, 0, 0, None, None, None, 0, None, None], '0': [10.06, None, 0, 0, 0, 0, None, None, None, 0, None, None], '1': [9.06, None, 0, 0, 0, 0, 1, None, None, 0, None, None], '2': [11.41, None, 0, 0, 0, 0, 1, None, None, 0, None, None], '3': [14.44, None, 0, 0, 0, 0, 1, None, None, 0, None, None], '4': [15.13, None, 0, 0, 0, 0, None, None, None, 0, None, None], '5': [17.78, None, 0, 0, 0, 0, None, None, None, 0, None, None], '6': [17.46, None, 0, 0, 0, 0, None, None, None, 0, None, None], '7': [15.42, None, 0, 0, 0, 0, None, None, None, 0, None, None], '8': [14.75, None, 0, 0, 0, 0, None, None, None, 0, None, None]}}, '0:61:0:0:1:1:1': {'attributes': [], 'annotations': [], 'observations': {'1': [4.87, None, 0, 0, 0, 0, 1, None, None, 0, None, None], '2': [6.49, None, 0, 0, 0, 0, 1, None, None, 0, None, None], '3': [8.46, None, 0, 0, 0, 0, 1, None, None, 0, None, None], '4': [8.25, None, 0, 0, 0, 0, None, None, None, 0, None, None], '5': [11.28, None, 0, 0, 0, 0, None, None, None, 0, None, None], '6': [11.39, None, 0, 0, 0, 0, None, None, None, 0, None, None], '7': [10.54, None, 0, 0, 0, 0, None, None, None, 0, None, None], '8': [10.08, None, 0, 0, 0, 0, None, None, None, 0, None, None]}}, '0:61:0:0:2:0:0': {'attributes': [], 'annotations': [], 'observations': {'9': [22.83, None, 0, 0, 0, 0, None, None, None, 0, None, None], '0': [20.99, None, 0, 0, 0, 0, None, None, None, 0, None, None], '1': [19.99, None, 0, 0, 0, 0, 1, None, None, 0, None, None], '2': [23.18, None, 0, 0, 0, 0, 1, None, None, 0, None, None], '3': [24.96, None, 0, 0, 0, 0, 1, None, None, 0, None, None], '4': [23.92, None, 0, 0, 0, 0, None, None, None, 0, None, None], '5': [25.15, None, 0, 0, 0, 0, None, None, None, 0, None, None], '6': [22.93, None, 0, 0, 0, 0, None, None, None, 0, None, None], '7': [20.68, None, 0, 0, 0, 0, None, None, None, 0, None, None], '8': [18.99, None, 0, 0, 0, 0, None, None, None, 0, None, None]}}, '0:61:0:0:2:0:1': {'attributes': [], 'annotations': [], 'observations': {'0': [12.36, None, 0, 0, 0, 0, None, None, None, 0, None, None], '1': [10.43, None, 0, 0, 0, 0, 1, None, None, 0, None, None], '2': [14.18, None, 0, 0, 0, 0, 1, None, None, 0, None, None], '3': [14.8, None, 0, 0, 0, 0, 1, None, None, 0, None, None], '4': [11.55, None, 0, 0, 0, 0, None, None, None, 0, None, None], '5': [12.29, None, 0, 0, 0, 0, None, None, None, 0, None, None], '6': [10.96, None, 0, 0, 0, 0, None, None, None, 0, None, None], '7': [9.12, None, 0, 0, 0, 0, None, None, None, 0, None, None], '8': [9.09, None, 0, 0, 0, 0, None, None, None, 0, None, None]}}, '0:61:0:0:2:1:0': {'attributes': [], 'annotations': [], 'observations': {'9': [6.14, None, 0, 0, 0, 0, None, None, None, 0, None, None], '0': [6.26, None, 0, 0, 0, 0, None, None, None, 0, None, None], '1': [5.89, None, 0, 0, 0, 0, 1, None, None, 0, None, None], '2': [8.21, None, 0, 0, 0, 0, 1, None, None, 0, None, None], '3': [11.29, None, 0, 0, 0, 0, 1, None, None, 0, None, None], '4': [11.74, None, 0, 0, 0, 0, None, None, None, 0, None, None], '5': [14.22, None, 0, 0, 0, 0, None, None, None, 0, None, None], '6': [14.48, None, 0, 0, 0, 0, None, None, None, 0, None, None], '7': [12.21, None, 0, 0, 0, 0, None, None, None, 0, None, None], '8': [11.27, None, 0, 0, 0, 0, None, None, None, 0, None, None]}}, '0:61:0:0:2:1:1': {'attributes': [], 'annotations': [], 'observations': {'9': [3.23, None, 0, 0, 0, 0, None, None, None, 0, None, None], '0': [3.45, None, 0, 0, 0, 0, None, None, None, 0, None, None], '1': [2.65, None, 0, 0, 0, 0, 1, None, None, 0, None, None], '2': [3.64, None, 0, 0, 0, 0, 1, None, None, 0, None, None], '3': [5.92, None, 0, 0, 0, 0, 1, None, None, 0, None, None], '4': [5.59, None, 0, 0, 0, 0, None, None, None, 0, None, None], '5': [9.43, None, 0, 0, 0, 0, None, None, None, 0, None, None], '6': [10.14, None, 0, 0, 0, 0, None, None, None, 0, None, None], '7': [7.93, None, 0, 0, 0, 0, None, None, None, 0, None, None], '8': [8.04, None, 0, 0, 0, 0, None, None, None, 0, None, None]}}, '0:62:0:0:0:0:0': {'attributes': [], 'annotations': [], 'observations': {'5': [54.91, None, 0, 0, 0, 0, None, None, None, 0, None, None]}}, '0:62:0:0:0:0:1': {'attributes': [], 'annotations': [], 'observations': {'5': [50.83, None, 0, 0, 0, 0, None, None, None, 0, None, None]}}, '0:62:0:0:0:1:0': {'attributes': [], 'annotations': [], 'observations': {'5': [53.4, None, 0, 0, 0, 0, None, None, None, 0, None, None]}}, '0:62:0:0:0:1:1': {'attributes': [], 'annotations': [], 'observations': {'5': [48.97, None, 0, 0, 0, 0, None, None, None, 0, None, None]}}, '0:62:0:0:1:0:0': {'attributes': [], 'annotations': [], 'observations': {'5': [51.96, None, 0, 0, 0, 0, None, None, None, 0, None, None]}}, '0:62:0:0:1:0:1': {'attributes': [], 'annotations': [], 'observations': {'5': [47.83, None, 0, 0, 0, 0, None, None, None, 0, None, None]}}, '0:62:0:0:1:1:0': {'attributes': [], 'annotations': [], 'observations': {'5': [49.97, None, 0, 0, 0, 0, None, None, None, 0, None, None]}}, '0:62:0:0:1:1:1': {'attributes': [], 'annotations': [], 'observations': {'5': [45.49, None, 0, 0, 0, 0, None, None, None, 0, None, None]}}, '0:62:0:0:2:0:0': {'attributes': [], 'annotations': [], 'observations': {'5': [58.01, None, 0, 0, 0, 0, None, None, None, 0, None, None]}}, '0:62:0:0:2:0:1': {'attributes': [], 'annotations': [], 'observations': {'5': [53.97, None, 0, 0, 0, 0, None, None, None, 0, None, None]}}, '0:62:0:0:2:1:0': {'attributes': [], 'annotations': [], 'observations': {'5': [56.88, None, 0, 0, 0, 0, None, None, None, 0, None, None]}}, '0:62:0:0:2:1:1': {'attributes': [], 'annotations': [], 'observations': {'5': [52.49, None, 0, 0, 0, 0, None, None, None, 0, None, None]}}, '0:63:0:0:0:0:0': {'attributes': [], 'annotations': [], 'observations': {'8': [15.01, None, 0, 0, 0, 0, None, None, None, 0, None, None]}}, '0:63:0:0:0:0:1': {'attributes': [], 'annotations': [], 'observations': {'8': [13.36, None, 0, 0, 0, 0, None, None, None, 0, None, None]}}, '0:63:0:0:0:1:0': {'attributes': [], 'annotations': [], 'observations': {'8': [14.02, None, 0, 0, 0, 0, None, None, None, 0, None, None]}}, '0:63:0:0:0:1:1': {'attributes': [], 'annotations': [], 'observations': {'8': [12.42, None, 0, 0, 0, 0, None, None, None, 0, None, None]}}, '0:63:0:0:1:0:0': {'attributes': [], 'annotations': [], 'observations': {'8': [21.27, None, 0, 0, 0, 0, None, None, None, 0, None, None]}}, '0:63:0:0:1:0:1': {'attributes': [], 'annotations': [], 'observations': {'8': [19.41, None, 0, 0, 0, 0, None, None, None, 0, None, None]}}, '0:63:0:0:1:1:0': {'attributes': [], 'annotations': [], 'observations': {'8': [19.75, None, 0, 0, 0, 0, None, None, None, 0, None, None]}}, '0:63:0:0:1:1:1': {'attributes': [], 'annotations': [], 'observations': {'8': [17.94, None, 0, 0, 0, 0, None, None, None, 0, None, None]}}, '0:63:0:0:2:0:0': {'attributes': [], 'annotations': [], 'observations': {'8': [8.85, None, 0, 0, 0, 0, None, None, None, 0, None, None]}}, '0:63:0:0:2:0:1': {'attributes': [], 'annotations': [], 'observations': {'8': [7.41, None, 0, 0, 0, 0, None, None, None, 0, None, None]}}, '0:63:0:0:2:1:0': {'attributes': [], 'annotations': [], 'observations': {'8': [8.69, None, 0, 0, 0, 0, None, None, None, 0, None, None]}}, '0:63:0:0:2:1:1': {'attributes': [], 'annotations': [], 'observations': {'8': [7.27, None, 0, 0, 0, 0, None, None, None, 0, None, None]}}, '0:64:0:0:0:0:0': {'attributes': [], 'annotations': [], 'observations': {'3': [95.08, None, 0, 0, 0, 0, None, None, None, 0, None, None]}}, '0:64:0:0:0:0:1': {'attributes': [], 'annotations': [], 'observations': {'3': [91.47, None, 0, 0, 0, 0, None, None, None, 0, None, None]}}, '0:64:0:0:0:1:0': {'attributes': [], 'annotations': [], 'observations': {'3': [91.84, None, 0, 0, 0, 0, None, None, None, 0, None, None]}}, '0:64:0:0:0:1:1': {'attributes': [], 'annotations': [], 'observations': {'3': [85.99, None, 0, 0, 0, 0, None, None, None, 0, None, None]}}, '0:64:0:0:1:0:0': {'attributes': [], 'annotations': [], 'observations': {'3': [93.06, None, 0, 0, 0, 0, None, None, None, 0, None, None]}}, '0:64:0:0:1:0:1': {'attributes': [], 'annotations': [], 'observations': {'3': [87.1, None, 0, 0, 0, 0, None, None, None, 0, None, None]}}, '0:64:0:0:1:1:0': {'attributes': [], 'annotations': [], 'observations': {'3': [88.09, None, 0, 0, 0, 0, None, None, None, 0, None, None]}}, '0:64:0:0:1:1:1': {'attributes': [], 'annotations': [], 'observations': {'3': [77.98, None, 0, 0, 0, 0, None, None, None, 0, None, None]}}, '0:64:0:0:2:0:0': {'attributes': [], 'annotations': [], 'observations': {'3': [96.61, None, 0, 0, 0, 0, None, None, None, 0, None, None]}}, '0:64:0:0:2:0:1': {'attributes': [], 'annotations': [], 'observations': {'3': [94.76, None, 0, 0, 0, 0, None, None, None, 0, None, None]}}, '0:64:0:0:2:1:0': {'attributes': [], 'annotations': [], 'observations': {'3': [94.53, None, 0, 0, 0, 0, None, None, None, 0, None, None]}}, '0:64:0:0:2:1:1': {'attributes': [], 'annotations': [], 'observations': {'3': [91.72, None, 0, 0, 0, 0, None, None, None, 0, None, None]}}, '0:65:0:0:0:0:0': {'attributes': [], 'annotations': [], 'observations': {'3': [62.83, None, 0, 0, 0, 0, None, None, None, 0, None, None], '4': [62.25, None, 0, 0, 0, 0, None, None, None, 0, None, None], '5': [74.24, None, 0, 0, 0, 0, None, None, None, 0, None, None], '6': [66.83, None, 0, 0, 0, 0, None, None, None, 0, None, None], '7': [64.05, None, 0, 0, 0, 0, None, None, None, 0, None, None]}}, '0:65:0:0:0:0:1': {'attributes': [], 'annotations': [], 'observations': {'3': [57.58, None, 0, 0, 0, 0, None, None, None, 0, None, None], '4': [55.86, None, 0, 0, 0, 0, None, None, None, 0, None, None], '5': [55.71, None, 0, 0, 0, 0, None, None, None, 0, None, None], '6': [52.04, None, 0, 0, 0, 0, None, None, None, 0, None, None], '7': [47.6, None, 0, 0, 0, 0, None, None, None, 0, None, None]}}, '0:65:0:0:0:1:0': {'attributes': [], 'annotations': [], 'observations': {'3': [48.7, None, 0, 0, 0, 0, None, None, None, 0, None, None], '4': [48.51, None, 0, 0, 0, 0, None, None, None, 0, None, None], '5': [62.18, None, 0, 0, 0, 0, None, None, None, 0, None, None], '6': [53.15, None, 0, 0, 0, 0, None, None, None, 0, None, None], '7': [51.42, None, 0, 0, 0, 0, None, None, None, 0, None, None]}}, '0:65:0:0:0:1:1': {'attributes': [], 'annotations': [], 'observations': {'3': [38.32, None, 0, 0, 0, 0, None, None, None, 0, None, None], '4': [37.22, None, 0, 0, 0, 0, None, None, None, 0, None, None], '5': [37.74, None, 0, 0, 0, 0, None, None, None, 0, None, None], '6': [33.54, None, 0, 0, 0, 0, None, None, None, 0, None, None], '7': [31.48, None, 0, 0, 0, 0, None, None, None, 0, None, None]}}, '0:65:0:0:1:0:0': {'attributes': [], 'annotations': [], 'observations': {'3': [62.04, None, 0, 0, 0, 0, None, None, None, 0, None, None], '4': [61.35, None, 0, 0, 0, 0, None, None, None, 0, None, None], '5': [74.91, None, 0, 0, 0, 0, None, None, None, 0, None, None], '6': [67.02, None, 0, 0, 0, 0, None, None, None, 0, None, None], '7': [63.37, None, 0, 0, 0, 0, None, None, None, 0, None, None]}}, '0:65:0:0:1:0:1': {'attributes': [], 'annotations': [], 'observations': {'3': [57.87, None, 0, 0, 0, 0, None, None, None, 0, None, None], '4': [56.31, None, 0, 0, 0, 0, None, None, None, 0, None, None], '5': [56.34, None, 0, 0, 0, 0, None, None, None, 0, None, None], '6': [53.38, None, 0, 0, 0, 0, None, None, None, 0, None, None], '7': [48.34, None, 0, 0, 0, 0, None, None, None, 0, None, None]}}, '0:65:0:0:1:1:0': {'attributes': [], 'annotations': [], 'observations': {'3': [46.33, None, 0, 0, 0, 0, None, None, None, 0, None, None], '4': [46.35, None, 0, 0, 0, 0, None, None, None, 0, None, None], '5': [62.14, None, 0, 0, 0, 0, None, None, None, 0, None, None], '6': [52.77, None, 0, 0, 0, 0, None, None, None, 0, None, None], '7': [50.47, None, 0, 0, 0, 0, None, None, None, 0, None, None]}}, '0:65:0:0:1:1:1': {'attributes': [], 'annotations': [], 'observations': {'3': [37.43, None, 0, 0, 0, 0, None, None, None, 0, None, None], '4': [36.78, None, 0, 0, 0, 0, None, None, None, 0, None, None], '5': [37.18, None, 0, 0, 0, 0, None, None, None, 0, None, None], '6': [33.74, None, 0, 0, 0, 0, None, None, None, 0, None, None], '7': [30.95, None, 0, 0, 0, 0, None, None, None, 0, None, None]}}, '0:65:0:0:2:0:0': {'attributes': [], 'annotations': [], 'observations': {'3': [63.78, None, 0, 0, 0, 0, None, None, None, 0, None, None], '4': [63.31, None, 0, 0, 0, 0, None, None, None, 0, None, None], '5': [73.44, None, 0, 0, 0, 0, None, None, None, 0, None, None], '6': [66.6, None, 0, 0, 0, 0, None, None, None, 0, None, None], '7': [64.85, None, 0, 0, 0, 0, None, None, None, 0, None, None]}}, '0:65:0:0:2:0:1': {'attributes': [], 'annotations': [], 'observations': {'3': [57.22, None, 0, 0, 0, 0, None, None, None, 0, None, None], '4': [55.33, None, 0, 0, 0, 0, None, None, None, 0, None, None], '5': [54.96, None, 0, 0, 0, 0, None, None, None, 0, None, None], '6': [50.43, None, 0, 0, 0, 0, None, None, None, 0, None, None], '7': [46.72, None, 0, 0, 0, 0, None, None, None, 0, None, None]}}, '0:65:0:0:2:1:0': {'attributes': [], 'annotations': [], 'observations': {'3': [51.35, None, 0, 0, 0, 0, None, None, None, 0, None, None], '4': [50.92, None, 0, 0, 0, 0, None, None, None, 0, None, None], '5': [62.23, None, 0, 0, 0, 0, None, None, None, 0, None, None], '6': [53.57, None, 0, 0, 0, 0, None, None, None, 0, None, None], '7': [52.48, None, 0, 0, 0, 0, None, None, None, 0, None, None]}}, '0:65:0:0:2:1:1': {'attributes': [], 'annotations': [], 'observations': {'3': [39.31, None, 0, 0, 0, 0, None, None, None, 0, None, None], '4': [37.71, None, 0, 0, 0, 0, None, None, None, 0, None, None], '5': [38.35, None, 0, 0, 0, 0, None, None, None, 0, None, None], '6': [33.32, None, 0, 0, 0, 0, None, None, None, 0, None, None], '7': [32.07, None, 0, 0, 0, 0, None, None, None, 0, None, None]}}, '0:66:0:0:0:0:0': {'attributes': [], 'annotations': [], 'observations': {'9': [71.39, None, 0, 0, 0, 0, None, None, None, 0, None, None], '2': [71.59, None, 0, 0, 0, 12, None, None, None, 0, None, None]}}, '0:66:0:0:0:0:1': {'attributes': [], 'annotations': [], 'observations': {'9': [64.63, None, 0, 0, 0, 0, None, None, None, 0, None, None], '2': [62.45, None, 0, 0, 0, 12, None, None, None, 0, None, None]}}, '0:66:0:0:0:1:0': {'attributes': [], 'annotations': [], 'observations': {'9': [62.34, None, 0, 0, 0, 0, None, None, None, 0, None, None], '2': [53.7, None, 0, 0, 0, 13, None, None, None, 0, None, None]}}, '0:66:0:0:0:1:1': {'attributes': [], 'annotations': [], 'observations': {'9': [48.85, None, 0, 0, 0, 0, None, None, None, 0, None, None], '2': [38.56, None, 0, 0, 0, 12, None, None, None, 0, None, None]}}, '0:66:0:0:1:0:0': {'attributes': [], 'annotations': [], 'observations': {'9': [71.16, None, 0, 0, 0, 0, None, None, None, 0, None, None], '2': [69.08, None, 0, 0, 0, 12, None, None, None, 0, None, None]}}, '0:66:0:0:1:0:1': {'attributes': [], 'annotations': [], 'observations': {'9': [63.3, None, 0, 0, 0, 0, None, None, None, 0, None, None], '2': [57.19, None, 0, 0, 0, 13, None, None, None, 0, None, None]}}, '0:66:0:0:1:1:0': {'attributes': [], 'annotations': [], 'observations': {'9': [58.85, None, 0, 0, 0, 0, None, None, None, 0, None, None], '2': [52.13, None, 0, 0, 0, 13, None, None, None, 0, None, None]}}, '0:66:0:0:1:1:1': {'attributes': [], 'annotations': [], 'observations': {'9': [43.17, None, 0, 0, 0, 0, None, None, None, 0, None, None], '2': [33.42, None, 0, 0, 0, 12, None, None, None, 0, None, None]}}, '0:66:0:0:2:0:0': {'attributes': [], 'annotations': [], 'observations': {'9': [71.88, None, 0, 0, 0, 0, None, None, None, 0, None, None], '2': [76.37, None, 0, 0, 0, 13, None, None, None, 0, None, None]}}, '0:66:0:0:2:0:1': {'attributes': [], 'annotations': [], 'observations': {'9': [67.49, None, 0, 0, 0, 0, None, None, None, 0, None, None], '2': [72.48, None, 0, 0, 0, 12, None, None, None, 0, None, None]}}, '0:66:0:0:2:1:0': {'attributes': [], 'annotations': [], 'observations': {'9': [69.82, None, 0, 0, 0, 0, None, None, None, 0, None, None], '2': [57.17, None, 0, 0, 0, 13, None, None, None, 0, None, None]}}, '0:66:0:0:2:1:1': {'attributes': [], 'annotations': [], 'observations': {'9': [61.01, None, 0, 0, 0, 0, None, None, None, 0, None, None], '2': [49.84, None, 0, 0, 0, 12, None, None, None, 0, None, None]}}, '0:67:0:0:0:0:0': {'attributes': [], 'annotations': [], 'observations': {'7': [77.89, None, 0, 0, 0, 12, None, None, None, 0, None, None]}}, '0:67:0:0:0:0:1': {'attributes': [], 'annotations': [], 'observations': {'7': [60.4, None, 0, 0, 0, 13, None, None, None, 0, None, None]}}, '0:67:0:0:0:1:0': {'attributes': [], 'annotations': [], 'observations': {'7': [73.55, None, 0, 0, 0, 13, None, None, None, 0, None, None]}}, '0:67:0:0:0:1:1': {'attributes': [], 'annotations': [], 'observations': {'7': [52.81, None, 0, 0, 0, 13, None, None, None, 0, None, None]}}, '0:67:0:0:1:0:0': {'attributes': [], 'annotations': [], 'observations': {'7': [79.65, None, 0, 0, 0, 12, None, None, None, 0, None, None]}}, '0:67:0:0:1:0:1': {'attributes': [], 'annotations': [], 'observations': {'7': [61.44, None, 0, 0, 0, 13, None, None, None, 0, None, None]}}, '0:67:0:0:1:1:0': {'attributes': [], 'annotations': [], 'observations': {'7': [71.72, None, 0, 0, 0, 13, None, None, None, 0, None, None]}}, '0:67:0:0:1:1:1': {'attributes': [], 'annotations': [], 'observations': {'7': [46.5, None, 0, 0, 0, 13, None, None, None, 0, None, None]}}, '0:67:0:0:2:0:0': {'attributes': [], 'annotations': [], 'observations': {'7': [75.62, None, 0, 0, 0, 13, None, None, None, 0, None, None]}}, '0:67:0:0:2:0:1': {'attributes': [], 'annotations': [], 'observations': {'7': [59.04, None, 0, 0, 0, 13, None, None, None, 0, None, None]}}, '0:67:0:0:2:1:0': {'attributes': [], 'annotations': [], 'observations': {'7': [75.18, None, 0, 0, 0, 13, None, None, None, 0, None, None]}}, '0:67:0:0:2:1:1': {'attributes': [], 'annotations': [], 'observations': {'7': [58.37, None, 0, 0, 0, 13, None, None, None, 0, None, None]}}, '0:68:0:0:0:0:0': {'attributes': [], 'annotations': [], 'observations': {'3': [90.84, None, 0, 0, 0, 0, 1, None, None, 0, None, None]}}, '0:68:0:0:0:0:1': {'attributes': [], 'annotations': [], 'observations': {'3': [87.08, None, 0, 0, 0, 0, 1, None, None, 0, None, None]}}, '0:68:0:0:0:1:0': {'attributes': [], 'annotations': [], 'observations': {'3': [71.8, None, 0, 0, 0, 0, 1, None, None, 0, None, None]}}, '0:68:0:0:0:1:1': {'attributes': [], 'annotations': [], 'observations': {'3': [60.65, None, 0, 0, 0, 0, 1, None, None, 0, None, None]}}, '0:68:0:0:1:0:0': {'attributes': [], 'annotations': [], 'observations': {'3': [88.72, None, 0, 0, 0, 0, 1, None, None, 0, None, None]}}, '0:68:0:0:1:0:1': {'attributes': [], 'annotations': [], 'observations': {'3': [83.53, None, 0, 0, 0, 0, 1, None, None, 0, None, None]}}, '0:68:0:0:1:1:0': {'attributes': [], 'annotations': [], 'observations': {'3': [68.25, None, 0, 0, 0, 0, 1, None, None, 0, None, None]}}, '0:68:0:0:1:1:1': {'attributes': [], 'annotations': [], 'observations': {'3': [54.27, None, 0, 0, 0, 0, 1, None, None, 0, None, None]}}, '0:68:0:0:2:0:0': {'attributes': [], 'annotations': [], 'observations': {'3': [93.03, None, 0, 0, 0, 0, 1, None, None, 0, None, None]}}, '0:68:0:0:2:0:1': {'attributes': [], 'annotations': [], 'observations': {'3': [90.73, None, 0, 0, 0, 0, 1, None, None, 0, None, None]}}, '0:68:0:0:2:1:0': {'attributes': [], 'annotations': [], 'observations': {'3': [76.14, None, 0, 0, 0, 0, 1, None, None, 0, None, None]}}, '0:68:0:0:2:1:1': {'attributes': [], 'annotations': [], 'observations': {'3': [68.44, None, 0, 0, 0, 0, 1, None, None, 0, None, None]}}, '0:69:0:0:0:0:0': {'attributes': [], 'annotations': [], 'observations': {'1': [91.7, None, 0, 0, 0, 0, None, None, None, 0, None, None], '6': [89.35, None, 0, 0, 0, 12, None, None, None, 0, None, None]}}, '0:69:0:0:0:0:1': {'attributes': [], 'annotations': [], 'observations': {'1': [84.86, None, 0, 0, 0, 0, None, None, None, 0, None, None], '6': [77.97, None, 0, 0, 0, 13, None, None, None, 0, None, None]}}, '0:69:0:0:0:1:0': {'attributes': [], 'annotations': [], 'observations': {'1': [83.24, None, 0, 0, 0, 0, None, None, None, 0, None, None], '6': [85, None, 0, 0, 0, 12, None, None, None, 0, None, None]}}, '0:69:0:0:0:1:1': {'attributes': [], 'annotations': [], 'observations': {'1': [67.43, None, 0, 0, 0, 0, None, None, None, 0, None, None], '6': [66.82, None, 0, 0, 0, 12, None, None, None, 0, None, None]}}, '0:69:0:0:1:0:0': {'attributes': [], 'annotations': [], 'observations': {'1': [89.55, None, 0, 0, 0, 0, None, None, None, 0, None, None], '6': [88.54, None, 0, 0, 0, 13, None, None, None, 0, None, None]}}, '0:69:0:0:1:0:1': {'attributes': [], 'annotations': [], 'observations': {'1': [81.3, None, 0, 0, 0, 0, None, None, None, 0, None, None], '6': [76.2, None, 0, 0, 0, 12, None, None, None, 0, None, None]}}, '0:69:0:0:1:1:0': {'attributes': [], 'annotations': [], 'observations': {'1': [81.25, None, 0, 0, 0, 0, None, None, None, 0, None, None], '6': [83.55, None, 0, 0, 0, 13, None, None, None, 0, None, None]}}, '0:69:0:0:1:1:1': {'attributes': [], 'annotations': [], 'observations': {'1': [63.35, None, 0, 0, 0, 0, None, None, None, 0, None, None], '6': [64.08, None, 0, 0, 0, 12, None, None, None, 0, None, None]}}, '0:69:0:0:2:0:0': {'attributes': [], 'annotations': [], 'observations': {'1': [94.06, None, 0, 0, 0, 0, None, None, None, 0, None, None], '6': [90.42, None, 0, 0, 0, 13, None, None, None, 0, None, None]}}, '0:69:0:0:2:0:1': {'attributes': [], 'annotations': [], 'observations': {'1': [88.79, None, 0, 0, 0, 0, None, None, None, 0, None, None], '6': [80.29, None, 0, 0, 0, 12, None, None, None, 0, None, None]}}, '0:69:0:0:2:1:0': {'attributes': [], 'annotations': [], 'observations': {'1': [86.17, None, 0, 0, 0, 0, None, None, None, 0, None, None], '6': [87.03, None, 0, 0, 0, 13, None, None, None, 0, None, None]}}, '0:69:0:0:2:1:1': {'attributes': [], 'annotations': [], 'observations': {'1': [73.45, None, 0, 0, 0, 0, None, None, None, 0, None, None], '6': [70.66, None, 0, 0, 0, 12, None, None, None, 0, None, None]}}, '0:70:0:0:0:0:0': {'attributes': [], 'annotations': [], 'observations': {'9': [40.9, None, 0, 0, 0, 0, None, None, None, 0, None, None], '0': [38.35, None, 0, 0, 0, 0, None, None, None, 0, None, None], '1': [36.2, None, 0, 0, 0, 0, None, None, None, 0, None, None], '2': [35.35, None, 0, 0, 0, 0, None, None, None, 0, None, None], '3': [23.64, None, 0, 0, 0, 0, None, None, None, 0, None, None], '4': [23.88, None, 0, 0, 0, 0, None, None, None, 0, None, None], '5': [24.54, None, 0, 0, 0, 0, None, None, None, 0, None, None], '6': [24.11, None, 0, 0, 0, 0, None, None, None, 0, None, None], '7': [23.95, None, 0, 0, 0, 0, None, None, None, 0, None, None], '8': [24.04, None, 0, 0, 0, 12, None, None, None, 0, None, None]}}, '0:70:0:0:0:0:1': {'attributes': [], 'annotations': [], 'observations': {'9': [41.78, None, 0, 0, 0, 0, None, None, None, 0, None, None], '0': [39.29, None, 0, 0, 0, 0, None, None, None, 0, None, None], '1': [37.69, None, 0, 0, 0, 0, None, None, None, 0, None, None], '2': [37.21, None, 0, 0, 0, 0, None, None, None, 0, None, None], '3': [25.77, None, 0, 0, 0, 0, None, None, None, 0, None, None], '4': [26.03, None, 0, 0, 0, 0, None, None, None, 0, None, None], '5': [26.75, None, 0, 0, 0, 0, None, None, None, 0, None, None], '6': [26.58, None, 0, 0, 0, 0, None, None, None, 0, None, None], '7': [26.67, None, 0, 0, 0, 0, None, None, None, 0, None, None], '8': [26.64, None, 0, 0, 0, 12, None, None, None, 0, None, None]}}, '0:70:0:0:0:1:0': {'attributes': [], 'annotations': [], 'observations': {'9': [38.91, None, 0, 0, 0, 0, None, None, None, 0, None, None], '0': [35.79, None, 0, 0, 0, 0, None, None, None, 0, None, None], '1': [34.16, None, 0, 0, 0, 0, None, None, None, 0, None, None], '2': [33.2, None, 0, 0, 0, 0, None, None, None, 0, None, None], '3': [22.95, None, 0, 0, 0, 0, None, None, None, 0, None, None], '4': [23.48, None, 0, 0, 0, 0, None, None, None, 0, None, None], '5': [24.09, None, 0, 0, 0, 0, None, None, None, 0, None, None], '6': [23.64, None, 0, 0, 0, 0, None, None, None, 0, None, None], '7': [23.48, None, 0, 0, 0, 0, None, None, None, 0, None, None], '8': [23.65, None, 0, 0, 0, 13, None, None, None, 0, None, None]}}, '0:70:0:0:0:1:1': {'attributes': [], 'annotations': [], 'observations': {'9': [40, None, 0, 0, 0, 0, None, None, None, 0, None, None], '0': [36.9, None, 0, 0, 0, 0, None, None, None, 0, None, None], '1': [35.85, None, 0, 0, 0, 0, None, None, None, 0, None, None], '2': [35.31, None, 0, 0, 0, 0, None, None, None, 0, None, None], '3': [25.38, None, 0, 0, 0, 0, None, None, None, 0, None, None], '4': [25.91, None, 0, 0, 0, 0, None, None, None, 0, None, None], '5': [26.56, None, 0, 0, 0, 0, None, None, None, 0, None, None], '6': [26.43, None, 0, 0, 0, 0, None, None, None, 0, None, None], '7': [26.5, None, 0, 0, 0, 0, None, None, None, 0, None, None], '8': [26.54, None, 0, 0, 0, 12, None, None, None, 0, None, None]}}, '0:70:0:0:1:0:0': {'attributes': [], 'annotations': [], 'observations': {'9': [41.06, None, 0, 0, 0, 0, None, None, None, 0, None, None], '0': [38.98, None, 0, 0, 0, 0, None, None, None, 0, None, None], '1': [37.05, None, 0, 0, 0, 0, None, None, None, 0, None, None], '2': [36.62, None, 0, 0, 0, 0, None, None, None, 0, None, None], '3': [23.77, None, 0, 0, 0, 0, None, None, None, 0, None, None], '4': [24.28, None, 0, 0, 0, 0, None, None, None, 0, None, None], '5': [25.16, None, 0, 0, 0, 0, None, None, None, 0, None, None], '6': [25.19, None, 0, 0, 0, 0, None, None, None, 0, None, None], '7': [25.09, None, 0, 0, 0, 0, None, None, None, 0, None, None], '8': [24.56, None, 0, 0, 0, 12, None, None, None, 0, None, None]}}, '0:70:0:0:1:0:1': {'attributes': [], 'annotations': [], 'observations': {'9': [39.04, None, 0, 0, 0, 0, None, None, None, 0, None, None], '0': [37.08, None, 0, 0, 0, 0, None, None, None, 0, None, None], '1': [35.69, None, 0, 0, 0, 0, None, None, None, 0, None, None], '2': [35.44, None, 0, 0, 0, 0, None, None, None, 0, None, None], '3': [22.84, None, 0, 0, 0, 0, None, None, None, 0, None, None], '4': [23.29, None, 0, 0, 0, 0, None, None, None, 0, None, None], '5': [24.21, None, 0, 0, 0, 0, None, None, None, 0, None, None], '6': [24.52, None, 0, 0, 0, 0, None, None, None, 0, None, None], '7': [24.53, None, 0, 0, 0, 0, None, None, None, 0, None, None], '8': [24.13, None, 0, 0, 0, 12, None, None, None, 0, None, None]}}, '0:70:0:0:1:1:0': {'attributes': [], 'annotations': [], 'observations': {'9': [38.26, None, 0, 0, 0, 0, None, None, None, 0, None, None], '0': [35.53, None, 0, 0, 0, 0, None, None, None, 0, None, None], '1': [34.37, None, 0, 0, 0, 0, None, None, None, 0, None, None], '2': [33.82, None, 0, 0, 0, 0, None, None, None, 0, None, None], '3': [22.72, None, 0, 0, 0, 0, None, None, None, 0, None, None], '4': [23.67, None, 0, 0, 0, 0, None, None, None, 0, None, None], '5': [24.53, None, 0, 0, 0, 0, None, None, None, 0, None, None], '6': [24.57, None, 0, 0, 0, 0, None, None, None, 0, None, None], '7': [24.42, None, 0, 0, 0, 0, None, None, None, 0, None, None], '8': [24.02, None, 0, 0, 0, 13, None, None, None, 0, None, None]}}, '0:70:0:0:1:1:1': {'attributes': [], 'annotations': [], 'observations': {'9': [35.94, None, 0, 0, 0, 0, None, None, None, 0, None, None], '0': [33.41, None, 0, 0, 0, 0, None, None, None, 0, None, None], '1': [32.9, None, 0, 0, 0, 0, None, None, None, 0, None, None], '2': [32.56, None, 0, 0, 0, 0, None, None, None, 0, None, None], '3': [21.77, None, 0, 0, 0, 0, None, None, None, 0, None, None], '4': [22.67, None, 0, 0, 0, 0, None, None, None, 0, None, None], '5': [23.57, None, 0, 0, 0, 0, None, None, None, 0, None, None], '6': [23.91, None, 0, 0, 0, 0, None, None, None, 0, None, None], '7': [23.9, None, 0, 0, 0, 0, None, None, None, 0, None, None], '8': [23.61, None, 0, 0, 0, 12, None, None, None, 0, None, None]}}, '0:70:0:0:2:0:0': {'attributes': [], 'annotations': [], 'observations': {'9': [40.7, None, 0, 0, 0, 0, None, None, None, 0, None, None], '0': [37.56, None, 0, 0, 0, 0, None, None, None, 0, None, None], '1': [35.16, None, 0, 0, 0, 0, None, None, None, 0, None, None], '2': [33.76, None, 0, 0, 0, 0, None, None, None, 0, None, None], '3': [23.48, None, 0, 0, 0, 0, None, None, None, 0, None, None], '4': [23.4, None, 0, 0, 0, 0, None, None, None, 0, None, None], '5': [23.77, None, 0, 0, 0, 0, None, None, None, 0, None, None], '6': [22.78, None, 0, 0, 0, 0, None, None, None, 0, None, None], '7': [22.57, None, 0, 0, 0, 0, None, None, None, 0, None, None], '8': [23.39, None, 0, 0, 0, 12, None, None, None, 0, None, None]}}, '0:70:0:0:2:0:1': {'attributes': [], 'annotations': [], 'observations': {'9': [45.17, None, 0, 0, 0, 0, None, None, None, 0, None, None], '0': [42.04, None, 0, 0, 0, 0, None, None, None, 0, None, None], '1': [40.11, None, 0, 0, 0, 0, None, None, None, 0, None, None], '2': [39.42, None, 0, 0, 0, 0, None, None, None, 0, None, None], '3': [29.44, None, 0, 0, 0, 0, None, None, None, 0, None, None], '4': [29.41, None, 0, 0, 0, 0, None, None, None, 0, None, None], '5': [29.87, None, 0, 0, 0, 0, None, None, None, 0, None, None], '6': [29.11, None, 0, 0, 0, 0, None, None, None, 0, None, None], '7': [29.29, None, 0, 0, 0, 0, None, None, None, 0, None, None], '8': [29.74, None, 0, 0, 0, 12, None, None, None, 0, None, None]}}, '0:70:0:0:2:1:0': {'attributes': [], 'annotations': [], 'observations': {'9': [39.62, None, 0, 0, 0, 0, None, None, None, 0, None, None], '0': [36.09, None, 0, 0, 0, 0, None, None, None, 0, None, None], '1': [33.92, None, 0, 0, 0, 0, None, None, None, 0, None, None], '2': [32.51, None, 0, 0, 0, 0, None, None, None, 0, None, None], '3': [23.2, None, 0, 0, 0, 0, None, None, None, 0, None, None], '4': [23.27, None, 0, 0, 0, 0, None, None, None, 0, None, None], '5': [23.59, None, 0, 0, 0, 0, None, None, None, 0, None, None], '6': [22.61, None, 0, 0, 0, 0, None, None, None, 0, None, None], '7': [22.42, None, 0, 0, 0, 0, None, None, None, 0, None, None], '8': [23.23, None, 0, 0, 0, 13, None, None, None, 0, None, None]}}, '0:70:0:0:2:1:1': {'attributes': [], 'annotations': [], 'observations': {'9': [44.42, None, 0, 0, 0, 0, None, None, None, 0, None, None], '0': [40.82, None, 0, 0, 0, 0, None, None, None, 0, None, None], '1': [39.12, None, 0, 0, 0, 0, None, None, None, 0, None, None], '2': [38.45, None, 0, 0, 0, 0, None, None, None, 0, None, None], '3': [29.48, None, 0, 0, 0, 0, None, None, None, 0, None, None], '4': [29.59, None, 0, 0, 0, 0, None, None, None, 0, None, None], '5': [29.96, None, 0, 0, 0, 0, None, None, None, 0, None, None], '6': [29.23, None, 0, 0, 0, 0, None, None, None, 0, None, None], '7': [29.4, None, 0, 0, 0, 0, None, None, None, 0, None, None], '8': [29.85, None, 0, 0, 0, 13, None, None, None, 0, None, None]}}, '0:71:0:0:0:0:0': {'attributes': [], 'annotations': [], 'observations': {'2': [79.53, None, 0, 0, 0, 0, None, None, None, 0, None, None], '3': [76.87, None, 0, 0, 0, 0, None, None, None, 0, None, None], '4': [75.5, None, 0, 0, 0, 0, None, None, None, 0, None, None], '5': [74.1, None, 0, 0, 0, 0, None, None, None, 0, None, None], '6': [73.32, None, 0, 0, 0, 0, None, None, None, 0, None, None], '7': [71.44, None, 0, 0, 0, 0, None, None, None, 0, None, None], '8': [67.37, None, 0, 0, 0, 13, None, None, None, 0, None, None]}}, '0:71:0:0:0:0:1': {'attributes': [], 'annotations': [], 'observations': {'2': [71.34, None, 0, 0, 0, 0, None, None, None, 0, None, None], '3': [66.82, None, 0, 0, 0, 0, None, None, None, 0, None, None], '4': [64.23, None, 0, 0, 0, 0, None, None, None, 0, None, None], '5': [62.64, None, 0, 0, 0, 0, None, None, None, 0, None, None], '6': [62.08, None, 0, 0, 0, 0, None, None, None, 0, None, None], '7': [60.05, None, 0, 0, 0, 0, None, None, None, 0, None, None], '8': [56.24, None, 0, 0, 0, 13, None, None, None, 0, None, None]}}, '0:71:0:0:0:1:0': {'attributes': [], 'annotations': [], 'observations': {'2': [62.2, None, 0, 0, 0, 0, None, None, None, 0, None, None], '3': [57.63, None, 0, 0, 0, 0, None, None, None, 0, None, None], '4': [57.12, None, 0, 0, 0, 0, None, None, None, 0, None, None], '5': [56.33, None, 0, 0, 0, 0, None, None, None, 0, None, None], '6': [56.06, None, 0, 0, 0, 0, None, None, None, 0, None, None], '7': [54.9, None, 0, 0, 0, 0, None, None, None, 0, None, None], '8': [58.35, None, 0, 0, 0, 13, None, None, None, 0, None, None]}}, '0:71:0:0:0:1:1': {'attributes': [], 'annotations': [], 'observations': {'2': [47.28, None, 0, 0, 0, 0, None, None, None, 0, None, None], '3': [39.56, None, 0, 0, 0, 0, None, None, None, 0, None, None], '4': [37.93, None, 0, 0, 0, 0, None, None, None, 0, None, None], '5': [37.57, None, 0, 0, 0, 0, None, None, None, 0, None, None], '6': [38, None, 0, 0, 0, 0, None, None, None, 0, None, None], '7': [37.58, None, 0, 0, 0, 0, None, None, None, 0, None, None], '8': [44.21, None, 0, 0, 0, 13, None, None, None, 0, None, None]}}, '0:71:0:0:1:0:0': {'attributes': [], 'annotations': [], 'observations': {'2': [79.94, None, 0, 0, 0, 0, None, None, None, 0, None, None], '3': [77.37, None, 0, 0, 0, 0, None, None, None, 0, None, None], '4': [76.69, None, 0, 0, 0, 0, None, None, None, 0, None, None], '5': [75.32, None, 0, 0, 0, 0, None, None, None, 0, None, None], '6': [75.14, None, 0, 0, 0, 0, None, None, None, 0, None, None], '7': [73.47, None, 0, 0, 0, 0, None, None, None, 0, None, None], '8': [70.54, None, 0, 0, 0, 12, None, None, None, 0, None, None]}}, '0:71:0:0:1:0:1': {'attributes': [], 'annotations': [], 'observations': {'2': [70.48, None, 0, 0, 0, 0, None, None, None, 0, None, None], '3': [65.84, None, 0, 0, 0, 0, None, None, None, 0, None, None], '4': [63.55, None, 0, 0, 0, 0, None, None, None, 0, None, None], '5': [62.05, None, 0, 0, 0, 0, None, None, None, 0, None, None], '6': [62.33, None, 0, 0, 0, 0, None, None, None, 0, None, None], '7': [60.73, None, 0, 0, 0, 0, None, None, None, 0, None, None], '8': [58.44, None, 0, 0, 0, 12, None, None, None, 0, None, None]}}, '0:71:0:0:1:1:0': {'attributes': [], 'annotations': [], 'observations': {'2': [64.44, None, 0, 0, 0, 0, None, None, None, 0, None, None], '3': [60.07, None, 0, 0, 0, 0, None, None, None, 0, None, None], '4': [60.44, None, 0, 0, 0, 0, None, None, None, 0, None, None], '5': [59.78, None, 0, 0, 0, 0, None, None, None, 0, None, None], '6': [60.13, None, 0, 0, 0, 0, None, None, None, 0, None, None], '7': [59.03, None, 0, 0, 0, 0, None, None, None, 0, None, None], '8': [62.37, None, 0, 0, 0, 13, None, None, None, 0, None, None]}}, '0:71:0:0:1:1:1': {'attributes': [], 'annotations': [], 'observations': {'2': [47.96, None, 0, 0, 0, 0, None, None, None, 0, None, None], '3': [40.24, None, 0, 0, 0, 0, None, None, None, 0, None, None], '4': [38.92, None, 0, 0, 0, 0, None, None, None, 0, None, None], '5': [38.98, None, 0, 0, 0, 0, None, None, None, 0, None, None], '6': [40.29, None, 0, 0, 0, 0, None, None, None, 0, None, None], '7': [40.35, None, 0, 0, 0, 0, None, None, None, 0, None, None], '8': [47.04, None, 0, 0, 0, 13, None, None, None, 0, None, None]}}, '0:71:0:0:2:0:0': {'attributes': [], 'annotations': [], 'observations': {'2': [79.09, None, 0, 0, 0, 0, None, None, None, 0, None, None], '3': [76.33, None, 0, 0, 0, 0, None, None, None, 0, None, None], '4': [74.24, None, 0, 0, 0, 0, None, None, None, 0, None, None], '5': [72.8, None, 0, 0, 0, 0, None, None, None, 0, None, None], '6': [71.37, None, 0, 0, 0, 0, None, None, None, 0, None, None], '7': [69.21, None, 0, 0, 0, 0, None, None, None, 0, None, None], '8': [63.7, None, 0, 0, 0, 13, None, None, None, 0, None, None]}}, '0:71:0:0:2:0:1': {'attributes': [], 'annotations': [], 'observations': {'2': [72.26, None, 0, 0, 0, 0, None, None, None, 0, None, None], '3': [67.84, None, 0, 0, 0, 0, None, None, None, 0, None, None], '4': [64.96, None, 0, 0, 0, 0, None, None, None, 0, None, None], '5': [63.26, None, 0, 0, 0, 0, None, None, None, 0, None, None], '6': [61.81, None, 0, 0, 0, 0, None, None, None, 0, None, None], '7': [59.3, None, 0, 0, 0, 0, None, None, None, 0, None, None], '8': [53.71, None, 0, 0, 0, 13, None, None, None, 0, None, None]}}, '0:71:0:0:2:1:0': {'attributes': [], 'annotations': [], 'observations': {'2': [59.67, None, 0, 0, 0, 0, None, None, None, 0, None, None], '3': [54.89, None, 0, 0, 0, 0, None, None, None, 0, None, None], '4': [53.42, None, 0, 0, 0, 0, None, None, None, 0, None, None], '5': [52.47, None, 0, 0, 0, 0, None, None, None, 0, None, None], '6': [51.5, None, 0, 0, 0, 0, None, None, None, 0, None, None], '7': [50.23, None, 0, 0, 0, 0, None, None, None, 0, None, None], '8': [53.75, None, 0, 0, 0, 13, None, None, None, 0, None, None]}}, '0:71:0:0:2:1:1': {'attributes': [], 'annotations': [], 'observations': {'2': [46.51, None, 0, 0, 0, 0, None, None, None, 0, None, None], '3': [38.79, None, 0, 0, 0, 0, None, None, None, 0, None, None], '4': [36.83, None, 0, 0, 0, 0, None, None, None, 0, None, None], '5': [36, None, 0, 0, 0, 0, None, None, None, 0, None, None], '6': [35.45, None, 0, 0, 0, 0, None, None, None, 0, None, None], '7': [34.46, None, 0, 0, 0, 0, None, None, None, 0, None, None], '8': [40.98, None, 0, 0, 0, 13, None, None, None, 0, None, None]}}, '0:72:0:0:0:0:0': {'attributes': [], 'annotations': [], 'observations': {'1': [50.75, None, 0, 0, 0, 0, 1, None, None, 0, None, None], '6': [37.29, None, 0, 0, 0, 13, None, None, None, 0, None, None]}}, '0:72:0:0:0:0:1': {'attributes': [], 'annotations': [], 'observations': {'1': [44.25, None, 0, 0, 0, 0, 1, None, None, 0, None, None], '6': [32.75, None, 0, 0, 0, 12, None, None, None, 0, None, None]}}, '0:72:0:0:0:1:0': {'attributes': [], 'annotations': [], 'observations': {'1': [50.22, None, 0, 0, 0, 0, 1, None, None, 0, None, None], '6': [21.26, None, 0, 0, 0, 12, None, None, None, 0, None, None]}}, '0:72:0:0:0:1:1': {'attributes': [], 'annotations': [], 'observations': {'1': [43.09, None, 0, 0, 0, 0, 1, None, None, 0, None, None], '6': [16.12, None, 0, 0, 0, 13, None, None, None, 0, None, None]}}, '0:72:0:0:1:0:0': {'attributes': [], 'annotations': [], 'observations': {'1': [51.76, None, 0, 0, 0, 0, 1, None, None, 0, None, None], '6': [42.35, None, 0, 0, 0, 13, None, None, None, 0, None, None]}}, '0:72:0:0:1:0:1': {'attributes': [], 'annotations': [], 'observations': {'1': [44.92, None, 0, 0, 0, 0, 1, None, None, 0, None, None], '6': [37.4, None, 0, 0, 0, 12, None, None, None, 0, None, None]}}, '0:72:0:0:1:1:0': {'attributes': [], 'annotations': [], 'observations': {'1': [51.55, None, 0, 0, 0, 0, 1, None, None, 0, None, None], '6': [21.66, None, 0, 0, 0, 13, None, None, None, 0, None, None]}}, '0:72:0:0:1:1:1': {'attributes': [], 'annotations': [], 'observations': {'1': [43.89, None, 0, 0, 0, 0, 1, None, None, 0, None, None], '6': [15.7, None, 0, 0, 0, 13, None, None, None, 0, None, None]}}, '0:72:0:0:2:0:0': {'attributes': [], 'annotations': [], 'observations': {'1': [49.02, None, 0, 0, 0, 0, 1, None, None, 0, None, None], '6': [27.05, None, 0, 0, 0, 13, None, None, None, 0, None, None]}}, '0:72:0:0:2:0:1': {'attributes': [], 'annotations': [], 'observations': {'1': [43.12, None, 0, 0, 0, 0, 1, None, None, 0, None, None], '6': [23.34, None, 0, 0, 0, 13, None, None, None, 0, None, None]}}, '0:72:0:0:2:1:0': {'attributes': [], 'annotations': [], 'observations': {'1': [48, None, 0, 0, 0, 0, 1, None, None, 0, None, None], '6': [20.62, None, 0, 0, 0, 13, None, None, None, 0, None, None]}}, '0:72:0:0:2:1:1': {'attributes': [], 'annotations': [], 'observations': {'1': [41.76, None, 0, 0, 0, 0, 1, None, None, 0, None, None], '6': [16.78, None, 0, 0, 0, 12, None, None, None, 0, None, None]}}, '0:73:0:0:0:0:0': {'attributes': [], 'annotations': [], 'observations': {'3': [77.41, None, 0, 0, 0, 0, None, None, None, 0, None, None]}}, '0:73:0:0:0:0:1': {'attributes': [], 'annotations': [], 'observations': {'3': [70.24, None, 0, 0, 0, 0, None, None, None, 0, None, None]}}, '0:73:0:0:0:1:0': {'attributes': [], 'annotations': [], 'observations': {'3': [68.41, None, 0, 0, 0, 0, None, None, None, 0, None, None]}}, '0:73:0:0:0:1:1': {'attributes': [], 'annotations': [], 'observations': {'3': [58.68, None, 0, 0, 0, 0, None, None, None, 0, None, None]}}, '0:73:0:0:1:0:0': {'attributes': [], 'annotations': [], 'observations': {'3': [77.05, None, 0, 0, 0, 0, None, None, None, 0, None, None]}}, '0:73:0:0:1:0:1': {'attributes': [], 'annotations': [], 'observations': {'3': [69.93, None, 0, 0, 0, 0, None, None, None, 0, None, None]}}, '0:73:0:0:1:1:0': {'attributes': [], 'annotations': [], 'observations': {'3': [68.66, None, 0, 0, 0, 0, None, None, None, 0, None, None]}}, '0:73:0:0:1:1:1': {'attributes': [], 'annotations': [], 'observations': {'3': [59.19, None, 0, 0, 0, 0, None, None, None, 0, None, None]}}, '0:73:0:0:2:0:0': {'attributes': [], 'annotations': [], 'observations': {'3': [82.17, None, 0, 0, 0, 0, None, None, None, 0, None, None]}}, '0:73:0:0:2:0:1': {'attributes': [], 'annotations': [], 'observations': {'3': [74.27, None, 0, 0, 0, 0, None, None, None, 0, None, None]}}, '0:73:0:0:2:1:0': {'attributes': [], 'annotations': [], 'observations': {'3': [63.35, None, 0, 0, 0, 0, None, None, None, 0, None, None]}}, '0:73:0:0:2:1:1': {'attributes': [], 'annotations': [], 'observations': {'3': [48.49, None, 0, 0, 0, 0, None, None, None, 0, None, None]}}, '0:74:0:0:0:0:0': {'attributes': [], 'annotations': [], 'observations': {'9': [34.06, None, 0, 0, 0, 0, None, None, None, 0, None, None], '0': [32.95, None, 0, 0, 0, 0, None, None, None, 0, None, None], '1': [32.06, None, 0, 0, 0, 0, None, None, None, 0, None, None], '2': [32.6, None, 0, 0, 0, 0, None, None, None, 0, None, None], '3': [32.48, None, 0, 0, 0, 0, None, None, None, 0, None, None], '4': [34.77, None, 0, 0, 0, 0, None, None, None, 0, None, None], '5': [34.32, None, 0, 0, 0, 0, None, None, None, 0, None, None], '6': [34.69, None, 0, 0, 0, 0, None, None, None, 0, None, None], '7': [35.32, None, 0, 0, 0, 0, None, None, None, 0, None, None], '8': [35.19, None, 0, 0, 0, 0, None, None, None, 0, None, None]}}, '0:74:0:0:0:0:1': {'attributes': [], 'annotations': [], 'observations': {'9': [47.68, None, 0, 0, 0, 0, None, None, None, 0, None, None], '0': [45.31, None, 0, 0, 0, 0, None, None, None, 0, None, None], '1': [45.05, None, 0, 0, 0, 0, None, None, None, 0, None, None], '2': [44.24, None, 0, 0, 0, 0, None, None, None, 0, None, None], '3': [43.64, None, 0, 0, 0, 0, None, None, None, 0, None, None], '4': [45.74, None, 0, 0, 0, 0, None, None, None, 0, None, None], '5': [45.23, None, 0, 0, 0, 0, None, None, None, 0, None, None], '6': [45, None, 0, 0, 0, 0, None, None, None, 0, None, None], '7': [45.18, None, 0, 0, 0, 0, None, None, None, 0, None, None], '8': [45.49, None, 0, 0, 0, 0, None, None, None, 0, None, None]}}, '0:74:0:0:0:1:0': {'attributes': [], 'annotations': [], 'observations': {'9': [33.87, None, 0, 0, 0, 0, None, None, None, 0, None, None], '0': [32.68, None, 0, 0, 0, 0, None, None, None, 0, None, None], '1': [31.68, None, 0, 0, 0, 0, None, None, None, 0, None, None], '2': [32.36, None, 0, 0, 0, 0, None, None, None, 0, None, None], '3': [32.32, None, 0, 0, 0, 0, None, None, None, 0, None, None], '4': [34.61, None, 0, 0, 0, 0, None, None, None, 0, None, None], '5': [34.25, None, 0, 0, 0, 0, None, None, None, 0, None, None], '6': [34.61, None, 0, 0, 0, 0, None, None, None, 0, None, None], '7': [35.15, None, 0, 0, 0, 0, None, None, None, 0, None, None], '8': [35.15, None, 0, 0, 0, 0, None, None, None, 0, None, None]}}, '0:74:0:0:0:1:1': {'attributes': [], 'annotations': [], 'observations': {'9': [46.1, None, 0, 0, 0, 0, None, None, None, 0, None, None], '0': [43.66, None, 0, 0, 0, 0, None, None, None, 0, None, None], '1': [43.34, None, 0, 0, 0, 0, None, None, None, 0, None, None], '2': [42.51, None, 0, 0, 0, 0, None, None, None, 0, None, None], '3': [42.23, None, 0, 0, 0, 0, None, None, None, 0, None, None], '4': [43.86, None, 0, 0, 0, 0, None, None, None, 0, None, None], '5': [43.53, None, 0, 0, 0, 0, None, None, None, 0, None, None], '6': [43.38, None, 0, 0, 0, 0, None, None, None, 0, None, None], '7': [43.58, None, 0, 0, 0, 0, None, None, None, 0, None, None], '8': [43.77, None, 0, 0, 0, 0, None, None, None, 0, None, None]}}, '0:74:0:0:1:0:0': {'attributes': [], 'annotations': [], 'observations': {'9': [31.51, None, 0, 0, 0, 0, None, None, None, 0, None, None], '0': [30.66, None, 0, 0, 0, 0, None, None, None, 0, None, None], '1': [30.03, None, 0, 0, 0, 0, None, None, None, 0, None, None], '2': [30.12, None, 0, 0, 0, 0, None, None, None, 0, None, None], '3': [30.06, None, 0, 0, 0, 0, None, None, None, 0, None, None], '4': [33.04, None, 0, 0, 0, 0, None, None, None, 0, None, None], '5': [32.83, None, 0, 0, 0, 0, None, None, None, 0, None, None], '6': [32.89, None, 0, 0, 0, 0, None, None, None, 0, None, None], '7': [33.76, None, 0, 0, 0, 0, None, None, None, 0, None, None], '8': [33.84, None, 0, 0, 0, 0, None, None, None, 0, None, None]}}, '0:74:0:0:1:0:1': {'attributes': [], 'annotations': [], 'observations': {'9': [45.81, None, 0, 0, 0, 0, None, None, None, 0, None, None], '0': [43.03, None, 0, 0, 0, 0, None, None, None, 0, None, None], '1': [43.23, None, 0, 0, 0, 0, None, None, None, 0, None, None], '2': [42.56, None, 0, 0, 0, 0, None, None, None, 0, None, None], '3': [42.11, None, 0, 0, 0, 0, None, None, None, 0, None, None], '4': [44.82, None, 0, 0, 0, 0, None, None, None, 0, None, None], '5': [44.99, None, 0, 0, 0, 0, None, None, None, 0, None, None], '6': [44.54, None, 0, 0, 0, 0, None, None, None, 0, None, None], '7': [44.9, None, 0, 0, 0, 0, None, None, None, 0, None, None], '8': [45.21, None, 0, 0, 0, 0, None, None, None, 0, None, None]}}, '0:74:0:0:1:1:0': {'attributes': [], 'annotations': [], 'observations': {'9': [31.23, None, 0, 0, 0, 0, None, None, None, 0, None, None], '0': [30.38, None, 0, 0, 0, 0, None, None, None, 0, None, None], '1': [29.46, None, 0, 0, 0, 0, None, None, None, 0, None, None], '2': [29.74, None, 0, 0, 0, 0, None, None, None, 0, None, None], '3': [29.75, None, 0, 0, 0, 0, None, None, None, 0, None, None], '4': [32.76, None, 0, 0, 0, 0, None, None, None, 0, None, None], '5': [32.74, None, 0, 0, 0, 0, None, None, None, 0, None, None], '6': [32.69, None, 0, 0, 0, 0, None, None, None, 0, None, None], '7': [33.56, None, 0, 0, 0, 0, None, None, None, 0, None, None], '8': [33.78, None, 0, 0, 0, 0, None, None, None, 0, None, None]}}, '0:74:0:0:1:1:1': {'attributes': [], 'annotations': [], 'observations': {'9': [43.9, None, 0, 0, 0, 0, None, None, None, 0, None, None], '0': [41, None, 0, 0, 0, 0, None, None, None, 0, None, None], '1': [41.12, None, 0, 0, 0, 0, None, None, None, 0, None, None], '2': [40.3, None, 0, 0, 0, 0, None, None, None, 0, None, None], '3': [40.24, None, 0, 0, 0, 0, None, None, None, 0, None, None], '4': [42.5, None, 0, 0, 0, 0, None, None, None, 0, None, None], '5': [42.83, None, 0, 0, 0, 0, None, None, None, 0, None, None], '6': [42.48, None, 0, 0, 0, 0, None, None, None, 0, None, None], '7': [42.97, None, 0, 0, 0, 0, None, None, None, 0, None, None], '8': [43.07, None, 0, 0, 0, 0, None, None, None, 0, None, None]}}, '0:74:0:0:2:0:0': {'attributes': [], 'annotations': [], 'observations': {'9': [37.44, None, 0, 0, 0, 0, None, None, None, 0, None, None], '0': [35.94, None, 0, 0, 0, 0, None, None, None, 0, None, None], '1': [34.72, None, 0, 0, 0, 0, None, None, None, 0, None, None], '2': [35.77, None, 0, 0, 0, 0, None, None, None, 0, None, None], '3': [35.59, None, 0, 0, 0, 0, None, None, None, 0, None, None], '4': [37, None, 0, 0, 0, 0, None, None, None, 0, None, None], '5': [36.26, None, 0, 0, 0, 0, None, None, None, 0, None, None], '6': [37, None, 0, 0, 0, 0, None, None, None, 0, None, None], '7': [37.3, None, 0, 0, 0, 0, None, None, None, 0, None, None], '8': [36.91, None, 0, 0, 0, 0, None, None, None, 0, None, None]}}, '0:74:0:0:2:0:1': {'attributes': [], 'annotations': [], 'observations': {'9': [50.13, None, 0, 0, 0, 0, None, None, None, 0, None, None], '0': [48.28, None, 0, 0, 0, 0, None, None, None, 0, None, None], '1': [47.43, None, 0, 0, 0, 0, None, None, None, 0, None, None], '2': [46.38, None, 0, 0, 0, 0, None, None, None, 0, None, None], '3': [45.61, None, 0, 0, 0, 0, None, None, None, 0, None, None], '4': [46.93, None, 0, 0, 0, 0, None, None, None, 0, None, None], '5': [45.54, None, 0, 0, 0, 0, None, None, None, 0, None, None], '6': [45.57, None, 0, 0, 0, 0, None, None, None, 0, None, None], '7': [45.54, None, 0, 0, 0, 0, None, None, None, 0, None, None], '8': [45.86, None, 0, 0, 0, 0, None, None, None, 0, None, None]}}, '0:74:0:0:2:1:0': {'attributes': [], 'annotations': [], 'observations': {'9': [37.29, None, 0, 0, 0, 0, None, None, None, 0, None, None], '0': [35.62, None, 0, 0, 0, 0, None, None, None, 0, None, None], '1': [34.52, None, 0, 0, 0, 0, None, None, None, 0, None, None], '2': [35.6, None, 0, 0, 0, 0, None, None, None, 0, None, None], '3': [35.52, None, 0, 0, 0, 0, None, None, None, 0, None, None], '4': [36.94, None, 0, 0, 0, 0, None, None, None, 0, None, None], '5': [36.15, None, 0, 0, 0, 0, None, None, None, 0, None, None], '6': [36.99, None, 0, 0, 0, 0, None, None, None, 0, None, None], '7': [37.12, None, 0, 0, 0, 0, None, None, None, 0, None, None], '8': [36.84, None, 0, 0, 0, 0, None, None, None, 0, None, None]}}, '0:74:0:0:2:1:1': {'attributes': [], 'annotations': [], 'observations': {'9': [48.95, None, 0, 0, 0, 0, None, None, None, 0, None, None], '0': [47.05, None, 0, 0, 0, 0, None, None, None, 0, None, None], '1': [46.18, None, 0, 0, 0, 0, None, None, None, 0, None, None], '2': [45.25, None, 0, 0, 0, 0, None, None, None, 0, None, None], '3': [44.72, None, 0, 0, 0, 0, None, None, None, 0, None, None], '4': [45.57, None, 0, 0, 0, 0, None, None, None, 0, None, None], '5': [44.41, None, 0, 0, 0, 0, None, None, None, 0, None, None], '6': [44.5, None, 0, 0, 0, 0, None, None, None, 0, None, None], '7': [44.34, None, 0, 0, 0, 0, None, None, None, 0, None, None], '8': [44.64, None, 0, 0, 0, 0, None, None, None, 0, None, None]}}, '0:75:0:0:0:0:0': {'attributes': [], 'annotations': [], 'observations': {'6': [70.5, None, 0, 0, 0, 13, None, None, None, 0, None, None], '7': [69.17, None, 0, 0, 0, 0, None, None, None, 0, None, None]}}, '0:75:0:0:0:0:1': {'attributes': [], 'annotations': [], 'observations': {'6': [60.11, None, 0, 0, 0, 13, None, None, None, 0, None, None], '7': [58.65, None, 0, 0, 0, 0, None, None, None, 0, None, None]}}, '0:75:0:0:0:1:0': {'attributes': [], 'annotations': [], 'observations': {'6': [65.38, None, 0, 0, 0, 12, None, None, None, 0, None, None], '7': [64.16, None, 0, 0, 0, 0, None, None, None, 0, None, None]}}, '0:75:0:0:0:1:1': {'attributes': [], 'annotations': [], 'observations': {'6': [53.47, None, 0, 0, 0, 12, None, None, None, 0, None, None], '7': [52.23, None, 0, 0, 0, 0, None, None, None, 0, None, None]}}, '0:75:0:0:1:0:0': {'attributes': [], 'annotations': [], 'observations': {'6': [64.92, None, 0, 0, 0, 12, None, None, None, 0, None, None], '7': [63.67, None, 0, 0, 0, 0, None, None, None, 0, None, None]}}, '0:75:0:0:1:0:1': {'attributes': [], 'annotations': [], 'observations': {'6': [52.43, None, 0, 0, 0, 13, None, None, None, 0, None, None], '7': [51.07, None, 0, 0, 0, 0, None, None, None, 0, None, None]}}, '0:75:0:0:1:1:0': {'attributes': [], 'annotations': [], 'observations': {'6': [59.2, None, 0, 0, 0, 12, None, None, None, 0, None, None], '7': [58.12, None, 0, 0, 0, 0, None, None, None, 0, None, None]}}, '0:75:0:0:1:1:1': {'attributes': [], 'annotations': [], 'observations': {'6': [44.67, None, 0, 0, 0, 13, None, None, None, 0, None, None], '7': [44.06, None, 0, 0, 0, 0, None, None, None, 0, None, None]}}, '0:75:0:0:2:0:0': {'attributes': [], 'annotations': [], 'observations': {'6': [78.94, None, 0, 0, 0, 12, None, None, None, 0, None, None], '7': [78.1, None, 0, 0, 0, 0, None, None, None, 0, None, None]}}, '0:75:0:0:2:0:1': {'attributes': [], 'annotations': [], 'observations': {'6': [71.73, None, 0, 0, 0, 12, None, None, None, 0, None, None], '7': [70.95, None, 0, 0, 0, 0, None, None, None, 0, None, None]}}, '0:75:0:0:2:1:0': {'attributes': [], 'annotations': [], 'observations': {'6': [74.61, None, 0, 0, 0, 12, None, None, None, 0, None, None], '7': [73.81, None, 0, 0, 0, 0, None, None, None, 0, None, None]}}, '0:75:0:0:2:1:1': {'attributes': [], 'annotations': [], 'observations': {'6': [66.61, None, 0, 0, 0, 12, None, None, None, 0, None, None], '7': [65.31, None, 0, 0, 0, 0, None, None, None, 0, None, None]}}, '0:76:0:0:0:0:0': {'attributes': [], 'annotations': [], 'observations': {'0': [85.62, None, 0, 0, 0, 0, None, None, None, 0, None, None], '3': [87.35, None, 0, 0, 0, 0, None, None, None, 0, None, None]}}, '0:76:0:0:0:0:1': {'attributes': [], 'annotations': [], 'observations': {'0': [77.42, None, 0, 0, 0, 0, None, None, None, 0, None, None], '3': [79.22, None, 0, 0, 0, 0, None, None, None, 0, None, None]}}, '0:76:0:0:0:1:0': {'attributes': [], 'annotations': [], 'observations': {'0': [62.5, None, 0, 0, 0, 0, None, None, None, 0, None, None], '3': [65.98, None, 0, 0, 0, 0, None, None, None, 0, None, None]}}, '0:76:0:0:0:1:1': {'attributes': [], 'annotations': [], 'observations': {'0': [44.3, None, 0, 0, 0, 0, None, None, None, 0, None, None], '3': [47.01, None, 0, 0, 0, 0, None, None, None, 0, None, None]}}, '0:76:0:0:1:0:0': {'attributes': [], 'annotations': [], 'observations': {'0': [79.74, None, 0, 0, 0, 0, None, None, None, 0, None, None], '3': [83.04, None, 0, 0, 0, 0, None, None, None, 0, None, None]}}, '0:76:0:0:1:0:1': {'attributes': [], 'annotations': [], 'observations': {'0': [68.35, None, 0, 0, 0, 0, None, None, None, 0, None, None], '3': [71.82, None, 0, 0, 0, 0, None, None, None, 0, None, None]}}, '0:76:0:0:1:1:0': {'attributes': [], 'annotations': [], 'observations': {'0': [55.06, None, 0, 0, 0, 0, None, None, None, 0, None, None], '3': [60.62, None, 0, 0, 0, 0, None, None, None, 0, None, None]}}, '0:76:0:0:1:1:1': {'attributes': [], 'annotations': [], 'observations': {'0': [32.9, None, 0, 0, 0, 0, None, None, None, 0, None, None], '3': [36.51, None, 0, 0, 0, 0, None, None, None, 0, None, None]}}, '0:76:0:0:2:0:0': {'attributes': [], 'annotations': [], 'observations': {'0': [91.45, None, 0, 0, 0, 0, None, None, None, 0, None, None], '3': [91.55, None, 0, 0, 0, 0, None, None, None, 0, None, None]}}, '0:76:0:0:2:0:1': {'attributes': [], 'annotations': [], 'observations': {'0': [86.41, None, 0, 0, 0, 0, None, None, None, 0, None, None], '3': [86.43, None, 0, 0, 0, 0, None, None, None, 0, None, None]}}, '0:76:0:0:2:1:0': {'attributes': [], 'annotations': [], 'observations': {'0': [72.91, None, 0, 0, 0, 0, None, None, None, 0, None, None], '3': [72.84, None, 0, 0, 0, 0, None, None, None, 0, None, None]}}, '0:76:0:0:2:1:1': {'attributes': [], 'annotations': [], 'observations': {'0': [60.25, None, 0, 0, 0, 0, None, None, None, 0, None, None], '3': [60.43, None, None, None, None, 0, None, None, None, None, None, None]}}}}], 'structure': {'name': 'Informal employment and informal sector as a percent of employment by sex -- Harmonized series', 'names': {'en': 'Informal employment and informal sector as a percent of employment by sex -- Harmonized series'}, 'description': 'The harmonized series for informal employment and informal sector are derived using the same set of criteria across countries to improve comparability. The criteria used are based on employment status, institutional sector, destination of production, bookkeeping, registration, social security contribution, places of work and size. For more information, refer to the <a href=\"https://ilostat.ilo.org/resources/methods/\">methods</a> page.', 'descriptions': {'en': 'The harmonized series for informal employment and informal sector are derived using the same set of criteria across countries to improve comparability. The criteria used are based on employment status, institutional sector, destination of production, bookkeeping, registration, social security contribution, places of work and size. For more information, refer to the <a href=\"https://ilostat.ilo.org/resources/methods/\">methods</a> page.'}, 'dimensions': {'dataset': [], 'series': [{'id': 'COLLECTION', 'name': 'Data collection', 'names': {'en': 'Data collection'}, 'keyPosition': 0, 'roles': ['COLLECTION'], 'values': [{'id': 'YI', 'order': 2, 'name': 'Annual indicators', 'names': {'en': 'Annual indicators'}, 'annotations': [7]}]}, {'id': 'REF_AREA', 'name': 'Reference area', 'names': {'en': 'Reference area'}, 'keyPosition': 1, 'roles': ['REF_AREA'], 'values': [{'id': 'AGO', 'order': 168, 'name': 'Angola', 'names': {'en': 'Angola'}, 'annotations': [8, 9, 10, 11, 12, 13]}, {'id': 'ALB', 'order': 61, 'name': 'Albania', 'names': {'en': 'Albania'}, 'annotations': [14, 9, 15, 16, 17, 18]}, {'id': 'ARG', 'order': 213, 'name': 'Argentina', 'names': {'en': 'Argentina'}, 'annotations': [19, 9, 20, 21, 22, 18]}, {'id': 'ARM', 'order': 64, 'name': 'Armenia', 'names': {'en': 'Armenia'}, 'annotations': [23, 9, 24, 25, 17, 18]}, {'id': 'BDI', 'order': 170, 'name': 'Burundi', 'names': {'en': 'Burundi'}, 'annotations': [26, 9, 27, 28, 12, 29]}, {'id': 'BEN', 'order': 172, 'name': 'Benin', 'names': {'en': 'Benin'}, 'annotations': [30, 9, 31, 32, 12, 29]}, {'id': 'BFA', 'order': 173, 'name': 'Burkina Faso', 'names': {'en': 'Burkina Faso'}, 'annotations': [33, 9, 34, 35, 12, 29]}, {'id': 'BGD', 'order': 70, 'name': 'Bangladesh', 'names': {'en': 'Bangladesh'}, 'annotations': [36, 9, 37, 38, 39, 13]}, {'id': 'BIH', 'order': 74, 'name': 'Bosnia and Herzegovina', 'names': {'en': 'Bosnia and Herzegovina'}, 'annotations': [40, 9, 41, 42, 17, 18]}, {'id': 'BOL', 'order': 214, 'name': 'Bolivia', 'names': {'en': 'Bolivia'}, 'annotations': [43, 9, 44, 45, 22, 13]}, {'id': 'BRA', 'order': 215, 'name': 'Brazil', 'names': {'en': 'Brazil'}, 'annotations': [46, 9, 47, 48, 22, 18]}, {'id': 'BRN', 'order': 79, 'name': 'Brunei Darussalam', 'names': {'en': 'Brunei Darussalam'}, 'annotations': [49, 9, 50, 51, 39, 52]}, {'id': 'CHL', 'order': 216, 'name': 'Chile', 'names': {'en': 'Chile'}, 'annotations': [53, 9, 54, 55, 22, 52]}, {'id': 'CIV', 'order': 176, 'name': \"Côte d'Ivoire\", 'names': {'en': \"Côte d'Ivoire\"}, 'annotations': [56, 9, 57, 58, 12, 13]}, {'id': 'CMR', 'order': 177, 'name': 'Cameroon', 'names': {'en': 'Cameroon'}, 'annotations': [59, 9, 60, 61, 12, 13]}, {'id': 'COL', 'order': 217, 'name': 'Colombia', 'names': {'en': 'Colombia'}, 'annotations': [62, 9, 63, 64, 22, 18]}, {'id': 'COM', 'order': 180, 'name': 'Comoros', 'names': {'en': 'Comoros'}, 'annotations': [65, 9, 66, 67, 12, 13]}, {'id': 'CPV', 'order': 181, 'name': 'Cape Verde', 'names': {'en': 'Cape Verde'}, 'annotations': [68, 9, 69, 70, 12, 13]}, {'id': 'CRI', 'order': 218, 'name': 'Costa Rica', 'names': {'en': 'Costa Rica'}, 'annotations': [71, 9, 72, 73, 22, 18]}, {'id': 'DOM', 'order': 220, 'name': 'Dominican Republic', 'names': {'en': 'Dominican Republic'}, 'annotations': [74, 9, 75, 76, 22, 18]}, {'id': 'ECU', 'order': 221, 'name': 'Ecuador', 'names': {'en': 'Ecuador'}, 'annotations': [77, 9, 78, 79, 22, 18]}, {'id': 'EGY', 'order': 1, 'name': 'Egypt', 'names': {'en': 'Egypt'}, 'annotations': [80, 9, 81, 82, 12, 13]}, {'id': 'ETH', 'order': 4, 'name': 'Ethiopia', 'names': {'en': 'Ethiopia'}, 'annotations': [83, 9, 84, 85, 12, 29]}, {'id': 'FJI', 'order': 6, 'name': 'Fiji', 'names': {'en': 'Fiji'}, 'annotations': [86, 9, 87, 88, 39, 18]}, {'id': 'GHA', 'order': 12, 'name': 'Ghana', 'names': {'en': 'Ghana'}, 'annotations': [89, 9, 90, 91, 12, 13]}, {'id': 'GMB', 'order': 14, 'name': 'Gambia', 'names': {'en': 'Gambia'}, 'annotations': [92, 9, 93, 94, 12, 29]}, {'id': 'GTM', 'order': 225, 'name': 'Guatemala', 'names': {'en': 'Guatemala'}, 'annotations': [95, 9, 96, 97, 22, 18]}, {'id': 'GUY', 'order': 19, 'name': 'Guyana', 'names': {'en': 'Guyana'}, 'annotations': [98, 9, 99, 100, 22, 18]}, {'id': 'HND', 'order': 226, 'name': 'Honduras', 'names': {'en': 'Honduras'}, 'annotations': [101, 9, 102, 103, 22, 13]}, {'id': 'HTI', 'order': 190, 'name': 'Haiti', 'names': {'en': 'Haiti'}, 'annotations': [104, 9, 105, 106, 22, 29]}, {'id': 'IDN', 'order': 23, 'name': 'Indonesia', 'names': {'en': 'Indonesia'}, 'annotations': [107, 9, 108, 109, 39, 13]}, {'id': 'IND', 'order': 25, 'name': 'India', 'names': {'en': 'India'}, 'annotations': [110, 9, 111, 112, 39, 13]}, {'id': 'KGZ', 'order': 38, 'name': 'Kyrgyzstan', 'names': {'en': 'Kyrgyzstan'}, 'annotations': [113, 9, 114, 115, 17, 13]}, {'id': 'KHM', 'order': 39, 'name': 'Cambodia', 'names': {'en': 'Cambodia'}, 'annotations': [116, 9, 117, 118, 39, 13]}, {'id': 'LAO', 'order': 45, 'name': \"Lao People's Democratic Republic\", 'names': {'en': \"Lao People's Democratic Republic\"}, 'annotations': [119, 9, 120, 121, 39, 13]}, {'id': 'LBR', 'order': 46, 'name': 'Liberia', 'names': {'en': 'Liberia'}, 'annotations': [122, 9, 123, 124, 12, 29]}, {'id': 'LCA', 'order': 48, 'name': 'Saint Lucia', 'names': {'en': 'Saint Lucia'}, 'annotations': [125, 9, 126, 127, 22, 18]}, {'id': 'LKA', 'order': 50, 'name': 'Sri Lanka', 'names': {'en': 'Sri Lanka'}, 'annotations': [128, 9, 129, 130, 39, 18]}, {'id': 'MDA', 'order': 55, 'name': 'Moldova, Republic of', 'names': {'en': 'Moldova, Republic of'}, 'annotations': [131, 9, 132, 133, 17, 13]}, {'id': 'MDG', 'order': 195, 'name': 'Madagascar', 'names': {'en': 'Madagascar'}, 'annotations': [134, 9, 135, 136, 12, 29]}, {'id': 'MDV', 'order': 56, 'name': 'Maldives', 'names': {'en': 'Maldives'}, 'annotations': [137, 9, 138, 139, 39, 18]}, {'id': 'MLI', 'order': 196, 'name': 'Mali', 'names': {'en': 'Mali'}, 'annotations': [140, 9, 141, 142, 12, 29]}, {'id': 'MMR', 'order': 95, 'name': 'Myanmar', 'names': {'en': 'Myanmar'}, 'annotations': [143, 9, 144, 145, 39, 13]}, {'id': 'MNG', 'order': 97, 'name': 'Mongolia', 'names': {'en': 'Mongolia'}, 'annotations': [146, 9, 147, 148, 39, 13]}, {'id': 'MOZ', 'order': 197, 'name': 'Mozambique', 'names': {'en': 'Mozambique'}, 'annotations': [149, 9, 150, 151, 12, 29]}, {'id': 'MRT', 'order': 198, 'name': 'Mauritania', 'names': {'en': 'Mauritania'}, 'annotations': [152, 9, 153, 154, 12, 13]}, {'id': 'MUS', 'order': 100, 'name': 'Mauritius', 'names': {'en': 'Mauritius'}, 'annotations': [155, 9, 156, 157, 12, 18]}, {'id': 'NAM', 'order': 106, 'name': 'Namibia', 'names': {'en': 'Namibia'}, 'annotations': [158, 9, 159, 160, 12, 18]}, {'id': 'NER', 'order': 201, 'name': 'Niger', 'names': {'en': 'Niger'}, 'annotations': [161, 9, 162, 163, 12, 29]}, {'id': 'NIC', 'order': 228, 'name': 'Nicaragua', 'names': {'en': 'Nicaragua'}, 'annotations': [164, 9, 165, 166, 22, 13]}, {'id': 'NPL', 'order': 112, 'name': 'Nepal', 'names': {'en': 'Nepal'}, 'annotations': [167, 9, 168, 169, 39, 29]}, {'id': 'PAK', 'order': 116, 'name': 'Pakistan', 'names': {'en': 'Pakistan'}, 'annotations': [170, 9, 171, 172, 39, 13]}, {'id': 'PAN', 'order': 229, 'name': 'Panama', 'names': {'en': 'Panama'}, 'annotations': [173, 9, 174, 175, 22, 52]}, {'id': 'PER', 'order': 230, 'name': 'Peru', 'names': {'en': 'Peru'}, 'annotations': [176, 9, 177, 178, 22, 18]}, {'id': 'PRY', 'order': 231, 'name': 'Paraguay', 'names': {'en': 'Paraguay'}, 'annotations': [179, 9, 180, 181, 22, 18]}, {'id': 'PSE', 'order': 123, 'name': 'Occupied Palestinian Territory', 'names': {'en': 'Occupied Palestinian Territory'}, 'annotations': [182, 9, 183, 184, 185, 13]}, {'id': 'RUS', 'order': 125, 'name': 'Russian Federation', 'names': {'en': 'Russian Federation'}, 'annotations': [186, 9, 187, 188, 17, 18]}, {'id': 'RWA', 'order': 206, 'name': 'Rwanda', 'names': {'en': 'Rwanda'}, 'annotations': [189, 9, 190, 191, 12, 29]}, {'id': 'SDN', 'order': 127, 'name': 'Sudan', 'names': {'en': 'Sudan'}, 'annotations': [192, 9, 193, 194, 12, 13]}, {'id': 'SEN', 'order': 207, 'name': 'Senegal', 'names': {'en': 'Senegal'}, 'annotations': [195, 9, 196, 197, 12, 13]}, {'id': 'SLV', 'order': 232, 'name': 'El Salvador', 'names': {'en': 'El Salvador'}, 'annotations': [198, 9, 199, 200, 22, 13]}, {'id': 'SRB', 'order': 134, 'name': 'Serbia', 'names': {'en': 'Serbia'}, 'annotations': [201, 9, 202, 203, 17, 18]}, {'id': 'SWZ', 'order': 139, 'name': 'Eswatini', 'names': {'en': 'Eswatini'}, 'annotations': [204, 9, 205, 206, 12, 13]}, {'id': 'SYC', 'order': 140, 'name': 'Seychelles', 'names': {'en': 'Seychelles'}, 'annotations': [207, 9, 208, 209, 12, 52]}, {'id': 'TGO', 'order': 210, 'name': 'Togo', 'names': {'en': 'Togo'}, 'annotations': [210, 9, 211, 212, 12, 29]}, {'id': 'THA', 'order': 143, 'name': 'Thailand', 'names': {'en': 'Thailand'}, 'annotations': [213, 9, 214, 215, 39, 18]}, {'id': 'TLS', 'order': 147, 'name': 'Timor-Leste', 'names': {'en': 'Timor-Leste'}, 'annotations': [216, 9, 217, 218, 39, 13]}, {'id': 'TON', 'order': 148, 'name': 'Tonga', 'names': {'en': 'Tonga'}, 'annotations': [219, 9, 220, 221, 39, 18]}, {'id': 'TZA', 'order': 153, 'name': 'Tanzania, United Republic of', 'names': {'en': 'Tanzania, United Republic of'}, 'annotations': [222, 9, 223, 224, 12, 29]}, {'id': 'UGA', 'order': 154, 'name': 'Uganda', 'names': {'en': 'Uganda'}, 'annotations': [225, 9, 226, 227, 12, 29]}, {'id': 'URY', 'order': 234, 'name': 'Uruguay', 'names': {'en': 'Uruguay'}, 'annotations': [228, 9, 229, 230, 22, 52]}, {'id': 'VNM', 'order': 161, 'name': 'Viet Nam', 'names': {'en': 'Viet Nam'}, 'annotations': [231, 9, 232, 233, 39, 13]}, {'id': 'WSM', 'order': 163, 'name': 'Samoa', 'names': {'en': 'Samoa'}, 'annotations': [234, 9, 235, 236, 39, 18]}, {'id': 'YEM', 'order': 164, 'name': 'Yemen', 'names': {'en': 'Yemen'}, 'annotations': [237, 9, 238, 239, 185, 29]}, {'id': 'ZAF', 'order': 165, 'name': 'South Africa', 'names': {'en': 'South Africa'}, 'annotations': [240, 9, 241, 242, 12, 18]}, {'id': 'ZMB', 'order': 166, 'name': 'Zambia', 'names': {'en': 'Zambia'}, 'annotations': [243, 9, 244, 245, 12, 13]}, {'id': 'ZWE', 'order': 167, 'name': 'Zimbabwe', 'names': {'en': 'Zimbabwe'}, 'annotations': [246, 9, 247, 248, 12, 13]}]}, {'id': 'FREQ', 'name': 'Frequency', 'names': {'en': 'Frequency'}, 'keyPosition': 2, 'roles': ['FREQ'], 'values': [{'id': 'A', 'order': 1, 'name': 'Annual', 'names': {'en': 'Annual'}, 'annotations': [249]}]}, {'id': 'MEASURE', 'name': 'Measure', 'names': {'en': 'Measure'}, 'keyPosition': 3, 'roles': ['MEASURE'], 'values': [{'id': 'IFL_4IEM_RT', 'order': 173, 'name': 'Informal employment and informal sector as a percent of employment -- Harmonized series', 'names': {'en': 'Informal employment and informal sector as a percent of employment -- Harmonized series'}, 'annotations': [250, 251]}]}, {'id': 'SEX', 'name': 'Sex', 'names': {'en': 'Sex'}, 'keyPosition': 4, 'roles': ['SEX'], 'values': [{'id': 'SEX_T', 'order': 0, 'name': 'Total', 'names': {'en': 'Total'}, 'annotations': [252, 253]}, {'id': 'SEX_M', 'order': 1, 'name': 'Male', 'names': {'en': 'Male'}, 'annotations': [254, 255]}, {'id': 'SEX_F', 'order': 2, 'name': 'Female', 'names': {'en': 'Female'}, 'annotations': [256, 255]}, {'id': 'SEX_O', 'order': 3, 'name': 'Other', 'names': {'en': 'Other'}, 'annotations': [257, 255]}]}, {'id': 'ECO', 'name': 'Economic activity', 'names': {'en': 'Economic activity'}, 'keyPosition': 5, 'roles': ['ECO'], 'values': [{'id': 'ECO_TOTNAG_TOTAL', 'order': 97, 'name': 'Total', 'names': {'en': 'Total'}, 'parent': 'ECO_TOTNAG', 'annotations': [258, 253]}, {'id': 'ECO_TOTNAG_NAG', 'order': 100, 'name': 'Non-agriculture', 'names': {'en': 'Non-agriculture'}, 'parent': 'ECO_TOTNAG', 'annotations': [259, 253]}]}, {'id': 'IFL', 'name': 'Informal / formal economy', 'names': {'en': 'Informal / formal economy'}, 'keyPosition': 6, 'roles': ['IFL'], 'values': [{'id': 'IFL_COMP_INFEMP', 'order': 1, 'name': 'Informal employment', 'names': {'en': 'Informal employment'}, 'annotations': [260, 255]}, {'id': 'IFL_COMP_OFS', 'order': 3, 'name': 'Employment outside the formal sector', 'names': {'en': 'Employment outside the formal sector'}, 'annotations': [261, 255]}]}], 'observation': [{'id': 'TIME_PERIOD', 'name': 'Time period', 'names': {'en': 'Time period'}, 'keyPosition': 7, 'roles': ['TIME_PERIOD'], 'values': [{'start': '2011-01-01T00:00:00Z', 'end': '2011-12-31T23:59:59Z', 'id': '2011', 'name': '2011', 'names': {'en': '2011'}}, {'start': '2012-01-01T00:00:00Z', 'end': '2012-12-31T23:59:59Z', 'id': '2012', 'name': '2012', 'names': {'en': '2012'}}, {'start': '2013-01-01T00:00:00Z', 'end': '2013-12-31T23:59:59Z', 'id': '2013', 'name': '2013', 'names': {'en': '2013'}}, {'start': '2014-01-01T00:00:00Z', 'end': '2014-12-31T23:59:59Z', 'id': '2014', 'name': '2014', 'names': {'en': '2014'}}, {'start': '2015-01-01T00:00:00Z', 'end': '2015-12-31T23:59:59Z', 'id': '2015', 'name': '2015', 'names': {'en': '2015'}}, {'start': '2016-01-01T00:00:00Z', 'end': '2016-12-31T23:59:59Z', 'id': '2016', 'name': '2016', 'names': {'en': '2016'}}, {'start': '2017-01-01T00:00:00Z', 'end': '2017-12-31T23:59:59Z', 'id': '2017', 'name': '2017', 'names': {'en': '2017'}}, {'start': '2018-01-01T00:00:00Z', 'end': '2018-12-31T23:59:59Z', 'id': '2018', 'name': '2018', 'names': {'en': '2018'}}, {'start': '2019-01-01T00:00:00Z', 'end': '2019-12-31T23:59:59Z', 'id': '2019', 'name': '2019', 'names': {'en': '2019'}}, {'start': '2010-01-01T00:00:00Z', 'end': '2010-12-31T23:59:59Z', 'id': '2010', 'name': '2010', 'names': {'en': '2010'}}]}]}, 'attributes': {'dataSet': [], 'series': [], 'observation': [{'id': 'OBS_STATUS', 'name': 'Observation status', 'names': {'en': 'Observation status'}, 'roles': ['OBS_STATUS'], 'relationship': {'primaryMeasure': 'OBS_VALUE'}, 'values': []}, {'id': 'UNIT_MEASURE_TYPE', 'name': 'Unit of measure type', 'names': {'en': 'Unit of measure type'}, 'roles': ['UNIT_MEASURE_TYPE'], 'relationship': {'primaryMeasure': 'OBS_VALUE'}, 'values': [{'id': 'RT', 'order': 1, 'name': 'Rate', 'names': {'en': 'Rate'}, 'annotations': [262]}]}, {'id': 'UNIT_MEASURE', 'name': 'Unit of measure', 'names': {'en': 'Unit of measure'}, 'roles': ['UNIT_MEASURE'], 'relationship': {'primaryMeasure': 'OBS_VALUE'}, 'values': [{'id': 'PT', 'order': 15, 'name': 'Percentage', 'names': {'en': 'Percentage'}, 'annotations': [263]}]}, {'id': 'UNIT_MULT', 'name': 'Unit multiplier', 'names': {'en': 'Unit multiplier'}, 'roles': ['UNIT_MULT'], 'relationship': {'primaryMeasure': 'OBS_VALUE'}, 'values': [{'id': '0', 'order': 0, 'name': 'Units', 'names': {'en': 'Units'}, 'annotations': [260]}]}, {'id': 'SOURCE_NOTE', 'name': 'Source Notes', 'names': {'en': 'Source Notes'}, 'roles': ['SOURCE_NOTE'], 'relationship': {'primaryMeasure': 'OBS_VALUE'}, 'values': [{'name': 'Repository: ILO-STATISTICS - Micro data processing', 'names': {'en': 'Repository: ILO-STATISTICS - Micro data processing'}}, {'name': 'Geographical coverage: Main cities or metropolitan areas | Repository: ILO-STATISTICS - Micro data processing', 'names': {'en': 'Geographical coverage: Main cities or metropolitan areas | Repository: ILO-STATISTICS - Micro data processing'}}, {'name': 'Repository: ILO-STATISTICS - Micro data processing | Geographical coverage: Main cities or metropolitan areas', 'names': {'en': 'Repository: ILO-STATISTICS - Micro data processing | Geographical coverage: Main cities or metropolitan areas'}}, {'name': 'Repository: ILO-STATISTICS - Micro data processing | Age coverage - maximum age: 75 years old', 'names': {'en': 'Repository: ILO-STATISTICS - Micro data processing | Age coverage - maximum age: 75 years old'}}, {'name': 'Age coverage - maximum age: 75 years old | Repository: ILO-STATISTICS - Micro data processing', 'names': {'en': 'Age coverage - maximum age: 75 years old | Repository: ILO-STATISTICS - Micro data processing'}}, {'name': 'Repository: ILO-STATISTICS - Micro data processing | Age coverage - minimum age: 10 years old', 'names': {'en': 'Repository: ILO-STATISTICS - Micro data processing | Age coverage - minimum age: 10 years old'}}, {'name': 'Age coverage - minimum age: 10 years old | Repository: ILO-STATISTICS - Micro data processing', 'names': {'en': 'Age coverage - minimum age: 10 years old | Repository: ILO-STATISTICS - Micro data processing'}}, {'name': 'Age coverage - minimum age: 10 years old | Age coverage - maximum age: 75 years old | Repository: ILO-STATISTICS - Micro data processing', 'names': {'en': 'Age coverage - minimum age: 10 years old | Age coverage - maximum age: 75 years old | Repository: ILO-STATISTICS - Micro data processing'}}, {'name': 'Age coverage - maximum age: 75 years old | Age coverage - minimum age: 10 years old | Repository: ILO-STATISTICS - Micro data processing', 'names': {'en': 'Age coverage - maximum age: 75 years old | Age coverage - minimum age: 10 years old | Repository: ILO-STATISTICS - Micro data processing'}}, {'name': 'Age coverage - minimum age: 10 years old | Repository: ILO-STATISTICS - Micro data processing | Age coverage - maximum age: 75 years old', 'names': {'en': 'Age coverage - minimum age: 10 years old | Repository: ILO-STATISTICS - Micro data processing | Age coverage - maximum age: 75 years old'}}, {'name': 'Repository: ILO-STATISTICS - Micro data processing | Age coverage - maximum age: 75 years old | Age coverage - minimum age: 10 years old', 'names': {'en': 'Repository: ILO-STATISTICS - Micro data processing | Age coverage - maximum age: 75 years old | Age coverage - minimum age: 10 years old'}}, {'name': 'Repository: ILO-STATISTICS - Micro data processing | Age coverage - minimum age: 10 years old | Age coverage - maximum age: 75 years old', 'names': {'en': 'Repository: ILO-STATISTICS - Micro data processing | Age coverage - minimum age: 10 years old | Age coverage - maximum age: 75 years old'}}, {'name': 'Repository: ILO-STATISTICS - Micro data processing | Employment definition: Excluding own-use production workers', 'names': {'en': 'Repository: ILO-STATISTICS - Micro data processing | Employment definition: Excluding own-use production workers'}}, {'name': 'Employment definition: Excluding own-use production workers | Repository: ILO-STATISTICS - Micro data processing', 'names': {'en': 'Employment definition: Excluding own-use production workers | Repository: ILO-STATISTICS - Micro data processing'}}, {'name': 'Age coverage - minimum age: 16 years old | Repository: ILO-STATISTICS - Micro data processing', 'names': {'en': 'Age coverage - minimum age: 16 years old | Repository: ILO-STATISTICS - Micro data processing'}}, {'name': 'Repository: ILO-STATISTICS - Micro data processing | Age coverage - minimum age: 16 years old', 'names': {'en': 'Repository: ILO-STATISTICS - Micro data processing | Age coverage - minimum age: 16 years old'}}, {'name': 'Repository: ILO-STATISTICS - Micro data processing | Data reference period: Third quarter', 'names': {'en': 'Repository: ILO-STATISTICS - Micro data processing | Data reference period: Third quarter'}}, {'name': 'Data reference period: Third quarter | Repository: ILO-STATISTICS - Micro data processing', 'names': {'en': 'Data reference period: Third quarter | Repository: ILO-STATISTICS - Micro data processing'}}, {'name': 'Repository: ILO-STATISTICS - Micro data processing | Data reference period: Second quarter', 'names': {'en': 'Repository: ILO-STATISTICS - Micro data processing | Data reference period: Second quarter'}}, {'name': 'Data reference period: Second quarter | Repository: ILO-STATISTICS - Micro data processing', 'names': {'en': 'Data reference period: Second quarter | Repository: ILO-STATISTICS - Micro data processing'}}, {'name': 'Data reference period: Noncalendar year | Repository: ILO-STATISTICS - Micro data processing', 'names': {'en': 'Data reference period: Noncalendar year | Repository: ILO-STATISTICS - Micro data processing'}}, {'name': 'Repository: ILO-STATISTICS - Micro data processing | Data reference period: Noncalendar year', 'names': {'en': 'Repository: ILO-STATISTICS - Micro data processing | Data reference period: Noncalendar year'}}, {'name': 'Repository: ILO-STATISTICS - Micro data processing | Age coverage - minimum age: Nonstandard minimum age', 'names': {'en': 'Repository: ILO-STATISTICS - Micro data processing | Age coverage - minimum age: Nonstandard minimum age'}}, {'name': 'Age coverage - minimum age: Nonstandard minimum age | Repository: ILO-STATISTICS - Micro data processing', 'names': {'en': 'Age coverage - minimum age: Nonstandard minimum age | Repository: ILO-STATISTICS - Micro data processing'}}, {'name': 'Age coverage - maximum age: 75 years old | Repository: ILO-STATISTICS - Micro data processing | Age coverage - minimum age: 10 years old', 'names': {'en': 'Age coverage - maximum age: 75 years old | Repository: ILO-STATISTICS - Micro data processing | Age coverage - minimum age: 10 years old'}}, {'name': 'Data reference period: August | Repository: ILO-STATISTICS - Micro data processing', 'names': {'en': 'Data reference period: August | Repository: ILO-STATISTICS - Micro data processing'}}, {'name': 'Repository: ILO-STATISTICS - Micro data processing | Data reference period: August', 'names': {'en': 'Repository: ILO-STATISTICS - Micro data processing | Data reference period: August'}}]}, {'id': 'INDICATOR_NOTE', 'name': 'Indicator Notes', 'names': {'en': 'Indicator Notes'}, 'roles': ['INDICATOR_NOTE'], 'relationship': {'primaryMeasure': 'OBS_VALUE'}, 'values': [{'name': 'Remarks: Warning on the use of statistical series: Statistical series published after January 2007 and before December 2015 should be used with caution. The INDEC, based on what is stated in decrees 181/15 and 55/16, is undertaking the investigations required to ensure the regularity of data collection, processing and dissemination procedures.', 'names': {'en': 'Remarks: Warning on the use of statistical series: Statistical series published after January 2007 and before December 2015 should be used with caution. The INDEC, based on what is stated in decrees 181/15 and 55/16, is undertaking the investigations required to ensure the regularity of data collection, processing and dissemination procedures.'}}, {'name': 'Break in series: Methodology revised', 'names': {'en': 'Break in series: Methodology revised'}}, {'name': 'Remarks: Information provided by the Russian Federation. Includes statistical data for the Autonomous Republic of Crimea and the city of Sevastopol, Ukraine, temporarily occupied by the Russian Federation', 'names': {'en': 'Remarks: Information provided by the Russian Federation. Includes statistical data for the Autonomous Republic of Crimea and the city of Sevastopol, Ukraine, temporarily occupied by the Russian Federation'}}]}, {'id': 'CLASSIFICATION_NOTE', 'name': 'Classification Notes', 'names': {'en': 'Classification Notes'}, 'roles': ['CLASSIFICATION_NOTE'], 'relationship': {'primaryMeasure': 'OBS_VALUE'}, 'values': []}, {'id': 'CURRENCY_NOTE', 'name': 'Currency Notes', 'names': {'en': 'Currency Notes'}, 'roles': ['CURRENCY_NOTE'], 'relationship': {'primaryMeasure': 'OBS_VALUE'}, 'values': []}, {'id': 'DECIMALS', 'name': 'Decimals', 'names': {'en': 'Decimals'}, 'roles': ['DECIMALS'], 'relationship': {'primaryMeasure': 'OBS_VALUE'}, 'values': [{'name': '1', 'names': {'en': '1'}}]}, {'id': 'UPPER_BOUND', 'name': 'Upper bound of Observation Value', 'names': {'en': 'Upper bound of Observation Value'}, 'roles': ['UPPER_BOUND'], 'relationship': {'primaryMeasure': 'OBS_VALUE'}, 'values': []}, {'id': 'LOWER_BOUND', 'name': 'Lower bound of Observation Value', 'names': {'en': 'Lower bound of Observation Value'}, 'roles': ['LOWER_BOUND'], 'relationship': {'primaryMeasure': 'OBS_VALUE'}, 'values': []}]}, 'annotations': [{'title': '8/9/2020 6:08:31 AM', 'type': 'LAST_UPDATE'}, {'title': '13700', 'type': 'ORDER'}, {'title': 'IFL', 'type': 'LAYOUT_COLUMN'}, {'title': 'REF_AREA,SEX,ECO,TIME_PERIOD', 'type': 'LAYOUT_ROW'}, {'title': 'COLLECTION', 'type': 'NOT_DISPLAYED'}, {'title': 'FREQ=A,SEX=SEX_T,ECO=ECO_TOTNAG_NAG+ECO_TOTNAG_TOTAL,IFL=IFL_COMP_FRMEMP+IFL_COMP_FRMSECTOR+IFL_COMP_OFS+IFL_COMP_INFEMP+IFL_COMP_EMP,LASTNOBSERVATIONS=1', 'type': 'DEFAULT'}, {'type': 'EXT_RESOURCE', 'text': 'Full CSV (ILO Bulk)|https://www.ilo.org/ilostat-files/WEB_bulk_download/indicator/IFL_4IEM_SEX_ECO_IFL_RT_A.csv.gz', 'texts': {'en': 'Full CSV (ILO Bulk)|https://www.ilo.org/ilostat-files/WEB_bulk_download/indicator/IFL_4IEM_SEX_ECO_IFL_RT_A.csv.gz'}}, {'title': '120', 'type': 'ORDER'}, {'type': 'ORDER', 'text': '10025', 'texts': {'en': '10025'}}, {'title': 'N', 'type': 'GROUP'}, {'title': 'AO', 'type': 'ISO2Code'}, {'title': '024', 'type': 'M49Code'}, {'title': 'X06', 'type': 'ILO_REGION'}, {'title': 'X03', 'type': 'WB_INCOME_GROUP'}, {'type': 'ORDER', 'text': '10005', 'texts': {'en': '10005'}}, {'title': 'AL', 'type': 'ISO2Code'}, {'title': '008', 'type': 'M49Code'}, {'title': 'X60', 'type': 'ILO_REGION'}, {'title': 'X04', 'type': 'WB_INCOME_GROUP'}, {'type': 'ORDER', 'text': '10040', 'texts': {'en': '10040'}}, {'title': 'AR', 'type': 'ISO2Code'}, {'title': '032', 'type': 'M49Code'}, {'title': 'X21', 'type': 'ILO_REGION'}, {'type': 'ORDER', 'text': '10045', 'texts': {'en': '10045'}}, {'title': 'AM', 'type': 'ISO2Code'}, {'title': '051', 'type': 'M49Code'}, {'type': 'ORDER', 'text': '10160', 'texts': {'en': '10160'}}, {'title': 'BI', 'type': 'ISO2Code'}, {'title': '108', 'type': 'M49Code'}, {'title': 'X02', 'type': 'WB_INCOME_GROUP'}, {'type': 'ORDER', 'text': '10105', 'texts': {'en': '10105'}}, {'title': 'BJ', 'type': 'ISO2Code'}, {'title': '204', 'type': 'M49Code'}, {'type': 'ORDER', 'text': '10155', 'texts': {'en': '10155'}}, {'title': 'BF', 'type': 'ISO2Code'}, {'title': '854', 'type': 'M49Code'}, {'type': 'ORDER', 'text': '10080', 'texts': {'en': '10080'}}, {'title': 'BD', 'type': 'ISO2Code'}, {'title': '050', 'type': 'M49Code'}, {'title': 'X40', 'type': 'ILO_REGION'}, {'type': 'ORDER', 'text': '10125', 'texts': {'en': '10125'}}, {'title': 'BA', 'type': 'ISO2Code'}, {'title': '070', 'type': 'M49Code'}, {'type': 'ORDER', 'text': '10120', 'texts': {'en': '10120'}}, {'title': 'BO', 'type': 'ISO2Code'}, {'title': '068', 'type': 'M49Code'}, {'type': 'ORDER', 'text': '10135', 'texts': {'en': '10135'}}, {'title': 'BR', 'type': 'ISO2Code'}, {'title': '076', 'type': 'M49Code'}, {'type': 'ORDER', 'text': '10145', 'texts': {'en': '10145'}}, {'title': 'BN', 'type': 'ISO2Code'}, {'title': '096', 'type': 'M49Code'}, {'title': 'X05', 'type': 'WB_INCOME_GROUP'}, {'type': 'ORDER', 'text': '10205', 'texts': {'en': '10205'}}, {'title': 'CL', 'type': 'ISO2Code'}, {'title': '152', 'type': 'M49Code'}, {'type': 'ORDER', 'text': '10275', 'texts': {'en': '10275'}}, {'title': 'CI', 'type': 'ISO2Code'}, {'title': '384', 'type': 'M49Code'}, {'type': 'ORDER', 'text': '10170', 'texts': {'en': '10170'}}, {'title': 'CM', 'type': 'ISO2Code'}, {'title': '120', 'type': 'M49Code'}, {'type': 'ORDER', 'text': '10215', 'texts': {'en': '10215'}}, {'title': 'CO', 'type': 'ISO2Code'}, {'title': '170', 'type': 'M49Code'}, {'type': 'ORDER', 'text': '10220', 'texts': {'en': '10220'}}, {'title': 'KM', 'type': 'ISO2Code'}, {'title': '174', 'type': 'M49Code'}, {'type': 'ORDER', 'text': '10180', 'texts': {'en': '10180'}}, {'title': 'CV', 'type': 'ISO2Code'}, {'title': '132', 'type': 'M49Code'}, {'type': 'ORDER', 'text': '10240', 'texts': {'en': '10240'}}, {'title': 'CR', 'type': 'ISO2Code'}, {'title': '188', 'type': 'M49Code'}, {'type': 'ORDER', 'text': '10295', 'texts': {'en': '10295'}}, {'title': 'DO', 'type': 'ISO2Code'}, {'title': '214', 'type': 'M49Code'}, {'type': 'ORDER', 'text': '10300', 'texts': {'en': '10300'}}, {'title': 'EC', 'type': 'ISO2Code'}, {'title': '218', 'type': 'M49Code'}, {'type': 'ORDER', 'text': '10305', 'texts': {'en': '10305'}}, {'title': 'EG', 'type': 'ISO2Code'}, {'title': '818', 'type': 'M49Code'}, {'type': 'ORDER', 'text': '10330', 'texts': {'en': '10330'}}, {'title': 'ET', 'type': 'ISO2Code'}, {'title': '231', 'type': 'M49Code'}, {'type': 'ORDER', 'text': '10350', 'texts': {'en': '10350'}}, {'title': 'FJ', 'type': 'ISO2Code'}, {'title': '242', 'type': 'M49Code'}, {'type': 'ORDER', 'text': '10410', 'texts': {'en': '10410'}}, {'title': 'GH', 'type': 'ISO2Code'}, {'title': '288', 'type': 'M49Code'}, {'type': 'ORDER', 'text': '10380', 'texts': {'en': '10380'}}, {'title': 'GM', 'type': 'ISO2Code'}, {'title': '270', 'type': 'M49Code'}, {'type': 'ORDER', 'text': '10445', 'texts': {'en': '10445'}}, {'title': 'GT', 'type': 'ISO2Code'}, {'title': '320', 'type': 'M49Code'}, {'type': 'ORDER', 'text': '10465', 'texts': {'en': '10465'}}, {'title': 'GY', 'type': 'ISO2Code'}, {'title': '328', 'type': 'M49Code'}, {'type': 'ORDER', 'text': '10475', 'texts': {'en': '10475'}}, {'title': 'HN', 'type': 'ISO2Code'}, {'title': '340', 'type': 'M49Code'}, {'type': 'ORDER', 'text': '10470', 'texts': {'en': '10470'}}, {'title': 'HT', 'type': 'ISO2Code'}, {'title': '332', 'type': 'M49Code'}, {'type': 'ORDER', 'text': '10500', 'texts': {'en': '10500'}}, {'title': 'ID', 'type': 'ISO2Code'}, {'title': '360', 'type': 'M49Code'}, {'type': 'ORDER', 'text': '10495', 'texts': {'en': '10495'}}, {'title': 'IN', 'type': 'ISO2Code'}, {'title': '356', 'type': 'M49Code'}, {'type': 'ORDER', 'text': '10590', 'texts': {'en': '10590'}}, {'title': 'KG', 'type': 'ISO2Code'}, {'title': '417', 'type': 'M49Code'}, {'type': 'ORDER', 'text': '10165', 'texts': {'en': '10165'}}, {'title': 'KH', 'type': 'ISO2Code'}, {'title': '116', 'type': 'M49Code'}, {'type': 'ORDER', 'text': '10595', 'texts': {'en': '10595'}}, {'title': 'LA', 'type': 'ISO2Code'}, {'title': '418', 'type': 'M49Code'}, {'type': 'ORDER', 'text': '10615', 'texts': {'en': '10615'}}, {'title': 'LR', 'type': 'ISO2Code'}, {'title': '430', 'type': 'M49Code'}, {'type': 'ORDER', 'text': '10935', 'texts': {'en': '10935'}}, {'title': 'LC', 'type': 'ISO2Code'}, {'title': '662', 'type': 'M49Code'}, {'type': 'ORDER', 'text': '11045', 'texts': {'en': '11045'}}, {'title': 'LK', 'type': 'ISO2Code'}, {'title': '144', 'type': 'M49Code'}, {'type': 'ORDER', 'text': '10730', 'texts': {'en': '10730'}}, {'title': 'MD', 'type': 'ISO2Code'}, {'title': '498', 'type': 'M49Code'}, {'type': 'ORDER', 'text': '10650', 'texts': {'en': '10650'}}, {'title': 'MG', 'type': 'ISO2Code'}, {'title': '450', 'type': 'M49Code'}, {'type': 'ORDER', 'text': '10680', 'texts': {'en': '10680'}}, {'title': 'MV', 'type': 'ISO2Code'}, {'title': '462', 'type': 'M49Code'}, {'type': 'ORDER', 'text': '10685', 'texts': {'en': '10685'}}, {'title': 'ML', 'type': 'ISO2Code'}, {'title': '466', 'type': 'M49Code'}, {'type': 'ORDER', 'text': '10765', 'texts': {'en': '10765'}}, {'title': 'MM', 'type': 'ISO2Code'}, {'title': '104', 'type': 'M49Code'}, {'type': 'ORDER', 'text': '10740', 'texts': {'en': '10740'}}, {'title': 'MN', 'type': 'ISO2Code'}, {'title': '496', 'type': 'M49Code'}, {'type': 'ORDER', 'text': '10760', 'texts': {'en': '10760'}}, {'title': 'MZ', 'type': 'ISO2Code'}, {'title': '508', 'type': 'M49Code'}, {'type': 'ORDER', 'text': '10705', 'texts': {'en': '10705'}}, {'title': 'MR', 'type': 'ISO2Code'}, {'title': '478', 'type': 'M49Code'}, {'type': 'ORDER', 'text': '10710', 'texts': {'en': '10710'}}, {'title': 'MU', 'type': 'ISO2Code'}, {'title': '480', 'type': 'M49Code'}, {'type': 'ORDER', 'text': '10770', 'texts': {'en': '10770'}}, {'title': 'NA', 'type': 'ISO2Code'}, {'title': '516', 'type': 'M49Code'}, {'type': 'ORDER', 'text': '10810', 'texts': {'en': '10810'}}, {'title': 'NE', 'type': 'ISO2Code'}, {'title': '562', 'type': 'M49Code'}, {'type': 'ORDER', 'text': '10805', 'texts': {'en': '10805'}}, {'title': 'NI', 'type': 'ISO2Code'}, {'title': '558', 'type': 'M49Code'}, {'type': 'ORDER', 'text': '10780', 'texts': {'en': '10780'}}, {'title': 'NP', 'type': 'ISO2Code'}, {'title': '524', 'type': 'M49Code'}, {'type': 'ORDER', 'text': '10850', 'texts': {'en': '10850'}}, {'title': 'PK', 'type': 'ISO2Code'}, {'title': '586', 'type': 'M49Code'}, {'type': 'ORDER', 'text': '10860', 'texts': {'en': '10860'}}, {'title': 'PA', 'type': 'ISO2Code'}, {'title': '591', 'type': 'M49Code'}, {'type': 'ORDER', 'text': '10875', 'texts': {'en': '10875'}}, {'title': 'PE', 'type': 'ISO2Code'}, {'title': '604', 'type': 'M49Code'}, {'type': 'ORDER', 'text': '10870', 'texts': {'en': '10870'}}, {'title': 'PY', 'type': 'ISO2Code'}, {'title': '600', 'type': 'M49Code'}, {'type': 'ORDER', 'text': '10840', 'texts': {'en': '10840'}}, {'title': 'PS', 'type': 'ISO2Code'}, {'title': '275', 'type': 'M49Code'}, {'title': 'X36', 'type': 'ILO_REGION'}, {'type': 'ORDER', 'text': '10910', 'texts': {'en': '10910'}}, {'title': 'RU', 'type': 'ISO2Code'}, {'title': '643', 'type': 'M49Code'}, {'type': 'ORDER', 'text': '10915', 'texts': {'en': '10915'}}, {'title': 'RW', 'type': 'ISO2Code'}, {'title': '646', 'type': 'M49Code'}, {'type': 'ORDER', 'text': '11050', 'texts': {'en': '11050'}}, {'title': 'SD', 'type': 'ISO2Code'}, {'title': '729', 'type': 'M49Code'}, {'type': 'ORDER', 'text': '10975', 'texts': {'en': '10975'}}, {'title': 'SN', 'type': 'ISO2Code'}, {'title': '686', 'type': 'M49Code'}, {'type': 'ORDER', 'text': '10310', 'texts': {'en': '10310'}}, {'title': 'SV', 'type': 'ISO2Code'}, {'title': '222', 'type': 'M49Code'}, {'type': 'ORDER', 'text': '10980', 'texts': {'en': '10980'}}, {'title': 'RS', 'type': 'ISO2Code'}, {'title': '688', 'type': 'M49Code'}, {'type': 'ORDER', 'text': '10327', 'texts': {'en': '10327'}}, {'title': 'SZ', 'type': 'ISO2Code'}, {'title': '748', 'type': 'M49Code'}, {'type': 'ORDER', 'text': '10990', 'texts': {'en': '10990'}}, {'title': 'SC', 'type': 'ISO2Code'}, {'title': '690', 'type': 'M49Code'}, {'type': 'ORDER', 'text': '11115', 'texts': {'en': '11115'}}, {'title': 'TG', 'type': 'ISO2Code'}, {'title': '768', 'type': 'M49Code'}, {'type': 'ORDER', 'text': '11105', 'texts': {'en': '11105'}}, {'title': 'TH', 'type': 'ISO2Code'}, {'title': '764', 'type': 'M49Code'}, {'type': 'ORDER', 'text': '11110', 'texts': {'en': '11110'}}, {'title': 'TL', 'type': 'ISO2Code'}, {'title': '626', 'type': 'M49Code'}, {'type': 'ORDER', 'text': '11125', 'texts': {'en': '11125'}}, {'title': 'TO', 'type': 'ISO2Code'}, {'title': '776', 'type': 'M49Code'}, {'type': 'ORDER', 'text': '11100', 'texts': {'en': '11100'}}, {'title': 'TZ', 'type': 'ISO2Code'}, {'title': '834', 'type': 'M49Code'}, {'type': 'ORDER', 'text': '11165', 'texts': {'en': '11165'}}, {'title': 'UG', 'type': 'ISO2Code'}, {'title': '800', 'type': 'M49Code'}, {'type': 'ORDER', 'text': '11195', 'texts': {'en': '11195'}}, {'title': 'UY', 'type': 'ISO2Code'}, {'title': '858', 'type': 'M49Code'}, {'type': 'ORDER', 'text': '11215', 'texts': {'en': '11215'}}, {'title': 'VN', 'type': 'ISO2Code'}, {'title': '704', 'type': 'M49Code'}, {'type': 'ORDER', 'text': '10955', 'texts': {'en': '10955'}}, {'title': 'WS', 'type': 'ISO2Code'}, {'title': '882', 'type': 'M49Code'}, {'type': 'ORDER', 'text': '11230', 'texts': {'en': '11230'}}, {'title': 'YE', 'type': 'ISO2Code'}, {'title': '887', 'type': 'M49Code'}, {'type': 'ORDER', 'text': '11030', 'texts': {'en': '11030'}}, {'title': 'ZA', 'type': 'ISO2Code'}, {'title': '710', 'type': 'M49Code'}, {'type': 'ORDER', 'text': '11250', 'texts': {'en': '11250'}}, {'title': 'ZM', 'type': 'ISO2Code'}, {'title': '894', 'type': 'M49Code'}, {'type': 'ORDER', 'text': '11255', 'texts': {'en': '11255'}}, {'title': 'ZW', 'type': 'ISO2Code'}, {'title': '716', 'type': 'M49Code'}, {'title': '20', 'type': 'ORDER'}, {'title': '999', 'type': 'ORDER'}, {'type': 'NAME_COMPLEMENT'}, {'title': '10010', 'type': 'ORDER'}, {'title': 'Y', 'type': 'IS_TOTAL'}, {'title': '10020', 'type': 'ORDER'}, {'title': 'N', 'type': 'IS_TOTAL'}, {'title': '10030', 'type': 'ORDER'}, {'title': '10040', 'type': 'ORDER'}, {'title': '13890', 'type': 'ORDER'}, {'title': '13910', 'type': 'ORDER'}, {'title': '10', 'type': 'ORDER'}, {'title': '13', 'type': 'ORDER'}, {'title': '30', 'type': 'ORDER'}, {'title': '190', 'type': 'ORDER'}]}}}\n"
     ]
    }
   ],
   "source": [
    "# Checking to see if ILO data can be retrieved from their SDMX data warehouse\n",
    "url = \"https://www.ilo.org/sdmx/rest/data/ILO,DF_YI_ALL_IFL_4IEM_SEX_ECO_IFL_RT/?format=jsondata&startPeriod=2010-01-01&endPeriod=2020-12-31\"\n",
    "\n",
    "response = requests.get(url)\n",
    "\n",
    "my_json = json.loads(response.text)\n",
    "\n",
    "type(my_json)\n",
    "\n",
    "# response = json.loads(response.text)\n",
    "\n",
    "print(my_json)\n",
    "\n",
    "\n",
    "\n"
   ]
  },
  {
   "cell_type": "code",
   "execution_count": 41,
   "metadata": {},
   "outputs": [],
   "source": [
    "# Check out the UN SDG Goals API\n",
    "\n",
    "url = \"https://unstats.un.org/SDGAPI/v1/sdg/Indicator/VC_HTF_DETV%20/Series/List\"\n",
    "\n",
    "response = requests.get(url)\n",
    "\n",
    "my_json = json.loads(response.text)"
   ]
  },
  {
   "cell_type": "code",
   "execution_count": 42,
   "metadata": {},
   "outputs": [
    {
     "data": {
      "text/plain": [
       "[]"
      ]
     },
     "execution_count": 42,
     "metadata": {},
     "output_type": "execute_result"
    }
   ],
   "source": [
    "# S-11\n",
    "url = 'https://outoftheshadows.eiu.com/wp-content/uploads/2019/05/OOSI_Out_of_the_shadows_index_60-countries_May2019.xlsm'\n",
    "\n",
    "data = pd.read_excel(url,\n",
    "                    sheet_name = 'Dataset',\n",
    "                    skiprows = 13)"
   ]
  },
  {
   "cell_type": "code",
   "execution_count": null,
   "metadata": {},
   "outputs": [],
   "source": [
    "# s15_data.groupby(['REF_AREA'], sort = False)[['TIME_PERIOD', 'OBS_VALUE']].max()\n",
    "# s15_data.groupby(['REF_AREA'], sort = False).max()\n"
   ]
  }
 ],
 "metadata": {
  "kernelspec": {
   "display_name": "Python 3",
   "language": "python",
   "name": "python3"
  },
  "language_info": {
   "codemirror_mode": {
    "name": "ipython",
    "version": 3
   },
   "file_extension": ".py",
   "mimetype": "text/x-python",
   "name": "python",
   "nbconvert_exporter": "python",
   "pygments_lexer": "ipython3",
   "version": "3.7.6"
  },
  "toc": {
   "base_numbering": 1,
   "nav_menu": {},
   "number_sections": true,
   "sideBar": true,
   "skip_h1_title": false,
   "title_cell": "Table of Contents",
   "title_sidebar": "Contents",
   "toc_cell": true,
   "toc_position": {
    "height": "calc(100% - 180px)",
    "left": "10px",
    "top": "150px",
    "width": "381.4px"
   },
   "toc_section_display": true,
   "toc_window_display": true
  }
 },
 "nbformat": 4,
 "nbformat_minor": 4
}
