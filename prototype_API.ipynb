{
 "cells": [
  {
   "cell_type": "code",
   "execution_count": 1,
   "metadata": {},
   "outputs": [],
   "source": [
    "# API request for one indicator"
   ]
  },
  {
   "cell_type": "code",
   "execution_count": 2,
   "metadata": {},
   "outputs": [],
   "source": [
    "from fileUtils import fileDownload\n",
    "from webScrape import transMonEE_web\n",
    "from sdmx import sdmx_struc\n",
    "import pandas as pd\n",
    "import io"
   ]
  },
  {
   "cell_type": "code",
   "execution_count": 3,
   "metadata": {},
   "outputs": [],
   "source": [
    "# TransMonEE list of countries from url web\n",
    "url_transmonee = 'http://transmonee.org/countries/'\n",
    "country_names = transMonEE_web.get_countries(url_transmonee)"
   ]
  },
  {
   "cell_type": "code",
   "execution_count": 4,
   "metadata": {},
   "outputs": [],
   "source": [
    "# UNICEF’s REST API data endpoint\n",
    "url_api = 'https://unicef.sdmxcloud.org/ws/public/sdmxapi/rest/data/'\n",
    "# Dataflow information\n",
    "d_flow = {'agency_id':'UNICEF', 'id_flow':'DM' ,'version':'1.0'}"
   ]
  },
  {
   "cell_type": "code",
   "execution_count": 5,
   "metadata": {},
   "outputs": [],
   "source": [
    "# Request Dataflow structure, that provides important info:\n",
    "# _ number of dimensions: required to properly point the API call\n",
    "# _ country codes (not every Dataflow share the same country codes)\n",
    "\n",
    "# address for dataflow structure request\n",
    "api_address = url_api + ','.join(d_flow.values()) + '/all'\n",
    "# parameters for dataflow structure request\n",
    "api_params = {'format':'sdmx-json', 'detail':'structureOnly'}\n",
    "\n",
    "# API request (dataflow structure)\n",
    "d_flow_struc = fileDownload.api_request(api_address,api_params)"
   ]
  },
  {
   "cell_type": "code",
   "execution_count": 6,
   "metadata": {},
   "outputs": [
    {
     "name": "stdout",
     "output_type": "stream",
     "text": [
      "DataFlow DM has 6 dimensions\n"
     ]
    }
   ],
   "source": [
    "# get number of dimensions in SDMX dataflow\n",
    "n_dim = sdmx_struc.get_sdmx_dim(d_flow_struc.json())\n",
    "print(f\"DataFlow {d_flow['id_flow']} has {n_dim} dimensions\")"
   ]
  },
  {
   "cell_type": "code",
   "execution_count": 7,
   "metadata": {},
   "outputs": [],
   "source": [
    "# get country codes dictionary from SDMX dataflow\n",
    "country_codes = sdmx_struc.get_country_code(country_names,d_flow_struc.json())"
   ]
  },
  {
   "cell_type": "code",
   "execution_count": 8,
   "metadata": {},
   "outputs": [],
   "source": [
    "# Indicator annual births, Helix: DM_BRTS\n",
    "indicator_code = 'DM_BRTS'"
   ]
  },
  {
   "cell_type": "code",
   "execution_count": 9,
   "metadata": {},
   "outputs": [],
   "source": [
    "# Join all countries required\n",
    "country_call = '+'.join(country_codes.values())\n",
    "\n",
    "# address for indicator request\n",
    "# Assumes SDMX key position 1: countries, key position 2: indicator, remaining key positions empty\n",
    "# SMDX key positions are separated by points\n",
    "\n",
    "# make more clear in a function?\n",
    "api_address = url_api + ','.join(d_flow.values()) + '/' + country_call + '.' + indicator_code + '.'*(n_dim-2)\n",
    "# parameters for indicator request\n",
    "api_params = {'format':'csv'}"
   ]
  },
  {
   "cell_type": "code",
   "execution_count": 10,
   "metadata": {},
   "outputs": [],
   "source": [
    "# API request indicator\n",
    "data_set = fileDownload.api_request(api_address,api_params)"
   ]
  },
  {
   "cell_type": "code",
   "execution_count": 11,
   "metadata": {},
   "outputs": [
    {
     "data": {
      "text/html": [
       "<div>\n",
       "<style scoped>\n",
       "    .dataframe tbody tr th:only-of-type {\n",
       "        vertical-align: middle;\n",
       "    }\n",
       "\n",
       "    .dataframe tbody tr th {\n",
       "        vertical-align: top;\n",
       "    }\n",
       "\n",
       "    .dataframe thead th {\n",
       "        text-align: right;\n",
       "    }\n",
       "</style>\n",
       "<table border=\"1\" class=\"dataframe\">\n",
       "  <thead>\n",
       "    <tr style=\"text-align: right;\">\n",
       "      <th></th>\n",
       "      <th>Geographic area</th>\n",
       "      <th>Indicator</th>\n",
       "      <th>Residence</th>\n",
       "      <th>Sex</th>\n",
       "      <th>Current age</th>\n",
       "      <th>Unit of measure</th>\n",
       "      <th>Unit multiplier</th>\n",
       "      <th>SOURCE_LINK</th>\n",
       "      <th>SERIES_FOOTNOTE</th>\n",
       "      <th>TIME_PERIOD</th>\n",
       "      <th>OBS_VALUE</th>\n",
       "      <th>Observation Status</th>\n",
       "      <th>Observation confidentaility</th>\n",
       "      <th>DATA_SOURCE</th>\n",
       "      <th>COVERAGE_TIME</th>\n",
       "      <th>Time interval at which the source data are collected</th>\n",
       "      <th>TIME_PERIOD_METHOD</th>\n",
       "      <th>OBS_FOOTNOTE</th>\n",
       "    </tr>\n",
       "  </thead>\n",
       "  <tbody>\n",
       "    <tr>\n",
       "      <th>0</th>\n",
       "      <td>Albania</td>\n",
       "      <td>Number of births</td>\n",
       "      <td>Total</td>\n",
       "      <td>Total</td>\n",
       "      <td>Total</td>\n",
       "      <td>Persons</td>\n",
       "      <td>Thousands</td>\n",
       "      <td>NaN</td>\n",
       "      <td>NaN</td>\n",
       "      <td>2018</td>\n",
       "      <td>33.931</td>\n",
       "      <td>NaN</td>\n",
       "      <td>NaN</td>\n",
       "      <td>UNPD2019</td>\n",
       "      <td>NaN</td>\n",
       "      <td>NaN</td>\n",
       "      <td>NaN</td>\n",
       "      <td>NaN</td>\n",
       "    </tr>\n",
       "    <tr>\n",
       "      <th>1</th>\n",
       "      <td>Azerbaijan</td>\n",
       "      <td>Number of births</td>\n",
       "      <td>Total</td>\n",
       "      <td>Total</td>\n",
       "      <td>Total</td>\n",
       "      <td>Persons</td>\n",
       "      <td>Thousands</td>\n",
       "      <td>NaN</td>\n",
       "      <td>NaN</td>\n",
       "      <td>2018</td>\n",
       "      <td>166.969</td>\n",
       "      <td>NaN</td>\n",
       "      <td>NaN</td>\n",
       "      <td>UNPD2019</td>\n",
       "      <td>NaN</td>\n",
       "      <td>NaN</td>\n",
       "      <td>NaN</td>\n",
       "      <td>NaN</td>\n",
       "    </tr>\n",
       "    <tr>\n",
       "      <th>2</th>\n",
       "      <td>Armenia</td>\n",
       "      <td>Number of births</td>\n",
       "      <td>Total</td>\n",
       "      <td>Total</td>\n",
       "      <td>Total</td>\n",
       "      <td>Persons</td>\n",
       "      <td>Thousands</td>\n",
       "      <td>NaN</td>\n",
       "      <td>NaN</td>\n",
       "      <td>2018</td>\n",
       "      <td>41.197</td>\n",
       "      <td>NaN</td>\n",
       "      <td>NaN</td>\n",
       "      <td>UNPD2019</td>\n",
       "      <td>NaN</td>\n",
       "      <td>NaN</td>\n",
       "      <td>NaN</td>\n",
       "      <td>NaN</td>\n",
       "    </tr>\n",
       "    <tr>\n",
       "      <th>3</th>\n",
       "      <td>Bosnia and Herzegovina</td>\n",
       "      <td>Number of births</td>\n",
       "      <td>Total</td>\n",
       "      <td>Total</td>\n",
       "      <td>Total</td>\n",
       "      <td>Persons</td>\n",
       "      <td>Thousands</td>\n",
       "      <td>NaN</td>\n",
       "      <td>NaN</td>\n",
       "      <td>2018</td>\n",
       "      <td>27.133</td>\n",
       "      <td>NaN</td>\n",
       "      <td>NaN</td>\n",
       "      <td>UNPD2019</td>\n",
       "      <td>NaN</td>\n",
       "      <td>NaN</td>\n",
       "      <td>NaN</td>\n",
       "      <td>NaN</td>\n",
       "    </tr>\n",
       "    <tr>\n",
       "      <th>4</th>\n",
       "      <td>Bulgaria</td>\n",
       "      <td>Number of births</td>\n",
       "      <td>Total</td>\n",
       "      <td>Total</td>\n",
       "      <td>Total</td>\n",
       "      <td>Persons</td>\n",
       "      <td>Thousands</td>\n",
       "      <td>NaN</td>\n",
       "      <td>NaN</td>\n",
       "      <td>2018</td>\n",
       "      <td>62.823</td>\n",
       "      <td>NaN</td>\n",
       "      <td>NaN</td>\n",
       "      <td>UNPD2019</td>\n",
       "      <td>NaN</td>\n",
       "      <td>NaN</td>\n",
       "      <td>NaN</td>\n",
       "      <td>NaN</td>\n",
       "    </tr>\n",
       "  </tbody>\n",
       "</table>\n",
       "</div>"
      ],
      "text/plain": [
       "          Geographic area         Indicator Residence    Sex Current age  \\\n",
       "0                 Albania  Number of births     Total  Total       Total   \n",
       "1              Azerbaijan  Number of births     Total  Total       Total   \n",
       "2                 Armenia  Number of births     Total  Total       Total   \n",
       "3  Bosnia and Herzegovina  Number of births     Total  Total       Total   \n",
       "4                Bulgaria  Number of births     Total  Total       Total   \n",
       "\n",
       "  Unit of measure Unit multiplier  SOURCE_LINK  SERIES_FOOTNOTE  TIME_PERIOD  \\\n",
       "0         Persons       Thousands          NaN              NaN         2018   \n",
       "1         Persons       Thousands          NaN              NaN         2018   \n",
       "2         Persons       Thousands          NaN              NaN         2018   \n",
       "3         Persons       Thousands          NaN              NaN         2018   \n",
       "4         Persons       Thousands          NaN              NaN         2018   \n",
       "\n",
       "   OBS_VALUE  Observation Status  Observation confidentaility DATA_SOURCE  \\\n",
       "0     33.931                 NaN                          NaN    UNPD2019   \n",
       "1    166.969                 NaN                          NaN    UNPD2019   \n",
       "2     41.197                 NaN                          NaN    UNPD2019   \n",
       "3     27.133                 NaN                          NaN    UNPD2019   \n",
       "4     62.823                 NaN                          NaN    UNPD2019   \n",
       "\n",
       "   COVERAGE_TIME  Time interval at which the source data are collected  \\\n",
       "0            NaN                                                NaN      \n",
       "1            NaN                                                NaN      \n",
       "2            NaN                                                NaN      \n",
       "3            NaN                                                NaN      \n",
       "4            NaN                                                NaN      \n",
       "\n",
       "   TIME_PERIOD_METHOD  OBS_FOOTNOTE  \n",
       "0                 NaN           NaN  \n",
       "1                 NaN           NaN  \n",
       "2                 NaN           NaN  \n",
       "3                 NaN           NaN  \n",
       "4                 NaN           NaN  "
      ]
     },
     "execution_count": 11,
     "metadata": {},
     "output_type": "execute_result"
    }
   ],
   "source": [
    "# Read strings as pandas dataframe\n",
    "data_set_df = pd.read_csv(io.StringIO(data_set.content.decode('utf-8')))\n",
    "data_set_df.head()"
   ]
  },
  {
   "cell_type": "code",
   "execution_count": 12,
   "metadata": {},
   "outputs": [],
   "source": [
    "# write data_set to destination file\n",
    "dest_path = './tmee_data_download/'\n",
    "dest_file = f\"{dest_path}{indicator_code}.csv\"\n",
    "with open(dest_file, 'w+') as f:\n",
    "    f.write(data_set.content.decode('utf-8'))"
   ]
  }
 ],
 "metadata": {
  "kernelspec": {
   "display_name": "Python 3",
   "language": "python",
   "name": "python3"
  },
  "language_info": {
   "codemirror_mode": {
    "name": "ipython",
    "version": 3
   },
   "file_extension": ".py",
   "mimetype": "text/x-python",
   "name": "python",
   "nbconvert_exporter": "python",
   "pygments_lexer": "ipython3",
   "version": "3.7.6"
  }
 },
 "nbformat": 4,
 "nbformat_minor": 4
}
